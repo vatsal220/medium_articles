{
 "cells": [
  {
   "cell_type": "markdown",
   "id": "42354dae-8ace-4472-83d3-10805d1ca2aa",
   "metadata": {},
   "source": [
    "# Graph Embeddings"
   ]
  },
  {
   "cell_type": "code",
   "execution_count": 1,
   "id": "4a0d8799-6f10-49d8-b463-83ee707b5922",
   "metadata": {},
   "outputs": [],
   "source": [
    "# from os.path import basename\n",
    "# from os.path import join\n",
    "# from os import makedirs\n",
    "# from urllib.request import urlopen\n",
    "# from urllib.parse import urljoin\n",
    "# from bs4 import BeautifulSoup\n",
    "# import re\n",
    " \n",
    "# # download html and return parsed doc or None on error\n",
    "# def download_url(urlpath):\n",
    "#     try:\n",
    "#         # open a connection to the server\n",
    "#         with urlopen(urlpath, timeout=3) as connection:\n",
    "#             # read the contents of the html doc\n",
    "#             return connection.read()\n",
    "#     except:\n",
    "#         # bad url, socket timeout, http forbidden, etc.\n",
    "#         return None\n",
    "     \n",
    "    \n",
    "# # decode downloaded html and extract all <a href=\"\"> links\n",
    "# def get_urls_from_html(content):\n",
    "#     # decode the provided content as ascii text\n",
    "#     html = content.decode('utf-8')\n",
    "#     # parse the document as best we can\n",
    "#     soup = BeautifulSoup(html, 'html.parser')\n",
    "#     # find all all of the <a href=\"\"> tags in the document\n",
    "#     atags = soup.find_all('a')\n",
    "#     # get all links from a tags\n",
    "#     return [tag.get('href') for tag in atags]\n",
    " \n",
    "# # return all book unique identifiers from a list of raw links\n",
    "# def get_book_identifiers(links):\n",
    "#     # define a url pattern we are looking for\n",
    "#     pattern = re.compile('/ebooks/[0-9]+')\n",
    "#     # process the list of links for those that match the pattern\n",
    "#     books = set()\n",
    "#     for link in links:\n",
    "#         # check of the link matches the pattern\n",
    "#         if not pattern.match(link):\n",
    "#             continue\n",
    "#         # extract the book id from /ebooks/nnn\n",
    "#         book_id = link[8:]\n",
    "#         # store in the set, only keep unique ids\n",
    "#         books.add(book_id)\n",
    "#     return books\n",
    " \n",
    "# # download one book from project gutenberg\n",
    "# def download_book(book_id, save_path):\n",
    "#     # construct the download url\n",
    "#     url = f'https://www.gutenberg.org/files/{book_id}/{book_id}-0.txt'\n",
    "#     # download the content\n",
    "#     data = download_url(url)\n",
    "#     if data is None:\n",
    "#         return f'Failed to download {url}'\n",
    "#     # create local path\n",
    "#     save_file = join(save_path, f'{book_id}.txt')\n",
    "#     # save book to file\n",
    "#     with open(save_file, 'wb') as file:\n",
    "#         file.write(data)\n",
    "#     return f'Saved {save_file}'\n",
    " \n",
    "# # download all top books from project gutenberg\n",
    "# def download_all_books(url, save_path):\n",
    "#     # download the page that lists top books\n",
    "#     data = download_url(url)\n",
    "#     print(f'.downloaded {url}')\n",
    "#     # extract all links from the page\n",
    "#     links = get_urls_from_html(data)\n",
    "#     print(f'.found {len(links)} links on the page')\n",
    "#     # retrieve all unique book ids\n",
    "#     book_ids = get_book_identifiers(links)\n",
    "#     print(f'.found {len(book_ids)} unique book ids')\n",
    "#     # create the save directory if needed\n",
    "#     makedirs(save_path, exist_ok=True)\n",
    "#     # download and save each book in turn\n",
    "#     for book_id in book_ids:\n",
    "#         # download and save this book\n",
    "#         result = download_book(book_id, save_path)\n",
    "#         # report result\n",
    "#         print(result)\n",
    "#     return \n",
    "# URL = 'https://www.gutenberg.org/browse/scores/top'\n",
    "# DIR = 'books'\n",
    "# # download top books\n",
    "# download_all_books(URL, DIR)"
   ]
  },
  {
   "cell_type": "code",
   "execution_count": null,
   "id": "9ed6b1e4-c943-4bba-af53-b96016875de3",
   "metadata": {},
   "outputs": [],
   "source": []
  },
  {
   "cell_type": "code",
   "execution_count": null,
   "id": "f3b42909-ac26-4331-9b98-34a0a05852df",
   "metadata": {},
   "outputs": [],
   "source": []
  },
  {
   "cell_type": "code",
   "execution_count": null,
   "id": "81d13a98-f9c4-466e-b81b-6c0bb4707538",
   "metadata": {},
   "outputs": [],
   "source": []
  },
  {
   "cell_type": "code",
   "execution_count": null,
   "id": "1e4b4ab7-09ff-4f80-bb17-0f0d477f4067",
   "metadata": {},
   "outputs": [],
   "source": []
  },
  {
   "cell_type": "code",
   "execution_count": null,
   "id": "ffd1bc19-6246-4269-ab28-d4847bcaed8c",
   "metadata": {},
   "outputs": [],
   "source": []
  },
  {
   "cell_type": "code",
   "execution_count": null,
   "id": "ec058a6b-0110-4203-ba96-9f5736c787c8",
   "metadata": {},
   "outputs": [],
   "source": []
  },
  {
   "cell_type": "code",
   "execution_count": null,
   "id": "9d9b6084-5cab-446b-ba23-a68e38c282c9",
   "metadata": {},
   "outputs": [],
   "source": []
  },
  {
   "cell_type": "code",
   "execution_count": null,
   "id": "8275b471-8bce-4100-a843-b330dfb8e9bb",
   "metadata": {},
   "outputs": [],
   "source": []
  },
  {
   "cell_type": "code",
   "execution_count": null,
   "id": "b86f4082-1a70-4ff1-ae27-66c4abfcd465",
   "metadata": {},
   "outputs": [],
   "source": []
  },
  {
   "cell_type": "code",
   "execution_count": null,
   "id": "676a67fb-ad28-440b-8d17-8e54a2192a4b",
   "metadata": {},
   "outputs": [],
   "source": []
  },
  {
   "cell_type": "markdown",
   "id": "84c499ec-52e0-4ffd-9510-e26a948ddac3",
   "metadata": {},
   "source": [
    "## Resources"
   ]
  },
  {
   "cell_type": "markdown",
   "id": "5cabac5a-8e21-40bb-bc94-35f52a3a7308",
   "metadata": {},
   "source": [
    "---"
   ]
  }
 ],
 "metadata": {
  "kernelspec": {
   "display_name": "Python 3",
   "language": "python",
   "name": "python3"
  },
  "language_info": {
   "codemirror_mode": {
    "name": "ipython",
    "version": 3
   },
   "file_extension": ".py",
   "mimetype": "text/x-python",
   "name": "python",
   "nbconvert_exporter": "python",
   "pygments_lexer": "ipython3",
   "version": "3.8.8"
  }
 },
 "nbformat": 4,
 "nbformat_minor": 5
}
