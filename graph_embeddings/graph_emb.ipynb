{
 "cells": [
  {
   "cell_type": "markdown",
   "id": "42354dae-8ace-4472-83d3-10805d1ca2aa",
   "metadata": {},
   "source": [
    "# Graph Embeddings"
   ]
  },
  {
   "cell_type": "code",
   "execution_count": null,
   "id": "1e4b4ab7-09ff-4f80-bb17-0f0d477f4067",
   "metadata": {},
   "outputs": [],
   "source": [
    "import random\n",
    "import networkx as nx\n",
    "import matplotlib.pyplot as plt\n",
    "\n",
    "from node2vec import Node2Vec\n",
    "from node2vec.edges import HadamardEmbedder\n",
    "from karateclub import Graph2Vec\n",
    "\n",
    "plt.style.use(\"seaborn\")"
   ]
  },
  {
   "cell_type": "markdown",
   "id": "2c552275-0aca-4ebb-889d-09cbcf8d608e",
   "metadata": {
    "tags": []
   },
   "source": [
    "### Node Embeddings"
   ]
  },
  {
   "cell_type": "code",
   "execution_count": null,
   "id": "ec058a6b-0110-4203-ba96-9f5736c787c8",
   "metadata": {},
   "outputs": [],
   "source": [
    "G = nx.barbell_graph(\n",
    "    m1=7,\n",
    "    m2=4\n",
    ")\n",
    "\n",
    "mdl = Node2Vec(\n",
    "    G, \n",
    "    dimensions=2\n",
    ")\n",
    "mdl = mdl.fit(window=10)\n",
    "\n",
    "fig, ax = plt.subplots()\n",
    "for x in G.nodes():\n",
    "    v = mdl.wv.get_vector(str(x))\n",
    "    ax.scatter(v[0],v[1], s=1000)\n",
    "    ax.annotate(str(x), (v[0],v[1]), fontsize=12)"
   ]
  },
  {
   "cell_type": "markdown",
   "id": "a161c4c7-4b6c-4fb9-8d20-40bee9a45372",
   "metadata": {},
   "source": [
    "### Edge Embeddings"
   ]
  },
  {
   "cell_type": "code",
   "execution_count": null,
   "id": "8275b471-8bce-4100-a843-b330dfb8e9bb",
   "metadata": {},
   "outputs": [],
   "source": [
    "edges_embs = HadamardEmbedder(keyed_vectors=mdl.wv)\n",
    "fig, ax = plt.subplots()\n",
    "for x in G.edges():\n",
    "    v = edges_embs[(str(x[0]), str(x[1]))]\n",
    "    ax.scatter(v[0],v[1], s=1000)\n",
    "    ax.annotate(str(x), (v[0],v[1]), fontsize=12)"
   ]
  },
  {
   "cell_type": "markdown",
   "id": "bdf1e546-bf54-4f29-9e20-2c0da774caad",
   "metadata": {},
   "source": [
    "### Graph Embeddings"
   ]
  },
  {
   "cell_type": "code",
   "execution_count": null,
   "id": "f8b76df4-e49e-4c15-a7cc-2369eea8ba21",
   "metadata": {},
   "outputs": [],
   "source": [
    "n_graphs = 20\n",
    "def generate_random():\n",
    "    n = random.randint(5, 20)\n",
    "    k = random.randint(5, n)\n",
    "    p = random.uniform(0, 1)\n",
    "    return nx.watts_strogatz_graph(n,k,p)\n",
    "Gs = [generate_random() for x in range(n_graphs)]\n",
    "g_mdl = Graph2Vec(dimensions=2)\n",
    "g_mdl.fit(Gs)\n",
    "embeddings = g_mdl.get_embedding()\n",
    "fig, ax = plt.subplots(figsize=(10,10))\n",
    "for i,vec in enumerate(embeddings):\n",
    "    ax.scatter(vec[0],vec[1], s=1000)\n",
    "    ax.annotate(str(i), (vec[0],vec[1]), fontsize=16)"
   ]
  },
  {
   "cell_type": "markdown",
   "id": "5cabac5a-8e21-40bb-bc94-35f52a3a7308",
   "metadata": {},
   "source": [
    "---"
   ]
  }
 ],
 "metadata": {
  "kernelspec": {
   "display_name": "Python 3 (ipykernel)",
   "language": "python",
   "name": "python3"
  },
  "language_info": {
   "codemirror_mode": {
    "name": "ipython",
    "version": 3
   },
   "file_extension": ".py",
   "mimetype": "text/x-python",
   "name": "python",
   "nbconvert_exporter": "python",
   "pygments_lexer": "ipython3",
   "version": "3.10.0"
  }
 },
 "nbformat": 4,
 "nbformat_minor": 5
}
