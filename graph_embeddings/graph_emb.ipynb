{
 "cells": [
  {
   "cell_type": "markdown",
   "id": "42354dae-8ace-4472-83d3-10805d1ca2aa",
   "metadata": {},
   "source": [
    "# Graph Embeddings"
   ]
  },
  {
   "cell_type": "code",
   "execution_count": null,
   "id": "68882932-6b90-4406-9f27-dce6fb4f96c7",
   "metadata": {},
   "outputs": [],
   "source": []
  },
  {
   "cell_type": "code",
   "execution_count": null,
   "id": "9ffa256a-6fe8-4590-8ce3-cb5b4470035d",
   "metadata": {},
   "outputs": [],
   "source": []
  },
  {
   "cell_type": "code",
   "execution_count": null,
   "id": "f09f0998-4007-46f5-a442-5626d66de5eb",
   "metadata": {},
   "outputs": [],
   "source": []
  },
  {
   "cell_type": "code",
   "execution_count": null,
   "id": "29f28e83-f27f-4c1a-b962-494f3d7f4b7d",
   "metadata": {},
   "outputs": [],
   "source": []
  },
  {
   "cell_type": "code",
   "execution_count": null,
   "id": "3b8ff5de-5470-4821-a30b-ff865c2b0b03",
   "metadata": {},
   "outputs": [],
   "source": []
  },
  {
   "cell_type": "code",
   "execution_count": null,
   "id": "aa26bc65-1a82-4153-a7a2-e81c872f3928",
   "metadata": {},
   "outputs": [],
   "source": []
  },
  {
   "cell_type": "markdown",
   "id": "84c499ec-52e0-4ffd-9510-e26a948ddac3",
   "metadata": {},
   "source": [
    "## Resources"
   ]
  },
  {
   "cell_type": "markdown",
   "id": "5cabac5a-8e21-40bb-bc94-35f52a3a7308",
   "metadata": {},
   "source": [
    "---"
   ]
  }
 ],
 "metadata": {
  "kernelspec": {
   "display_name": "Python 3",
   "language": "python",
   "name": "python3"
  },
  "language_info": {
   "codemirror_mode": {
    "name": "ipython",
    "version": 3
   },
   "file_extension": ".py",
   "mimetype": "text/x-python",
   "name": "python",
   "nbconvert_exporter": "python",
   "pygments_lexer": "ipython3",
   "version": "3.8.8"
  }
 },
 "nbformat": 4,
 "nbformat_minor": 5
}
