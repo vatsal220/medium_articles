{
 "cells": [
  {
   "cell_type": "markdown",
   "id": "46b6a9ed-5eea-4661-bdfe-b554faabfa65",
   "metadata": {},
   "source": [
    "# Twitter - Sentiment Analysis"
   ]
  },
  {
   "cell_type": "code",
   "execution_count": 48,
   "id": "776921b0-f7f2-4e99-938c-e5b2dcce694f",
   "metadata": {},
   "outputs": [],
   "source": [
    "import tweepy as tp\n",
    "import pandas as pd\n",
    "import numpy as np\n",
    "import os\n",
    "import time\n",
    "import string\n",
    "\n",
    "from textblob import TextBlob\n",
    "from datetime import datetime\n",
    "from dotenv import load_dotenv"
   ]
  },
  {
   "cell_type": "code",
   "execution_count": 2,
   "id": "4108740e-6507-4946-8a40-c3420167acda",
   "metadata": {},
   "outputs": [],
   "source": [
    "# constants\n",
    "PATH = os.path.expanduser('~') + '/'\n",
    "env_file = '.env'\n",
    "today = datetime.today().strftime('%Y-%m-%d')"
   ]
  },
  {
   "cell_type": "markdown",
   "id": "ec19700d-f0e1-4592-bd6a-287ee7a0995b",
   "metadata": {},
   "source": [
    "## Connect to Twitter API"
   ]
  },
  {
   "cell_type": "code",
   "execution_count": 3,
   "id": "d5fe4bb1-fbb9-4d5b-8522-ab540f615c79",
   "metadata": {},
   "outputs": [
    {
     "name": "stdout",
     "output_type": "stream",
     "text": [
      "Loaded!\n"
     ]
    }
   ],
   "source": [
    "def env_reader(env_path):\n",
    "    '''\n",
    "    This function will read the environment variables given the location of where the\n",
    "    .env file is located\n",
    "    '''\n",
    "    if not load_dotenv(env_path):\n",
    "        return print('Environment File Not Found')\n",
    "    return print('Loaded!')\n",
    "\n",
    "env_reader(os.getcwd() + '/' + env_file)"
   ]
  },
  {
   "cell_type": "code",
   "execution_count": 4,
   "id": "403d8641-957b-4d89-bfd3-ce4eefe168ac",
   "metadata": {
    "tags": []
   },
   "outputs": [
    {
     "name": "stdout",
     "output_type": "stream",
     "text": [
      "Connection to Twitter established.\n"
     ]
    }
   ],
   "source": [
    "def connect_twitter(api_key, secret_key, access_token, secret_access_token):\n",
    "    '''\n",
    "    This function will create a connection to the twitter api using the necessary\n",
    "    credentials associated to the project.\n",
    "    \n",
    "    params:\n",
    "        api_key (String) : Taken from twitter developer account\n",
    "        secret_key (String) : Taken from twitter developer account\n",
    "        access_token (String) : Taken from twitter developer account\n",
    "        secret_access_token (String) : Taken from twitter developer account\n",
    "         \n",
    "    returns:\n",
    "        This function will return an API which can be called\n",
    "    '''\n",
    "    auth = tp.OAuthHandler(\n",
    "        consumer_key = api_key, \n",
    "        consumer_secret = secret_key\n",
    "    )\n",
    "    auth.set_access_token(\n",
    "        key =  access_token, \n",
    "        secret = secret_access_token\n",
    "    )\n",
    "    api = tp.API(auth)\n",
    "    \n",
    "    try:\n",
    "        api.verify_credentials()\n",
    "        print(\"Connection to Twitter established.\")\n",
    "    except:\n",
    "        print(\"Failed to connect to Twitter.\")\n",
    "    return api\n",
    "\n",
    "api = connect_twitter(\n",
    "    api_key = os.getenv(\"twitter_api_key\"), \n",
    "    secret_key = os.getenv(\"twitter_secret\"),\n",
    "    access_token = os.getenv(\"twitter_access_token\"),\n",
    "    secret_access_token = os.getenv(\"twitter_access_token_secret\")\n",
    ")"
   ]
  },
  {
   "cell_type": "markdown",
   "id": "0d301263-8cec-44fa-8875-46e4a8b02991",
   "metadata": {},
   "source": [
    "## Get Tweets"
   ]
  },
  {
   "cell_type": "code",
   "execution_count": 5,
   "id": "5c258b0f-2cc8-456b-98c8-48a5cd57d3a3",
   "metadata": {},
   "outputs": [],
   "source": [
    "def mk_dir(path, date):\n",
    "    '''\n",
    "    The purpose of this function is to make a directory if one does not exist of the current\n",
    "    date in the data folder.\n",
    "    \n",
    "    params:\n",
    "        path (String) : The path to the data folder\n",
    "        date (String) : The current date yyyy-mm-dd\n",
    "        \n",
    "    returns:\n",
    "        This function will do nothing if the folder already exists, otherwise it will create\n",
    "        the folder\n",
    "    \n",
    "    example:\n",
    "        mk_dir(path = './data/', date = '2021-09-23')\n",
    "    '''\n",
    "    \n",
    "    # check if directory exists \n",
    "    exists = os.path.exists(path + date)\n",
    "    \n",
    "    if not exists:\n",
    "        os.makedirs(path + date)\n",
    "        print(\"New Directory Created\")"
   ]
  },
  {
   "cell_type": "code",
   "execution_count": 6,
   "id": "27bc6ef6-3cce-466c-bdcf-4562ae6591d3",
   "metadata": {},
   "outputs": [],
   "source": [
    "def get_all_tweets(screen_name, api = api, today = today):\n",
    "    '''\n",
    "    This function will get the latest ~3200 tweets associated to a twitter screen name.\n",
    "    It will proceed to get the tweet id, created at and the content and store it in a df.\n",
    "    It will save the associated results in a CSV file.\n",
    "    \n",
    "    params:\n",
    "        screen_name (String) : The twitter handle associated to the user you want to get\n",
    "                               tweets from\n",
    "        api (API) : The tweepy API connection\n",
    "        today (String) : Todays date in string format\n",
    "    \n",
    "    returns:\n",
    "        This function will return a df associated to the tweet id, created_at and content\n",
    "        \n",
    "    source:\n",
    "        [yanofsky](https://gist.github.com/yanofsky/5436496)\n",
    "    '''\n",
    "    #initialize a list to hold all the tweepy Tweets\n",
    "    alltweets = []  \n",
    "    \n",
    "    #make initial request for most recent tweets (200 is the maximum allowed count)\n",
    "    new_tweets = api.user_timeline(screen_name = screen_name,count=200)\n",
    "    \n",
    "    #save most recent tweets\n",
    "    alltweets.extend(new_tweets)\n",
    "    \n",
    "    #save the id of the oldest tweet less one\n",
    "    oldest = alltweets[-1].id - 1\n",
    "    \n",
    "    #keep grabbing tweets until there are no tweets left to grab\n",
    "    while len(new_tweets) > 0:\n",
    "#         print(f\"getting tweets before {oldest}\")\n",
    "        \n",
    "        #all subsiquent requests use the max_id param to prevent duplicates\n",
    "        new_tweets = api.user_timeline(screen_name = screen_name,count=200,max_id=oldest)\n",
    "        \n",
    "        #save most recent tweets\n",
    "        alltweets.extend(new_tweets)\n",
    "        \n",
    "        #update the id of the oldest tweet less one\n",
    "        oldest = alltweets[-1].id - 1\n",
    "        \n",
    "#         print(f\"...{len(alltweets)} tweets downloaded so far\")\n",
    "    \n",
    "    #transform the tweepy tweets into a 2D array that will populate the csv \n",
    "    outtweets = [\n",
    "        [\n",
    "            t.author.name, t.id_str, t.created_at, t.text, t.entities.get('hashtags'), t.author.location,\n",
    "            t.author.created_at, t.author.url, t.author.screen_name, t.favorite_count, t.favorited,\n",
    "            t.retweet_count, t.retweeted, t.author.followers_count, t.author.friends_count\n",
    "        ] for t in alltweets\n",
    "    ]\n",
    "    \n",
    "    #write the csv  \n",
    "    cols = [\n",
    "        'author_name', 'tweet_id', 'tweet_created_at', 'content', 'hashtags', 'location',\n",
    "        'author_created_at', 'author_url', 'author_screen_name', 'tweet_favourite_count', 'tweet_favourited', \n",
    "        'retweet_count', 'retweeted', 'author_followers_count', 'author_friends_count'\n",
    "    ]\n",
    "    df = pd.DataFrame(outtweets, columns = cols)\n",
    "    mk_dir(path = './data/', date = today)\n",
    "    df.to_csv('./data/{}/{}_tweets_{}.csv'.format(today, screen_name, today), index = False)\n",
    "    time.sleep(10)\n",
    "    return df"
   ]
  },
  {
   "cell_type": "code",
   "execution_count": 7,
   "id": "e803b37c-a6d0-4ff4-afc7-f391ed906586",
   "metadata": {},
   "outputs": [],
   "source": [
    "def read_tweet_data(path):\n",
    "    '''\n",
    "    This function will identify if todays data has already been scraped from the twitter API.\n",
    "        - If it has been scraped, this function will read all the scraped data from today \n",
    "           and previous days\n",
    "    Upon fetching all the data, it will drop duplicates on the tweet_id and tweet_created_at\n",
    "    columns to remove duplicated tweets scraped from previous days.\n",
    "    \n",
    "    params:\n",
    "        path (String) : The path to the data folder\n",
    "        today (String) : Today's date in string format yyyy-mm-dd\n",
    "        \n",
    "    returns:\n",
    "        This function will return the tweets_df associated to tweets from all handles over \n",
    "        the past few months\n",
    "        \n",
    "    example:\n",
    "        read_tweet_data(\n",
    "            path = './data/'\n",
    "        )\n",
    "    '''\n",
    "    \n",
    "    # get all non hidden subdirectories from the path\n",
    "    sub_dir = [d for d in os.listdir(path) if d[0] != '.']\n",
    "    \n",
    "    # read csv from all sub directories and concat results\n",
    "    files = []\n",
    "    for d in sub_dir:\n",
    "        for p in os.listdir(path + d):\n",
    "            if p[0] != '.':\n",
    "                files.append(path + d + '/' + p)\n",
    "\n",
    "    read_csvs = []\n",
    "    for file in files:\n",
    "        read_csvs.append(pd.read_csv(file, converters={'hashtags': eval}, encoding='utf-8-sig'))\n",
    "\n",
    "    read_csvs = pd.concat(read_csvs)\n",
    "    tweets_df = read_csvs.drop_duplicates(subset = ['tweet_id', 'tweet_created_at'])\n",
    "    return tweets_df"
   ]
  },
  {
   "cell_type": "code",
   "execution_count": 8,
   "id": "488f1ecc-c671-4db1-a7d5-7f493f3fcf64",
   "metadata": {},
   "outputs": [],
   "source": [
    "handles = [\n",
    "    'TPSOperations', 'TorontoPolice', 'HamiltonPolice', 'YRP', 'SouthSimcoePS', 'BarriePolice', 'HaltonPolice',\n",
    "    'DRPS', 'PeelPolice', 'HRPSOak'\n",
    "]"
   ]
  },
  {
   "cell_type": "code",
   "execution_count": 9,
   "id": "bc882469-248c-40be-a673-c298845d85bd",
   "metadata": {},
   "outputs": [
    {
     "name": "stdout",
     "output_type": "stream",
     "text": [
      "TPSOperations\n",
      "New Directory Created\n",
      "TorontoPolice\n",
      "HamiltonPolice\n",
      "YRP\n",
      "SouthSimcoePS\n",
      "BarriePolice\n",
      "HaltonPolice\n",
      "DRPS\n",
      "PeelPolice\n",
      "HRPSOak\n",
      "CPU times: user 13.9 s, sys: 1.88 s, total: 15.8 s\n",
      "Wall time: 3min 9s\n"
     ]
    }
   ],
   "source": [
    "%%time\n",
    "if today not in os.listdir():\n",
    "    for user in handles:\n",
    "        print(user)\n",
    "        _ = get_all_tweets(user)"
   ]
  },
  {
   "cell_type": "code",
   "execution_count": 10,
   "id": "b9b6a988-210c-4261-9edc-319bd8291953",
   "metadata": {},
   "outputs": [
    {
     "name": "stdout",
     "output_type": "stream",
     "text": [
      "CPU times: user 502 ms, sys: 43.9 ms, total: 546 ms\n",
      "Wall time: 661 ms\n"
     ]
    }
   ],
   "source": [
    "%%time\n",
    "tweets_df = read_tweet_data(\n",
    "    path = './data/'\n",
    ")"
   ]
  },
  {
   "cell_type": "code",
   "execution_count": 12,
   "id": "8fabd3e1-ff3a-4f10-ba71-c341bfb3f9be",
   "metadata": {},
   "outputs": [
    {
     "data": {
      "text/plain": [
       "(35726, 15)"
      ]
     },
     "execution_count": 12,
     "metadata": {},
     "output_type": "execute_result"
    }
   ],
   "source": [
    "tweets_df.shape"
   ]
  },
  {
   "cell_type": "code",
   "execution_count": 14,
   "id": "6cbd8508-9019-4353-b903-6c7d429f3865",
   "metadata": {},
   "outputs": [
    {
     "data": {
      "text/plain": [
       "Index(['author_name', 'tweet_id', 'tweet_created_at', 'content', 'hashtags',\n",
       "       'location', 'author_created_at', 'author_url', 'author_screen_name',\n",
       "       'tweet_favourite_count', 'tweet_favourited', 'retweet_count',\n",
       "       'retweeted', 'author_followers_count', 'author_friends_count'],\n",
       "      dtype='object')"
      ]
     },
     "execution_count": 14,
     "metadata": {},
     "output_type": "execute_result"
    }
   ],
   "source": [
    "tweets_df.columns"
   ]
  },
  {
   "cell_type": "markdown",
   "id": "187ebe55-b0ce-4b61-aeef-006d933bad8a",
   "metadata": {},
   "source": [
    "## Preprocess Data"
   ]
  },
  {
   "cell_type": "code",
   "execution_count": 15,
   "id": "6325112e-cbf5-41ef-a6fe-cc3b29f954f7",
   "metadata": {},
   "outputs": [],
   "source": [
    "def parse_hashtags(row):\n",
    "    if row['hashtags_count'] > 1:\n",
    "        tags = row['hashtags']\n",
    "        hashies = []\n",
    "        for t in tags:\n",
    "            hashies.append(t['text'])\n",
    "        return hashies\n",
    "    return None"
   ]
  },
  {
   "cell_type": "code",
   "execution_count": 16,
   "id": "00242c26-0f4e-4d33-9b32-fb7bb27b4466",
   "metadata": {},
   "outputs": [],
   "source": [
    "tweets_df['hashtags_count'] = tweets_df['hashtags'].apply(lambda x : len(x))"
   ]
  },
  {
   "cell_type": "code",
   "execution_count": 17,
   "id": "bb8b4735-f1f4-4e5e-90d4-400efa0fe29a",
   "metadata": {},
   "outputs": [
    {
     "name": "stdout",
     "output_type": "stream",
     "text": [
      "CPU times: user 194 ms, sys: 25.6 ms, total: 220 ms\n",
      "Wall time: 231 ms\n"
     ]
    }
   ],
   "source": [
    "%time tweets_df['hashtags'] = tweets_df.apply(lambda x : parse_hashtags(x), axis = 1)"
   ]
  },
  {
   "cell_type": "code",
   "execution_count": 21,
   "id": "07c57286-05be-4a6a-a509-f2e6bdbdfad6",
   "metadata": {},
   "outputs": [],
   "source": [
    "tweets_df['tweet_created_at'] = pd.to_datetime(tweets_df['tweet_created_at'], format='%Y-%m-%d %H:%M:%S', utc=True)\n",
    "tweets_df['tweet_created_at'] = tweets_df['tweet_created_at'].dt.strftime('%Y-%m-%d')"
   ]
  },
  {
   "cell_type": "code",
   "execution_count": 22,
   "id": "a130d554-4aeb-4e3b-97bf-a62b2994af71",
   "metadata": {},
   "outputs": [],
   "source": [
    "authors = tweets_df['author_name'].unique()"
   ]
  },
  {
   "cell_type": "code",
   "execution_count": 53,
   "id": "5535a3b2-8e6f-47b2-8f3c-6ef8b65cb432",
   "metadata": {},
   "outputs": [],
   "source": [
    "def remove_punctuation(tweet):\n",
    "    '''\n",
    "    This function will remove all punctuations from the tweet passed in\n",
    "    '''\n",
    "    return ''.join(ch for ch in s if ch not in set(string.punctuation))\n",
    "\n",
    "def remove_sw(tweet):\n",
    "    '''\n",
    "    This function will remove all stopwords from the tweet passed in\n",
    "    '''\n",
    "    sw = [\n",
    "        'ourselves', 'hers', 'between', 'yourself', 'but', 'again', 'there', 'about', 'once', 'during', 'out',\n",
    " 'very', 'having', 'with', 'they', 'own', 'an', 'be', 'some', 'for', 'do', 'its', 'yours', 'such', 'into', 'of',\n",
    " 'most', 'itself', 'other', 'off', 'is', 'am', 'or', 'who', 'as', 'from', 'him', 'each', 'the', 'themselves', 'until',\n",
    " 'below', 'are', 'we', 'these', 'your', 'his', 'through', 'don', 'nor', 'me', 'were', 'her', 'more', 'himself', 'this',\n",
    " 'down', 'should', 'our', 'their', 'while', 'above', 'both', 'up', 'to', 'ours', 'had', 'she', 'all', 'no', 'when', 'at',\n",
    " 'any', 'before', 'them', 'same', 'and', 'been', 'have', 'in', 'will', 'on', 'does', 'yourselves', 'then', 'that', 'because',\n",
    " 'what', 'over', 'why', 'so', 'can', 'did', 'not', 'now', 'under', 'he', 'you', 'herself', 'has', 'just', 'where', 'too',\n",
    " 'only', 'myself', 'which', 'those', 'i', 'after', 'few',\n",
    " 'whom', 't', 'being', 'if', 'theirs', 'my', 'against', 'a', 'by', 'doing', 'it', 'how', 'further', 'was', 'here', 'than'\n",
    "    ]\n",
    "    tweet=tweet.lower()\n",
    "    tweet = ' '.join(w for w in tweet.split(' ') if w not in sw)\n",
    "    return tweet"
   ]
  },
  {
   "cell_type": "code",
   "execution_count": 54,
   "id": "14e39c0c-6ae4-43f4-b45d-df516ae644ed",
   "metadata": {},
   "outputs": [],
   "source": [
    "tweets_df['cleaned_tweet'] = tweets_df['content'].apply(remove_punctuation)\n",
    "tweets_df['cleaned_tweet'] = tweets_df['content'].apply(remove_sw)"
   ]
  },
  {
   "cell_type": "markdown",
   "id": "1a1c5654-603e-484c-8af5-22183ce3135b",
   "metadata": {},
   "source": [
    "## Calculate Sentiment of Tweet"
   ]
  },
  {
   "cell_type": "code",
   "execution_count": 60,
   "id": "d128a5f5-40db-44d6-88b9-8f433f3cf4a6",
   "metadata": {},
   "outputs": [],
   "source": [
    "def tweet_sentiment(tweet):\n",
    "    '''\n",
    "    Identify the sentiment associated to a tweet.\n",
    "    \n",
    "    params:\n",
    "        tweet (String) : The stirng you want the sentiment of\n",
    "        \n",
    "    returns:\n",
    "        A score between -1 and 1, where values greater than 0\n",
    "        would indicate a positive sentiment and values less\n",
    "        than 0 would be negative. Values = 0 is a neutral\n",
    "        sentiment tweet.\n",
    "    '''\n",
    "    tb = TextBlob(tweet)\n",
    "    score = tb.sentiment.polarity\n",
    "    if score > 0:\n",
    "        return 'Positive'\n",
    "    elif score < 0:\n",
    "        return 'Negative'\n",
    "    else:\n",
    "        return 'Neutral'"
   ]
  },
  {
   "cell_type": "code",
   "execution_count": 61,
   "id": "444d8446-16ea-493c-b789-a2ebfac2c817",
   "metadata": {},
   "outputs": [],
   "source": [
    "tweets_df['tweet_sentiment'] = tweets_df['cleaned_tweet'].apply(tweet_sentiment)"
   ]
  },
  {
   "cell_type": "code",
   "execution_count": 65,
   "id": "9baa6618-10c7-4bc3-b8a7-9577fd459c07",
   "metadata": {},
   "outputs": [
    {
     "data": {
      "text/plain": [
       "Text(0.5, 0, 'Frequency of Tweet Sentiment')"
      ]
     },
     "execution_count": 65,
     "metadata": {},
     "output_type": "execute_result"
    },
    {
     "data": {
      "image/png": "[encoded data removed]",
      "text/plain": [
       "<Figure size 432x288 with 1 Axes>"
      ]
     },
     "metadata": {},
     "output_type": "display_data"
    }
   ],
   "source": [
    "plt.clf()\n",
    "tweets_df['tweet_sentiment'].value_counts().plot(kind = 'barh')\n",
    "plt.title('Sentiment of Tweets')\n",
    "plt.xlabel('Frequency of Tweet Sentiment')"
   ]
  },
  {
   "cell_type": "code",
   "execution_count": 72,
   "id": "657455b6-890a-4c94-b809-732e79df31a5",
   "metadata": {},
   "outputs": [
    {
     "data": {
      "text/plain": [
       "array([\"Smartest idea we've heard all night! Way to be a responsible driver! ^MRT https://t.co/htkoL5EpKJ\",\n",
       "       'Hanukkah Sameach! May this festival of light and joy bring blessings of health, happiness and prosperity. https://t.co/0bq0dKNFc3',\n",
       "       'RT @CACP_ACCP: On this National Day of Remembrance &amp; Action on Violence Against Women, we are proud to launch the Canadian Framework for Co…',\n",
       "       'RT @Oakvillehydro: The potential for heavy rainfall and strong winds are expected throughout the day. If you see a downed power line, stay…',\n",
       "       'Joining forces with our @simcoecounty Paramedics! Collecting new and unwrapped toys at #Barrie north-end #Walmart !… https://t.co/BvZ0efzTod'],\n",
       "      dtype=object)"
      ]
     },
     "execution_count": 72,
     "metadata": {},
     "output_type": "execute_result"
    }
   ],
   "source": [
    "tweets_df[tweets_df['tweet_sentiment'] == 'Positive'].content.sample(5).values"
   ]
  },
  {
   "cell_type": "code",
   "execution_count": 73,
   "id": "ec07d3eb-e127-49ca-92e8-21fa7059fd85",
   "metadata": {},
   "outputs": [
    {
     "data": {
      "text/plain": [
       "array(['COLLISION:\\nFGX/Parklawn, single vehicle involved, E/B express lanes approaching Lakeshore exit, 2 lanes closed.… https://t.co/Pz5hBIC0H9',\n",
       "       '@Toronto_Fire @TorontoMedics FIRE: (UPDATE)\\nDunn Ave &amp; Queen St W\\n- roads have re-opened\\n#GO1455141\\n^al',\n",
       "       \"Bollywood superstar's son walks out from jail in drugs case\\nhttps://t.co/Yf9ytlkNiF https://t.co/vsdkYzQnad\",\n",
       "       '@davidrazi Hi David - Fines are a last resort and are only issued if individuals are entering a closed area. For ex… https://t.co/Tf6LuIfCjm',\n",
       "       'Police seek help locating a stolen dog, Kipling Avenue and Henley Crescent area, Black and tan Pug, named Bugsy https://t.co/3mBovOgNA5'],\n",
       "      dtype=object)"
      ]
     },
     "execution_count": 73,
     "metadata": {},
     "output_type": "execute_result"
    }
   ],
   "source": [
    "tweets_df[tweets_df['tweet_sentiment'] == 'Negative'].content.sample(5).values"
   ]
  },
  {
   "cell_type": "code",
   "execution_count": 74,
   "id": "4b2d6ba9-3861-4a78-b509-e2efb53632b6",
   "metadata": {},
   "outputs": [
    {
     "data": {
      "text/plain": [
       "array(['Remember to follow our @DRPSCommunity account for helpful safety tips during Crime Prevention Week. #CPWeek2020 https://t.co/vGO8saST4r',\n",
       "       'The #BarriePolice is reminding the public that you DO NOT have to pay money to receive a lottery prize. If you get… https://t.co/G5H2dsc468',\n",
       "       'Road closure on Dundas St East in Whitby between Hopkins and Craydon for Police Investigation.',\n",
       "       'It’s “my face hurts” weather out there. \\n\\nIf you’re heading out for a walk, or to shovel, you might want to bundle… https://t.co/GlLzZ5xLOg',\n",
       "       'Officers from @DRPSNorthDiv rescued a stranded seadoo on Lake Scugog with the help of Air1, 9-1-1 Communications an… https://t.co/WUbGJ5jJfo'],\n",
       "      dtype=object)"
      ]
     },
     "execution_count": 74,
     "metadata": {},
     "output_type": "execute_result"
    }
   ],
   "source": [
    "tweets_df[tweets_df['tweet_sentiment'] == 'Neutral'].content.sample(5).values"
   ]
  },
  {
   "cell_type": "code",
   "execution_count": null,
   "id": "c75f2a29-203d-4206-ab04-27d5167d641e",
   "metadata": {},
   "outputs": [],
   "source": []
  }
 ],
 "metadata": {
  "kernelspec": {
   "display_name": "Python 3",
   "language": "python",
   "name": "python3"
  },
  "language_info": {
   "codemirror_mode": {
    "name": "ipython",
    "version": 3
   },
   "file_extension": ".py",
   "mimetype": "text/x-python",
   "name": "python",
   "nbconvert_exporter": "python",
   "pygments_lexer": "ipython3",
   "version": "3.8.8"
  }
 },
 "nbformat": 4,
 "nbformat_minor": 5
}
