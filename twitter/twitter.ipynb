{
 "cells": [
  {
   "cell_type": "markdown",
   "id": "46b6a9ed-5eea-4661-bdfe-b554faabfa65",
   "metadata": {},
   "source": [
    "# Twitter "
   ]
  },
  {
   "cell_type": "code",
   "execution_count": null,
   "id": "b5e48499-d1fe-4cbf-805a-37557cc5dad1",
   "metadata": {},
   "outputs": [],
   "source": []
  }
 ],
 "metadata": {
  "kernelspec": {
   "display_name": "Python 3",
   "language": "python",
   "name": "python3"
  },
  "language_info": {
   "codemirror_mode": {
    "name": "ipython",
    "version": 3
   },
   "file_extension": ".py",
   "mimetype": "text/x-python",
   "name": "python",
   "nbconvert_exporter": "python",
   "pygments_lexer": "ipython3",
   "version": "3.8.8"
  }
 },
 "nbformat": 4,
 "nbformat_minor": 5
}
