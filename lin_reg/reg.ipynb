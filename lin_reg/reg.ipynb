{
 "cells": [
  {
   "cell_type": "markdown",
   "id": "01d61c82-c84d-451b-846d-396b6857f0c4",
   "metadata": {},
   "source": [
    "# Linear Regression"
   ]
  },
  {
   "cell_type": "markdown",
   "id": "b90420df-54b9-47be-a8ef-ee62517269c8",
   "metadata": {},
   "source": [
    "This article will provide an indepth overview of the mathematics behind linear and bayesian linear regression and their associated implementations in Python. The implementations will include building the algorithms from scratch as well as using Sci-Kit Learn (sklearn) to reference their pre-built linear regression model. \n",
    "\n",
    "### Table of Contents :   \n",
    "- Introduction to Linear Regression  \n",
    "    - Requirements of Linear Regression\n",
    "    - Parameter Estimation  \n",
    "    - Maximum Likihood Estimation  \n",
    "    - Overfitting in Linear Regression\n",
    "    - Linear Regression Implementation  \n",
    "        - Requirements  \n",
    "    - Sci-Kit Learn Implementation\n",
    "- Introduction to Bayesian Linear Regression  \n",
    "    - Prior Predictions\n",
    "    - Posterior Distributions\n",
    "    - Marginal Likelihood\n",
    "    - Bayesian Linear Regression Implementation  \n",
    "        - Requirements  \n",
    "- Concluding Remarks  \n",
    "- Resources  "
   ]
  },
  {
   "cell_type": "markdown",
   "id": "453928c7-ef7e-4603-b1a0-774c220a955b",
   "metadata": {},
   "source": [
    "## Introduction to Linear Regression\n",
    "\n",
    "\n",
    "\n",
    "### Requirements of Linear Regression\n",
    "There are 4 major assumptions of linear regression. These assumptions correspond to the relationship between the input X and Y variables, all 4 of these assumptions must be valid, otherwise the results of the model will be misleading / unreliable.  \n",
    "1) Linear Relationship  \n",
    "    - There exists a linear relationship between the X and Y variables. You can easily validate this assumption through generating a scatter plot. If the resulting graph of your X vs Y varaible looks linear, then this assumption is valid. \n",
    "2) Independence  \n",
    "    - Residuals must be independent. The independence of residuals refers to when values at time step i+1 are not independent from values at time step i. You can check the independence of residuals through visualizing a \n",
    "    \n",
    "    To check independence, plot residuals against any time variables present (e.g., order of observation), any spatial variables present, and any variables used in the technique (e.g., factors, regressors). A pattern that is not random suggests lack of independence.\n",
    "    \n",
    "    Autocorrelation occurs when the residuals are not independent of each other. That is, when the value of e[i+1] is not independent from e[i]. While a residual plot, or lag-1 plot allows you to visually check for autocorrelation, you can formally test the hypothesis using the Durbin-Watson test.\n",
    "3) Homoscedasticity  \n",
    "4) Normality  \n",
    "Linearity: The relationship between X and the mean of Y is linear.\n",
    "Homoscedasticity: The variance of residual is the same for any value of X.\n",
    "Independence: Observations are independent of each other.\n",
    "Normality: For any fixed value of X, Y is normally distributed.\n",
    "\n",
    "Linear regression is a useful statistical method we can use to understand the relationship between two variables, x and y. However, before we conduct linear regression, we must first make sure that four assumptions are met:\n",
    "\n",
    "1. Linear relationship: There exists a linear relationship between the independent variable, x, and the dependent variable, y.\n",
    "\n",
    "2. Independence: The residuals are independent. In particular, there is no correlation between consecutive residuals in time series data.\n",
    "\n",
    "3. Homoscedasticity: The residuals have constant variance at every level of x.\n",
    "\n",
    "4. Normality: The residuals of the model are normally distributed.\n",
    "\n",
    "If one or more of these assumptions are violated, then the results of our linear regression may be unreliable or even misleading."
   ]
  },
  {
   "cell_type": "code",
   "execution_count": null,
   "id": "1400fee8-8af6-4253-93f6-bec012a94cd5",
   "metadata": {},
   "outputs": [],
   "source": []
  },
  {
   "cell_type": "code",
   "execution_count": null,
   "id": "ae579183-597e-41c4-a7f4-b255f5009ed6",
   "metadata": {},
   "outputs": [],
   "source": []
  },
  {
   "cell_type": "code",
   "execution_count": null,
   "id": "3d3fb1fb-36f7-46e5-a80a-8991692dcb7d",
   "metadata": {},
   "outputs": [],
   "source": [
    "import pandas as pd\n",
    "import numpy as np\n",
    "import seaborn as sns\n",
    "\n",
    "sns.set()"
   ]
  },
  {
   "cell_type": "code",
   "execution_count": null,
   "id": "0dbe6fa2-f82b-4b26-8ee3-306de3e41e11",
   "metadata": {},
   "outputs": [],
   "source": []
  },
  {
   "cell_type": "code",
   "execution_count": null,
   "id": "aa0037d0-b6a3-4f33-ab01-316eecdd7733",
   "metadata": {},
   "outputs": [],
   "source": []
  },
  {
   "cell_type": "code",
   "execution_count": null,
   "id": "7407653b-5488-4cde-9f94-10de2e0075ad",
   "metadata": {},
   "outputs": [],
   "source": []
  },
  {
   "cell_type": "markdown",
   "id": "e40b82b3-d427-4ecc-a52a-b0e330b420ce",
   "metadata": {},
   "source": [
    "# Bayesian Linear Regression"
   ]
  },
  {
   "cell_type": "code",
   "execution_count": null,
   "id": "dd53784d-6a02-4363-b689-22572c0da1a2",
   "metadata": {},
   "outputs": [],
   "source": []
  },
  {
   "cell_type": "code",
   "execution_count": null,
   "id": "5ff06a6b-5e3e-4c2e-8b85-4168850417ff",
   "metadata": {},
   "outputs": [],
   "source": []
  },
  {
   "cell_type": "code",
   "execution_count": null,
   "id": "7fbbedfd-8b02-440e-802c-c004b1e6a2f0",
   "metadata": {},
   "outputs": [],
   "source": []
  }
 ],
 "metadata": {
  "kernelspec": {
   "display_name": "Python 3",
   "language": "python",
   "name": "python3"
  },
  "language_info": {
   "codemirror_mode": {
    "name": "ipython",
    "version": 3
   },
   "file_extension": ".py",
   "mimetype": "text/x-python",
   "name": "python",
   "nbconvert_exporter": "python",
   "pygments_lexer": "ipython3",
   "version": "3.8.8"
  }
 },
 "nbformat": 4,
 "nbformat_minor": 5
}
