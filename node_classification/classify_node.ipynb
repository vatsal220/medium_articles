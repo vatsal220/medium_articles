{
 "cells": [
  {
   "cell_type": "markdown",
   "id": "168de318-3817-4a4e-92bf-6868424c3898",
   "metadata": {},
   "source": [
    "# Node Classification"
   ]
  },
  {
   "cell_type": "code",
   "execution_count": 1,
   "id": "fbf4a040-67f8-421b-aef3-2ccbac7f1946",
   "metadata": {},
   "outputs": [],
   "source": [
    "import networkx as nx\n",
    "import pandas as pd\n",
    "import numpy as np\n",
    "import arxiv\n",
    "\n",
    "from sklearn.ensemble import GradientBoostingClassifier\n",
    "from sklearn.model_selection import train_test_split\n",
    "from sklearn.metrics import accuracy_score, matthews_corrcoef, confusion_matrix, classification_report\n",
    "from node2vec import Node2Vec as n2v"
   ]
  },
  {
   "cell_type": "code",
   "execution_count": 2,
   "id": "1af08b4c-d203-4aa3-be20-2271b06d8827",
   "metadata": {},
   "outputs": [],
   "source": [
    "# constants\n",
    "queries = [\n",
    "    'automl', 'machinelearning', 'data', 'phyiscs','mathematics', 'recommendation system', 'nlp', 'neural networks'\n",
    "]"
   ]
  },
  {
   "cell_type": "markdown",
   "id": "8c79e656-b9a1-4c8a-bc5c-016e1ab8b23b",
   "metadata": {},
   "source": [
    "## Fetch Data"
   ]
  },
  {
   "cell_type": "code",
   "execution_count": 3,
   "id": "944f1ccb-69db-4c2f-a5a2-9361c5637d39",
   "metadata": {},
   "outputs": [],
   "source": [
    "def search_arxiv(queries, max_results = 100):\n",
    "    '''\n",
    "    This function will search arxiv associated to a set of queries and store\n",
    "    the latest 10000 (max_results) associated to that search.\n",
    "    \n",
    "    params:\n",
    "        queries (List -> Str) : A list of strings containing keywords you want\n",
    "                                to search on Arxiv\n",
    "        max_results (Int) : The maximum number of results you want to see associated\n",
    "                            to your search. Default value is 1000, capped at 300000\n",
    "                            \n",
    "    returns:\n",
    "        This function will return a DataFrame holding the following columns associated\n",
    "        to the queries the user has passed. \n",
    "            `title`, `date`, `article_id`, `url`, `main_topic`, `all_topics`\n",
    "    \n",
    "    example:\n",
    "        research_df = search_arxiv(\n",
    "            queries = ['automl', 'recommender system', 'nlp', 'data science'],\n",
    "            max_results = 10000\n",
    "        )\n",
    "    '''\n",
    "    d = []\n",
    "    searches = []\n",
    "    # hitting the API\n",
    "    for query in queries:\n",
    "        search = arxiv.Search(\n",
    "          query = query,\n",
    "          max_results = max_results,\n",
    "          sort_by = arxiv.SortCriterion.SubmittedDate,\n",
    "          sort_order = arxiv.SortOrder.Descending\n",
    "        )\n",
    "        searches.append(search)\n",
    "    \n",
    "    # Converting search result into df\n",
    "    for search in searches:\n",
    "        for res in search.results():\n",
    "            data = {\n",
    "                'title' : res.title,\n",
    "                'date' : res.published,\n",
    "                'article_id' : res.entry_id,\n",
    "                'url' : res.pdf_url,\n",
    "                'main_topic' : res.primary_category,\n",
    "                'all_topics' : res.categories,\n",
    "                'authors' : res.authors\n",
    "            }\n",
    "            d.append(data)\n",
    "        \n",
    "    d = pd.DataFrame(d)\n",
    "    d['year'] = pd.DatetimeIndex(d['date']).year\n",
    "    \n",
    "    # change article id from url to integer\n",
    "    unique_article_ids = d.article_id.unique()\n",
    "    article_mapping = {art:idx for idx,art in enumerate(unique_article_ids)}\n",
    "    d['article_id'] = d['article_id'].map(article_mapping)\n",
    "    return d"
   ]
  },
  {
   "cell_type": "code",
   "execution_count": 4,
   "id": "00a0f9af-524d-4370-bce7-f8c6855152dd",
   "metadata": {},
   "outputs": [
    {
     "name": "stdout",
     "output_type": "stream",
     "text": [
      "CPU times: user 1.21 s, sys: 84.3 ms, total: 1.29 s\n",
      "Wall time: 10 s\n"
     ]
    },
    {
     "data": {
      "text/plain": [
       "(646, 8)"
      ]
     },
     "execution_count": 4,
     "metadata": {},
     "output_type": "execute_result"
    }
   ],
   "source": [
    "%%time\n",
    "research_df = search_arxiv(\n",
    "    queries = queries,\n",
    "    max_results = 100\n",
    ")\n",
    "research_df.shape"
   ]
  },
  {
   "cell_type": "markdown",
   "id": "3a7886d3-e135-495e-a96a-aa141cf51fae",
   "metadata": {},
   "source": [
    "## Create Network"
   ]
  },
  {
   "cell_type": "code",
   "execution_count": 5,
   "id": "9c6e106a-ba56-4659-a188-772306d5c078",
   "metadata": {},
   "outputs": [],
   "source": [
    "def generate_network(df, node_col, edge_col):\n",
    "    '''\n",
    "    This function will generate a article to article network given an input DataFrame.\n",
    "    It will do so by creating an edge_dictionary where each key is going to be a node\n",
    "    referenced by unique values in node_col and the values will be a list of other nodes\n",
    "    connected to the key through the edge_col.\n",
    "    \n",
    "    params:\n",
    "        df (DataFrame) : The dataset which holds the node and edge columns\n",
    "        node_col (String) : The column name associated to the nodes of the network\n",
    "        edge_col (String) : The column name associated to the edges of the network\n",
    "        \n",
    "    returns:\n",
    "        A networkx graph corresponding to the input dataset\n",
    "        \n",
    "    example:\n",
    "        generate_network(\n",
    "            research_df,\n",
    "            node_col = 'article_id',\n",
    "            edge_col = 'main_topic'\n",
    "        )\n",
    "    '''\n",
    "    edge_dct = {}\n",
    "    for i,g in df.groupby(node_col):\n",
    "        topics = g[edge_col].unique()\n",
    "        edge_df = df[(df[node_col] != i) & (df[edge_col].isin(topics))]\n",
    "        edges = list(edge_df[node_col].unique())\n",
    "        edge_dct[i] = edges\n",
    "    \n",
    "    # create nx network\n",
    "    g = nx.Graph(edge_dct, create_using = nx.MultiGraph)\n",
    "    return g"
   ]
  },
  {
   "cell_type": "code",
   "execution_count": 6,
   "id": "7e739a71-2a1e-4dfd-aae1-620410bfca01",
   "metadata": {},
   "outputs": [
    {
     "name": "stdout",
     "output_type": "stream",
     "text": [
      "CPU times: user 321 ms, sys: 7.12 ms, total: 328 ms\n",
      "Wall time: 336 ms\n"
     ]
    }
   ],
   "source": [
    "%%time\n",
    "tp_nx = generate_network(\n",
    "    research_df, \n",
    "    node_col = 'article_id', \n",
    "    edge_col = 'main_topic'\n",
    ")"
   ]
  },
  {
   "cell_type": "code",
   "execution_count": 7,
   "id": "77bb39fb-b179-4108-8993-084b4156caba",
   "metadata": {},
   "outputs": [
    {
     "name": "stdout",
     "output_type": "stream",
     "text": [
      "Name: \n",
      "Type: Graph\n",
      "Number of nodes: 554\n",
      "Number of edges: 11689\n",
      "Average degree:  42.1986\n"
     ]
    }
   ],
   "source": [
    "print(nx.info(tp_nx))"
   ]
  },
  {
   "cell_type": "markdown",
   "id": "88e5a6ab-eca7-46f1-91b0-49e96514ecf6",
   "metadata": {},
   "source": [
    "## Apply Node2Vec"
   ]
  },
  {
   "cell_type": "code",
   "execution_count": 8,
   "id": "23802c9a-b3a4-435b-b53d-4a01b88ac758",
   "metadata": {},
   "outputs": [
    {
     "data": {
      "application/vnd.jupyter.widget-view+json": {
       "model_id": "8ec14b75291b48dca7f0b7f9355675c6",
       "version_major": 2,
       "version_minor": 0
      },
      "text/plain": [
       "Computing transition probabilities:   0%|          | 0/554 [00:00<?, ?it/s]"
      ]
     },
     "metadata": {},
     "output_type": "display_data"
    },
    {
     "name": "stderr",
     "output_type": "stream",
     "text": [
      "Generating walks (CPU: 1): 100%|██████████| 10/10 [00:09<00:00,  1.05it/s]"
     ]
    },
    {
     "name": "stdout",
     "output_type": "stream",
     "text": [
      "CPU times: user 13.7 s, sys: 107 ms, total: 13.8 s\n",
      "Wall time: 13.8 s\n"
     ]
    },
    {
     "name": "stderr",
     "output_type": "stream",
     "text": [
      "\n"
     ]
    }
   ],
   "source": [
    "%time g_emb = n2v(tp_nx, dimensions=16)"
   ]
  },
  {
   "cell_type": "code",
   "execution_count": 9,
   "id": "3aff2d00-67dc-4a1b-9d09-b970f82088a9",
   "metadata": {},
   "outputs": [],
   "source": [
    "WINDOW = 1 # Node2Vec fit window\n",
    "MIN_COUNT = 1 # Node2Vec min. count\n",
    "BATCH_WORDS = 4 # Node2Vec batch words"
   ]
  },
  {
   "cell_type": "code",
   "execution_count": 10,
   "id": "38b5b5f3-4b58-4e42-b2ad-67e25b99364d",
   "metadata": {},
   "outputs": [],
   "source": [
    "mdl = g_emb.fit(\n",
    "    window=WINDOW,\n",
    "    min_count=MIN_COUNT,\n",
    "    batch_words=BATCH_WORDS\n",
    ")"
   ]
  },
  {
   "cell_type": "code",
   "execution_count": 11,
   "id": "06e2f2af-0938-4378-9304-c620faac9012",
   "metadata": {},
   "outputs": [],
   "source": [
    "emb_df = (\n",
    "    pd.DataFrame(\n",
    "        [mdl.wv.get_vector(str(n)) for n in tp_nx.nodes()],\n",
    "        index = tp_nx.nodes\n",
    "    )\n",
    ")"
   ]
  },
  {
   "cell_type": "code",
   "execution_count": 12,
   "id": "63a54708-bc49-4079-9683-fab39fa704a2",
   "metadata": {},
   "outputs": [
    {
     "data": {
      "text/html": [
       "<div>\n",
       "<style scoped>\n",
       "    .dataframe tbody tr th:only-of-type {\n",
       "        vertical-align: middle;\n",
       "    }\n",
       "\n",
       "    .dataframe tbody tr th {\n",
       "        vertical-align: top;\n",
       "    }\n",
       "\n",
       "    .dataframe thead th {\n",
       "        text-align: right;\n",
       "    }\n",
       "</style>\n",
       "<table border=\"1\" class=\"dataframe\">\n",
       "  <thead>\n",
       "    <tr style=\"text-align: right;\">\n",
       "      <th></th>\n",
       "      <th>0</th>\n",
       "      <th>1</th>\n",
       "      <th>2</th>\n",
       "      <th>3</th>\n",
       "      <th>4</th>\n",
       "      <th>5</th>\n",
       "      <th>6</th>\n",
       "      <th>7</th>\n",
       "      <th>8</th>\n",
       "      <th>9</th>\n",
       "      <th>10</th>\n",
       "      <th>11</th>\n",
       "      <th>12</th>\n",
       "      <th>13</th>\n",
       "      <th>14</th>\n",
       "      <th>15</th>\n",
       "    </tr>\n",
       "  </thead>\n",
       "  <tbody>\n",
       "    <tr>\n",
       "      <th>0</th>\n",
       "      <td>-0.838726</td>\n",
       "      <td>-0.235961</td>\n",
       "      <td>0.678999</td>\n",
       "      <td>0.272436</td>\n",
       "      <td>1.040902</td>\n",
       "      <td>0.545415</td>\n",
       "      <td>-0.076529</td>\n",
       "      <td>-0.823694</td>\n",
       "      <td>-0.180377</td>\n",
       "      <td>-0.419546</td>\n",
       "      <td>-0.378560</td>\n",
       "      <td>-1.136071</td>\n",
       "      <td>0.917937</td>\n",
       "      <td>0.525844</td>\n",
       "      <td>-0.399737</td>\n",
       "      <td>0.757854</td>\n",
       "    </tr>\n",
       "    <tr>\n",
       "      <th>1</th>\n",
       "      <td>-0.854508</td>\n",
       "      <td>-0.151853</td>\n",
       "      <td>0.553616</td>\n",
       "      <td>0.195111</td>\n",
       "      <td>1.057672</td>\n",
       "      <td>0.700733</td>\n",
       "      <td>-0.054394</td>\n",
       "      <td>-0.762913</td>\n",
       "      <td>-0.143613</td>\n",
       "      <td>-0.328154</td>\n",
       "      <td>-0.380083</td>\n",
       "      <td>-1.128442</td>\n",
       "      <td>1.001008</td>\n",
       "      <td>0.498544</td>\n",
       "      <td>-0.368707</td>\n",
       "      <td>0.743062</td>\n",
       "    </tr>\n",
       "    <tr>\n",
       "      <th>2</th>\n",
       "      <td>-0.926988</td>\n",
       "      <td>-0.104570</td>\n",
       "      <td>0.664905</td>\n",
       "      <td>0.264477</td>\n",
       "      <td>1.109110</td>\n",
       "      <td>0.617614</td>\n",
       "      <td>-0.048608</td>\n",
       "      <td>-0.807432</td>\n",
       "      <td>-0.150094</td>\n",
       "      <td>-0.314221</td>\n",
       "      <td>-0.404238</td>\n",
       "      <td>-1.130124</td>\n",
       "      <td>0.937440</td>\n",
       "      <td>0.488027</td>\n",
       "      <td>-0.309991</td>\n",
       "      <td>0.691492</td>\n",
       "    </tr>\n",
       "    <tr>\n",
       "      <th>3</th>\n",
       "      <td>-0.780072</td>\n",
       "      <td>-0.260421</td>\n",
       "      <td>0.672069</td>\n",
       "      <td>0.253161</td>\n",
       "      <td>1.051173</td>\n",
       "      <td>0.685588</td>\n",
       "      <td>-0.089009</td>\n",
       "      <td>-0.754997</td>\n",
       "      <td>-0.209139</td>\n",
       "      <td>-0.311743</td>\n",
       "      <td>-0.292209</td>\n",
       "      <td>-1.033492</td>\n",
       "      <td>0.953190</td>\n",
       "      <td>0.570085</td>\n",
       "      <td>-0.399655</td>\n",
       "      <td>0.817219</td>\n",
       "    </tr>\n",
       "    <tr>\n",
       "      <th>4</th>\n",
       "      <td>-0.912576</td>\n",
       "      <td>-0.186411</td>\n",
       "      <td>0.681746</td>\n",
       "      <td>0.168253</td>\n",
       "      <td>1.044887</td>\n",
       "      <td>0.617192</td>\n",
       "      <td>0.084998</td>\n",
       "      <td>-0.852501</td>\n",
       "      <td>-0.145857</td>\n",
       "      <td>-0.282448</td>\n",
       "      <td>-0.437965</td>\n",
       "      <td>-1.112469</td>\n",
       "      <td>0.985778</td>\n",
       "      <td>0.519955</td>\n",
       "      <td>-0.390988</td>\n",
       "      <td>0.657512</td>\n",
       "    </tr>\n",
       "  </tbody>\n",
       "</table>\n",
       "</div>"
      ],
      "text/plain": [
       "         0         1         2         3         4         5         6   \\\n",
       "0 -0.838726 -0.235961  0.678999  0.272436  1.040902  0.545415 -0.076529   \n",
       "1 -0.854508 -0.151853  0.553616  0.195111  1.057672  0.700733 -0.054394   \n",
       "2 -0.926988 -0.104570  0.664905  0.264477  1.109110  0.617614 -0.048608   \n",
       "3 -0.780072 -0.260421  0.672069  0.253161  1.051173  0.685588 -0.089009   \n",
       "4 -0.912576 -0.186411  0.681746  0.168253  1.044887  0.617192  0.084998   \n",
       "\n",
       "         7         8         9         10        11        12        13  \\\n",
       "0 -0.823694 -0.180377 -0.419546 -0.378560 -1.136071  0.917937  0.525844   \n",
       "1 -0.762913 -0.143613 -0.328154 -0.380083 -1.128442  1.001008  0.498544   \n",
       "2 -0.807432 -0.150094 -0.314221 -0.404238 -1.130124  0.937440  0.488027   \n",
       "3 -0.754997 -0.209139 -0.311743 -0.292209 -1.033492  0.953190  0.570085   \n",
       "4 -0.852501 -0.145857 -0.282448 -0.437965 -1.112469  0.985778  0.519955   \n",
       "\n",
       "         14        15  \n",
       "0 -0.399737  0.757854  \n",
       "1 -0.368707  0.743062  \n",
       "2 -0.309991  0.691492  \n",
       "3 -0.399655  0.817219  \n",
       "4 -0.390988  0.657512  "
      ]
     },
     "execution_count": 12,
     "metadata": {},
     "output_type": "execute_result"
    }
   ],
   "source": [
    "emb_df.head()"
   ]
  },
  {
   "cell_type": "code",
   "execution_count": 20,
   "id": "5fbe5920-52f9-4895-8b92-02a6a90590aa",
   "metadata": {},
   "outputs": [],
   "source": [
    "emb_df = emb_df.merge(\n",
    "    research_df[['article_id', 'main_topic']].set_index('article_id'),\n",
    "    left_index = True,\n",
    "    right_index = True\n",
    ")"
   ]
  },
  {
   "cell_type": "code",
   "execution_count": 24,
   "id": "b0d694c8-c686-400c-ab63-67c35db1fc26",
   "metadata": {},
   "outputs": [],
   "source": [
    "ft_cols = emb_df.drop(columns = ['main_topic']).columns.tolist()\n",
    "target_col = 'main_topic'"
   ]
  },
  {
   "cell_type": "code",
   "execution_count": 35,
   "id": "cd314423-d2c0-4651-b543-952a461f00c0",
   "metadata": {},
   "outputs": [],
   "source": [
    "# train test split\n",
    "x = emb_df[ft_cols].values\n",
    "y = emb_df[target_col].values\n",
    "\n",
    "x_train, x_test, y_train, y_test = train_test_split(\n",
    "    x, \n",
    "    y,\n",
    "    test_size = 0.3\n",
    ")"
   ]
  },
  {
   "cell_type": "markdown",
   "id": "17f87fc5-a687-4a6a-a9db-6480161aed88",
   "metadata": {},
   "source": [
    "## Train Model"
   ]
  },
  {
   "cell_type": "code",
   "execution_count": 36,
   "id": "c6604426-599b-4775-9a02-67f42e5cb736",
   "metadata": {},
   "outputs": [
    {
     "name": "stdout",
     "output_type": "stream",
     "text": [
      "CPU times: user 14.3 s, sys: 65.8 ms, total: 14.3 s\n",
      "Wall time: 14.5 s\n"
     ]
    },
    {
     "data": {
      "text/plain": [
       "GradientBoostingClassifier()"
      ]
     },
     "execution_count": 36,
     "metadata": {},
     "output_type": "execute_result"
    }
   ],
   "source": [
    "%%time\n",
    "# GBC classifier\n",
    "clf = GradientBoostingClassifier()\n",
    "\n",
    "# train the model\n",
    "clf.fit(x_train, y_train)"
   ]
  },
  {
   "cell_type": "markdown",
   "id": "eb8e382b-f693-4d4f-85ac-5ec0fc696583",
   "metadata": {},
   "source": [
    "## Evaluate Model"
   ]
  },
  {
   "cell_type": "code",
   "execution_count": 37,
   "id": "dd61cfc3-0d7c-489a-82d0-dc9a38ce155d",
   "metadata": {},
   "outputs": [],
   "source": [
    "y_pred = clf.predict(x_test)\n",
    "y_true = y_test"
   ]
  },
  {
   "cell_type": "code",
   "execution_count": 38,
   "id": "564c02cf-23d7-46a7-bbd1-e5414557b809",
   "metadata": {},
   "outputs": [
    {
     "name": "stdout",
     "output_type": "stream",
     "text": [
      "Testing Accuracy :  0.8350515463917526\n",
      "Training Accuracy :  1.0\n"
     ]
    }
   ],
   "source": [
    "y_pred = clf.predict(x_test)\n",
    "x_pred = clf.predict(x_train)\n",
    "test_acc = accuracy_score(y_test, y_pred)\n",
    "train_acc = accuracy_score(y_train, x_pred)\n",
    "print(\"Testing Accuracy : \", test_acc)\n",
    "print(\"Training Accuracy : \", train_acc)"
   ]
  },
  {
   "cell_type": "code",
   "execution_count": 39,
   "id": "6ddcdf08-46f4-4555-a6f8-b6f7ee3e1031",
   "metadata": {},
   "outputs": [
    {
     "name": "stdout",
     "output_type": "stream",
     "text": [
      "MCC Score :  0.8222440064195689\n"
     ]
    }
   ],
   "source": [
    "print(\"MCC Score : \", matthews_corrcoef(y_true, y_pred))\n"
   ]
  },
  {
   "cell_type": "code",
   "execution_count": 40,
   "id": "59c22e62-f7b4-40b0-b2db-822d1e6b5d29",
   "metadata": {},
   "outputs": [
    {
     "name": "stdout",
     "output_type": "stream",
     "text": [
      "Test Classification Report : \n",
      "                   precision    recall  f1-score   support\n",
      "\n",
      "      astro-ph.CO       1.00      1.00      1.00         2\n",
      "      astro-ph.EP       1.00      1.00      1.00         3\n",
      "      astro-ph.GA       1.00      1.00      1.00         1\n",
      "      astro-ph.HE       0.00      0.00      0.00         1\n",
      "      astro-ph.IM       0.00      0.00      0.00         0\n",
      "      astro-ph.SR       0.00      0.00      0.00         2\n",
      "  cond-mat.dis-nn       1.00      1.00      1.00         1\n",
      "cond-mat.mes-hall       0.00      0.00      0.00         2\n",
      "cond-mat.mtrl-sci       1.00      1.00      1.00         1\n",
      "    cond-mat.soft       0.00      0.00      0.00         0\n",
      "  cond-mat.str-el       0.00      0.00      0.00         0\n",
      "cond-mat.supr-con       0.00      0.00      0.00         2\n",
      "            cs.AI       1.00      1.00      1.00         3\n",
      "            cs.CE       1.00      1.00      1.00         2\n",
      "            cs.CG       0.00      0.00      0.00         1\n",
      "            cs.CL       1.00      1.00      1.00        21\n",
      "            cs.CR       0.75      1.00      0.86         3\n",
      "            cs.CV       0.86      1.00      0.92        12\n",
      "            cs.DM       1.00      1.00      1.00         1\n",
      "            cs.DS       1.00      1.00      1.00         1\n",
      "            cs.HC       1.00      1.00      1.00         1\n",
      "            cs.IR       1.00      1.00      1.00         2\n",
      "            cs.IT       1.00      1.00      1.00         2\n",
      "            cs.LG       0.82      1.00      0.90        42\n",
      "            cs.LO       0.00      0.00      0.00         1\n",
      "            cs.NI       1.00      1.00      1.00         2\n",
      "            cs.PL       0.00      0.00      0.00         2\n",
      "            cs.RO       1.00      1.00      1.00         6\n",
      "            cs.SD       0.00      0.00      0.00         0\n",
      "            cs.SE       1.00      1.00      1.00         3\n",
      "            cs.SI       1.00      1.00      1.00         2\n",
      "          econ.GN       0.00      0.00      0.00         1\n",
      "          eess.AS       0.00      0.00      0.00         2\n",
      "          eess.IV       0.80      1.00      0.89         4\n",
      "          eess.SY       1.00      1.00      1.00         3\n",
      "           hep-ph       1.00      0.86      0.92         7\n",
      "           hep-th       1.00      1.00      1.00         3\n",
      "          math-ph       0.90      1.00      0.95         9\n",
      "          math.AP       1.00      1.00      1.00         2\n",
      "          math.AT       1.00      1.00      1.00         3\n",
      "          math.CA       0.00      0.00      0.00         0\n",
      "          math.CO       0.50      1.00      0.67         3\n",
      "          math.FA       0.00      0.00      0.00         1\n",
      "          math.HO       0.00      0.00      0.00         1\n",
      "          math.NA       1.00      1.00      1.00         2\n",
      "          math.OC       0.00      0.00      0.00         3\n",
      "          math.PR       1.00      1.00      1.00         1\n",
      "          math.ST       1.00      1.00      1.00         1\n",
      "          nlin.AO       1.00      0.33      0.50         3\n",
      "          nlin.SI       0.00      0.00      0.00         1\n",
      "          nucl-th       1.00      0.50      0.67         2\n",
      "   physics.bio-ph       0.00      0.00      0.00         1\n",
      "  physics.comp-ph       0.00      0.00      0.00         1\n",
      "  physics.ins-det       0.00      0.00      0.00         2\n",
      "   physics.med-ph       1.00      1.00      1.00         1\n",
      "   physics.optics       1.00      0.33      0.50         3\n",
      " physics.plasm-ph       0.00      0.00      0.00         2\n",
      "   physics.soc-ph       0.50      1.00      0.67         1\n",
      "         q-bio.CB       0.00      0.00      0.00         0\n",
      "         q-fin.MF       0.00      0.00      0.00         0\n",
      "         quant-ph       1.00      1.00      1.00         5\n",
      "          stat.AP       1.00      1.00      1.00         2\n",
      "          stat.ME       0.67      1.00      0.80         2\n",
      "\n",
      "         accuracy                           0.84       194\n",
      "        macro avg       0.58      0.59      0.58       194\n",
      "     weighted avg       0.79      0.84      0.80       194\n",
      "\n"
     ]
    },
    {
     "name": "stderr",
     "output_type": "stream",
     "text": [
      "/Users/vatsalpatel/anaconda3/lib/python3.8/site-packages/sklearn/metrics/_classification.py:1245: UndefinedMetricWarning: Precision and F-score are ill-defined and being set to 0.0 in labels with no predicted samples. Use `zero_division` parameter to control this behavior.\n",
      "  _warn_prf(average, modifier, msg_start, len(result))\n",
      "/Users/vatsalpatel/anaconda3/lib/python3.8/site-packages/sklearn/metrics/_classification.py:1245: UndefinedMetricWarning: Recall and F-score are ill-defined and being set to 0.0 in labels with no true samples. Use `zero_division` parameter to control this behavior.\n",
      "  _warn_prf(average, modifier, msg_start, len(result))\n",
      "/Users/vatsalpatel/anaconda3/lib/python3.8/site-packages/sklearn/metrics/_classification.py:1245: UndefinedMetricWarning: Precision and F-score are ill-defined and being set to 0.0 in labels with no predicted samples. Use `zero_division` parameter to control this behavior.\n",
      "  _warn_prf(average, modifier, msg_start, len(result))\n",
      "/Users/vatsalpatel/anaconda3/lib/python3.8/site-packages/sklearn/metrics/_classification.py:1245: UndefinedMetricWarning: Recall and F-score are ill-defined and being set to 0.0 in labels with no true samples. Use `zero_division` parameter to control this behavior.\n",
      "  _warn_prf(average, modifier, msg_start, len(result))\n",
      "/Users/vatsalpatel/anaconda3/lib/python3.8/site-packages/sklearn/metrics/_classification.py:1245: UndefinedMetricWarning: Precision and F-score are ill-defined and being set to 0.0 in labels with no predicted samples. Use `zero_division` parameter to control this behavior.\n",
      "  _warn_prf(average, modifier, msg_start, len(result))\n",
      "/Users/vatsalpatel/anaconda3/lib/python3.8/site-packages/sklearn/metrics/_classification.py:1245: UndefinedMetricWarning: Recall and F-score are ill-defined and being set to 0.0 in labels with no true samples. Use `zero_division` parameter to control this behavior.\n",
      "  _warn_prf(average, modifier, msg_start, len(result))\n"
     ]
    }
   ],
   "source": [
    "print(\"Test Classification Report : \")\n",
    "print(classification_report(y_test, clf.predict(x_test)))"
   ]
  },
  {
   "cell_type": "code",
   "execution_count": 41,
   "id": "6c700214-ddbc-47a2-8bf0-1fc491a3a351",
   "metadata": {},
   "outputs": [
    {
     "name": "stdout",
     "output_type": "stream",
     "text": [
      "[[2 0 0 ... 0 0 0]\n",
      " [0 3 0 ... 0 0 0]\n",
      " [0 0 1 ... 0 0 0]\n",
      " ...\n",
      " [0 0 0 ... 5 0 0]\n",
      " [0 0 0 ... 0 2 0]\n",
      " [0 0 0 ... 0 0 2]]\n"
     ]
    }
   ],
   "source": [
    "print(confusion_matrix(y_pred,y_test))"
   ]
  },
  {
   "cell_type": "markdown",
   "id": "f438fe8b-ebbb-484d-bf34-716e4b7d9fd1",
   "metadata": {},
   "source": [
    "## Predictions"
   ]
  },
  {
   "cell_type": "code",
   "execution_count": 45,
   "id": "d2ccbad5-9504-48f1-a780-7c2ec6a7b5b9",
   "metadata": {},
   "outputs": [
    {
     "data": {
      "text/plain": [
       "'cs.LG'"
      ]
     },
     "execution_count": 45,
     "metadata": {},
     "output_type": "execute_result"
    }
   ],
   "source": [
    "pred_ft = [mdl.wv.get_vector(str('21'))]\n",
    "clf.predict(pred_ft)[0]"
   ]
  },
  {
   "cell_type": "markdown",
   "id": "6cc1861e-d44b-48ab-abda-ddc3fc16b777",
   "metadata": {},
   "source": [
    "## Concluding Remarks\n",
    "\n",
    "\n",
    "## Resources"
   ]
  },
  {
   "cell_type": "markdown",
   "id": "12205ff3-06b6-417f-9b65-52cf368f2c22",
   "metadata": {},
   "source": [
    "---"
   ]
  }
 ],
 "metadata": {
  "kernelspec": {
   "display_name": "Python 3",
   "language": "python",
   "name": "python3"
  },
  "language_info": {
   "codemirror_mode": {
    "name": "ipython",
    "version": 3
   },
   "file_extension": ".py",
   "mimetype": "text/x-python",
   "name": "python",
   "nbconvert_exporter": "python",
   "pygments_lexer": "ipython3",
   "version": "3.8.8"
  }
 },
 "nbformat": 4,
 "nbformat_minor": 5
}
