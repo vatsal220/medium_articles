{
 "cells": [
  {
   "cell_type": "markdown",
   "id": "168de318-3817-4a4e-92bf-6868424c3898",
   "metadata": {},
   "source": [
    "# Node Classification"
   ]
  },
  {
   "cell_type": "code",
   "execution_count": 3,
   "id": "fbf4a040-67f8-421b-aef3-2ccbac7f1946",
   "metadata": {},
   "outputs": [],
   "source": [
    "import networkx as nx\n",
    "import pandas as pd\n",
    "import numpy as np\n",
    "import arxiv\n",
    "\n",
    "from sklearn.ensemble import GradientBoostingClassifier\n",
    "from sklearn.model_selection import train_test_split\n",
    "from sklearn.metrics import accuracy_score, matthews_corrcoef, confusion_matrix, classification_report\n",
    "from node2vec import Node2Vec as n2v"
   ]
  },
  {
   "cell_type": "code",
   "execution_count": 4,
   "id": "1af08b4c-d203-4aa3-be20-2271b06d8827",
   "metadata": {},
   "outputs": [],
   "source": [
    "# constants\n",
    "queries = [\n",
    "    'automl', 'machinelearning', 'data', 'phyiscs','mathematics', 'recommendation system', 'nlp', 'neural networks'\n",
    "]"
   ]
  },
  {
   "cell_type": "markdown",
   "id": "8c79e656-b9a1-4c8a-bc5c-016e1ab8b23b",
   "metadata": {},
   "source": [
    "## Fetch Data"
   ]
  },
  {
   "cell_type": "code",
   "execution_count": 6,
   "id": "944f1ccb-69db-4c2f-a5a2-9361c5637d39",
   "metadata": {},
   "outputs": [],
   "source": [
    "def search_arxiv(queries, max_results = 100):\n",
    "    '''\n",
    "    This function will search arxiv associated to a set of queries and store\n",
    "    the latest 10000 (max_results) associated to that search.\n",
    "    \n",
    "    params:\n",
    "        queries (List -> Str) : A list of strings containing keywords you want\n",
    "                                to search on Arxiv\n",
    "        max_results (Int) : The maximum number of results you want to see associated\n",
    "                            to your search. Default value is 1000, capped at 300000\n",
    "                            \n",
    "    returns:\n",
    "        This function will return a DataFrame holding the following columns associated\n",
    "        to the queries the user has passed. \n",
    "            `title`, `date`, `article_id`, `url`, `main_topic`, `all_topics`\n",
    "    \n",
    "    example:\n",
    "        research_df = search_arxiv(\n",
    "            queries = ['automl', 'recommender system', 'nlp', 'data science'],\n",
    "            max_results = 10000\n",
    "        )\n",
    "    '''\n",
    "    d = []\n",
    "    searches = []\n",
    "    # hitting the API\n",
    "    for query in queries:\n",
    "        search = arxiv.Search(\n",
    "          query = query,\n",
    "          max_results = max_results,\n",
    "          sort_by = arxiv.SortCriterion.SubmittedDate,\n",
    "          sort_order = arxiv.SortOrder.Descending\n",
    "        )\n",
    "        searches.append(search)\n",
    "    \n",
    "    # Converting search result into df\n",
    "    for search in searches:\n",
    "        for res in search.results():\n",
    "            data = {\n",
    "                'title' : res.title,\n",
    "                'date' : res.published,\n",
    "                'article_id' : res.entry_id,\n",
    "                'url' : res.pdf_url,\n",
    "                'main_topic' : res.primary_category,\n",
    "                'all_topics' : res.categories,\n",
    "                'authors' : res.authors\n",
    "            }\n",
    "            d.append(data)\n",
    "        \n",
    "    d = pd.DataFrame(d)\n",
    "    d['year'] = pd.DatetimeIndex(d['date']).year\n",
    "    \n",
    "    # change article id from url to integer\n",
    "    unique_article_ids = d.article_id.unique()\n",
    "    article_mapping = {art:idx for idx,art in enumerate(unique_article_ids)}\n",
    "    d['article_id'] = d['article_id'].map(article_mapping)\n",
    "    return d"
   ]
  },
  {
   "cell_type": "code",
   "execution_count": 7,
   "id": "00a0f9af-524d-4370-bce7-f8c6855152dd",
   "metadata": {},
   "outputs": [
    {
     "name": "stdout",
     "output_type": "stream",
     "text": [
      "CPU times: user 1.21 s, sys: 200 ms, total: 1.41 s\n",
      "Wall time: 8.84 s\n"
     ]
    },
    {
     "data": {
      "text/plain": [
       "(646, 8)"
      ]
     },
     "execution_count": 7,
     "metadata": {},
     "output_type": "execute_result"
    }
   ],
   "source": [
    "%%time\n",
    "research_df = search_arxiv(\n",
    "    queries = queries,\n",
    "    max_results = 100\n",
    ")\n",
    "research_df.shape"
   ]
  },
  {
   "cell_type": "code",
   "execution_count": null,
   "id": "03ab01b5-f9c9-40b1-8ec3-395a753f501a",
   "metadata": {},
   "outputs": [],
   "source": []
  },
  {
   "cell_type": "markdown",
   "id": "3a7886d3-e135-495e-a96a-aa141cf51fae",
   "metadata": {},
   "source": [
    "## Create Network"
   ]
  },
  {
   "cell_type": "code",
   "execution_count": 2,
   "id": "9c6e106a-ba56-4659-a188-772306d5c078",
   "metadata": {},
   "outputs": [],
   "source": [
    "def generate_network(df, node_col, edge_col):\n",
    "    '''\n",
    "    This function will generate a article to article network given an input DataFrame.\n",
    "    It will do so by creating an edge_dictionary where each key is going to be a node\n",
    "    referenced by unique values in node_col and the values will be a list of other nodes\n",
    "    connected to the key through the edge_col.\n",
    "    \n",
    "    params:\n",
    "        df (DataFrame) : The dataset which holds the node and edge columns\n",
    "        node_col (String) : The column name associated to the nodes of the network\n",
    "        edge_col (String) : The column name associated to the edges of the network\n",
    "        \n",
    "    returns:\n",
    "        A networkx graph corresponding to the input dataset\n",
    "        \n",
    "    example:\n",
    "        generate_network(\n",
    "            research_df,\n",
    "            node_col = 'article_id',\n",
    "            edge_col = 'main_topic'\n",
    "        )\n",
    "    '''\n",
    "    edge_dct = {}\n",
    "    for i,g in df.groupby(node_col):\n",
    "        topics = g[edge_col].unique()\n",
    "        edge_df = df[(df[node_col] != i) & (df[edge_col].isin(topics))]\n",
    "        edges = list(edge_df[node_col].unique())\n",
    "        edge_dct[i] = edges\n",
    "    \n",
    "    # create nx network\n",
    "    g = nx.Graph(edge_dct, create_using = nx.MultiGraph)\n",
    "    return g"
   ]
  },
  {
   "cell_type": "code",
   "execution_count": 8,
   "id": "c09d5544-3b6e-42ab-9f47-4e2dcf096bdd",
   "metadata": {},
   "outputs": [],
   "source": [
    "all_tp = research_df.explode('all_topics').copy()"
   ]
  },
  {
   "cell_type": "code",
   "execution_count": 9,
   "id": "7e739a71-2a1e-4dfd-aae1-620410bfca01",
   "metadata": {},
   "outputs": [
    {
     "name": "stdout",
     "output_type": "stream",
     "text": [
      "CPU times: user 400 ms, sys: 38.6 ms, total: 439 ms\n",
      "Wall time: 588 ms\n"
     ]
    }
   ],
   "source": [
    "%%time\n",
    "tp_nx = generate_network(\n",
    "    all_tp, \n",
    "    node_col = 'article_id', \n",
    "    edge_col = 'all_topics'\n",
    ")"
   ]
  },
  {
   "cell_type": "code",
   "execution_count": 10,
   "id": "77bb39fb-b179-4108-8993-084b4156caba",
   "metadata": {},
   "outputs": [
    {
     "name": "stdout",
     "output_type": "stream",
     "text": [
      "Name: \n",
      "Type: Graph\n",
      "Number of nodes: 554\n",
      "Number of edges: 27745\n",
      "Average degree: 100.1625\n"
     ]
    }
   ],
   "source": [
    "print(nx.info(tp_nx))"
   ]
  },
  {
   "cell_type": "markdown",
   "id": "88e5a6ab-eca7-46f1-91b0-49e96514ecf6",
   "metadata": {},
   "source": [
    "## Apply Node2Vec"
   ]
  },
  {
   "cell_type": "code",
   "execution_count": 11,
   "id": "23802c9a-b3a4-435b-b53d-4a01b88ac758",
   "metadata": {},
   "outputs": [
    {
     "data": {
      "application/vnd.jupyter.widget-view+json": {
       "model_id": "5569d21f06c343f396a312e916257276",
       "version_major": 2,
       "version_minor": 0
      },
      "text/plain": [
       "Computing transition probabilities:   0%|          | 0/554 [00:00<?, ?it/s]"
      ]
     },
     "metadata": {},
     "output_type": "display_data"
    },
    {
     "name": "stderr",
     "output_type": "stream",
     "text": [
      "Generating walks (CPU: 1): 100%|██████████| 10/10 [00:13<00:00,  1.33s/it]"
     ]
    },
    {
     "name": "stdout",
     "output_type": "stream",
     "text": [
      "CPU times: user 33.1 s, sys: 485 ms, total: 33.6 s\n",
      "Wall time: 34.5 s\n"
     ]
    },
    {
     "name": "stderr",
     "output_type": "stream",
     "text": [
      "\n"
     ]
    }
   ],
   "source": [
    "%time g_emb = n2v(tp_nx, dimensions=16)"
   ]
  },
  {
   "cell_type": "code",
   "execution_count": 12,
   "id": "3aff2d00-67dc-4a1b-9d09-b970f82088a9",
   "metadata": {},
   "outputs": [],
   "source": [
    "WINDOW = 1 # Node2Vec fit window\n",
    "MIN_COUNT = 1 # Node2Vec min. count\n",
    "BATCH_WORDS = 4 # Node2Vec batch words"
   ]
  },
  {
   "cell_type": "code",
   "execution_count": 13,
   "id": "38b5b5f3-4b58-4e42-b2ad-67e25b99364d",
   "metadata": {},
   "outputs": [],
   "source": [
    "mdl = g_emb.fit(\n",
    "    window=WINDOW,\n",
    "    min_count=MIN_COUNT,\n",
    "    batch_words=BATCH_WORDS\n",
    ")"
   ]
  },
  {
   "cell_type": "code",
   "execution_count": 14,
   "id": "06e2f2af-0938-4378-9304-c620faac9012",
   "metadata": {},
   "outputs": [],
   "source": [
    "emb_df = (\n",
    "    pd.DataFrame(\n",
    "        [mdl.wv.get_vector(str(n)) for n in tp_nx.nodes()],\n",
    "        index = tp_nx.nodes\n",
    "    )\n",
    ")"
   ]
  },
  {
   "cell_type": "code",
   "execution_count": 15,
   "id": "63a54708-bc49-4079-9683-fab39fa704a2",
   "metadata": {},
   "outputs": [
    {
     "data": {
      "text/html": [
       "<div>\n",
       "<style scoped>\n",
       "    .dataframe tbody tr th:only-of-type {\n",
       "        vertical-align: middle;\n",
       "    }\n",
       "\n",
       "    .dataframe tbody tr th {\n",
       "        vertical-align: top;\n",
       "    }\n",
       "\n",
       "    .dataframe thead th {\n",
       "        text-align: right;\n",
       "    }\n",
       "</style>\n",
       "<table border=\"1\" class=\"dataframe\">\n",
       "  <thead>\n",
       "    <tr style=\"text-align: right;\">\n",
       "      <th></th>\n",
       "      <th>0</th>\n",
       "      <th>1</th>\n",
       "      <th>2</th>\n",
       "      <th>3</th>\n",
       "      <th>4</th>\n",
       "      <th>5</th>\n",
       "      <th>6</th>\n",
       "      <th>7</th>\n",
       "      <th>8</th>\n",
       "      <th>9</th>\n",
       "      <th>10</th>\n",
       "      <th>11</th>\n",
       "      <th>12</th>\n",
       "      <th>13</th>\n",
       "      <th>14</th>\n",
       "      <th>15</th>\n",
       "    </tr>\n",
       "  </thead>\n",
       "  <tbody>\n",
       "    <tr>\n",
       "      <th>0</th>\n",
       "      <td>-0.207463</td>\n",
       "      <td>0.062599</td>\n",
       "      <td>0.316774</td>\n",
       "      <td>0.759136</td>\n",
       "      <td>0.531327</td>\n",
       "      <td>0.218926</td>\n",
       "      <td>1.292739</td>\n",
       "      <td>0.829721</td>\n",
       "      <td>0.227742</td>\n",
       "      <td>0.811851</td>\n",
       "      <td>0.184792</td>\n",
       "      <td>-0.461864</td>\n",
       "      <td>-0.256434</td>\n",
       "      <td>-0.607792</td>\n",
       "      <td>-0.297039</td>\n",
       "      <td>0.720587</td>\n",
       "    </tr>\n",
       "    <tr>\n",
       "      <th>1</th>\n",
       "      <td>0.183530</td>\n",
       "      <td>-0.303806</td>\n",
       "      <td>-0.191326</td>\n",
       "      <td>0.695051</td>\n",
       "      <td>0.004614</td>\n",
       "      <td>0.516913</td>\n",
       "      <td>1.419496</td>\n",
       "      <td>0.712160</td>\n",
       "      <td>-0.516897</td>\n",
       "      <td>-0.066074</td>\n",
       "      <td>-0.123888</td>\n",
       "      <td>-0.263573</td>\n",
       "      <td>0.205573</td>\n",
       "      <td>-0.329295</td>\n",
       "      <td>-0.679910</td>\n",
       "      <td>0.548596</td>\n",
       "    </tr>\n",
       "    <tr>\n",
       "      <th>2</th>\n",
       "      <td>0.136323</td>\n",
       "      <td>-0.342012</td>\n",
       "      <td>-0.203393</td>\n",
       "      <td>0.679367</td>\n",
       "      <td>-0.072208</td>\n",
       "      <td>0.576346</td>\n",
       "      <td>1.321501</td>\n",
       "      <td>0.549285</td>\n",
       "      <td>-0.382767</td>\n",
       "      <td>0.075622</td>\n",
       "      <td>-0.218555</td>\n",
       "      <td>-0.346983</td>\n",
       "      <td>0.309274</td>\n",
       "      <td>-0.335234</td>\n",
       "      <td>-0.661385</td>\n",
       "      <td>0.696024</td>\n",
       "    </tr>\n",
       "    <tr>\n",
       "      <th>3</th>\n",
       "      <td>-0.071042</td>\n",
       "      <td>-0.024264</td>\n",
       "      <td>0.374454</td>\n",
       "      <td>0.676078</td>\n",
       "      <td>0.132810</td>\n",
       "      <td>0.264118</td>\n",
       "      <td>1.281350</td>\n",
       "      <td>0.693255</td>\n",
       "      <td>-0.042121</td>\n",
       "      <td>0.912933</td>\n",
       "      <td>0.303049</td>\n",
       "      <td>-0.381561</td>\n",
       "      <td>-0.430063</td>\n",
       "      <td>-0.631585</td>\n",
       "      <td>-0.392021</td>\n",
       "      <td>0.633346</td>\n",
       "    </tr>\n",
       "    <tr>\n",
       "      <th>4</th>\n",
       "      <td>0.161672</td>\n",
       "      <td>-0.338293</td>\n",
       "      <td>-0.258853</td>\n",
       "      <td>0.834578</td>\n",
       "      <td>-0.090691</td>\n",
       "      <td>0.538172</td>\n",
       "      <td>1.258410</td>\n",
       "      <td>0.596693</td>\n",
       "      <td>-0.534008</td>\n",
       "      <td>0.191207</td>\n",
       "      <td>-0.226571</td>\n",
       "      <td>-0.304185</td>\n",
       "      <td>0.358930</td>\n",
       "      <td>-0.472012</td>\n",
       "      <td>-0.726286</td>\n",
       "      <td>0.616967</td>\n",
       "    </tr>\n",
       "  </tbody>\n",
       "</table>\n",
       "</div>"
      ],
      "text/plain": [
       "         0         1         2         3         4         5         6   \\\n",
       "0 -0.207463  0.062599  0.316774  0.759136  0.531327  0.218926  1.292739   \n",
       "1  0.183530 -0.303806 -0.191326  0.695051  0.004614  0.516913  1.419496   \n",
       "2  0.136323 -0.342012 -0.203393  0.679367 -0.072208  0.576346  1.321501   \n",
       "3 -0.071042 -0.024264  0.374454  0.676078  0.132810  0.264118  1.281350   \n",
       "4  0.161672 -0.338293 -0.258853  0.834578 -0.090691  0.538172  1.258410   \n",
       "\n",
       "         7         8         9         10        11        12        13  \\\n",
       "0  0.829721  0.227742  0.811851  0.184792 -0.461864 -0.256434 -0.607792   \n",
       "1  0.712160 -0.516897 -0.066074 -0.123888 -0.263573  0.205573 -0.329295   \n",
       "2  0.549285 -0.382767  0.075622 -0.218555 -0.346983  0.309274 -0.335234   \n",
       "3  0.693255 -0.042121  0.912933  0.303049 -0.381561 -0.430063 -0.631585   \n",
       "4  0.596693 -0.534008  0.191207 -0.226571 -0.304185  0.358930 -0.472012   \n",
       "\n",
       "         14        15  \n",
       "0 -0.297039  0.720587  \n",
       "1 -0.679910  0.548596  \n",
       "2 -0.661385  0.696024  \n",
       "3 -0.392021  0.633346  \n",
       "4 -0.726286  0.616967  "
      ]
     },
     "execution_count": 15,
     "metadata": {},
     "output_type": "execute_result"
    }
   ],
   "source": [
    "emb_df.head()"
   ]
  },
  {
   "cell_type": "markdown",
   "id": "17f87fc5-a687-4a6a-a9db-6480161aed88",
   "metadata": {},
   "source": [
    "## Train Model"
   ]
  },
  {
   "cell_type": "code",
   "execution_count": null,
   "id": "56c64f40-2fdd-433a-bee3-0e72720b5b8d",
   "metadata": {},
   "outputs": [],
   "source": []
  },
  {
   "cell_type": "code",
   "execution_count": null,
   "id": "eaf9dccd-5ab6-4493-ad33-27cedeca77f3",
   "metadata": {},
   "outputs": [],
   "source": []
  },
  {
   "cell_type": "markdown",
   "id": "eb8e382b-f693-4d4f-85ac-5ec0fc696583",
   "metadata": {},
   "source": [
    "## Evaluate Model"
   ]
  },
  {
   "cell_type": "code",
   "execution_count": null,
   "id": "dd61cfc3-0d7c-489a-82d0-dc9a38ce155d",
   "metadata": {},
   "outputs": [],
   "source": []
  },
  {
   "cell_type": "code",
   "execution_count": null,
   "id": "7d5d8343-485f-4ba0-a066-81c9948e9afd",
   "metadata": {},
   "outputs": [],
   "source": []
  },
  {
   "cell_type": "markdown",
   "id": "f438fe8b-ebbb-484d-bf34-716e4b7d9fd1",
   "metadata": {},
   "source": [
    "## Predictions"
   ]
  },
  {
   "cell_type": "code",
   "execution_count": null,
   "id": "d2ccbad5-9504-48f1-a780-7c2ec6a7b5b9",
   "metadata": {},
   "outputs": [],
   "source": []
  },
  {
   "cell_type": "code",
   "execution_count": null,
   "id": "9f51f3ad-a7e3-4e32-9a96-a5b4c6338e43",
   "metadata": {},
   "outputs": [],
   "source": []
  },
  {
   "cell_type": "markdown",
   "id": "6cc1861e-d44b-48ab-abda-ddc3fc16b777",
   "metadata": {},
   "source": [
    "## Concluding Remarks\n",
    "\n",
    "\n",
    "## Resources"
   ]
  },
  {
   "cell_type": "markdown",
   "id": "12205ff3-06b6-417f-9b65-52cf368f2c22",
   "metadata": {},
   "source": [
    "---"
   ]
  }
 ],
 "metadata": {
  "kernelspec": {
   "display_name": "Python 3",
   "language": "python",
   "name": "python3"
  },
  "language_info": {
   "codemirror_mode": {
    "name": "ipython",
    "version": 3
   },
   "file_extension": ".py",
   "mimetype": "text/x-python",
   "name": "python",
   "nbconvert_exporter": "python",
   "pygments_lexer": "ipython3",
   "version": "3.8.8"
  }
 },
 "nbformat": 4,
 "nbformat_minor": 5
}
