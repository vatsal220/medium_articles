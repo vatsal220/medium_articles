{
 "cells": [
  {
   "cell_type": "markdown",
   "id": "b7c3d13a-1efb-44f8-9fd1-12f81dc176b8",
   "metadata": {},
   "source": [
    "# BERT"
   ]
  },
  {
   "cell_type": "markdown",
   "id": "dd5cd1dc-6f0b-453a-af50-24a13e5b10ad",
   "metadata": {},
   "source": [
    "### Resources   \n",
    "- https://jalammar.github.io/a-visual-guide-to-using-bert-for-the-first-time/\n",
    "- https://searchenterpriseai.techtarget.com/definition/BERT-language-model\n",
    "- https://www.thepythoncode.com/article/finetuning-bert-using-huggingface-transformers-python\n",
    "- https://towardsdatascience.com/text-classification-with-bert-in-pytorch-887965e5820f\n",
    "- https://towardsdatascience.com/bert-text-classification-using-pytorch-723dfb8b6b5b\n",
    "- https://curiousily.com/posts/multi-label-text-classification-with-bert-and-pytorch-lightning/\n",
    "- https://towardsdatascience.com/bert-for-dummies-step-by-step-tutorial-fb90890ffe03\n",
    "- https://neptune.ai/blog/how-to-code-bert-using-pytorch-tutorial\n",
    "- https://medium.com/analytics-vidhya/text-summarization-using-bert-gpt2-xlnet-5ee80608e961"
   ]
  },
  {
   "cell_type": "code",
   "execution_count": 3,
   "id": "8bbedf85-fa8b-43be-9013-41cd5d46b14c",
   "metadata": {},
   "outputs": [],
   "source": [
    "import pandas as pd\n",
    "import requests\n",
    "import numpy as np"
   ]
  },
  {
   "cell_type": "code",
   "execution_count": 5,
   "id": "7fbc2741-a533-4c49-8eb3-ca60124b9d28",
   "metadata": {},
   "outputs": [],
   "source": [
    "req = requests.get('http://ufcstats.com/event-details/335ad945324c3a2e')"
   ]
  },
  {
   "cell_type": "code",
   "execution_count": 12,
   "id": "6dfa7314-0333-4ade-8868-35b54273e7c6",
   "metadata": {},
   "outputs": [],
   "source": [
    "df = pd.read_html('http://ufcstats.com/event-details/335ad945324c3a2e')[0]"
   ]
  },
  {
   "cell_type": "code",
   "execution_count": 13,
   "id": "2b66f82c-7623-4308-90a7-fd19e40df0ef",
   "metadata": {},
   "outputs": [
    {
     "data": {
      "text/html": [
       "<div>\n",
       "<style scoped>\n",
       "    .dataframe tbody tr th:only-of-type {\n",
       "        vertical-align: middle;\n",
       "    }\n",
       "\n",
       "    .dataframe tbody tr th {\n",
       "        vertical-align: top;\n",
       "    }\n",
       "\n",
       "    .dataframe thead th {\n",
       "        text-align: right;\n",
       "    }\n",
       "</style>\n",
       "<table border=\"1\" class=\"dataframe\">\n",
       "  <thead>\n",
       "    <tr style=\"text-align: right;\">\n",
       "      <th></th>\n",
       "      <th>W/L</th>\n",
       "      <th>Fighter</th>\n",
       "      <th>Kd</th>\n",
       "      <th>Str</th>\n",
       "      <th>Td</th>\n",
       "      <th>Sub</th>\n",
       "      <th>Weight class</th>\n",
       "      <th>Method</th>\n",
       "      <th>Round</th>\n",
       "      <th>Time</th>\n",
       "    </tr>\n",
       "  </thead>\n",
       "  <tbody>\n",
       "    <tr>\n",
       "      <th>0</th>\n",
       "      <td>win</td>\n",
       "      <td>Francis Ngannou  Ciryl Gane</td>\n",
       "      <td>0  0</td>\n",
       "      <td>43  63</td>\n",
       "      <td>4  1</td>\n",
       "      <td>0  3</td>\n",
       "      <td>Heavyweight</td>\n",
       "      <td>U-DEC</td>\n",
       "      <td>5</td>\n",
       "      <td>5:00</td>\n",
       "    </tr>\n",
       "    <tr>\n",
       "      <th>1</th>\n",
       "      <td>win</td>\n",
       "      <td>Deiveson Figueiredo  Brandon Moreno</td>\n",
       "      <td>3  0</td>\n",
       "      <td>86  105</td>\n",
       "      <td>2  1</td>\n",
       "      <td>0  0</td>\n",
       "      <td>Flyweight</td>\n",
       "      <td>U-DEC</td>\n",
       "      <td>5</td>\n",
       "      <td>5:00</td>\n",
       "    </tr>\n",
       "    <tr>\n",
       "      <th>2</th>\n",
       "      <td>win</td>\n",
       "      <td>Michel Pereira  Andre Fialho</td>\n",
       "      <td>0  0</td>\n",
       "      <td>107  45</td>\n",
       "      <td>1  0</td>\n",
       "      <td>0  0</td>\n",
       "      <td>Welterweight</td>\n",
       "      <td>U-DEC</td>\n",
       "      <td>3</td>\n",
       "      <td>5:00</td>\n",
       "    </tr>\n",
       "    <tr>\n",
       "      <th>3</th>\n",
       "      <td>win</td>\n",
       "      <td>Said Nurmagomedov  Cody Stamann</td>\n",
       "      <td>0  0</td>\n",
       "      <td>7  1</td>\n",
       "      <td>0  0</td>\n",
       "      <td>1  0</td>\n",
       "      <td>Bantamweight</td>\n",
       "      <td>SUB  Guillotine Choke</td>\n",
       "      <td>1</td>\n",
       "      <td>0:47</td>\n",
       "    </tr>\n",
       "    <tr>\n",
       "      <th>4</th>\n",
       "      <td>win</td>\n",
       "      <td>Michael Morales  Trevin Giles</td>\n",
       "      <td>1  0</td>\n",
       "      <td>26  8</td>\n",
       "      <td>0  1</td>\n",
       "      <td>0  1</td>\n",
       "      <td>Welterweight</td>\n",
       "      <td>KO/TKO  Punches</td>\n",
       "      <td>1</td>\n",
       "      <td>4:06</td>\n",
       "    </tr>\n",
       "    <tr>\n",
       "      <th>5</th>\n",
       "      <td>win</td>\n",
       "      <td>Victor Henry  Raoni Barcelos</td>\n",
       "      <td>0  0</td>\n",
       "      <td>181  134</td>\n",
       "      <td>0  1</td>\n",
       "      <td>0  0</td>\n",
       "      <td>Bantamweight</td>\n",
       "      <td>U-DEC</td>\n",
       "      <td>3</td>\n",
       "      <td>5:00</td>\n",
       "    </tr>\n",
       "    <tr>\n",
       "      <th>6</th>\n",
       "      <td>win</td>\n",
       "      <td>Jack Della Maddalena  Pete Rodriguez</td>\n",
       "      <td>1  0</td>\n",
       "      <td>43  25</td>\n",
       "      <td>0  0</td>\n",
       "      <td>0  0</td>\n",
       "      <td>Welterweight</td>\n",
       "      <td>KO/TKO  Punch</td>\n",
       "      <td>1</td>\n",
       "      <td>2:59</td>\n",
       "    </tr>\n",
       "    <tr>\n",
       "      <th>7</th>\n",
       "      <td>win</td>\n",
       "      <td>Tony Gravely  Saimon Oliveira</td>\n",
       "      <td>0  0</td>\n",
       "      <td>46  35</td>\n",
       "      <td>11  0</td>\n",
       "      <td>0  4</td>\n",
       "      <td>Bantamweight</td>\n",
       "      <td>U-DEC</td>\n",
       "      <td>3</td>\n",
       "      <td>5:00</td>\n",
       "    </tr>\n",
       "    <tr>\n",
       "      <th>8</th>\n",
       "      <td>win</td>\n",
       "      <td>Matt Frevola  Genaro Valdez</td>\n",
       "      <td>4  0</td>\n",
       "      <td>60  10</td>\n",
       "      <td>0  0</td>\n",
       "      <td>0  0</td>\n",
       "      <td>Lightweight</td>\n",
       "      <td>KO/TKO  Punches</td>\n",
       "      <td>1</td>\n",
       "      <td>3:15</td>\n",
       "    </tr>\n",
       "    <tr>\n",
       "      <th>9</th>\n",
       "      <td>win</td>\n",
       "      <td>Vanessa Demopoulos  Silvana Gomez Juarez</td>\n",
       "      <td>0  1</td>\n",
       "      <td>4  10</td>\n",
       "      <td>0  0</td>\n",
       "      <td>2  0</td>\n",
       "      <td>Women's Strawweight</td>\n",
       "      <td>SUB  Armbar</td>\n",
       "      <td>1</td>\n",
       "      <td>2:25</td>\n",
       "    </tr>\n",
       "    <tr>\n",
       "      <th>10</th>\n",
       "      <td>win</td>\n",
       "      <td>Jasmine Jasudavicius  Kay Hansen</td>\n",
       "      <td>0  0</td>\n",
       "      <td>50  44</td>\n",
       "      <td>2  1</td>\n",
       "      <td>0  0</td>\n",
       "      <td>Women's Flyweight</td>\n",
       "      <td>U-DEC</td>\n",
       "      <td>3</td>\n",
       "      <td>5:00</td>\n",
       "    </tr>\n",
       "  </tbody>\n",
       "</table>\n",
       "</div>"
      ],
      "text/plain": [
       "    W/L                                   Fighter    Kd       Str     Td  \\\n",
       "0   win               Francis Ngannou  Ciryl Gane  0  0    43  63   4  1   \n",
       "1   win       Deiveson Figueiredo  Brandon Moreno  3  0   86  105   2  1   \n",
       "2   win              Michel Pereira  Andre Fialho  0  0   107  45   1  0   \n",
       "3   win           Said Nurmagomedov  Cody Stamann  0  0      7  1   0  0   \n",
       "4   win             Michael Morales  Trevin Giles  1  0     26  8   0  1   \n",
       "5   win              Victor Henry  Raoni Barcelos  0  0  181  134   0  1   \n",
       "6   win      Jack Della Maddalena  Pete Rodriguez  1  0    43  25   0  0   \n",
       "7   win             Tony Gravely  Saimon Oliveira  0  0    46  35  11  0   \n",
       "8   win               Matt Frevola  Genaro Valdez  4  0    60  10   0  0   \n",
       "9   win  Vanessa Demopoulos  Silvana Gomez Juarez  0  1     4  10   0  0   \n",
       "10  win          Jasmine Jasudavicius  Kay Hansen  0  0    50  44   2  1   \n",
       "\n",
       "     Sub         Weight class                 Method  Round  Time  \n",
       "0   0  3          Heavyweight                  U-DEC      5  5:00  \n",
       "1   0  0            Flyweight                  U-DEC      5  5:00  \n",
       "2   0  0         Welterweight                  U-DEC      3  5:00  \n",
       "3   1  0         Bantamweight  SUB  Guillotine Choke      1  0:47  \n",
       "4   0  1         Welterweight        KO/TKO  Punches      1  4:06  \n",
       "5   0  0         Bantamweight                  U-DEC      3  5:00  \n",
       "6   0  0         Welterweight          KO/TKO  Punch      1  2:59  \n",
       "7   0  4         Bantamweight                  U-DEC      3  5:00  \n",
       "8   0  0          Lightweight        KO/TKO  Punches      1  3:15  \n",
       "9   2  0  Women's Strawweight            SUB  Armbar      1  2:25  \n",
       "10  0  0    Women's Flyweight                  U-DEC      3  5:00  "
      ]
     },
     "execution_count": 13,
     "metadata": {},
     "output_type": "execute_result"
    }
   ],
   "source": [
    "df"
   ]
  },
  {
   "cell_type": "code",
   "execution_count": null,
   "id": "bc6ee1c7-c0eb-4c12-a3fc-8f6f7e769a37",
   "metadata": {},
   "outputs": [],
   "source": []
  },
  {
   "cell_type": "code",
   "execution_count": 2,
   "id": "343e876c-2fef-4902-96d8-fc880dcebc72",
   "metadata": {},
   "outputs": [
    {
     "data": {
      "text/plain": [
       "(62642, 17)"
      ]
     },
     "execution_count": 2,
     "metadata": {},
     "output_type": "execute_result"
    }
   ],
   "source": [
    "levels_fyi_data = requests.get('https://www.levels.fyi/js/salaryData.json').json()\n",
    "levels_df = pd.DataFrame(levels_fyi_data)\n",
    "levels_df.shape"
   ]
  },
  {
   "cell_type": "code",
   "execution_count": 3,
   "id": "f2a675b2-dc6e-46fc-94d1-8931fb634837",
   "metadata": {},
   "outputs": [],
   "source": [
    "levels_df = levels_df.drop(['cityid', 'dmaid','rowNumber'], axis=1)\n",
    "levels_df = levels_df.replace(\"\", np.nan)"
   ]
  },
  {
   "cell_type": "code",
   "execution_count": 4,
   "id": "51ab801c-0b1c-4fc9-9b1e-875e452dbda8",
   "metadata": {},
   "outputs": [],
   "source": [
    "levels_df['timestamp'] = pd.to_datetime(levels_df['timestamp'])\n",
    "levels_df[\n",
    "    ['yearsofexperience','basesalary','bonus','stockgrantvalue','totalyearlycompensation','yearsatcompany']\n",
    "] = levels_df[\n",
    "    ['yearsofexperience','basesalary','bonus','stockgrantvalue','totalyearlycompensation','yearsatcompany']\n",
    "].apply(pd.to_numeric)"
   ]
  },
  {
   "cell_type": "code",
   "execution_count": 11,
   "id": "398832d2-73c3-4886-b726-e827b5c62c99",
   "metadata": {},
   "outputs": [
    {
     "data": {
      "text/html": [
       "<div>\n",
       "<style scoped>\n",
       "    .dataframe tbody tr th:only-of-type {\n",
       "        vertical-align: middle;\n",
       "    }\n",
       "\n",
       "    .dataframe tbody tr th {\n",
       "        vertical-align: top;\n",
       "    }\n",
       "\n",
       "    .dataframe thead th {\n",
       "        text-align: right;\n",
       "    }\n",
       "</style>\n",
       "<table border=\"1\" class=\"dataframe\">\n",
       "  <thead>\n",
       "    <tr style=\"text-align: right;\">\n",
       "      <th></th>\n",
       "      <th>timestamp</th>\n",
       "      <th>company</th>\n",
       "      <th>level</th>\n",
       "      <th>title</th>\n",
       "      <th>totalyearlycompensation</th>\n",
       "      <th>location</th>\n",
       "      <th>yearsofexperience</th>\n",
       "      <th>yearsatcompany</th>\n",
       "      <th>tag</th>\n",
       "      <th>basesalary</th>\n",
       "      <th>stockgrantvalue</th>\n",
       "      <th>bonus</th>\n",
       "      <th>gender</th>\n",
       "      <th>otherdetails</th>\n",
       "    </tr>\n",
       "  </thead>\n",
       "  <tbody>\n",
       "    <tr>\n",
       "      <th>0</th>\n",
       "      <td>2017-06-07 11:33:27</td>\n",
       "      <td>Oracle</td>\n",
       "      <td>L3</td>\n",
       "      <td>Product Manager</td>\n",
       "      <td>186</td>\n",
       "      <td>Redwood City, CA</td>\n",
       "      <td>1</td>\n",
       "      <td>1</td>\n",
       "      <td>NaN</td>\n",
       "      <td>160</td>\n",
       "      <td>17</td>\n",
       "      <td>9</td>\n",
       "      <td>NaN</td>\n",
       "      <td>NaN</td>\n",
       "    </tr>\n",
       "    <tr>\n",
       "      <th>1</th>\n",
       "      <td>2017-06-10 17:11:29</td>\n",
       "      <td>eBay</td>\n",
       "      <td>SE 2</td>\n",
       "      <td>Software Engineer</td>\n",
       "      <td>0</td>\n",
       "      <td>San Francisco, CA</td>\n",
       "      <td>3</td>\n",
       "      <td>4</td>\n",
       "      <td>NaN</td>\n",
       "      <td>0</td>\n",
       "      <td>0</td>\n",
       "      <td>0</td>\n",
       "      <td>NaN</td>\n",
       "      <td>NaN</td>\n",
       "    </tr>\n",
       "    <tr>\n",
       "      <th>2</th>\n",
       "      <td>2017-06-11 14:53:57</td>\n",
       "      <td>Amazon</td>\n",
       "      <td>L7</td>\n",
       "      <td>Product Manager</td>\n",
       "      <td>126</td>\n",
       "      <td>Seattle, WA</td>\n",
       "      <td>10</td>\n",
       "      <td>0</td>\n",
       "      <td>NaN</td>\n",
       "      <td>126</td>\n",
       "      <td>0</td>\n",
       "      <td>0</td>\n",
       "      <td>NaN</td>\n",
       "      <td>NaN</td>\n",
       "    </tr>\n",
       "    <tr>\n",
       "      <th>3</th>\n",
       "      <td>2017-06-14 21:22:25</td>\n",
       "      <td>Microsoft</td>\n",
       "      <td>64</td>\n",
       "      <td>Software Engineering Manager</td>\n",
       "      <td>171348</td>\n",
       "      <td>Redmond, WA</td>\n",
       "      <td>13</td>\n",
       "      <td>13</td>\n",
       "      <td>NaN</td>\n",
       "      <td>92799</td>\n",
       "      <td>55371</td>\n",
       "      <td>23178</td>\n",
       "      <td>NaN</td>\n",
       "      <td>NaN</td>\n",
       "    </tr>\n",
       "    <tr>\n",
       "      <th>4</th>\n",
       "      <td>2017-06-16 10:44:01</td>\n",
       "      <td>Amazon</td>\n",
       "      <td>L5</td>\n",
       "      <td>Software Engineer</td>\n",
       "      <td>214175</td>\n",
       "      <td>Vancouver, BC, Canada</td>\n",
       "      <td>13</td>\n",
       "      <td>1</td>\n",
       "      <td>NaN</td>\n",
       "      <td>156335</td>\n",
       "      <td>0</td>\n",
       "      <td>57840</td>\n",
       "      <td>NaN</td>\n",
       "      <td>NaN</td>\n",
       "    </tr>\n",
       "  </tbody>\n",
       "</table>\n",
       "</div>"
      ],
      "text/plain": [
       "            timestamp    company level                         title  \\\n",
       "0 2017-06-07 11:33:27     Oracle    L3               Product Manager   \n",
       "1 2017-06-10 17:11:29       eBay  SE 2             Software Engineer   \n",
       "2 2017-06-11 14:53:57     Amazon    L7               Product Manager   \n",
       "3 2017-06-14 21:22:25  Microsoft    64  Software Engineering Manager   \n",
       "4 2017-06-16 10:44:01     Amazon    L5             Software Engineer   \n",
       "\n",
       "   totalyearlycompensation               location  yearsofexperience  \\\n",
       "0                      186       Redwood City, CA                  1   \n",
       "1                        0      San Francisco, CA                  3   \n",
       "2                      126            Seattle, WA                 10   \n",
       "3                   171348            Redmond, WA                 13   \n",
       "4                   214175  Vancouver, BC, Canada                 13   \n",
       "\n",
       "   yearsatcompany  tag  basesalary  stockgrantvalue  bonus gender otherdetails  \n",
       "0               1  NaN         160               17      9    NaN          NaN  \n",
       "1               4  NaN           0                0      0    NaN          NaN  \n",
       "2               0  NaN         126                0      0    NaN          NaN  \n",
       "3              13  NaN       92799            55371  23178    NaN          NaN  \n",
       "4               1  NaN      156335                0  57840    NaN          NaN  "
      ]
     },
     "execution_count": 11,
     "metadata": {},
     "output_type": "execute_result"
    }
   ],
   "source": [
    "levels_df.head()"
   ]
  },
  {
   "cell_type": "code",
   "execution_count": 12,
   "id": "535338bd-541c-489a-89e3-f415d772b24e",
   "metadata": {},
   "outputs": [],
   "source": [
    "fb = levels_df[levels_df['company'].isin(['Facebook', 'Meta'])]"
   ]
  },
  {
   "cell_type": "code",
   "execution_count": 31,
   "id": "06687b5b-5179-4c8d-91bd-bef26db21b8d",
   "metadata": {},
   "outputs": [
    {
     "data": {
      "text/html": [
       "<div>\n",
       "<style scoped>\n",
       "    .dataframe tbody tr th:only-of-type {\n",
       "        vertical-align: middle;\n",
       "    }\n",
       "\n",
       "    .dataframe tbody tr th {\n",
       "        vertical-align: top;\n",
       "    }\n",
       "\n",
       "    .dataframe thead th {\n",
       "        text-align: right;\n",
       "    }\n",
       "</style>\n",
       "<table border=\"1\" class=\"dataframe\">\n",
       "  <thead>\n",
       "    <tr style=\"text-align: right;\">\n",
       "      <th></th>\n",
       "      <th>yearsofexperience</th>\n",
       "      <th>basesalary</th>\n",
       "      <th>count</th>\n",
       "    </tr>\n",
       "  </thead>\n",
       "  <tbody>\n",
       "    <tr>\n",
       "      <th>90</th>\n",
       "      <td>3</td>\n",
       "      <td>63</td>\n",
       "      <td>1</td>\n",
       "    </tr>\n",
       "    <tr>\n",
       "      <th>124</th>\n",
       "      <td>1</td>\n",
       "      <td>72</td>\n",
       "      <td>1</td>\n",
       "    </tr>\n",
       "    <tr>\n",
       "      <th>46</th>\n",
       "      <td>0</td>\n",
       "      <td>78</td>\n",
       "      <td>1</td>\n",
       "    </tr>\n",
       "    <tr>\n",
       "      <th>0</th>\n",
       "      <td>3</td>\n",
       "      <td>78</td>\n",
       "      <td>2</td>\n",
       "    </tr>\n",
       "    <tr>\n",
       "      <th>147</th>\n",
       "      <td>0</td>\n",
       "      <td>80</td>\n",
       "      <td>1</td>\n",
       "    </tr>\n",
       "    <tr>\n",
       "      <th>...</th>\n",
       "      <td>...</td>\n",
       "      <td>...</td>\n",
       "      <td>...</td>\n",
       "    </tr>\n",
       "    <tr>\n",
       "      <th>48</th>\n",
       "      <td>10</td>\n",
       "      <td>280</td>\n",
       "      <td>1</td>\n",
       "    </tr>\n",
       "    <tr>\n",
       "      <th>83</th>\n",
       "      <td>9</td>\n",
       "      <td>288</td>\n",
       "      <td>1</td>\n",
       "    </tr>\n",
       "    <tr>\n",
       "      <th>63</th>\n",
       "      <td>14</td>\n",
       "      <td>294</td>\n",
       "      <td>1</td>\n",
       "    </tr>\n",
       "    <tr>\n",
       "      <th>21</th>\n",
       "      <td>7</td>\n",
       "      <td>303</td>\n",
       "      <td>1</td>\n",
       "    </tr>\n",
       "    <tr>\n",
       "      <th>72</th>\n",
       "      <td>8</td>\n",
       "      <td>305</td>\n",
       "      <td>1</td>\n",
       "    </tr>\n",
       "  </tbody>\n",
       "</table>\n",
       "<p>170 rows × 3 columns</p>\n",
       "</div>"
      ],
      "text/plain": [
       "     yearsofexperience  basesalary  count\n",
       "90                   3          63      1\n",
       "124                  1          72      1\n",
       "46                   0          78      1\n",
       "0                    3          78      2\n",
       "147                  0          80      1\n",
       "..                 ...         ...    ...\n",
       "48                  10         280      1\n",
       "83                   9         288      1\n",
       "63                  14         294      1\n",
       "21                   7         303      1\n",
       "72                   8         305      1\n",
       "\n",
       "[170 rows x 3 columns]"
      ]
     },
     "execution_count": 31,
     "metadata": {},
     "output_type": "execute_result"
    }
   ],
   "source": [
    "fb[(fb['title'] == 'Data Scientist') & (fb['basesalary'] != 0)][\n",
    "    ['yearsofexperience', 'basesalary']\n",
    "].value_counts().reset_index().rename(columns = {0 : 'count'}).sort_values(by = 'basesalary')"
   ]
  },
  {
   "cell_type": "code",
   "execution_count": 21,
   "id": "9893ce96-bf2e-485e-a25f-3b61536272b1",
   "metadata": {},
   "outputs": [
    {
     "data": {
      "text/plain": [
       "<AxesSubplot:>"
      ]
     },
     "execution_count": 21,
     "metadata": {},
     "output_type": "execute_result"
    },
    {
     "data": {
      "image/png": "[encoded data removed]",
      "text/plain": [
       "<Figure size 432x288 with 1 Axes>"
      ]
     },
     "metadata": {
      "needs_background": "light"
     },
     "output_type": "display_data"
    }
   ],
   "source": [
    "fb[(fb['title'] == 'Data Scientist') & (fb['basesalary'] != 0)].sort_values(by = 'basesalary')['basesalary'].hist()"
   ]
  },
  {
   "cell_type": "code",
   "execution_count": 22,
   "id": "6b2fa3ab-a13f-4db5-b9ee-e293d1e76974",
   "metadata": {},
   "outputs": [
    {
     "data": {
      "text/plain": [
       "<AxesSubplot:>"
      ]
     },
     "execution_count": 22,
     "metadata": {},
     "output_type": "execute_result"
    },
    {
     "data": {
      "image/png": "[encoded data removed]",
      "text/plain": [
       "<Figure size 432x288 with 1 Axes>"
      ]
     },
     "metadata": {
      "needs_background": "light"
     },
     "output_type": "display_data"
    }
   ],
   "source": [
    "fb[(fb['title'] == 'Software Engineer') & (fb['basesalary'] != 0)].sort_values(by = 'basesalary')['basesalary'].hist()"
   ]
  },
  {
   "cell_type": "code",
   "execution_count": 23,
   "id": "8c81e890-ac48-4aff-9903-7866db339e86",
   "metadata": {},
   "outputs": [
    {
     "data": {
      "text/html": [
       "<div>\n",
       "<style scoped>\n",
       "    .dataframe tbody tr th:only-of-type {\n",
       "        vertical-align: middle;\n",
       "    }\n",
       "\n",
       "    .dataframe tbody tr th {\n",
       "        vertical-align: top;\n",
       "    }\n",
       "\n",
       "    .dataframe thead th {\n",
       "        text-align: right;\n",
       "    }\n",
       "</style>\n",
       "<table border=\"1\" class=\"dataframe\">\n",
       "  <thead>\n",
       "    <tr style=\"text-align: right;\">\n",
       "      <th></th>\n",
       "      <th>timestamp</th>\n",
       "      <th>company</th>\n",
       "      <th>level</th>\n",
       "      <th>title</th>\n",
       "      <th>totalyearlycompensation</th>\n",
       "      <th>location</th>\n",
       "      <th>yearsofexperience</th>\n",
       "      <th>yearsatcompany</th>\n",
       "      <th>tag</th>\n",
       "      <th>basesalary</th>\n",
       "      <th>stockgrantvalue</th>\n",
       "      <th>bonus</th>\n",
       "      <th>gender</th>\n",
       "      <th>otherdetails</th>\n",
       "    </tr>\n",
       "  </thead>\n",
       "  <tbody>\n",
       "    <tr>\n",
       "      <th>23</th>\n",
       "      <td>2017-07-21 15:34:53</td>\n",
       "      <td>Facebook</td>\n",
       "      <td>E6</td>\n",
       "      <td>Software Engineer</td>\n",
       "      <td>485280</td>\n",
       "      <td>San Francisco, CA</td>\n",
       "      <td>5</td>\n",
       "      <td>7</td>\n",
       "      <td>NaN</td>\n",
       "      <td>175950</td>\n",
       "      <td>267130</td>\n",
       "      <td>42200</td>\n",
       "      <td>NaN</td>\n",
       "      <td>NaN</td>\n",
       "    </tr>\n",
       "    <tr>\n",
       "      <th>71</th>\n",
       "      <td>2017-09-04 14:17:07</td>\n",
       "      <td>Facebook</td>\n",
       "      <td>E4</td>\n",
       "      <td>Software Engineer</td>\n",
       "      <td>282</td>\n",
       "      <td>Menlo Park, CA</td>\n",
       "      <td>1</td>\n",
       "      <td>1</td>\n",
       "      <td>NaN</td>\n",
       "      <td>189</td>\n",
       "      <td>79</td>\n",
       "      <td>14</td>\n",
       "      <td>NaN</td>\n",
       "      <td>NaN</td>\n",
       "    </tr>\n",
       "    <tr>\n",
       "      <th>116</th>\n",
       "      <td>2017-10-17 22:57:39</td>\n",
       "      <td>Facebook</td>\n",
       "      <td>E6</td>\n",
       "      <td>Software Engineer</td>\n",
       "      <td>3386013</td>\n",
       "      <td>Seattle, WA</td>\n",
       "      <td>11</td>\n",
       "      <td>5</td>\n",
       "      <td>NaN</td>\n",
       "      <td>208032</td>\n",
       "      <td>3140803</td>\n",
       "      <td>37178</td>\n",
       "      <td>NaN</td>\n",
       "      <td>schloub kliafy waitz mccreaucs snooks swuew ca...</td>\n",
       "    </tr>\n",
       "    <tr>\n",
       "      <th>117</th>\n",
       "      <td>2017-10-19 01:31:35</td>\n",
       "      <td>Facebook</td>\n",
       "      <td>E6</td>\n",
       "      <td>Software Engineer</td>\n",
       "      <td>1661</td>\n",
       "      <td>Menlo Park, CA</td>\n",
       "      <td>12</td>\n",
       "      <td>1</td>\n",
       "      <td>NaN</td>\n",
       "      <td>305</td>\n",
       "      <td>1320</td>\n",
       "      <td>36</td>\n",
       "      <td>NaN</td>\n",
       "      <td>NaN</td>\n",
       "    </tr>\n",
       "    <tr>\n",
       "      <th>121</th>\n",
       "      <td>2017-10-21 13:13:16</td>\n",
       "      <td>Facebook</td>\n",
       "      <td>E3</td>\n",
       "      <td>Software Engineer</td>\n",
       "      <td>149665</td>\n",
       "      <td>San Francisco, CA</td>\n",
       "      <td>0</td>\n",
       "      <td>0</td>\n",
       "      <td>NaN</td>\n",
       "      <td>78123</td>\n",
       "      <td>47530</td>\n",
       "      <td>24012</td>\n",
       "      <td>NaN</td>\n",
       "      <td>NaN</td>\n",
       "    </tr>\n",
       "    <tr>\n",
       "      <th>...</th>\n",
       "      <td>...</td>\n",
       "      <td>...</td>\n",
       "      <td>...</td>\n",
       "      <td>...</td>\n",
       "      <td>...</td>\n",
       "      <td>...</td>\n",
       "      <td>...</td>\n",
       "      <td>...</td>\n",
       "      <td>...</td>\n",
       "      <td>...</td>\n",
       "      <td>...</td>\n",
       "      <td>...</td>\n",
       "      <td>...</td>\n",
       "      <td>...</td>\n",
       "    </tr>\n",
       "    <tr>\n",
       "      <th>62491</th>\n",
       "      <td>2021-08-15 22:17:26</td>\n",
       "      <td>Facebook</td>\n",
       "      <td>IC4</td>\n",
       "      <td>Software Engineer</td>\n",
       "      <td>262</td>\n",
       "      <td>Menlo Park, CA</td>\n",
       "      <td>7</td>\n",
       "      <td>4</td>\n",
       "      <td>Web Development (Front-End)</td>\n",
       "      <td>185</td>\n",
       "      <td>49</td>\n",
       "      <td>28</td>\n",
       "      <td>NaN</td>\n",
       "      <td>ceosts knaop</td>\n",
       "    </tr>\n",
       "    <tr>\n",
       "      <th>62492</th>\n",
       "      <td>2021-08-15 22:20:26</td>\n",
       "      <td>Facebook</td>\n",
       "      <td>E5</td>\n",
       "      <td>Software Engineer</td>\n",
       "      <td>502</td>\n",
       "      <td>Seattle, WA</td>\n",
       "      <td>7</td>\n",
       "      <td>0</td>\n",
       "      <td>Full Stack</td>\n",
       "      <td>293</td>\n",
       "      <td>183</td>\n",
       "      <td>26</td>\n",
       "      <td>Male</td>\n",
       "      <td>thaab spaagy gnuirn yioupp juasly draasly</td>\n",
       "    </tr>\n",
       "    <tr>\n",
       "      <th>62523</th>\n",
       "      <td>2021-08-16 09:20:58</td>\n",
       "      <td>Facebook</td>\n",
       "      <td>E5</td>\n",
       "      <td>Software Engineer</td>\n",
       "      <td>464</td>\n",
       "      <td>Seattle, WA</td>\n",
       "      <td>7</td>\n",
       "      <td>0</td>\n",
       "      <td>Distributed Systems (Back-End)</td>\n",
       "      <td>284</td>\n",
       "      <td>146</td>\n",
       "      <td>34</td>\n",
       "      <td>Male</td>\n",
       "      <td>mcmeucs mcleatch riocy twauv schmiengly yienn</td>\n",
       "    </tr>\n",
       "    <tr>\n",
       "      <th>62586</th>\n",
       "      <td>2021-08-16 19:14:27</td>\n",
       "      <td>Facebook</td>\n",
       "      <td>E4</td>\n",
       "      <td>Software Engineer</td>\n",
       "      <td>326</td>\n",
       "      <td>New York, NY</td>\n",
       "      <td>3</td>\n",
       "      <td>2</td>\n",
       "      <td>Distributed Systems (Back-End)</td>\n",
       "      <td>221</td>\n",
       "      <td>92</td>\n",
       "      <td>13</td>\n",
       "      <td>Male</td>\n",
       "      <td>rhoish schroub physaently shieg plaesp wiom sh...</td>\n",
       "    </tr>\n",
       "    <tr>\n",
       "      <th>62603</th>\n",
       "      <td>2021-08-16 21:21:24</td>\n",
       "      <td>Facebook</td>\n",
       "      <td>E3</td>\n",
       "      <td>Software Engineer</td>\n",
       "      <td>167</td>\n",
       "      <td>San Francisco, CA</td>\n",
       "      <td>1</td>\n",
       "      <td>1</td>\n",
       "      <td>Product Infra</td>\n",
       "      <td>148</td>\n",
       "      <td>19</td>\n",
       "      <td>0</td>\n",
       "      <td>Female</td>\n",
       "      <td>theiarts streaut phoacs mccaan smauw hyeiath t...</td>\n",
       "    </tr>\n",
       "  </tbody>\n",
       "</table>\n",
       "<p>1868 rows × 14 columns</p>\n",
       "</div>"
      ],
      "text/plain": [
       "                timestamp   company level              title  \\\n",
       "23    2017-07-21 15:34:53  Facebook    E6  Software Engineer   \n",
       "71    2017-09-04 14:17:07  Facebook    E4  Software Engineer   \n",
       "116   2017-10-17 22:57:39  Facebook    E6  Software Engineer   \n",
       "117   2017-10-19 01:31:35  Facebook    E6  Software Engineer   \n",
       "121   2017-10-21 13:13:16  Facebook    E3  Software Engineer   \n",
       "...                   ...       ...   ...                ...   \n",
       "62491 2021-08-15 22:17:26  Facebook   IC4  Software Engineer   \n",
       "62492 2021-08-15 22:20:26  Facebook    E5  Software Engineer   \n",
       "62523 2021-08-16 09:20:58  Facebook    E5  Software Engineer   \n",
       "62586 2021-08-16 19:14:27  Facebook    E4  Software Engineer   \n",
       "62603 2021-08-16 21:21:24  Facebook    E3  Software Engineer   \n",
       "\n",
       "       totalyearlycompensation           location  yearsofexperience  \\\n",
       "23                      485280  San Francisco, CA                  5   \n",
       "71                         282     Menlo Park, CA                  1   \n",
       "116                    3386013        Seattle, WA                 11   \n",
       "117                       1661     Menlo Park, CA                 12   \n",
       "121                     149665  San Francisco, CA                  0   \n",
       "...                        ...                ...                ...   \n",
       "62491                      262     Menlo Park, CA                  7   \n",
       "62492                      502        Seattle, WA                  7   \n",
       "62523                      464        Seattle, WA                  7   \n",
       "62586                      326       New York, NY                  3   \n",
       "62603                      167  San Francisco, CA                  1   \n",
       "\n",
       "       yearsatcompany                             tag  basesalary  \\\n",
       "23                  7                             NaN      175950   \n",
       "71                  1                             NaN         189   \n",
       "116                 5                             NaN      208032   \n",
       "117                 1                             NaN         305   \n",
       "121                 0                             NaN       78123   \n",
       "...               ...                             ...         ...   \n",
       "62491               4     Web Development (Front-End)         185   \n",
       "62492               0                      Full Stack         293   \n",
       "62523               0  Distributed Systems (Back-End)         284   \n",
       "62586               2  Distributed Systems (Back-End)         221   \n",
       "62603               1                   Product Infra         148   \n",
       "\n",
       "       stockgrantvalue  bonus  gender  \\\n",
       "23              267130  42200     NaN   \n",
       "71                  79     14     NaN   \n",
       "116            3140803  37178     NaN   \n",
       "117               1320     36     NaN   \n",
       "121              47530  24012     NaN   \n",
       "...                ...    ...     ...   \n",
       "62491               49     28     NaN   \n",
       "62492              183     26    Male   \n",
       "62523              146     34    Male   \n",
       "62586               92     13    Male   \n",
       "62603               19      0  Female   \n",
       "\n",
       "                                            otherdetails  \n",
       "23                                                   NaN  \n",
       "71                                                   NaN  \n",
       "116    schloub kliafy waitz mccreaucs snooks swuew ca...  \n",
       "117                                                  NaN  \n",
       "121                                                  NaN  \n",
       "...                                                  ...  \n",
       "62491                                       ceosts knaop  \n",
       "62492          thaab spaagy gnuirn yioupp juasly draasly  \n",
       "62523      mcmeucs mcleatch riocy twauv schmiengly yienn  \n",
       "62586  rhoish schroub physaently shieg plaesp wiom sh...  \n",
       "62603  theiarts streaut phoacs mccaan smauw hyeiath t...  \n",
       "\n",
       "[1868 rows x 14 columns]"
      ]
     },
     "execution_count": 23,
     "metadata": {},
     "output_type": "execute_result"
    }
   ],
   "source": [
    "fb[(fb['title'] == 'Software Engineer') & (fb['basesalary'] != 0)]"
   ]
  },
  {
   "cell_type": "code",
   "execution_count": 34,
   "id": "384c6f40-e113-4789-bd74-ec7976c0ae7f",
   "metadata": {},
   "outputs": [
    {
     "data": {
      "text/plain": [
       "array(['Solution Architect', 'Software Engineer',\n",
       "       'Software Engineering Manager', 'Technical Program Manager',\n",
       "       'Marketing'], dtype=object)"
      ]
     },
     "execution_count": 34,
     "metadata": {},
     "output_type": "execute_result"
    }
   ],
   "source": [
    "levels_df[levels_df['company'] == 'Databricks'].title.unique()"
   ]
  },
  {
   "cell_type": "code",
   "execution_count": 9,
   "id": "d58ad60d-b4f6-4f4a-a898-46d3dec556b2",
   "metadata": {},
   "outputs": [
    {
     "data": {
      "text/plain": [
       "[1, 2, 3]"
      ]
     },
     "execution_count": 9,
     "metadata": {},
     "output_type": "execute_result"
    }
   ],
   "source": [
    "list(map(int, str(123)))"
   ]
  },
  {
   "cell_type": "code",
   "execution_count": 10,
   "id": "10f68d02-9fc1-4f94-9747-29eb31295f80",
   "metadata": {},
   "outputs": [],
   "source": [
    "import numpy as np"
   ]
  },
  {
   "cell_type": "code",
   "execution_count": 11,
   "id": "b7ba158a-c14a-4b0f-b5b9-7be2bc1e5f05",
   "metadata": {},
   "outputs": [
    {
     "data": {
      "text/plain": [
       "nan"
      ]
     },
     "execution_count": 11,
     "metadata": {},
     "output_type": "execute_result"
    }
   ],
   "source": [
    "np.nan / 10"
   ]
  },
  {
   "cell_type": "code",
   "execution_count": 14,
   "id": "63298e93-35c2-4bbb-8151-bb967590a289",
   "metadata": {},
   "outputs": [
    {
     "data": {
      "text/plain": [
       "3.0"
      ]
     },
     "execution_count": 14,
     "metadata": {},
     "output_type": "execute_result"
    }
   ],
   "source": [
    "np.mean([5, 4,3,2,1])"
   ]
  },
  {
   "cell_type": "code",
   "execution_count": 17,
   "id": "6ddd3b03-0ebd-425b-a4e9-902814b194de",
   "metadata": {},
   "outputs": [
    {
     "data": {
      "text/plain": [
       "True"
      ]
     },
     "execution_count": 17,
     "metadata": {},
     "output_type": "execute_result"
    }
   ],
   "source": [
    "'5'.isdigit()"
   ]
  },
  {
   "cell_type": "code",
   "execution_count": 19,
   "id": "518bea69-6bb9-4b09-befb-7d27ba5d16fc",
   "metadata": {},
   "outputs": [],
   "source": [
    "vals = [5, 4, 6,3, 6, 7, '', 'nan', ' ', 54, 3, 41]"
   ]
  },
  {
   "cell_type": "code",
   "execution_count": 20,
   "id": "b7569c37-d371-4e7f-b592-fb925044e383",
   "metadata": {},
   "outputs": [],
   "source": [
    "nan_list = [np.nan, 'nan', 'NaN', 'null', None, 'unknown', 'missing', 'n/a', '', ' ']\n",
    "valid_n = [np.int32, np.int64, np.float32, np.float64, int, float]\n",
    "avg = np.mean([val for val in vals if type(val) in valid_n])"
   ]
  },
  {
   "cell_type": "code",
   "execution_count": 21,
   "id": "a782a25d-c7a6-440b-807d-7e3d4a0fb460",
   "metadata": {},
   "outputs": [
    {
     "data": {
      "text/plain": [
       "14.333333333333334"
      ]
     },
     "execution_count": 21,
     "metadata": {},
     "output_type": "execute_result"
    }
   ],
   "source": [
    "avg"
   ]
  },
  {
   "cell_type": "code",
   "execution_count": 22,
   "id": "a2294fbc-1eb2-4e44-8a06-62a2ea5d2630",
   "metadata": {},
   "outputs": [
    {
     "data": {
      "text/plain": [
       "[5,\n",
       " 4,\n",
       " 6,\n",
       " 3,\n",
       " 6,\n",
       " 7,\n",
       " 14.333333333333334,\n",
       " 14.333333333333334,\n",
       " 14.333333333333334,\n",
       " 54,\n",
       " 3,\n",
       " 41]"
      ]
     },
     "execution_count": 22,
     "metadata": {},
     "output_type": "execute_result"
    }
   ],
   "source": [
    "[avg if v in nan_list else v for v in vals]"
   ]
  },
  {
   "cell_type": "code",
   "execution_count": 25,
   "id": "13ad7cb9-870f-47d4-bfc9-f19c4dcf3972",
   "metadata": {},
   "outputs": [],
   "source": [
    "from cmath import *"
   ]
  },
  {
   "cell_type": "code",
   "execution_count": 26,
   "id": "9857e84d-2143-48b6-8049-663c7b49c0a7",
   "metadata": {},
   "outputs": [
    {
     "name": "stdout",
     "output_type": "stream",
     "text": [
      "Collecting pygame\n",
      "  Downloading pygame-2.1.2-cp38-cp38-macosx_10_9_x86_64.whl (8.9 MB)\n",
      "\u001b[K     |████████████████████████████████| 8.9 MB 6.5 MB/s eta 0:00:01\n",
      "\u001b[?25hInstalling collected packages: pygame\n",
      "Successfully installed pygame-2.1.2\n"
     ]
    }
   ],
   "source": [
    "!pip3 install pygame"
   ]
  },
  {
   "cell_type": "code",
   "execution_count": null,
   "id": "2759a317-bead-4c19-827e-674a5ed000f7",
   "metadata": {},
   "outputs": [],
   "source": []
  },
  {
   "cell_type": "code",
   "execution_count": 44,
   "id": "dce64174-fe45-4034-b952-207ded2d6506",
   "metadata": {},
   "outputs": [],
   "source": [
    "import networkx as nx\n",
    "import numpy as np\n",
    "import matplotlib.pyplot as plt"
   ]
  },
  {
   "cell_type": "code",
   "execution_count": 31,
   "id": "71732a05-cb9d-4230-b471-6f40b0058abe",
   "metadata": {},
   "outputs": [],
   "source": [
    "# img 1 \n",
    "mat = np.asarray([\n",
    "    [0,4,0,1],\n",
    "    [4,0,3,2],\n",
    "    [0,3,0,5],\n",
    "    [1,2,5,0]\n",
    "])"
   ]
  },
  {
   "cell_type": "code",
   "execution_count": 32,
   "id": "0cd1bb5b-65c5-4f28-bbda-8a245e65fa30",
   "metadata": {},
   "outputs": [],
   "source": [
    "G = nx.convert_matrix.from_numpy_array(mat)"
   ]
  },
  {
   "cell_type": "code",
   "execution_count": 33,
   "id": "395fc333-43fa-4865-a188-a935260fc983",
   "metadata": {},
   "outputs": [
    {
     "name": "stdout",
     "output_type": "stream",
     "text": [
      "Name: \n",
      "Type: Graph\n",
      "Number of nodes: 4\n",
      "Number of edges: 5\n",
      "Average degree:   2.5000\n"
     ]
    }
   ],
   "source": [
    "print(nx.info(G))"
   ]
  },
  {
   "cell_type": "code",
   "execution_count": 45,
   "id": "749c9c9b-0ca5-4899-9c07-0d1a29f258b6",
   "metadata": {},
   "outputs": [
    {
     "data": {
      "image/png": "[encoded data removed]",
      "text/plain": [
       "<Figure size 432x288 with 1 Axes>"
      ]
     },
     "metadata": {},
     "output_type": "display_data"
    }
   ],
   "source": [
    "pos=nx.spring_layout(G)\n",
    "# nx.draw_circular(G, with_labels = True)\n",
    "nx.draw(G,pos, with_labels = True)\n",
    "labels = nx.get_edge_attributes(G, 'weight')\n",
    "nx.draw_networkx_edge_labels(G, edge_labels = labels, pos = pos)\n",
    "plt.show()"
   ]
  },
  {
   "cell_type": "code",
   "execution_count": null,
   "id": "52b0be57-5c23-43dc-9b6c-987058a67ae7",
   "metadata": {},
   "outputs": [],
   "source": []
  },
  {
   "cell_type": "code",
   "execution_count": null,
   "id": "9f515a46-1d1b-460c-a3d1-99c6d7b4baaa",
   "metadata": {},
   "outputs": [],
   "source": []
  },
  {
   "cell_type": "code",
   "execution_count": null,
   "id": "50e78345-c6f8-40db-b435-9654722deeb9",
   "metadata": {},
   "outputs": [],
   "source": []
  },
  {
   "cell_type": "code",
   "execution_count": 48,
   "id": "5ceb85ef-3324-4f14-b4db-32a279952783",
   "metadata": {},
   "outputs": [],
   "source": [
    "g = nx.convert_matrix.from_numpy_array(arr, create_using = nx.DiGraph)"
   ]
  },
  {
   "cell_type": "code",
   "execution_count": 49,
   "id": "aff83143-9a10-48cc-acb0-4c4b9ed045a7",
   "metadata": {},
   "outputs": [
    {
     "name": "stdout",
     "output_type": "stream",
     "text": [
      "Name: \n",
      "Type: DiGraph\n",
      "Number of nodes: 2\n",
      "Number of edges: 4\n",
      "Average in degree:   2.0000\n",
      "Average out degree:   2.0000\n"
     ]
    }
   ],
   "source": [
    "print(nx.info(g))"
   ]
  },
  {
   "cell_type": "code",
   "execution_count": 50,
   "id": "431607e6-142a-4026-a95f-0b70ea54012e",
   "metadata": {},
   "outputs": [
    {
     "data": {
      "image/png": "[encoded data removed]",
      "text/plain": [
       "<Figure size 432x288 with 1 Axes>"
      ]
     },
     "metadata": {},
     "output_type": "display_data"
    }
   ],
   "source": [
    "nx.draw(g, with_labels = True)"
   ]
  },
  {
   "cell_type": "code",
   "execution_count": 51,
   "id": "c32d9247-eb20-4056-a7d9-dfd22d524c26",
   "metadata": {},
   "outputs": [],
   "source": [
    "mat1 = np.array([[0,2,3,0], [2,0,1,1], [3,1,0,0], [0,1,0,0]])\n",
    "mat2 = np.array([[0,4,5,3], [4,0,1,2], [5,1,0,0], [3,2,0,0]])"
   ]
  },
  {
   "cell_type": "code",
   "execution_count": 52,
   "id": "fe6a6dbd-4823-42db-b8f4-33098a4c5d08",
   "metadata": {},
   "outputs": [
    {
     "data": {
      "text/plain": [
       "array([[23,  3,  2,  4],\n",
       "       [ 8, 11, 10,  6],\n",
       "       [ 4, 12, 16, 11],\n",
       "       [ 4,  0,  1,  2]])"
      ]
     },
     "execution_count": 52,
     "metadata": {},
     "output_type": "execute_result"
    }
   ],
   "source": [
    "mat1@mat2"
   ]
  },
  {
   "cell_type": "code",
   "execution_count": 53,
   "id": "b75a8e69-afc0-48b0-aaf5-842cae015f32",
   "metadata": {},
   "outputs": [
    {
     "data": {
      "text/plain": [
       "array([[23,  3,  2,  4],\n",
       "       [ 8, 11, 10,  6],\n",
       "       [ 4, 12, 16, 11],\n",
       "       [ 4,  0,  1,  2]])"
      ]
     },
     "execution_count": 53,
     "metadata": {},
     "output_type": "execute_result"
    }
   ],
   "source": [
    "mat1.dot(mat2)"
   ]
  },
  {
   "cell_type": "code",
   "execution_count": 54,
   "id": "d5ce8c18-489f-454f-9604-5ac69f8b96d6",
   "metadata": {},
   "outputs": [
    {
     "data": {
      "text/plain": [
       "array([[ 0,  8, 15,  0],\n",
       "       [ 8,  0,  1,  2],\n",
       "       [15,  1,  0,  0],\n",
       "       [ 0,  2,  0,  0]])"
      ]
     },
     "execution_count": 54,
     "metadata": {},
     "output_type": "execute_result"
    }
   ],
   "source": [
    "mat1*mat2"
   ]
  },
  {
   "cell_type": "code",
   "execution_count": 55,
   "id": "42a5ef10-e0e5-4b03-bf59-df9d59d1bb8a",
   "metadata": {},
   "outputs": [],
   "source": [
    "mat1 = np.array([[0,2], [2,0]])\n",
    "mat2 = np.array([[0,4], [4,0]])"
   ]
  },
  {
   "cell_type": "code",
   "execution_count": 56,
   "id": "257b7be4-6f19-40d4-80a5-f72be9a8f9d9",
   "metadata": {},
   "outputs": [
    {
     "data": {
      "text/plain": [
       "array([[8, 0],\n",
       "       [0, 8]])"
      ]
     },
     "execution_count": 56,
     "metadata": {},
     "output_type": "execute_result"
    }
   ],
   "source": [
    "mat1@mat2"
   ]
  },
  {
   "cell_type": "code",
   "execution_count": 57,
   "id": "d91accd2-7b0c-4465-9807-fea27a1fb374",
   "metadata": {},
   "outputs": [
    {
     "data": {
      "text/plain": [
       "array([[0, 8],\n",
       "       [8, 0]])"
      ]
     },
     "execution_count": 57,
     "metadata": {},
     "output_type": "execute_result"
    }
   ],
   "source": [
    "mat1*mat2"
   ]
  },
  {
   "cell_type": "code",
   "execution_count": null,
   "id": "df509846-1b98-4354-acbd-c82b25d1aefa",
   "metadata": {},
   "outputs": [],
   "source": []
  },
  {
   "cell_type": "code",
   "execution_count": 101,
   "id": "e3226765-5588-4f11-b36b-b98cdefb206b",
   "metadata": {},
   "outputs": [
    {
     "data": {
      "text/plain": [
       "array([[3, 2, 4],\n",
       "       [1, 3, 6],\n",
       "       [4, 8, 6]])"
      ]
     },
     "execution_count": 101,
     "metadata": {},
     "output_type": "execute_result"
    }
   ],
   "source": [
    "m_org = np.array(\n",
    "    [\n",
    "        [1,4,5,6,8,7,6,5,4,2,3,5],\n",
    "        [2,3,4,6,2,1,4,4,6,3,2,1],\n",
    "        [0,1,2,5,3,5,6,4,3,2,6,2],\n",
    "        [0,7,5,7,2,3,4,5,6,4,2,1],\n",
    "        [0,1,2,5,3,5,6,4,3,2,6,2],\n",
    "        [0,1,2,5,3,5,6,4,3,2,6,2],\n",
    "        [1,4,5,6,8,7,6,5,4,2,3,5],\n",
    "        [0,1,2,5,3,5,6,4,3,2,6,2]\n",
    "    ]\n",
    ")\n",
    "\n",
    "def create_subarray(arr, r_idx, c_idx):\n",
    "    try:\n",
    "        return arr[np.ix_(r_idx, c_idx)]\n",
    "    except:\n",
    "        raise IndexError(\"Index is out of bounds\")\n",
    "\n",
    "s1 = [1,4,6]\n",
    "create_subarray(m_org, s1, s1)"
   ]
  },
  {
   "cell_type": "code",
   "execution_count": 95,
   "id": "7841632d-287c-4989-861e-40ac904d5aed",
   "metadata": {},
   "outputs": [],
   "source": [
    "s1 = [1,4,6]"
   ]
  },
  {
   "cell_type": "code",
   "execution_count": 96,
   "id": "bc62245c-cdb8-494c-be98-bb5ce09855b2",
   "metadata": {},
   "outputs": [
    {
     "data": {
      "text/plain": [
       "array([[3, 2, 4],\n",
       "       [1, 3, 6],\n",
       "       [4, 8, 6]])"
      ]
     },
     "execution_count": 96,
     "metadata": {},
     "output_type": "execute_result"
    }
   ],
   "source": [
    "m_org[np.asarray(s1)[:, None], s1]"
   ]
  },
  {
   "cell_type": "code",
   "execution_count": null,
   "id": "bbb4c79e-a878-4355-8317-219a3f7fd6a4",
   "metadata": {},
   "outputs": [],
   "source": []
  },
  {
   "cell_type": "code",
   "execution_count": 94,
   "id": "1bf63f2d-29bd-45b0-98bd-1c136853a80c",
   "metadata": {},
   "outputs": [],
   "source": [
    "# kw_data = {\n",
    "#     'topic' : ['travel' for _ in range(33)],\n",
    "#     'subtopic' : [\n",
    "#         'travel', 'africa', 'asia', 'australia oceania', 'caribbean', 'europe', 'india', 'mexico', 'middle east', 'polar', 'south america', 'usa',\n",
    "#         'within canada', 'bnb', 'hotel', 'motel', 'air plane', 'bus', 'cruise', 'ferry', 'road trip', 'rv', 'adventure', 'beach', 'business', 'day trip',\n",
    "#         'family vacation', 'honeymoon', 'spa', 'fall', 'spring', 'summer', 'winter'\n",
    "#     ],\n",
    "#     'keywords' : [\n",
    "#         [], [], ['china', 'japan', 'koea', 'thailand'], ['australia', 'oceania'], [], ['france', 'united kingdom', 'italy', 'spain', 'rome', 'germany', 'greece'],\n",
    "#         ['bombay', 'goa', 'nepal', 'bangladesh'], [], ['united arab emirates', 'dubai', 'iran', 'iraq', 'turkey'], [], ['latin america', 'brazil'],\n",
    "#         ['united states', 'america'], ['canada', 'banff', 'toronto', 'ontario', 'quebec'], ['air bnb', 'bed breakfast', 'air bb'], [], [], ['airplane'], \n",
    "#         ['school bus', 'travel bus', 'bus station', 'train station'], [], [], [], ['recreational vehicle'], [], ['beach house'], ['business trip'], [],\n",
    "#         ['vacation'], [], [], [], [], [], []\n",
    "#     ],\n",
    "#     'gen_model' : ['no' for _ in range(33)]\n",
    "# }\n",
    "# kw_df = pd.DataFrame.from_dict(kw_data)"
   ]
  },
  {
   "cell_type": "code",
   "execution_count": 1,
   "id": "9d2d28d2-a011-4b7f-a7af-2af9c323ba53",
   "metadata": {},
   "outputs": [],
   "source": [
    "import pandas as pd"
   ]
  },
  {
   "cell_type": "code",
   "execution_count": 2,
   "id": "017303a5-67db-4a2e-9ca8-b895d79a8ac6",
   "metadata": {},
   "outputs": [],
   "source": [
    "kw_df = pd.read_csv('topic_subtopic.csv', converters = {'keywords' : eval})"
   ]
  },
  {
   "cell_type": "code",
   "execution_count": 5,
   "id": "27eccf69-ec98-48f5-ada9-865a7a370e78",
   "metadata": {},
   "outputs": [],
   "source": [
    "base_table = 'sub_count'\n",
    "begin_q = '''with {} as (\n",
    "    select \n",
    "        storyuuid, brand, cleaned_content, article_len, article_word_count,'''.format(base_table)"
   ]
  },
  {
   "cell_type": "code",
   "execution_count": 6,
   "id": "a7c16be5-a3c4-44cf-903a-c5b04aca7a3c",
   "metadata": {},
   "outputs": [],
   "source": [
    "for i,r in kw_df.iterrows():\n",
    "    sub_t = r['subtopic']\n",
    "    kw = r['keywords']\n",
    "    gen_m = r['gen_model']\n",
    "\n",
    "    if gen_m == 'yes':\n",
    "        base = '''\n",
    "            round ( ( length(cleaned_content) - length( replace ( cleaned_content, '{}', '') ) ) / length('{}') ) as \"{}_count\",\n",
    "        '''\n",
    "        begin_q += base.format(sub_t, sub_t, sub_t)\n",
    "        if len(kw) > 0:\n",
    "            sub_base = '''      round ( ( length(cleaned_content) - length( replace ( cleaned_content, '{}', '') ) ) / length('{}') ) as \"{}_count\",\n",
    "        '''\n",
    "            for k in kw:\n",
    "                begin_q += sub_base.format(k, k, k)\n",
    "begin_q = begin_q.rstrip()[:-1] + '\\n'"
   ]
  },
  {
   "cell_type": "code",
   "execution_count": 7,
   "id": "5ee1024b-76e9-4cee-a67d-0b2c985ede6f",
   "metadata": {},
   "outputs": [],
   "source": [
    "ref_table = 'sandbox.vpatel_schema.all_articles'\n",
    "from_q = '''    from {}\n",
    "), '''\n",
    "begin_q+=from_q.format(ref_table)"
   ]
  },
  {
   "cell_type": "code",
   "execution_count": 52,
   "id": "7937fe15-182a-4a78-adf3-d43ae209c096",
   "metadata": {},
   "outputs": [
    {
     "name": "stdout",
     "output_type": "stream",
     "text": [
      "with sub_count as (\n",
      "    select \n",
      "        storyuuid, brand, cleaned_content, article_len, article_word_count,\n",
      "            round ( ( length(cleaned_content) - length( replace ( cleaned_content, 'travel', '') ) ) / length('travel') ) as \"travel_count\"\n",
      "\n",
      "    from sandbox.vpatel_schema.all_articles\n",
      "    ), \n"
     ]
    }
   ],
   "source": [
    "print(begin_q)"
   ]
  },
  {
   "cell_type": "code",
   "execution_count": null,
   "id": "fac6433e-7344-4b65-b63f-808c9f62f6e9",
   "metadata": {},
   "outputs": [],
   "source": []
  },
  {
   "cell_type": "code",
   "execution_count": 27,
   "id": "c483e6bc-febc-4f3e-ad14-4b5891ed4a22",
   "metadata": {},
   "outputs": [],
   "source": [
    "join_table_name = 'join_subtopics'\n",
    "second_q = '''{} as (\n",
    "    select \n",
    "        storyuuid, brand, cleaned_content, article_len, article_word_count,\n",
    "        '''.format(join_table_name)"
   ]
  },
  {
   "cell_type": "code",
   "execution_count": 28,
   "id": "38f1fcad-c3b2-4a30-b6ad-b3cccf6d1a24",
   "metadata": {},
   "outputs": [],
   "source": [
    "for i,r in kw_df.iterrows():\n",
    "    sub_t = r['subtopic']\n",
    "    kw = r['keywords']\n",
    "    gen_m = r['gen_model']\n",
    "    if gen_m == 'yes':\n",
    "        base_q = '{},'\n",
    "        if len(kw) > 0:\n",
    "            words = [sub_t] + kw\n",
    "            sub_q = '(' + ' + '.join(['''\"{}_count\"'''.format(x) for x in words]) + ')' + ''' as \"{}_count\", \n",
    "        '''.format(sub_t)\n",
    "            second_q += sub_q\n",
    "        else:\n",
    "            sub_q = ''' \"{}_count\",\n",
    "        '''.format(sub_t)\n",
    "            second_q += sub_q\n",
    "second_q = second_q.rstrip()[:-1] + '\\n'"
   ]
  },
  {
   "cell_type": "code",
   "execution_count": 29,
   "id": "cdd1fe56-4afe-4f15-a05c-32750f9f69f2",
   "metadata": {},
   "outputs": [],
   "source": [
    "second_q+=from_q.format(base_table)"
   ]
  },
  {
   "cell_type": "code",
   "execution_count": null,
   "id": "673a4c74-ed4e-4a66-aaeb-91c3fdae9396",
   "metadata": {},
   "outputs": [],
   "source": []
  },
  {
   "cell_type": "code",
   "execution_count": null,
   "id": "f407ca10-99df-43c2-9926-a95aac65a81e",
   "metadata": {},
   "outputs": [],
   "source": []
  },
  {
   "cell_type": "code",
   "execution_count": 13,
   "id": "9835a90f-df07-4dff-9bda-db7d37fe4366",
   "metadata": {},
   "outputs": [],
   "source": [
    "topic_table_name = 'topic_counts'\n",
    "third_q = '''{} as (\n",
    "    select \n",
    "        *,\n",
    "        '''.format(topic_table_name)"
   ]
  },
  {
   "cell_type": "code",
   "execution_count": 14,
   "id": "f9fdae6f-547f-4045-ace1-4b805fb3c80c",
   "metadata": {},
   "outputs": [],
   "source": [
    "for i,g in kw_df.groupby('topic'):\n",
    "    t = i\n",
    "    st = g['subtopic'].values\n",
    "    gen_m = g['gen_model'].values\n",
    "    \n",
    "    st = [st[0] for st in zip(st, gen_m) if st[1] == 'yes']\n",
    "    sub_q = '(' + ' + '.join(['''\"{}_count\"'''.format(x) for x in st]) + ')' + ''' as \"{}_count\",\n",
    "        '''.format(t)\n",
    "    third_q+=sub_q\n",
    "third_q = third_q.rstrip()[:-1] + '\\n'"
   ]
  },
  {
   "cell_type": "code",
   "execution_count": 15,
   "id": "bd137b45-650d-41b1-8c74-b6800712cecc",
   "metadata": {},
   "outputs": [],
   "source": [
    "third_q+=from_q.format(join_table_name).rstrip()[:-1]"
   ]
  },
  {
   "cell_type": "code",
   "execution_count": 16,
   "id": "39733ec5-960d-4815-bf94-debc7bd1a835",
   "metadata": {},
   "outputs": [],
   "source": [
    "merge_cte = '''\n",
    "select\n",
    "    *\n",
    "from {};'''.format(topic_table_name)"
   ]
  },
  {
   "cell_type": "code",
   "execution_count": 63,
   "id": "6beacd64-a5a1-4947-8f84-eaba629afe2b",
   "metadata": {},
   "outputs": [],
   "source": [
    "# print(begin_q + second_q + third_q + merge_cte)"
   ]
  },
  {
   "cell_type": "code",
   "execution_count": null,
   "id": "a07d0ed8-8b11-4090-accb-b02fd9a17f17",
   "metadata": {},
   "outputs": [],
   "source": []
  },
  {
   "cell_type": "code",
   "execution_count": 3,
   "id": "ef36c613-72da-44b8-a06e-a18214c91bb2",
   "metadata": {},
   "outputs": [],
   "source": [
    "def gen_base_query(kw_df, base_table, ref_table):\n",
    "    '''\n",
    "    This purpose of this function is to generate a query which will iterate over all subtopics and \n",
    "    keywords in kw_df and count the occurrences.\n",
    "    \n",
    "    params:\n",
    "        kw_df (DataFrame) : This holds the keywords, subtopics, topics\n",
    "        base_table (String) : The name of the table you want to create\n",
    "        ref_table (String) : The name of the table you are referencing from\n",
    "        \n",
    "    returns:\n",
    "        This function will return a string which holds the query\n",
    "    '''\n",
    "    begin_q = '''with {} as (\n",
    "    select \n",
    "        storyuuid, brand, cleaned_content, article_len, article_word_count,'''.format(base_table)\n",
    "    \n",
    "    for i,r in kw_df.iterrows():\n",
    "        sub_t = r['subtopic']\n",
    "        kw = r['keywords']\n",
    "        gen_m = r['gen_model']\n",
    "\n",
    "        if gen_m == 'yes':\n",
    "            base = '''\n",
    "            round ( ( length(cleaned_content) - length( replace ( cleaned_content, '{}', '') ) ) / length('{}') ) as \"{}_count\",\n",
    "            '''\n",
    "            begin_q += base.format(sub_t, sub_t, sub_t)\n",
    "            if len(kw) > 0:\n",
    "                sub_base = '''    round ( ( length(cleaned_content) - length( replace ( cleaned_content, '{}', '') ) ) / length('{}') ) as \"{}_count\",\n",
    "            '''\n",
    "                for k in kw:\n",
    "                    begin_q += sub_base.format(k, k, k)\n",
    "    begin_q = begin_q.rstrip()[:-1] + '\\n'\n",
    "    from_q = '''\n",
    "    from {}\n",
    "    ), '''\n",
    "    begin_q+=from_q.format(ref_table)\n",
    "    return begin_q"
   ]
  },
  {
   "cell_type": "code",
   "execution_count": 4,
   "id": "a16cbe71-6217-491a-a952-7be38301098c",
   "metadata": {},
   "outputs": [],
   "source": [
    "q1 = gen_base_query(kw_df = kw_df, base_table = 'sub_count', ref_table = 'sandbox.vpatel_schema.all_articles')"
   ]
  },
  {
   "cell_type": "code",
   "execution_count": 5,
   "id": "a28a9ee6-146b-4091-a33b-1071133d2940",
   "metadata": {},
   "outputs": [],
   "source": [
    "def gen_join_subtopic(kw_df, join_table_name, ref_table):\n",
    "    '''\n",
    "    This function will generate a query based on kw_df associated to joining keyword counts and mapping\n",
    "    them to a subtopic.\n",
    "    \n",
    "    params:\n",
    "        kw_df (DataFrame) : This holds the keywords, subtopics, topics\n",
    "        join_table_name (String) : The name of the table you want to create\n",
    "        ref_table (String) : The name of the table you are referencing from\n",
    "        \n",
    "    returns:\n",
    "        This function will return a string which holds the query\n",
    "    '''\n",
    "    second_q = '''{} as (\n",
    "    select \n",
    "        storyuuid, brand, cleaned_content, article_len, article_word_count,\n",
    "        '''.format(join_table_name)\n",
    "    \n",
    "    for i,r in kw_df.iterrows():\n",
    "        sub_t = r['subtopic']\n",
    "        kw = r['keywords']\n",
    "        gen_m = r['gen_model']\n",
    "        if gen_m == 'yes':\n",
    "            base_q = '{},'\n",
    "            if len(kw) > 0:\n",
    "                words = [sub_t] + kw\n",
    "                sub_q = '(' + ' + '.join(['''\"{}_count\"'''.format(x) for x in words]) + ')' + ''' as \"{}_count\", \n",
    "            '''.format(sub_t)\n",
    "                second_q += sub_q\n",
    "            else:\n",
    "                sub_q = ''' \"{}_count\",\n",
    "            '''.format(sub_t)\n",
    "                second_q += sub_q\n",
    "    second_q = second_q.rstrip()[:-1] + '\\n'\n",
    "    from_q = '''\n",
    "    from {}\n",
    "    ), '''\n",
    "    second_q+=from_q.format(ref_table)\n",
    "    return second_q"
   ]
  },
  {
   "cell_type": "code",
   "execution_count": 6,
   "id": "58b4fdc9-9b17-4a91-8765-f953e691bd9b",
   "metadata": {},
   "outputs": [],
   "source": [
    "q2 = gen_join_subtopic(kw_df = kw_df, join_table_name = 'join_subtopics', ref_table = 'sub_count')"
   ]
  },
  {
   "cell_type": "code",
   "execution_count": 7,
   "id": "209f4991-f691-466e-9b8a-fda5ecb9fff5",
   "metadata": {},
   "outputs": [],
   "source": [
    "def gen_topic_table(kw_df, topic_table_name, ref_table):\n",
    "    '''\n",
    "    This function will generate a query based on kw_df associated to joining keyword counts and mapping\n",
    "    them to a subtopic.\n",
    "    \n",
    "    params:\n",
    "        kw_df (DataFrame) : This holds the keywords, subtopics, topics\n",
    "        join_table_name (String) : The name of the table you want to create\n",
    "        ref_table (String) : The name of the table you are referencing from\n",
    "        \n",
    "    returns:\n",
    "        This function will return a string which holds the query\n",
    "    '''\n",
    "    third_q = '''{} as (\n",
    "    select \n",
    "        *,\n",
    "        '''.format(topic_table_name)\n",
    "    \n",
    "    for i,g in kw_df.groupby('topic'):\n",
    "        t = i\n",
    "        st = g['subtopic'].values\n",
    "        gen_m = g['gen_model'].values\n",
    "\n",
    "        st = [st[0] for st in zip(st, gen_m) if st[1] == 'yes']\n",
    "        sub_q = '(' + ' + '.join(['''\"{}_count\"'''.format(x) for x in st]) + ')' + ''' as \"{}_count\",\n",
    "            '''.format(t)\n",
    "        third_q+=sub_q\n",
    "    third_q = third_q.rstrip()[:-1] + '\\n'\n",
    "    from_q = '''\n",
    "    from {}\n",
    "    ), '''\n",
    "    third_q+=from_q.format(ref_table).rstrip()[:-1]\n",
    "    return third_q"
   ]
  },
  {
   "cell_type": "code",
   "execution_count": 8,
   "id": "96d1f004-465b-45fb-bea9-445e8f6f2fb8",
   "metadata": {},
   "outputs": [],
   "source": [
    "q3 = gen_topic_table(kw_df = kw_df, topic_table_name = 'topic_counts', ref_table = 'sub_count')"
   ]
  },
  {
   "cell_type": "code",
   "execution_count": 15,
   "id": "c5348886-dbac-4ce7-bcb1-8180056cf544",
   "metadata": {},
   "outputs": [],
   "source": [
    "def merge_queries(q1, q2, q3, topic_table_name):\n",
    "    '''\n",
    "    This purpose of this function is to merge the previous queries together into 1 CTE.\n",
    "    \n",
    "    params:\n",
    "        q1 (String) : The keyword counting query\n",
    "        q2 (String) : The join subtopic query\n",
    "        q3 (String) : The topic count query\n",
    "        topic_table_name (String) : The name of the topic table\n",
    "        \n",
    "    returns:\n",
    "        This function will merge q1, q2, q3 and return a query\n",
    "    '''\n",
    "    merge_cte = '''\n",
    "    select\n",
    "        *\n",
    "    from {}'''.format(topic_table_name)\n",
    "    return q1 + q2 + q3 + merge_cte"
   ]
  },
  {
   "cell_type": "code",
   "execution_count": 16,
   "id": "9bd7811b-c378-4ed5-9d82-109ba6c24787",
   "metadata": {},
   "outputs": [],
   "source": [
    "merged_q = merge_queries(q1, q2, q3, topic_table_name = 'topic_counts')"
   ]
  },
  {
   "cell_type": "code",
   "execution_count": 29,
   "id": "eb2759be-e0d4-4acd-8680-7099b58a3faf",
   "metadata": {},
   "outputs": [],
   "source": [
    "print(merged_q)"
   ]
  },
  {
   "cell_type": "code",
   "execution_count": 25,
   "id": "4c747162-fb4f-46c0-be80-ba079e66f4be",
   "metadata": {},
   "outputs": [],
   "source": [
    "def generate_table(q, table_name):\n",
    "    '''\n",
    "    The purpose of this function is to generate a table given a CTE / query\n",
    "    \n",
    "    params:\n",
    "        q (String) : The query you want to populate the table with\n",
    "        table_name (String) : The name of the table\n",
    "    \n",
    "    returns:\n",
    "        This function will return a query to create a table\n",
    "    '''\n",
    "    tbl = '''create or replace table {} as (\n",
    "        {}\n",
    "    );'''.format(table_name, q)\n",
    "    return tbl"
   ]
  },
  {
   "cell_type": "code",
   "execution_count": 26,
   "id": "3ff4e9a2-2490-4404-9511-044cf3f114a2",
   "metadata": {},
   "outputs": [],
   "source": [
    "res = generate_table(q = merged_q, table_name = 'sandbox.vpatel_schema.topic_labelled_articles')"
   ]
  },
  {
   "cell_type": "code",
   "execution_count": 30,
   "id": "ab86db4a-ad89-4711-94db-be10efe60cbe",
   "metadata": {},
   "outputs": [
    {
     "name": "stdout",
     "output_type": "stream",
     "text": [
      "create or replace table sandbox.vpatel_schema.topic_labelled_articles as (\n",
      "        with sub_count as (\n",
      "    select \n",
      "        storyuuid, brand, cleaned_content, article_len, article_word_count,\n",
      "            round ( ( length(cleaned_content) - length( replace ( cleaned_content, 'travel', '') ) ) / length('travel') ) as \"travel_count\",\n",
      "            \n",
      "            round ( ( length(cleaned_content) - length( replace ( cleaned_content, 'bnb', '') ) ) / length('bnb') ) as \"bnb_count\",\n",
      "                round ( ( length(cleaned_content) - length( replace ( cleaned_content, 'air bnb', '') ) ) / length('air bnb') ) as \"air bnb_count\",\n",
      "                round ( ( length(cleaned_content) - length( replace ( cleaned_content, 'bed breakfast', '') ) ) / length('bed breakfast') ) as \"bed breakfast_count\",\n",
      "                round ( ( length(cleaned_content) - length( replace ( cleaned_content, 'air bb', '') ) ) / length('air bb') ) as \"air bb_count\",\n",
      "            \n",
      "            round ( ( length(cleaned_content) - length( replace ( cleaned_content, 'hotel', '') ) ) / length('hotel') ) as \"hotel_count\",\n",
      "            \n",
      "            round ( ( length(cleaned_content) - length( replace ( cleaned_content, 'motel', '') ) ) / length('motel') ) as \"motel_count\",\n",
      "            \n",
      "            round ( ( length(cleaned_content) - length( replace ( cleaned_content, 'bus', '') ) ) / length('bus') ) as \"bus_count\",\n",
      "                round ( ( length(cleaned_content) - length( replace ( cleaned_content, 'school bus', '') ) ) / length('school bus') ) as \"school bus_count\",\n",
      "                round ( ( length(cleaned_content) - length( replace ( cleaned_content, 'travel bus', '') ) ) / length('travel bus') ) as \"travel bus_count\",\n",
      "                round ( ( length(cleaned_content) - length( replace ( cleaned_content, 'bus station', '') ) ) / length('bus station') ) as \"bus station_count\",\n",
      "                round ( ( length(cleaned_content) - length( replace ( cleaned_content, 'train station', '') ) ) / length('train station') ) as \"train station_count\",\n",
      "            \n",
      "            round ( ( length(cleaned_content) - length( replace ( cleaned_content, 'road trip', '') ) ) / length('road trip') ) as \"road trip_count\",\n",
      "            \n",
      "            round ( ( length(cleaned_content) - length( replace ( cleaned_content, 'rv', '') ) ) / length('rv') ) as \"rv_count\",\n",
      "                round ( ( length(cleaned_content) - length( replace ( cleaned_content, 'recreational vehicle', '') ) ) / length('recreational vehicle') ) as \"recreational vehicle_count\",\n",
      "            \n",
      "            round ( ( length(cleaned_content) - length( replace ( cleaned_content, 'adventure', '') ) ) / length('adventure') ) as \"adventure_count\",\n",
      "            \n",
      "            round ( ( length(cleaned_content) - length( replace ( cleaned_content, 'beach', '') ) ) / length('beach') ) as \"beach_count\",\n",
      "                round ( ( length(cleaned_content) - length( replace ( cleaned_content, 'beach house', '') ) ) / length('beach house') ) as \"beach house_count\",\n",
      "            \n",
      "            round ( ( length(cleaned_content) - length( replace ( cleaned_content, 'day trip', '') ) ) / length('day trip') ) as \"day trip_count\",\n",
      "            \n",
      "            round ( ( length(cleaned_content) - length( replace ( cleaned_content, 'family vacation', '') ) ) / length('family vacation') ) as \"family vacation_count\",\n",
      "                round ( ( length(cleaned_content) - length( replace ( cleaned_content, 'vacation', '') ) ) / length('vacation') ) as \"vacation_count\",\n",
      "            \n",
      "            round ( ( length(cleaned_content) - length( replace ( cleaned_content, 'honeymoon', '') ) ) / length('honeymoon') ) as \"honeymoon_count\",\n",
      "            \n",
      "            round ( ( length(cleaned_content) - length( replace ( cleaned_content, 'art photo', '') ) ) / length('art photo') ) as \"art photo_count\",\n",
      "                round ( ( length(cleaned_content) - length( replace ( cleaned_content, 'photo', '') ) ) / length('photo') ) as \"photo_count\",\n",
      "                round ( ( length(cleaned_content) - length( replace ( cleaned_content, 'photograph', '') ) ) / length('photograph') ) as \"photograph_count\",\n",
      "                round ( ( length(cleaned_content) - length( replace ( cleaned_content, 'artist', '') ) ) / length('artist') ) as \"artist_count\",\n",
      "                round ( ( length(cleaned_content) - length( replace ( cleaned_content, 'painting', '') ) ) / length('painting') ) as \"painting_count\",\n",
      "                round ( ( length(cleaned_content) - length( replace ( cleaned_content, 'sculpture', '') ) ) / length('sculpture') ) as \"sculpture_count\",\n",
      "            \n",
      "            round ( ( length(cleaned_content) - length( replace ( cleaned_content, 'books literature', '') ) ) / length('books literature') ) as \"books literature_count\",\n",
      "                round ( ( length(cleaned_content) - length( replace ( cleaned_content, 'books', '') ) ) / length('books') ) as \"books_count\",\n",
      "                round ( ( length(cleaned_content) - length( replace ( cleaned_content, 'literature', '') ) ) / length('literature') ) as \"literature_count\",\n",
      "                round ( ( length(cleaned_content) - length( replace ( cleaned_content, 'best seller', '') ) ) / length('best seller') ) as \"best seller_count\",\n",
      "                round ( ( length(cleaned_content) - length( replace ( cleaned_content, 'biography', '') ) ) / length('biography') ) as \"biography_count\",\n",
      "                round ( ( length(cleaned_content) - length( replace ( cleaned_content, 'childrens book', '') ) ) / length('childrens book') ) as \"childrens book_count\",\n",
      "                round ( ( length(cleaned_content) - length( replace ( cleaned_content, 'kids book', '') ) ) / length('kids book') ) as \"kids book_count\",\n",
      "                round ( ( length(cleaned_content) - length( replace ( cleaned_content, 'cookbook', '') ) ) / length('cookbook') ) as \"cookbook_count\",\n",
      "                round ( ( length(cleaned_content) - length( replace ( cleaned_content, 'electronic book', '') ) ) / length('electronic book') ) as \"electronic book_count\",\n",
      "                round ( ( length(cleaned_content) - length( replace ( cleaned_content, 'fan fiction', '') ) ) / length('fan fiction') ) as \"fan fiction_count\",\n",
      "                round ( ( length(cleaned_content) - length( replace ( cleaned_content, 'graphic novels', '') ) ) / length('graphic novels') ) as \"graphic novels_count\",\n",
      "                round ( ( length(cleaned_content) - length( replace ( cleaned_content, 'magazine', '') ) ) / length('magazine') ) as \"magazine_count\",\n",
      "                round ( ( length(cleaned_content) - length( replace ( cleaned_content, 'poetry', '') ) ) / length('poetry') ) as \"poetry_count\",\n",
      "                round ( ( length(cleaned_content) - length( replace ( cleaned_content, 'romance novels', '') ) ) / length('romance novels') ) as \"romance novels_count\",\n",
      "                round ( ( length(cleaned_content) - length( replace ( cleaned_content, 'textbook', '') ) ) / length('textbook') ) as \"textbook_count\",\n",
      "                round ( ( length(cleaned_content) - length( replace ( cleaned_content, 'science fiction', '') ) ) / length('science fiction') ) as \"science fiction_count\",\n",
      "            \n",
      "            round ( ( length(cleaned_content) - length( replace ( cleaned_content, 'amusement theme park', '') ) ) / length('amusement theme park') ) as \"amusement theme park_count\",\n",
      "                round ( ( length(cleaned_content) - length( replace ( cleaned_content, 'theme park', '') ) ) / length('theme park') ) as \"theme park_count\",\n",
      "                round ( ( length(cleaned_content) - length( replace ( cleaned_content, 'wonderland', '') ) ) / length('wonderland') ) as \"wonderland_count\",\n",
      "            \n",
      "            round ( ( length(cleaned_content) - length( replace ( cleaned_content, 'award show', '') ) ) / length('award show') ) as \"award show_count\",\n",
      "                round ( ( length(cleaned_content) - length( replace ( cleaned_content, 'grammy', '') ) ) / length('grammy') ) as \"grammy_count\",\n",
      "            \n",
      "            round ( ( length(cleaned_content) - length( replace ( cleaned_content, 'bar restaurant', '') ) ) / length('bar restaurant') ) as \"bar restaurant_count\",\n",
      "                round ( ( length(cleaned_content) - length( replace ( cleaned_content, 'bars', '') ) ) / length('bars') ) as \"bars_count\",\n",
      "                round ( ( length(cleaned_content) - length( replace ( cleaned_content, 'restaurant', '') ) ) / length('restaurant') ) as \"restaurant_count\",\n",
      "            \n",
      "            round ( ( length(cleaned_content) - length( replace ( cleaned_content, 'business expos conferences', '') ) ) / length('business expos conferences') ) as \"business expos conferences_count\",\n",
      "                round ( ( length(cleaned_content) - length( replace ( cleaned_content, 'business expos', '') ) ) / length('business expos') ) as \"business expos_count\",\n",
      "                round ( ( length(cleaned_content) - length( replace ( cleaned_content, 'conferences', '') ) ) / length('conferences') ) as \"conferences_count\",\n",
      "            \n",
      "            round ( ( length(cleaned_content) - length( replace ( cleaned_content, 'casino gamble', '') ) ) / length('casino gamble') ) as \"casino gamble_count\",\n",
      "                round ( ( length(cleaned_content) - length( replace ( cleaned_content, 'casino', '') ) ) / length('casino') ) as \"casino_count\",\n",
      "                round ( ( length(cleaned_content) - length( replace ( cleaned_content, 'gamble', '') ) ) / length('gamble') ) as \"gamble_count\",\n",
      "            \n",
      "            round ( ( length(cleaned_content) - length( replace ( cleaned_content, 'cinema film', '') ) ) / length('cinema film') ) as \"cinema film_count\",\n",
      "                round ( ( length(cleaned_content) - length( replace ( cleaned_content, 'cinema', '') ) ) / length('cinema') ) as \"cinema_count\",\n",
      "                round ( ( length(cleaned_content) - length( replace ( cleaned_content, 'film', '') ) ) / length('film') ) as \"film_count\",\n",
      "                round ( ( length(cleaned_content) - length( replace ( cleaned_content, 'toronto international film festival', '') ) ) / length('toronto international film festival') ) as \"toronto international film festival_count\",\n",
      "                round ( ( length(cleaned_content) - length( replace ( cleaned_content, 'tiff', '') ) ) / length('tiff') ) as \"tiff_count\",\n",
      "            \n",
      "            round ( ( length(cleaned_content) - length( replace ( cleaned_content, 'circus', '') ) ) / length('circus') ) as \"circus_count\",\n",
      "                round ( ( length(cleaned_content) - length( replace ( cleaned_content, 'cirque du soleil', '') ) ) / length('cirque du soleil') ) as \"cirque du soleil_count\",\n",
      "            \n",
      "            round ( ( length(cleaned_content) - length( replace ( cleaned_content, 'comedy shows', '') ) ) / length('comedy shows') ) as \"comedy shows_count\",\n",
      "                round ( ( length(cleaned_content) - length( replace ( cleaned_content, 'comedy', '') ) ) / length('comedy') ) as \"comedy_count\",\n",
      "            \n",
      "            round ( ( length(cleaned_content) - length( replace ( cleaned_content, 'concert', '') ) ) / length('concert') ) as \"concert_count\",\n",
      "                round ( ( length(cleaned_content) - length( replace ( cleaned_content, 'music concert', '') ) ) / length('music concert') ) as \"music concert_count\",\n",
      "            \n",
      "            round ( ( length(cleaned_content) - length( replace ( cleaned_content, 'fan convention', '') ) ) / length('fan convention') ) as \"fan convention_count\",\n",
      "                round ( ( length(cleaned_content) - length( replace ( cleaned_content, 'convention', '') ) ) / length('convention') ) as \"convention_count\",\n",
      "            \n",
      "            round ( ( length(cleaned_content) - length( replace ( cleaned_content, 'fashion events', '') ) ) / length('fashion events') ) as \"fashion events_count\",\n",
      "            \n",
      "            round ( ( length(cleaned_content) - length( replace ( cleaned_content, 'festival', '') ) ) / length('festival') ) as \"festival_count\",\n",
      "                round ( ( length(cleaned_content) - length( replace ( cleaned_content, 'music festival', '') ) ) / length('music festival') ) as \"music festival_count\",\n",
      "            \n",
      "            round ( ( length(cleaned_content) - length( replace ( cleaned_content, 'history landmark', '') ) ) / length('history landmark') ) as \"history landmark_count\",\n",
      "                round ( ( length(cleaned_content) - length( replace ( cleaned_content, 'historical landmarks', '') ) ) / length('historical landmarks') ) as \"historical landmarks_count\",\n",
      "            \n",
      "            round ( ( length(cleaned_content) - length( replace ( cleaned_content, 'shopping malls', '') ) ) / length('shopping malls') ) as \"shopping malls_count\",\n",
      "                round ( ( length(cleaned_content) - length( replace ( cleaned_content, 'shopping', '') ) ) / length('shopping') ) as \"shopping_count\",\n",
      "                round ( ( length(cleaned_content) - length( replace ( cleaned_content, 'square one', '') ) ) / length('square one') ) as \"square one_count\",\n",
      "                round ( ( length(cleaned_content) - length( replace ( cleaned_content, 'scarborough town centre', '') ) ) / length('scarborough town centre') ) as \"scarborough town centre_count\",\n",
      "            \n",
      "            round ( ( length(cleaned_content) - length( replace ( cleaned_content, 'museum', '') ) ) / length('museum') ) as \"museum_count\",\n",
      "                round ( ( length(cleaned_content) - length( replace ( cleaned_content, 'art gallery', '') ) ) / length('art gallery') ) as \"art gallery_count\",\n",
      "                round ( ( length(cleaned_content) - length( replace ( cleaned_content, 'galleries', '') ) ) / length('galleries') ) as \"galleries_count\",\n",
      "            \n",
      "            round ( ( length(cleaned_content) - length( replace ( cleaned_content, 'musicals', '') ) ) / length('musicals') ) as \"musicals_count\",\n",
      "            \n",
      "            round ( ( length(cleaned_content) - length( replace ( cleaned_content, 'nightclubs', '') ) ) / length('nightclubs') ) as \"nightclubs_count\",\n",
      "                round ( ( length(cleaned_content) - length( replace ( cleaned_content, 'clubbing', '') ) ) / length('clubbing') ) as \"clubbing_count\",\n",
      "            \n",
      "            round ( ( length(cleaned_content) - length( replace ( cleaned_content, 'nature parks', '') ) ) / length('nature parks') ) as \"nature parks_count\",\n",
      "                round ( ( length(cleaned_content) - length( replace ( cleaned_content, 'hikers', '') ) ) / length('hikers') ) as \"hikers_count\",\n",
      "                round ( ( length(cleaned_content) - length( replace ( cleaned_content, 'mountain', '') ) ) / length('mountain') ) as \"mountain_count\",\n",
      "            \n",
      "            round ( ( length(cleaned_content) - length( replace ( cleaned_content, 'sporting event', '') ) ) / length('sporting event') ) as \"sporting event_count\",\n",
      "                round ( ( length(cleaned_content) - length( replace ( cleaned_content, 'baseball game', '') ) ) / length('baseball game') ) as \"baseball game_count\",\n",
      "                round ( ( length(cleaned_content) - length( replace ( cleaned_content, 'basketball game', '') ) ) / length('basketball game') ) as \"basketball game_count\",\n",
      "                round ( ( length(cleaned_content) - length( replace ( cleaned_content, 'raptors', '') ) ) / length('raptors') ) as \"raptors_count\",\n",
      "                round ( ( length(cleaned_content) - length( replace ( cleaned_content, 'blue jays', '') ) ) / length('blue jays') ) as \"blue jays_count\",\n",
      "            \n",
      "            round ( ( length(cleaned_content) - length( replace ( cleaned_content, 'zoos aquarium', '') ) ) / length('zoos aquarium') ) as \"zoos aquarium_count\",\n",
      "                round ( ( length(cleaned_content) - length( replace ( cleaned_content, 'aquarium', '') ) ) / length('aquarium') ) as \"aquarium_count\",\n",
      "                round ( ( length(cleaned_content) - length( replace ( cleaned_content, 'zoo', '') ) ) / length('zoo') ) as \"zoo_count\",\n",
      "            \n",
      "            round ( ( length(cleaned_content) - length( replace ( cleaned_content, 'film tv', '') ) ) / length('film tv') ) as \"film tv_count\",\n",
      "                round ( ( length(cleaned_content) - length( replace ( cleaned_content, 'movie', '') ) ) / length('movie') ) as \"movie_count\",\n",
      "                round ( ( length(cleaned_content) - length( replace ( cleaned_content, 'theatre', '') ) ) / length('theatre') ) as \"theatre_count\",\n",
      "                round ( ( length(cleaned_content) - length( replace ( cleaned_content, 'animated film', '') ) ) / length('animated film') ) as \"animated film_count\",\n",
      "                round ( ( length(cleaned_content) - length( replace ( cleaned_content, 'hollywood', '') ) ) / length('hollywood') ) as \"hollywood_count\",\n",
      "                round ( ( length(cleaned_content) - length( replace ( cleaned_content, 'bollywood', '') ) ) / length('bollywood') ) as \"bollywood_count\",\n",
      "                round ( ( length(cleaned_content) - length( replace ( cleaned_content, 'documentary', '') ) ) / length('documentary') ) as \"documentary_count\",\n",
      "                round ( ( length(cleaned_content) - length( replace ( cleaned_content, 'mystery movie', '') ) ) / length('mystery movie') ) as \"mystery movie_count\",\n",
      "                round ( ( length(cleaned_content) - length( replace ( cleaned_content, 'thriller movie', '') ) ) / length('thriller movie') ) as \"thriller movie_count\",\n",
      "                round ( ( length(cleaned_content) - length( replace ( cleaned_content, 'drama movie', '') ) ) / length('drama movie') ) as \"drama movie_count\",\n",
      "                round ( ( length(cleaned_content) - length( replace ( cleaned_content, 'fantasy movie', '') ) ) / length('fantasy movie') ) as \"fantasy movie_count\",\n",
      "                round ( ( length(cleaned_content) - length( replace ( cleaned_content, 'horror movie', '') ) ) / length('horror movie') ) as \"horror movie_count\",\n",
      "                round ( ( length(cleaned_content) - length( replace ( cleaned_content, 'romantic comedy', '') ) ) / length('romantic comedy') ) as \"romantic comedy_count\",\n",
      "                round ( ( length(cleaned_content) - length( replace ( cleaned_content, 'romance', '') ) ) / length('romance') ) as \"romance_count\",\n",
      "                round ( ( length(cleaned_content) - length( replace ( cleaned_content, 'television', '') ) ) / length('television') ) as \"television_count\",\n",
      "                round ( ( length(cleaned_content) - length( replace ( cleaned_content, 'tv', '') ) ) / length('tv') ) as \"tv_count\",\n",
      "                round ( ( length(cleaned_content) - length( replace ( cleaned_content, 'action movie', '') ) ) / length('action movie') ) as \"action movie_count\",\n",
      "                round ( ( length(cleaned_content) - length( replace ( cleaned_content, 'adventure movie', '') ) ) / length('adventure movie') ) as \"adventure movie_count\",\n",
      "                round ( ( length(cleaned_content) - length( replace ( cleaned_content, 'film festival', '') ) ) / length('film festival') ) as \"film festival_count\",\n",
      "                round ( ( length(cleaned_content) - length( replace ( cleaned_content, 'movie reviews', '') ) ) / length('movie reviews') ) as \"movie reviews_count\",\n",
      "                round ( ( length(cleaned_content) - length( replace ( cleaned_content, 'movie trailers', '') ) ) / length('movie trailers') ) as \"movie trailers_count\",\n",
      "                round ( ( length(cleaned_content) - length( replace ( cleaned_content, 'tv programs', '') ) ) / length('tv programs') ) as \"tv programs_count\",\n",
      "                round ( ( length(cleaned_content) - length( replace ( cleaned_content, 'reality show', '') ) ) / length('reality show') ) as \"reality show_count\",\n",
      "                round ( ( length(cleaned_content) - length( replace ( cleaned_content, 'cartoons', '') ) ) / length('cartoons') ) as \"cartoons_count\",\n",
      "            \n",
      "            round ( ( length(cleaned_content) - length( replace ( cleaned_content, 'dance', '') ) ) / length('dance') ) as \"dance_count\",\n",
      "            \n",
      "            round ( ( length(cleaned_content) - length( replace ( cleaned_content, 'digital art', '') ) ) / length('digital art') ) as \"digital art_count\",\n",
      "            \n",
      "            round ( ( length(cleaned_content) - length( replace ( cleaned_content, 'fine art', '') ) ) / length('fine art') ) as \"fine art_count\",\n",
      "                round ( ( length(cleaned_content) - length( replace ( cleaned_content, 'modern art', '') ) ) / length('modern art') ) as \"modern art_count\",\n",
      "                round ( ( length(cleaned_content) - length( replace ( cleaned_content, 'opera', '') ) ) / length('opera') ) as \"opera_count\",\n",
      "            \n",
      "            round ( ( length(cleaned_content) - length( replace ( cleaned_content, 'instruments', '') ) ) / length('instruments') ) as \"instruments_count\",\n",
      "                round ( ( length(cleaned_content) - length( replace ( cleaned_content, 'musical instrument', '') ) ) / length('musical instrument') ) as \"musical instrument_count\",\n",
      "                round ( ( length(cleaned_content) - length( replace ( cleaned_content, 'didjeridoo', '') ) ) / length('didjeridoo') ) as \"didjeridoo_count\",\n",
      "                round ( ( length(cleaned_content) - length( replace ( cleaned_content, 'guitar', '') ) ) / length('guitar') ) as \"guitar_count\",\n",
      "                round ( ( length(cleaned_content) - length( replace ( cleaned_content, 'piano', '') ) ) / length('piano') ) as \"piano_count\",\n",
      "                round ( ( length(cleaned_content) - length( replace ( cleaned_content, 'flute', '') ) ) / length('flute') ) as \"flute_count\",\n",
      "                round ( ( length(cleaned_content) - length( replace ( cleaned_content, 'saxophone', '') ) ) / length('saxophone') ) as \"saxophone_count\",\n",
      "                round ( ( length(cleaned_content) - length( replace ( cleaned_content, 'trombone', '') ) ) / length('trombone') ) as \"trombone_count\",\n",
      "            \n",
      "            round ( ( length(cleaned_content) - length( replace ( cleaned_content, 'celebrations', '') ) ) / length('celebrations') ) as \"celebrations_count\",\n",
      "                round ( ( length(cleaned_content) - length( replace ( cleaned_content, 'celebrate', '') ) ) / length('celebrate') ) as \"celebrate_count\",\n",
      "                round ( ( length(cleaned_content) - length( replace ( cleaned_content, 'anniversary', '') ) ) / length('anniversary') ) as \"anniversary_count\",\n",
      "                round ( ( length(cleaned_content) - length( replace ( cleaned_content, 'baby shower', '') ) ) / length('baby shower') ) as \"baby shower_count\",\n",
      "                round ( ( length(cleaned_content) - length( replace ( cleaned_content, 'birthday', '') ) ) / length('birthday') ) as \"birthday_count\",\n",
      "                round ( ( length(cleaned_content) - length( replace ( cleaned_content, 'bachelor party', '') ) ) / length('bachelor party') ) as \"bachelor party_count\",\n",
      "                round ( ( length(cleaned_content) - length( replace ( cleaned_content, 'bachelorette party', '') ) ) / length('bachelorette party') ) as \"bachelorette party_count\",\n",
      "                round ( ( length(cleaned_content) - length( replace ( cleaned_content, 'funeral', '') ) ) / length('funeral') ) as \"funeral_count\",\n",
      "                round ( ( length(cleaned_content) - length( replace ( cleaned_content, 'graduation', '') ) ) / length('graduation') ) as \"graduation_count\",\n",
      "                round ( ( length(cleaned_content) - length( replace ( cleaned_content, 'wedding', '') ) ) / length('wedding') ) as \"wedding_count\",\n",
      "            \n",
      "            round ( ( length(cleaned_content) - length( replace ( cleaned_content, 'music', '') ) ) / length('music') ) as \"music_count\",\n",
      "                round ( ( length(cleaned_content) - length( replace ( cleaned_content, 'kids music', '') ) ) / length('kids music') ) as \"kids music_count\",\n",
      "                round ( ( length(cleaned_content) - length( replace ( cleaned_content, 'childrens music', '') ) ) / length('childrens music') ) as \"childrens music_count\",\n",
      "                round ( ( length(cleaned_content) - length( replace ( cleaned_content, 'country music', '') ) ) / length('country music') ) as \"country music_count\",\n",
      "                round ( ( length(cleaned_content) - length( replace ( cleaned_content, 'dance music', '') ) ) / length('dance music') ) as \"dance music_count\",\n",
      "                round ( ( length(cleaned_content) - length( replace ( cleaned_content, 'electronic music', '') ) ) / length('electronic music') ) as \"electronic music_count\",\n",
      "                round ( ( length(cleaned_content) - length( replace ( cleaned_content, 'gospel music', '') ) ) / length('gospel music') ) as \"gospel music_count\",\n",
      "                round ( ( length(cleaned_content) - length( replace ( cleaned_content, 'hip hop', '') ) ) / length('hip hop') ) as \"hip hop_count\",\n",
      "                round ( ( length(cleaned_content) - length( replace ( cleaned_content, 'reggae', '') ) ) / length('reggae') ) as \"reggae_count\",\n",
      "                round ( ( length(cleaned_content) - length( replace ( cleaned_content, 'rock music', '') ) ) / length('rock music') ) as \"rock music_count\",\n",
      "                round ( ( length(cleaned_content) - length( replace ( cleaned_content, 'soundcloud', '') ) ) / length('soundcloud') ) as \"soundcloud_count\",\n",
      "                round ( ( length(cleaned_content) - length( replace ( cleaned_content, 'soundtrack', '') ) ) / length('soundtrack') ) as \"soundtrack_count\",\n",
      "                round ( ( length(cleaned_content) - length( replace ( cleaned_content, 'music composition', '') ) ) / length('music composition') ) as \"music composition_count\",\n",
      "                round ( ( length(cleaned_content) - length( replace ( cleaned_content, 'music theory', '') ) ) / length('music theory') ) as \"music theory_count\",\n",
      "                round ( ( length(cleaned_content) - length( replace ( cleaned_content, 'music award', '') ) ) / length('music award') ) as \"music award_count\",\n",
      "                round ( ( length(cleaned_content) - length( replace ( cleaned_content, 'streaming music', '') ) ) / length('streaming music') ) as \"streaming music_count\",\n",
      "                round ( ( length(cleaned_content) - length( replace ( cleaned_content, 'spotify', '') ) ) / length('spotify') ) as \"spotify_count\",\n",
      "                round ( ( length(cleaned_content) - length( replace ( cleaned_content, 'music industry', '') ) ) / length('music industry') ) as \"music industry_count\",\n",
      "                round ( ( length(cleaned_content) - length( replace ( cleaned_content, 'sheet music', '') ) ) / length('sheet music') ) as \"sheet music_count\",\n",
      "            \n",
      "            round ( ( length(cleaned_content) - length( replace ( cleaned_content, 'performance', '') ) ) / length('performance') ) as \"performance_count\",\n",
      "                round ( ( length(cleaned_content) - length( replace ( cleaned_content, 'magic', '') ) ) / length('magic') ) as \"magic_count\",\n",
      "                round ( ( length(cleaned_content) - length( replace ( cleaned_content, 'classical ballet', '') ) ) / length('classical ballet') ) as \"classical ballet_count\",\n",
      "                round ( ( length(cleaned_content) - length( replace ( cleaned_content, 'theatrical production', '') ) ) / length('theatrical production') ) as \"theatrical production_count\",\n",
      "                round ( ( length(cleaned_content) - length( replace ( cleaned_content, 'musical production', '') ) ) / length('musical production') ) as \"musical production_count\",\n",
      "            \n",
      "            round ( ( length(cleaned_content) - length( replace ( cleaned_content, 'podcast', '') ) ) / length('podcast') ) as \"podcast_count\",\n",
      "                round ( ( length(cleaned_content) - length( replace ( cleaned_content, 'sports radio', '') ) ) / length('sports radio') ) as \"sports radio_count\",\n",
      "                round ( ( length(cleaned_content) - length( replace ( cleaned_content, 'talk radio', '') ) ) / length('talk radio') ) as \"talk radio_count\",\n",
      "            \n",
      "            round ( ( length(cleaned_content) - length( replace ( cleaned_content, 'pop culture', '') ) ) / length('pop culture') ) as \"pop culture_count\",\n",
      "                round ( ( length(cleaned_content) - length( replace ( cleaned_content, 'celebrity death', '') ) ) / length('celebrity death') ) as \"celebrity death_count\",\n",
      "                round ( ( length(cleaned_content) - length( replace ( cleaned_content, 'celebrity families', '') ) ) / length('celebrity families') ) as \"celebrity families_count\",\n",
      "                round ( ( length(cleaned_content) - length( replace ( cleaned_content, 'celebrity homes', '') ) ) / length('celebrity homes') ) as \"celebrity homes_count\",\n",
      "                round ( ( length(cleaned_content) - length( replace ( cleaned_content, 'celebrity pregnancy', '') ) ) / length('celebrity pregnancy') ) as \"celebrity pregnancy_count\",\n",
      "                round ( ( length(cleaned_content) - length( replace ( cleaned_content, 'celebrity relationship', '') ) ) / length('celebrity relationship') ) as \"celebrity relationship_count\",\n",
      "                round ( ( length(cleaned_content) - length( replace ( cleaned_content, 'celebrity scandal', '') ) ) / length('celebrity scandal') ) as \"celebrity scandal_count\",\n",
      "                round ( ( length(cleaned_content) - length( replace ( cleaned_content, 'celebrity style', '') ) ) / length('celebrity style') ) as \"celebrity style_count\",\n",
      "                round ( ( length(cleaned_content) - length( replace ( cleaned_content, 'celebrity memes', '') ) ) / length('celebrity memes') ) as \"celebrity memes_count\",\n",
      "            \n",
      "            round ( ( length(cleaned_content) - length( replace ( cleaned_content, 'video games', '') ) ) / length('video games') ) as \"video games_count\",\n",
      "                round ( ( length(cleaned_content) - length( replace ( cleaned_content, 'gaming', '') ) ) / length('gaming') ) as \"gaming_count\",\n",
      "                round ( ( length(cleaned_content) - length( replace ( cleaned_content, 'gamer', '') ) ) / length('gamer') ) as \"gamer_count\",\n",
      "                round ( ( length(cleaned_content) - length( replace ( cleaned_content, 'action games', '') ) ) / length('action games') ) as \"action games_count\",\n",
      "                round ( ( length(cleaned_content) - length( replace ( cleaned_content, 'adventure games', '') ) ) / length('adventure games') ) as \"adventure games_count\",\n",
      "                round ( ( length(cleaned_content) - length( replace ( cleaned_content, 'educational games', '') ) ) / length('educational games') ) as \"educational games_count\",\n",
      "                round ( ( length(cleaned_content) - length( replace ( cleaned_content, 'mmo rpg games', '') ) ) / length('mmo rpg games') ) as \"mmo rpg games_count\",\n",
      "                round ( ( length(cleaned_content) - length( replace ( cleaned_content, 'musical games', '') ) ) / length('musical games') ) as \"musical games_count\",\n",
      "                round ( ( length(cleaned_content) - length( replace ( cleaned_content, 'sport games', '') ) ) / length('sport games') ) as \"sport games_count\",\n",
      "                round ( ( length(cleaned_content) - length( replace ( cleaned_content, 'game development', '') ) ) / length('game development') ) as \"game development_count\",\n",
      "                round ( ( length(cleaned_content) - length( replace ( cleaned_content, 'vr games', '') ) ) / length('vr games') ) as \"vr games_count\",\n",
      "                round ( ( length(cleaned_content) - length( replace ( cleaned_content, 'mobile game', '') ) ) / length('mobile game') ) as \"mobile game_count\",\n",
      "                round ( ( length(cleaned_content) - length( replace ( cleaned_content, 'playstation', '') ) ) / length('playstation') ) as \"playstation_count\",\n",
      "                round ( ( length(cleaned_content) - length( replace ( cleaned_content, 'xbox', '') ) ) / length('xbox') ) as \"xbox_count\",\n",
      "                round ( ( length(cleaned_content) - length( replace ( cleaned_content, 'gaming console', '') ) ) / length('gaming console') ) as \"gaming console_count\",\n",
      "                round ( ( length(cleaned_content) - length( replace ( cleaned_content, 'virtual reality games', '') ) ) / length('virtual reality games') ) as \"virtual reality games_count\"\n",
      "\n",
      "    from sandbox.vpatel_schema.all_articles\n",
      "    ), join_subtopics as (\n",
      "    select \n",
      "        storyuuid, brand, cleaned_content, article_len, article_word_count,\n",
      "         \"travel_count\",\n",
      "            (\"bnb_count\" + \"air bnb_count\" + \"bed breakfast_count\" + \"air bb_count\") as \"bnb_count\", \n",
      "             \"hotel_count\",\n",
      "             \"motel_count\",\n",
      "            (\"bus_count\" + \"school bus_count\" + \"travel bus_count\" + \"bus station_count\" + \"train station_count\") as \"bus_count\", \n",
      "             \"road trip_count\",\n",
      "            (\"rv_count\" + \"recreational vehicle_count\") as \"rv_count\", \n",
      "             \"adventure_count\",\n",
      "            (\"beach_count\" + \"beach house_count\") as \"beach_count\", \n",
      "             \"day trip_count\",\n",
      "            (\"family vacation_count\" + \"vacation_count\") as \"family vacation_count\", \n",
      "             \"honeymoon_count\",\n",
      "            (\"art photo_count\" + \"photo_count\" + \"photograph_count\" + \"artist_count\" + \"painting_count\" + \"sculpture_count\") as \"art photo_count\", \n",
      "            (\"books literature_count\" + \"books_count\" + \"literature_count\" + \"best seller_count\" + \"biography_count\" + \"childrens book_count\" + \"kids book_count\" + \"cookbook_count\" + \"electronic book_count\" + \"fan fiction_count\" + \"graphic novels_count\" + \"magazine_count\" + \"poetry_count\" + \"romance novels_count\" + \"textbook_count\" + \"science fiction_count\") as \"books literature_count\", \n",
      "            (\"amusement theme park_count\" + \"theme park_count\" + \"wonderland_count\") as \"amusement theme park_count\", \n",
      "            (\"award show_count\" + \"grammy_count\") as \"award show_count\", \n",
      "            (\"bar restaurant_count\" + \"bars_count\" + \"restaurant_count\") as \"bar restaurant_count\", \n",
      "            (\"business expos conferences_count\" + \"business expos_count\" + \"conferences_count\") as \"business expos conferences_count\", \n",
      "            (\"casino gamble_count\" + \"casino_count\" + \"gamble_count\") as \"casino gamble_count\", \n",
      "            (\"cinema film_count\" + \"cinema_count\" + \"film_count\" + \"toronto international film festival_count\" + \"tiff_count\") as \"cinema film_count\", \n",
      "            (\"circus_count\" + \"cirque du soleil_count\") as \"circus_count\", \n",
      "            (\"comedy shows_count\" + \"comedy_count\") as \"comedy shows_count\", \n",
      "            (\"concert_count\" + \"music concert_count\") as \"concert_count\", \n",
      "            (\"fan convention_count\" + \"convention_count\") as \"fan convention_count\", \n",
      "             \"fashion events_count\",\n",
      "            (\"festival_count\" + \"music festival_count\") as \"festival_count\", \n",
      "            (\"history landmark_count\" + \"historical landmarks_count\") as \"history landmark_count\", \n",
      "            (\"shopping malls_count\" + \"shopping_count\" + \"square one_count\" + \"scarborough town centre_count\") as \"shopping malls_count\", \n",
      "            (\"museum_count\" + \"art gallery_count\" + \"galleries_count\") as \"museum_count\", \n",
      "             \"musicals_count\",\n",
      "            (\"nightclubs_count\" + \"clubbing_count\") as \"nightclubs_count\", \n",
      "            (\"nature parks_count\" + \"hikers_count\" + \"mountain_count\") as \"nature parks_count\", \n",
      "            (\"sporting event_count\" + \"baseball game_count\" + \"basketball game_count\" + \"raptors_count\" + \"blue jays_count\") as \"sporting event_count\", \n",
      "            (\"zoos aquarium_count\" + \"aquarium_count\" + \"zoo_count\") as \"zoos aquarium_count\", \n",
      "            (\"film tv_count\" + \"movie_count\" + \"theatre_count\" + \"animated film_count\" + \"hollywood_count\" + \"bollywood_count\" + \"documentary_count\" + \"mystery movie_count\" + \"thriller movie_count\" + \"drama movie_count\" + \"fantasy movie_count\" + \"horror movie_count\" + \"romantic comedy_count\" + \"romance_count\" + \"television_count\" + \"tv_count\" + \"action movie_count\" + \"adventure movie_count\" + \"film festival_count\" + \"movie reviews_count\" + \"movie trailers_count\" + \"tv programs_count\" + \"reality show_count\" + \"cartoons_count\") as \"film tv_count\", \n",
      "             \"dance_count\",\n",
      "             \"digital art_count\",\n",
      "            (\"fine art_count\" + \"modern art_count\" + \"opera_count\") as \"fine art_count\", \n",
      "            (\"instruments_count\" + \"musical instrument_count\" + \"didjeridoo_count\" + \"guitar_count\" + \"piano_count\" + \"flute_count\" + \"saxophone_count\" + \"trombone_count\") as \"instruments_count\", \n",
      "            (\"celebrations_count\" + \"celebrate_count\" + \"anniversary_count\" + \"baby shower_count\" + \"birthday_count\" + \"bachelor party_count\" + \"bachelorette party_count\" + \"funeral_count\" + \"graduation_count\" + \"wedding_count\") as \"celebrations_count\", \n",
      "            (\"music_count\" + \"kids music_count\" + \"childrens music_count\" + \"country music_count\" + \"dance music_count\" + \"electronic music_count\" + \"gospel music_count\" + \"hip hop_count\" + \"reggae_count\" + \"rock music_count\" + \"soundcloud_count\" + \"soundtrack_count\" + \"music composition_count\" + \"music theory_count\" + \"music award_count\" + \"streaming music_count\" + \"spotify_count\" + \"music industry_count\" + \"sheet music_count\") as \"music_count\", \n",
      "            (\"performance_count\" + \"magic_count\" + \"classical ballet_count\" + \"theatrical production_count\" + \"musical production_count\") as \"performance_count\", \n",
      "            (\"podcast_count\" + \"sports radio_count\" + \"talk radio_count\") as \"podcast_count\", \n",
      "            (\"pop culture_count\" + \"celebrity death_count\" + \"celebrity families_count\" + \"celebrity homes_count\" + \"celebrity pregnancy_count\" + \"celebrity relationship_count\" + \"celebrity scandal_count\" + \"celebrity style_count\" + \"celebrity memes_count\") as \"pop culture_count\", \n",
      "            (\"video games_count\" + \"gaming_count\" + \"gamer_count\" + \"action games_count\" + \"adventure games_count\" + \"educational games_count\" + \"mmo rpg games_count\" + \"musical games_count\" + \"sport games_count\" + \"game development_count\" + \"vr games_count\" + \"mobile game_count\" + \"playstation_count\" + \"xbox_count\" + \"gaming console_count\" + \"virtual reality games_count\") as \"video games_count\"\n",
      "\n",
      "    from sub_count\n",
      "    ), topic_counts as (\n",
      "    select \n",
      "        *,\n",
      "        (\"art photo_count\" + \"books literature_count\" + \"amusement theme park_count\" + \"award show_count\" + \"bar restaurant_count\" + \"business expos conferences_count\" + \"casino gamble_count\" + \"cinema film_count\" + \"circus_count\" + \"comedy shows_count\" + \"concert_count\" + \"fan convention_count\" + \"fashion events_count\" + \"festival_count\" + \"history landmark_count\" + \"shopping malls_count\" + \"museum_count\" + \"musicals_count\" + \"nightclubs_count\" + \"nature parks_count\" + \"sporting event_count\" + \"zoos aquarium_count\" + \"film tv_count\" + \"dance_count\" + \"digital art_count\" + \"fine art_count\" + \"instruments_count\" + \"celebrations_count\" + \"music_count\" + \"performance_count\" + \"podcast_count\" + \"pop culture_count\" + \"video games_count\") as \"entertainment_count\",\n",
      "            (\"travel_count\" + \"bnb_count\" + \"hotel_count\" + \"motel_count\" + \"bus_count\" + \"road trip_count\" + \"rv_count\" + \"adventure_count\" + \"beach_count\" + \"day trip_count\" + \"family vacation_count\" + \"honeymoon_count\") as \"travel_count\"\n",
      "\n",
      "    from sub_count\n",
      "    )\n",
      "    select\n",
      "        *\n",
      "    from topic_counts\n",
      "    );\n"
     ]
    }
   ],
   "source": [
    "print(res)"
   ]
  },
  {
   "cell_type": "code",
   "execution_count": null,
   "id": "dbb8cbe9-f085-42fa-a159-9a665cbaed0e",
   "metadata": {},
   "outputs": [],
   "source": []
  },
  {
   "cell_type": "code",
   "execution_count": null,
   "id": "ed3eecdf-ed1a-404c-af8b-9f0b20279602",
   "metadata": {},
   "outputs": [],
   "source": []
  },
  {
   "cell_type": "code",
   "execution_count": null,
   "id": "94966434-f091-48a3-8942-54fa29b5248c",
   "metadata": {},
   "outputs": [],
   "source": []
  },
  {
   "cell_type": "code",
   "execution_count": 40,
   "id": "feb5fb26-4fd3-45cd-ab30-cff054a5647b",
   "metadata": {},
   "outputs": [],
   "source": [
    "fin_q = '''\n",
    "select \n",
    "    'storyuuid',\n",
    "    'brand', \n",
    "    'cleaned_content',    \n",
    "    'article_len',\n",
    "    'article_word_count',\n",
    "    -- travel\n",
    "        round ( ( length(cleaned_content) - length( replace ( cleaned_content, 'destination ', '') ) ) / length('destination ') ) as destination_count,\n",
    "            round ( ( length(cleaned_content) - length( replace ( cleaned_content, 'asia ', '') ) ) / length('asia ') ) as asia_count,\n",
    "            round ( ( length(cleaned_content) - length( replace ( cleaned_content, 'eurpoe ', '') ) ) / length('eurpoe ') ) as eurpoe_count,\n",
    "            round ( ( length(cleaned_content) - length( replace ( cleaned_content, 'latin america ', '') ) ) / length('latin america ') ) as latin_america_count,\n",
    "        round ( ( length(cleaned_content) - length( replace ( cleaned_content, 'automotive ', '') ) ) / length('automotive ') ) as automotive_count,\n",
    "            round ( ( length(cleaned_content) - length( replace ( cleaned_content, 'bus ', '') ) ) / length('bus ') ) as bus_count,\n",
    "            round ( ( length(cleaned_content) - length( replace ( cleaned_content, 'air ', '') ) ) / length('air ') ) as air_count,\n",
    "        round ( ( length(cleaned_content) - length( replace ( cleaned_content, 'housing ', '') ) ) / length('housing ') ) as housing_count,\n",
    "            round ( ( length(cleaned_content) - length( replace ( cleaned_content, 'air bnb ', '') ) ) / length('air bnb ') ) as air_bnb_count,\n",
    "            round ( ( length(cleaned_content) - length( replace ( cleaned_content, 'hotel ', '') ) ) / length('hotel ') ) as hotel_count,\n",
    "    -- entertainment\n",
    "        round ( ( length(cleaned_content) - length( replace ( cleaned_content, 'games ', '') ) ) / length('games ') ) as games_count,\n",
    "            round ( ( length(cleaned_content) - length( replace ( cleaned_content, 'elden ring ', '') ) ) / length('elden ring ') ) as elden_ring_count,\n",
    "        round ( ( length(cleaned_content) - length( replace ( cleaned_content, 'music ', '') ) ) / length('music ') ) as music_count\n",
    "from sandbox.vpatel_schema.all_articles\n",
    "'''"
   ]
  },
  {
   "cell_type": "code",
   "execution_count": 18,
   "id": "4a23797d-b79f-48f0-8db9-a10c02cf06c8",
   "metadata": {},
   "outputs": [],
   "source": [
    "static_cols = [\n",
    "    'storyuuid',\n",
    "    'brand', \n",
    "    'cleaned_content',    \n",
    "    'article_len',\n",
    "    'article_word_count'\n",
    "]\n",
    "ref_table = 'sandbox.vpatel_schema.all_articles'"
   ]
  },
  {
   "cell_type": "code",
   "execution_count": 28,
   "id": "c4221713-47ff-462b-a09c-30673afe954f",
   "metadata": {},
   "outputs": [
    {
     "name": "stdout",
     "output_type": "stream",
     "text": [
      "4 article_word_count\n"
     ]
    }
   ],
   "source": [
    "query = ''\n",
    "m = len(static_cols) - 1\n",
    "for i,col in enumerate(static_cols):\n",
    "    \n",
    "    if i == m:\n",
    "        print(i,col)"
   ]
  },
  {
   "cell_type": "code",
   "execution_count": null,
   "id": "995e09e1-6730-4855-a9b8-b9d3c66772d5",
   "metadata": {},
   "outputs": [],
   "source": [
    "pd.io.sql.read_sql_query()"
   ]
  },
  {
   "cell_type": "code",
   "execution_count": 37,
   "id": "edba1ab9-96b0-4dac-808f-bab60f3284dc",
   "metadata": {},
   "outputs": [
    {
     "name": "stdout",
     "output_type": "stream",
     "text": [
      "CREATE TABLE \"kw_tbl\" (\n",
      "\"index\" INTEGER,\n",
      "  \"topic\" TEXT,\n",
      "  \"subtopic\" TEXT,\n",
      "  \"keywords\" TEXT,\n",
      "  \"col_name\" TEXT,\n",
      "  \"gen_model\" TEXT\n",
      ")\n"
     ]
    }
   ],
   "source": [
    "print(pd.io.sql.get_schema(kw_df.reset_index(), 'kw_tbl'))"
   ]
  },
  {
   "cell_type": "code",
   "execution_count": 21,
   "id": "f7507558-49af-46ed-8fa3-e8db06718bfe",
   "metadata": {},
   "outputs": [],
   "source": [
    "query = '''select {} from {}\n",
    "'''.format(static_cols, ref_table)"
   ]
  },
  {
   "cell_type": "code",
   "execution_count": 22,
   "id": "bc75a2d0-cc51-4608-a7d9-1b25c6252fb0",
   "metadata": {},
   "outputs": [
    {
     "data": {
      "text/plain": [
       "\"select ['storyuuid', 'brand', 'cleaned_content', 'article_len', 'article_word_count'] from sandbox.vpatel_schema.all_articles\\n\""
      ]
     },
     "execution_count": 22,
     "metadata": {},
     "output_type": "execute_result"
    }
   ],
   "source": [
    "query"
   ]
  },
  {
   "cell_type": "code",
   "execution_count": null,
   "id": "3d9fd17f-bf85-4521-a6f5-cb78485f41d4",
   "metadata": {},
   "outputs": [],
   "source": []
  },
  {
   "cell_type": "code",
   "execution_count": null,
   "id": "8268a5a4-4f68-4fe7-a656-34b05c41b5c1",
   "metadata": {},
   "outputs": [],
   "source": []
  },
  {
   "cell_type": "code",
   "execution_count": null,
   "id": "06af4c65-ccfc-4c33-9ec9-b3771683da1e",
   "metadata": {},
   "outputs": [],
   "source": []
  }
 ],
 "metadata": {
  "kernelspec": {
   "display_name": "Python 3",
   "language": "python",
   "name": "python3"
  },
  "language_info": {
   "codemirror_mode": {
    "name": "ipython",
    "version": 3
   },
   "file_extension": ".py",
   "mimetype": "text/x-python",
   "name": "python",
   "nbconvert_exporter": "python",
   "pygments_lexer": "ipython3",
   "version": "3.8.8"
  }
 },
 "nbformat": 4,
 "nbformat_minor": 5
}
