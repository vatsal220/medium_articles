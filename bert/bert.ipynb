{
 "cells": [
  {
   "cell_type": "markdown",
   "id": "b7c3d13a-1efb-44f8-9fd1-12f81dc176b8",
   "metadata": {},
   "source": [
    "# BERT"
   ]
  },
  {
   "cell_type": "markdown",
   "id": "dd5cd1dc-6f0b-453a-af50-24a13e5b10ad",
   "metadata": {},
   "source": [
    "### Resources   \n",
    "- https://jalammar.github.io/a-visual-guide-to-using-bert-for-the-first-time/\n",
    "- https://searchenterpriseai.techtarget.com/definition/BERT-language-model\n",
    "- https://www.thepythoncode.com/article/finetuning-bert-using-huggingface-transformers-python\n",
    "- https://towardsdatascience.com/text-classification-with-bert-in-pytorch-887965e5820f\n",
    "- https://towardsdatascience.com/bert-text-classification-using-pytorch-723dfb8b6b5b\n",
    "- https://curiousily.com/posts/multi-label-text-classification-with-bert-and-pytorch-lightning/\n",
    "- https://towardsdatascience.com/bert-for-dummies-step-by-step-tutorial-fb90890ffe03\n",
    "- https://neptune.ai/blog/how-to-code-bert-using-pytorch-tutorial\n",
    "- https://medium.com/analytics-vidhya/text-summarization-using-bert-gpt2-xlnet-5ee80608e961"
   ]
  },
  {
   "cell_type": "code",
   "execution_count": null,
   "id": "d58ad60d-b4f6-4f4a-a898-46d3dec556b2",
   "metadata": {},
   "outputs": [],
   "source": []
  }
 ],
 "metadata": {
  "kernelspec": {
   "display_name": "Python 3",
   "language": "python",
   "name": "python3"
  },
  "language_info": {
   "codemirror_mode": {
    "name": "ipython",
    "version": 3
   },
   "file_extension": ".py",
   "mimetype": "text/x-python",
   "name": "python",
   "nbconvert_exporter": "python",
   "pygments_lexer": "ipython3",
   "version": "3.8.8"
  }
 },
 "nbformat": 4,
 "nbformat_minor": 5
}
