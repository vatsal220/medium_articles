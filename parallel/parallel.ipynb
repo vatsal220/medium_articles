{
 "cells": [
  {
   "cell_type": "markdown",
   "id": "016ee0c8-a7fc-4072-bc30-8765dd23620c",
   "metadata": {},
   "source": [
    "# Parallel"
   ]
  },
  {
   "cell_type": "code",
   "execution_count": 3,
   "id": "8cc64328-b914-4baa-a2cd-1c91ceb3be27",
   "metadata": {},
   "outputs": [],
   "source": [
    "import pandas as pd\n",
    "import numpy as np\n",
    "import random\n",
    "\n",
    "from multiprocessing import Pool\n",
    "from multiprocessing import cpu_count\n",
    "from functools import partial"
   ]
  },
  {
   "cell_type": "markdown",
   "id": "2115fe36-1a8c-4dca-8a44-4c4af739a93c",
   "metadata": {},
   "source": [
    "## Generate Data"
   ]
  },
  {
   "cell_type": "code",
   "execution_count": 2,
   "id": "777e679f-a397-4331-9358-ad5d6e9b017c",
   "metadata": {},
   "outputs": [],
   "source": [
    "import pandas as pd\n",
    "from random import randint\n",
    "\n",
    "def generate_data(n_books = 3000, n_genres = 10, n_authors = 450, n_publishers = 50, n_readers = 30000, dataset_size = 100000):\n",
    "    '''\n",
    "    This function will generate a dataset with features associated to\n",
    "    book data set. The dataset will have the following columns : \n",
    "        - book_id (String) : Unique identified for the book\n",
    "        - book_rating (Integer) : A value between 0 and 10\n",
    "        - reader_id (String) : Unique identifier for the user\n",
    "        - book_genre (Integer) : An integer representing a genre for the book, \n",
    "                                 value is between 1 and 15, indicating that \n",
    "                                 there are 15 unique genres. Each book can only\n",
    "                                 have 1 genre\n",
    "        - author_id (String) : Unique identifier for the author of the book\n",
    "        - num_pages (Integer) : Random value between 70 and 500\n",
    "        - publisher_id (String) : A unique identifier for the publisher of the book\n",
    "        - publish_year (Integer) : The year of book publishing\n",
    "        - book_price (Integer) : The sale price of the book\n",
    "        - text_lang (Integer) : The language of the book - returns an integer which \n",
    "                                is mapped to some language\n",
    "        \n",
    "    params:\n",
    "        n_books (Integer) : The number of books you want the dataset to have\n",
    "        n_genres (Integer) : Number of genres to be chosen from\n",
    "        n_authors (Integer) : Number of authors to be generated\n",
    "        n_publishers (Integer) : Number of publishers for the dataset\n",
    "        n_readers (Integer) : Number of readers for the dataset\n",
    "        dataset_size (Integer) : The number of rows to be generated \n",
    "        \n",
    "    example:\n",
    "        data = generate_data()\n",
    "    '''\n",
    "    \n",
    "    d = pd.DataFrame(\n",
    "        {\n",
    "            'book_id' : [randint(1, n_books) for _ in range(dataset_size)],\n",
    "            'author_id' : [randint(1, n_authors) for _ in range(dataset_size)],\n",
    "            'book_genre' : [randint(1, n_genres) for _ in range(dataset_size)],\n",
    "            'reader_id' : [randint(1, n_readers) for _ in range(dataset_size)],\n",
    "            'num_pages' : [randint(75, 700) for _ in range(dataset_size)],\n",
    "            'book_rating' : [randint(1, 10) for _ in range(dataset_size)],\n",
    "            'publisher_id' : [randint(1, n_publishers) for _ in range(dataset_size)],\n",
    "            'publish_year' : [randint(2000, 2021) for _ in range(dataset_size)],\n",
    "            'book_price' : [randint(1, 200) for _ in range(dataset_size)],\n",
    "            'text_lang' : [randint(1,7) for _ in range(dataset_size)]\n",
    "        }\n",
    "    ).drop_duplicates()\n",
    "    return d\n",
    "  \n",
    "d = generate_data(dataset_size = 10000000)\n",
    "# d.to_csv('data.csv', index = False)"
   ]
  },
  {
   "cell_type": "markdown",
   "id": "abfbfe2c-f5e0-4ff0-b095-445c464d2fef",
   "metadata": {},
   "source": [
    "## Parallelize w/ Multiprocessing - Singular Parameter"
   ]
  },
  {
   "cell_type": "code",
   "execution_count": 3,
   "id": "7193267e-87bf-4c64-86d2-dfb25d623392",
   "metadata": {},
   "outputs": [
    {
     "data": {
      "text/html": [
       "<div>\n",
       "<style scoped>\n",
       "    .dataframe tbody tr th:only-of-type {\n",
       "        vertical-align: middle;\n",
       "    }\n",
       "\n",
       "    .dataframe tbody tr th {\n",
       "        vertical-align: top;\n",
       "    }\n",
       "\n",
       "    .dataframe thead th {\n",
       "        text-align: right;\n",
       "    }\n",
       "</style>\n",
       "<table border=\"1\" class=\"dataframe\">\n",
       "  <thead>\n",
       "    <tr style=\"text-align: right;\">\n",
       "      <th></th>\n",
       "      <th>book_id</th>\n",
       "      <th>author_id</th>\n",
       "      <th>book_genre</th>\n",
       "      <th>reader_id</th>\n",
       "      <th>num_pages</th>\n",
       "      <th>book_rating</th>\n",
       "      <th>publisher_id</th>\n",
       "      <th>publish_year</th>\n",
       "      <th>book_price</th>\n",
       "      <th>text_lang</th>\n",
       "    </tr>\n",
       "  </thead>\n",
       "  <tbody>\n",
       "    <tr>\n",
       "      <th>0</th>\n",
       "      <td>2394</td>\n",
       "      <td>249</td>\n",
       "      <td>4</td>\n",
       "      <td>3799</td>\n",
       "      <td>474</td>\n",
       "      <td>1</td>\n",
       "      <td>34</td>\n",
       "      <td>2013</td>\n",
       "      <td>122</td>\n",
       "      <td>1</td>\n",
       "    </tr>\n",
       "    <tr>\n",
       "      <th>1</th>\n",
       "      <td>1703</td>\n",
       "      <td>191</td>\n",
       "      <td>10</td>\n",
       "      <td>2355</td>\n",
       "      <td>447</td>\n",
       "      <td>2</td>\n",
       "      <td>7</td>\n",
       "      <td>2020</td>\n",
       "      <td>175</td>\n",
       "      <td>7</td>\n",
       "    </tr>\n",
       "    <tr>\n",
       "      <th>2</th>\n",
       "      <td>1600</td>\n",
       "      <td>78</td>\n",
       "      <td>2</td>\n",
       "      <td>13005</td>\n",
       "      <td>399</td>\n",
       "      <td>3</td>\n",
       "      <td>40</td>\n",
       "      <td>2013</td>\n",
       "      <td>129</td>\n",
       "      <td>5</td>\n",
       "    </tr>\n",
       "    <tr>\n",
       "      <th>3</th>\n",
       "      <td>347</td>\n",
       "      <td>380</td>\n",
       "      <td>7</td>\n",
       "      <td>1221</td>\n",
       "      <td>636</td>\n",
       "      <td>2</td>\n",
       "      <td>20</td>\n",
       "      <td>2014</td>\n",
       "      <td>45</td>\n",
       "      <td>3</td>\n",
       "    </tr>\n",
       "    <tr>\n",
       "      <th>4</th>\n",
       "      <td>1183</td>\n",
       "      <td>269</td>\n",
       "      <td>10</td>\n",
       "      <td>15059</td>\n",
       "      <td>610</td>\n",
       "      <td>2</td>\n",
       "      <td>16</td>\n",
       "      <td>2003</td>\n",
       "      <td>163</td>\n",
       "      <td>5</td>\n",
       "    </tr>\n",
       "  </tbody>\n",
       "</table>\n",
       "</div>"
      ],
      "text/plain": [
       "   book_id  author_id  book_genre  reader_id  num_pages  book_rating  \\\n",
       "0     2394        249           4       3799        474            1   \n",
       "1     1703        191          10       2355        447            2   \n",
       "2     1600         78           2      13005        399            3   \n",
       "3      347        380           7       1221        636            2   \n",
       "4     1183        269          10      15059        610            2   \n",
       "\n",
       "   publisher_id  publish_year  book_price  text_lang  \n",
       "0            34          2013         122          1  \n",
       "1             7          2020         175          7  \n",
       "2            40          2013         129          5  \n",
       "3            20          2014          45          3  \n",
       "4            16          2003         163          5  "
      ]
     },
     "execution_count": 3,
     "metadata": {},
     "output_type": "execute_result"
    }
   ],
   "source": [
    "d.head()"
   ]
  },
  {
   "cell_type": "code",
   "execution_count": 4,
   "id": "e37be189-a333-4dcd-9b19-c1bee46e722e",
   "metadata": {},
   "outputs": [],
   "source": [
    "def avg_price_per_reader(data):\n",
    "    '''\n",
    "    This function will calculate the average book price associated to each reader\n",
    "    \n",
    "    params:\n",
    "        data (DataFrame) : The dataset holding the reader history and book price\n",
    "        \n",
    "    example:\n",
    "        r_df = avg_price_per_reader(d)\n",
    "    '''\n",
    "    readers = data.reader_id.unique()\n",
    "    res = []\n",
    "    for reader in readers:\n",
    "        avg_price = np.mean(data[data['reader_id'] == reader].book_price.values)\n",
    "        r_df = {\n",
    "            'reader_id' : reader,\n",
    "            'avg_price' : avg_price\n",
    "        }\n",
    "        res.append(r_df)\n",
    "    return pd.DataFrame(res)"
   ]
  },
  {
   "cell_type": "code",
   "execution_count": 5,
   "id": "f7cc8b83-3750-4064-9e54-21dbe9c2793e",
   "metadata": {},
   "outputs": [
    {
     "name": "stdout",
     "output_type": "stream",
     "text": [
      "CPU times: user 7min 6s, sys: 5.87 s, total: 7min 12s\n",
      "Wall time: 1min 44s\n"
     ]
    }
   ],
   "source": [
    "%time r_df = avg_price_per_reader(d)"
   ]
  },
  {
   "cell_type": "code",
   "execution_count": 6,
   "id": "783247b9-b4f5-4c34-b01c-95a489d0b513",
   "metadata": {},
   "outputs": [
    {
     "name": "stdout",
     "output_type": "stream",
     "text": [
      "CPU times: user 158 ms, sys: 67.8 ms, total: 226 ms\n",
      "Wall time: 242 ms\n"
     ]
    }
   ],
   "source": [
    "%time gb_df = d.groupby('reader_id')['book_price'].mean().reset_index()"
   ]
  },
  {
   "cell_type": "code",
   "execution_count": 7,
   "id": "42d04a26-77b3-4c9e-bc9c-4fe06ec27c6e",
   "metadata": {},
   "outputs": [],
   "source": [
    "def parallel_singular_param(d, fn, n_cores):\n",
    "    '''\n",
    "    This function will run a function with a single argument in parallel depending on\n",
    "    the number of cores the user has specified. If the user specifies more cores than\n",
    "    availalbe on the computer, the function will raise a value error.\n",
    "    \n",
    "    params:\n",
    "        d (DataFrame) : The argument for the function\n",
    "        fn (Function) : The function you want to run in parallel\n",
    "        n_cores (Integer) : The number of cores you want to use\n",
    "        \n",
    "    example:\n",
    "        parallel_singular_param(\n",
    "            d,\n",
    "            avg_price_per_reader,\n",
    "            4\n",
    "        )\n",
    "    '''\n",
    "    if cpu_count() < n_cores:\n",
    "        raise ValueError(\"The number of CPU's specified exceed the amount available\")\n",
    "\n",
    "    df_list = np.array_split(d, n_cores)\n",
    "    pool = Pool(n_cores)\n",
    "    res = pool.map(fn, df_list)\n",
    "    pool.close()\n",
    "    pool.join()\n",
    "    return pd.concat(res)"
   ]
  },
  {
   "cell_type": "code",
   "execution_count": null,
   "id": "d6ff2135-0d19-4da6-935d-0d8e3fa51c7c",
   "metadata": {},
   "outputs": [],
   "source": [
    "%time para_res = parallel_singular_param(d, avg_price_per_reader, 4)"
   ]
  },
  {
   "cell_type": "markdown",
   "id": "c24689f9-badc-4e23-85f1-92205c63a0a5",
   "metadata": {},
   "source": [
    "## Parallelize w/ Multiprocessing - Multiple Parameter"
   ]
  },
  {
   "cell_type": "code",
   "execution_count": 1,
   "id": "d11bb2d4-3b0a-4c5e-9c75-2607f5778876",
   "metadata": {},
   "outputs": [],
   "source": [
    "def genre_features(d, readers, genre_col = 'book_genre', reader_col = 'reader_id'):\n",
    "    res = []\n",
    "    for reader in readers:\n",
    "        g = d[d[reader_col] == reader][genre_col].value_counts(normalize = True).to_dict()\n",
    "        df = pd.DataFrame([g], index = [reader])\n",
    "        res.append(df)\n",
    "    return pd.concat(res).fillna(0)\n",
    "\n",
    "def parallelize_section(fn, d, readers, n_cores):\n",
    "    if cpu_count() < n_cores:\n",
    "        raise ValueError(\"The number of CPU's specified exceed the amount available\")\n",
    "\n",
    "    reader_list = np.array_split(readers, n_cores)\n",
    "    pool = Pool(n_cores)\n",
    "    calc_df = pool.map(partial(fn, d), reader_list)\n",
    "    pool.close()\n",
    "    pool.join()\n",
    "    return pd.concat(calc_df)"
   ]
  },
  {
   "cell_type": "code",
   "execution_count": null,
   "id": "59ef444a-85dc-4967-90d7-fd266f272572",
   "metadata": {},
   "outputs": [],
   "source": [
    "readers = d.reader_id.unique()"
   ]
  },
  {
   "cell_type": "code",
   "execution_count": null,
   "id": "5f997cde-8b06-4940-9cb0-6fd15765a54f",
   "metadata": {},
   "outputs": [],
   "source": [
    "%time g_df = genre_features(d, readers)"
   ]
  },
  {
   "cell_type": "code",
   "execution_count": null,
   "id": "954dccc0-633d-4481-8bc7-7502109e8288",
   "metadata": {},
   "outputs": [],
   "source": [
    "%time para_g_df = parallelize_section(genre_features, d, readers, 4)"
   ]
  },
  {
   "cell_type": "markdown",
   "id": "9c504cf6-c81d-43da-9032-8b4bef061e7f",
   "metadata": {},
   "source": [
    "## Parallelize Sci-Kit Learn\n",
    "\n",
    "Parallel Jobs Available : \n",
    "- RFC  \n",
    "- KNN\n",
    "\n",
    "Parallel Jobs Unavailable : \n",
    "- GBC\n",
    "- Naieve Bayes\n",
    "\n",
    "Possible for hyperparameter tuning"
   ]
  },
  {
   "cell_type": "code",
   "execution_count": null,
   "id": "5ffe43da-9d67-4865-bc8f-8f8406fcfcf1",
   "metadata": {},
   "outputs": [],
   "source": [
    "ft = ['book_genre', 'num_pages', 'book_rating', 'publish_year', 'text_lang']\n",
    "target = ['book_price']\n",
    "\n",
    "X = d[ft].values\n",
    "y = d[target].values\n",
    "\n",
    "x_train, x_test, y_train, y_test = train_test_split(X ,y ,test_size = 0.2)"
   ]
  },
  {
   "cell_type": "code",
   "execution_count": null,
   "id": "a09aed2f-5092-4423-aaa8-c7955cd74242",
   "metadata": {},
   "outputs": [],
   "source": [
    "%%time\n",
    "rfc = RandomForestClassifier(\n",
    "    max_depth=2, random_state=0, n_jobs = 4\n",
    ")\n",
    "rfc.fit(x_train, y_train)"
   ]
  },
  {
   "cell_type": "code",
   "execution_count": null,
   "id": "2ca6744d-d3c4-46f0-922d-446734d4d678",
   "metadata": {},
   "outputs": [],
   "source": [
    "%%time\n",
    "gbc = GradientBoostingClassifier(\n",
    "    max_depth=2, random_state=0\n",
    ")\n",
    "gbc.fit(x_train, y_train)"
   ]
  },
  {
   "cell_type": "markdown",
   "id": "4ee8bf71-d2b4-4055-8f14-1bb0bf38598e",
   "metadata": {},
   "source": [
    "## Concluding Remarks"
   ]
  },
  {
   "cell_type": "code",
   "execution_count": null,
   "id": "2e164f8b-ab2e-4879-8b04-8d8b0bfb2016",
   "metadata": {},
   "outputs": [],
   "source": []
  },
  {
   "cell_type": "markdown",
   "id": "39c59ebb-6872-4359-ad02-2ed989a6ba59",
   "metadata": {},
   "source": [
    "---"
   ]
  }
 ],
 "metadata": {
  "kernelspec": {
   "display_name": "Python 3",
   "language": "python",
   "name": "python3"
  },
  "language_info": {
   "codemirror_mode": {
    "name": "ipython",
    "version": 3
   },
   "file_extension": ".py",
   "mimetype": "text/x-python",
   "name": "python",
   "nbconvert_exporter": "python",
   "pygments_lexer": "ipython3",
   "version": "3.8.8"
  }
 },
 "nbformat": 4,
 "nbformat_minor": 5
}
