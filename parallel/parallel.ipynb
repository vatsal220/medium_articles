{
 "cells": [
  {
   "cell_type": "markdown",
   "id": "016ee0c8-a7fc-4072-bc30-8765dd23620c",
   "metadata": {},
   "source": [
    "# Parallel"
   ]
  },
  {
   "cell_type": "code",
   "execution_count": 1,
   "id": "8cc64328-b914-4baa-a2cd-1c91ceb3be27",
   "metadata": {},
   "outputs": [],
   "source": [
    "import pandas as pd\n",
    "import numpy as np\n",
    "import random\n",
    "import multiprocessing as mp"
   ]
  },
  {
   "cell_type": "code",
   "execution_count": 2,
   "id": "7eda99d0-54c3-489e-8f8d-0f657dec5a02",
   "metadata": {},
   "outputs": [],
   "source": [
    "# constants"
   ]
  },
  {
   "cell_type": "markdown",
   "id": "2115fe36-1a8c-4dca-8a44-4c4af739a93c",
   "metadata": {},
   "source": [
    "## Generate Data"
   ]
  },
  {
   "cell_type": "code",
   "execution_count": null,
   "id": "2b8a96ff-c32a-46d1-824e-4776b05659e4",
   "metadata": {},
   "outputs": [],
   "source": []
  },
  {
   "cell_type": "code",
   "execution_count": null,
   "id": "1a969a4e-1d63-460d-bc0e-837c979ec69e",
   "metadata": {},
   "outputs": [],
   "source": []
  },
  {
   "cell_type": "markdown",
   "id": "abfbfe2c-f5e0-4ff0-b095-445c464d2fef",
   "metadata": {},
   "source": [
    "## Parallelize w/ Multiprocessing - Singular Parameter"
   ]
  },
  {
   "cell_type": "code",
   "execution_count": null,
   "id": "58eb753f-e6c3-4ee7-b075-a7acc6136960",
   "metadata": {},
   "outputs": [],
   "source": []
  },
  {
   "cell_type": "code",
   "execution_count": null,
   "id": "b4995efd-2b77-4a0b-8a52-1c0844208ed3",
   "metadata": {},
   "outputs": [],
   "source": []
  },
  {
   "cell_type": "markdown",
   "id": "c24689f9-badc-4e23-85f1-92205c63a0a5",
   "metadata": {},
   "source": [
    "## Parallelize w/ Multiprocessing - Multiple Parameter"
   ]
  },
  {
   "cell_type": "code",
   "execution_count": null,
   "id": "d11bb2d4-3b0a-4c5e-9c75-2607f5778876",
   "metadata": {},
   "outputs": [],
   "source": []
  },
  {
   "cell_type": "code",
   "execution_count": null,
   "id": "954dccc0-633d-4481-8bc7-7502109e8288",
   "metadata": {},
   "outputs": [],
   "source": []
  },
  {
   "cell_type": "markdown",
   "id": "9424a43e-1af1-48fd-b8e8-23d942b1b65f",
   "metadata": {},
   "source": [
    "## Parallelize w/ Swifter"
   ]
  },
  {
   "cell_type": "code",
   "execution_count": null,
   "id": "4740db88-620b-4d11-b489-7457e079fdeb",
   "metadata": {},
   "outputs": [],
   "source": []
  },
  {
   "cell_type": "code",
   "execution_count": null,
   "id": "dd54fda5-c730-4241-9445-236c1248fed7",
   "metadata": {},
   "outputs": [],
   "source": []
  },
  {
   "cell_type": "markdown",
   "id": "9c504cf6-c81d-43da-9032-8b4bef061e7f",
   "metadata": {},
   "source": [
    "## Parallelize Sci-Kit Learn w/ Ray"
   ]
  },
  {
   "cell_type": "code",
   "execution_count": null,
   "id": "a09aed2f-5092-4423-aaa8-c7955cd74242",
   "metadata": {},
   "outputs": [],
   "source": []
  },
  {
   "cell_type": "code",
   "execution_count": null,
   "id": "2ca6744d-d3c4-46f0-922d-446734d4d678",
   "metadata": {},
   "outputs": [],
   "source": []
  },
  {
   "cell_type": "markdown",
   "id": "4ee8bf71-d2b4-4055-8f14-1bb0bf38598e",
   "metadata": {},
   "source": [
    "## Concluding Remarks"
   ]
  },
  {
   "cell_type": "code",
   "execution_count": null,
   "id": "2e164f8b-ab2e-4879-8b04-8d8b0bfb2016",
   "metadata": {},
   "outputs": [],
   "source": []
  },
  {
   "cell_type": "markdown",
   "id": "39c59ebb-6872-4359-ad02-2ed989a6ba59",
   "metadata": {},
   "source": [
    "---"
   ]
  }
 ],
 "metadata": {
  "kernelspec": {
   "display_name": "Python 3",
   "language": "python",
   "name": "python3"
  },
  "language_info": {
   "codemirror_mode": {
    "name": "ipython",
    "version": 3
   },
   "file_extension": ".py",
   "mimetype": "text/x-python",
   "name": "python",
   "nbconvert_exporter": "python",
   "pygments_lexer": "ipython3",
   "version": "3.8.8"
  }
 },
 "nbformat": 4,
 "nbformat_minor": 5
}
