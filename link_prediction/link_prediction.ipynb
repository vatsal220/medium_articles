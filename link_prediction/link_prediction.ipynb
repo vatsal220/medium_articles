{
 "cells": [
  {
   "cell_type": "markdown",
   "id": "98f17e3f-fcce-4aec-93f9-ad76897323cf",
   "metadata": {},
   "source": [
    "# Link Prediction w/ n2v"
   ]
  },
  {
   "cell_type": "code",
   "execution_count": 1,
   "id": "6c26a7c0-135c-40c7-84af-16260c96793a",
   "metadata": {},
   "outputs": [],
   "source": [
    "# !pip install arxiv"
   ]
  },
  {
   "cell_type": "markdown",
   "id": "77beb5bb-e6db-4d92-88fb-2ee138c24836",
   "metadata": {},
   "source": [
    "You can install the arxiv package in Python with the following command:  \n",
    "`pip install arxiv`  \n",
    "or follow the instructions here : https://pypi.org/project/arxiv/  "
   ]
  },
  {
   "cell_type": "markdown",
   "id": "c53441e5-efb1-4add-9c77-97f08a30f6de",
   "metadata": {},
   "source": [
    "## What is Link Prediction?\n",
    "\n",
    "\n",
    "\n",
    "## Cold Start Problem in Recommendation Systems"
   ]
  },
  {
   "cell_type": "code",
   "execution_count": 2,
   "id": "fe6b94e0-f903-422f-baab-76010e772026",
   "metadata": {},
   "outputs": [],
   "source": [
    "import networkx as nx\n",
    "import pandas as pd\n",
    "import numpy as np\n",
    "import arxiv\n",
    "\n",
    "from sklearn.metrics.pairwise import cosine_similarity\n",
    "from node2vec import Node2Vec as n2v\n",
    "from node2vec.edges import HadamardEmbedder"
   ]
  },
  {
   "cell_type": "code",
   "execution_count": 3,
   "id": "5116e841-87c8-4e79-9c1f-6b740c7a9ef9",
   "metadata": {},
   "outputs": [],
   "source": [
    "# constants\n",
    "queries = [\n",
    "    'automl', 'machinelearning', 'data', 'phyiscs','mathematics', 'recommendation system', 'nlp', 'neural networks'\n",
    "]"
   ]
  },
  {
   "cell_type": "markdown",
   "id": "b445bcd4-ecdd-4b72-84ff-e36afc5e1a2c",
   "metadata": {},
   "source": [
    "# Fetch Data"
   ]
  },
  {
   "cell_type": "markdown",
   "id": "fb4e4258-9565-41b0-a01a-4ef1cf783c01",
   "metadata": {},
   "source": [
    "We want to hit th Arxiv API to gather some information about the latest research papers based on the queries we've identified above. This will allow us to then create a network from this research paper data and then we can try to predict links on that network. For the purposes of this article, I will search for a maximum of 1000 results per query, but you don't have to set yourself to the same constraints. The Arxiv API allows users to hit up to 300,000 results per query. The function outlined below will generate a CSV fetching the following information :   \n",
    "```'title', 'date', 'article_id', 'url', 'main_topic', 'all_topics', 'authors', 'year'```   \n",
    "You are able to fetch more information like the `links, summary, article` but I decided not to since those features won't really be used for the purposes of this analysis and tutorial.\n",
    "\n",
    "For reference to the Arxiv API, you can find their detailed documentation here : https://arxiv.org/help/api/user-manual"
   ]
  },
  {
   "cell_type": "code",
   "execution_count": 4,
   "id": "14298db4-2590-4992-a49c-d6c93d962b44",
   "metadata": {},
   "outputs": [],
   "source": [
    "def search_arxiv(queries, max_results = 1000):\n",
    "    '''\n",
    "    This function will search arxiv associated to a set of queries and store\n",
    "    the latest 10000 (max_results) associated to that search.\n",
    "    \n",
    "    params:\n",
    "        queries (List -> Str) : A list of strings containing keywords you want\n",
    "                                to search on Arxiv\n",
    "        max_results (Int) : The maximum number of results you want to see associated\n",
    "                            to your search. Default value is 1000, capped at 300000\n",
    "                            \n",
    "    returns:\n",
    "        This function will return a DataFrame holding the following columns associated\n",
    "        to the queries the user has passed. \n",
    "            `title`, `date`, `article_id`, `url`, `main_topic`, `all_topics`\n",
    "    \n",
    "    example:\n",
    "        research_df = search_arxiv(\n",
    "            queries = ['automl', 'recommender system', 'nlp', 'data science'],\n",
    "            max_results = 10000\n",
    "        )\n",
    "    '''\n",
    "    d = []\n",
    "    searches = []\n",
    "    # hitting the API\n",
    "    for query in queries:\n",
    "        search = arxiv.Search(\n",
    "          query = query,\n",
    "          max_results = max_results,\n",
    "          sort_by = arxiv.SortCriterion.SubmittedDate,\n",
    "          sort_order = arxiv.SortOrder.Descending\n",
    "        )\n",
    "        searches.append(search)\n",
    "    \n",
    "    # Converting search result into df\n",
    "    for search in searches:\n",
    "        for res in search.results():\n",
    "            data = {\n",
    "                'title' : res.title,\n",
    "                'date' : res.published,\n",
    "                'article_id' : res.entry_id,\n",
    "                'url' : res.pdf_url,\n",
    "                'main_topic' : res.primary_category,\n",
    "                'all_topics' : res.categories,\n",
    "                'authors' : res.authors\n",
    "            }\n",
    "            d.append(data)\n",
    "        \n",
    "    d = pd.DataFrame(d)\n",
    "    d['year'] = pd.DatetimeIndex(d['date']).year\n",
    "    \n",
    "    # change article id from url to integer\n",
    "    unique_article_ids = d.article_id.unique()\n",
    "    article_mapping = {art:idx for idx,art in enumerate(unique_article_ids)}\n",
    "    d['article_id'] = d['article_id'].map(article_mapping)\n",
    "    return d"
   ]
  },
  {
   "cell_type": "code",
   "execution_count": 5,
   "id": "96f77985-1287-4641-bd45-9dbd873c0da4",
   "metadata": {},
   "outputs": [
    {
     "name": "stdout",
     "output_type": "stream",
     "text": [
      "CPU times: user 4.25 s, sys: 294 ms, total: 4.55 s\n",
      "Wall time: 1min 42s\n"
     ]
    },
    {
     "data": {
      "text/plain": [
       "(2832, 8)"
      ]
     },
     "execution_count": 5,
     "metadata": {},
     "output_type": "execute_result"
    }
   ],
   "source": [
    "%%time\n",
    "research_df = search_arxiv(\n",
    "    queries = queries,\n",
    "    max_results = 500\n",
    ")\n",
    "research_df.shape"
   ]
  },
  {
   "cell_type": "markdown",
   "id": "004e278a-23de-4671-8bd4-853636941495",
   "metadata": {},
   "source": [
    "If you're having trouble querying the data, for reproducibility purposes, the CSV I used for the analysis conducted in this article was uploaded to my GitHub which you can find here. https://github.com/vatsal220/medium_articles/blob/main/link_prediction/data/arxiv_data.csv"
   ]
  },
  {
   "cell_type": "markdown",
   "id": "555b32ed-3c68-412a-bf34-798292d47684",
   "metadata": {},
   "source": [
    "## Generate Network"
   ]
  },
  {
   "cell_type": "markdown",
   "id": "437b2d6f-60f9-4568-afc2-50cb32154cff",
   "metadata": {},
   "source": [
    "Now that we've fetched the data using the Arxiv API, we can generate a network. The network will have the following structure, nodes will be the article_ids and the edges will be all topics connecting a pair of articles. For example, article_id 1 with the following topics `astro-physics, and stats` can be connected to article_id 10 with the topic `stats` and article_id 7 with the topics `astro-physics, math`. This will be a multi-edge network where each edge will hold a weight of 1."
   ]
  },
  {
   "cell_type": "code",
   "execution_count": 8,
   "id": "67ef8e9a-0c80-4d4b-a56b-7e50263abacc",
   "metadata": {},
   "outputs": [],
   "source": [
    "def generate_network(df, node_col = 'article_id', edge_col = 'main_topic'):\n",
    "    '''\n",
    "    This function will generate a article to article network given an input DataFrame.\n",
    "    It will do so by creating an edge_dictionary where each key is going to be a node\n",
    "    referenced by unique values in node_col and the values will be a list of other nodes\n",
    "    connected to the key through the edge_col.\n",
    "    \n",
    "    params:\n",
    "        df (DataFrame) : The dataset which holds the node and edge columns\n",
    "        node_col (String) : The column name associated to the nodes of the network\n",
    "        edge_col (String) : The column name associated to the edges of the network\n",
    "        \n",
    "    returns:\n",
    "        A networkx graph corresponding to the input dataset\n",
    "        \n",
    "    example:\n",
    "        generate_network(\n",
    "            research_df,\n",
    "            node_col = 'article_id',\n",
    "            edge_col = 'main_topic'\n",
    "        )\n",
    "    '''\n",
    "    edge_dct = {}\n",
    "    for i,g in df.groupby(node_col):\n",
    "        topics = g[edge_col].unique()\n",
    "        edge_df = df[(df[node_col] != i) & (df[edge_col].isin(topics))]\n",
    "        edges = list(edge_df[node_col].unique())\n",
    "        edge_dct[i] = edges\n",
    "    \n",
    "    # create nx network\n",
    "    g = nx.Graph(edge_dct, create_using = nx.MultiGraph)\n",
    "    return g"
   ]
  },
  {
   "cell_type": "code",
   "execution_count": 6,
   "id": "fa528e7e-88df-487a-b364-f9b04573d149",
   "metadata": {},
   "outputs": [],
   "source": [
    "all_tp = research_df.explode('all_topics').copy()"
   ]
  },
  {
   "cell_type": "code",
   "execution_count": 9,
   "id": "b98f8dc1-3bf7-45ce-b2ad-f69c1e08b8e2",
   "metadata": {},
   "outputs": [
    {
     "name": "stdout",
     "output_type": "stream",
     "text": [
      "CPU times: user 3.27 s, sys: 126 ms, total: 3.4 s\n",
      "Wall time: 3.6 s\n"
     ]
    }
   ],
   "source": [
    "%%time\n",
    "tp_nx = generate_network(\n",
    "    all_tp, \n",
    "    node_col = 'article_id', \n",
    "    edge_col = 'all_topics'\n",
    ")"
   ]
  },
  {
   "cell_type": "code",
   "execution_count": 10,
   "id": "5afa0c52-38c6-4da4-8ac9-358df0aefb7f",
   "metadata": {},
   "outputs": [
    {
     "name": "stdout",
     "output_type": "stream",
     "text": [
      "Name: \n",
      "Type: Graph\n",
      "Number of nodes: 2431\n",
      "Number of edges: 495309\n",
      "Average degree: 407.4940\n"
     ]
    }
   ],
   "source": [
    "print(nx.info(tp_nx))"
   ]
  },
  {
   "cell_type": "code",
   "execution_count": 11,
   "id": "1b646d2a-1d5e-4837-870b-7d99153d2728",
   "metadata": {},
   "outputs": [
    {
     "name": "stdout",
     "output_type": "stream",
     "text": [
      "CPU times: user 1.9 s, sys: 49.2 ms, total: 1.95 s\n",
      "Wall time: 1.98 s\n"
     ]
    }
   ],
   "source": [
    "%%time\n",
    "research_nx = generate_network(\n",
    "    research_df, \n",
    "    node_col = 'article_id', \n",
    "    edge_col = 'main_topic'\n",
    ")"
   ]
  },
  {
   "cell_type": "code",
   "execution_count": 12,
   "id": "e45a5537-68da-4a97-ae74-b0ccdbcc84be",
   "metadata": {},
   "outputs": [
    {
     "name": "stdout",
     "output_type": "stream",
     "text": [
      "Name: \n",
      "Type: Graph\n",
      "Number of nodes: 2431\n",
      "Number of edges: 193322\n",
      "Average degree: 159.0473\n"
     ]
    }
   ],
   "source": [
    "print(nx.info(research_nx))"
   ]
  },
  {
   "cell_type": "markdown",
   "id": "66415397-621f-4ae9-9e2c-388359e33478",
   "metadata": {},
   "source": [
    "## Node2Vec"
   ]
  },
  {
   "cell_type": "markdown",
   "id": "e97bc9ab-f39b-4ef8-833c-6cbe7e1e65ef",
   "metadata": {},
   "source": [
    "This component will cover running node2vec on the graph generated above and creating the associated node embeddings for that network. These embeddings will play a crucial role coming up as they're the main features necessary for building a link prediction model."
   ]
  },
  {
   "cell_type": "code",
   "execution_count": 13,
   "id": "066bf93a-ad52-491b-adb1-79fe6481ab9a",
   "metadata": {},
   "outputs": [
    {
     "data": {
      "application/vnd.jupyter.widget-view+json": {
       "model_id": "bd2549b10bdc4a28b499472ec82c5a64",
       "version_major": 2,
       "version_minor": 0
      },
      "text/plain": [
       "Computing transition probabilities:   0%|          | 0/2431 [00:00<?, ?it/s]"
      ]
     },
     "metadata": {},
     "output_type": "display_data"
    },
    {
     "name": "stderr",
     "output_type": "stream",
     "text": [
      "Generating walks (CPU: 1): 100%|██████████| 10/10 [01:02<00:00,  6.27s/it]"
     ]
    },
    {
     "name": "stdout",
     "output_type": "stream",
     "text": [
      "CPU times: user 5min 20s, sys: 4.74 s, total: 5min 24s\n",
      "Wall time: 5min 30s\n"
     ]
    },
    {
     "name": "stderr",
     "output_type": "stream",
     "text": [
      "\n"
     ]
    }
   ],
   "source": [
    "%time g_emb = n2v(research_nx, dimensions=16)"
   ]
  },
  {
   "cell_type": "code",
   "execution_count": 14,
   "id": "afca8a21-5aa8-493a-ba57-e83695637ff5",
   "metadata": {},
   "outputs": [],
   "source": [
    "WINDOW = 1 # Node2Vec fit window\n",
    "MIN_COUNT = 1 # Node2Vec min. count\n",
    "BATCH_WORDS = 4 # Node2Vec batch words"
   ]
  },
  {
   "cell_type": "code",
   "execution_count": 15,
   "id": "f5ce72cd-db36-430f-b65e-f7b9b9604120",
   "metadata": {},
   "outputs": [],
   "source": [
    "mdl = g_emb.fit(\n",
    "    window=WINDOW,\n",
    "    min_count=MIN_COUNT,\n",
    "    batch_words=BATCH_WORDS\n",
    ")"
   ]
  },
  {
   "cell_type": "code",
   "execution_count": 16,
   "id": "eda734d7-6b08-4a76-aca9-6a54948c1e70",
   "metadata": {},
   "outputs": [
    {
     "name": "stdout",
     "output_type": "stream",
     "text": [
      "('1652', 0.9999657869338989)\n",
      "('354', 0.9999024868011475)\n",
      "('1609', 0.9998960494995117)\n",
      "('2264', 0.999876856803894)\n",
      "('590', 0.9998748302459717)\n",
      "('2315', 0.999870240688324)\n",
      "('1577', 0.9998471140861511)\n",
      "('758', 0.9998118877410889)\n",
      "('1657', 0.9997775554656982)\n",
      "('447', 0.9995424747467041)\n"
     ]
    }
   ],
   "source": [
    "input_node = '1'\n",
    "for s in mdl.wv.most_similar(input_node, topn = 10):\n",
    "    print(s)"
   ]
  },
  {
   "cell_type": "markdown",
   "id": "997a904f-fc1c-4a60-972c-94f39143f64d",
   "metadata": {},
   "source": [
    "## Generate Embeddings DataFrame"
   ]
  },
  {
   "cell_type": "markdown",
   "id": "c27f5562-4eb0-48f5-91a0-877edbe2c8ad",
   "metadata": {},
   "source": [
    "HammardEmbedder is a built in function in the Node2Vec module which will map each edge in the graph to a 2 dimensional vector."
   ]
  },
  {
   "cell_type": "code",
   "execution_count": null,
   "id": "230a2653-a814-4915-b217-904e31cf024d",
   "metadata": {},
   "outputs": [],
   "source": [
    "edges_embs = HadamardEmbedder(keyed_vectors=mdl.wv)"
   ]
  },
  {
   "cell_type": "code",
   "execution_count": null,
   "id": "84a284bc-6b3d-45cf-a6d7-e5a638706acb",
   "metadata": {},
   "outputs": [],
   "source": [
    "x=[1,2]\n",
    "edges_embs[str(x[0]),str(x[1])]"
   ]
  },
  {
   "cell_type": "code",
   "execution_count": 18,
   "id": "08f66aff-fe52-4ba1-85e4-32d9ec1cb5aa",
   "metadata": {},
   "outputs": [],
   "source": [
    "emb_df = (\n",
    "    pd.DataFrame(\n",
    "        [mdl.wv.get_vector(str(n)) for n in research_nx.nodes()],\n",
    "        index = research_nx.nodes\n",
    "    )\n",
    ")"
   ]
  },
  {
   "cell_type": "code",
   "execution_count": 19,
   "id": "ca946a47-125a-41a5-9a36-bfd1543d6ccb",
   "metadata": {},
   "outputs": [
    {
     "data": {
      "text/html": [
       "<div>\n",
       "<style scoped>\n",
       "    .dataframe tbody tr th:only-of-type {\n",
       "        vertical-align: middle;\n",
       "    }\n",
       "\n",
       "    .dataframe tbody tr th {\n",
       "        vertical-align: top;\n",
       "    }\n",
       "\n",
       "    .dataframe thead th {\n",
       "        text-align: right;\n",
       "    }\n",
       "</style>\n",
       "<table border=\"1\" class=\"dataframe\">\n",
       "  <thead>\n",
       "    <tr style=\"text-align: right;\">\n",
       "      <th></th>\n",
       "      <th>0</th>\n",
       "      <th>1</th>\n",
       "      <th>2</th>\n",
       "      <th>3</th>\n",
       "      <th>4</th>\n",
       "      <th>5</th>\n",
       "      <th>6</th>\n",
       "      <th>7</th>\n",
       "    </tr>\n",
       "  </thead>\n",
       "  <tbody>\n",
       "    <tr>\n",
       "      <th>0</th>\n",
       "      <td>-0.197163</td>\n",
       "      <td>-0.185355</td>\n",
       "      <td>0.449158</td>\n",
       "      <td>1.660604</td>\n",
       "      <td>0.123848</td>\n",
       "      <td>0.277008</td>\n",
       "      <td>0.658673</td>\n",
       "      <td>2.174125</td>\n",
       "    </tr>\n",
       "    <tr>\n",
       "      <th>1</th>\n",
       "      <td>-1.835545</td>\n",
       "      <td>2.524659</td>\n",
       "      <td>0.742889</td>\n",
       "      <td>1.825645</td>\n",
       "      <td>1.370135</td>\n",
       "      <td>0.417711</td>\n",
       "      <td>4.615085</td>\n",
       "      <td>-0.837467</td>\n",
       "    </tr>\n",
       "    <tr>\n",
       "      <th>2</th>\n",
       "      <td>-0.225974</td>\n",
       "      <td>-0.183991</td>\n",
       "      <td>0.452808</td>\n",
       "      <td>1.666275</td>\n",
       "      <td>0.125010</td>\n",
       "      <td>0.317920</td>\n",
       "      <td>0.673427</td>\n",
       "      <td>2.156657</td>\n",
       "    </tr>\n",
       "    <tr>\n",
       "      <th>3</th>\n",
       "      <td>-0.204309</td>\n",
       "      <td>-0.118119</td>\n",
       "      <td>0.447155</td>\n",
       "      <td>1.650684</td>\n",
       "      <td>0.122144</td>\n",
       "      <td>0.361047</td>\n",
       "      <td>0.647449</td>\n",
       "      <td>2.160507</td>\n",
       "    </tr>\n",
       "    <tr>\n",
       "      <th>4</th>\n",
       "      <td>-0.196403</td>\n",
       "      <td>-0.098491</td>\n",
       "      <td>0.428654</td>\n",
       "      <td>1.656955</td>\n",
       "      <td>0.115765</td>\n",
       "      <td>0.342419</td>\n",
       "      <td>0.678268</td>\n",
       "      <td>2.221273</td>\n",
       "    </tr>\n",
       "  </tbody>\n",
       "</table>\n",
       "</div>"
      ],
      "text/plain": [
       "          0         1         2         3         4         5         6  \\\n",
       "0 -0.197163 -0.185355  0.449158  1.660604  0.123848  0.277008  0.658673   \n",
       "1 -1.835545  2.524659  0.742889  1.825645  1.370135  0.417711  4.615085   \n",
       "2 -0.225974 -0.183991  0.452808  1.666275  0.125010  0.317920  0.673427   \n",
       "3 -0.204309 -0.118119  0.447155  1.650684  0.122144  0.361047  0.647449   \n",
       "4 -0.196403 -0.098491  0.428654  1.656955  0.115765  0.342419  0.678268   \n",
       "\n",
       "          7  \n",
       "0  2.174125  \n",
       "1 -0.837467  \n",
       "2  2.156657  \n",
       "3  2.160507  \n",
       "4  2.221273  "
      ]
     },
     "execution_count": 19,
     "metadata": {},
     "output_type": "execute_result"
    }
   ],
   "source": [
    "emb_df.head()"
   ]
  },
  {
   "cell_type": "markdown",
   "id": "67cd6bb7-c281-47a8-a62c-3970845ef989",
   "metadata": {},
   "source": [
    "## Recommendations w/ Distance Measures"
   ]
  },
  {
   "cell_type": "markdown",
   "id": "3c0017cc-caf6-40b2-ad3c-3aaca18d4994",
   "metadata": {},
   "source": [
    "Now that we have a embedding vector representing each node in the network, we can then use distance measures like cosine similarity, euclidean distance, manhattan distance, etc. to measure the amount of distance between nodes. The assumption that we're making by using these distance measures is that nodes in close proximity with each other should also have an edge connecting each other. This is a good assumption to make as node2vec tries to preserve the initial structure of the original input graph. Now we can essentially write out code to measure similarity levels between two vectors using cosine similarity (or a different distance measure) and identify pairs of nodes which don't currently have an edge between them but do have a large similarity should create an edge between them. This interpretation can be different for multi / weighted / directed graphs. Pick and use a similarity measure appropriate to the network and problem you're trying to solve. Also be aware that different measures have different interperations, for this problem you want to pick maximal cosine similarity scores whereas if you were to use something like euclidean distance, you would want to pick the minimal distance between two vectors.\n",
    "\n",
    "On a side note, I do want to mention that the curse of dimensionality is rampant when solving these types of problems. It's especially problematic when using euclidean distance in particular to measure the distance between vectors in higher dimensions. The term higher dimensions is broad and open to interpretation, the threshold for a dimension to be \"high\" is not strictly defined and varies from problem to problem. Without going to deep into the mathematics behind things, euclidean distance is not a good measure to use for sparse or high dimensional vectors. You can reference this post on stack exchange which outlines the mathematical reasoning as to why this is the case. \n",
    "\n",
    "- https://stats.stackexchange.com/questions/29627/euclidean-distance-is-usually-not-good-for-sparse-data-and-more-general-case\n",
    "- https://stats.stackexchange.com/questions/99171/why-is-euclidean-distance-not-a-good-metric-in-high-dimensions\n",
    "\n",
    "For more on the curse of dimensionality, refer to this [paper](https://homes.cs.washington.edu/~pedrod/papers/cacm12.pdf) by the Computer Science department from the University of Washington."
   ]
  },
  {
   "cell_type": "code",
   "execution_count": 37,
   "id": "edf712d2-f670-4d47-b60a-3854fe138bb3",
   "metadata": {},
   "outputs": [],
   "source": [
    "def predict_links(G, df, article_id, N):\n",
    "    '''\n",
    "    This function will predict the top N links a node (article_id) should be connected with\n",
    "    which it is not already connected with in G.\n",
    "    \n",
    "    params:\n",
    "        G (Netowrkx Graph) : The network used to create the embeddings\n",
    "        df (DataFrame) : The dataframe which has embeddings associated to each node\n",
    "        article_id (Integer) : The article you're interested \n",
    "        N (Integer) : The number of recommended links you want to return\n",
    "        \n",
    "    returns:\n",
    "        This function will return a list of nodes the input node should be connected with.\n",
    "    '''\n",
    "    \n",
    "    # separate target article with all others\n",
    "    all_nodes = G.nodes()\n",
    "    other_nodes = [n for n in all_nodes if n not in list(G.adj[article_id]) + [article_id]]\n",
    "    \n",
    "    article = df[df.index == article_id]\n",
    "    other_articles = df[df.index.isin(other_nodes)]\n",
    "    \n",
    "    # get similarity of current reader and all other readers\n",
    "    sim = cosine_similarity(article, other_articles)[0].tolist()\n",
    "    idx = other_articles.index.tolist()\n",
    "    \n",
    "    # create a similarity dictionary for this user w.r.t all other users\n",
    "    idx_sim = dict(zip(idx, sim))\n",
    "    idx_sim = sorted(idx_sim.items(), key=lambda x: x[1], reverse=True)\n",
    "    \n",
    "    similar_articles = idx_sim[:N]\n",
    "    articles = [art[0] for art in similar_articles]\n",
    "    return articles"
   ]
  },
  {
   "cell_type": "code",
   "execution_count": 38,
   "id": "d620ab80-41f1-438c-9f10-f9a5bdcaf590",
   "metadata": {},
   "outputs": [
    {
     "data": {
      "text/plain": [
       "[1627, 1421, 850, 867, 910, 998, 857, 833, 912, 1054]"
      ]
     },
     "execution_count": 38,
     "metadata": {},
     "output_type": "execute_result"
    }
   ],
   "source": [
    "predict_links(G = research_nx, df = emb_df, article_id = 1, N = 10)"
   ]
  },
  {
   "cell_type": "markdown",
   "id": "ab008511-b524-4207-9177-f4cca968fdc6",
   "metadata": {},
   "source": [
    "## Modelling Based Recommendations"
   ]
  },
  {
   "cell_type": "code",
   "execution_count": null,
   "id": "c722fda8-c32a-4a0c-997a-4d3dd359f108",
   "metadata": {},
   "outputs": [],
   "source": []
  },
  {
   "cell_type": "markdown",
   "id": "45fe205e-cc61-4f91-acce-449792808bb0",
   "metadata": {},
   "source": [
    "## Train Model"
   ]
  },
  {
   "cell_type": "code",
   "execution_count": null,
   "id": "d16a8551-a343-4807-bab1-393e1293fbd6",
   "metadata": {},
   "outputs": [],
   "source": [
    "train_embeddings = [edges_embs[str(x[0]),str(x[1])] for x in samples_train]"
   ]
  },
  {
   "cell_type": "code",
   "execution_count": null,
   "id": "2309d219-ecc9-46b0-9fcb-03d9a7afb64d",
   "metadata": {},
   "outputs": [],
   "source": []
  },
  {
   "cell_type": "markdown",
   "id": "880d1153-1e48-499e-9dc0-122c3425a705",
   "metadata": {},
   "source": [
    "## Model Performance"
   ]
  },
  {
   "cell_type": "code",
   "execution_count": null,
   "id": "67a09428-6855-4737-8041-4caead755055",
   "metadata": {},
   "outputs": [],
   "source": []
  },
  {
   "cell_type": "code",
   "execution_count": null,
   "id": "1ae8e831-6341-49d6-883a-7b4761f2a789",
   "metadata": {},
   "outputs": [],
   "source": []
  },
  {
   "cell_type": "markdown",
   "id": "463d29d4-49ad-43c9-b394-cc3088009dbe",
   "metadata": {},
   "source": [
    "## Generate Predictions"
   ]
  },
  {
   "cell_type": "code",
   "execution_count": null,
   "id": "b3d929e1-d590-4ed7-b835-b21e60d9008c",
   "metadata": {},
   "outputs": [],
   "source": []
  },
  {
   "cell_type": "code",
   "execution_count": null,
   "id": "a73e4de5-9e5e-4ef8-8cb8-0adb6fd95cd1",
   "metadata": {},
   "outputs": [],
   "source": []
  },
  {
   "cell_type": "markdown",
   "id": "67b67e10-927d-4fc7-bc3b-0ef3115f7c19",
   "metadata": {},
   "source": [
    "---"
   ]
  },
  {
   "cell_type": "code",
   "execution_count": 48,
   "id": "3b89e85f-bee0-41fc-97f4-5aa565d84479",
   "metadata": {},
   "outputs": [],
   "source": [
    "g = nx.convert_matrix.from_numpy_array(arr, create_using = nx.DiGraph)"
   ]
  },
  {
   "cell_type": "code",
   "execution_count": 49,
   "id": "856c484a-2cd4-4628-a724-511b2b197771",
   "metadata": {},
   "outputs": [
    {
     "name": "stdout",
     "output_type": "stream",
     "text": [
      "Name: \n",
      "Type: DiGraph\n",
      "Number of nodes: 2\n",
      "Number of edges: 4\n",
      "Average in degree:   2.0000\n",
      "Average out degree:   2.0000\n"
     ]
    }
   ],
   "source": [
    "print(nx.info(g))"
   ]
  },
  {
   "cell_type": "code",
   "execution_count": 50,
   "id": "c5c51e77-9461-4810-959c-70601813d687",
   "metadata": {},
   "outputs": [
    {
     "data": {
      "image/png": "[encoded data removed]",
      "text/plain": [
       "<Figure size 432x288 with 1 Axes>"
      ]
     },
     "metadata": {},
     "output_type": "display_data"
    }
   ],
   "source": [
    "nx.draw(g, with_labels = True)"
   ]
  },
  {
   "cell_type": "code",
   "execution_count": 51,
   "id": "78010569-6bb7-4122-8d19-0a6764513bdc",
   "metadata": {},
   "outputs": [],
   "source": [
    "mat1 = np.array([[0,2,3,0], [2,0,1,1], [3,1,0,0], [0,1,0,0]])\n",
    "mat2 = np.array([[0,4,5,3], [4,0,1,2], [5,1,0,0], [3,2,0,0]])"
   ]
  },
  {
   "cell_type": "code",
   "execution_count": 52,
   "id": "22e22ca1-cf2b-4e2c-969f-e41b3af14c11",
   "metadata": {},
   "outputs": [
    {
     "data": {
      "text/plain": [
       "array([[23,  3,  2,  4],\n",
       "       [ 8, 11, 10,  6],\n",
       "       [ 4, 12, 16, 11],\n",
       "       [ 4,  0,  1,  2]])"
      ]
     },
     "execution_count": 52,
     "metadata": {},
     "output_type": "execute_result"
    }
   ],
   "source": [
    "mat1@mat2"
   ]
  },
  {
   "cell_type": "code",
   "execution_count": 53,
   "id": "8f5caedb-ee93-4ed3-a2ec-62238443cc06",
   "metadata": {},
   "outputs": [
    {
     "data": {
      "text/plain": [
       "array([[23,  3,  2,  4],\n",
       "       [ 8, 11, 10,  6],\n",
       "       [ 4, 12, 16, 11],\n",
       "       [ 4,  0,  1,  2]])"
      ]
     },
     "execution_count": 53,
     "metadata": {},
     "output_type": "execute_result"
    }
   ],
   "source": [
    "mat1.dot(mat2)"
   ]
  },
  {
   "cell_type": "code",
   "execution_count": 54,
   "id": "af53ccb0-9ab3-4e72-9faf-0654e324a227",
   "metadata": {},
   "outputs": [
    {
     "data": {
      "text/plain": [
       "array([[ 0,  8, 15,  0],\n",
       "       [ 8,  0,  1,  2],\n",
       "       [15,  1,  0,  0],\n",
       "       [ 0,  2,  0,  0]])"
      ]
     },
     "execution_count": 54,
     "metadata": {},
     "output_type": "execute_result"
    }
   ],
   "source": [
    "mat1*mat2"
   ]
  },
  {
   "cell_type": "code",
   "execution_count": 55,
   "id": "9f7cabe8-1e62-40df-b705-9fe404ca397f",
   "metadata": {},
   "outputs": [],
   "source": [
    "mat1 = np.array([[0,2], [2,0]])\n",
    "mat2 = np.array([[0,4], [4,0]])"
   ]
  },
  {
   "cell_type": "code",
   "execution_count": 56,
   "id": "3ecaf7a5-62b3-4fa4-811f-2fa154a5af02",
   "metadata": {},
   "outputs": [
    {
     "data": {
      "text/plain": [
       "array([[8, 0],\n",
       "       [0, 8]])"
      ]
     },
     "execution_count": 56,
     "metadata": {},
     "output_type": "execute_result"
    }
   ],
   "source": [
    "mat1@mat2"
   ]
  },
  {
   "cell_type": "code",
   "execution_count": 57,
   "id": "b943190d-b470-46bd-b248-50addf4d0033",
   "metadata": {},
   "outputs": [
    {
     "data": {
      "text/plain": [
       "array([[0, 8],\n",
       "       [8, 0]])"
      ]
     },
     "execution_count": 57,
     "metadata": {},
     "output_type": "execute_result"
    }
   ],
   "source": [
    "mat1*mat2"
   ]
  },
  {
   "cell_type": "code",
   "execution_count": null,
   "id": "417dd5a3-c63f-47c8-865e-7de2264c0082",
   "metadata": {},
   "outputs": [],
   "source": []
  },
  {
   "cell_type": "code",
   "execution_count": 101,
   "id": "d250cc32-6b61-442b-9b7d-bf24c5c2b9ea",
   "metadata": {},
   "outputs": [
    {
     "data": {
      "text/plain": [
       "array([[3, 2, 4],\n",
       "       [1, 3, 6],\n",
       "       [4, 8, 6]])"
      ]
     },
     "execution_count": 101,
     "metadata": {},
     "output_type": "execute_result"
    }
   ],
   "source": [
    "m_org = np.array(\n",
    "    [\n",
    "        [1,4,5,6,8,7,6,5,4,2,3,5],\n",
    "        [2,3,4,6,2,1,4,4,6,3,2,1],\n",
    "        [0,1,2,5,3,5,6,4,3,2,6,2],\n",
    "        [0,7,5,7,2,3,4,5,6,4,2,1],\n",
    "        [0,1,2,5,3,5,6,4,3,2,6,2],\n",
    "        [0,1,2,5,3,5,6,4,3,2,6,2],\n",
    "        [1,4,5,6,8,7,6,5,4,2,3,5],\n",
    "        [0,1,2,5,3,5,6,4,3,2,6,2]\n",
    "    ]\n",
    ")\n",
    "\n",
    "def create_subarray(arr, r_idx, c_idx):\n",
    "    try:\n",
    "        return arr[np.ix_(r_idx, c_idx)]\n",
    "    except:\n",
    "        raise IndexError(\"Index is out of bounds\")\n",
    "\n",
    "s1 = [1,4,6]\n",
    "create_subarray(m_org, s1, s1)"
   ]
  },
  {
   "cell_type": "code",
   "execution_count": 95,
   "id": "8d423304-a69b-4e24-8a5e-dac95e5d7337",
   "metadata": {},
   "outputs": [],
   "source": [
    "s1 = [1,4,6]"
   ]
  },
  {
   "cell_type": "code",
   "execution_count": 96,
   "id": "fbab4afd-9da6-4bd7-bb1c-c3ad580ef5cd",
   "metadata": {},
   "outputs": [
    {
     "data": {
      "text/plain": [
       "array([[3, 2, 4],\n",
       "       [1, 3, 6],\n",
       "       [4, 8, 6]])"
      ]
     },
     "execution_count": 96,
     "metadata": {},
     "output_type": "execute_result"
    }
   ],
   "source": [
    "m_org[np.asarray(s1)[:, None], s1]"
   ]
  },
  {
   "cell_type": "code",
   "execution_count": null,
   "id": "8cc64011-848e-4263-b524-6775477d46f3",
   "metadata": {},
   "outputs": [],
   "source": []
  },
  {
   "cell_type": "code",
   "execution_count": null,
   "id": "c38f6d79-92da-481a-a7e5-22e307f6fbca",
   "metadata": {},
   "outputs": [],
   "source": []
  }
 ],
 "metadata": {
  "kernelspec": {
   "display_name": "Python 3",
   "language": "python",
   "name": "python3"
  },
  "language_info": {
   "codemirror_mode": {
    "name": "ipython",
    "version": 3
   },
   "file_extension": ".py",
   "mimetype": "text/x-python",
   "name": "python",
   "nbconvert_exporter": "python",
   "pygments_lexer": "ipython3",
   "version": "3.8.8"
  }
 },
 "nbformat": 4,
 "nbformat_minor": 5
}
