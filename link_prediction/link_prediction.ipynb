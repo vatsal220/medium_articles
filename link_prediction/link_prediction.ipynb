{
 "cells": [
  {
   "cell_type": "markdown",
   "id": "98f17e3f-fcce-4aec-93f9-ad76897323cf",
   "metadata": {},
   "source": [
    "# Link Prediction w/ n2v"
   ]
  },
  {
   "cell_type": "code",
   "execution_count": 1,
   "id": "6c26a7c0-135c-40c7-84af-16260c96793a",
   "metadata": {},
   "outputs": [],
   "source": [
    "# !pip install arxiv"
   ]
  },
  {
   "cell_type": "markdown",
   "id": "77beb5bb-e6db-4d92-88fb-2ee138c24836",
   "metadata": {},
   "source": [
    "You can install the arxiv package in Python with the following command:  \n",
    "`pip install arxiv`  \n",
    "or follow the instructions here : https://pypi.org/project/arxiv/  "
   ]
  },
  {
   "cell_type": "code",
   "execution_count": 1,
   "id": "fe6b94e0-f903-422f-baab-76010e772026",
   "metadata": {},
   "outputs": [],
   "source": [
    "import networkx as nx\n",
    "import scipy as sp\n",
    "import pandas as pd\n",
    "import numpy as np\n",
    "import arxiv\n",
    "\n",
    "from node2vec import node2vec as n2v"
   ]
  },
  {
   "cell_type": "code",
   "execution_count": 2,
   "id": "5116e841-87c8-4e79-9c1f-6b740c7a9ef9",
   "metadata": {},
   "outputs": [],
   "source": [
    "# constants\n",
    "queries = [\n",
    "    'automl', 'machinelearning', 'data', 'phyiscs','mathematics', 'recommendation system', 'nlp', 'neural networks'\n",
    "]"
   ]
  },
  {
   "cell_type": "markdown",
   "id": "b445bcd4-ecdd-4b72-84ff-e36afc5e1a2c",
   "metadata": {},
   "source": [
    "# Fetch Data"
   ]
  },
  {
   "cell_type": "markdown",
   "id": "fb4e4258-9565-41b0-a01a-4ef1cf783c01",
   "metadata": {},
   "source": [
    "We want to hit th Arxiv API to gather some information about the latest research papers based on the queries we've identified above. This will allow us to then create a network from this research paper data and then we can try to predict links on that network. For the purposes of this article, I will search for a maximum of 1000 results per query, but you don't have to set yourself to the same constraints. The Arxiv API allows users to hit up to 300,000 results per query. The function outlined below will generate a CSV fetching the following information :   \n",
    "```'title', 'date', 'article_id', 'url', 'main_topic', 'all_topics', 'authors', 'year'```   \n",
    "You are able to fetch more information like the `links, summary, article` but I decided not to since those features won't really be used for the purposes of this analysis and tutorial.\n",
    "\n",
    "For reference to the Arxiv API, you can find their detailed documentation here : https://arxiv.org/help/api/user-manual"
   ]
  },
  {
   "cell_type": "code",
   "execution_count": 3,
   "id": "14298db4-2590-4992-a49c-d6c93d962b44",
   "metadata": {},
   "outputs": [],
   "source": [
    "def search_arxiv(queries, max_results = 1000):\n",
    "    '''\n",
    "    This function will search arxiv associated to a set of queries and store\n",
    "    the latest 10000 (max_results) associated to that search.\n",
    "    \n",
    "    params:\n",
    "        queries (List -> Str) : A list of strings containing keywords you want\n",
    "                                to search on Arxiv\n",
    "        max_results (Int) : The maximum number of results you want to see associated\n",
    "                            to your search. Default value is 1000, capped at 300000\n",
    "                            \n",
    "    returns:\n",
    "        This function will return a DataFrame holding the following columns associated\n",
    "        to the queries the user has passed. \n",
    "            `title`, `date`, `article_id`, `url`, `main_topic`, `all_topics`\n",
    "    \n",
    "    example:\n",
    "        research_df = search_arxiv(\n",
    "            queries = ['automl', 'recommender system', 'nlp', 'data science'],\n",
    "            max_results = 10000\n",
    "        )\n",
    "    '''\n",
    "    d = []\n",
    "    searches = []\n",
    "    # hitting the API\n",
    "    for query in queries:\n",
    "        search = arxiv.Search(\n",
    "          query = query,\n",
    "          max_results = max_results,\n",
    "          sort_by = arxiv.SortCriterion.SubmittedDate,\n",
    "          sort_order = arxiv.SortOrder.Descending\n",
    "        )\n",
    "        searches.append(search)\n",
    "    \n",
    "    # Converting search result into df\n",
    "    for search in searches:\n",
    "        for res in search.results():\n",
    "            data = {\n",
    "                'title' : res.title,\n",
    "                'date' : res.published,\n",
    "                'article_id' : res.entry_id,\n",
    "                'url' : res.pdf_url,\n",
    "                'main_topic' : res.primary_category,\n",
    "                'all_topics' : res.categories,\n",
    "                'authors' : res.authors\n",
    "            }\n",
    "            d.append(data)\n",
    "        \n",
    "    d = pd.DataFrame(d)\n",
    "    d['year'] = pd.DatetimeIndex(d['date']).year\n",
    "    \n",
    "    # change article id from url to integer\n",
    "    unique_article_ids = d.article_id.unique()\n",
    "    article_mapping = {art:idx for idx,art in enumerate(unique_article_ids)}\n",
    "    d['article_id'] = d['article_id'].map(article_mapping)\n",
    "    return d"
   ]
  },
  {
   "cell_type": "code",
   "execution_count": null,
   "id": "96f77985-1287-4641-bd45-9dbd873c0da4",
   "metadata": {},
   "outputs": [],
   "source": [
    "%%time\n",
    "research_df = search_arxiv(\n",
    "    queries = queries,\n",
    "    max_results = 1000\n",
    ")\n",
    "research_df.shape"
   ]
  },
  {
   "cell_type": "markdown",
   "id": "004e278a-23de-4671-8bd4-853636941495",
   "metadata": {},
   "source": [
    "If you're having trouble querying the data, for reproducibility purposes, the CSV I used for the analysis conducted in this article was uploaded to my GitHub which you can find here. https://github.com/vatsal220/medium_articles/blob/main/link_prediction/data/arxiv_data.csv"
   ]
  },
  {
   "cell_type": "markdown",
   "id": "555b32ed-3c68-412a-bf34-798292d47684",
   "metadata": {},
   "source": [
    "## Generate Network"
   ]
  },
  {
   "cell_type": "markdown",
   "id": "437b2d6f-60f9-4568-afc2-50cb32154cff",
   "metadata": {},
   "source": [
    "Now that we've fetched the data using the Arxiv API, we can generate a network. The network will have the following structure, nodes will be the article_ids and the edges will be all topics connecting a pair of articles. For example, article_id 1 with the following topics `astro-physics, and stats` can be connected to article_id 10 with the topic `stats` and article_id 7 with the topics `astro-physics, math`. This will be a multi-edge network where each edge will hold a weight of 1."
   ]
  },
  {
   "cell_type": "code",
   "execution_count": null,
   "id": "ec9d6b08-ef13-4ac1-bc69-61529d33679e",
   "metadata": {},
   "outputs": [],
   "source": [
    "r_df = research_df.explode('all_topics').copy()"
   ]
  },
  {
   "cell_type": "code",
   "execution_count": null,
   "id": "8cab8e97-3700-4d7d-b1ef-13a94584d92a",
   "metadata": {},
   "outputs": [],
   "source": [
    "def generate_network(df, node_col = 'article_id', edge_col = 'main_topic'):\n",
    "    '''\n",
    "    This function will generate a article to article network given an input DataFrame.\n",
    "    It will do so by creating an edge_dictionary where each key is going to be a node\n",
    "    referenced by unique values in node_col and the values will be a list of other nodes\n",
    "    connected to the key through the edge_col.\n",
    "    \n",
    "    params:\n",
    "        df (DataFrame) : The dataset which holds the node and edge columns\n",
    "        node_col (String) : The column name associated to the nodes of the network\n",
    "        edge_col (String) : The column name associated to the edges of the network\n",
    "        \n",
    "    returns:\n",
    "        A networkx graph corresponding to the input dataset\n",
    "        \n",
    "    example:\n",
    "        generate_network(\n",
    "            research_df,\n",
    "            node_col = 'article_id',\n",
    "            edge_col = 'main_topic'\n",
    "        )\n",
    "    '''\n",
    "    edge_dct = {}\n",
    "    for i,g in df.groupby(node_col):\n",
    "        topics = df[edge_col].unique()\n",
    "        edge_df = df[(df[node_col] != i) & (df[edge_col].isin(topics))]\n",
    "        edges = list(edge_df[node_col].unique())\n",
    "        edge_dct[i] = edges\n",
    "    \n",
    "    # create nx network\n",
    "    g = nx.Graph(edge_dct)\n",
    "    return g"
   ]
  },
  {
   "cell_type": "code",
   "execution_count": null,
   "id": "f6878f12-a0bc-4070-8fca-689b01154970",
   "metadata": {},
   "outputs": [],
   "source": [
    "%time research_network = generate_network(research_df, node_col = 'article_id', edge_col = 'main_topic')"
   ]
  },
  {
   "cell_type": "code",
   "execution_count": null,
   "id": "5f8ca352-20f3-4358-95c7-2bcf444d09eb",
   "metadata": {},
   "outputs": [],
   "source": []
  },
  {
   "cell_type": "code",
   "execution_count": null,
   "id": "00cb2bd2-50a5-480c-9e1d-194163497ab8",
   "metadata": {},
   "outputs": [],
   "source": []
  },
  {
   "cell_type": "code",
   "execution_count": null,
   "id": "ca946a47-125a-41a5-9a36-bfd1543d6ccb",
   "metadata": {},
   "outputs": [],
   "source": []
  },
  {
   "cell_type": "code",
   "execution_count": 22,
   "id": "dfa77b56-7a2f-4f98-96e9-561c7b9935ee",
   "metadata": {},
   "outputs": [
    {
     "name": "stdout",
     "output_type": "stream",
     "text": [
      "CPU times: user 4.76 s, sys: 428 ms, total: 5.19 s\n",
      "Wall time: 5 s\n"
     ]
    }
   ],
   "source": [
    "%%time\n",
    "edge_dct = {}\n",
    "for i,g in r_df.groupby('article_id'):\n",
    "    top = g.all_topics.unique()\n",
    "    edge_df = r_df[(r_df.article_id != i) & (r_df.all_topics.isin(top))]\n",
    "    connection_nodes = list(edge_df.article_id.unique())\n",
    "    edge_dct[i] = connection_nodes"
   ]
  },
  {
   "cell_type": "code",
   "execution_count": 24,
   "id": "5f8789c2-b4d1-4a89-8348-28870608cc34",
   "metadata": {},
   "outputs": [
    {
     "name": "stdout",
     "output_type": "stream",
     "text": [
      "CPU times: user 4.06 s, sys: 297 ms, total: 4.36 s\n",
      "Wall time: 4.48 s\n"
     ]
    }
   ],
   "source": [
    "%time g = nx.Graph(edge_dct)"
   ]
  },
  {
   "cell_type": "code",
   "execution_count": 25,
   "id": "d118bca1-e620-4348-8d76-16f53ee8265c",
   "metadata": {},
   "outputs": [
    {
     "name": "stdout",
     "output_type": "stream",
     "text": [
      "Name: \n",
      "Type: Graph\n",
      "Number of nodes: 4514\n",
      "Number of edges: 1580377\n",
      "Average degree: 700.2113\n"
     ]
    }
   ],
   "source": [
    "print(nx.info(g))"
   ]
  },
  {
   "cell_type": "code",
   "execution_count": 26,
   "id": "053e56d3-1f74-4b22-ba27-f972aa1cc0d0",
   "metadata": {},
   "outputs": [
    {
     "data": {
      "text/plain": [
       "4514"
      ]
     },
     "execution_count": 26,
     "metadata": {},
     "output_type": "execute_result"
    }
   ],
   "source": [
    "r_df.article_id.nunique()"
   ]
  },
  {
   "cell_type": "code",
   "execution_count": 28,
   "id": "d16641c8-527f-4836-91eb-64fd20312914",
   "metadata": {},
   "outputs": [
    {
     "data": {
      "text/html": [
       "<div>\n",
       "<style scoped>\n",
       "    .dataframe tbody tr th:only-of-type {\n",
       "        vertical-align: middle;\n",
       "    }\n",
       "\n",
       "    .dataframe tbody tr th {\n",
       "        vertical-align: top;\n",
       "    }\n",
       "\n",
       "    .dataframe thead th {\n",
       "        text-align: right;\n",
       "    }\n",
       "</style>\n",
       "<table border=\"1\" class=\"dataframe\">\n",
       "  <thead>\n",
       "    <tr style=\"text-align: right;\">\n",
       "      <th></th>\n",
       "      <th>title</th>\n",
       "      <th>date</th>\n",
       "      <th>article_id</th>\n",
       "      <th>url</th>\n",
       "      <th>main_topic</th>\n",
       "      <th>all_topics</th>\n",
       "      <th>authors</th>\n",
       "      <th>year</th>\n",
       "    </tr>\n",
       "  </thead>\n",
       "  <tbody>\n",
       "    <tr>\n",
       "      <th>0</th>\n",
       "      <td>Review of automated time series forecasting pi...</td>\n",
       "      <td>2022-02-03 17:26:27+00:00</td>\n",
       "      <td>0</td>\n",
       "      <td>http://arxiv.org/pdf/2202.01712v1</td>\n",
       "      <td>cs.LG</td>\n",
       "      <td>cs.LG</td>\n",
       "      <td>[Stefan Meisenbacher, Marian Turowski, Kaleb P...</td>\n",
       "      <td>2022</td>\n",
       "    </tr>\n",
       "    <tr>\n",
       "      <th>1</th>\n",
       "      <td>Hubble Asteroid Hunter: I. Identifying asteroi...</td>\n",
       "      <td>2022-02-01 06:56:20+00:00</td>\n",
       "      <td>1</td>\n",
       "      <td>http://arxiv.org/pdf/2202.00246v1</td>\n",
       "      <td>astro-ph.EP</td>\n",
       "      <td>astro-ph.EP</td>\n",
       "      <td>[Sandor Kruk, Pablo García Martín, Marcel Pope...</td>\n",
       "      <td>2022</td>\n",
       "    </tr>\n",
       "    <tr>\n",
       "      <th>1</th>\n",
       "      <td>Hubble Asteroid Hunter: I. Identifying asteroi...</td>\n",
       "      <td>2022-02-01 06:56:20+00:00</td>\n",
       "      <td>1</td>\n",
       "      <td>http://arxiv.org/pdf/2202.00246v1</td>\n",
       "      <td>astro-ph.EP</td>\n",
       "      <td>astro-ph.IM</td>\n",
       "      <td>[Sandor Kruk, Pablo García Martín, Marcel Pope...</td>\n",
       "      <td>2022</td>\n",
       "    </tr>\n",
       "    <tr>\n",
       "      <th>2</th>\n",
       "      <td>NAS-Bench-Suite: NAS Evaluation is (Now) Surpr...</td>\n",
       "      <td>2022-01-31 18:02:09+00:00</td>\n",
       "      <td>2</td>\n",
       "      <td>http://arxiv.org/pdf/2201.13396v1</td>\n",
       "      <td>cs.LG</td>\n",
       "      <td>cs.LG</td>\n",
       "      <td>[Yash Mehta, Colin White, Arber Zela, Arjun Kr...</td>\n",
       "      <td>2022</td>\n",
       "    </tr>\n",
       "    <tr>\n",
       "      <th>2</th>\n",
       "      <td>NAS-Bench-Suite: NAS Evaluation is (Now) Surpr...</td>\n",
       "      <td>2022-01-31 18:02:09+00:00</td>\n",
       "      <td>2</td>\n",
       "      <td>http://arxiv.org/pdf/2201.13396v1</td>\n",
       "      <td>cs.LG</td>\n",
       "      <td>cs.AI</td>\n",
       "      <td>[Yash Mehta, Colin White, Arber Zela, Arjun Kr...</td>\n",
       "      <td>2022</td>\n",
       "    </tr>\n",
       "    <tr>\n",
       "      <th>...</th>\n",
       "      <td>...</td>\n",
       "      <td>...</td>\n",
       "      <td>...</td>\n",
       "      <td>...</td>\n",
       "      <td>...</td>\n",
       "      <td>...</td>\n",
       "      <td>...</td>\n",
       "      <td>...</td>\n",
       "    </tr>\n",
       "    <tr>\n",
       "      <th>5330</th>\n",
       "      <td>Distributed Image Transmission using Deep Join...</td>\n",
       "      <td>2022-01-25 14:25:26+00:00</td>\n",
       "      <td>4512</td>\n",
       "      <td>http://arxiv.org/pdf/2201.10340v1</td>\n",
       "      <td>cs.IT</td>\n",
       "      <td>cs.IT</td>\n",
       "      <td>[Sixian Wang, Ke Yang, Jincheng Dai, Kai Niu]</td>\n",
       "      <td>2022</td>\n",
       "    </tr>\n",
       "    <tr>\n",
       "      <th>5330</th>\n",
       "      <td>Distributed Image Transmission using Deep Join...</td>\n",
       "      <td>2022-01-25 14:25:26+00:00</td>\n",
       "      <td>4512</td>\n",
       "      <td>http://arxiv.org/pdf/2201.10340v1</td>\n",
       "      <td>cs.IT</td>\n",
       "      <td>cs.LG</td>\n",
       "      <td>[Sixian Wang, Ke Yang, Jincheng Dai, Kai Niu]</td>\n",
       "      <td>2022</td>\n",
       "    </tr>\n",
       "    <tr>\n",
       "      <th>5330</th>\n",
       "      <td>Distributed Image Transmission using Deep Join...</td>\n",
       "      <td>2022-01-25 14:25:26+00:00</td>\n",
       "      <td>4512</td>\n",
       "      <td>http://arxiv.org/pdf/2201.10340v1</td>\n",
       "      <td>cs.IT</td>\n",
       "      <td>math.IT</td>\n",
       "      <td>[Sixian Wang, Ke Yang, Jincheng Dai, Kai Niu]</td>\n",
       "      <td>2022</td>\n",
       "    </tr>\n",
       "    <tr>\n",
       "      <th>5331</th>\n",
       "      <td>ML4CO-KIDA: Knowledge Inheritance in Dataset A...</td>\n",
       "      <td>2022-01-25 14:03:57+00:00</td>\n",
       "      <td>4513</td>\n",
       "      <td>http://arxiv.org/pdf/2201.10328v3</td>\n",
       "      <td>cs.AI</td>\n",
       "      <td>cs.AI</td>\n",
       "      <td>[Zixuan Cao, Yang Xu, Zhewei Huang, Shuchang Z...</td>\n",
       "      <td>2022</td>\n",
       "    </tr>\n",
       "    <tr>\n",
       "      <th>5331</th>\n",
       "      <td>ML4CO-KIDA: Knowledge Inheritance in Dataset A...</td>\n",
       "      <td>2022-01-25 14:03:57+00:00</td>\n",
       "      <td>4513</td>\n",
       "      <td>http://arxiv.org/pdf/2201.10328v3</td>\n",
       "      <td>cs.AI</td>\n",
       "      <td>cs.LG</td>\n",
       "      <td>[Zixuan Cao, Yang Xu, Zhewei Huang, Shuchang Z...</td>\n",
       "      <td>2022</td>\n",
       "    </tr>\n",
       "  </tbody>\n",
       "</table>\n",
       "<p>12161 rows × 8 columns</p>\n",
       "</div>"
      ],
      "text/plain": [
       "                                                  title  \\\n",
       "0     Review of automated time series forecasting pi...   \n",
       "1     Hubble Asteroid Hunter: I. Identifying asteroi...   \n",
       "1     Hubble Asteroid Hunter: I. Identifying asteroi...   \n",
       "2     NAS-Bench-Suite: NAS Evaluation is (Now) Surpr...   \n",
       "2     NAS-Bench-Suite: NAS Evaluation is (Now) Surpr...   \n",
       "...                                                 ...   \n",
       "5330  Distributed Image Transmission using Deep Join...   \n",
       "5330  Distributed Image Transmission using Deep Join...   \n",
       "5330  Distributed Image Transmission using Deep Join...   \n",
       "5331  ML4CO-KIDA: Knowledge Inheritance in Dataset A...   \n",
       "5331  ML4CO-KIDA: Knowledge Inheritance in Dataset A...   \n",
       "\n",
       "                          date  article_id                                url  \\\n",
       "0    2022-02-03 17:26:27+00:00           0  http://arxiv.org/pdf/2202.01712v1   \n",
       "1    2022-02-01 06:56:20+00:00           1  http://arxiv.org/pdf/2202.00246v1   \n",
       "1    2022-02-01 06:56:20+00:00           1  http://arxiv.org/pdf/2202.00246v1   \n",
       "2    2022-01-31 18:02:09+00:00           2  http://arxiv.org/pdf/2201.13396v1   \n",
       "2    2022-01-31 18:02:09+00:00           2  http://arxiv.org/pdf/2201.13396v1   \n",
       "...                        ...         ...                                ...   \n",
       "5330 2022-01-25 14:25:26+00:00        4512  http://arxiv.org/pdf/2201.10340v1   \n",
       "5330 2022-01-25 14:25:26+00:00        4512  http://arxiv.org/pdf/2201.10340v1   \n",
       "5330 2022-01-25 14:25:26+00:00        4512  http://arxiv.org/pdf/2201.10340v1   \n",
       "5331 2022-01-25 14:03:57+00:00        4513  http://arxiv.org/pdf/2201.10328v3   \n",
       "5331 2022-01-25 14:03:57+00:00        4513  http://arxiv.org/pdf/2201.10328v3   \n",
       "\n",
       "       main_topic   all_topics  \\\n",
       "0           cs.LG        cs.LG   \n",
       "1     astro-ph.EP  astro-ph.EP   \n",
       "1     astro-ph.EP  astro-ph.IM   \n",
       "2           cs.LG        cs.LG   \n",
       "2           cs.LG        cs.AI   \n",
       "...           ...          ...   \n",
       "5330        cs.IT        cs.IT   \n",
       "5330        cs.IT        cs.LG   \n",
       "5330        cs.IT      math.IT   \n",
       "5331        cs.AI        cs.AI   \n",
       "5331        cs.AI        cs.LG   \n",
       "\n",
       "                                                authors  year  \n",
       "0     [Stefan Meisenbacher, Marian Turowski, Kaleb P...  2022  \n",
       "1     [Sandor Kruk, Pablo García Martín, Marcel Pope...  2022  \n",
       "1     [Sandor Kruk, Pablo García Martín, Marcel Pope...  2022  \n",
       "2     [Yash Mehta, Colin White, Arber Zela, Arjun Kr...  2022  \n",
       "2     [Yash Mehta, Colin White, Arber Zela, Arjun Kr...  2022  \n",
       "...                                                 ...   ...  \n",
       "5330      [Sixian Wang, Ke Yang, Jincheng Dai, Kai Niu]  2022  \n",
       "5330      [Sixian Wang, Ke Yang, Jincheng Dai, Kai Niu]  2022  \n",
       "5330      [Sixian Wang, Ke Yang, Jincheng Dai, Kai Niu]  2022  \n",
       "5331  [Zixuan Cao, Yang Xu, Zhewei Huang, Shuchang Z...  2022  \n",
       "5331  [Zixuan Cao, Yang Xu, Zhewei Huang, Shuchang Z...  2022  \n",
       "\n",
       "[12161 rows x 8 columns]"
      ]
     },
     "execution_count": 28,
     "metadata": {},
     "output_type": "execute_result"
    }
   ],
   "source": [
    "r_df"
   ]
  },
  {
   "cell_type": "code",
   "execution_count": null,
   "id": "9987c2da-a2ab-4b78-b2a3-4d4a9a56ed8d",
   "metadata": {},
   "outputs": [],
   "source": []
  }
 ],
 "metadata": {
  "kernelspec": {
   "display_name": "Python 3",
   "language": "python",
   "name": "python3"
  },
  "language_info": {
   "codemirror_mode": {
    "name": "ipython",
    "version": 3
   },
   "file_extension": ".py",
   "mimetype": "text/x-python",
   "name": "python",
   "nbconvert_exporter": "python",
   "pygments_lexer": "ipython3",
   "version": "3.8.8"
  }
 },
 "nbformat": 4,
 "nbformat_minor": 5
}
