{
 "cells": [
  {
   "cell_type": "markdown",
   "id": "7dcf55e7-d889-4e45-91e8-a546dbdfebed",
   "metadata": {},
   "source": [
    "# Node2Vec"
   ]
  },
  {
   "cell_type": "code",
   "execution_count": 1,
   "id": "b89935dd-b7ba-4588-a463-9802d10a1f2e",
   "metadata": {},
   "outputs": [],
   "source": [
    "\"\"\"\n",
    "@author: vatsal\n",
    "\"\"\"\n",
    "\n",
    "import networkx as nx\n",
    "import pandas as pd\n",
    "import random\n",
    "import matplotlib.pyplot as plt\n",
    "import seaborn as sns\n",
    "\n",
    "from sklearn.decomposition import PCA\n",
    "from node2vec import Node2Vec as n2v\n",
    "from itertools import combinations, groupby\n",
    "sns.set()"
   ]
  },
  {
   "cell_type": "markdown",
   "id": "521bfe85-16ba-40c5-867e-fb9e1a944e9c",
   "metadata": {},
   "source": [
    "## Generate Data"
   ]
  },
  {
   "cell_type": "markdown",
   "id": "1dd7e2b8-fa97-4f8c-aff7-cfd93272f587",
   "metadata": {},
   "source": [
    "## Create Graph"
   ]
  },
  {
   "cell_type": "code",
   "execution_count": 2,
   "id": "f177108f-2a2d-4672-84d7-5f6f257d01ad",
   "metadata": {},
   "outputs": [],
   "source": [
    "def generate_graph(n, p, dt = nx.MultiGraph()):\n",
    "    '''\n",
    "    This function will generate a graph G based on the users input parameters\n",
    "    \n",
    "    params:\n",
    "        n (Integer) : The number of nodes you would like in the graph\n",
    "        p (Float) : The probability of adding an edge between nodes\n",
    "        dt (Function) : The type of the graph you want to create\n",
    "    '''\n",
    "    edges = combinations(range(n), 2)\n",
    "    G = dt\n",
    "    G.add_nodes_from(range(n))\n",
    "    \n",
    "    if p <= 0:\n",
    "        return G\n",
    "    elif p >= 1:\n",
    "        return nx.complete_graph(n, create_using = G)\n",
    "    else:\n",
    "        for _, ne in groupby(edges, key = lambda x : x[0]):\n",
    "            ne = list(ne)\n",
    "            re = random.choice(ne)\n",
    "            G.add_edge(*re)\n",
    "            for e in ne:\n",
    "                if random.random() < p:\n",
    "                    G.add_edge(*e)\n",
    "    return G"
   ]
  },
  {
   "cell_type": "code",
   "execution_count": 3,
   "id": "ee577b31-349f-485d-95f4-5ac7d45e8603",
   "metadata": {},
   "outputs": [],
   "source": [
    "G = generate_graph(n = 1000, p = 0.15, dt = nx.MultiGraph())"
   ]
  },
  {
   "cell_type": "code",
   "execution_count": 4,
   "id": "f591163e-f0e2-4a61-81fb-0d48b4a0e864",
   "metadata": {},
   "outputs": [
    {
     "name": "stdout",
     "output_type": "stream",
     "text": [
      "Name: \n",
      "Type: MultiGraph\n",
      "Number of nodes: 1000\n",
      "Number of edges: 76106\n",
      "Average degree: 152.2120\n"
     ]
    }
   ],
   "source": [
    "print(nx.info(G))"
   ]
  },
  {
   "cell_type": "markdown",
   "id": "28a00881-ab1c-4d27-8296-2d3d664b3b6c",
   "metadata": {},
   "source": [
    "## Node2Vec"
   ]
  },
  {
   "cell_type": "markdown",
   "id": "4bbfe2e0-e003-40f0-8186-f8cd9b91071b",
   "metadata": {},
   "source": [
    "**Parameter Info**  \n",
    "- graph: a graph g, where all nodes must be integers or strings  \n",
    "- dimensions: embedding dimensions (default: 128)  \n",
    "- walk_length: number of nodes in each walk (default: 80)  \n",
    "- num_walks: number of walks per node (default: 10)  \n",
    "- weight_key: the key for the weight attribute on weighted graphs (default: 'weight')  \n",
    "- workers: number of workers for parallel execution (default: 1)\n",
    "\n",
    "Node2Vec.fit method: Accepts any key word argument acceptable by gensim.Word2Vec"
   ]
  },
  {
   "cell_type": "code",
   "execution_count": 5,
   "id": "66fc362d-49c4-4c4b-b255-5989bee553ea",
   "metadata": {},
   "outputs": [
    {
     "data": {
      "application/vnd.jupyter.widget-view+json": {
       "model_id": "9c5e7f5948824aa19dad772a747e5ec5",
       "version_major": 2,
       "version_minor": 0
      },
      "text/plain": [
       "Computing transition probabilities:   0%|          | 0/1000 [00:00<?, ?it/s]"
      ]
     },
     "metadata": {},
     "output_type": "display_data"
    },
    {
     "name": "stderr",
     "output_type": "stream",
     "text": [
      "Generating walks (CPU: 1): 100%|██████████| 10/10 [00:27<00:00,  2.70s/it]"
     ]
    },
    {
     "name": "stdout",
     "output_type": "stream",
     "text": [
      "CPU times: user 1min 21s, sys: 1.48 s, total: 1min 23s\n",
      "Wall time: 1min 25s\n"
     ]
    },
    {
     "name": "stderr",
     "output_type": "stream",
     "text": [
      "\n"
     ]
    }
   ],
   "source": [
    "%time g_emb = n2v(G, dimensions=16, weight_key='weight')"
   ]
  },
  {
   "cell_type": "code",
   "execution_count": 6,
   "id": "b5fb562c-9146-4ef6-b6c0-805c6cd45844",
   "metadata": {},
   "outputs": [],
   "source": [
    "WINDOW = 1 # Node2Vec fit window\n",
    "MIN_COUNT = 1 # Node2Vec min. count\n",
    "BATCH_WORDS = 4 # Node2Vec batch words"
   ]
  },
  {
   "cell_type": "code",
   "execution_count": 7,
   "id": "72db7100-9439-4335-80d6-db54aa17573a",
   "metadata": {},
   "outputs": [],
   "source": [
    "mdl = g_emb.fit(\n",
    "    window=WINDOW,\n",
    "    min_count=MIN_COUNT,\n",
    "    batch_words=BATCH_WORDS\n",
    ")"
   ]
  },
  {
   "cell_type": "markdown",
   "id": "bed245ac-7e5e-4cae-a680-d54dd7fc85ae",
   "metadata": {},
   "source": [
    "## Convert to DataFrame"
   ]
  },
  {
   "cell_type": "code",
   "execution_count": 8,
   "id": "a71a8b67-c6ca-43c0-910c-f78963a2b226",
   "metadata": {},
   "outputs": [],
   "source": [
    "emb_df = (\n",
    "    pd.DataFrame(\n",
    "        [mdl.wv.get_vector(str(n)) for n in G.nodes()],\n",
    "        index = G.nodes\n",
    "    )\n",
    ")"
   ]
  },
  {
   "cell_type": "code",
   "execution_count": 9,
   "id": "c160b83c-d44c-4a40-80c7-7ff88b58e816",
   "metadata": {},
   "outputs": [
    {
     "data": {
      "text/html": [
       "<div>\n",
       "<style scoped>\n",
       "    .dataframe tbody tr th:only-of-type {\n",
       "        vertical-align: middle;\n",
       "    }\n",
       "\n",
       "    .dataframe tbody tr th {\n",
       "        vertical-align: top;\n",
       "    }\n",
       "\n",
       "    .dataframe thead th {\n",
       "        text-align: right;\n",
       "    }\n",
       "</style>\n",
       "<table border=\"1\" class=\"dataframe\">\n",
       "  <thead>\n",
       "    <tr style=\"text-align: right;\">\n",
       "      <th></th>\n",
       "      <th>1</th>\n",
       "      <th>2</th>\n",
       "      <th>3</th>\n",
       "      <th>4</th>\n",
       "      <th>5</th>\n",
       "      <th>6</th>\n",
       "      <th>7</th>\n",
       "      <th>8</th>\n",
       "      <th>9</th>\n",
       "      <th>10</th>\n",
       "      <th>11</th>\n",
       "      <th>12</th>\n",
       "      <th>13</th>\n",
       "      <th>14</th>\n",
       "      <th>15</th>\n",
       "    </tr>\n",
       "  </thead>\n",
       "  <tbody>\n",
       "    <tr>\n",
       "      <th>0</th>\n",
       "      <td>0.042499</td>\n",
       "      <td>0.599202</td>\n",
       "      <td>0.131481</td>\n",
       "      <td>0.278286</td>\n",
       "      <td>0.831986</td>\n",
       "      <td>0.281949</td>\n",
       "      <td>-0.273642</td>\n",
       "      <td>-0.808042</td>\n",
       "      <td>0.180614</td>\n",
       "      <td>-0.052981</td>\n",
       "      <td>-0.540917</td>\n",
       "      <td>-0.483045</td>\n",
       "      <td>-0.294049</td>\n",
       "      <td>0.701727</td>\n",
       "      <td>0.178055</td>\n",
       "    </tr>\n",
       "    <tr>\n",
       "      <th>1</th>\n",
       "      <td>-0.330986</td>\n",
       "      <td>-0.231267</td>\n",
       "      <td>0.003587</td>\n",
       "      <td>1.168752</td>\n",
       "      <td>0.579002</td>\n",
       "      <td>-0.161999</td>\n",
       "      <td>-0.330725</td>\n",
       "      <td>0.091164</td>\n",
       "      <td>-0.486864</td>\n",
       "      <td>0.003569</td>\n",
       "      <td>-0.593699</td>\n",
       "      <td>-0.040593</td>\n",
       "      <td>-0.688002</td>\n",
       "      <td>-0.313375</td>\n",
       "      <td>0.431983</td>\n",
       "    </tr>\n",
       "    <tr>\n",
       "      <th>2</th>\n",
       "      <td>0.304230</td>\n",
       "      <td>0.334667</td>\n",
       "      <td>-0.092769</td>\n",
       "      <td>0.350108</td>\n",
       "      <td>-0.265364</td>\n",
       "      <td>0.270009</td>\n",
       "      <td>0.257968</td>\n",
       "      <td>-0.552038</td>\n",
       "      <td>0.280843</td>\n",
       "      <td>-0.211313</td>\n",
       "      <td>-0.730613</td>\n",
       "      <td>-0.249435</td>\n",
       "      <td>-0.886305</td>\n",
       "      <td>0.759829</td>\n",
       "      <td>0.645053</td>\n",
       "    </tr>\n",
       "    <tr>\n",
       "      <th>3</th>\n",
       "      <td>0.734385</td>\n",
       "      <td>-0.165109</td>\n",
       "      <td>0.246572</td>\n",
       "      <td>0.453052</td>\n",
       "      <td>-0.180929</td>\n",
       "      <td>-0.194938</td>\n",
       "      <td>-0.718543</td>\n",
       "      <td>-0.194779</td>\n",
       "      <td>0.597054</td>\n",
       "      <td>0.542186</td>\n",
       "      <td>0.611232</td>\n",
       "      <td>0.272759</td>\n",
       "      <td>-0.865591</td>\n",
       "      <td>0.115880</td>\n",
       "      <td>0.933550</td>\n",
       "    </tr>\n",
       "    <tr>\n",
       "      <th>4</th>\n",
       "      <td>-0.234063</td>\n",
       "      <td>-0.048243</td>\n",
       "      <td>0.055356</td>\n",
       "      <td>0.553215</td>\n",
       "      <td>-0.111853</td>\n",
       "      <td>-0.445061</td>\n",
       "      <td>-0.323672</td>\n",
       "      <td>-0.052626</td>\n",
       "      <td>0.487470</td>\n",
       "      <td>0.292811</td>\n",
       "      <td>-0.746215</td>\n",
       "      <td>0.299139</td>\n",
       "      <td>0.087726</td>\n",
       "      <td>0.517616</td>\n",
       "      <td>0.590164</td>\n",
       "    </tr>\n",
       "    <tr>\n",
       "      <th>...</th>\n",
       "      <td>...</td>\n",
       "      <td>...</td>\n",
       "      <td>...</td>\n",
       "      <td>...</td>\n",
       "      <td>...</td>\n",
       "      <td>...</td>\n",
       "      <td>...</td>\n",
       "      <td>...</td>\n",
       "      <td>...</td>\n",
       "      <td>...</td>\n",
       "      <td>...</td>\n",
       "      <td>...</td>\n",
       "      <td>...</td>\n",
       "      <td>...</td>\n",
       "      <td>...</td>\n",
       "    </tr>\n",
       "    <tr>\n",
       "      <th>995</th>\n",
       "      <td>-0.251823</td>\n",
       "      <td>-0.257457</td>\n",
       "      <td>0.027162</td>\n",
       "      <td>0.557026</td>\n",
       "      <td>-0.023498</td>\n",
       "      <td>-0.058973</td>\n",
       "      <td>-0.581227</td>\n",
       "      <td>0.107935</td>\n",
       "      <td>1.163244</td>\n",
       "      <td>-0.072754</td>\n",
       "      <td>0.040069</td>\n",
       "      <td>0.488356</td>\n",
       "      <td>-0.507636</td>\n",
       "      <td>0.312345</td>\n",
       "      <td>0.704165</td>\n",
       "    </tr>\n",
       "    <tr>\n",
       "      <th>996</th>\n",
       "      <td>-0.128828</td>\n",
       "      <td>0.482044</td>\n",
       "      <td>0.742787</td>\n",
       "      <td>0.688232</td>\n",
       "      <td>-0.234364</td>\n",
       "      <td>-0.304009</td>\n",
       "      <td>-0.424569</td>\n",
       "      <td>-0.541949</td>\n",
       "      <td>-0.282350</td>\n",
       "      <td>-0.151753</td>\n",
       "      <td>0.083502</td>\n",
       "      <td>-0.676938</td>\n",
       "      <td>-0.616176</td>\n",
       "      <td>-0.037008</td>\n",
       "      <td>0.180500</td>\n",
       "    </tr>\n",
       "    <tr>\n",
       "      <th>997</th>\n",
       "      <td>-0.218733</td>\n",
       "      <td>0.228868</td>\n",
       "      <td>-0.003579</td>\n",
       "      <td>1.120260</td>\n",
       "      <td>0.375957</td>\n",
       "      <td>-0.454130</td>\n",
       "      <td>-0.498063</td>\n",
       "      <td>-0.500977</td>\n",
       "      <td>0.992491</td>\n",
       "      <td>-0.509789</td>\n",
       "      <td>-0.256933</td>\n",
       "      <td>-0.013000</td>\n",
       "      <td>-0.730055</td>\n",
       "      <td>-0.260329</td>\n",
       "      <td>-0.221898</td>\n",
       "    </tr>\n",
       "    <tr>\n",
       "      <th>998</th>\n",
       "      <td>-0.324546</td>\n",
       "      <td>0.132481</td>\n",
       "      <td>0.407514</td>\n",
       "      <td>0.553348</td>\n",
       "      <td>-0.068111</td>\n",
       "      <td>-0.292767</td>\n",
       "      <td>0.274578</td>\n",
       "      <td>-0.873066</td>\n",
       "      <td>0.381144</td>\n",
       "      <td>-0.684878</td>\n",
       "      <td>0.076659</td>\n",
       "      <td>-0.056257</td>\n",
       "      <td>-0.516235</td>\n",
       "      <td>-0.547458</td>\n",
       "      <td>0.596836</td>\n",
       "    </tr>\n",
       "    <tr>\n",
       "      <th>999</th>\n",
       "      <td>0.033369</td>\n",
       "      <td>0.056022</td>\n",
       "      <td>0.913789</td>\n",
       "      <td>0.717724</td>\n",
       "      <td>-0.082580</td>\n",
       "      <td>-0.300351</td>\n",
       "      <td>0.106815</td>\n",
       "      <td>0.573051</td>\n",
       "      <td>0.158191</td>\n",
       "      <td>0.518568</td>\n",
       "      <td>0.019324</td>\n",
       "      <td>0.289539</td>\n",
       "      <td>-0.473890</td>\n",
       "      <td>-0.346821</td>\n",
       "      <td>1.203043</td>\n",
       "    </tr>\n",
       "  </tbody>\n",
       "</table>\n",
       "<p>1000 rows × 15 columns</p>\n",
       "</div>"
      ],
      "text/plain": [
       "           1         2         3         4         5         6         7   \\\n",
       "0    0.042499  0.599202  0.131481  0.278286  0.831986  0.281949 -0.273642   \n",
       "1   -0.330986 -0.231267  0.003587  1.168752  0.579002 -0.161999 -0.330725   \n",
       "2    0.304230  0.334667 -0.092769  0.350108 -0.265364  0.270009  0.257968   \n",
       "3    0.734385 -0.165109  0.246572  0.453052 -0.180929 -0.194938 -0.718543   \n",
       "4   -0.234063 -0.048243  0.055356  0.553215 -0.111853 -0.445061 -0.323672   \n",
       "..        ...       ...       ...       ...       ...       ...       ...   \n",
       "995 -0.251823 -0.257457  0.027162  0.557026 -0.023498 -0.058973 -0.581227   \n",
       "996 -0.128828  0.482044  0.742787  0.688232 -0.234364 -0.304009 -0.424569   \n",
       "997 -0.218733  0.228868 -0.003579  1.120260  0.375957 -0.454130 -0.498063   \n",
       "998 -0.324546  0.132481  0.407514  0.553348 -0.068111 -0.292767  0.274578   \n",
       "999  0.033369  0.056022  0.913789  0.717724 -0.082580 -0.300351  0.106815   \n",
       "\n",
       "           8         9         10        11        12        13        14  \\\n",
       "0   -0.808042  0.180614 -0.052981 -0.540917 -0.483045 -0.294049  0.701727   \n",
       "1    0.091164 -0.486864  0.003569 -0.593699 -0.040593 -0.688002 -0.313375   \n",
       "2   -0.552038  0.280843 -0.211313 -0.730613 -0.249435 -0.886305  0.759829   \n",
       "3   -0.194779  0.597054  0.542186  0.611232  0.272759 -0.865591  0.115880   \n",
       "4   -0.052626  0.487470  0.292811 -0.746215  0.299139  0.087726  0.517616   \n",
       "..        ...       ...       ...       ...       ...       ...       ...   \n",
       "995  0.107935  1.163244 -0.072754  0.040069  0.488356 -0.507636  0.312345   \n",
       "996 -0.541949 -0.282350 -0.151753  0.083502 -0.676938 -0.616176 -0.037008   \n",
       "997 -0.500977  0.992491 -0.509789 -0.256933 -0.013000 -0.730055 -0.260329   \n",
       "998 -0.873066  0.381144 -0.684878  0.076659 -0.056257 -0.516235 -0.547458   \n",
       "999  0.573051  0.158191  0.518568  0.019324  0.289539 -0.473890 -0.346821   \n",
       "\n",
       "           15  \n",
       "0    0.178055  \n",
       "1    0.431983  \n",
       "2    0.645053  \n",
       "3    0.933550  \n",
       "4    0.590164  \n",
       "..        ...  \n",
       "995  0.704165  \n",
       "996  0.180500  \n",
       "997 -0.221898  \n",
       "998  0.596836  \n",
       "999  1.203043  \n",
       "\n",
       "[1000 rows x 15 columns]"
      ]
     },
     "execution_count": 9,
     "metadata": {},
     "output_type": "execute_result"
    }
   ],
   "source": [
    "emb_df.iloc[:,1:]"
   ]
  },
  {
   "cell_type": "markdown",
   "id": "d03f37ce-9864-437c-bf5d-36855144ad21",
   "metadata": {},
   "source": [
    "### Visualize Embedding"
   ]
  },
  {
   "cell_type": "code",
   "execution_count": 10,
   "id": "ae379dd9-9399-4eb9-8253-53635297e9b8",
   "metadata": {},
   "outputs": [
    {
     "data": {
      "text/plain": [
       "<Figure size 432x288 with 0 Axes>"
      ]
     },
     "metadata": {},
     "output_type": "display_data"
    },
    {
     "data": {
      "image/png": "[encoded data removed]",
      "text/plain": [
       "<Figure size 720x576 with 1 Axes>"
      ]
     },
     "metadata": {
      "needs_background": "light"
     },
     "output_type": "display_data"
    }
   ],
   "source": [
    "plt.clf()\n",
    "fig=plt.figure(figsize=(10,8))\n",
    "plt.scatter(\n",
    "    x = emb_df.iloc[:,0],\n",
    "    y = emb_df.iloc[:,1],\n",
    "    s = 0.2\n",
    ")\n",
    "plt.show()\n"
   ]
  },
  {
   "cell_type": "markdown",
   "id": "d9f5c8e4-d4d0-4f94-ad4d-434bea8ad416",
   "metadata": {},
   "source": [
    "### PCA"
   ]
  },
  {
   "cell_type": "code",
   "execution_count": 11,
   "id": "31b5e489-eaaf-441b-a1fb-dc97db9bc6b2",
   "metadata": {},
   "outputs": [],
   "source": [
    "pca = PCA(n_components = 2, random_state = 7)\n",
    "pca_mdl = pca.fit_transform(emb_df)"
   ]
  },
  {
   "cell_type": "code",
   "execution_count": 12,
   "id": "bd76ee12-eb70-4ab5-bb7a-a9f245c48baf",
   "metadata": {},
   "outputs": [
    {
     "data": {
      "text/plain": [
       "[]"
      ]
     },
     "execution_count": 12,
     "metadata": {},
     "output_type": "execute_result"
    },
    {
     "data": {
      "text/plain": [
       "<Figure size 432x288 with 0 Axes>"
      ]
     },
     "metadata": {},
     "output_type": "display_data"
    },
    {
     "data": {
      "image/png": "[encoded data removed]",
      "text/plain": [
       "<Figure size 432x288 with 1 Axes>"
      ]
     },
     "metadata": {
      "needs_background": "light"
     },
     "output_type": "display_data"
    }
   ],
   "source": [
    "emb_df_PCA = (\n",
    "    pd.DataFrame(\n",
    "        pca_mdl,\n",
    "        columns=['x','y'],\n",
    "        index = emb_df.index\n",
    "    )\n",
    ")\n",
    "plt.clf()\n",
    "fig = plt.figure(figsize=(6,4))\n",
    "plt.scatter(\n",
    "    x = emb_df_PCA['x'],\n",
    "    y = emb_df_PCA['y'],\n",
    "    s = 0.4,\n",
    "    color = 'maroon',\n",
    "    alpha = 0.5\n",
    ")\n",
    "plt.xlabel('PCA-1')\n",
    "plt.ylabel('PCA-2')\n",
    "plt.title('PCA Visualization')\n",
    "plt.plot()"
   ]
  },
  {
   "cell_type": "code",
   "execution_count": 14,
   "id": "0ec62926-4604-49ef-a3fd-1d6fe23e0577",
   "metadata": {},
   "outputs": [],
   "source": []
  },
  {
   "cell_type": "code",
   "execution_count": 19,
   "id": "beb40063-e7f0-4004-9618-56278a7bad17",
   "metadata": {},
   "outputs": [
    {
     "data": {
      "text/plain": [
       "<seaborn.axisgrid.PairGrid at 0x7fe043bb8190>"
      ]
     },
     "execution_count": 19,
     "metadata": {},
     "output_type": "execute_result"
    },
    {
     "data": {
      "image/png": "[encoded data removed]",
      "text/plain": [
       "<Figure size 360x360 with 6 Axes>"
      ]
     },
     "metadata": {},
     "output_type": "display_data"
    }
   ],
   "source": [
    "sns.pairplot(emb_df_PCA)"
   ]
  },
  {
   "cell_type": "code",
   "execution_count": null,
   "id": "6d933882-a970-471d-80c6-3584afcd52a0",
   "metadata": {},
   "outputs": [
    {
     "data": {
      "text/plain": [
       "<seaborn.axisgrid.PairGrid at 0x7fe043d24d90>"
      ]
     },
     "execution_count": 20,
     "metadata": {},
     "output_type": "execute_result"
    }
   ],
   "source": [
    "sns.pairplot(emb_df)"
   ]
  },
  {
   "cell_type": "code",
   "execution_count": null,
   "id": "7d46e028-a479-4baa-b6b2-9cfbe17ae7a1",
   "metadata": {},
   "outputs": [],
   "source": []
  }
 ],
 "metadata": {
  "kernelspec": {
   "display_name": "Python 3",
   "language": "python",
   "name": "python3"
  },
  "language_info": {
   "codemirror_mode": {
    "name": "ipython",
    "version": 3
   },
   "file_extension": ".py",
   "mimetype": "text/x-python",
   "name": "python",
   "nbconvert_exporter": "python",
   "pygments_lexer": "ipython3",
   "version": "3.8.8"
  }
 },
 "nbformat": 4,
 "nbformat_minor": 5
}
