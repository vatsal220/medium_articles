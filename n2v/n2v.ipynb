{
 "cells": [
  {
   "cell_type": "markdown",
   "id": "7dcf55e7-d889-4e45-91e8-a546dbdfebed",
   "metadata": {},
   "source": [
    "# Node2Vec"
   ]
  },
  {
   "cell_type": "code",
   "execution_count": 1,
   "id": "b89935dd-b7ba-4588-a463-9802d10a1f2e",
   "metadata": {},
   "outputs": [],
   "source": [
    "\"\"\"\n",
    "@author: vatsal\n",
    "\"\"\"\n",
    "\n",
    "import networkx as nx\n",
    "import pandas as pd\n",
    "import random\n",
    "import matplotlib.pyplot as plt\n",
    "\n",
    "from node2vec import Node2Vec as n2v\n",
    "from itertools import combinations, groupby"
   ]
  },
  {
   "cell_type": "markdown",
   "id": "521bfe85-16ba-40c5-867e-fb9e1a944e9c",
   "metadata": {},
   "source": [
    "## Generate Data"
   ]
  },
  {
   "cell_type": "markdown",
   "id": "1dd7e2b8-fa97-4f8c-aff7-cfd93272f587",
   "metadata": {},
   "source": [
    "## Create Graph"
   ]
  },
  {
   "cell_type": "code",
   "execution_count": 2,
   "id": "f177108f-2a2d-4672-84d7-5f6f257d01ad",
   "metadata": {},
   "outputs": [],
   "source": [
    "def generate_graph(n, p, dt = nx.MultiGraph()):\n",
    "    '''\n",
    "    This function will generate a graph G based on the users input parameters\n",
    "    \n",
    "    params:\n",
    "        n (Integer) : The number of nodes you would like in the graph\n",
    "        p (Float) : The probability of adding an edge between nodes\n",
    "        dt (Function) : The type of the graph you want to create\n",
    "    '''\n",
    "    edges = combinations(range(n), 2)\n",
    "    G = dt\n",
    "    G.add_nodes_from(range(n))\n",
    "    \n",
    "    if p <= 0:\n",
    "        return G\n",
    "    elif p >= 1:\n",
    "        return nx.complete_graph(n, create_using = G)\n",
    "    else:\n",
    "        for _, ne in groupby(edges, key = lambda x : x[0]):\n",
    "            ne = list(ne)\n",
    "            re = random.choice(ne)\n",
    "            G.add_edge(*re)\n",
    "            for e in ne:\n",
    "                if random.random() < p:\n",
    "                    G.add_edge(*e)\n",
    "    return G"
   ]
  },
  {
   "cell_type": "code",
   "execution_count": 3,
   "id": "ee577b31-349f-485d-95f4-5ac7d45e8603",
   "metadata": {},
   "outputs": [],
   "source": [
    "G = generate_graph(n = 1000, p = 0.2, dt = nx.MultiGraph())"
   ]
  },
  {
   "cell_type": "code",
   "execution_count": 4,
   "id": "f591163e-f0e2-4a61-81fb-0d48b4a0e864",
   "metadata": {},
   "outputs": [
    {
     "name": "stdout",
     "output_type": "stream",
     "text": [
      "Name: \n",
      "Type: MultiGraph\n",
      "Number of nodes: 1000\n",
      "Number of edges: 100703\n",
      "Average degree: 201.4060\n"
     ]
    }
   ],
   "source": [
    "print(nx.info(G))"
   ]
  },
  {
   "cell_type": "markdown",
   "id": "28a00881-ab1c-4d27-8296-2d3d664b3b6c",
   "metadata": {},
   "source": [
    "## Node2Vec"
   ]
  },
  {
   "cell_type": "markdown",
   "id": "4bbfe2e0-e003-40f0-8186-f8cd9b91071b",
   "metadata": {},
   "source": [
    "**Parameter Info**  \n",
    "- graph: a graph g, where all nodes must be integers or strings  \n",
    "- dimensions: embedding dimensions (default: 128)  \n",
    "- walk_length: number of nodes in each walk (default: 80)  \n",
    "- num_walks: number of walks per node (default: 10)  \n",
    "- weight_key: the key for the weight attribute on weighted graphs (default: 'weight')  \n",
    "- workers: number of workers for parallel execution (default: 1)\n",
    "\n",
    "Node2Vec.fit method: Accepts any key word argument acceptable by gensim.Word2Vec"
   ]
  },
  {
   "cell_type": "code",
   "execution_count": 5,
   "id": "66fc362d-49c4-4c4b-b255-5989bee553ea",
   "metadata": {},
   "outputs": [
    {
     "data": {
      "application/vnd.jupyter.widget-view+json": {
       "model_id": "2949c9dd221341a381055d01279ae6f8",
       "version_major": 2,
       "version_minor": 0
      },
      "text/plain": [
       "Computing transition probabilities:   0%|          | 0/1000 [00:00<?, ?it/s]"
      ]
     },
     "metadata": {},
     "output_type": "display_data"
    },
    {
     "name": "stderr",
     "output_type": "stream",
     "text": [
      "Generating walks (CPU: 1): 100%|██████████| 10/10 [00:26<00:00,  2.69s/it]"
     ]
    },
    {
     "name": "stdout",
     "output_type": "stream",
     "text": [
      "CPU times: user 2min 1s, sys: 866 ms, total: 2min 2s\n",
      "Wall time: 2min 2s\n"
     ]
    },
    {
     "name": "stderr",
     "output_type": "stream",
     "text": [
      "\n"
     ]
    }
   ],
   "source": [
    "%time g_emb = n2v(G, dimensions=16, weight_key='weight')"
   ]
  },
  {
   "cell_type": "code",
   "execution_count": 6,
   "id": "b5fb562c-9146-4ef6-b6c0-805c6cd45844",
   "metadata": {},
   "outputs": [],
   "source": [
    "WINDOW = 1 # Node2Vec fit window\n",
    "MIN_COUNT = 1 # Node2Vec min. count\n",
    "BATCH_WORDS = 4 # Node2Vec batch words"
   ]
  },
  {
   "cell_type": "code",
   "execution_count": 7,
   "id": "72db7100-9439-4335-80d6-db54aa17573a",
   "metadata": {},
   "outputs": [],
   "source": [
    "mdl = g_emb.fit(\n",
    "    window=WINDOW,\n",
    "    min_count=MIN_COUNT,\n",
    "    batch_words=BATCH_WORDS\n",
    ")"
   ]
  },
  {
   "cell_type": "markdown",
   "id": "bed245ac-7e5e-4cae-a680-d54dd7fc85ae",
   "metadata": {},
   "source": [
    "## Convert to DataFrame"
   ]
  },
  {
   "cell_type": "code",
   "execution_count": 8,
   "id": "a71a8b67-c6ca-43c0-910c-f78963a2b226",
   "metadata": {},
   "outputs": [],
   "source": [
    "emb_df = (\n",
    "    pd.DataFrame(\n",
    "        [mdl.wv.get_vector(str(n)) for n in G.nodes()],\n",
    "        index = G.nodes\n",
    "    )\n",
    ")"
   ]
  },
  {
   "cell_type": "code",
   "execution_count": 9,
   "id": "c160b83c-d44c-4a40-80c7-7ff88b58e816",
   "metadata": {},
   "outputs": [
    {
     "data": {
      "text/html": [
       "<div>\n",
       "<style scoped>\n",
       "    .dataframe tbody tr th:only-of-type {\n",
       "        vertical-align: middle;\n",
       "    }\n",
       "\n",
       "    .dataframe tbody tr th {\n",
       "        vertical-align: top;\n",
       "    }\n",
       "\n",
       "    .dataframe thead th {\n",
       "        text-align: right;\n",
       "    }\n",
       "</style>\n",
       "<table border=\"1\" class=\"dataframe\">\n",
       "  <thead>\n",
       "    <tr style=\"text-align: right;\">\n",
       "      <th></th>\n",
       "      <th>1</th>\n",
       "      <th>2</th>\n",
       "      <th>3</th>\n",
       "      <th>4</th>\n",
       "      <th>5</th>\n",
       "      <th>6</th>\n",
       "      <th>7</th>\n",
       "      <th>8</th>\n",
       "      <th>9</th>\n",
       "      <th>10</th>\n",
       "      <th>11</th>\n",
       "      <th>12</th>\n",
       "      <th>13</th>\n",
       "      <th>14</th>\n",
       "      <th>15</th>\n",
       "    </tr>\n",
       "  </thead>\n",
       "  <tbody>\n",
       "    <tr>\n",
       "      <th>0</th>\n",
       "      <td>-0.226502</td>\n",
       "      <td>-0.211847</td>\n",
       "      <td>0.644111</td>\n",
       "      <td>-0.358611</td>\n",
       "      <td>0.148104</td>\n",
       "      <td>-0.014680</td>\n",
       "      <td>-0.220751</td>\n",
       "      <td>-0.110541</td>\n",
       "      <td>-0.027361</td>\n",
       "      <td>-0.255105</td>\n",
       "      <td>0.086395</td>\n",
       "      <td>-0.202727</td>\n",
       "      <td>-0.557303</td>\n",
       "      <td>0.658026</td>\n",
       "      <td>1.226859</td>\n",
       "    </tr>\n",
       "    <tr>\n",
       "      <th>1</th>\n",
       "      <td>0.391921</td>\n",
       "      <td>-0.573143</td>\n",
       "      <td>0.476740</td>\n",
       "      <td>0.279696</td>\n",
       "      <td>0.784906</td>\n",
       "      <td>0.574834</td>\n",
       "      <td>-0.404991</td>\n",
       "      <td>-0.424174</td>\n",
       "      <td>0.512730</td>\n",
       "      <td>0.163914</td>\n",
       "      <td>-0.135566</td>\n",
       "      <td>0.506348</td>\n",
       "      <td>-0.205397</td>\n",
       "      <td>-0.043155</td>\n",
       "      <td>0.679659</td>\n",
       "    </tr>\n",
       "    <tr>\n",
       "      <th>2</th>\n",
       "      <td>0.376249</td>\n",
       "      <td>0.415336</td>\n",
       "      <td>0.535406</td>\n",
       "      <td>0.183781</td>\n",
       "      <td>0.182102</td>\n",
       "      <td>-0.664114</td>\n",
       "      <td>-0.188033</td>\n",
       "      <td>-0.353186</td>\n",
       "      <td>-0.376917</td>\n",
       "      <td>0.008736</td>\n",
       "      <td>0.067576</td>\n",
       "      <td>0.255571</td>\n",
       "      <td>-0.340943</td>\n",
       "      <td>0.631104</td>\n",
       "      <td>0.561723</td>\n",
       "    </tr>\n",
       "    <tr>\n",
       "      <th>3</th>\n",
       "      <td>-0.396323</td>\n",
       "      <td>0.115208</td>\n",
       "      <td>0.346808</td>\n",
       "      <td>0.262662</td>\n",
       "      <td>0.749367</td>\n",
       "      <td>-0.104065</td>\n",
       "      <td>-0.824087</td>\n",
       "      <td>-0.570808</td>\n",
       "      <td>-0.016596</td>\n",
       "      <td>-0.499936</td>\n",
       "      <td>-0.106407</td>\n",
       "      <td>-0.404643</td>\n",
       "      <td>-0.322290</td>\n",
       "      <td>-0.248379</td>\n",
       "      <td>0.332692</td>\n",
       "    </tr>\n",
       "    <tr>\n",
       "      <th>4</th>\n",
       "      <td>-0.208156</td>\n",
       "      <td>-0.196942</td>\n",
       "      <td>0.237939</td>\n",
       "      <td>0.325842</td>\n",
       "      <td>0.198640</td>\n",
       "      <td>-0.043904</td>\n",
       "      <td>-0.430298</td>\n",
       "      <td>-0.056992</td>\n",
       "      <td>0.005844</td>\n",
       "      <td>0.176740</td>\n",
       "      <td>-0.039079</td>\n",
       "      <td>0.103578</td>\n",
       "      <td>-0.282276</td>\n",
       "      <td>0.133959</td>\n",
       "      <td>0.482354</td>\n",
       "    </tr>\n",
       "    <tr>\n",
       "      <th>...</th>\n",
       "      <td>...</td>\n",
       "      <td>...</td>\n",
       "      <td>...</td>\n",
       "      <td>...</td>\n",
       "      <td>...</td>\n",
       "      <td>...</td>\n",
       "      <td>...</td>\n",
       "      <td>...</td>\n",
       "      <td>...</td>\n",
       "      <td>...</td>\n",
       "      <td>...</td>\n",
       "      <td>...</td>\n",
       "      <td>...</td>\n",
       "      <td>...</td>\n",
       "      <td>...</td>\n",
       "    </tr>\n",
       "    <tr>\n",
       "      <th>995</th>\n",
       "      <td>-0.500024</td>\n",
       "      <td>0.046386</td>\n",
       "      <td>0.577496</td>\n",
       "      <td>0.771788</td>\n",
       "      <td>-0.170868</td>\n",
       "      <td>-0.476977</td>\n",
       "      <td>-0.454487</td>\n",
       "      <td>-0.181476</td>\n",
       "      <td>0.522834</td>\n",
       "      <td>0.021548</td>\n",
       "      <td>-0.117279</td>\n",
       "      <td>0.106316</td>\n",
       "      <td>-0.724775</td>\n",
       "      <td>-0.023176</td>\n",
       "      <td>0.174362</td>\n",
       "    </tr>\n",
       "    <tr>\n",
       "      <th>996</th>\n",
       "      <td>-0.321921</td>\n",
       "      <td>0.292105</td>\n",
       "      <td>0.241259</td>\n",
       "      <td>0.124347</td>\n",
       "      <td>0.280910</td>\n",
       "      <td>0.131588</td>\n",
       "      <td>-0.408095</td>\n",
       "      <td>-0.117774</td>\n",
       "      <td>-0.235937</td>\n",
       "      <td>0.513188</td>\n",
       "      <td>0.393203</td>\n",
       "      <td>0.084254</td>\n",
       "      <td>-0.645338</td>\n",
       "      <td>0.919866</td>\n",
       "      <td>0.562015</td>\n",
       "    </tr>\n",
       "    <tr>\n",
       "      <th>997</th>\n",
       "      <td>-0.401122</td>\n",
       "      <td>0.478717</td>\n",
       "      <td>0.346187</td>\n",
       "      <td>-0.134456</td>\n",
       "      <td>0.894483</td>\n",
       "      <td>-0.373294</td>\n",
       "      <td>0.097073</td>\n",
       "      <td>-0.090185</td>\n",
       "      <td>0.274100</td>\n",
       "      <td>1.112041</td>\n",
       "      <td>0.075864</td>\n",
       "      <td>-0.040018</td>\n",
       "      <td>-0.159505</td>\n",
       "      <td>0.508538</td>\n",
       "      <td>0.194977</td>\n",
       "    </tr>\n",
       "    <tr>\n",
       "      <th>998</th>\n",
       "      <td>-0.452997</td>\n",
       "      <td>0.086729</td>\n",
       "      <td>0.332732</td>\n",
       "      <td>0.651461</td>\n",
       "      <td>-0.064761</td>\n",
       "      <td>-0.428211</td>\n",
       "      <td>-0.400554</td>\n",
       "      <td>-0.326055</td>\n",
       "      <td>0.149431</td>\n",
       "      <td>0.205122</td>\n",
       "      <td>-0.289352</td>\n",
       "      <td>-0.026052</td>\n",
       "      <td>-0.550845</td>\n",
       "      <td>0.637100</td>\n",
       "      <td>0.056229</td>\n",
       "    </tr>\n",
       "    <tr>\n",
       "      <th>999</th>\n",
       "      <td>-0.462132</td>\n",
       "      <td>-0.091663</td>\n",
       "      <td>0.072652</td>\n",
       "      <td>0.355942</td>\n",
       "      <td>0.545904</td>\n",
       "      <td>-0.036712</td>\n",
       "      <td>0.350436</td>\n",
       "      <td>-0.399468</td>\n",
       "      <td>0.276725</td>\n",
       "      <td>0.566219</td>\n",
       "      <td>-0.091274</td>\n",
       "      <td>0.530581</td>\n",
       "      <td>-0.047372</td>\n",
       "      <td>0.123856</td>\n",
       "      <td>0.938832</td>\n",
       "    </tr>\n",
       "  </tbody>\n",
       "</table>\n",
       "<p>1000 rows × 15 columns</p>\n",
       "</div>"
      ],
      "text/plain": [
       "           1         2         3         4         5         6         7   \\\n",
       "0   -0.226502 -0.211847  0.644111 -0.358611  0.148104 -0.014680 -0.220751   \n",
       "1    0.391921 -0.573143  0.476740  0.279696  0.784906  0.574834 -0.404991   \n",
       "2    0.376249  0.415336  0.535406  0.183781  0.182102 -0.664114 -0.188033   \n",
       "3   -0.396323  0.115208  0.346808  0.262662  0.749367 -0.104065 -0.824087   \n",
       "4   -0.208156 -0.196942  0.237939  0.325842  0.198640 -0.043904 -0.430298   \n",
       "..        ...       ...       ...       ...       ...       ...       ...   \n",
       "995 -0.500024  0.046386  0.577496  0.771788 -0.170868 -0.476977 -0.454487   \n",
       "996 -0.321921  0.292105  0.241259  0.124347  0.280910  0.131588 -0.408095   \n",
       "997 -0.401122  0.478717  0.346187 -0.134456  0.894483 -0.373294  0.097073   \n",
       "998 -0.452997  0.086729  0.332732  0.651461 -0.064761 -0.428211 -0.400554   \n",
       "999 -0.462132 -0.091663  0.072652  0.355942  0.545904 -0.036712  0.350436   \n",
       "\n",
       "           8         9         10        11        12        13        14  \\\n",
       "0   -0.110541 -0.027361 -0.255105  0.086395 -0.202727 -0.557303  0.658026   \n",
       "1   -0.424174  0.512730  0.163914 -0.135566  0.506348 -0.205397 -0.043155   \n",
       "2   -0.353186 -0.376917  0.008736  0.067576  0.255571 -0.340943  0.631104   \n",
       "3   -0.570808 -0.016596 -0.499936 -0.106407 -0.404643 -0.322290 -0.248379   \n",
       "4   -0.056992  0.005844  0.176740 -0.039079  0.103578 -0.282276  0.133959   \n",
       "..        ...       ...       ...       ...       ...       ...       ...   \n",
       "995 -0.181476  0.522834  0.021548 -0.117279  0.106316 -0.724775 -0.023176   \n",
       "996 -0.117774 -0.235937  0.513188  0.393203  0.084254 -0.645338  0.919866   \n",
       "997 -0.090185  0.274100  1.112041  0.075864 -0.040018 -0.159505  0.508538   \n",
       "998 -0.326055  0.149431  0.205122 -0.289352 -0.026052 -0.550845  0.637100   \n",
       "999 -0.399468  0.276725  0.566219 -0.091274  0.530581 -0.047372  0.123856   \n",
       "\n",
       "           15  \n",
       "0    1.226859  \n",
       "1    0.679659  \n",
       "2    0.561723  \n",
       "3    0.332692  \n",
       "4    0.482354  \n",
       "..        ...  \n",
       "995  0.174362  \n",
       "996  0.562015  \n",
       "997  0.194977  \n",
       "998  0.056229  \n",
       "999  0.938832  \n",
       "\n",
       "[1000 rows x 15 columns]"
      ]
     },
     "execution_count": 9,
     "metadata": {},
     "output_type": "execute_result"
    }
   ],
   "source": [
    "emb_df.iloc[:,1:]"
   ]
  },
  {
   "cell_type": "markdown",
   "id": "d03f37ce-9864-437c-bf5d-36855144ad21",
   "metadata": {},
   "source": [
    "### Visualize Embedding"
   ]
  },
  {
   "cell_type": "code",
   "execution_count": 10,
   "id": "ae379dd9-9399-4eb9-8253-53635297e9b8",
   "metadata": {},
   "outputs": [
    {
     "data": {
      "text/plain": [
       "<Figure size 432x288 with 0 Axes>"
      ]
     },
     "metadata": {},
     "output_type": "display_data"
    },
    {
     "data": {
      "image/png": "[encoded data removed]",
      "text/plain": [
       "<Figure size 720x576 with 1 Axes>"
      ]
     },
     "metadata": {
      "needs_background": "light"
     },
     "output_type": "display_data"
    }
   ],
   "source": [
    "plt.clf()\n",
    "fig=plt.figure(figsize=(10,8))\n",
    "plt.scatter(\n",
    "    x = emb_df.iloc[:,0],\n",
    "    y = emb_df.iloc[:,1],\n",
    "    s = 0.2\n",
    ")\n",
    "plt.show()\n"
   ]
  },
  {
   "cell_type": "code",
   "execution_count": null,
   "id": "5214eb19-db88-40f4-8afd-9436a3a82466",
   "metadata": {},
   "outputs": [],
   "source": []
  }
 ],
 "metadata": {
  "kernelspec": {
   "display_name": "Python 3",
   "language": "python",
   "name": "python3"
  },
  "language_info": {
   "codemirror_mode": {
    "name": "ipython",
    "version": 3
   },
   "file_extension": ".py",
   "mimetype": "text/x-python",
   "name": "python",
   "nbconvert_exporter": "python",
   "pygments_lexer": "ipython3",
   "version": "3.8.8"
  }
 },
 "nbformat": 4,
 "nbformat_minor": 5
}
