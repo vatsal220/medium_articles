{
 "cells": [
  {
   "cell_type": "markdown",
   "id": "7dcf55e7-d889-4e45-91e8-a546dbdfebed",
   "metadata": {},
   "source": [
    "# Node2Vec"
   ]
  },
  {
   "cell_type": "code",
   "execution_count": 1,
   "id": "b89935dd-b7ba-4588-a463-9802d10a1f2e",
   "metadata": {},
   "outputs": [],
   "source": [
    "\"\"\"\n",
    "@author: vatsal\n",
    "\"\"\"\n",
    "\n",
    "import networkx as nx\n",
    "import pandas as pd\n",
    "import random\n",
    "import matplotlib.pyplot as plt\n",
    "\n",
    "from node2vec import Node2Vec as n2v\n",
    "from itertools import combinations, groupby"
   ]
  },
  {
   "cell_type": "markdown",
   "id": "521bfe85-16ba-40c5-867e-fb9e1a944e9c",
   "metadata": {},
   "source": [
    "## Generate Data"
   ]
  },
  {
   "cell_type": "markdown",
   "id": "1dd7e2b8-fa97-4f8c-aff7-cfd93272f587",
   "metadata": {},
   "source": [
    "## Create Graph"
   ]
  },
  {
   "cell_type": "code",
   "execution_count": 2,
   "id": "f177108f-2a2d-4672-84d7-5f6f257d01ad",
   "metadata": {},
   "outputs": [],
   "source": [
    "def generate_graph(n, p, dt = nx.MultiGraph()):\n",
    "    '''\n",
    "    This function will generate a graph G based on the users input parameters\n",
    "    \n",
    "    params:\n",
    "        n (Integer) : The number of nodes you would like in the graph\n",
    "        p (Float) : The probability of adding an edge between nodes\n",
    "        dt (Function) : The type of the graph you want to create\n",
    "    '''\n",
    "    edges = combinations(range(n), 2)\n",
    "    G = dt\n",
    "    G.add_nodes_from(range(n))\n",
    "    \n",
    "    if p <= 0:\n",
    "        return G\n",
    "    elif p >= 1:\n",
    "        return nx.complete_graph(n, create_using = G)\n",
    "    else:\n",
    "        for _, ne in groupby(edges, key = lambda x : x[0]):\n",
    "            ne = list(ne)\n",
    "            re = random.choice(ne)\n",
    "            G.add_edge(*re)\n",
    "            for e in ne:\n",
    "                if random.random() < p:\n",
    "                    G.add_edge(*e)\n",
    "    return G"
   ]
  },
  {
   "cell_type": "code",
   "execution_count": 3,
   "id": "ee577b31-349f-485d-95f4-5ac7d45e8603",
   "metadata": {},
   "outputs": [],
   "source": [
    "G = generate_graph(n = 1000, p = 0.2, dt = nx.MultiGraph())"
   ]
  },
  {
   "cell_type": "code",
   "execution_count": 4,
   "id": "f591163e-f0e2-4a61-81fb-0d48b4a0e864",
   "metadata": {},
   "outputs": [
    {
     "name": "stdout",
     "output_type": "stream",
     "text": [
      "Name: \n",
      "Type: MultiGraph\n",
      "Number of nodes: 1000\n",
      "Number of edges: 101175\n",
      "Average degree: 202.3500\n"
     ]
    }
   ],
   "source": [
    "print(nx.info(G))"
   ]
  },
  {
   "cell_type": "markdown",
   "id": "28a00881-ab1c-4d27-8296-2d3d664b3b6c",
   "metadata": {},
   "source": [
    "## Node2Vec"
   ]
  },
  {
   "cell_type": "markdown",
   "id": "4bbfe2e0-e003-40f0-8186-f8cd9b91071b",
   "metadata": {},
   "source": [
    "**Parameter Info**  \n",
    "- graph: a graph g, where all nodes must be integers or strings  \n",
    "- dimensions: embedding dimensions (default: 128)  \n",
    "- walk_length: number of nodes in each walk (default: 80)  \n",
    "- num_walks: number of walks per node (default: 10)  \n",
    "- weight_key: the key for the weight attribute on weighted graphs (default: 'weight')  \n",
    "- workers: number of workers for parallel execution (default: 1)\n",
    "\n",
    "Node2Vec.fit method: Accepts any key word argument acceptable by gensim.Word2Vec"
   ]
  },
  {
   "cell_type": "code",
   "execution_count": 5,
   "id": "66fc362d-49c4-4c4b-b255-5989bee553ea",
   "metadata": {},
   "outputs": [
    {
     "data": {
      "application/vnd.jupyter.widget-view+json": {
       "model_id": "cb45cb5a3a9743a284bacd2d6aaaa2be",
       "version_major": 2,
       "version_minor": 0
      },
      "text/plain": [
       "Computing transition probabilities:   0%|          | 0/1000 [00:00<?, ?it/s]"
      ]
     },
     "metadata": {},
     "output_type": "display_data"
    },
    {
     "name": "stderr",
     "output_type": "stream",
     "text": [
      "Generating walks (CPU: 1): 100%|██████████| 10/10 [00:27<00:00,  2.76s/it]"
     ]
    },
    {
     "name": "stdout",
     "output_type": "stream",
     "text": [
      "CPU times: user 2min 4s, sys: 1.38 s, total: 2min 6s\n",
      "Wall time: 2min 7s\n"
     ]
    },
    {
     "name": "stderr",
     "output_type": "stream",
     "text": [
      "\n"
     ]
    }
   ],
   "source": [
    "%time g_emb = n2v(G, dimensions=16, weight_key='weight')"
   ]
  },
  {
   "cell_type": "code",
   "execution_count": 6,
   "id": "b5fb562c-9146-4ef6-b6c0-805c6cd45844",
   "metadata": {},
   "outputs": [],
   "source": [
    "WINDOW = 1 # Node2Vec fit window\n",
    "MIN_COUNT = 1 # Node2Vec min. count\n",
    "BATCH_WORDS = 4 # Node2Vec batch words"
   ]
  },
  {
   "cell_type": "code",
   "execution_count": 7,
   "id": "72db7100-9439-4335-80d6-db54aa17573a",
   "metadata": {},
   "outputs": [],
   "source": [
    "mdl = g_emb.fit(\n",
    "    window=WINDOW,\n",
    "    min_count=MIN_COUNT,\n",
    "    batch_words=BATCH_WORDS\n",
    ")"
   ]
  },
  {
   "cell_type": "markdown",
   "id": "bed245ac-7e5e-4cae-a680-d54dd7fc85ae",
   "metadata": {},
   "source": [
    "## Convert to DataFrame"
   ]
  },
  {
   "cell_type": "code",
   "execution_count": 8,
   "id": "a71a8b67-c6ca-43c0-910c-f78963a2b226",
   "metadata": {},
   "outputs": [],
   "source": [
    "emb_df = (\n",
    "    pd.DataFrame(\n",
    "        [mdl.wv.get_vector(str(n)) for n in G.nodes()],\n",
    "        index = G.nodes\n",
    "    )\n",
    ")"
   ]
  },
  {
   "cell_type": "code",
   "execution_count": 9,
   "id": "c160b83c-d44c-4a40-80c7-7ff88b58e816",
   "metadata": {},
   "outputs": [
    {
     "data": {
      "text/html": [
       "<div>\n",
       "<style scoped>\n",
       "    .dataframe tbody tr th:only-of-type {\n",
       "        vertical-align: middle;\n",
       "    }\n",
       "\n",
       "    .dataframe tbody tr th {\n",
       "        vertical-align: top;\n",
       "    }\n",
       "\n",
       "    .dataframe thead th {\n",
       "        text-align: right;\n",
       "    }\n",
       "</style>\n",
       "<table border=\"1\" class=\"dataframe\">\n",
       "  <thead>\n",
       "    <tr style=\"text-align: right;\">\n",
       "      <th></th>\n",
       "      <th>1</th>\n",
       "      <th>2</th>\n",
       "      <th>3</th>\n",
       "      <th>4</th>\n",
       "      <th>5</th>\n",
       "      <th>6</th>\n",
       "      <th>7</th>\n",
       "      <th>8</th>\n",
       "      <th>9</th>\n",
       "      <th>10</th>\n",
       "      <th>11</th>\n",
       "      <th>12</th>\n",
       "      <th>13</th>\n",
       "      <th>14</th>\n",
       "      <th>15</th>\n",
       "    </tr>\n",
       "  </thead>\n",
       "  <tbody>\n",
       "    <tr>\n",
       "      <th>0</th>\n",
       "      <td>-0.447684</td>\n",
       "      <td>0.011902</td>\n",
       "      <td>0.105182</td>\n",
       "      <td>0.423308</td>\n",
       "      <td>0.041917</td>\n",
       "      <td>0.253975</td>\n",
       "      <td>-0.158720</td>\n",
       "      <td>-0.249613</td>\n",
       "      <td>0.219122</td>\n",
       "      <td>-0.236945</td>\n",
       "      <td>-0.688231</td>\n",
       "      <td>0.634782</td>\n",
       "      <td>0.177383</td>\n",
       "      <td>0.703375</td>\n",
       "      <td>0.866337</td>\n",
       "    </tr>\n",
       "    <tr>\n",
       "      <th>1</th>\n",
       "      <td>0.298273</td>\n",
       "      <td>0.338018</td>\n",
       "      <td>0.239846</td>\n",
       "      <td>0.672741</td>\n",
       "      <td>0.021200</td>\n",
       "      <td>0.110744</td>\n",
       "      <td>-0.366014</td>\n",
       "      <td>-0.902203</td>\n",
       "      <td>0.088362</td>\n",
       "      <td>0.450594</td>\n",
       "      <td>0.253599</td>\n",
       "      <td>0.614570</td>\n",
       "      <td>-0.365115</td>\n",
       "      <td>0.397191</td>\n",
       "      <td>0.283971</td>\n",
       "    </tr>\n",
       "    <tr>\n",
       "      <th>2</th>\n",
       "      <td>0.105705</td>\n",
       "      <td>-0.254472</td>\n",
       "      <td>0.657703</td>\n",
       "      <td>0.129948</td>\n",
       "      <td>0.465816</td>\n",
       "      <td>0.374454</td>\n",
       "      <td>-0.128367</td>\n",
       "      <td>-0.321824</td>\n",
       "      <td>-0.489336</td>\n",
       "      <td>-0.354999</td>\n",
       "      <td>0.133337</td>\n",
       "      <td>-0.208740</td>\n",
       "      <td>-0.057268</td>\n",
       "      <td>0.448898</td>\n",
       "      <td>0.728145</td>\n",
       "    </tr>\n",
       "    <tr>\n",
       "      <th>3</th>\n",
       "      <td>-0.158674</td>\n",
       "      <td>0.247631</td>\n",
       "      <td>0.311516</td>\n",
       "      <td>0.621764</td>\n",
       "      <td>0.528336</td>\n",
       "      <td>-0.483104</td>\n",
       "      <td>-0.100635</td>\n",
       "      <td>-0.339950</td>\n",
       "      <td>0.342019</td>\n",
       "      <td>0.419711</td>\n",
       "      <td>0.060602</td>\n",
       "      <td>-0.181430</td>\n",
       "      <td>0.017490</td>\n",
       "      <td>0.201038</td>\n",
       "      <td>0.420852</td>\n",
       "    </tr>\n",
       "    <tr>\n",
       "      <th>4</th>\n",
       "      <td>-0.619447</td>\n",
       "      <td>-0.298463</td>\n",
       "      <td>0.054491</td>\n",
       "      <td>0.511853</td>\n",
       "      <td>0.503368</td>\n",
       "      <td>-0.100878</td>\n",
       "      <td>-0.528908</td>\n",
       "      <td>0.046738</td>\n",
       "      <td>-0.077342</td>\n",
       "      <td>0.510184</td>\n",
       "      <td>-0.325671</td>\n",
       "      <td>0.096050</td>\n",
       "      <td>-0.267053</td>\n",
       "      <td>1.235905</td>\n",
       "      <td>0.091948</td>\n",
       "    </tr>\n",
       "    <tr>\n",
       "      <th>...</th>\n",
       "      <td>...</td>\n",
       "      <td>...</td>\n",
       "      <td>...</td>\n",
       "      <td>...</td>\n",
       "      <td>...</td>\n",
       "      <td>...</td>\n",
       "      <td>...</td>\n",
       "      <td>...</td>\n",
       "      <td>...</td>\n",
       "      <td>...</td>\n",
       "      <td>...</td>\n",
       "      <td>...</td>\n",
       "      <td>...</td>\n",
       "      <td>...</td>\n",
       "      <td>...</td>\n",
       "    </tr>\n",
       "    <tr>\n",
       "      <th>995</th>\n",
       "      <td>-0.137689</td>\n",
       "      <td>-0.379294</td>\n",
       "      <td>0.715981</td>\n",
       "      <td>0.659966</td>\n",
       "      <td>0.198017</td>\n",
       "      <td>-0.133022</td>\n",
       "      <td>0.196403</td>\n",
       "      <td>-0.230645</td>\n",
       "      <td>0.316216</td>\n",
       "      <td>0.043188</td>\n",
       "      <td>-0.617628</td>\n",
       "      <td>-0.683840</td>\n",
       "      <td>-0.813172</td>\n",
       "      <td>-0.484542</td>\n",
       "      <td>0.601499</td>\n",
       "    </tr>\n",
       "    <tr>\n",
       "      <th>996</th>\n",
       "      <td>0.242243</td>\n",
       "      <td>-0.523997</td>\n",
       "      <td>0.687770</td>\n",
       "      <td>0.039348</td>\n",
       "      <td>0.286732</td>\n",
       "      <td>0.059742</td>\n",
       "      <td>0.170888</td>\n",
       "      <td>-0.454056</td>\n",
       "      <td>-0.172456</td>\n",
       "      <td>0.051907</td>\n",
       "      <td>0.086089</td>\n",
       "      <td>-0.070928</td>\n",
       "      <td>-0.321144</td>\n",
       "      <td>0.690540</td>\n",
       "      <td>0.375130</td>\n",
       "    </tr>\n",
       "    <tr>\n",
       "      <th>997</th>\n",
       "      <td>0.720454</td>\n",
       "      <td>-0.614276</td>\n",
       "      <td>0.770633</td>\n",
       "      <td>0.229515</td>\n",
       "      <td>0.083094</td>\n",
       "      <td>-0.255641</td>\n",
       "      <td>-0.289503</td>\n",
       "      <td>-0.141286</td>\n",
       "      <td>0.297977</td>\n",
       "      <td>-0.423074</td>\n",
       "      <td>-0.084720</td>\n",
       "      <td>-0.284702</td>\n",
       "      <td>-0.377311</td>\n",
       "      <td>0.396039</td>\n",
       "      <td>0.569815</td>\n",
       "    </tr>\n",
       "    <tr>\n",
       "      <th>998</th>\n",
       "      <td>-0.110148</td>\n",
       "      <td>-0.123362</td>\n",
       "      <td>0.084544</td>\n",
       "      <td>0.538675</td>\n",
       "      <td>0.297475</td>\n",
       "      <td>-0.712419</td>\n",
       "      <td>0.571973</td>\n",
       "      <td>-0.452450</td>\n",
       "      <td>-0.418324</td>\n",
       "      <td>0.590873</td>\n",
       "      <td>-0.372670</td>\n",
       "      <td>0.461144</td>\n",
       "      <td>-0.253952</td>\n",
       "      <td>0.695156</td>\n",
       "      <td>0.678124</td>\n",
       "    </tr>\n",
       "    <tr>\n",
       "      <th>999</th>\n",
       "      <td>-0.458044</td>\n",
       "      <td>0.275698</td>\n",
       "      <td>0.383803</td>\n",
       "      <td>0.454167</td>\n",
       "      <td>0.033055</td>\n",
       "      <td>-0.099449</td>\n",
       "      <td>-0.218869</td>\n",
       "      <td>0.605882</td>\n",
       "      <td>0.211469</td>\n",
       "      <td>-0.020569</td>\n",
       "      <td>-0.064028</td>\n",
       "      <td>-0.527421</td>\n",
       "      <td>-0.678223</td>\n",
       "      <td>0.650759</td>\n",
       "      <td>0.814604</td>\n",
       "    </tr>\n",
       "  </tbody>\n",
       "</table>\n",
       "<p>1000 rows × 15 columns</p>\n",
       "</div>"
      ],
      "text/plain": [
       "           1         2         3         4         5         6         7   \\\n",
       "0   -0.447684  0.011902  0.105182  0.423308  0.041917  0.253975 -0.158720   \n",
       "1    0.298273  0.338018  0.239846  0.672741  0.021200  0.110744 -0.366014   \n",
       "2    0.105705 -0.254472  0.657703  0.129948  0.465816  0.374454 -0.128367   \n",
       "3   -0.158674  0.247631  0.311516  0.621764  0.528336 -0.483104 -0.100635   \n",
       "4   -0.619447 -0.298463  0.054491  0.511853  0.503368 -0.100878 -0.528908   \n",
       "..        ...       ...       ...       ...       ...       ...       ...   \n",
       "995 -0.137689 -0.379294  0.715981  0.659966  0.198017 -0.133022  0.196403   \n",
       "996  0.242243 -0.523997  0.687770  0.039348  0.286732  0.059742  0.170888   \n",
       "997  0.720454 -0.614276  0.770633  0.229515  0.083094 -0.255641 -0.289503   \n",
       "998 -0.110148 -0.123362  0.084544  0.538675  0.297475 -0.712419  0.571973   \n",
       "999 -0.458044  0.275698  0.383803  0.454167  0.033055 -0.099449 -0.218869   \n",
       "\n",
       "           8         9         10        11        12        13        14  \\\n",
       "0   -0.249613  0.219122 -0.236945 -0.688231  0.634782  0.177383  0.703375   \n",
       "1   -0.902203  0.088362  0.450594  0.253599  0.614570 -0.365115  0.397191   \n",
       "2   -0.321824 -0.489336 -0.354999  0.133337 -0.208740 -0.057268  0.448898   \n",
       "3   -0.339950  0.342019  0.419711  0.060602 -0.181430  0.017490  0.201038   \n",
       "4    0.046738 -0.077342  0.510184 -0.325671  0.096050 -0.267053  1.235905   \n",
       "..        ...       ...       ...       ...       ...       ...       ...   \n",
       "995 -0.230645  0.316216  0.043188 -0.617628 -0.683840 -0.813172 -0.484542   \n",
       "996 -0.454056 -0.172456  0.051907  0.086089 -0.070928 -0.321144  0.690540   \n",
       "997 -0.141286  0.297977 -0.423074 -0.084720 -0.284702 -0.377311  0.396039   \n",
       "998 -0.452450 -0.418324  0.590873 -0.372670  0.461144 -0.253952  0.695156   \n",
       "999  0.605882  0.211469 -0.020569 -0.064028 -0.527421 -0.678223  0.650759   \n",
       "\n",
       "           15  \n",
       "0    0.866337  \n",
       "1    0.283971  \n",
       "2    0.728145  \n",
       "3    0.420852  \n",
       "4    0.091948  \n",
       "..        ...  \n",
       "995  0.601499  \n",
       "996  0.375130  \n",
       "997  0.569815  \n",
       "998  0.678124  \n",
       "999  0.814604  \n",
       "\n",
       "[1000 rows x 15 columns]"
      ]
     },
     "execution_count": 9,
     "metadata": {},
     "output_type": "execute_result"
    }
   ],
   "source": [
    "emb_df.iloc[:,1:]"
   ]
  },
  {
   "cell_type": "markdown",
   "id": "d03f37ce-9864-437c-bf5d-36855144ad21",
   "metadata": {},
   "source": [
    "### Visualize Embedding"
   ]
  },
  {
   "cell_type": "code",
   "execution_count": 10,
   "id": "ae379dd9-9399-4eb9-8253-53635297e9b8",
   "metadata": {},
   "outputs": [
    {
     "data": {
      "text/plain": [
       "<Figure size 432x288 with 0 Axes>"
      ]
     },
     "metadata": {},
     "output_type": "display_data"
    },
    {
     "data": {
      "image/png": "[encoded data removed]",
      "text/plain": [
       "<Figure size 720x576 with 1 Axes>"
      ]
     },
     "metadata": {
      "needs_background": "light"
     },
     "output_type": "display_data"
    }
   ],
   "source": [
    "plt.clf()\n",
    "fig=plt.figure(figsize=(10,8))\n",
    "plt.scatter(\n",
    "    x = emb_df.iloc[:,0],\n",
    "    y = emb_df.iloc[:,1],\n",
    "    s = 0.2\n",
    ")\n",
    "plt.show()\n"
   ]
  },
  {
   "cell_type": "code",
   "execution_count": null,
   "id": "36891b1e-2b71-480d-99b7-c14fc7948967",
   "metadata": {},
   "outputs": [],
   "source": []
  },
  {
   "cell_type": "code",
   "execution_count": null,
   "id": "31b5e489-eaaf-441b-a1fb-dc97db9bc6b2",
   "metadata": {},
   "outputs": [],
   "source": []
  }
 ],
 "metadata": {
  "kernelspec": {
   "display_name": "Python 3",
   "language": "python",
   "name": "python3"
  },
  "language_info": {
   "codemirror_mode": {
    "name": "ipython",
    "version": 3
   },
   "file_extension": ".py",
   "mimetype": "text/x-python",
   "name": "python",
   "nbconvert_exporter": "python",
   "pygments_lexer": "ipython3",
   "version": "3.8.8"
  }
 },
 "nbformat": 4,
 "nbformat_minor": 5
}
