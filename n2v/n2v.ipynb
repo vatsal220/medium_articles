{
 "cells": [
  {
   "cell_type": "markdown",
   "id": "7dcf55e7-d889-4e45-91e8-a546dbdfebed",
   "metadata": {},
   "source": [
    "# Node2Vec"
   ]
  },
  {
   "cell_type": "code",
   "execution_count": 1,
   "id": "b89935dd-b7ba-4588-a463-9802d10a1f2e",
   "metadata": {},
   "outputs": [],
   "source": [
    "\"\"\"\n",
    "@author: vatsal\n",
    "\"\"\"\n",
    "\n",
    "import networkx as nx\n",
    "import pandas as pd\n",
    "import random\n",
    "\n",
    "from node2vec import Node2Vec as n2v\n",
    "from itertools import combinations, groupby"
   ]
  },
  {
   "cell_type": "markdown",
   "id": "521bfe85-16ba-40c5-867e-fb9e1a944e9c",
   "metadata": {},
   "source": [
    "## Generate Data"
   ]
  },
  {
   "cell_type": "markdown",
   "id": "1dd7e2b8-fa97-4f8c-aff7-cfd93272f587",
   "metadata": {},
   "source": [
    "## Create Graph"
   ]
  },
  {
   "cell_type": "code",
   "execution_count": 2,
   "id": "f177108f-2a2d-4672-84d7-5f6f257d01ad",
   "metadata": {},
   "outputs": [],
   "source": [
    "def generate_graph(n, p, dt = nx.MultiGraph()):\n",
    "    '''\n",
    "    This function will generate a graph G based on the users input parameters\n",
    "    \n",
    "    params:\n",
    "        n (Integer) : The number of nodes you would like in the graph\n",
    "        p (Float) : The probability of adding an edge between nodes\n",
    "        dt (Function) : The type of the graph you want to create\n",
    "    '''\n",
    "    edges = combinations(range(n), 2)\n",
    "    G = dt\n",
    "    G.add_nodes_from(range(n))\n",
    "    \n",
    "    if p <= 0:\n",
    "        return G\n",
    "    elif p >= 1:\n",
    "        return nx.complete_graph(n, create_using = G)\n",
    "    else:\n",
    "        for _, ne in groupby(edges, key = lambda x : x[0]):\n",
    "            ne = list(ne)\n",
    "            re = random.choice(ne)\n",
    "            G.add_edge(*re)\n",
    "            for e in ne:\n",
    "                if random.random() < p:\n",
    "                    G.add_edge(*e)\n",
    "    return G"
   ]
  },
  {
   "cell_type": "code",
   "execution_count": 3,
   "id": "ee577b31-349f-485d-95f4-5ac7d45e8603",
   "metadata": {},
   "outputs": [],
   "source": [
    "G = generate_graph(n = 1000, p = 0.2, dt = nx.MultiGraph())"
   ]
  },
  {
   "cell_type": "code",
   "execution_count": 4,
   "id": "f591163e-f0e2-4a61-81fb-0d48b4a0e864",
   "metadata": {},
   "outputs": [
    {
     "name": "stdout",
     "output_type": "stream",
     "text": [
      "Name: \n",
      "Type: MultiGraph\n",
      "Number of nodes: 1000\n",
      "Number of edges: 100927\n",
      "Average degree: 201.8540\n"
     ]
    }
   ],
   "source": [
    "print(nx.info(G))"
   ]
  },
  {
   "cell_type": "markdown",
   "id": "28a00881-ab1c-4d27-8296-2d3d664b3b6c",
   "metadata": {},
   "source": [
    "## Node2Vec"
   ]
  },
  {
   "cell_type": "markdown",
   "id": "4bbfe2e0-e003-40f0-8186-f8cd9b91071b",
   "metadata": {},
   "source": [
    "**Parameter Info**  \n",
    "- graph: a graph g, where all nodes must be integers or strings  \n",
    "- dimensions: embedding dimensions (default: 128)  \n",
    "- walk_length: number of nodes in each walk (default: 80)  \n",
    "- num_walks: number of walks per node (default: 10)  \n",
    "- weight_key: the key for the weight attribute on weighted graphs (default: 'weight')  \n",
    "- workers: number of workers for parallel execution (default: 1)\n",
    "\n",
    "Node2Vec.fit method: Accepts any key word argument acceptable by gensim.Word2Vec"
   ]
  },
  {
   "cell_type": "code",
   "execution_count": 5,
   "id": "66fc362d-49c4-4c4b-b255-5989bee553ea",
   "metadata": {},
   "outputs": [
    {
     "data": {
      "application/vnd.jupyter.widget-view+json": {
       "model_id": "9ee38ffa29c64d6bbb85d8d96fd87764",
       "version_major": 2,
       "version_minor": 0
      },
      "text/plain": [
       "Computing transition probabilities:   0%|          | 0/1000 [00:00<?, ?it/s]"
      ]
     },
     "metadata": {},
     "output_type": "display_data"
    },
    {
     "name": "stderr",
     "output_type": "stream",
     "text": [
      "Generating walks (CPU: 1): 100%|██████████| 10/10 [00:26<00:00,  2.67s/it]"
     ]
    },
    {
     "name": "stdout",
     "output_type": "stream",
     "text": [
      "CPU times: user 2min 4s, sys: 843 ms, total: 2min 5s\n",
      "Wall time: 2min 5s\n"
     ]
    },
    {
     "name": "stderr",
     "output_type": "stream",
     "text": [
      "\n"
     ]
    }
   ],
   "source": [
    "%time g_emb = n2v(G, dimensions=16, weight_key='weight')"
   ]
  },
  {
   "cell_type": "code",
   "execution_count": 6,
   "id": "b5fb562c-9146-4ef6-b6c0-805c6cd45844",
   "metadata": {},
   "outputs": [],
   "source": [
    "WINDOW = 1 # Node2Vec fit window\n",
    "MIN_COUNT = 1 # Node2Vec min. count\n",
    "BATCH_WORDS = 4 # Node2Vec batch words"
   ]
  },
  {
   "cell_type": "code",
   "execution_count": 7,
   "id": "72db7100-9439-4335-80d6-db54aa17573a",
   "metadata": {},
   "outputs": [],
   "source": [
    "mdl = g_emb.fit(\n",
    "    window=WINDOW,\n",
    "    min_count=MIN_COUNT,\n",
    "    batch_words=BATCH_WORDS\n",
    ")"
   ]
  },
  {
   "cell_type": "markdown",
   "id": "bed245ac-7e5e-4cae-a680-d54dd7fc85ae",
   "metadata": {},
   "source": [
    "## Convert to DataFrame"
   ]
  },
  {
   "cell_type": "code",
   "execution_count": 8,
   "id": "a71a8b67-c6ca-43c0-910c-f78963a2b226",
   "metadata": {},
   "outputs": [],
   "source": [
    "emb_df = (\n",
    "    pd.DataFrame(\n",
    "        [mdl.wv.get_vector(str(n)) for n in G.nodes()],\n",
    "        index = G.nodes\n",
    "    )\n",
    ")"
   ]
  },
  {
   "cell_type": "code",
   "execution_count": 9,
   "id": "c160b83c-d44c-4a40-80c7-7ff88b58e816",
   "metadata": {},
   "outputs": [
    {
     "data": {
      "text/html": [
       "<div>\n",
       "<style scoped>\n",
       "    .dataframe tbody tr th:only-of-type {\n",
       "        vertical-align: middle;\n",
       "    }\n",
       "\n",
       "    .dataframe tbody tr th {\n",
       "        vertical-align: top;\n",
       "    }\n",
       "\n",
       "    .dataframe thead th {\n",
       "        text-align: right;\n",
       "    }\n",
       "</style>\n",
       "<table border=\"1\" class=\"dataframe\">\n",
       "  <thead>\n",
       "    <tr style=\"text-align: right;\">\n",
       "      <th></th>\n",
       "      <th>1</th>\n",
       "      <th>2</th>\n",
       "      <th>3</th>\n",
       "      <th>4</th>\n",
       "      <th>5</th>\n",
       "      <th>6</th>\n",
       "      <th>7</th>\n",
       "      <th>8</th>\n",
       "      <th>9</th>\n",
       "      <th>10</th>\n",
       "      <th>11</th>\n",
       "      <th>12</th>\n",
       "      <th>13</th>\n",
       "      <th>14</th>\n",
       "      <th>15</th>\n",
       "    </tr>\n",
       "  </thead>\n",
       "  <tbody>\n",
       "    <tr>\n",
       "      <th>0</th>\n",
       "      <td>-0.373687</td>\n",
       "      <td>-0.243872</td>\n",
       "      <td>1.393979</td>\n",
       "      <td>0.471170</td>\n",
       "      <td>0.739675</td>\n",
       "      <td>-0.139760</td>\n",
       "      <td>0.334174</td>\n",
       "      <td>-0.142418</td>\n",
       "      <td>0.326759</td>\n",
       "      <td>0.100043</td>\n",
       "      <td>0.620266</td>\n",
       "      <td>0.406464</td>\n",
       "      <td>-0.185251</td>\n",
       "      <td>-0.095283</td>\n",
       "      <td>0.008244</td>\n",
       "    </tr>\n",
       "    <tr>\n",
       "      <th>1</th>\n",
       "      <td>-0.121849</td>\n",
       "      <td>-0.051252</td>\n",
       "      <td>0.848198</td>\n",
       "      <td>0.558151</td>\n",
       "      <td>0.267482</td>\n",
       "      <td>-0.270632</td>\n",
       "      <td>-0.234571</td>\n",
       "      <td>0.032219</td>\n",
       "      <td>-0.101319</td>\n",
       "      <td>-0.274814</td>\n",
       "      <td>-0.616425</td>\n",
       "      <td>-0.072386</td>\n",
       "      <td>-0.602413</td>\n",
       "      <td>0.226133</td>\n",
       "      <td>0.311004</td>\n",
       "    </tr>\n",
       "    <tr>\n",
       "      <th>2</th>\n",
       "      <td>-0.197214</td>\n",
       "      <td>0.524244</td>\n",
       "      <td>0.942619</td>\n",
       "      <td>0.527721</td>\n",
       "      <td>0.137883</td>\n",
       "      <td>-0.242701</td>\n",
       "      <td>0.292256</td>\n",
       "      <td>-0.306390</td>\n",
       "      <td>-0.075525</td>\n",
       "      <td>0.497902</td>\n",
       "      <td>0.073505</td>\n",
       "      <td>-0.138331</td>\n",
       "      <td>0.029609</td>\n",
       "      <td>0.536798</td>\n",
       "      <td>0.634288</td>\n",
       "    </tr>\n",
       "    <tr>\n",
       "      <th>3</th>\n",
       "      <td>-0.799476</td>\n",
       "      <td>0.283710</td>\n",
       "      <td>0.465149</td>\n",
       "      <td>0.060543</td>\n",
       "      <td>0.548274</td>\n",
       "      <td>-1.193931</td>\n",
       "      <td>-0.354129</td>\n",
       "      <td>-0.174726</td>\n",
       "      <td>0.210599</td>\n",
       "      <td>0.098153</td>\n",
       "      <td>0.944119</td>\n",
       "      <td>-0.033638</td>\n",
       "      <td>0.081945</td>\n",
       "      <td>0.761101</td>\n",
       "      <td>-0.238847</td>\n",
       "    </tr>\n",
       "    <tr>\n",
       "      <th>4</th>\n",
       "      <td>-0.520293</td>\n",
       "      <td>0.397295</td>\n",
       "      <td>0.635943</td>\n",
       "      <td>-0.312581</td>\n",
       "      <td>0.414951</td>\n",
       "      <td>-0.188583</td>\n",
       "      <td>-0.536188</td>\n",
       "      <td>-0.161202</td>\n",
       "      <td>-0.189298</td>\n",
       "      <td>0.242789</td>\n",
       "      <td>-0.385271</td>\n",
       "      <td>0.151876</td>\n",
       "      <td>-0.207161</td>\n",
       "      <td>0.745977</td>\n",
       "      <td>0.129091</td>\n",
       "    </tr>\n",
       "    <tr>\n",
       "      <th>...</th>\n",
       "      <td>...</td>\n",
       "      <td>...</td>\n",
       "      <td>...</td>\n",
       "      <td>...</td>\n",
       "      <td>...</td>\n",
       "      <td>...</td>\n",
       "      <td>...</td>\n",
       "      <td>...</td>\n",
       "      <td>...</td>\n",
       "      <td>...</td>\n",
       "      <td>...</td>\n",
       "      <td>...</td>\n",
       "      <td>...</td>\n",
       "      <td>...</td>\n",
       "      <td>...</td>\n",
       "    </tr>\n",
       "    <tr>\n",
       "      <th>995</th>\n",
       "      <td>-0.288877</td>\n",
       "      <td>0.116052</td>\n",
       "      <td>0.801280</td>\n",
       "      <td>0.471495</td>\n",
       "      <td>0.055168</td>\n",
       "      <td>0.315957</td>\n",
       "      <td>-0.298977</td>\n",
       "      <td>0.170339</td>\n",
       "      <td>0.000518</td>\n",
       "      <td>0.498167</td>\n",
       "      <td>-0.418570</td>\n",
       "      <td>0.219552</td>\n",
       "      <td>0.094672</td>\n",
       "      <td>0.168527</td>\n",
       "      <td>1.102022</td>\n",
       "    </tr>\n",
       "    <tr>\n",
       "      <th>996</th>\n",
       "      <td>0.285503</td>\n",
       "      <td>-0.224211</td>\n",
       "      <td>0.246311</td>\n",
       "      <td>0.467777</td>\n",
       "      <td>0.742814</td>\n",
       "      <td>-0.487091</td>\n",
       "      <td>-0.720853</td>\n",
       "      <td>-0.409480</td>\n",
       "      <td>0.651323</td>\n",
       "      <td>0.426083</td>\n",
       "      <td>0.148916</td>\n",
       "      <td>0.051157</td>\n",
       "      <td>0.524718</td>\n",
       "      <td>0.302846</td>\n",
       "      <td>-0.092574</td>\n",
       "    </tr>\n",
       "    <tr>\n",
       "      <th>997</th>\n",
       "      <td>-0.452538</td>\n",
       "      <td>-0.298159</td>\n",
       "      <td>0.585532</td>\n",
       "      <td>-0.282106</td>\n",
       "      <td>-0.080808</td>\n",
       "      <td>0.046587</td>\n",
       "      <td>0.225331</td>\n",
       "      <td>-1.217435</td>\n",
       "      <td>0.213461</td>\n",
       "      <td>-0.107644</td>\n",
       "      <td>-0.934281</td>\n",
       "      <td>0.516892</td>\n",
       "      <td>0.051663</td>\n",
       "      <td>0.793922</td>\n",
       "      <td>0.036518</td>\n",
       "    </tr>\n",
       "    <tr>\n",
       "      <th>998</th>\n",
       "      <td>0.234434</td>\n",
       "      <td>-0.876906</td>\n",
       "      <td>0.574354</td>\n",
       "      <td>0.740636</td>\n",
       "      <td>0.505751</td>\n",
       "      <td>-0.239521</td>\n",
       "      <td>-0.586027</td>\n",
       "      <td>0.175777</td>\n",
       "      <td>-0.362544</td>\n",
       "      <td>0.377159</td>\n",
       "      <td>0.366973</td>\n",
       "      <td>0.300489</td>\n",
       "      <td>-0.567901</td>\n",
       "      <td>0.936034</td>\n",
       "      <td>-0.184362</td>\n",
       "    </tr>\n",
       "    <tr>\n",
       "      <th>999</th>\n",
       "      <td>0.128203</td>\n",
       "      <td>0.106650</td>\n",
       "      <td>0.879709</td>\n",
       "      <td>0.197554</td>\n",
       "      <td>0.093721</td>\n",
       "      <td>-0.388360</td>\n",
       "      <td>-0.093196</td>\n",
       "      <td>-0.783551</td>\n",
       "      <td>-0.000140</td>\n",
       "      <td>-0.266102</td>\n",
       "      <td>-0.479711</td>\n",
       "      <td>-0.252852</td>\n",
       "      <td>-0.450215</td>\n",
       "      <td>0.093020</td>\n",
       "      <td>0.657538</td>\n",
       "    </tr>\n",
       "  </tbody>\n",
       "</table>\n",
       "<p>1000 rows × 15 columns</p>\n",
       "</div>"
      ],
      "text/plain": [
       "           1         2         3         4         5         6         7   \\\n",
       "0   -0.373687 -0.243872  1.393979  0.471170  0.739675 -0.139760  0.334174   \n",
       "1   -0.121849 -0.051252  0.848198  0.558151  0.267482 -0.270632 -0.234571   \n",
       "2   -0.197214  0.524244  0.942619  0.527721  0.137883 -0.242701  0.292256   \n",
       "3   -0.799476  0.283710  0.465149  0.060543  0.548274 -1.193931 -0.354129   \n",
       "4   -0.520293  0.397295  0.635943 -0.312581  0.414951 -0.188583 -0.536188   \n",
       "..        ...       ...       ...       ...       ...       ...       ...   \n",
       "995 -0.288877  0.116052  0.801280  0.471495  0.055168  0.315957 -0.298977   \n",
       "996  0.285503 -0.224211  0.246311  0.467777  0.742814 -0.487091 -0.720853   \n",
       "997 -0.452538 -0.298159  0.585532 -0.282106 -0.080808  0.046587  0.225331   \n",
       "998  0.234434 -0.876906  0.574354  0.740636  0.505751 -0.239521 -0.586027   \n",
       "999  0.128203  0.106650  0.879709  0.197554  0.093721 -0.388360 -0.093196   \n",
       "\n",
       "           8         9         10        11        12        13        14  \\\n",
       "0   -0.142418  0.326759  0.100043  0.620266  0.406464 -0.185251 -0.095283   \n",
       "1    0.032219 -0.101319 -0.274814 -0.616425 -0.072386 -0.602413  0.226133   \n",
       "2   -0.306390 -0.075525  0.497902  0.073505 -0.138331  0.029609  0.536798   \n",
       "3   -0.174726  0.210599  0.098153  0.944119 -0.033638  0.081945  0.761101   \n",
       "4   -0.161202 -0.189298  0.242789 -0.385271  0.151876 -0.207161  0.745977   \n",
       "..        ...       ...       ...       ...       ...       ...       ...   \n",
       "995  0.170339  0.000518  0.498167 -0.418570  0.219552  0.094672  0.168527   \n",
       "996 -0.409480  0.651323  0.426083  0.148916  0.051157  0.524718  0.302846   \n",
       "997 -1.217435  0.213461 -0.107644 -0.934281  0.516892  0.051663  0.793922   \n",
       "998  0.175777 -0.362544  0.377159  0.366973  0.300489 -0.567901  0.936034   \n",
       "999 -0.783551 -0.000140 -0.266102 -0.479711 -0.252852 -0.450215  0.093020   \n",
       "\n",
       "           15  \n",
       "0    0.008244  \n",
       "1    0.311004  \n",
       "2    0.634288  \n",
       "3   -0.238847  \n",
       "4    0.129091  \n",
       "..        ...  \n",
       "995  1.102022  \n",
       "996 -0.092574  \n",
       "997  0.036518  \n",
       "998 -0.184362  \n",
       "999  0.657538  \n",
       "\n",
       "[1000 rows x 15 columns]"
      ]
     },
     "execution_count": 9,
     "metadata": {},
     "output_type": "execute_result"
    }
   ],
   "source": [
    "emb_df.iloc[:,1:]"
   ]
  },
  {
   "cell_type": "code",
   "execution_count": 10,
   "id": "74e28e78-6646-41eb-a583-8ea579c75f2a",
   "metadata": {},
   "outputs": [],
   "source": [
    "import matplotlib.pyplot as plt"
   ]
  },
  {
   "cell_type": "markdown",
   "id": "d03f37ce-9864-437c-bf5d-36855144ad21",
   "metadata": {},
   "source": [
    "### Visualize Embedding"
   ]
  },
  {
   "cell_type": "code",
   "execution_count": 11,
   "id": "ae379dd9-9399-4eb9-8253-53635297e9b8",
   "metadata": {},
   "outputs": [
    {
     "data": {
      "text/plain": [
       "<Figure size 432x288 with 0 Axes>"
      ]
     },
     "metadata": {},
     "output_type": "display_data"
    },
    {
     "data": {
      "image/png": "[encoded data removed]",
      "text/plain": [
       "<Figure size 720x576 with 1 Axes>"
      ]
     },
     "metadata": {
      "needs_background": "light"
     },
     "output_type": "display_data"
    }
   ],
   "source": [
    "plt.clf()\n",
    "fig=plt.figure(figsize=(10,8))\n",
    "plt.scatter(\n",
    "    x = emb_df.iloc[:,0],\n",
    "    y = emb_df.iloc[:,1],\n",
    "    s = 0.2\n",
    ")\n",
    "plt.show()\n"
   ]
  },
  {
   "cell_type": "code",
   "execution_count": null,
   "id": "5214eb19-db88-40f4-8afd-9436a3a82466",
   "metadata": {},
   "outputs": [],
   "source": []
  }
 ],
 "metadata": {
  "kernelspec": {
   "display_name": "Python 3",
   "language": "python",
   "name": "python3"
  },
  "language_info": {
   "codemirror_mode": {
    "name": "ipython",
    "version": 3
   },
   "file_extension": ".py",
   "mimetype": "text/x-python",
   "name": "python",
   "nbconvert_exporter": "python",
   "pygments_lexer": "ipython3",
   "version": "3.8.8"
  }
 },
 "nbformat": 4,
 "nbformat_minor": 5
}
