{
 "cells": [
  {
   "cell_type": "markdown",
   "id": "7dcf55e7-d889-4e45-91e8-a546dbdfebed",
   "metadata": {},
   "source": [
    "# Node2Vec"
   ]
  },
  {
   "cell_type": "code",
   "execution_count": 1,
   "id": "b89935dd-b7ba-4588-a463-9802d10a1f2e",
   "metadata": {},
   "outputs": [],
   "source": [
    "import networkx as nx\n",
    "import pandas as pd\n",
    "import numpy as np\n",
    "import random\n",
    "import matplotlib.pyplot as plt\n",
    "import seaborn as sns\n",
    "\n",
    "from sklearn.decomposition import PCA\n",
    "from node2vec import Node2Vec as n2v\n",
    "from itertools import combinations, groupby\n",
    "sns.set()"
   ]
  },
  {
   "cell_type": "markdown",
   "id": "521bfe85-16ba-40c5-867e-fb9e1a944e9c",
   "metadata": {},
   "source": [
    "## Generate Data"
   ]
  },
  {
   "cell_type": "markdown",
   "id": "1dd7e2b8-fa97-4f8c-aff7-cfd93272f587",
   "metadata": {},
   "source": [
    "## Create Graph"
   ]
  },
  {
   "cell_type": "code",
   "execution_count": 2,
   "id": "e3edea75-8159-47f3-95c4-3ed1cd35ca2f",
   "metadata": {},
   "outputs": [],
   "source": [
    "def generate_graph_deg_dist(deg_dist, n):\n",
    "    '''\n",
    "    This function will generate a networkx graph G based on a degree distribution\n",
    "    provided by the user.\n",
    "    \n",
    "    params:\n",
    "        deg_dist (Dictionary) : The key will be the degree and the value is the probability\n",
    "                                of a node having that degree. The probabilities must sum to\n",
    "                                1\n",
    "        n (Integer) : The number of nodes you want the graph to yield\n",
    "                          \n",
    "    example:\n",
    "        G = generate_graph_deg_dist(\n",
    "                deg_dist = {\n",
    "                    6:0.2,\n",
    "                    3:0.14,\n",
    "                    8:0.35,\n",
    "                    4:0.3,\n",
    "                    11:0.01\n",
    "                },\n",
    "                n = 1000\n",
    "        )\n",
    "    '''\n",
    "    deg = list(deg_dist.keys())\n",
    "    proba = list(deg_dist.values())\n",
    "    if sum(proba) == 1.:\n",
    "        deg_sequence = np.random.choice(\n",
    "            deg,\n",
    "            n,\n",
    "            proba\n",
    "        )\n",
    "        return nx.configuration_model(deg_sequence)\n",
    "    raise ValueError(\"Probabilities do not equal to 1\")"
   ]
  },
  {
   "cell_type": "code",
   "execution_count": 4,
   "id": "8a70c956-fbf8-406a-a1ac-f23ab05601a3",
   "metadata": {},
   "outputs": [],
   "source": [
    "G = generate_graph_deg_dist(\n",
    "        deg_dist = {\n",
    "            6:0.2,\n",
    "            3:0.14,\n",
    "            8:0.35,\n",
    "            4:0.3,\n",
    "            11:0.01\n",
    "        },\n",
    "        n = 1000\n",
    ")"
   ]
  },
  {
   "cell_type": "code",
   "execution_count": 5,
   "id": "db550d58-6daa-4a70-a106-02e8fb4c64c9",
   "metadata": {},
   "outputs": [
    {
     "name": "stdout",
     "output_type": "stream",
     "text": [
      "Name: \n",
      "Type: MultiGraph\n",
      "Number of nodes: 1000\n",
      "Number of edges: 3215\n",
      "Average degree:   6.4300\n"
     ]
    }
   ],
   "source": [
    "print(nx.info(G))"
   ]
  },
  {
   "cell_type": "code",
   "execution_count": 6,
   "id": "025b1311-5a99-441b-a763-495ed71f2f8d",
   "metadata": {},
   "outputs": [
    {
     "data": {
      "image/png": "[encoded data removed]",
      "text/plain": [
       "<Figure size 432x288 with 1 Axes>"
      ]
     },
     "metadata": {},
     "output_type": "display_data"
    }
   ],
   "source": [
    "plt.clf()\n",
    "plt.hist(list(dict(G.degree()).values()))\n",
    "plt.title('Degree Distribution')\n",
    "plt.show()"
   ]
  },
  {
   "cell_type": "code",
   "execution_count": 7,
   "id": "f177108f-2a2d-4672-84d7-5f6f257d01ad",
   "metadata": {},
   "outputs": [],
   "source": [
    "def generate_graph(n, p, dt = nx.MultiGraph()):\n",
    "    '''\n",
    "    This function will generate a graph G based on the users input parameters\n",
    "    source : https://stackoverflow.com/questions/61958360/how-to-create-random-graph-where-each-node-has-at-least-1-edge-using-networkx\n",
    "    \n",
    "    params:\n",
    "        n (Integer) : The number of nodes you would like in the graph\n",
    "        p (Float) : The probability of adding an edge between nodes\n",
    "        dt (Function) : The type of the graph you want to create\n",
    "    \n",
    "    returns:\n",
    "        A networkx graph\n",
    "    \n",
    "    example:\n",
    "        G = generate_graph(\n",
    "            n = 1000,\n",
    "            p = 0.15,\n",
    "            dt = nx.MultiGraph()\n",
    "        )\n",
    "    '''\n",
    "    edges = combinations(range(n), 2)\n",
    "    G = dt\n",
    "    G.add_nodes_from(range(n))\n",
    "    \n",
    "    if p <= 0:\n",
    "        return G\n",
    "    elif p >= 1:\n",
    "        return nx.complete_graph(n, create_using = G)\n",
    "    else:\n",
    "        for _, ne in groupby(edges, key = lambda x : x[0]):\n",
    "            ne = list(ne)\n",
    "            re = random.choice(ne)\n",
    "            G.add_edge(*re)\n",
    "            for e in ne:\n",
    "                if random.random() < p:\n",
    "                    G.add_edge(*e)\n",
    "    return G"
   ]
  },
  {
   "cell_type": "code",
   "execution_count": 8,
   "id": "ee577b31-349f-485d-95f4-5ac7d45e8603",
   "metadata": {},
   "outputs": [],
   "source": [
    "# G = generate_graph(n = 1000, p = 0.15, dt = nx.MultiGraph())"
   ]
  },
  {
   "cell_type": "markdown",
   "id": "28a00881-ab1c-4d27-8296-2d3d664b3b6c",
   "metadata": {},
   "source": [
    "## Node2Vec"
   ]
  },
  {
   "cell_type": "markdown",
   "id": "4bbfe2e0-e003-40f0-8186-f8cd9b91071b",
   "metadata": {},
   "source": [
    "**Parameter Info**  \n",
    "- graph: a graph g, where all nodes must be integers or strings  \n",
    "- dimensions: embedding dimensions (default: 128)  \n",
    "- walk_length: number of nodes in each walk (default: 80)  \n",
    "- num_walks: number of walks per node (default: 10)  \n",
    "- weight_key: the key for the weight attribute on weighted graphs (default: 'weight')  \n",
    "- workers: number of workers for parallel execution (default: 1)\n",
    "- p: the probability of a random walk getting back to the previous node (default: 1)\n",
    "- q: probability that a random walk can pass through a previously unseen part of the graph (default: 1)\n",
    "\n",
    "Node2Vec.fit method: Accepts any key word argument acceptable by gensim.Word2Vec"
   ]
  },
  {
   "cell_type": "code",
   "execution_count": 9,
   "id": "66fc362d-49c4-4c4b-b255-5989bee553ea",
   "metadata": {},
   "outputs": [
    {
     "data": {
      "application/vnd.jupyter.widget-view+json": {
       "model_id": "4fb689413db044eb928b872174e2f965",
       "version_major": 2,
       "version_minor": 0
      },
      "text/plain": [
       "Computing transition probabilities:   0%|          | 0/1000 [00:00<?, ?it/s]"
      ]
     },
     "metadata": {},
     "output_type": "display_data"
    },
    {
     "name": "stderr",
     "output_type": "stream",
     "text": [
      "Generating walks (CPU: 1): 100%|██████████| 10/10 [00:17<00:00,  1.72s/it]"
     ]
    },
    {
     "name": "stdout",
     "output_type": "stream",
     "text": [
      "CPU times: user 17.3 s, sys: 137 ms, total: 17.5 s\n",
      "Wall time: 17.5 s\n"
     ]
    },
    {
     "name": "stderr",
     "output_type": "stream",
     "text": [
      "\n"
     ]
    }
   ],
   "source": [
    "%time g_emb = n2v(G, dimensions=16)"
   ]
  },
  {
   "cell_type": "code",
   "execution_count": 10,
   "id": "b5fb562c-9146-4ef6-b6c0-805c6cd45844",
   "metadata": {},
   "outputs": [],
   "source": [
    "WINDOW = 1 # Node2Vec fit window\n",
    "MIN_COUNT = 1 # Node2Vec min. count\n",
    "BATCH_WORDS = 4 # Node2Vec batch words"
   ]
  },
  {
   "cell_type": "code",
   "execution_count": 11,
   "id": "72db7100-9439-4335-80d6-db54aa17573a",
   "metadata": {},
   "outputs": [],
   "source": [
    "mdl = g_emb.fit(\n",
    "    window=WINDOW,\n",
    "    min_count=MIN_COUNT,\n",
    "    batch_words=BATCH_WORDS\n",
    ")"
   ]
  },
  {
   "cell_type": "code",
   "execution_count": 16,
   "id": "223fa674-87f9-433c-8ea2-d560ac101e48",
   "metadata": {},
   "outputs": [
    {
     "name": "stdout",
     "output_type": "stream",
     "text": [
      "('433', 0.8332405090332031)\n",
      "('277', 0.8205791115760803)\n",
      "('14', 0.7698894739151001)\n",
      "('340', 0.7587181329727173)\n",
      "('777', 0.7562111020088196)\n",
      "('770', 0.7561677694320679)\n",
      "('647', 0.7538766264915466)\n",
      "('415', 0.7531223893165588)\n",
      "('389', 0.7500568628311157)\n",
      "('428', 0.7285109758377075)\n"
     ]
    }
   ],
   "source": [
    "input_node = '1'\n",
    "for s in mdl.wv.most_similar(input_node, topn = 10):\n",
    "    print(s)"
   ]
  },
  {
   "cell_type": "markdown",
   "id": "bed245ac-7e5e-4cae-a680-d54dd7fc85ae",
   "metadata": {},
   "source": [
    "## Convert to DataFrame"
   ]
  },
  {
   "cell_type": "code",
   "execution_count": null,
   "id": "a71a8b67-c6ca-43c0-910c-f78963a2b226",
   "metadata": {},
   "outputs": [],
   "source": [
    "emb_df = (\n",
    "    pd.DataFrame(\n",
    "        [mdl.wv.get_vector(str(n)) for n in G.nodes()],\n",
    "        index = G.nodes\n",
    "    )\n",
    ")"
   ]
  },
  {
   "cell_type": "code",
   "execution_count": null,
   "id": "c160b83c-d44c-4a40-80c7-7ff88b58e816",
   "metadata": {},
   "outputs": [],
   "source": [
    "emb_df.iloc[:,1:]"
   ]
  },
  {
   "cell_type": "markdown",
   "id": "d03f37ce-9864-437c-bf5d-36855144ad21",
   "metadata": {},
   "source": [
    "### Visualize Embedding"
   ]
  },
  {
   "cell_type": "code",
   "execution_count": null,
   "id": "ae379dd9-9399-4eb9-8253-53635297e9b8",
   "metadata": {},
   "outputs": [],
   "source": [
    "plt.clf()\n",
    "fig=plt.figure(figsize=(10,8))\n",
    "plt.scatter(\n",
    "    x = emb_df.iloc[:,0],\n",
    "    y = emb_df.iloc[:,1],\n",
    "    s = 0.2\n",
    ")\n",
    "plt.show()\n"
   ]
  },
  {
   "cell_type": "markdown",
   "id": "d9f5c8e4-d4d0-4f94-ad4d-434bea8ad416",
   "metadata": {},
   "source": [
    "### PCA"
   ]
  },
  {
   "cell_type": "code",
   "execution_count": null,
   "id": "31b5e489-eaaf-441b-a1fb-dc97db9bc6b2",
   "metadata": {},
   "outputs": [],
   "source": [
    "pca = PCA(n_components = 2, random_state = 7)\n",
    "pca_mdl = pca.fit_transform(emb_df)"
   ]
  },
  {
   "cell_type": "code",
   "execution_count": null,
   "id": "bd76ee12-eb70-4ab5-bb7a-a9f245c48baf",
   "metadata": {},
   "outputs": [],
   "source": [
    "emb_df_PCA = (\n",
    "    pd.DataFrame(\n",
    "        pca_mdl,\n",
    "        columns=['x','y'],\n",
    "        index = emb_df.index\n",
    "    )\n",
    ")\n",
    "plt.clf()\n",
    "fig = plt.figure(figsize=(6,4))\n",
    "plt.scatter(\n",
    "    x = emb_df_PCA['x'],\n",
    "    y = emb_df_PCA['y'],\n",
    "    s = 0.4,\n",
    "    color = 'maroon',\n",
    "    alpha = 0.5\n",
    ")\n",
    "plt.xlabel('PCA-1')\n",
    "plt.ylabel('PCA-2')\n",
    "plt.title('PCA Visualization')\n",
    "plt.plot()"
   ]
  },
  {
   "cell_type": "code",
   "execution_count": null,
   "id": "beb40063-e7f0-4004-9618-56278a7bad17",
   "metadata": {},
   "outputs": [],
   "source": [
    "sns.pairplot(emb_df_PCA)"
   ]
  },
  {
   "cell_type": "markdown",
   "id": "e9c6412f-32bb-4b8f-b9a2-3e1dd936bebd",
   "metadata": {},
   "source": [
    "---"
   ]
  }
 ],
 "metadata": {
  "kernelspec": {
   "display_name": "Python 3",
   "language": "python",
   "name": "python3"
  },
  "language_info": {
   "codemirror_mode": {
    "name": "ipython",
    "version": 3
   },
   "file_extension": ".py",
   "mimetype": "text/x-python",
   "name": "python",
   "nbconvert_exporter": "python",
   "pygments_lexer": "ipython3",
   "version": "3.8.8"
  }
 },
 "nbformat": 4,
 "nbformat_minor": 5
}
