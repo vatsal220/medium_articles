{
 "cells": [
  {
   "cell_type": "markdown",
   "id": "7dcf55e7-d889-4e45-91e8-a546dbdfebed",
   "metadata": {},
   "source": [
    "# Node2Vec"
   ]
  },
  {
   "cell_type": "code",
   "execution_count": 1,
   "id": "b89935dd-b7ba-4588-a463-9802d10a1f2e",
   "metadata": {},
   "outputs": [],
   "source": [
    "\"\"\"\n",
    "@author: vatsal\n",
    "\"\"\"\n",
    "\n",
    "import networkx as nx\n",
    "import pandas as pd\n",
    "import random\n",
    "import matplotlib.pyplot as plt\n",
    "\n",
    "from node2vec import Node2Vec as n2v\n",
    "from itertools import combinations, groupby"
   ]
  },
  {
   "cell_type": "markdown",
   "id": "521bfe85-16ba-40c5-867e-fb9e1a944e9c",
   "metadata": {},
   "source": [
    "## Generate Data"
   ]
  },
  {
   "cell_type": "markdown",
   "id": "1dd7e2b8-fa97-4f8c-aff7-cfd93272f587",
   "metadata": {},
   "source": [
    "## Create Graph"
   ]
  },
  {
   "cell_type": "code",
   "execution_count": 2,
   "id": "f177108f-2a2d-4672-84d7-5f6f257d01ad",
   "metadata": {},
   "outputs": [],
   "source": [
    "def generate_graph(n, p, dt = nx.MultiGraph()):\n",
    "    '''\n",
    "    This function will generate a graph G based on the users input parameters\n",
    "    \n",
    "    params:\n",
    "        n (Integer) : The number of nodes you would like in the graph\n",
    "        p (Float) : The probability of adding an edge between nodes\n",
    "        dt (Function) : The type of the graph you want to create\n",
    "    '''\n",
    "    edges = combinations(range(n), 2)\n",
    "    G = dt\n",
    "    G.add_nodes_from(range(n))\n",
    "    \n",
    "    if p <= 0:\n",
    "        return G\n",
    "    elif p >= 1:\n",
    "        return nx.complete_graph(n, create_using = G)\n",
    "    else:\n",
    "        for _, ne in groupby(edges, key = lambda x : x[0]):\n",
    "            ne = list(ne)\n",
    "            re = random.choice(ne)\n",
    "            G.add_edge(*re)\n",
    "            for e in ne:\n",
    "                if random.random() < p:\n",
    "                    G.add_edge(*e)\n",
    "    return G"
   ]
  },
  {
   "cell_type": "code",
   "execution_count": 3,
   "id": "ee577b31-349f-485d-95f4-5ac7d45e8603",
   "metadata": {},
   "outputs": [],
   "source": [
    "G = generate_graph(n = 1000, p = 0.2, dt = nx.MultiGraph())"
   ]
  },
  {
   "cell_type": "code",
   "execution_count": 4,
   "id": "f591163e-f0e2-4a61-81fb-0d48b4a0e864",
   "metadata": {},
   "outputs": [
    {
     "name": "stdout",
     "output_type": "stream",
     "text": [
      "Name: \n",
      "Type: MultiGraph\n",
      "Number of nodes: 1000\n",
      "Number of edges: 101175\n",
      "Average degree: 202.3500\n"
     ]
    }
   ],
   "source": [
    "print(nx.info(G))"
   ]
  },
  {
   "cell_type": "markdown",
   "id": "28a00881-ab1c-4d27-8296-2d3d664b3b6c",
   "metadata": {},
   "source": [
    "## Node2Vec"
   ]
  },
  {
   "cell_type": "markdown",
   "id": "4bbfe2e0-e003-40f0-8186-f8cd9b91071b",
   "metadata": {},
   "source": [
    "**Parameter Info**  \n",
    "- graph: a graph g, where all nodes must be integers or strings  \n",
    "- dimensions: embedding dimensions (default: 128)  \n",
    "- walk_length: number of nodes in each walk (default: 80)  \n",
    "- num_walks: number of walks per node (default: 10)  \n",
    "- weight_key: the key for the weight attribute on weighted graphs (default: 'weight')  \n",
    "- workers: number of workers for parallel execution (default: 1)\n",
    "\n",
    "Node2Vec.fit method: Accepts any key word argument acceptable by gensim.Word2Vec"
   ]
  },
  {
   "cell_type": "code",
   "execution_count": null,
   "id": "66fc362d-49c4-4c4b-b255-5989bee553ea",
   "metadata": {},
   "outputs": [
    {
     "data": {
      "application/vnd.jupyter.widget-view+json": {
       "model_id": "cb45cb5a3a9743a284bacd2d6aaaa2be",
       "version_major": 2,
       "version_minor": 0
      },
      "text/plain": [
       "Computing transition probabilities:   0%|          | 0/1000 [00:00<?, ?it/s]"
      ]
     },
     "metadata": {},
     "output_type": "display_data"
    }
   ],
   "source": [
    "%time g_emb = n2v(G, dimensions=16, weight_key='weight')"
   ]
  },
  {
   "cell_type": "code",
   "execution_count": null,
   "id": "b5fb562c-9146-4ef6-b6c0-805c6cd45844",
   "metadata": {},
   "outputs": [],
   "source": [
    "WINDOW = 1 # Node2Vec fit window\n",
    "MIN_COUNT = 1 # Node2Vec min. count\n",
    "BATCH_WORDS = 4 # Node2Vec batch words"
   ]
  },
  {
   "cell_type": "code",
   "execution_count": null,
   "id": "72db7100-9439-4335-80d6-db54aa17573a",
   "metadata": {},
   "outputs": [],
   "source": [
    "mdl = g_emb.fit(\n",
    "    window=WINDOW,\n",
    "    min_count=MIN_COUNT,\n",
    "    batch_words=BATCH_WORDS\n",
    ")"
   ]
  },
  {
   "cell_type": "markdown",
   "id": "bed245ac-7e5e-4cae-a680-d54dd7fc85ae",
   "metadata": {},
   "source": [
    "## Convert to DataFrame"
   ]
  },
  {
   "cell_type": "code",
   "execution_count": null,
   "id": "a71a8b67-c6ca-43c0-910c-f78963a2b226",
   "metadata": {},
   "outputs": [],
   "source": [
    "emb_df = (\n",
    "    pd.DataFrame(\n",
    "        [mdl.wv.get_vector(str(n)) for n in G.nodes()],\n",
    "        index = G.nodes\n",
    "    )\n",
    ")"
   ]
  },
  {
   "cell_type": "code",
   "execution_count": null,
   "id": "c160b83c-d44c-4a40-80c7-7ff88b58e816",
   "metadata": {},
   "outputs": [],
   "source": [
    "emb_df.iloc[:,1:]"
   ]
  },
  {
   "cell_type": "markdown",
   "id": "d03f37ce-9864-437c-bf5d-36855144ad21",
   "metadata": {},
   "source": [
    "### Visualize Embedding"
   ]
  },
  {
   "cell_type": "code",
   "execution_count": null,
   "id": "ae379dd9-9399-4eb9-8253-53635297e9b8",
   "metadata": {},
   "outputs": [],
   "source": [
    "plt.clf()\n",
    "fig=plt.figure(figsize=(10,8))\n",
    "plt.scatter(\n",
    "    x = emb_df.iloc[:,0],\n",
    "    y = emb_df.iloc[:,1],\n",
    "    s = 0.2\n",
    ")\n",
    "plt.show()\n"
   ]
  },
  {
   "cell_type": "code",
   "execution_count": null,
   "id": "36891b1e-2b71-480d-99b7-c14fc7948967",
   "metadata": {},
   "outputs": [],
   "source": []
  },
  {
   "cell_type": "code",
   "execution_count": null,
   "id": "31b5e489-eaaf-441b-a1fb-dc97db9bc6b2",
   "metadata": {},
   "outputs": [],
   "source": []
  }
 ],
 "metadata": {
  "kernelspec": {
   "display_name": "Python 3",
   "language": "python",
   "name": "python3"
  },
  "language_info": {
   "codemirror_mode": {
    "name": "ipython",
    "version": 3
   },
   "file_extension": ".py",
   "mimetype": "text/x-python",
   "name": "python",
   "nbconvert_exporter": "python",
   "pygments_lexer": "ipython3",
   "version": "3.8.8"
  }
 },
 "nbformat": 4,
 "nbformat_minor": 5
}
