{
 "cells": [
  {
   "cell_type": "markdown",
   "id": "7dcf55e7-d889-4e45-91e8-a546dbdfebed",
   "metadata": {},
   "source": [
    "# Node2Vec"
   ]
  },
  {
   "cell_type": "code",
   "execution_count": 1,
   "id": "b89935dd-b7ba-4588-a463-9802d10a1f2e",
   "metadata": {},
   "outputs": [],
   "source": [
    "import networkx as nx\n",
    "import pandas as pd\n",
    "import numpy as np\n",
    "import random\n",
    "import matplotlib.pyplot as plt\n",
    "import seaborn as sns\n",
    "\n",
    "from sklearn.decomposition import PCA\n",
    "from node2vec import Node2Vec as n2v\n",
    "from itertools import combinations, groupby\n",
    "sns.set()"
   ]
  },
  {
   "cell_type": "markdown",
   "id": "521bfe85-16ba-40c5-867e-fb9e1a944e9c",
   "metadata": {},
   "source": [
    "## Generate Data"
   ]
  },
  {
   "cell_type": "markdown",
   "id": "1dd7e2b8-fa97-4f8c-aff7-cfd93272f587",
   "metadata": {},
   "source": [
    "## Create Graph"
   ]
  },
  {
   "cell_type": "code",
   "execution_count": 3,
   "id": "e3edea75-8159-47f3-95c4-3ed1cd35ca2f",
   "metadata": {},
   "outputs": [],
   "source": [
    "def generate_graph_deg_dist(deg_dist, n):\n",
    "    '''\n",
    "    This function will generate a networkx graph G based on a degree distribution\n",
    "    provided by the user.\n",
    "    \n",
    "    params:\n",
    "        deg_dist (Dictionary) : The key will be the degree and the value is the probability\n",
    "                                of a node having that degree. The probabilities must sum to\n",
    "                                1\n",
    "        n (Integer) : The number of nodes you want the graph to yield\n",
    "                          \n",
    "    example:\n",
    "        G = generate_graph_deg_dist(\n",
    "                deg_dist = {\n",
    "                    6:0.2,\n",
    "                    3:0.14,\n",
    "                    8:0.35,\n",
    "                    4:0.3,\n",
    "                    11:0.01\n",
    "                },\n",
    "                n = 1000\n",
    "        )\n",
    "    '''\n",
    "    deg = list(deg_dist.keys())\n",
    "    proba = list(deg_dist.values())\n",
    "    if sum(proba) == 1.:\n",
    "        deg_sequence = np.random.choice(\n",
    "            deg,\n",
    "            n,\n",
    "            proba\n",
    "        )\n",
    "        return nx.configuration_model(deg_sequence)\n",
    "    raise ValueError(\"Probabilities do not equal to 1\")"
   ]
  },
  {
   "cell_type": "code",
   "execution_count": 4,
   "id": "8a70c956-fbf8-406a-a1ac-f23ab05601a3",
   "metadata": {},
   "outputs": [],
   "source": [
    "G = generate_graph_deg_dist(\n",
    "        deg_dist = {\n",
    "            6:0.2,\n",
    "            3:0.14,\n",
    "            8:0.35,\n",
    "            4:0.3,\n",
    "            11:0.01\n",
    "        },\n",
    "        n = 1000\n",
    ")"
   ]
  },
  {
   "cell_type": "code",
   "execution_count": 5,
   "id": "db550d58-6daa-4a70-a106-02e8fb4c64c9",
   "metadata": {},
   "outputs": [
    {
     "name": "stdout",
     "output_type": "stream",
     "text": [
      "Name: \n",
      "Type: MultiGraph\n",
      "Number of nodes: 1000\n",
      "Number of edges: 3332\n",
      "Average degree:   6.6640\n"
     ]
    }
   ],
   "source": [
    "print(nx.info(G))"
   ]
  },
  {
   "cell_type": "code",
   "execution_count": 7,
   "id": "025b1311-5a99-441b-a763-495ed71f2f8d",
   "metadata": {},
   "outputs": [
    {
     "data": {
      "image/png": "[encoded data removed]",
      "text/plain": [
       "<Figure size 432x288 with 1 Axes>"
      ]
     },
     "metadata": {},
     "output_type": "display_data"
    }
   ],
   "source": [
    "plt.clf()\n",
    "plt.hist(list(dict(G.degree()).values()))\n",
    "plt.title('Degree Distribution')\n",
    "plt.show()"
   ]
  },
  {
   "cell_type": "code",
   "execution_count": 2,
   "id": "f177108f-2a2d-4672-84d7-5f6f257d01ad",
   "metadata": {},
   "outputs": [],
   "source": [
    "def generate_graph(n, p, dt = nx.MultiGraph()):\n",
    "    '''\n",
    "    This function will generate a graph G based on the users input parameters\n",
    "    source : https://stackoverflow.com/questions/61958360/how-to-create-random-graph-where-each-node-has-at-least-1-edge-using-networkx\n",
    "    \n",
    "    params:\n",
    "        n (Integer) : The number of nodes you would like in the graph\n",
    "        p (Float) : The probability of adding an edge between nodes\n",
    "        dt (Function) : The type of the graph you want to create\n",
    "    \n",
    "    returns:\n",
    "        A networkx graph\n",
    "    \n",
    "    example:\n",
    "        G = generate_graph(\n",
    "            n = 1000,\n",
    "            p = 0.15,\n",
    "            dt = nx.MultiGraph()\n",
    "        )\n",
    "    '''\n",
    "    edges = combinations(range(n), 2)\n",
    "    G = dt\n",
    "    G.add_nodes_from(range(n))\n",
    "    \n",
    "    if p <= 0:\n",
    "        return G\n",
    "    elif p >= 1:\n",
    "        return nx.complete_graph(n, create_using = G)\n",
    "    else:\n",
    "        for _, ne in groupby(edges, key = lambda x : x[0]):\n",
    "            ne = list(ne)\n",
    "            re = random.choice(ne)\n",
    "            G.add_edge(*re)\n",
    "            for e in ne:\n",
    "                if random.random() < p:\n",
    "                    G.add_edge(*e)\n",
    "    return G"
   ]
  },
  {
   "cell_type": "code",
   "execution_count": 3,
   "id": "ee577b31-349f-485d-95f4-5ac7d45e8603",
   "metadata": {},
   "outputs": [],
   "source": [
    "# G = generate_graph(n = 1000, p = 0.15, dt = nx.MultiGraph())"
   ]
  },
  {
   "cell_type": "markdown",
   "id": "28a00881-ab1c-4d27-8296-2d3d664b3b6c",
   "metadata": {},
   "source": [
    "## Node2Vec"
   ]
  },
  {
   "cell_type": "markdown",
   "id": "4bbfe2e0-e003-40f0-8186-f8cd9b91071b",
   "metadata": {},
   "source": [
    "**Parameter Info**  \n",
    "- graph: a graph g, where all nodes must be integers or strings  \n",
    "- dimensions: embedding dimensions (default: 128)  \n",
    "- walk_length: number of nodes in each walk (default: 80)  \n",
    "- num_walks: number of walks per node (default: 10)  \n",
    "- weight_key: the key for the weight attribute on weighted graphs (default: 'weight')  \n",
    "- workers: number of workers for parallel execution (default: 1)\n",
    "- p: the probability of a random walk getting back to the previous node (default: 1)\n",
    "- q: probability that a random walk can pass through a previously unseen part of the graph (default: 1)\n",
    "\n",
    "Node2Vec.fit method: Accepts any key word argument acceptable by gensim.Word2Vec"
   ]
  },
  {
   "cell_type": "code",
   "execution_count": 11,
   "id": "66fc362d-49c4-4c4b-b255-5989bee553ea",
   "metadata": {},
   "outputs": [
    {
     "data": {
      "application/vnd.jupyter.widget-view+json": {
       "model_id": "8c151c53ca544e48b61b7d7af8dd7b16",
       "version_major": 2,
       "version_minor": 0
      },
      "text/plain": [
       "Computing transition probabilities:   0%|          | 0/1000 [00:00<?, ?it/s]"
      ]
     },
     "metadata": {},
     "output_type": "display_data"
    },
    {
     "name": "stderr",
     "output_type": "stream",
     "text": [
      "Generating walks (CPU: 1): 100%|██████████| 10/10 [00:17<00:00,  1.71s/it]"
     ]
    },
    {
     "name": "stdout",
     "output_type": "stream",
     "text": [
      "CPU times: user 17.1 s, sys: 161 ms, total: 17.3 s\n",
      "Wall time: 17.5 s\n"
     ]
    },
    {
     "name": "stderr",
     "output_type": "stream",
     "text": [
      "\n"
     ]
    }
   ],
   "source": [
    "%time g_emb = n2v(G, dimensions=16)"
   ]
  },
  {
   "cell_type": "code",
   "execution_count": 12,
   "id": "b5fb562c-9146-4ef6-b6c0-805c6cd45844",
   "metadata": {},
   "outputs": [],
   "source": [
    "WINDOW = 1 # Node2Vec fit window\n",
    "MIN_COUNT = 1 # Node2Vec min. count\n",
    "BATCH_WORDS = 4 # Node2Vec batch words"
   ]
  },
  {
   "cell_type": "code",
   "execution_count": 13,
   "id": "72db7100-9439-4335-80d6-db54aa17573a",
   "metadata": {},
   "outputs": [],
   "source": [
    "mdl = g_emb.fit(\n",
    "    window=WINDOW,\n",
    "    min_count=MIN_COUNT,\n",
    "    batch_words=BATCH_WORDS\n",
    ")"
   ]
  },
  {
   "cell_type": "markdown",
   "id": "bed245ac-7e5e-4cae-a680-d54dd7fc85ae",
   "metadata": {},
   "source": [
    "## Convert to DataFrame"
   ]
  },
  {
   "cell_type": "code",
   "execution_count": 14,
   "id": "a71a8b67-c6ca-43c0-910c-f78963a2b226",
   "metadata": {},
   "outputs": [],
   "source": [
    "emb_df = (\n",
    "    pd.DataFrame(\n",
    "        [mdl.wv.get_vector(str(n)) for n in G.nodes()],\n",
    "        index = G.nodes\n",
    "    )\n",
    ")"
   ]
  },
  {
   "cell_type": "code",
   "execution_count": 15,
   "id": "c160b83c-d44c-4a40-80c7-7ff88b58e816",
   "metadata": {},
   "outputs": [
    {
     "data": {
      "text/html": [
       "<div>\n",
       "<style scoped>\n",
       "    .dataframe tbody tr th:only-of-type {\n",
       "        vertical-align: middle;\n",
       "    }\n",
       "\n",
       "    .dataframe tbody tr th {\n",
       "        vertical-align: top;\n",
       "    }\n",
       "\n",
       "    .dataframe thead th {\n",
       "        text-align: right;\n",
       "    }\n",
       "</style>\n",
       "<table border=\"1\" class=\"dataframe\">\n",
       "  <thead>\n",
       "    <tr style=\"text-align: right;\">\n",
       "      <th></th>\n",
       "      <th>1</th>\n",
       "      <th>2</th>\n",
       "      <th>3</th>\n",
       "      <th>4</th>\n",
       "      <th>5</th>\n",
       "      <th>6</th>\n",
       "      <th>7</th>\n",
       "      <th>8</th>\n",
       "      <th>9</th>\n",
       "      <th>10</th>\n",
       "      <th>11</th>\n",
       "      <th>12</th>\n",
       "      <th>13</th>\n",
       "      <th>14</th>\n",
       "      <th>15</th>\n",
       "    </tr>\n",
       "  </thead>\n",
       "  <tbody>\n",
       "    <tr>\n",
       "      <th>0</th>\n",
       "      <td>-0.887267</td>\n",
       "      <td>1.301616</td>\n",
       "      <td>2.526342</td>\n",
       "      <td>0.624163</td>\n",
       "      <td>-0.043041</td>\n",
       "      <td>3.125416</td>\n",
       "      <td>-0.072394</td>\n",
       "      <td>-1.485098</td>\n",
       "      <td>0.698801</td>\n",
       "      <td>-3.882317</td>\n",
       "      <td>2.456350</td>\n",
       "      <td>0.941449</td>\n",
       "      <td>-1.653990</td>\n",
       "      <td>4.071611</td>\n",
       "      <td>-0.007670</td>\n",
       "    </tr>\n",
       "    <tr>\n",
       "      <th>1</th>\n",
       "      <td>-1.112055</td>\n",
       "      <td>-1.978476</td>\n",
       "      <td>1.286084</td>\n",
       "      <td>1.405627</td>\n",
       "      <td>0.643365</td>\n",
       "      <td>-0.670541</td>\n",
       "      <td>-1.960168</td>\n",
       "      <td>2.014237</td>\n",
       "      <td>1.564058</td>\n",
       "      <td>-0.200688</td>\n",
       "      <td>-1.932361</td>\n",
       "      <td>-0.031745</td>\n",
       "      <td>-2.645206</td>\n",
       "      <td>2.674907</td>\n",
       "      <td>1.335990</td>\n",
       "    </tr>\n",
       "    <tr>\n",
       "      <th>2</th>\n",
       "      <td>-1.116793</td>\n",
       "      <td>-1.433649</td>\n",
       "      <td>4.323657</td>\n",
       "      <td>2.178949</td>\n",
       "      <td>1.349459</td>\n",
       "      <td>2.940276</td>\n",
       "      <td>-2.503379</td>\n",
       "      <td>1.187118</td>\n",
       "      <td>0.460150</td>\n",
       "      <td>-2.323096</td>\n",
       "      <td>0.445268</td>\n",
       "      <td>1.063803</td>\n",
       "      <td>1.715785</td>\n",
       "      <td>3.008925</td>\n",
       "      <td>1.319125</td>\n",
       "    </tr>\n",
       "    <tr>\n",
       "      <th>3</th>\n",
       "      <td>-0.617097</td>\n",
       "      <td>1.907876</td>\n",
       "      <td>-0.162354</td>\n",
       "      <td>2.114211</td>\n",
       "      <td>3.751355</td>\n",
       "      <td>1.676581</td>\n",
       "      <td>0.571646</td>\n",
       "      <td>1.985068</td>\n",
       "      <td>1.165364</td>\n",
       "      <td>-0.877542</td>\n",
       "      <td>-1.465406</td>\n",
       "      <td>-0.402917</td>\n",
       "      <td>-3.526115</td>\n",
       "      <td>0.741702</td>\n",
       "      <td>-0.830261</td>\n",
       "    </tr>\n",
       "    <tr>\n",
       "      <th>4</th>\n",
       "      <td>1.752709</td>\n",
       "      <td>0.273741</td>\n",
       "      <td>2.837420</td>\n",
       "      <td>4.500355</td>\n",
       "      <td>-0.969673</td>\n",
       "      <td>3.017866</td>\n",
       "      <td>-0.420966</td>\n",
       "      <td>-0.288935</td>\n",
       "      <td>0.347893</td>\n",
       "      <td>-1.947000</td>\n",
       "      <td>-1.407406</td>\n",
       "      <td>-4.763570</td>\n",
       "      <td>-1.169675</td>\n",
       "      <td>1.076481</td>\n",
       "      <td>1.900917</td>\n",
       "    </tr>\n",
       "    <tr>\n",
       "      <th>...</th>\n",
       "      <td>...</td>\n",
       "      <td>...</td>\n",
       "      <td>...</td>\n",
       "      <td>...</td>\n",
       "      <td>...</td>\n",
       "      <td>...</td>\n",
       "      <td>...</td>\n",
       "      <td>...</td>\n",
       "      <td>...</td>\n",
       "      <td>...</td>\n",
       "      <td>...</td>\n",
       "      <td>...</td>\n",
       "      <td>...</td>\n",
       "      <td>...</td>\n",
       "      <td>...</td>\n",
       "    </tr>\n",
       "    <tr>\n",
       "      <th>995</th>\n",
       "      <td>-3.167989</td>\n",
       "      <td>-1.178509</td>\n",
       "      <td>2.333585</td>\n",
       "      <td>3.939985</td>\n",
       "      <td>1.844811</td>\n",
       "      <td>-0.945498</td>\n",
       "      <td>1.896572</td>\n",
       "      <td>-1.655383</td>\n",
       "      <td>-2.876322</td>\n",
       "      <td>-0.138945</td>\n",
       "      <td>0.024488</td>\n",
       "      <td>0.659430</td>\n",
       "      <td>-1.029882</td>\n",
       "      <td>-0.455779</td>\n",
       "      <td>3.161764</td>\n",
       "    </tr>\n",
       "    <tr>\n",
       "      <th>996</th>\n",
       "      <td>-0.543035</td>\n",
       "      <td>-0.600442</td>\n",
       "      <td>1.659483</td>\n",
       "      <td>0.411694</td>\n",
       "      <td>0.556345</td>\n",
       "      <td>-0.311680</td>\n",
       "      <td>-1.484401</td>\n",
       "      <td>-0.958233</td>\n",
       "      <td>2.148940</td>\n",
       "      <td>-2.603331</td>\n",
       "      <td>-1.664450</td>\n",
       "      <td>-2.476154</td>\n",
       "      <td>-2.769070</td>\n",
       "      <td>3.587455</td>\n",
       "      <td>0.748740</td>\n",
       "    </tr>\n",
       "    <tr>\n",
       "      <th>997</th>\n",
       "      <td>-1.101224</td>\n",
       "      <td>0.061745</td>\n",
       "      <td>-2.643011</td>\n",
       "      <td>2.718049</td>\n",
       "      <td>2.129001</td>\n",
       "      <td>0.744671</td>\n",
       "      <td>-0.919997</td>\n",
       "      <td>-0.707036</td>\n",
       "      <td>0.319756</td>\n",
       "      <td>-2.593672</td>\n",
       "      <td>-0.972320</td>\n",
       "      <td>-0.269080</td>\n",
       "      <td>-0.766611</td>\n",
       "      <td>1.648997</td>\n",
       "      <td>0.932666</td>\n",
       "    </tr>\n",
       "    <tr>\n",
       "      <th>998</th>\n",
       "      <td>0.100376</td>\n",
       "      <td>-0.023865</td>\n",
       "      <td>3.694451</td>\n",
       "      <td>0.528504</td>\n",
       "      <td>0.206076</td>\n",
       "      <td>0.603566</td>\n",
       "      <td>-2.868032</td>\n",
       "      <td>-2.205813</td>\n",
       "      <td>-0.110134</td>\n",
       "      <td>-0.078063</td>\n",
       "      <td>-1.803889</td>\n",
       "      <td>0.433220</td>\n",
       "      <td>-0.622608</td>\n",
       "      <td>1.672734</td>\n",
       "      <td>0.509553</td>\n",
       "    </tr>\n",
       "    <tr>\n",
       "      <th>999</th>\n",
       "      <td>-1.271175</td>\n",
       "      <td>-2.777909</td>\n",
       "      <td>1.874812</td>\n",
       "      <td>2.913354</td>\n",
       "      <td>-0.759247</td>\n",
       "      <td>1.879917</td>\n",
       "      <td>-1.706313</td>\n",
       "      <td>0.713000</td>\n",
       "      <td>0.704757</td>\n",
       "      <td>-0.896177</td>\n",
       "      <td>-1.868277</td>\n",
       "      <td>2.141621</td>\n",
       "      <td>0.305672</td>\n",
       "      <td>0.431348</td>\n",
       "      <td>3.178584</td>\n",
       "    </tr>\n",
       "  </tbody>\n",
       "</table>\n",
       "<p>1000 rows × 15 columns</p>\n",
       "</div>"
      ],
      "text/plain": [
       "           1         2         3         4         5         6         7   \\\n",
       "0   -0.887267  1.301616  2.526342  0.624163 -0.043041  3.125416 -0.072394   \n",
       "1   -1.112055 -1.978476  1.286084  1.405627  0.643365 -0.670541 -1.960168   \n",
       "2   -1.116793 -1.433649  4.323657  2.178949  1.349459  2.940276 -2.503379   \n",
       "3   -0.617097  1.907876 -0.162354  2.114211  3.751355  1.676581  0.571646   \n",
       "4    1.752709  0.273741  2.837420  4.500355 -0.969673  3.017866 -0.420966   \n",
       "..        ...       ...       ...       ...       ...       ...       ...   \n",
       "995 -3.167989 -1.178509  2.333585  3.939985  1.844811 -0.945498  1.896572   \n",
       "996 -0.543035 -0.600442  1.659483  0.411694  0.556345 -0.311680 -1.484401   \n",
       "997 -1.101224  0.061745 -2.643011  2.718049  2.129001  0.744671 -0.919997   \n",
       "998  0.100376 -0.023865  3.694451  0.528504  0.206076  0.603566 -2.868032   \n",
       "999 -1.271175 -2.777909  1.874812  2.913354 -0.759247  1.879917 -1.706313   \n",
       "\n",
       "           8         9         10        11        12        13        14  \\\n",
       "0   -1.485098  0.698801 -3.882317  2.456350  0.941449 -1.653990  4.071611   \n",
       "1    2.014237  1.564058 -0.200688 -1.932361 -0.031745 -2.645206  2.674907   \n",
       "2    1.187118  0.460150 -2.323096  0.445268  1.063803  1.715785  3.008925   \n",
       "3    1.985068  1.165364 -0.877542 -1.465406 -0.402917 -3.526115  0.741702   \n",
       "4   -0.288935  0.347893 -1.947000 -1.407406 -4.763570 -1.169675  1.076481   \n",
       "..        ...       ...       ...       ...       ...       ...       ...   \n",
       "995 -1.655383 -2.876322 -0.138945  0.024488  0.659430 -1.029882 -0.455779   \n",
       "996 -0.958233  2.148940 -2.603331 -1.664450 -2.476154 -2.769070  3.587455   \n",
       "997 -0.707036  0.319756 -2.593672 -0.972320 -0.269080 -0.766611  1.648997   \n",
       "998 -2.205813 -0.110134 -0.078063 -1.803889  0.433220 -0.622608  1.672734   \n",
       "999  0.713000  0.704757 -0.896177 -1.868277  2.141621  0.305672  0.431348   \n",
       "\n",
       "           15  \n",
       "0   -0.007670  \n",
       "1    1.335990  \n",
       "2    1.319125  \n",
       "3   -0.830261  \n",
       "4    1.900917  \n",
       "..        ...  \n",
       "995  3.161764  \n",
       "996  0.748740  \n",
       "997  0.932666  \n",
       "998  0.509553  \n",
       "999  3.178584  \n",
       "\n",
       "[1000 rows x 15 columns]"
      ]
     },
     "execution_count": 15,
     "metadata": {},
     "output_type": "execute_result"
    }
   ],
   "source": [
    "emb_df.iloc[:,1:]"
   ]
  },
  {
   "cell_type": "markdown",
   "id": "d03f37ce-9864-437c-bf5d-36855144ad21",
   "metadata": {},
   "source": [
    "### Visualize Embedding"
   ]
  },
  {
   "cell_type": "code",
   "execution_count": 16,
   "id": "ae379dd9-9399-4eb9-8253-53635297e9b8",
   "metadata": {},
   "outputs": [
    {
     "data": {
      "text/plain": [
       "<Figure size 432x288 with 0 Axes>"
      ]
     },
     "metadata": {},
     "output_type": "display_data"
    },
    {
     "data": {
      "image/png": "[encoded data removed]",
      "text/plain": [
       "<Figure size 720x576 with 1 Axes>"
      ]
     },
     "metadata": {},
     "output_type": "display_data"
    }
   ],
   "source": [
    "plt.clf()\n",
    "fig=plt.figure(figsize=(10,8))\n",
    "plt.scatter(\n",
    "    x = emb_df.iloc[:,0],\n",
    "    y = emb_df.iloc[:,1],\n",
    "    s = 0.2\n",
    ")\n",
    "plt.show()\n"
   ]
  },
  {
   "cell_type": "markdown",
   "id": "d9f5c8e4-d4d0-4f94-ad4d-434bea8ad416",
   "metadata": {},
   "source": [
    "### PCA"
   ]
  },
  {
   "cell_type": "code",
   "execution_count": 17,
   "id": "31b5e489-eaaf-441b-a1fb-dc97db9bc6b2",
   "metadata": {},
   "outputs": [],
   "source": [
    "pca = PCA(n_components = 2, random_state = 7)\n",
    "pca_mdl = pca.fit_transform(emb_df)"
   ]
  },
  {
   "cell_type": "code",
   "execution_count": 18,
   "id": "bd76ee12-eb70-4ab5-bb7a-a9f245c48baf",
   "metadata": {},
   "outputs": [
    {
     "data": {
      "text/plain": [
       "[]"
      ]
     },
     "execution_count": 18,
     "metadata": {},
     "output_type": "execute_result"
    },
    {
     "data": {
      "text/plain": [
       "<Figure size 432x288 with 0 Axes>"
      ]
     },
     "metadata": {},
     "output_type": "display_data"
    },
    {
     "data": {
      "image/png": "[encoded data removed]",
      "text/plain": [
       "<Figure size 432x288 with 1 Axes>"
      ]
     },
     "metadata": {},
     "output_type": "display_data"
    }
   ],
   "source": [
    "emb_df_PCA = (\n",
    "    pd.DataFrame(\n",
    "        pca_mdl,\n",
    "        columns=['x','y'],\n",
    "        index = emb_df.index\n",
    "    )\n",
    ")\n",
    "plt.clf()\n",
    "fig = plt.figure(figsize=(6,4))\n",
    "plt.scatter(\n",
    "    x = emb_df_PCA['x'],\n",
    "    y = emb_df_PCA['y'],\n",
    "    s = 0.4,\n",
    "    color = 'maroon',\n",
    "    alpha = 0.5\n",
    ")\n",
    "plt.xlabel('PCA-1')\n",
    "plt.ylabel('PCA-2')\n",
    "plt.title('PCA Visualization')\n",
    "plt.plot()"
   ]
  },
  {
   "cell_type": "code",
   "execution_count": 19,
   "id": "beb40063-e7f0-4004-9618-56278a7bad17",
   "metadata": {},
   "outputs": [
    {
     "data": {
      "text/plain": [
       "<seaborn.axisgrid.PairGrid at 0x7fa79085a790>"
      ]
     },
     "execution_count": 19,
     "metadata": {},
     "output_type": "execute_result"
    },
    {
     "data": {
      "image/png": "[encoded data removed]",
      "text/plain": [
       "<Figure size 360x360 with 6 Axes>"
      ]
     },
     "metadata": {},
     "output_type": "display_data"
    }
   ],
   "source": [
    "sns.pairplot(emb_df_PCA)"
   ]
  },
  {
   "cell_type": "markdown",
   "id": "e9c6412f-32bb-4b8f-b9a2-3e1dd936bebd",
   "metadata": {},
   "source": [
    "---"
   ]
  }
 ],
 "metadata": {
  "kernelspec": {
   "display_name": "Python 3",
   "language": "python",
   "name": "python3"
  },
  "language_info": {
   "codemirror_mode": {
    "name": "ipython",
    "version": 3
   },
   "file_extension": ".py",
   "mimetype": "text/x-python",
   "name": "python",
   "nbconvert_exporter": "python",
   "pygments_lexer": "ipython3",
   "version": "3.8.8"
  }
 },
 "nbformat": 4,
 "nbformat_minor": 5
}
