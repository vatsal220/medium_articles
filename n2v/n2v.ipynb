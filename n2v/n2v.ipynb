{
 "cells": [
  {
   "cell_type": "markdown",
   "id": "7dcf55e7-d889-4e45-91e8-a546dbdfebed",
   "metadata": {},
   "source": [
    "# Node2Vec"
   ]
  },
  {
   "cell_type": "code",
   "execution_count": 1,
   "id": "b89935dd-b7ba-4588-a463-9802d10a1f2e",
   "metadata": {},
   "outputs": [],
   "source": [
    "import networkx as nx\n",
    "import pandas as pd\n",
    "import numpy as np\n",
    "import random\n",
    "import matplotlib.pyplot as plt\n",
    "import seaborn as sns\n",
    "\n",
    "from sklearn.decomposition import PCA\n",
    "from node2vec import Node2Vec as n2v\n",
    "from itertools import combinations, groupby\n",
    "sns.set()"
   ]
  },
  {
   "cell_type": "markdown",
   "id": "521bfe85-16ba-40c5-867e-fb9e1a944e9c",
   "metadata": {},
   "source": [
    "## Generate Data"
   ]
  },
  {
   "cell_type": "markdown",
   "id": "1dd7e2b8-fa97-4f8c-aff7-cfd93272f587",
   "metadata": {},
   "source": [
    "## Create Graph"
   ]
  },
  {
   "cell_type": "code",
   "execution_count": 2,
   "id": "e3edea75-8159-47f3-95c4-3ed1cd35ca2f",
   "metadata": {},
   "outputs": [],
   "source": [
    "def generate_graph_deg_dist(deg_dist, n):\n",
    "    '''\n",
    "    This function will generate a networkx graph G based on a degree distribution\n",
    "    provided by the user.\n",
    "    \n",
    "    params:\n",
    "        deg_dist (Dictionary) : The key will be the degree and the value is the probability\n",
    "                                of a node having that degree. The probabilities must sum to\n",
    "                                1\n",
    "        n (Integer) : The number of nodes you want the graph to yield\n",
    "                          \n",
    "    example:\n",
    "        G = generate_graph_deg_dist(\n",
    "                deg_dist = {\n",
    "                    6:0.2,\n",
    "                    3:0.14,\n",
    "                    8:0.35,\n",
    "                    4:0.3,\n",
    "                    11:0.01\n",
    "                },\n",
    "                n = 1000\n",
    "        )\n",
    "    '''\n",
    "    deg = list(deg_dist.keys())\n",
    "    proba = list(deg_dist.values())\n",
    "    if sum(proba) == 1.:\n",
    "        deg_sequence = np.random.choice(\n",
    "            deg,\n",
    "            n,\n",
    "            proba\n",
    "        )\n",
    "        return nx.configuration_model(deg_sequence)\n",
    "    raise ValueError(\"Probabilities do not equal to 1\")"
   ]
  },
  {
   "cell_type": "code",
   "execution_count": 3,
   "id": "8a70c956-fbf8-406a-a1ac-f23ab05601a3",
   "metadata": {},
   "outputs": [],
   "source": [
    "G = generate_graph_deg_dist(\n",
    "        deg_dist = {\n",
    "            6:0.2,\n",
    "            3:0.14,\n",
    "            8:0.35,\n",
    "            4:0.3,\n",
    "            11:0.01\n",
    "        },\n",
    "        n = 1000\n",
    ")"
   ]
  },
  {
   "cell_type": "code",
   "execution_count": 4,
   "id": "db550d58-6daa-4a70-a106-02e8fb4c64c9",
   "metadata": {},
   "outputs": [
    {
     "name": "stdout",
     "output_type": "stream",
     "text": [
      "Name: \n",
      "Type: MultiGraph\n",
      "Number of nodes: 1000\n",
      "Number of edges: 3143\n",
      "Average degree:   6.2860\n"
     ]
    }
   ],
   "source": [
    "print(nx.info(G))"
   ]
  },
  {
   "cell_type": "code",
   "execution_count": 5,
   "id": "025b1311-5a99-441b-a763-495ed71f2f8d",
   "metadata": {},
   "outputs": [
    {
     "data": {
      "image/png": "[encoded data removed]",
      "text/plain": [
       "<Figure size 432x288 with 1 Axes>"
      ]
     },
     "metadata": {},
     "output_type": "display_data"
    }
   ],
   "source": [
    "plt.clf()\n",
    "plt.hist(list(dict(G.degree()).values()))\n",
    "plt.title('Degree Distribution')\n",
    "plt.show()"
   ]
  },
  {
   "cell_type": "code",
   "execution_count": 6,
   "id": "f177108f-2a2d-4672-84d7-5f6f257d01ad",
   "metadata": {},
   "outputs": [],
   "source": [
    "def generate_graph(n, p, dt = nx.MultiGraph()):\n",
    "    '''\n",
    "    This function will generate a graph G based on the users input parameters\n",
    "    source : https://stackoverflow.com/questions/61958360/how-to-create-random-graph-where-each-node-has-at-least-1-edge-using-networkx\n",
    "    \n",
    "    params:\n",
    "        n (Integer) : The number of nodes you would like in the graph\n",
    "        p (Float) : The probability of adding an edge between nodes\n",
    "        dt (Function) : The type of the graph you want to create\n",
    "    \n",
    "    returns:\n",
    "        A networkx graph\n",
    "    \n",
    "    example:\n",
    "        G = generate_graph(\n",
    "            n = 1000,\n",
    "            p = 0.15,\n",
    "            dt = nx.MultiGraph()\n",
    "        )\n",
    "    '''\n",
    "    edges = combinations(range(n), 2)\n",
    "    G = dt\n",
    "    G.add_nodes_from(range(n))\n",
    "    \n",
    "    if p <= 0:\n",
    "        return G\n",
    "    elif p >= 1:\n",
    "        return nx.complete_graph(n, create_using = G)\n",
    "    else:\n",
    "        for _, ne in groupby(edges, key = lambda x : x[0]):\n",
    "            ne = list(ne)\n",
    "            re = random.choice(ne)\n",
    "            G.add_edge(*re)\n",
    "            for e in ne:\n",
    "                if random.random() < p:\n",
    "                    G.add_edge(*e)\n",
    "    return G"
   ]
  },
  {
   "cell_type": "code",
   "execution_count": 7,
   "id": "ee577b31-349f-485d-95f4-5ac7d45e8603",
   "metadata": {},
   "outputs": [],
   "source": [
    "# G = generate_graph(n = 1000, p = 0.15, dt = nx.MultiGraph())"
   ]
  },
  {
   "cell_type": "markdown",
   "id": "28a00881-ab1c-4d27-8296-2d3d664b3b6c",
   "metadata": {},
   "source": [
    "## Node2Vec"
   ]
  },
  {
   "cell_type": "markdown",
   "id": "4bbfe2e0-e003-40f0-8186-f8cd9b91071b",
   "metadata": {},
   "source": [
    "**Parameter Info**  \n",
    "- graph: a graph g, where all nodes must be integers or strings  \n",
    "- dimensions: embedding dimensions (default: 128)  \n",
    "- walk_length: number of nodes in each walk (default: 80)  \n",
    "- num_walks: number of walks per node (default: 10)  \n",
    "- weight_key: the key for the weight attribute on weighted graphs (default: 'weight')  \n",
    "- workers: number of workers for parallel execution (default: 1)\n",
    "- p: the probability of a random walk getting back to the previous node (default: 1)\n",
    "- q: probability that a random walk can pass through a previously unseen part of the graph (default: 1)\n",
    "\n",
    "Node2Vec.fit method: Accepts any key word argument acceptable by gensim.Word2Vec"
   ]
  },
  {
   "cell_type": "code",
   "execution_count": 8,
   "id": "66fc362d-49c4-4c4b-b255-5989bee553ea",
   "metadata": {},
   "outputs": [
    {
     "data": {
      "application/vnd.jupyter.widget-view+json": {
       "model_id": "737fa89d993045d5b60d15217eb4444c",
       "version_major": 2,
       "version_minor": 0
      },
      "text/plain": [
       "Computing transition probabilities:   0%|          | 0/1000 [00:00<?, ?it/s]"
      ]
     },
     "metadata": {},
     "output_type": "display_data"
    },
    {
     "name": "stderr",
     "output_type": "stream",
     "text": [
      "Generating walks (CPU: 1): 100%|██████████| 10/10 [00:17<00:00,  1.74s/it]"
     ]
    },
    {
     "name": "stdout",
     "output_type": "stream",
     "text": [
      "CPU times: user 17.3 s, sys: 213 ms, total: 17.5 s\n",
      "Wall time: 17.7 s\n"
     ]
    },
    {
     "name": "stderr",
     "output_type": "stream",
     "text": [
      "\n"
     ]
    }
   ],
   "source": [
    "%time g_emb = n2v(G, dimensions=16)"
   ]
  },
  {
   "cell_type": "code",
   "execution_count": 9,
   "id": "b5fb562c-9146-4ef6-b6c0-805c6cd45844",
   "metadata": {},
   "outputs": [],
   "source": [
    "WINDOW = 1 # Node2Vec fit window\n",
    "MIN_COUNT = 1 # Node2Vec min. count\n",
    "BATCH_WORDS = 4 # Node2Vec batch words"
   ]
  },
  {
   "cell_type": "code",
   "execution_count": 10,
   "id": "72db7100-9439-4335-80d6-db54aa17573a",
   "metadata": {},
   "outputs": [],
   "source": [
    "mdl = g_emb.fit(\n",
    "    vector_size = 16,\n",
    "    window=WINDOW,\n",
    "    min_count=MIN_COUNT,\n",
    "    batch_words=BATCH_WORDS\n",
    ")"
   ]
  },
  {
   "cell_type": "code",
   "execution_count": 11,
   "id": "223fa674-87f9-433c-8ea2-d560ac101e48",
   "metadata": {},
   "outputs": [
    {
     "name": "stdout",
     "output_type": "stream",
     "text": [
      "('756', 0.7933932542800903)\n",
      "('375', 0.7720752954483032)\n",
      "('577', 0.7687777876853943)\n",
      "('167', 0.7664852142333984)\n",
      "('13', 0.7619829773902893)\n",
      "('83', 0.7486824989318848)\n",
      "('478', 0.7127817273139954)\n",
      "('89', 0.7047479152679443)\n",
      "('53', 0.703134298324585)\n",
      "('126', 0.7027734518051147)\n"
     ]
    }
   ],
   "source": [
    "input_node = '1'\n",
    "for s in mdl.wv.most_similar(input_node, topn = 10):\n",
    "    print(s)"
   ]
  },
  {
   "cell_type": "markdown",
   "id": "bed245ac-7e5e-4cae-a680-d54dd7fc85ae",
   "metadata": {},
   "source": [
    "## Convert to DataFrame"
   ]
  },
  {
   "cell_type": "code",
   "execution_count": 12,
   "id": "a71a8b67-c6ca-43c0-910c-f78963a2b226",
   "metadata": {},
   "outputs": [],
   "source": [
    "emb_df = (\n",
    "    pd.DataFrame(\n",
    "        [mdl.wv.get_vector(str(n)) for n in G.nodes()],\n",
    "        index = G.nodes\n",
    "    )\n",
    ")"
   ]
  },
  {
   "cell_type": "code",
   "execution_count": 13,
   "id": "c160b83c-d44c-4a40-80c7-7ff88b58e816",
   "metadata": {},
   "outputs": [
    {
     "data": {
      "text/html": [
       "<div>\n",
       "<style scoped>\n",
       "    .dataframe tbody tr th:only-of-type {\n",
       "        vertical-align: middle;\n",
       "    }\n",
       "\n",
       "    .dataframe tbody tr th {\n",
       "        vertical-align: top;\n",
       "    }\n",
       "\n",
       "    .dataframe thead th {\n",
       "        text-align: right;\n",
       "    }\n",
       "</style>\n",
       "<table border=\"1\" class=\"dataframe\">\n",
       "  <thead>\n",
       "    <tr style=\"text-align: right;\">\n",
       "      <th></th>\n",
       "      <th>1</th>\n",
       "      <th>2</th>\n",
       "      <th>3</th>\n",
       "      <th>4</th>\n",
       "      <th>5</th>\n",
       "      <th>6</th>\n",
       "      <th>7</th>\n",
       "      <th>8</th>\n",
       "      <th>9</th>\n",
       "      <th>10</th>\n",
       "      <th>11</th>\n",
       "      <th>12</th>\n",
       "      <th>13</th>\n",
       "      <th>14</th>\n",
       "      <th>15</th>\n",
       "    </tr>\n",
       "  </thead>\n",
       "  <tbody>\n",
       "    <tr>\n",
       "      <th>0</th>\n",
       "      <td>-1.712854</td>\n",
       "      <td>-1.050565</td>\n",
       "      <td>4.321873</td>\n",
       "      <td>1.556353</td>\n",
       "      <td>1.421933</td>\n",
       "      <td>-1.472607</td>\n",
       "      <td>0.609509</td>\n",
       "      <td>0.306264</td>\n",
       "      <td>-2.784507</td>\n",
       "      <td>-1.643659</td>\n",
       "      <td>0.801082</td>\n",
       "      <td>0.061020</td>\n",
       "      <td>0.155474</td>\n",
       "      <td>0.571129</td>\n",
       "      <td>2.321612</td>\n",
       "    </tr>\n",
       "    <tr>\n",
       "      <th>1</th>\n",
       "      <td>-2.459154</td>\n",
       "      <td>1.637176</td>\n",
       "      <td>3.221939</td>\n",
       "      <td>1.607493</td>\n",
       "      <td>3.147786</td>\n",
       "      <td>1.438641</td>\n",
       "      <td>0.228233</td>\n",
       "      <td>-0.584699</td>\n",
       "      <td>0.143911</td>\n",
       "      <td>1.066634</td>\n",
       "      <td>2.040638</td>\n",
       "      <td>2.655405</td>\n",
       "      <td>-0.224046</td>\n",
       "      <td>1.242002</td>\n",
       "      <td>0.753592</td>\n",
       "    </tr>\n",
       "    <tr>\n",
       "      <th>2</th>\n",
       "      <td>-3.498874</td>\n",
       "      <td>-0.937272</td>\n",
       "      <td>1.371027</td>\n",
       "      <td>3.405845</td>\n",
       "      <td>-1.387344</td>\n",
       "      <td>0.849538</td>\n",
       "      <td>-0.895507</td>\n",
       "      <td>-1.313437</td>\n",
       "      <td>-0.355335</td>\n",
       "      <td>2.009356</td>\n",
       "      <td>-1.991130</td>\n",
       "      <td>-2.845134</td>\n",
       "      <td>-2.704730</td>\n",
       "      <td>1.610154</td>\n",
       "      <td>1.652971</td>\n",
       "    </tr>\n",
       "    <tr>\n",
       "      <th>3</th>\n",
       "      <td>-0.974262</td>\n",
       "      <td>-0.971458</td>\n",
       "      <td>2.333132</td>\n",
       "      <td>0.592864</td>\n",
       "      <td>1.097420</td>\n",
       "      <td>-0.037944</td>\n",
       "      <td>-1.426023</td>\n",
       "      <td>0.483720</td>\n",
       "      <td>0.906778</td>\n",
       "      <td>1.140881</td>\n",
       "      <td>-0.843988</td>\n",
       "      <td>-1.559781</td>\n",
       "      <td>1.020694</td>\n",
       "      <td>0.626979</td>\n",
       "      <td>2.135001</td>\n",
       "    </tr>\n",
       "    <tr>\n",
       "      <th>4</th>\n",
       "      <td>0.519198</td>\n",
       "      <td>-2.516932</td>\n",
       "      <td>0.590248</td>\n",
       "      <td>4.398581</td>\n",
       "      <td>2.410549</td>\n",
       "      <td>3.135239</td>\n",
       "      <td>-1.587282</td>\n",
       "      <td>-0.322355</td>\n",
       "      <td>-2.120924</td>\n",
       "      <td>0.362177</td>\n",
       "      <td>-0.298535</td>\n",
       "      <td>-0.245484</td>\n",
       "      <td>-0.825775</td>\n",
       "      <td>-0.157623</td>\n",
       "      <td>-0.746540</td>\n",
       "    </tr>\n",
       "    <tr>\n",
       "      <th>...</th>\n",
       "      <td>...</td>\n",
       "      <td>...</td>\n",
       "      <td>...</td>\n",
       "      <td>...</td>\n",
       "      <td>...</td>\n",
       "      <td>...</td>\n",
       "      <td>...</td>\n",
       "      <td>...</td>\n",
       "      <td>...</td>\n",
       "      <td>...</td>\n",
       "      <td>...</td>\n",
       "      <td>...</td>\n",
       "      <td>...</td>\n",
       "      <td>...</td>\n",
       "      <td>...</td>\n",
       "    </tr>\n",
       "    <tr>\n",
       "      <th>995</th>\n",
       "      <td>-1.421047</td>\n",
       "      <td>-2.239338</td>\n",
       "      <td>-0.206053</td>\n",
       "      <td>4.361665</td>\n",
       "      <td>2.930164</td>\n",
       "      <td>0.041928</td>\n",
       "      <td>-1.814239</td>\n",
       "      <td>-2.219872</td>\n",
       "      <td>0.415628</td>\n",
       "      <td>-2.939789</td>\n",
       "      <td>-0.747229</td>\n",
       "      <td>-1.432920</td>\n",
       "      <td>-0.065409</td>\n",
       "      <td>1.217435</td>\n",
       "      <td>1.510454</td>\n",
       "    </tr>\n",
       "    <tr>\n",
       "      <th>996</th>\n",
       "      <td>-1.905780</td>\n",
       "      <td>-1.496704</td>\n",
       "      <td>0.916671</td>\n",
       "      <td>0.547003</td>\n",
       "      <td>2.713022</td>\n",
       "      <td>0.644557</td>\n",
       "      <td>-0.183144</td>\n",
       "      <td>2.243631</td>\n",
       "      <td>0.767946</td>\n",
       "      <td>-0.949519</td>\n",
       "      <td>-3.350038</td>\n",
       "      <td>3.026863</td>\n",
       "      <td>0.560149</td>\n",
       "      <td>3.743954</td>\n",
       "      <td>-0.692958</td>\n",
       "    </tr>\n",
       "    <tr>\n",
       "      <th>997</th>\n",
       "      <td>-0.590842</td>\n",
       "      <td>-2.798633</td>\n",
       "      <td>1.578065</td>\n",
       "      <td>1.618203</td>\n",
       "      <td>2.038006</td>\n",
       "      <td>-1.702867</td>\n",
       "      <td>-3.595840</td>\n",
       "      <td>-0.762899</td>\n",
       "      <td>-2.400693</td>\n",
       "      <td>-1.462178</td>\n",
       "      <td>-2.641855</td>\n",
       "      <td>0.814362</td>\n",
       "      <td>-0.170160</td>\n",
       "      <td>1.036102</td>\n",
       "      <td>-2.084362</td>\n",
       "    </tr>\n",
       "    <tr>\n",
       "      <th>998</th>\n",
       "      <td>-0.931812</td>\n",
       "      <td>0.146484</td>\n",
       "      <td>1.199470</td>\n",
       "      <td>3.559936</td>\n",
       "      <td>3.313020</td>\n",
       "      <td>4.468854</td>\n",
       "      <td>0.562990</td>\n",
       "      <td>-0.811669</td>\n",
       "      <td>0.638685</td>\n",
       "      <td>-2.920376</td>\n",
       "      <td>-1.020955</td>\n",
       "      <td>-0.369063</td>\n",
       "      <td>-0.119138</td>\n",
       "      <td>-0.389962</td>\n",
       "      <td>-1.492992</td>\n",
       "    </tr>\n",
       "    <tr>\n",
       "      <th>999</th>\n",
       "      <td>-0.076898</td>\n",
       "      <td>-0.419584</td>\n",
       "      <td>-0.886892</td>\n",
       "      <td>-0.072822</td>\n",
       "      <td>2.914254</td>\n",
       "      <td>3.138094</td>\n",
       "      <td>-1.017793</td>\n",
       "      <td>-1.013729</td>\n",
       "      <td>3.177137</td>\n",
       "      <td>-2.698336</td>\n",
       "      <td>-2.242576</td>\n",
       "      <td>-1.719311</td>\n",
       "      <td>-1.100919</td>\n",
       "      <td>1.940784</td>\n",
       "      <td>4.078805</td>\n",
       "    </tr>\n",
       "  </tbody>\n",
       "</table>\n",
       "<p>1000 rows × 15 columns</p>\n",
       "</div>"
      ],
      "text/plain": [
       "           1         2         3         4         5         6         7   \\\n",
       "0   -1.712854 -1.050565  4.321873  1.556353  1.421933 -1.472607  0.609509   \n",
       "1   -2.459154  1.637176  3.221939  1.607493  3.147786  1.438641  0.228233   \n",
       "2   -3.498874 -0.937272  1.371027  3.405845 -1.387344  0.849538 -0.895507   \n",
       "3   -0.974262 -0.971458  2.333132  0.592864  1.097420 -0.037944 -1.426023   \n",
       "4    0.519198 -2.516932  0.590248  4.398581  2.410549  3.135239 -1.587282   \n",
       "..        ...       ...       ...       ...       ...       ...       ...   \n",
       "995 -1.421047 -2.239338 -0.206053  4.361665  2.930164  0.041928 -1.814239   \n",
       "996 -1.905780 -1.496704  0.916671  0.547003  2.713022  0.644557 -0.183144   \n",
       "997 -0.590842 -2.798633  1.578065  1.618203  2.038006 -1.702867 -3.595840   \n",
       "998 -0.931812  0.146484  1.199470  3.559936  3.313020  4.468854  0.562990   \n",
       "999 -0.076898 -0.419584 -0.886892 -0.072822  2.914254  3.138094 -1.017793   \n",
       "\n",
       "           8         9         10        11        12        13        14  \\\n",
       "0    0.306264 -2.784507 -1.643659  0.801082  0.061020  0.155474  0.571129   \n",
       "1   -0.584699  0.143911  1.066634  2.040638  2.655405 -0.224046  1.242002   \n",
       "2   -1.313437 -0.355335  2.009356 -1.991130 -2.845134 -2.704730  1.610154   \n",
       "3    0.483720  0.906778  1.140881 -0.843988 -1.559781  1.020694  0.626979   \n",
       "4   -0.322355 -2.120924  0.362177 -0.298535 -0.245484 -0.825775 -0.157623   \n",
       "..        ...       ...       ...       ...       ...       ...       ...   \n",
       "995 -2.219872  0.415628 -2.939789 -0.747229 -1.432920 -0.065409  1.217435   \n",
       "996  2.243631  0.767946 -0.949519 -3.350038  3.026863  0.560149  3.743954   \n",
       "997 -0.762899 -2.400693 -1.462178 -2.641855  0.814362 -0.170160  1.036102   \n",
       "998 -0.811669  0.638685 -2.920376 -1.020955 -0.369063 -0.119138 -0.389962   \n",
       "999 -1.013729  3.177137 -2.698336 -2.242576 -1.719311 -1.100919  1.940784   \n",
       "\n",
       "           15  \n",
       "0    2.321612  \n",
       "1    0.753592  \n",
       "2    1.652971  \n",
       "3    2.135001  \n",
       "4   -0.746540  \n",
       "..        ...  \n",
       "995  1.510454  \n",
       "996 -0.692958  \n",
       "997 -2.084362  \n",
       "998 -1.492992  \n",
       "999  4.078805  \n",
       "\n",
       "[1000 rows x 15 columns]"
      ]
     },
     "execution_count": 13,
     "metadata": {},
     "output_type": "execute_result"
    }
   ],
   "source": [
    "emb_df.iloc[:,1:]"
   ]
  },
  {
   "cell_type": "markdown",
   "id": "d03f37ce-9864-437c-bf5d-36855144ad21",
   "metadata": {},
   "source": [
    "### Visualize Embedding"
   ]
  },
  {
   "cell_type": "code",
   "execution_count": null,
   "id": "ae379dd9-9399-4eb9-8253-53635297e9b8",
   "metadata": {},
   "outputs": [],
   "source": [
    "plt.clf()\n",
    "fig=plt.figure(figsize=(10,8))\n",
    "plt.scatter(\n",
    "    x = emb_df.iloc[:,0],\n",
    "    y = emb_df.iloc[:,1],\n",
    "    s = 0.2\n",
    ")\n",
    "plt.show()\n"
   ]
  },
  {
   "cell_type": "markdown",
   "id": "d9f5c8e4-d4d0-4f94-ad4d-434bea8ad416",
   "metadata": {},
   "source": [
    "### PCA"
   ]
  },
  {
   "cell_type": "code",
   "execution_count": null,
   "id": "31b5e489-eaaf-441b-a1fb-dc97db9bc6b2",
   "metadata": {},
   "outputs": [],
   "source": [
    "pca = PCA(n_components = 2, random_state = 7)\n",
    "pca_mdl = pca.fit_transform(emb_df)"
   ]
  },
  {
   "cell_type": "code",
   "execution_count": null,
   "id": "bd76ee12-eb70-4ab5-bb7a-a9f245c48baf",
   "metadata": {},
   "outputs": [],
   "source": [
    "emb_df_PCA = (\n",
    "    pd.DataFrame(\n",
    "        pca_mdl,\n",
    "        columns=['x','y'],\n",
    "        index = emb_df.index\n",
    "    )\n",
    ")\n",
    "plt.clf()\n",
    "fig = plt.figure(figsize=(6,4))\n",
    "plt.scatter(\n",
    "    x = emb_df_PCA['x'],\n",
    "    y = emb_df_PCA['y'],\n",
    "    s = 0.4,\n",
    "    color = 'maroon',\n",
    "    alpha = 0.5\n",
    ")\n",
    "plt.xlabel('PCA-1')\n",
    "plt.ylabel('PCA-2')\n",
    "plt.title('PCA Visualization')\n",
    "plt.plot()"
   ]
  },
  {
   "cell_type": "code",
   "execution_count": null,
   "id": "beb40063-e7f0-4004-9618-56278a7bad17",
   "metadata": {},
   "outputs": [],
   "source": [
    "sns.pairplot(emb_df_PCA)"
   ]
  },
  {
   "cell_type": "markdown",
   "id": "e9c6412f-32bb-4b8f-b9a2-3e1dd936bebd",
   "metadata": {},
   "source": [
    "---"
   ]
  }
 ],
 "metadata": {
  "kernelspec": {
   "display_name": "Python 3",
   "language": "python",
   "name": "python3"
  },
  "language_info": {
   "codemirror_mode": {
    "name": "ipython",
    "version": 3
   },
   "file_extension": ".py",
   "mimetype": "text/x-python",
   "name": "python",
   "nbconvert_exporter": "python",
   "pygments_lexer": "ipython3",
   "version": "3.8.8"
  }
 },
 "nbformat": 4,
 "nbformat_minor": 5
}
