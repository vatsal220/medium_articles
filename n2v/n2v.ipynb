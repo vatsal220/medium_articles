{
 "cells": [
  {
   "cell_type": "markdown",
   "id": "7dcf55e7-d889-4e45-91e8-a546dbdfebed",
   "metadata": {},
   "source": [
    "# Node2Vec"
   ]
  },
  {
   "cell_type": "code",
   "execution_count": 1,
   "id": "b89935dd-b7ba-4588-a463-9802d10a1f2e",
   "metadata": {},
   "outputs": [],
   "source": [
    "\"\"\"\n",
    "@author: vatsal\n",
    "\"\"\"\n",
    "\n",
    "import networkx as nx\n",
    "import pandas as pd"
   ]
  },
  {
   "cell_type": "code",
   "execution_count": 2,
   "id": "a0606521-fdf4-4ada-8097-04b03491a7c9",
   "metadata": {},
   "outputs": [],
   "source": [
    "from node2vec import Node2Vec as n2v"
   ]
  },
  {
   "cell_type": "code",
   "execution_count": 3,
   "id": "6d797e86-4b4a-4642-85b4-d2b28c4bb302",
   "metadata": {},
   "outputs": [],
   "source": [
    "# Constants\n",
    "DIMENSIONS = 2    # node2vec dimensions\n",
    "WORKERS = 4       # node2vec workers\n",
    "NUM_WALKS = 10    # node2vec num_walks\n",
    "WINDOW = 1        # node2vec fit window\n",
    "MIN_COUNT = 1     # node2vec min count\n",
    "WALK_LENGTH = 10  # node2vec walk_length\n",
    "BATCH_WORDS = 4   # node2vec batch words"
   ]
  },
  {
   "cell_type": "markdown",
   "id": "e74b0aa0-f7bb-42b5-9373-d55b02d09407",
   "metadata": {},
   "source": [
    "## Create Graph"
   ]
  },
  {
   "cell_type": "code",
   "execution_count": 13,
   "id": "dd0a4dea-a863-4f7e-b899-98e5ef000d41",
   "metadata": {},
   "outputs": [],
   "source": [
    "g = nx.wheel_graph(5000)"
   ]
  },
  {
   "cell_type": "code",
   "execution_count": 14,
   "id": "3b683097-6cee-4191-9a2e-1cc65131fc80",
   "metadata": {},
   "outputs": [
    {
     "name": "stdout",
     "output_type": "stream",
     "text": [
      "Name: \n",
      "Type: Graph\n",
      "Number of nodes: 5000\n",
      "Number of edges: 9998\n",
      "Average degree:   3.9992\n"
     ]
    }
   ],
   "source": [
    "print(nx.info(g))"
   ]
  },
  {
   "cell_type": "markdown",
   "id": "0ec2b029-4da8-43dc-a143-ff7bb26c46a5",
   "metadata": {},
   "source": [
    "### Node2Vec"
   ]
  },
  {
   "cell_type": "markdown",
   "id": "3dd63c8d-7e2f-44f8-9be0-f7cb53a64c8d",
   "metadata": {},
   "source": [
    "**Parameter Info**  \n",
    "- graph: a graph g, where all nodes must be integers or strings  \n",
    "- dimensions: embedding dimensions (default: 128)  \n",
    "- walk_length: number of nodes in each walk (default: 80)  \n",
    "- num_walks: number of walks per node (default: 10)  \n",
    "- weight_key: the key for the weight attribute on weighted graphs (default: 'weight')  \n",
    "- workers: number of workers for parallel execution (default: 1)\n",
    "\n",
    "Node2Vec.fit method: Accepts any key word argument acceptable by gensim.Word2Vec"
   ]
  },
  {
   "cell_type": "code",
   "execution_count": 17,
   "id": "1a3d6b87-4daa-4e8e-80df-ea093937a714",
   "metadata": {},
   "outputs": [],
   "source": [
    "def n2v_model(graph, dimensions, walk_length, num_walks, workers, window, min_count, batch_words):\n",
    "    \n",
    "    '''\n",
    "    The purpose of this function is to embed a network using the node2vec algorithm.\n",
    "    '''\n",
    "    \n",
    "    node2vec = n2v(graph,\n",
    "                   dimensions = dimensions,\n",
    "                   walk_length = walk_length,\n",
    "                   num_walks = num_walks,\n",
    "                   workers = workers)\n",
    "    \n",
    "    # any parameters acceptable by gensim.Word2Vec can be passed\n",
    "    # 'dimensions' and 'workers' are automatically passed from the node2vec constructor\n",
    "\n",
    "    # embed nodes\n",
    "    model = node2vec.fit(window=window,\n",
    "                         min_count=min_count,\n",
    "                         batch_words=batch_words)\n",
    "    \n",
    "    return model"
   ]
  },
  {
   "cell_type": "code",
   "execution_count": 16,
   "id": "f754e74a-0b46-4c01-927a-da56191cf344",
   "metadata": {},
   "outputs": [
    {
     "data": {
      "application/vnd.jupyter.widget-view+json": {
       "model_id": "85489ec4156648b0ab1a86b990f8b6c0",
       "version_major": 2,
       "version_minor": 0
      },
      "text/plain": [
       "Computing transition probabilities:   0%|          | 0/5000 [00:00<?, ?it/s]"
      ]
     },
     "metadata": {},
     "output_type": "display_data"
    }
   ],
   "source": [
    "model = n2v_model(\n",
    "    g,\n",
    "    dimensions=DIMENSIONS,\n",
    "    walk_length=WALK_LENGTH,\n",
    "    num_walks=NUM_WALKS,\n",
    "    workers=WORKERS,\n",
    "    window=WINDOW,\n",
    "    min_count=MIN_COUNT,\n",
    "    batch_words=BATCH_WORDS\n",
    ")\n"
   ]
  },
  {
   "cell_type": "code",
   "execution_count": 18,
   "id": "384414f7-fde3-4944-beb4-bf5bb49e0021",
   "metadata": {},
   "outputs": [
    {
     "data": {
      "text/plain": [
       "<gensim.models.word2vec.Word2Vec at 0x7f8603d3a6a0>"
      ]
     },
     "execution_count": 18,
     "metadata": {},
     "output_type": "execute_result"
    }
   ],
   "source": [
    "model"
   ]
  },
  {
   "cell_type": "code",
   "execution_count": null,
   "id": "25ec2ee5-3185-4802-90b1-3ecc2ec86e1e",
   "metadata": {},
   "outputs": [],
   "source": []
  }
 ],
 "metadata": {
  "kernelspec": {
   "display_name": "Python 3",
   "language": "python",
   "name": "python3"
  },
  "language_info": {
   "codemirror_mode": {
    "name": "ipython",
    "version": 3
   },
   "file_extension": ".py",
   "mimetype": "text/x-python",
   "name": "python",
   "nbconvert_exporter": "python",
   "pygments_lexer": "ipython3",
   "version": "3.8.8"
  }
 },
 "nbformat": 4,
 "nbformat_minor": 5
}
