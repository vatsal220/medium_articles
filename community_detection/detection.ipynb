{
 "cells": [
  {
   "cell_type": "markdown",
   "id": "1789b68b-575c-4c31-bd5d-420598a56c09",
   "metadata": {},
   "source": [
    "# Community Detection"
   ]
  },
  {
   "cell_type": "code",
   "execution_count": 1,
   "id": "1923ed05-8bc0-46bc-8258-de84416712cf",
   "metadata": {},
   "outputs": [],
   "source": [
    "import networkx as nx\n",
    "import pandas as pd\n",
    "import numpy as np\n",
    "\n",
    "from node2vec import Node2Vec as n2v"
   ]
  },
  {
   "cell_type": "code",
   "execution_count": 2,
   "id": "a432afd6-db1b-4fd6-8750-be772373edd7",
   "metadata": {},
   "outputs": [],
   "source": [
    "# constants\n"
   ]
  },
  {
   "cell_type": "markdown",
   "id": "57b8cc8e-042c-492a-be20-935d8d7551bb",
   "metadata": {},
   "source": [
    "## Import Data"
   ]
  },
  {
   "cell_type": "code",
   "execution_count": null,
   "id": "a15c0477-d6b0-425e-a5ba-a267f69bd871",
   "metadata": {},
   "outputs": [],
   "source": []
  },
  {
   "cell_type": "code",
   "execution_count": null,
   "id": "06212025-e723-4da2-b53a-2ad504d1455d",
   "metadata": {},
   "outputs": [],
   "source": []
  },
  {
   "cell_type": "markdown",
   "id": "4c264ef7-3e7c-463f-950b-ffd59b9be99e",
   "metadata": {},
   "source": [
    "## Create Network"
   ]
  },
  {
   "cell_type": "code",
   "execution_count": null,
   "id": "e5375aac-dcfe-430e-ac9a-093a43e2da58",
   "metadata": {},
   "outputs": [],
   "source": []
  },
  {
   "cell_type": "code",
   "execution_count": null,
   "id": "6288115f-96bf-437f-be42-378965813153",
   "metadata": {},
   "outputs": [],
   "source": []
  },
  {
   "cell_type": "markdown",
   "id": "37d97cc2-54be-4180-a241-2e44d7bf35b8",
   "metadata": {},
   "source": [
    "## Algorithmic Community Detection  \n",
    "There are many algorithmic algorithms associated with community detection on networks. In this tutorial I will cover the Greedy and Girvan Newman's approach to community detection. There are many other algorithms (like Louvaine's algorithm) which does community detection on networks and I highly encourage you to research and implement those as well. You can find a lot of them here in the NetworkX [documentation](https://networkx.org/documentation/stable/reference/algorithms/community.html) [1]. I will go over the intution and python implementation of these two algorithms and see how they differ on the network in comparison to a semi-supervised machine learning approach. "
   ]
  },
  {
   "cell_type": "markdown",
   "id": "f1ce4056-87b8-4955-bbd5-048843f3f876",
   "metadata": {},
   "source": [
    "### Girvan Newman's Algorithm"
   ]
  },
  {
   "cell_type": "code",
   "execution_count": null,
   "id": "c9e350de-2cc3-422f-b347-6a6e9a2ba7b9",
   "metadata": {},
   "outputs": [],
   "source": []
  },
  {
   "cell_type": "code",
   "execution_count": null,
   "id": "a29f9edf-6b75-466b-b7f8-c89c0ad3678a",
   "metadata": {},
   "outputs": [],
   "source": []
  },
  {
   "cell_type": "markdown",
   "id": "9c843ea5-405e-4263-bdd4-c2da1be80ddf",
   "metadata": {},
   "source": [
    "### Greedy Community Detection"
   ]
  },
  {
   "cell_type": "code",
   "execution_count": null,
   "id": "f3f4d7ee-89bc-4f9b-a513-3e097bda9da5",
   "metadata": {},
   "outputs": [],
   "source": []
  },
  {
   "cell_type": "code",
   "execution_count": null,
   "id": "a187a1b6-1697-4706-aec6-81cad6beaaec",
   "metadata": {},
   "outputs": [],
   "source": []
  },
  {
   "cell_type": "markdown",
   "id": "b02f54f1-4025-4730-bdd6-76a545ab42ee",
   "metadata": {},
   "source": [
    "## Apply Node2Vec"
   ]
  },
  {
   "cell_type": "code",
   "execution_count": null,
   "id": "00522317-544a-4002-b42a-1e13d29e5c4d",
   "metadata": {},
   "outputs": [],
   "source": []
  },
  {
   "cell_type": "code",
   "execution_count": null,
   "id": "4f38f1e3-f260-4041-9164-038f286d8b0c",
   "metadata": {},
   "outputs": [],
   "source": []
  },
  {
   "cell_type": "markdown",
   "id": "51dced9b-9f43-4b39-9f4b-f1935e89dcf2",
   "metadata": {},
   "source": [
    "## Generate Embeddings"
   ]
  },
  {
   "cell_type": "code",
   "execution_count": null,
   "id": "0f9cb803-4d9e-409f-8a24-1ef83cdadcf9",
   "metadata": {},
   "outputs": [],
   "source": []
  },
  {
   "cell_type": "code",
   "execution_count": null,
   "id": "0402f80e-166b-4d7f-85af-89f0328bba40",
   "metadata": {},
   "outputs": [],
   "source": []
  },
  {
   "cell_type": "markdown",
   "id": "6e89aa65-c375-48e6-a210-61f05588df6a",
   "metadata": {},
   "source": [
    "## k-Means"
   ]
  },
  {
   "cell_type": "code",
   "execution_count": null,
   "id": "fe781760-d9b8-4481-9749-0b7053b732da",
   "metadata": {},
   "outputs": [],
   "source": []
  },
  {
   "cell_type": "code",
   "execution_count": null,
   "id": "b816d0d6-a33d-4de1-a5bf-ef633e17350e",
   "metadata": {},
   "outputs": [],
   "source": []
  },
  {
   "cell_type": "markdown",
   "id": "451ce8e6-98a8-45b2-a9ab-620d7a722620",
   "metadata": {},
   "source": [
    "## Model Performance"
   ]
  },
  {
   "cell_type": "code",
   "execution_count": null,
   "id": "028008ad-1954-42dd-8f60-9e610f73e0eb",
   "metadata": {},
   "outputs": [],
   "source": []
  },
  {
   "cell_type": "code",
   "execution_count": null,
   "id": "9aeca625-b887-4de9-a884-461a562a02c2",
   "metadata": {},
   "outputs": [],
   "source": []
  },
  {
   "cell_type": "markdown",
   "id": "0ab4a92b-88be-45e4-9154-64061e624706",
   "metadata": {},
   "source": [
    "## Concluding Remarks"
   ]
  },
  {
   "cell_type": "markdown",
   "id": "bdccd208-2850-48f6-aec9-1522fa085af1",
   "metadata": {},
   "source": [
    "## Resources\n",
    "- [1] https://networkx.org/documentation/stable/reference/algorithms/community.html"
   ]
  },
  {
   "cell_type": "markdown",
   "id": "9e697b2e-281c-4f90-8e8b-6a3a86416497",
   "metadata": {},
   "source": [
    "---"
   ]
  }
 ],
 "metadata": {
  "kernelspec": {
   "display_name": "Python 3",
   "language": "python",
   "name": "python3"
  },
  "language_info": {
   "codemirror_mode": {
    "name": "ipython",
    "version": 3
   },
   "file_extension": ".py",
   "mimetype": "text/x-python",
   "name": "python",
   "nbconvert_exporter": "python",
   "pygments_lexer": "ipython3",
   "version": "3.8.8"
  }
 },
 "nbformat": 4,
 "nbformat_minor": 5
}
