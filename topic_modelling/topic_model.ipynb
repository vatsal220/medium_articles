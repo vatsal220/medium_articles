{
 "cells": [
  {
   "cell_type": "markdown",
   "id": "8644bf09-042c-4b56-b4ba-9de0edb79459",
   "metadata": {},
   "source": [
    "# Supervised & Unsupervised Topic Modelling"
   ]
  },
  {
   "cell_type": "code",
   "execution_count": 1,
   "id": "6af3e56d-77d1-40ac-bdcc-538c21abf43f",
   "metadata": {},
   "outputs": [],
   "source": [
    "import arxiv\n",
    "import numpy as np\n",
    "import pandas as pd\n",
    "\n",
    "from typing import List"
   ]
  },
  {
   "cell_type": "code",
   "execution_count": 2,
   "id": "7e875103-ec29-4165-984e-ce2c4abb133e",
   "metadata": {},
   "outputs": [],
   "source": [
    "# constants\n",
    "queries = [\n",
    "    'automl', 'machinelearning', 'data', 'phyiscs','mathematics', 'recommendation system', 'nlp', 'neural networks'\n",
    "]"
   ]
  },
  {
   "cell_type": "markdown",
   "id": "afca02b4-3cc9-4bc5-9f1f-4c5a9e1e0166",
   "metadata": {},
   "source": [
    "## Load Data"
   ]
  },
  {
   "cell_type": "code",
   "execution_count": 3,
   "id": "71fbc053-3bd7-4747-924b-7ce384ea417c",
   "metadata": {},
   "outputs": [],
   "source": [
    "def search_arxiv(queries: List[str], max_results: int = 100) -> pd.DataFrame:\n",
    "    '''\n",
    "    This function will search arxiv associated to a set of queries and store\n",
    "    the latest 10000 (max_results) associated to that search.\n",
    "    \n",
    "    params:\n",
    "        queries (List -> Str) : A list of strings containing keywords you want\n",
    "                                to search on Arxiv\n",
    "        max_results (Int) : The maximum number of results you want to see associated\n",
    "                            to your search. Default value is 1000, capped at 300000\n",
    "                            \n",
    "    returns:\n",
    "        This function will return a DataFrame holding the following columns associated\n",
    "        to the queries the user has passed. \n",
    "            `title`, `date`, `article_id`, `url`, `main_topic`, `all_topics`\n",
    "    \n",
    "    example:\n",
    "        research_df = search_arxiv(\n",
    "            queries = ['automl', 'recommender system', 'nlp', 'data science'],\n",
    "            max_results = 10000\n",
    "        )\n",
    "    '''\n",
    "    d = []\n",
    "    searches = []\n",
    "    # hitting the API\n",
    "    for query in queries:\n",
    "        search = arxiv.Search(\n",
    "          query = query,\n",
    "          max_results = max_results,\n",
    "          sort_by = arxiv.SortCriterion.SubmittedDate,\n",
    "          sort_order = arxiv.SortOrder.Descending\n",
    "        )\n",
    "        searches.append(search)\n",
    "    \n",
    "    # Converting search result into df\n",
    "    for search in searches:\n",
    "        for res in search.results():\n",
    "            data = {\n",
    "                'title' : res.title,\n",
    "                'date' : res.published,\n",
    "                'article_id' : res.entry_id,\n",
    "                'url' : res.pdf_url,\n",
    "                'main_topic' : res.primary_category,\n",
    "                'all_topics' : res.categories,\n",
    "                'authors' : res.authors\n",
    "            }\n",
    "            d.append(data)\n",
    "        \n",
    "    d = pd.DataFrame(d)\n",
    "    d['year'] = pd.DatetimeIndex(d['date']).year\n",
    "    \n",
    "    # change article id from url to integer\n",
    "    unique_article_ids = d.article_id.unique()\n",
    "    article_mapping = {art:idx for idx,art in enumerate(unique_article_ids)}\n",
    "    d['article_id'] = d['article_id'].map(article_mapping)\n",
    "    return d\n"
   ]
  },
  {
   "cell_type": "code",
   "execution_count": 4,
   "id": "f0f6b598-b93d-405a-8d44-f8c02cde8ff2",
   "metadata": {},
   "outputs": [
    {
     "name": "stdout",
     "output_type": "stream",
     "text": [
      "(647, 8)\n"
     ]
    }
   ],
   "source": [
    "# fetch data from arXiv\n",
    "research_df = search_arxiv(\n",
    "    queries = queries,\n",
    "    max_results = 100\n",
    ")\n",
    "print(research_df.shape)"
   ]
  },
  {
   "cell_type": "code",
   "execution_count": 5,
   "id": "238f0c53-f268-44f5-be58-81b9017f1396",
   "metadata": {},
   "outputs": [
    {
     "data": {
      "text/html": [
       "<div>\n",
       "<style scoped>\n",
       "    .dataframe tbody tr th:only-of-type {\n",
       "        vertical-align: middle;\n",
       "    }\n",
       "\n",
       "    .dataframe tbody tr th {\n",
       "        vertical-align: top;\n",
       "    }\n",
       "\n",
       "    .dataframe thead th {\n",
       "        text-align: right;\n",
       "    }\n",
       "</style>\n",
       "<table border=\"1\" class=\"dataframe\">\n",
       "  <thead>\n",
       "    <tr style=\"text-align: right;\">\n",
       "      <th></th>\n",
       "      <th>title</th>\n",
       "      <th>date</th>\n",
       "      <th>article_id</th>\n",
       "      <th>url</th>\n",
       "      <th>main_topic</th>\n",
       "      <th>all_topics</th>\n",
       "      <th>authors</th>\n",
       "      <th>year</th>\n",
       "    </tr>\n",
       "  </thead>\n",
       "  <tbody>\n",
       "    <tr>\n",
       "      <th>0</th>\n",
       "      <td>Multi-objective Tree-structured Parzen Estimat...</td>\n",
       "      <td>2022-12-13 17:33:02+00:00</td>\n",
       "      <td>0</td>\n",
       "      <td>http://arxiv.org/pdf/2212.06751v1</td>\n",
       "      <td>cs.LG</td>\n",
       "      <td>[cs.LG, cs.AI]</td>\n",
       "      <td>[Shuhei Watanabe, Noow Awad, Masaki Onishi, Fr...</td>\n",
       "      <td>2022</td>\n",
       "    </tr>\n",
       "    <tr>\n",
       "      <th>1</th>\n",
       "      <td>POPNASv3: a Pareto-Optimal Neural Architecture...</td>\n",
       "      <td>2022-12-13 17:14:14+00:00</td>\n",
       "      <td>1</td>\n",
       "      <td>http://arxiv.org/pdf/2212.06735v1</td>\n",
       "      <td>cs.LG</td>\n",
       "      <td>[cs.LG, cs.AI, cs.CV, cs.NE]</td>\n",
       "      <td>[Andrea Falanti, Eugenio Lomurno, Danilo Ardag...</td>\n",
       "      <td>2022</td>\n",
       "    </tr>\n",
       "    <tr>\n",
       "      <th>2</th>\n",
       "      <td>AutoPINN: When AutoML Meets Physics-Informed N...</td>\n",
       "      <td>2022-12-08 03:44:08+00:00</td>\n",
       "      <td>2</td>\n",
       "      <td>http://arxiv.org/pdf/2212.04058v1</td>\n",
       "      <td>cs.LG</td>\n",
       "      <td>[cs.LG, cs.AI]</td>\n",
       "      <td>[Xinle Wu, Dalin Zhang, Miao Zhang, Chenjuan G...</td>\n",
       "      <td>2022</td>\n",
       "    </tr>\n",
       "    <tr>\n",
       "      <th>3</th>\n",
       "      <td>Benchmarking AutoML algorithms on a collection...</td>\n",
       "      <td>2022-12-06 01:53:50+00:00</td>\n",
       "      <td>3</td>\n",
       "      <td>http://arxiv.org/pdf/2212.02704v2</td>\n",
       "      <td>cs.LG</td>\n",
       "      <td>[cs.LG]</td>\n",
       "      <td>[Pedro Henrique Ribeiro, Patryk Orzechowski, J...</td>\n",
       "      <td>2022</td>\n",
       "    </tr>\n",
       "    <tr>\n",
       "      <th>4</th>\n",
       "      <td>NAS-LID: Efficient Neural Architecture Search ...</td>\n",
       "      <td>2022-11-23 08:08:17+00:00</td>\n",
       "      <td>4</td>\n",
       "      <td>http://arxiv.org/pdf/2211.12759v2</td>\n",
       "      <td>cs.CV</td>\n",
       "      <td>[cs.CV, cs.AI, cs.LG]</td>\n",
       "      <td>[Xin He, Jiangchao Yao, Yuxin Wang, Zhenheng T...</td>\n",
       "      <td>2022</td>\n",
       "    </tr>\n",
       "  </tbody>\n",
       "</table>\n",
       "</div>"
      ],
      "text/plain": [
       "                                               title  \\\n",
       "0  Multi-objective Tree-structured Parzen Estimat...   \n",
       "1  POPNASv3: a Pareto-Optimal Neural Architecture...   \n",
       "2  AutoPINN: When AutoML Meets Physics-Informed N...   \n",
       "3  Benchmarking AutoML algorithms on a collection...   \n",
       "4  NAS-LID: Efficient Neural Architecture Search ...   \n",
       "\n",
       "                       date  article_id                                url  \\\n",
       "0 2022-12-13 17:33:02+00:00           0  http://arxiv.org/pdf/2212.06751v1   \n",
       "1 2022-12-13 17:14:14+00:00           1  http://arxiv.org/pdf/2212.06735v1   \n",
       "2 2022-12-08 03:44:08+00:00           2  http://arxiv.org/pdf/2212.04058v1   \n",
       "3 2022-12-06 01:53:50+00:00           3  http://arxiv.org/pdf/2212.02704v2   \n",
       "4 2022-11-23 08:08:17+00:00           4  http://arxiv.org/pdf/2211.12759v2   \n",
       "\n",
       "  main_topic                    all_topics  \\\n",
       "0      cs.LG                [cs.LG, cs.AI]   \n",
       "1      cs.LG  [cs.LG, cs.AI, cs.CV, cs.NE]   \n",
       "2      cs.LG                [cs.LG, cs.AI]   \n",
       "3      cs.LG                       [cs.LG]   \n",
       "4      cs.CV         [cs.CV, cs.AI, cs.LG]   \n",
       "\n",
       "                                             authors  year  \n",
       "0  [Shuhei Watanabe, Noow Awad, Masaki Onishi, Fr...  2022  \n",
       "1  [Andrea Falanti, Eugenio Lomurno, Danilo Ardag...  2022  \n",
       "2  [Xinle Wu, Dalin Zhang, Miao Zhang, Chenjuan G...  2022  \n",
       "3  [Pedro Henrique Ribeiro, Patryk Orzechowski, J...  2022  \n",
       "4  [Xin He, Jiangchao Yao, Yuxin Wang, Zhenheng T...  2022  "
      ]
     },
     "execution_count": 5,
     "metadata": {},
     "output_type": "execute_result"
    }
   ],
   "source": [
    "research_df.head()"
   ]
  },
  {
   "cell_type": "markdown",
   "id": "84f41b0a-4de7-46c3-88f3-a62d24c4a539",
   "metadata": {},
   "source": [
    "## Data Cleaning"
   ]
  },
  {
   "cell_type": "code",
   "execution_count": null,
   "id": "95118db5-8358-46db-ad38-90a67f6550a3",
   "metadata": {},
   "outputs": [],
   "source": [
    "def remove_stopwords():\n",
    "    raise NotImplemented\n",
    "    \n",
    "def remove_punct():\n",
    "    raise NotImplemented\n",
    "    \n",
    "def unidecode():\n",
    "    raise NotImplemented\n",
    "    \n",
    "def clean():\n",
    "    raise NotImplemented"
   ]
  },
  {
   "cell_type": "code",
   "execution_count": null,
   "id": "0c86a124-6d40-4d3a-b963-5c0e600a4c45",
   "metadata": {},
   "outputs": [],
   "source": []
  },
  {
   "cell_type": "markdown",
   "id": "dffad1e0-9a4d-49b1-b4bb-6c3cf9a64d0e",
   "metadata": {},
   "source": [
    "# Unsupervised Learning - Topic Modelling"
   ]
  },
  {
   "cell_type": "code",
   "execution_count": null,
   "id": "7757ddbd-1ea9-43a2-9acc-5516e22bdba4",
   "metadata": {},
   "outputs": [],
   "source": []
  },
  {
   "cell_type": "markdown",
   "id": "ceb86fd1-5968-466a-bb71-08b1a8419857",
   "metadata": {},
   "source": [
    "## Evaluation"
   ]
  },
  {
   "cell_type": "code",
   "execution_count": null,
   "id": "a8115626-2e15-4348-b283-94ec8d1afd5e",
   "metadata": {},
   "outputs": [],
   "source": []
  },
  {
   "cell_type": "code",
   "execution_count": null,
   "id": "ba73e197-2cd0-405d-8891-0f02847f43a7",
   "metadata": {},
   "outputs": [],
   "source": []
  },
  {
   "cell_type": "markdown",
   "id": "a22604b1-0948-4a5c-9159-f140e60580ed",
   "metadata": {},
   "source": [
    "# Supervised Learning - Topic Modelling"
   ]
  },
  {
   "cell_type": "code",
   "execution_count": null,
   "id": "7021f1c7-be7e-4082-a8e7-c825922cfd13",
   "metadata": {},
   "outputs": [],
   "source": []
  },
  {
   "cell_type": "code",
   "execution_count": null,
   "id": "9662ca63-b0ec-47a9-a733-d09d9f8381ec",
   "metadata": {},
   "outputs": [],
   "source": []
  },
  {
   "cell_type": "markdown",
   "id": "ef479b34-0487-4938-83f1-ea63aa3290b8",
   "metadata": {},
   "source": [
    "## Evaluation"
   ]
  },
  {
   "cell_type": "code",
   "execution_count": null,
   "id": "afbd9920-64df-400a-b73b-4afda59893e0",
   "metadata": {},
   "outputs": [],
   "source": []
  },
  {
   "cell_type": "code",
   "execution_count": null,
   "id": "98bc1389-a453-402f-9e2d-a085a62541cb",
   "metadata": {},
   "outputs": [],
   "source": []
  },
  {
   "cell_type": "markdown",
   "id": "fb54da1a-e340-412a-a043-16f9a2160dc0",
   "metadata": {},
   "source": [
    "---"
   ]
  }
 ],
 "metadata": {
  "kernelspec": {
   "display_name": "Python 3 (ipykernel)",
   "language": "python",
   "name": "python3"
  },
  "language_info": {
   "codemirror_mode": {
    "name": "ipython",
    "version": 3
   },
   "file_extension": ".py",
   "mimetype": "text/x-python",
   "name": "python",
   "nbconvert_exporter": "python",
   "pygments_lexer": "ipython3",
   "version": "3.10.0"
  }
 },
 "nbformat": 4,
 "nbformat_minor": 5
}
