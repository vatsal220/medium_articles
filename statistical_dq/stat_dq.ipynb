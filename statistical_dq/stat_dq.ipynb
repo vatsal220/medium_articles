{
 "cells": [
  {
   "cell_type": "markdown",
   "id": "b74680e0-f8a1-4dc0-9814-cce3edc57032",
   "metadata": {},
   "source": [
    "# Statistical Data Quality"
   ]
  },
  {
   "cell_type": "code",
   "execution_count": 12,
   "id": "526c6265-1b62-44bb-9944-3bad23683f67",
   "metadata": {},
   "outputs": [
    {
     "name": "stdout",
     "output_type": "stream",
     "text": [
      "Python 3.10.0\n"
     ]
    }
   ],
   "source": [
    "!python3 --version"
   ]
  },
  {
   "cell_type": "code",
   "execution_count": 1,
   "id": "702d4384-bdce-436b-96ea-8802d1fa41c3",
   "metadata": {},
   "outputs": [],
   "source": [
    "import numpy as np\n",
    "import matplotlib.pyplot as plt\n",
    "\n",
    "from typing import List"
   ]
  },
  {
   "cell_type": "markdown",
   "id": "26f48900-16d2-4368-8fc7-8b5c95cfb595",
   "metadata": {},
   "source": [
    "## Generate Data"
   ]
  },
  {
   "cell_type": "code",
   "execution_count": 2,
   "id": "145979cd-e8fa-426f-88aa-2a7ff14dd5b7",
   "metadata": {},
   "outputs": [],
   "source": [
    "def generate_outlier_data(n: int, outliers: int) -> List[float]:\n",
    "    \"\"\"This method will generate a dataset with of N values including \n",
    "    user specified outliers.\n",
    "    \n",
    "    Args:\n",
    "        n: Integer corresponding to the number of data points\n",
    "        outliers: Integer representing the number of outliers to generate\n",
    "    \n",
    "    Returns:\n",
    "        A list of N floating point numbers with outliers.\n",
    "    \"\"\"\n",
    "    # generate a random dataset of n points\n",
    "    data = np.random.normal(\n",
    "        loc=0.0, \n",
    "        scale=1.0, \n",
    "        size=n\n",
    "    ) \n",
    "    # add outliers\n",
    "    outlier_indices = np.random.choice(\n",
    "        np.arange(n), \n",
    "        size=outliers, \n",
    "        replace=False\n",
    "    )\n",
    "    outlier_values = np.random.normal(\n",
    "        loc=5.0, \n",
    "        scale=1.0, \n",
    "        size=outliers\n",
    "    )\n",
    "    data[outlier_indices] = outlier_values\n",
    "    return data"
   ]
  },
  {
   "cell_type": "code",
   "execution_count": 3,
   "id": "4e4c32dc-d789-4792-8998-0468916eff9f",
   "metadata": {},
   "outputs": [],
   "source": [
    "data = generate_outlier_data(n=1000, outliers=50)"
   ]
  },
  {
   "cell_type": "code",
   "execution_count": 4,
   "id": "e44ebb06-e85e-47ca-aeda-4f821cedfccd",
   "metadata": {},
   "outputs": [
    {
     "data": {
      "image/png": "[encoded data removed]",
      "text/plain": [
       "<Figure size 640x480 with 1 Axes>"
      ]
     },
     "metadata": {},
     "output_type": "display_data"
    }
   ],
   "source": [
    "plt.clf()\n",
    "plt.boxplot(data)\n",
    "plt.title(\"Boxplot of Dataset to Show Outliers\")\n",
    "plt.show()"
   ]
  },
  {
   "cell_type": "markdown",
   "id": "b579d753-d206-4cd2-9d44-3846584e2ec4",
   "metadata": {},
   "source": [
    "## IQR"
   ]
  },
  {
   "cell_type": "code",
   "execution_count": 5,
   "id": "a69d0978-bb8d-4ee5-bd31-ce02600b4014",
   "metadata": {},
   "outputs": [],
   "source": [
    "def calculate_iqr(data: List[float], perc_range: List[int] = [25, 75], print_stats: bool = True) -> List[float]:\n",
    "    \"\"\"This method will calculate the IQR associated with the input dataset.\n",
    "    \n",
    "    Args:\n",
    "        data: List of floats which holds the data you're trying to find outliers for.\n",
    "        perc_range: List of floats where the left one corresponds to the first \n",
    "                    percentile and the right one corresponds to the second percentile.\n",
    "        print_stats: Boolean True if you want to print the stats\n",
    "        \n",
    "    Returns:\n",
    "        A list of outliers from the original input dataset.\n",
    "    \"\"\"\n",
    "    # calculate the quartiles and IQR\n",
    "    r1, r2 = np.percentile(data, perc_range)\n",
    "    iqr = r2 - r1\n",
    "\n",
    "    # calculate the upper and lower bounds\n",
    "    upper_bound = r2 + (1.5 * iqr)\n",
    "    lower_bound = r1 - (1.5 * iqr)\n",
    "\n",
    "    # identify the outliers\n",
    "    outliers = data[(data < lower_bound) | (data > upper_bound)]\n",
    "    \n",
    "    if print_stats:\n",
    "        print(\"Left Percentile: \", r1)\n",
    "        print(\"Right Percentile: \", r2)\n",
    "        print(\"IQR: \", iqr)\n",
    "        print(\"Upper Bound: \", upper_bound)\n",
    "        print(\"Lower Bound: \", lower_bound)\n",
    "        print(\"Outliers: \", outliers)\n",
    "        print(\"Outlier Count: \", len(outliers))\n",
    "    return outliers"
   ]
  },
  {
   "cell_type": "code",
   "execution_count": 6,
   "id": "f4a0428d-429a-4209-ab48-513ae8933fe7",
   "metadata": {},
   "outputs": [
    {
     "name": "stdout",
     "output_type": "stream",
     "text": [
      "Left Percentile:  -0.6905316398370994\n",
      "Right Percentile:  0.8334849032292913\n",
      "IQR:  1.5240165430663906\n",
      "Upper Bound:  3.119509717828877\n",
      "Lower Bound:  -2.976556454436685\n",
      "Outliers:  [ 6.59241727  3.65538055  6.15215076  5.43422595  4.88500987  4.08292222\n",
      "  5.70535886  5.11180453  4.98356545  5.52192098  4.0835708   4.81097497\n",
      "  5.95666607  4.56074355  4.67463623  4.00774253  6.05895022  7.24274612\n",
      "  6.16960954 -3.08509143  6.65706857  4.23400593  4.82393634  3.37812317\n",
      "  5.77437587  6.44393216  4.30100389  7.04906011  4.41458525  4.89006126\n",
      "  4.57616352  5.31075946  4.63614032  5.96171413  5.05188333  5.23898169\n",
      "  5.23299197  4.64414811  4.14225987  6.86217768  6.22204199  3.45700435\n",
      " -3.43467617  4.59704552  5.42784849  6.8390414   4.65630518  4.12651787\n",
      "  4.96312974]\n",
      "Outlier Count:  49\n"
     ]
    },
    {
     "data": {
      "text/plain": [
       "array([ 6.59241727,  3.65538055,  6.15215076,  5.43422595,  4.88500987,\n",
       "        4.08292222,  5.70535886,  5.11180453,  4.98356545,  5.52192098,\n",
       "        4.0835708 ,  4.81097497,  5.95666607,  4.56074355,  4.67463623,\n",
       "        4.00774253,  6.05895022,  7.24274612,  6.16960954, -3.08509143,\n",
       "        6.65706857,  4.23400593,  4.82393634,  3.37812317,  5.77437587,\n",
       "        6.44393216,  4.30100389,  7.04906011,  4.41458525,  4.89006126,\n",
       "        4.57616352,  5.31075946,  4.63614032,  5.96171413,  5.05188333,\n",
       "        5.23898169,  5.23299197,  4.64414811,  4.14225987,  6.86217768,\n",
       "        6.22204199,  3.45700435, -3.43467617,  4.59704552,  5.42784849,\n",
       "        6.8390414 ,  4.65630518,  4.12651787,  4.96312974])"
      ]
     },
     "execution_count": 6,
     "metadata": {},
     "output_type": "execute_result"
    }
   ],
   "source": [
    "calculate_iqr(\n",
    "    data, \n",
    "    perc_range = [25, 75], \n",
    "    print_stats = True\n",
    ")"
   ]
  },
  {
   "cell_type": "markdown",
   "id": "fbddbe52-a78a-42b1-9e29-4146fdbce7e3",
   "metadata": {},
   "source": [
    "## Standard Deviation"
   ]
  },
  {
   "cell_type": "code",
   "execution_count": 7,
   "id": "9196d65d-7f9b-4ad2-b9ef-4e6b24f260e6",
   "metadata": {},
   "outputs": [],
   "source": [
    "def calculate_sd(data: List[float], N: int, print_stats: bool = True) -> List[float]:\n",
    "    \"\"\"This will identify the data points in the input dataset which are not \n",
    "    within N standard deviation.\n",
    "    \n",
    "    Args:\n",
    "        data: List of floats you want to identify outliers for\n",
    "        N: Integer corresponding to the number of standard deviations\n",
    "        print_stats: Boolean True if you want to print the stats\n",
    "    \n",
    "    Returns:\n",
    "        A list of outliers from the original input dataset.\n",
    "    \"\"\"\n",
    "    # calculate the mean and standard deviation\n",
    "    mean = np.mean(data)\n",
    "    std_dev = np.std(data)\n",
    "\n",
    "    # calculate the upper and lower bounds\n",
    "    upper_bound = mean + (N * std_dev)\n",
    "    lower_bound = mean - (N * std_dev)\n",
    "\n",
    "    # identify the outliers\n",
    "    outliers = data[(data < lower_bound) | (data > upper_bound)]\n",
    "    \n",
    "    if print_stats:\n",
    "        # print the results\n",
    "        print(\"Mean: \", mean)\n",
    "        print(\"Standard Deviation: \", std_dev)\n",
    "        print(\"Upper Bound: \", upper_bound)\n",
    "        print(\"Lower Bound: \", lower_bound)\n",
    "        print(\"Outliers: \", outliers)\n",
    "        print(\"Outlier Count: \", len(outliers))\n",
    "    return outliers"
   ]
  },
  {
   "cell_type": "code",
   "execution_count": 8,
   "id": "c38a04d3-5c9e-4c17-b2bd-d2eecc0b219b",
   "metadata": {},
   "outputs": [
    {
     "name": "stdout",
     "output_type": "stream",
     "text": [
      "Mean:  0.24803089636527012\n",
      "Standard Deviation:  1.5102899358393278\n",
      "Upper Bound:  3.2686107680439256\n",
      "Lower Bound:  -2.7725489753133856\n",
      "Outliers:  [ 6.59241727  3.65538055  6.15215076  5.43422595  4.88500987  4.08292222\n",
      "  5.70535886  5.11180453  4.98356545  5.52192098 -2.79445993  4.0835708\n",
      "  4.81097497  5.95666607  4.56074355  4.67463623  4.00774253  6.05895022\n",
      "  7.24274612  6.16960954 -3.08509143  6.65706857  4.23400593  4.82393634\n",
      "  3.37812317  5.77437587  6.44393216  4.30100389  7.04906011  4.41458525\n",
      "  4.89006126  4.57616352  5.31075946  4.63614032  5.96171413  5.05188333\n",
      "  5.23898169  5.23299197  4.64414811 -2.86526138  4.14225987  6.86217768\n",
      "  6.22204199  3.45700435 -3.43467617  4.59704552  5.42784849  6.8390414\n",
      "  4.65630518  4.12651787  4.96312974]\n",
      "Outlier Count:  51\n"
     ]
    },
    {
     "data": {
      "text/plain": [
       "array([ 6.59241727,  3.65538055,  6.15215076,  5.43422595,  4.88500987,\n",
       "        4.08292222,  5.70535886,  5.11180453,  4.98356545,  5.52192098,\n",
       "       -2.79445993,  4.0835708 ,  4.81097497,  5.95666607,  4.56074355,\n",
       "        4.67463623,  4.00774253,  6.05895022,  7.24274612,  6.16960954,\n",
       "       -3.08509143,  6.65706857,  4.23400593,  4.82393634,  3.37812317,\n",
       "        5.77437587,  6.44393216,  4.30100389,  7.04906011,  4.41458525,\n",
       "        4.89006126,  4.57616352,  5.31075946,  4.63614032,  5.96171413,\n",
       "        5.05188333,  5.23898169,  5.23299197,  4.64414811, -2.86526138,\n",
       "        4.14225987,  6.86217768,  6.22204199,  3.45700435, -3.43467617,\n",
       "        4.59704552,  5.42784849,  6.8390414 ,  4.65630518,  4.12651787,\n",
       "        4.96312974])"
      ]
     },
     "execution_count": 8,
     "metadata": {},
     "output_type": "execute_result"
    }
   ],
   "source": [
    "calculate_sd(\n",
    "    data, \n",
    "    N = 2, \n",
    "    print_stats = True\n",
    ")"
   ]
  },
  {
   "cell_type": "markdown",
   "id": "4522ac55-57d9-479a-b04e-0010512786cd",
   "metadata": {},
   "source": [
    "---"
   ]
  }
 ],
 "metadata": {
  "kernelspec": {
   "display_name": "Python 3 (ipykernel)",
   "language": "python",
   "name": "python3"
  },
  "language_info": {
   "codemirror_mode": {
    "name": "ipython",
    "version": 3
   },
   "file_extension": ".py",
   "mimetype": "text/x-python",
   "name": "python",
   "nbconvert_exporter": "python",
   "pygments_lexer": "ipython3",
   "version": "3.10.0"
  }
 },
 "nbformat": 4,
 "nbformat_minor": 5
}
