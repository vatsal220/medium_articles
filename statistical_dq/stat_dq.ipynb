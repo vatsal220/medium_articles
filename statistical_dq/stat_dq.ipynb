{
 "cells": [
  {
   "cell_type": "markdown",
   "id": "b74680e0-f8a1-4dc0-9814-cce3edc57032",
   "metadata": {},
   "source": [
    "# Statistical Data Quality"
   ]
  },
  {
   "cell_type": "code",
   "execution_count": 19,
   "id": "702d4384-bdce-436b-96ea-8802d1fa41c3",
   "metadata": {},
   "outputs": [],
   "source": [
    "import numpy as np\n",
    "import matplotlib.pyplot as plt"
   ]
  },
  {
   "cell_type": "markdown",
   "id": "26f48900-16d2-4368-8fc7-8b5c95cfb595",
   "metadata": {},
   "source": [
    "## Generate Data"
   ]
  },
  {
   "cell_type": "code",
   "execution_count": 2,
   "id": "145979cd-e8fa-426f-88aa-2a7ff14dd5b7",
   "metadata": {},
   "outputs": [],
   "source": [
    "def generate_dataset(n=100, outliers=5):\n",
    "    # generate a random dataset of n points\n",
    "    data = np.random.normal(\n",
    "        loc=0.0, \n",
    "        scale=1.0, \n",
    "        size=n\n",
    "    ) \n",
    "    # add outliers\n",
    "    outlier_indices = np.random.choice(\n",
    "        np.arange(n), \n",
    "        size=outliers, \n",
    "        replace=False\n",
    "    )\n",
    "    outlier_values = np.random.normal(\n",
    "        loc=5.0, \n",
    "        scale=1.0, \n",
    "        size=outliers\n",
    "    )\n",
    "    data[outlier_indices] = outlier_values\n",
    "    return data"
   ]
  },
  {
   "cell_type": "code",
   "execution_count": 4,
   "id": "4e4c32dc-d789-4792-8998-0468916eff9f",
   "metadata": {},
   "outputs": [],
   "source": [
    "data = generate_dataset(n=1000, outliers=50)"
   ]
  },
  {
   "cell_type": "code",
   "execution_count": 18,
   "id": "e44ebb06-e85e-47ca-aeda-4f821cedfccd",
   "metadata": {},
   "outputs": [
    {
     "data": {
      "image/png": "[encoded data removed]",
      "text/plain": [
       "<Figure size 640x480 with 1 Axes>"
      ]
     },
     "metadata": {},
     "output_type": "display_data"
    }
   ],
   "source": [
    "plt.clf()\n",
    "plt.boxplot(data)\n",
    "plt.title(\"Boxplot of Dataset to Show Outliers\")\n",
    "plt.show()"
   ]
  },
  {
   "cell_type": "markdown",
   "id": "b579d753-d206-4cd2-9d44-3846584e2ec4",
   "metadata": {},
   "source": [
    "## IQR"
   ]
  },
  {
   "cell_type": "code",
   "execution_count": 28,
   "id": "a69d0978-bb8d-4ee5-bd31-ce02600b4014",
   "metadata": {},
   "outputs": [],
   "source": [
    "def calculate_iqr(data, perc_range = [25, 75], print_stats = True):\n",
    "    # calculate the quartiles and IQR\n",
    "    r1, r2 = np.percentile(data, perc_range)\n",
    "    iqr = r2 - r1\n",
    "\n",
    "    # calculate the upper and lower bounds\n",
    "    upper_bound = r2 + (1.5 * iqr)\n",
    "    lower_bound = r1 - (1.5 * iqr)\n",
    "\n",
    "    # identify the outliers\n",
    "    outliers = data[(data < lower_bound) | (data > upper_bound)]\n",
    "    \n",
    "    if print_stats:\n",
    "        print(\"Q1: \", r1)\n",
    "        print(\"Q3: \", r2)\n",
    "        print(\"IQR: \", iqr)\n",
    "        print(\"Upper Bound: \", upper_bound)\n",
    "        print(\"Lower Bound: \", lower_bound)\n",
    "        print(\"Outliers: \", outliers)\n",
    "        print(\"Outlier Count: \", len(outliers))\n",
    "    return outliers"
   ]
  },
  {
   "cell_type": "code",
   "execution_count": 29,
   "id": "f4a0428d-429a-4209-ab48-513ae8933fe7",
   "metadata": {},
   "outputs": [
    {
     "name": "stdout",
     "output_type": "stream",
     "text": [
      "Q1:  -0.6026222641850383\n",
      "Q3:  0.7622751385082053\n",
      "IQR:  1.3648974026932437\n",
      "Upper Bound:  2.809621242548071\n",
      "Lower Bound:  -2.6499683682249042\n",
      "Outliers:  [ 4.85102334  2.98933461  4.2460076   4.06547636  5.85691357  4.7643031\n",
      "  3.70808994  5.38083593 -3.21150318  4.34178282  5.27943278  5.18832276\n",
      "  3.49523809  5.18879255  6.11985401  6.82788081  4.28102737  2.98614249\n",
      "  5.75549653  6.42204428  4.6554984   5.91835923  5.51099106  3.68811904\n",
      "  6.50303444  5.9797936   4.66798067  5.12729217  4.58521303  3.75902407\n",
      "  4.51499206  3.00918897  5.37526903  5.51825815  6.75897833  4.09084031\n",
      "  6.00309356  5.3467973   4.8990804   5.186047    3.79715411 -2.78076139\n",
      "  5.77517692  4.04405104  4.12500195  4.74194492  4.37178552  5.32829414\n",
      "  5.9813509   4.23594793  5.14458149  5.7191544 ]\n",
      "Outlier Count:  52\n"
     ]
    },
    {
     "data": {
      "text/plain": [
       "array([ 4.85102334,  2.98933461,  4.2460076 ,  4.06547636,  5.85691357,\n",
       "        4.7643031 ,  3.70808994,  5.38083593, -3.21150318,  4.34178282,\n",
       "        5.27943278,  5.18832276,  3.49523809,  5.18879255,  6.11985401,\n",
       "        6.82788081,  4.28102737,  2.98614249,  5.75549653,  6.42204428,\n",
       "        4.6554984 ,  5.91835923,  5.51099106,  3.68811904,  6.50303444,\n",
       "        5.9797936 ,  4.66798067,  5.12729217,  4.58521303,  3.75902407,\n",
       "        4.51499206,  3.00918897,  5.37526903,  5.51825815,  6.75897833,\n",
       "        4.09084031,  6.00309356,  5.3467973 ,  4.8990804 ,  5.186047  ,\n",
       "        3.79715411, -2.78076139,  5.77517692,  4.04405104,  4.12500195,\n",
       "        4.74194492,  4.37178552,  5.32829414,  5.9813509 ,  4.23594793,\n",
       "        5.14458149,  5.7191544 ])"
      ]
     },
     "execution_count": 29,
     "metadata": {},
     "output_type": "execute_result"
    }
   ],
   "source": [
    "calculate_iqr(data, perc_range = [25, 75], print_stats = True)"
   ]
  },
  {
   "cell_type": "markdown",
   "id": "fbddbe52-a78a-42b1-9e29-4146fdbce7e3",
   "metadata": {},
   "source": [
    "## Standard Deviation"
   ]
  },
  {
   "cell_type": "code",
   "execution_count": 30,
   "id": "9196d65d-7f9b-4ad2-b9ef-4e6b24f260e6",
   "metadata": {},
   "outputs": [],
   "source": [
    "def calculate_sd(data, N, print_stats = True):\n",
    "    # calculate the mean and standard deviation\n",
    "    mean = np.mean(data)\n",
    "    std_dev = np.std(data)\n",
    "\n",
    "    # calculate the upper and lower bounds\n",
    "    upper_bound = mean + (N * std_dev)\n",
    "    lower_bound = mean - (N * std_dev)\n",
    "\n",
    "    # identify the outliers\n",
    "    outliers = data[(data < lower_bound) | (data > upper_bound)]\n",
    "    \n",
    "    if print_stats:\n",
    "        # print the results\n",
    "        print(\"Mean: \", mean)\n",
    "        print(\"Standard Deviation: \", std_dev)\n",
    "        print(\"Upper Bound: \", upper_bound)\n",
    "        print(\"Lower Bound: \", lower_bound)\n",
    "        print(\"Outliers: \", outliers)\n",
    "        print(\"Outlier Count: \", len(outliers))\n",
    "    return outliers"
   ]
  },
  {
   "cell_type": "code",
   "execution_count": 31,
   "id": "c38a04d3-5c9e-4c17-b2bd-d2eecc0b219b",
   "metadata": {},
   "outputs": [
    {
     "name": "stdout",
     "output_type": "stream",
     "text": [
      "Mean:  0.2426396338495449\n",
      "Standard Deviation:  1.4310958170615518\n",
      "Upper Bound:  3.1048312679726484\n",
      "Lower Bound:  -2.6195520002735586\n",
      "Outliers:  [ 4.85102334  4.2460076   4.06547636  5.85691357  4.7643031   3.70808994\n",
      "  5.38083593 -3.21150318  4.34178282  5.27943278  5.18832276  3.49523809\n",
      "  5.18879255  6.11985401  6.82788081  4.28102737  5.75549653  6.42204428\n",
      "  4.6554984   5.91835923  5.51099106  3.68811904  6.50303444  5.9797936\n",
      "  4.66798067  5.12729217  4.58521303  3.75902407  4.51499206  5.37526903\n",
      "  5.51825815  6.75897833  4.09084031  6.00309356  5.3467973   4.8990804\n",
      "  5.186047    3.79715411 -2.78076139  5.77517692  4.04405104  4.12500195\n",
      "  4.74194492  4.37178552  5.32829414  5.9813509   4.23594793  5.14458149\n",
      "  5.7191544 ]\n",
      "Outlier Count:  49\n"
     ]
    },
    {
     "data": {
      "text/plain": [
       "array([ 4.85102334,  4.2460076 ,  4.06547636,  5.85691357,  4.7643031 ,\n",
       "        3.70808994,  5.38083593, -3.21150318,  4.34178282,  5.27943278,\n",
       "        5.18832276,  3.49523809,  5.18879255,  6.11985401,  6.82788081,\n",
       "        4.28102737,  5.75549653,  6.42204428,  4.6554984 ,  5.91835923,\n",
       "        5.51099106,  3.68811904,  6.50303444,  5.9797936 ,  4.66798067,\n",
       "        5.12729217,  4.58521303,  3.75902407,  4.51499206,  5.37526903,\n",
       "        5.51825815,  6.75897833,  4.09084031,  6.00309356,  5.3467973 ,\n",
       "        4.8990804 ,  5.186047  ,  3.79715411, -2.78076139,  5.77517692,\n",
       "        4.04405104,  4.12500195,  4.74194492,  4.37178552,  5.32829414,\n",
       "        5.9813509 ,  4.23594793,  5.14458149,  5.7191544 ])"
      ]
     },
     "execution_count": 31,
     "metadata": {},
     "output_type": "execute_result"
    }
   ],
   "source": [
    "calculate_sd(data, N = 2, print_stats = True)"
   ]
  },
  {
   "cell_type": "markdown",
   "id": "4522ac55-57d9-479a-b04e-0010512786cd",
   "metadata": {},
   "source": [
    "---"
   ]
  }
 ],
 "metadata": {
  "kernelspec": {
   "display_name": "Python 3 (ipykernel)",
   "language": "python",
   "name": "python3"
  },
  "language_info": {
   "codemirror_mode": {
    "name": "ipython",
    "version": 3
   },
   "file_extension": ".py",
   "mimetype": "text/x-python",
   "name": "python",
   "nbconvert_exporter": "python",
   "pygments_lexer": "ipython3",
   "version": "3.10.0"
  }
 },
 "nbformat": 4,
 "nbformat_minor": 5
}
