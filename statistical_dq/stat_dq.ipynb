{
 "cells": [
  {
   "cell_type": "markdown",
   "id": "b74680e0-f8a1-4dc0-9814-cce3edc57032",
   "metadata": {},
   "source": [
    "# Statistical Data Quality"
   ]
  },
  {
   "cell_type": "code",
   "execution_count": null,
   "id": "702d4384-bdce-436b-96ea-8802d1fa41c3",
   "metadata": {},
   "outputs": [],
   "source": []
  },
  {
   "cell_type": "code",
   "execution_count": null,
   "id": "7f0f98e6-3df2-424c-a24a-a7a871b7d43c",
   "metadata": {},
   "outputs": [],
   "source": []
  },
  {
   "cell_type": "markdown",
   "id": "26f48900-16d2-4368-8fc7-8b5c95cfb595",
   "metadata": {},
   "source": [
    "## Generate Data"
   ]
  },
  {
   "cell_type": "code",
   "execution_count": null,
   "id": "145979cd-e8fa-426f-88aa-2a7ff14dd5b7",
   "metadata": {},
   "outputs": [],
   "source": []
  },
  {
   "cell_type": "code",
   "execution_count": null,
   "id": "d2bd9aeb-ab91-46b3-b34d-2f19c1415f9c",
   "metadata": {},
   "outputs": [],
   "source": []
  },
  {
   "cell_type": "markdown",
   "id": "b579d753-d206-4cd2-9d44-3846584e2ec4",
   "metadata": {},
   "source": [
    "## IQR"
   ]
  },
  {
   "cell_type": "code",
   "execution_count": null,
   "id": "87a063ea-02d3-46be-aa16-267de4d13394",
   "metadata": {},
   "outputs": [],
   "source": []
  },
  {
   "cell_type": "code",
   "execution_count": null,
   "id": "d190e867-3edd-4e76-890b-9f5190cbb50f",
   "metadata": {},
   "outputs": [],
   "source": []
  },
  {
   "cell_type": "markdown",
   "id": "fbddbe52-a78a-42b1-9e29-4146fdbce7e3",
   "metadata": {},
   "source": [
    "## Standard Deviation"
   ]
  },
  {
   "cell_type": "code",
   "execution_count": null,
   "id": "783a357a-f2b5-4109-9d7f-4f8274dd7b7c",
   "metadata": {},
   "outputs": [],
   "source": []
  },
  {
   "cell_type": "code",
   "execution_count": null,
   "id": "28e0bad7-7db6-498a-bee3-387887d88121",
   "metadata": {},
   "outputs": [],
   "source": []
  },
  {
   "cell_type": "markdown",
   "id": "007c26e6-4c23-40ff-b99b-1880b1906b3e",
   "metadata": {},
   "source": [
    "## Evaluate"
   ]
  },
  {
   "cell_type": "code",
   "execution_count": null,
   "id": "45161299-c726-4b2f-b375-89e192268a37",
   "metadata": {},
   "outputs": [],
   "source": []
  },
  {
   "cell_type": "code",
   "execution_count": null,
   "id": "36f43109-d843-4102-a4e0-7e89e8819c4f",
   "metadata": {},
   "outputs": [],
   "source": []
  },
  {
   "cell_type": "markdown",
   "id": "4522ac55-57d9-479a-b04e-0010512786cd",
   "metadata": {},
   "source": [
    "---"
   ]
  }
 ],
 "metadata": {
  "kernelspec": {
   "display_name": "Python 3 (ipykernel)",
   "language": "python",
   "name": "python3"
  },
  "language_info": {
   "codemirror_mode": {
    "name": "ipython",
    "version": 3
   },
   "file_extension": ".py",
   "mimetype": "text/x-python",
   "name": "python",
   "nbconvert_exporter": "python",
   "pygments_lexer": "ipython3",
   "version": "3.10.0"
  }
 },
 "nbformat": 4,
 "nbformat_minor": 5
}
