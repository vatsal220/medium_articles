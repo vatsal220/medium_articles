{
 "cells": [
  {
   "cell_type": "markdown",
   "id": "55143b3a-456a-41d6-a59c-cf3d46b44a87",
   "metadata": {},
   "source": [
    "# Scrape Project Gutenberg"
   ]
  },
  {
   "cell_type": "code",
   "execution_count": 1,
   "id": "21fc98f2-0524-4e14-b7de-ad07e36ad13e",
   "metadata": {},
   "outputs": [],
   "source": [
    "import os\n",
    "import bs4\n",
    "from urllib import request"
   ]
  },
  {
   "cell_type": "code",
   "execution_count": 2,
   "id": "d80e8708-c271-40b9-ac27-5a5b2ff056f3",
   "metadata": {},
   "outputs": [],
   "source": [
    "# constants\n",
    "res_path = './results/'\n",
    "url = 'https://www.gutenberg.org/files/1342/1342-0.txt'"
   ]
  },
  {
   "cell_type": "code",
   "execution_count": 3,
   "id": "edb38411-0f5c-48a6-9a14-5e379d845793",
   "metadata": {},
   "outputs": [],
   "source": [
    "def mkdir(path = './results/'):\n",
    "    '''\n",
    "    This function will create a directory given a path if one does\n",
    "    not already exist in that specified path.\n",
    "    \n",
    "    params:\n",
    "        path (String) : The location you want to create the directory\n",
    "        \n",
    "    returns:\n",
    "        This function will create a folder called results if one does\n",
    "        not already exist\n",
    "        \n",
    "    example:\n",
    "        mkdir(\n",
    "            path = './results/'\n",
    "        )\n",
    "    '''\n",
    "    if not os.path.exists(path):\n",
    "        os.makedirs(path)\n",
    "        \n",
    "def getHTML(url):\n",
    "    '''\n",
    "    This function will fetch the HTML associated with a list of urls.\n",
    "    \n",
    "    params:\n",
    "        url (String) : The url you want to fetch\n",
    "        \n",
    "    returns:\n",
    "        A BeatifulSoup object associated with the url you want requested.\n",
    "    '''\n",
    "    res = request.urlopen(url)\n",
    "    soup = bs4.BeautifulSoup(res.read().decode('utf8'))\n",
    "    return soup"
   ]
  },
  {
   "cell_type": "code",
   "execution_count": 4,
   "id": "00c0cf8f-dee2-4b5f-9b76-75c8b652c25a",
   "metadata": {},
   "outputs": [],
   "source": [
    "mkdir()"
   ]
  },
  {
   "cell_type": "code",
   "execution_count": 5,
   "id": "940d5625-519f-4289-b408-b2e13f795627",
   "metadata": {},
   "outputs": [
    {
     "name": "stdout",
     "output_type": "stream",
     "text": [
      "CPU times: user 82.1 ms, sys: 31.9 ms, total: 114 ms\n",
      "Wall time: 945 ms\n"
     ]
    }
   ],
   "source": [
    "%time soup = getHTML(url)"
   ]
  },
  {
   "cell_type": "code",
   "execution_count": 6,
   "id": "743dae91-e739-407a-bee3-37a2dd841ffe",
   "metadata": {},
   "outputs": [],
   "source": [
    "def save_book(soup, save_path = res_path + 'book.txt'):\n",
    "    '''\n",
    "    The purpose of this function will be to save the location associated with\n",
    "    a book scraped from Project Gutenberg.\n",
    "    \n",
    "    params:\n",
    "        soup (bs4) : The soup associated with a url\n",
    "        save_path (String) : The location where you want to save the results\n",
    "                             of the scrape\n",
    "                             \n",
    "    returns:\n",
    "        This function will not return anything, it will create & write to a \n",
    "        text file associated with the text contents from the soup\n",
    "    '''\n",
    "    with open(res_path + '/book.txt', 'w') as f:\n",
    "        f.write(soup.text)"
   ]
  },
  {
   "cell_type": "code",
   "execution_count": 7,
   "id": "ca4f9143-dfbb-4bea-bd89-587ddc49c3a6",
   "metadata": {},
   "outputs": [
    {
     "name": "stdout",
     "output_type": "stream",
     "text": [
      "CPU times: user 2.16 ms, sys: 2.41 ms, total: 4.57 ms\n",
      "Wall time: 3.17 ms\n"
     ]
    }
   ],
   "source": [
    "%time save_book(soup, save_path = res_path + 'book.txt')"
   ]
  },
  {
   "cell_type": "code",
   "execution_count": null,
   "id": "e4df8453-40ad-40dc-97e1-e82f9d26b503",
   "metadata": {},
   "outputs": [],
   "source": []
  }
 ],
 "metadata": {
  "kernelspec": {
   "display_name": "Python 3",
   "language": "python",
   "name": "python3"
  },
  "language_info": {
   "codemirror_mode": {
    "name": "ipython",
    "version": 3
   },
   "file_extension": ".py",
   "mimetype": "text/x-python",
   "name": "python",
   "nbconvert_exporter": "python",
   "pygments_lexer": "ipython3",
   "version": "3.8.8"
  }
 },
 "nbformat": 4,
 "nbformat_minor": 5
}
