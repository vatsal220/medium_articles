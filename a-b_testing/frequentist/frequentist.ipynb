{
 "cells": [
  {
   "cell_type": "markdown",
   "metadata": {},
   "source": [
    "# Frequentist A/B Testing"
   ]
  },
  {
   "cell_type": "markdown",
   "metadata": {},
   "source": [
    "## Example 1"
   ]
  },
  {
   "cell_type": "markdown",
   "metadata": {},
   "source": [
    "Note : If you wanted to inspect how long a user was on the site for, posisson distribution would be advised."
   ]
  },
  {
   "cell_type": "markdown",
   "metadata": {},
   "source": [
    "Suppose you have an online shop selling clothes. You currently have two images of models modelling your outfits. You want to know which image will increase the rate at which individuals will click the link to go to your shop. After 1000 random individuals have visited the website, we noticed that s525 individuals have visited the site with image 1 and 475 individuals have visited the site with image 2. Furthermore, we record that of the 525 who visited site1 78 of them have clicked to go to shop whereas, 65 of the individuals who visited site 2 has clicked to visit the shop.\n",
    "\n",
    "Let's start our A/B Test. Let our null hypothesis be that image 1 iss better than image 2. We will use the binomial distribution because we have two discree variables wih some unknown factors. We can try to estimate the true click rate based on our small sample."
   ]
  },
  {
   "cell_type": "code",
   "execution_count": 3,
   "metadata": {},
   "outputs": [],
   "source": [
    "# importing the dependencies\n",
    "import matplotlib.pyplot as plt\n",
    "import numpy as np\n",
    "import seaborn as sns\n",
    "from scipy.stats import norm, binom\n",
    "sns.set()\n"
   ]
  },
  {
   "cell_type": "code",
   "execution_count": 2,
   "metadata": {},
   "outputs": [],
   "source": [
    "# constants\n",
    "confidence_interval = 0.95\n",
    "site1, site2 = 550, 450\n",
    "click_1, click_2 = 78, 65\n",
    "rate_1, rate_2 = click_1 / site1, click_2 / site2\n",
    "clicks = np.arange(15, 120)"
   ]
  },
  {
   "cell_type": "code",
   "execution_count": 4,
   "metadata": {},
   "outputs": [],
   "source": [
    "def prob_distrib_visualization(clicks, site1, site2, rate1, rate2):\n",
    "    prob_a = binom(site1, rate1).pmf(clicks)\n",
    "    prob_b = binom(site2, rate2).pmf(clicks)\n",
    "    \n",
    "    plt.plot(clicks, prob_a, label=\"Image 1\", alpha=0.7, color = 'navy')\n",
    "    plt.plot(clicks, prob_b, label=\"Image 2\", alpha=0.7, color = 'maroon')\n",
    "    plt.legend()\n",
    "    plt.xlabel(\"Converted\")\n",
    "    plt.ylabel(\"Probability\")\n",
    "    plt.show()\n",
    "    \n",
    "def z_score(rate1, rate2, std1, std2):\n",
    "    return (rate2 - rate1) / np.sqrt(std1**2 + std2**2)\n",
    "\n",
    "def sigma(rate, site):\n",
    "    return np.sqrt(rate * (1 - rate) / site)\n",
    "\n",
    "def pval(p_val, ci = 0.05):\n",
    "    if p_val < ci:\n",
    "        print('Fail to accept null hypothesis')\n",
    "    else:\n",
    "        print('Accept null hypothesis')\n",
    "\n",
    "def frequentist_a_b_test(click1, click2, site1, site2, ci = 0.055):\n",
    "    rate1 = click1 / site1\n",
    "    rate2 = click2 / site2\n",
    "    \n",
    "    std1 = sigma(rate1, site1)\n",
    "    std2 = sigma(rate2, site2)\n",
    "    z = z_score(rate1, rate2, std1, std2)\n",
    "    p = norm.cdf(z)\n",
    "    \n",
    "    pval(norm.cdf(z), ci)\n",
    "    return p"
   ]
  },
  {
   "cell_type": "code",
   "execution_count": 5,
   "metadata": {},
   "outputs": [
    {
     "data": {
      "image/png": "[encoded data removed]",
      "text/plain": [
       "<Figure size 432x288 with 1 Axes>"
      ]
     },
     "metadata": {},
     "output_type": "display_data"
    }
   ],
   "source": [
    "prob_distrib_visualization(clicks, site1, site2, rate_1, rate_2)"
   ]
  },
  {
   "cell_type": "code",
   "execution_count": 6,
   "metadata": {},
   "outputs": [
    {
     "name": "stdout",
     "output_type": "stream",
     "text": [
      "Fail to accept null hypothesis\n"
     ]
    },
    {
     "data": {
      "text/plain": [
       "4.324584493014294e-08"
      ]
     },
     "execution_count": 6,
     "metadata": {},
     "output_type": "execute_result"
    }
   ],
   "source": [
    "frequentist_a_b_test(45, 55, 50, 100)"
   ]
  },
  {
   "cell_type": "markdown",
   "metadata": {},
   "source": [
    "## Example 2"
   ]
  },
  {
   "cell_type": "markdown",
   "metadata": {},
   "source": [
    "The mortgage department of a large bank is interested in the nature of loans of first-time borrowers. This information will be used to tailor their marketing strategy. They believe that 50% of first-time borrowers take out smaller loans than other borrowers. They perform a hypothesis test to determine if the percentage is the same or different from 50%. They sample 100 first-time borrowers and find 53 of these loans are smaller that the other borrowers. For the hypothesis test, they choose a 5% level of significance.  "
   ]
  },
  {
   "cell_type": "markdown",
   "metadata": {},
   "source": [
    "**Null Hypothesis** : p = 0.5  \n",
    "**Alternative Hypothesis** : p != 0.5  \n",
    "\n",
    "This will be ran as a two tailed test. "
   ]
  },
  {
   "cell_type": "markdown",
   "metadata": {},
   "source": [
    "Given that our significance level is 5% and that it is a two tailed test, our confidence interval will be 1 - 0.05/2 = 0.975. Resulting in the p critical value of 1.96"
   ]
  },
  {
   "cell_type": "code",
   "execution_count": 3,
   "metadata": {},
   "outputs": [
    {
     "name": "stdout",
     "output_type": "stream",
     "text": [
      "1.959963984540054\n"
     ]
    }
   ],
   "source": [
    "import numpy as np\n",
    "from scipy.stats import norm\n",
    "\n",
    "# calculate the confidence interval and p critical value\n",
    "significance_level = 0.05\n",
    "conf_interval = 1 - (significance_level / 2)\n",
    "\n",
    "p_crticial = norm.ppf(conf_interval)\n",
    "print(p_crticial)"
   ]
  },
  {
   "cell_type": "markdown",
   "metadata": {},
   "source": [
    "“Is 0.53 significantly different from .50?” Putting these values into the formula for the test statistic we find that 0.53 is only 0.60 standard deviations away from .50. This is barely off of the mean of the standard normal distribution of zero. There is virtually no difference from the sample proportion and the hypothesized proportion in terms of standard deviations."
   ]
  },
  {
   "cell_type": "code",
   "execution_count": 4,
   "metadata": {},
   "outputs": [
    {
     "data": {
      "text/plain": [
       "0.6000000000000005"
      ]
     },
     "execution_count": 4,
     "metadata": {},
     "output_type": "execute_result"
    }
   ],
   "source": [
    "# test statistics\n",
    "n = 100   \n",
    "p1 = 53 / 100\n",
    "p0 = 50 / 100\n",
    "p = 0.5\n",
    "q = 1 - p\n",
    "\n",
    "def test_statistic(n, p1, p0, p, q):\n",
    "    '''\n",
    "    Calculates the test statistic of a normal disribution \n",
    "    '''\n",
    "    z = (p1 - p0) / np.sqrt((p * q) / n)\n",
    "    return z\n",
    "\n",
    "test_statistic(n , p1, p0, p, q)"
   ]
  },
  {
   "cell_type": "markdown",
   "metadata": {},
   "source": [
    "The test statisic is within the critical values, hence we fail to reject the null hypothesis. This implies that at a 95% level of significance we cannot reject the null hypothesis that 50% of first-time borrowers have the same size loans as other borrowers"
   ]
  },
  {
   "cell_type": "code",
   "execution_count": null,
   "metadata": {},
   "outputs": [],
   "source": []
  },
  {
   "cell_type": "code",
   "execution_count": null,
   "metadata": {},
   "outputs": [],
   "source": []
  },
  {
   "cell_type": "code",
   "execution_count": 8,
   "metadata": {},
   "outputs": [],
   "source": [
    "# std_1 = np.sqrt(rate_1 * (1 - rate_1) / site1)\n",
    "# std_2 = np.sqrt(rate_2 * (1 - rate_2) / site2)\n",
    "\n",
    "# click_rate = np.linspace(0, 0.2, 200)\n",
    "# prob_1 = norm(rate_1, std_1).pdf(click_rate)\n",
    "# prob_2 = norm(rate_2, std_2).pdf(click_rate)\n",
    "\n",
    "# # Make the bar plots.\n",
    "# plt.plot(click_rate, prob_1, label=\"Image 1\")\n",
    "# plt.plot(click_rate, prob_2, label=\"Image 2\")\n",
    "# plt.xlabel(\"Converted\")\n",
    "# plt.ylabel(\"Probability\")\n",
    "\n",
    "# z_score = (rate_2 - rate_1) / np.sqrt(std_1**2 + std_2**2)\n",
    "# p = norm(rate_2 - rate_1, np.sqrt(std_1**2 + std_2**2))\n",
    "\n",
    "# x = np.linspace(-0.05, 0.15, 1000)\n",
    "# y = p.pdf(x)\n",
    "# area_under_curve = p.sf(0)\n",
    "# plt.plot(x, y, label=\"PDF\")\n",
    "# plt.fill_between(x, 0, y, where=x>0, label=\"Prob(b>a)\", alpha=0.3)\n",
    "# plt.annotate(f\"Area={area_under_curve:0.3f}\", (0.02, 5))\n",
    "# plt.legend()\n",
    "# plt.xlabel(\"Difference in conversion rate\"); plt.ylabel(\"Prob\");\n",
    "\n",
    "# print(f\"zscore is {z_score:0.3f}, with p-value {norm().sf(z_score):0.3f}\")"
   ]
  },
  {
   "cell_type": "markdown",
   "metadata": {},
   "source": [
    "How can we interpret this result? Clearly, we can fail to accept our null hypothesis (null hypothesis is false) as the p-value is substantially below our p-critical value. "
   ]
  },
  {
   "cell_type": "code",
   "execution_count": 8,
   "metadata": {},
   "outputs": [],
   "source": [
    "# top down and botttom up linkage methods for hiearchical clustering"
   ]
  },
  {
   "cell_type": "code",
   "execution_count": null,
   "metadata": {},
   "outputs": [],
   "source": []
  },
  {
   "cell_type": "code",
   "execution_count": null,
   "metadata": {},
   "outputs": [],
   "source": []
  }
 ],
 "metadata": {
  "kernelspec": {
   "display_name": "Python 3",
   "language": "python",
   "name": "python3"
  },
  "language_info": {
   "codemirror_mode": {
    "name": "ipython",
    "version": 3
   },
   "file_extension": ".py",
   "mimetype": "text/x-python",
   "name": "python",
   "nbconvert_exporter": "python",
   "pygments_lexer": "ipython3",
   "version": "3.7.4"
  }
 },
 "nbformat": 4,
 "nbformat_minor": 4
}
