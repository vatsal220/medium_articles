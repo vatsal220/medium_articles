{
 "cells": [
  {
   "cell_type": "markdown",
   "id": "879c3647-b3ae-4797-9e40-1de2fa968c11",
   "metadata": {},
   "source": [
    "# Dashboard"
   ]
  },
  {
   "cell_type": "code",
   "execution_count": 1,
   "id": "4fff6fc9-3028-449b-bc92-7a7e94f24f77",
   "metadata": {},
   "outputs": [],
   "source": [
    "import pandas as pd\n",
    "import matplotlib.pyplot as plt\n",
    "import numpy as np"
   ]
  },
  {
   "cell_type": "code",
   "execution_count": 2,
   "id": "42e8e128-b390-4152-979b-452b352673d3",
   "metadata": {},
   "outputs": [],
   "source": [
    "# constants\n",
    "# data taken from https://www.kaggle.com/datasets/nathanlauga/nba-games?resource=download&select=games.csv\n",
    "games_path = './data/games.csv'\n",
    "game_detail_path = './data/games_details.csv'\n",
    "ranking_path = './data/ranking.csv'\n",
    "players_path = './data/players.csv'\n",
    "teams_path = './data//teams.csv'"
   ]
  },
  {
   "cell_type": "markdown",
   "id": "f72a97df-d94e-4255-91ca-88694f789da8",
   "metadata": {},
   "source": [
    "## Import Data"
   ]
  },
  {
   "cell_type": "code",
   "execution_count": 6,
   "id": "fff48f8f-bcec-46f0-a797-2117c9ff3d7b",
   "metadata": {},
   "outputs": [
    {
     "name": "stderr",
     "output_type": "stream",
     "text": [
      "/Users/vatsalpatel/anaconda3/lib/python3.8/site-packages/IPython/core/interactiveshell.py:3165: DtypeWarning: Columns (6) have mixed types.Specify dtype option on import or set low_memory=False.\n",
      "  has_raised = await self.run_ast_nodes(code_ast.body, cell_name,\n"
     ]
    }
   ],
   "source": [
    "def load_data(games_path, game_detail_path, ranking_path, players_path, teams_path):\n",
    "    data = {\n",
    "        'games' : pd.read_csv(games_path),\n",
    "        'games_detail' : pd.read_csv(game_detail_path),\n",
    "        'ranking' : pd.read_csv(ranking_path),\n",
    "        'players' : pd.read_csv(players_path),\n",
    "        'teams' : pd.read_csv(teams_path)\n",
    "    }\n",
    "    return data\n",
    "data = load_data(games_path, game_detail_path, ranking_path, players_path, teams_path)"
   ]
  },
  {
   "cell_type": "code",
   "execution_count": 9,
   "id": "ec8c4dd2-1888-4063-a43b-ea93b4cd8199",
   "metadata": {},
   "outputs": [
    {
     "name": "stdout",
     "output_type": "stream",
     "text": [
      "games\n",
      "(25796, 21)\n",
      "Index(['GAME_DATE_EST', 'GAME_ID', 'GAME_STATUS_TEXT', 'HOME_TEAM_ID',\n",
      "       'VISITOR_TEAM_ID', 'SEASON', 'TEAM_ID_home', 'PTS_home', 'FG_PCT_home',\n",
      "       'FT_PCT_home', 'FG3_PCT_home', 'AST_home', 'REB_home', 'TEAM_ID_away',\n",
      "       'PTS_away', 'FG_PCT_away', 'FT_PCT_away', 'FG3_PCT_away', 'AST_away',\n",
      "       'REB_away', 'HOME_TEAM_WINS'],\n",
      "      dtype='object')\n",
      "\n",
      "\n",
      "games_detail\n",
      "(645953, 29)\n",
      "Index(['GAME_ID', 'TEAM_ID', 'TEAM_ABBREVIATION', 'TEAM_CITY', 'PLAYER_ID',\n",
      "       'PLAYER_NAME', 'NICKNAME', 'START_POSITION', 'COMMENT', 'MIN', 'FGM',\n",
      "       'FGA', 'FG_PCT', 'FG3M', 'FG3A', 'FG3_PCT', 'FTM', 'FTA', 'FT_PCT',\n",
      "       'OREB', 'DREB', 'REB', 'AST', 'STL', 'BLK', 'TO', 'PF', 'PTS',\n",
      "       'PLUS_MINUS'],\n",
      "      dtype='object')\n",
      "\n",
      "\n",
      "ranking\n",
      "(201792, 13)\n",
      "Index(['TEAM_ID', 'LEAGUE_ID', 'SEASON_ID', 'STANDINGSDATE', 'CONFERENCE',\n",
      "       'TEAM', 'G', 'W', 'L', 'W_PCT', 'HOME_RECORD', 'ROAD_RECORD',\n",
      "       'RETURNTOPLAY'],\n",
      "      dtype='object')\n",
      "\n",
      "\n",
      "players\n",
      "(7228, 4)\n",
      "Index(['PLAYER_NAME', 'TEAM_ID', 'PLAYER_ID', 'SEASON'], dtype='object')\n",
      "\n",
      "\n",
      "teams\n",
      "(30, 14)\n",
      "Index(['LEAGUE_ID', 'TEAM_ID', 'MIN_YEAR', 'MAX_YEAR', 'ABBREVIATION',\n",
      "       'NICKNAME', 'YEARFOUNDED', 'CITY', 'ARENA', 'ARENACAPACITY', 'OWNER',\n",
      "       'GENERALMANAGER', 'HEADCOACH', 'DLEAGUEAFFILIATION'],\n",
      "      dtype='object')\n",
      "\n",
      "\n"
     ]
    }
   ],
   "source": [
    "# get dataframe stats\n",
    "for k,v in data.items():\n",
    "    print(k)\n",
    "    print(v.shape)\n",
    "    print(v.columns)\n",
    "    print('\\n')"
   ]
  },
  {
   "cell_type": "markdown",
   "id": "691ba7b9-4394-4caf-9b99-3be9cdbc1a82",
   "metadata": {},
   "source": [
    "## Generate Visualizations"
   ]
  },
  {
   "cell_type": "code",
   "execution_count": null,
   "id": "6db26ac1-a789-47d1-aa71-21e3630dfef1",
   "metadata": {},
   "outputs": [],
   "source": []
  },
  {
   "cell_type": "code",
   "execution_count": null,
   "id": "8008eb73-eca1-4f70-a92d-d37863baaeb5",
   "metadata": {},
   "outputs": [],
   "source": []
  }
 ],
 "metadata": {
  "kernelspec": {
   "display_name": "Python 3",
   "language": "python",
   "name": "python3"
  },
  "language_info": {
   "codemirror_mode": {
    "name": "ipython",
    "version": 3
   },
   "file_extension": ".py",
   "mimetype": "text/x-python",
   "name": "python",
   "nbconvert_exporter": "python",
   "pygments_lexer": "ipython3",
   "version": "3.8.8"
  }
 },
 "nbformat": 4,
 "nbformat_minor": 5
}
