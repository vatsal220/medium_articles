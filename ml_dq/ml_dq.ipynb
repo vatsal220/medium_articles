{
 "cells": [
  {
   "cell_type": "markdown",
   "id": "4074cb11-6ffa-4e52-a7ed-fbe8b0df8708",
   "metadata": {},
   "source": [
    "# Machine Learning Data Quality"
   ]
  },
  {
   "cell_type": "code",
   "execution_count": 1,
   "id": "6723f4a6-2518-4f96-bc6b-34939d415ea4",
   "metadata": {},
   "outputs": [
    {
     "name": "stdout",
     "output_type": "stream",
     "text": [
      "Python 3.10.0\n"
     ]
    }
   ],
   "source": [
    "!python3 --version"
   ]
  },
  {
   "cell_type": "code",
   "execution_count": 2,
   "id": "8c247537-e215-40f8-9955-282bb8d493be",
   "metadata": {},
   "outputs": [],
   "source": [
    "import numpy as np\n",
    "import matplotlib.pyplot as plt\n",
    "\n",
    "from typing import List\n",
    "from sklearn.svm import OneClassSVM\n",
    "from sklearn.ensemble import IsolationForest\n",
    "from sklearn.metrics import classification_report"
   ]
  },
  {
   "cell_type": "markdown",
   "id": "09fca2bd-0695-432f-9662-440b189e3c15",
   "metadata": {},
   "source": [
    "## Load Data"
   ]
  },
  {
   "cell_type": "code",
   "execution_count": 3,
   "id": "0e1e4afa-fcf8-44c4-9b26-3b772e745572",
   "metadata": {},
   "outputs": [],
   "source": [
    "def generate_dataset(num_features: int, num_samples: int, anomaly_percent: float) -> List[float]:\n",
    "    \"\"\"This method will generate a random dataset with a specified \n",
    "    number of features, number of samples, and percentage of anomalies.\n",
    "\n",
    "    Args:\n",
    "        num_features: Integer representing the number of features in the dataset.\n",
    "        num_samples: Integer representing the number of samples in the dataset.\n",
    "        anomaly_percent: Float representing the percentage of anomalies in the dataset.\n",
    "\n",
    "    Returns:\n",
    "        X: List[float] A 2D numpy array containing the features of the dataset.\n",
    "        y: List[float] A 1D numpy array containing the labels of the dataset.\n",
    "    \"\"\"\n",
    "\n",
    "    # Generate random data\n",
    "    X = np.random.rand(num_samples, num_features)\n",
    "\n",
    "    # Generate random labels\n",
    "    num_anomalies = int(num_samples * (anomaly_percent / 100))\n",
    "    y = np.zeros(num_samples)\n",
    "    y[:num_anomalies] = 1\n",
    "    np.random.shuffle(y)\n",
    "\n",
    "    return X, y\n",
    "\n",
    "X, y = generate_dataset(num_features=5, num_samples=1000, anomaly_percent=10)"
   ]
  },
  {
   "cell_type": "markdown",
   "id": "87b1bf0c-cc89-4f43-9be8-cbdf222c2eba",
   "metadata": {},
   "source": [
    "## Isolation Forest"
   ]
  },
  {
   "cell_type": "code",
   "execution_count": 4,
   "id": "c5dffd09-ef7e-4f3c-ac5f-6eec6640db45",
   "metadata": {},
   "outputs": [
    {
     "name": "stdout",
     "output_type": "stream",
     "text": [
      "Isolation Forest performance:\n",
      "              precision    recall  f1-score   support\n",
      "\n",
      "        -1.0       0.00      0.00      0.00         0\n",
      "         0.0       0.00      0.00      0.00       900\n",
      "         1.0       0.10      0.91      0.18       100\n",
      "\n",
      "    accuracy                           0.09      1000\n",
      "   macro avg       0.03      0.30      0.06      1000\n",
      "weighted avg       0.01      0.09      0.02      1000\n",
      "\n"
     ]
    },
    {
     "name": "stderr",
     "output_type": "stream",
     "text": [
      "/Users/vatsalpatel/opt/miniconda3/envs/test_env/lib/python3.10/site-packages/sklearn/metrics/_classification.py:1334: UndefinedMetricWarning: Precision and F-score are ill-defined and being set to 0.0 in labels with no predicted samples. Use `zero_division` parameter to control this behavior.\n",
      "  _warn_prf(average, modifier, msg_start, len(result))\n",
      "/Users/vatsalpatel/opt/miniconda3/envs/test_env/lib/python3.10/site-packages/sklearn/metrics/_classification.py:1334: UndefinedMetricWarning: Recall and F-score are ill-defined and being set to 0.0 in labels with no true samples. Use `zero_division` parameter to control this behavior.\n",
      "  _warn_prf(average, modifier, msg_start, len(result))\n",
      "/Users/vatsalpatel/opt/miniconda3/envs/test_env/lib/python3.10/site-packages/sklearn/metrics/_classification.py:1334: UndefinedMetricWarning: Precision and F-score are ill-defined and being set to 0.0 in labels with no predicted samples. Use `zero_division` parameter to control this behavior.\n",
      "  _warn_prf(average, modifier, msg_start, len(result))\n",
      "/Users/vatsalpatel/opt/miniconda3/envs/test_env/lib/python3.10/site-packages/sklearn/metrics/_classification.py:1334: UndefinedMetricWarning: Recall and F-score are ill-defined and being set to 0.0 in labels with no true samples. Use `zero_division` parameter to control this behavior.\n",
      "  _warn_prf(average, modifier, msg_start, len(result))\n",
      "/Users/vatsalpatel/opt/miniconda3/envs/test_env/lib/python3.10/site-packages/sklearn/metrics/_classification.py:1334: UndefinedMetricWarning: Precision and F-score are ill-defined and being set to 0.0 in labels with no predicted samples. Use `zero_division` parameter to control this behavior.\n",
      "  _warn_prf(average, modifier, msg_start, len(result))\n",
      "/Users/vatsalpatel/opt/miniconda3/envs/test_env/lib/python3.10/site-packages/sklearn/metrics/_classification.py:1334: UndefinedMetricWarning: Recall and F-score are ill-defined and being set to 0.0 in labels with no true samples. Use `zero_division` parameter to control this behavior.\n",
      "  _warn_prf(average, modifier, msg_start, len(result))\n"
     ]
    }
   ],
   "source": [
    "# Train Isolation Forest model\n",
    "iforest = IsolationForest(contamination=0.1)\n",
    "iforest.fit(X)\n",
    "\n",
    "# Evaluate Isolation Forest model\n",
    "y_pred = iforest.predict(X)\n",
    "print('Isolation Forest performance:')\n",
    "print(classification_report(y, y_pred))\n"
   ]
  },
  {
   "cell_type": "markdown",
   "id": "b4318985-0aaf-46ae-8748-6e00ed47f712",
   "metadata": {},
   "source": [
    "## 1 Class SVC"
   ]
  },
  {
   "cell_type": "code",
   "execution_count": 5,
   "id": "33eaddd5-26c4-4eb0-944f-13ca208cc436",
   "metadata": {},
   "outputs": [
    {
     "name": "stdout",
     "output_type": "stream",
     "text": [
      "OneClassSVM performance:\n",
      "              precision    recall  f1-score   support\n",
      "\n",
      "        -1.0       0.00      0.00      0.00         0\n",
      "         0.0       0.00      0.00      0.00       900\n",
      "         1.0       0.10      0.90      0.18       100\n",
      "\n",
      "    accuracy                           0.09      1000\n",
      "   macro avg       0.03      0.30      0.06      1000\n",
      "weighted avg       0.01      0.09      0.02      1000\n",
      "\n"
     ]
    },
    {
     "name": "stderr",
     "output_type": "stream",
     "text": [
      "/Users/vatsalpatel/opt/miniconda3/envs/test_env/lib/python3.10/site-packages/sklearn/metrics/_classification.py:1334: UndefinedMetricWarning: Precision and F-score are ill-defined and being set to 0.0 in labels with no predicted samples. Use `zero_division` parameter to control this behavior.\n",
      "  _warn_prf(average, modifier, msg_start, len(result))\n",
      "/Users/vatsalpatel/opt/miniconda3/envs/test_env/lib/python3.10/site-packages/sklearn/metrics/_classification.py:1334: UndefinedMetricWarning: Recall and F-score are ill-defined and being set to 0.0 in labels with no true samples. Use `zero_division` parameter to control this behavior.\n",
      "  _warn_prf(average, modifier, msg_start, len(result))\n",
      "/Users/vatsalpatel/opt/miniconda3/envs/test_env/lib/python3.10/site-packages/sklearn/metrics/_classification.py:1334: UndefinedMetricWarning: Precision and F-score are ill-defined and being set to 0.0 in labels with no predicted samples. Use `zero_division` parameter to control this behavior.\n",
      "  _warn_prf(average, modifier, msg_start, len(result))\n",
      "/Users/vatsalpatel/opt/miniconda3/envs/test_env/lib/python3.10/site-packages/sklearn/metrics/_classification.py:1334: UndefinedMetricWarning: Recall and F-score are ill-defined and being set to 0.0 in labels with no true samples. Use `zero_division` parameter to control this behavior.\n",
      "  _warn_prf(average, modifier, msg_start, len(result))\n",
      "/Users/vatsalpatel/opt/miniconda3/envs/test_env/lib/python3.10/site-packages/sklearn/metrics/_classification.py:1334: UndefinedMetricWarning: Precision and F-score are ill-defined and being set to 0.0 in labels with no predicted samples. Use `zero_division` parameter to control this behavior.\n",
      "  _warn_prf(average, modifier, msg_start, len(result))\n",
      "/Users/vatsalpatel/opt/miniconda3/envs/test_env/lib/python3.10/site-packages/sklearn/metrics/_classification.py:1334: UndefinedMetricWarning: Recall and F-score are ill-defined and being set to 0.0 in labels with no true samples. Use `zero_division` parameter to control this behavior.\n",
      "  _warn_prf(average, modifier, msg_start, len(result))\n"
     ]
    }
   ],
   "source": [
    "# Generate a random dataset\n",
    "X, y = generate_dataset(num_features=5, num_samples=1000, anomaly_percent=10)\n",
    "\n",
    "# Train OneClassSVM model\n",
    "svm = OneClassSVM(kernel='linear', nu=0.1)\n",
    "svm.fit(X)\n",
    "\n",
    "# Evaluate OneClassSVM model\n",
    "y_pred = svm.predict(X)\n",
    "print('OneClassSVM performance:')\n",
    "print(classification_report(y, y_pred))"
   ]
  },
  {
   "cell_type": "markdown",
   "id": "e7b07d39-ba6c-410c-81af-620df113bfdb",
   "metadata": {},
   "source": [
    "## Evaluate"
   ]
  },
  {
   "cell_type": "code",
   "execution_count": 6,
   "id": "a09c1a85-67b6-4228-97cc-413d75677bd9",
   "metadata": {},
   "outputs": [
    {
     "data": {
      "image/png": "[encoded data removed]",
      "text/plain": [
       "<Figure size 640x480 with 1 Axes>"
      ]
     },
     "metadata": {},
     "output_type": "display_data"
    }
   ],
   "source": [
    "# Compute average path length for each feature\n",
    "avg_path_length = np.mean(iforest.decision_function(X))\n",
    "\n",
    "# Compute feature importance\n",
    "iforest_importance = np.mean(iforest.decision_function(X)[:, np.newaxis] * X, axis=0)\n",
    "\n",
    "# Plot feature importances\n",
    "plt.clf()\n",
    "plt.bar(np.arange(len(iforest_importance)), iforest_importance)\n",
    "plt.xlabel(\"Features\")\n",
    "plt.ylabel(\"Importance\")\n",
    "plt.title('Isolation Forest Feature Importance')\n",
    "plt.show()\n"
   ]
  },
  {
   "cell_type": "code",
   "execution_count": 7,
   "id": "5365e547-f4f8-4ff3-8513-dd35aaca7bf4",
   "metadata": {},
   "outputs": [
    {
     "data": {
      "image/png": "[encoded data removed]",
      "text/plain": [
       "<Figure size 640x480 with 1 Axes>"
      ]
     },
     "metadata": {},
     "output_type": "display_data"
    }
   ],
   "source": [
    "# Get top 10 support vectors\n",
    "idx = np.argsort(np.abs(svm.coef_))[::-1]\n",
    "svm_importance = svm.coef_[0][idx]\n",
    "\n",
    "# Plot feature importances\n",
    "plt.clf()\n",
    "plt.bar(range(len(svm_importance[0])), svm_importance[0])\n",
    "plt.xlabel(\"Features\")\n",
    "plt.ylabel(\"Importance\")\n",
    "plt.title('SVC Feature Importance')\n",
    "plt.show()"
   ]
  },
  {
   "cell_type": "markdown",
   "id": "502b3537-2e16-4182-9b82-39ebdd9775cb",
   "metadata": {},
   "source": [
    "---"
   ]
  }
 ],
 "metadata": {
  "kernelspec": {
   "display_name": "Python 3 (ipykernel)",
   "language": "python",
   "name": "python3"
  },
  "language_info": {
   "codemirror_mode": {
    "name": "ipython",
    "version": 3
   },
   "file_extension": ".py",
   "mimetype": "text/x-python",
   "name": "python",
   "nbconvert_exporter": "python",
   "pygments_lexer": "ipython3",
   "version": "3.10.0"
  }
 },
 "nbformat": 4,
 "nbformat_minor": 5
}
