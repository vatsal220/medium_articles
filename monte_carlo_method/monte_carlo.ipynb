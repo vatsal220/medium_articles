{
 "cells": [
  {
   "cell_type": "markdown",
   "metadata": {},
   "source": [
    "## Monte Carlo Method"
   ]
  },
  {
   "cell_type": "markdown",
   "metadata": {},
   "source": [
    "### Implementation"
   ]
  },
  {
   "cell_type": "code",
   "execution_count": 10,
   "metadata": {},
   "outputs": [],
   "source": [
    "from scipy import random\n",
    "import math\n",
    "\n",
    "# the domain\n",
    "ub = 7\n",
    "lb = 0.45\n",
    "\n",
    "# the function to be solved\n",
    "def func(x):\n",
    "    return math.tanh(math.sqrt(x))\n",
    "\n",
    "# number of iterations\n",
    "N = 10000\n",
    "\n",
    "# randomly distributed values\n",
    "uniformly_distributed_random_vals = random.uniform(ub,lb,N)\n",
    "\n",
    "def monte_carlo(N, rand_vals, fn, upper_bound, lower_bound):\n",
    "    '''\n",
    "    The purpose of this function is to solve a user input function at a specific domain using the monte carlo method\n",
    "    \n",
    "    args:\n",
    "        N (Float) : The number of trials\n",
    "        rand_vals (List) : a list of N randomly generated inputs over the specified domain\n",
    "        fn (Function) :  the function you want to integrate\n",
    "        upper_bound (Float) : The upper bound of the integral\n",
    "        lower_bound (Float) : The lower bound of the integral\n",
    "    \n",
    "    returns:\n",
    "        This function will return an approximate answer to the input function using the monte carlo method\n",
    "    '''\n",
    "    \n",
    "    sol = 0\n",
    "    for i in range(N):\n",
    "        sol += fn(rand_vals[i])\n",
    "    \n",
    "    return (upper_bound - lower_bound)/float(N) * sol"
   ]
  },
  {
   "cell_type": "code",
   "execution_count": 11,
   "metadata": {},
   "outputs": [
    {
     "data": {
      "text/plain": [
       "5.902921687793688"
      ]
     },
     "execution_count": 11,
     "metadata": {},
     "output_type": "execute_result"
    }
   ],
   "source": [
    "monte_carlo(\n",
    "    N = 100,\n",
    "    rand_vals  = uniformly_distributed_random_vals,\n",
    "    fn =  func,\n",
    "    upper_bound = ub,\n",
    "    lower_bound = lb\n",
    ")"
   ]
  }
 ],
 "metadata": {
  "kernelspec": {
   "display_name": "Python 3",
   "language": "python",
   "name": "python3"
  },
  "language_info": {
   "codemirror_mode": {
    "name": "ipython",
    "version": 3
   },
   "file_extension": ".py",
   "mimetype": "text/x-python",
   "name": "python",
   "nbconvert_exporter": "python",
   "pygments_lexer": "ipython3",
   "version": "3.7.4"
  }
 },
 "nbformat": 4,
 "nbformat_minor": 4
}
