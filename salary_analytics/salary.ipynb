{
 "cells": [
  {
   "cell_type": "markdown",
   "id": "5bcbc81a-7ce1-4eb9-a60f-b306b8bf7689",
   "metadata": {},
   "source": [
    "# Salary Analytics"
   ]
  },
  {
   "cell_type": "markdown",
   "id": "171ad39c-1070-494d-8af8-9f5ca5e45231",
   "metadata": {},
   "source": [
    "This repository consists of conducting analysis on publicaly submitted salaries. The data was gathered and inspired by [Christen Nino De Guzman](https://www.linkedin.com/in/christenndg/) on her linkedin post about wage transparency. You can find the post [here](https://www.linkedin.com/feed/update/urn:li:activity:6883141659610234880/) and the associated csv [here](https://docs.google.com/spreadsheets/d/19h0WT9Xjf9ncNmJDWpd8fzz7YnB37nemDnxKSO0EE8o/edit#gid=1664289965). She advocated this on her linkedin community and it gained a lot of traction, nearly 60,000 people have anonomously submitted their total compensation breakdown, gender, age range, etc. The purpose of this article is to strictly do an analysis on the data retried. The article will consist of a few different segments as outlined below:\n",
    "\n",
    "**Table of Contents**\n",
    "- Data Retrieval\n",
    "- Data Cleaning\n",
    "- Analysis & Visualization\n",
    "- Modelling\n",
    "- Concluding Remarks\n",
    "- Resources"
   ]
  },
  {
   "cell_type": "code",
   "execution_count": 1,
   "id": "e71cfec5-776f-4214-9b38-cbca22cc8398",
   "metadata": {},
   "outputs": [],
   "source": [
    "import pandas as pd\n",
    "import numpy as np\n",
    "import seaborn as sns\n",
    "import matplotlib.pyplot as plt\n",
    "import plotly as pt\n",
    "\n",
    "sns.set()"
   ]
  },
  {
   "cell_type": "code",
   "execution_count": 2,
   "id": "65e9a920-b591-47a0-bc5f-644f8d87ee71",
   "metadata": {},
   "outputs": [],
   "source": [
    "# constants\n",
    "# source = https://docs.google.com/spreadsheets/d/19h0WT9Xjf9ncNmJDWpd8fzz7YnB37nemDnxKSO0EE8o/edit#gid=1664289965\n",
    "file_path = './data/anon_salary.csv'"
   ]
  },
  {
   "cell_type": "markdown",
   "id": "3608f447-0344-4d58-bac6-2738e43dbbb7",
   "metadata": {},
   "source": [
    "## Import Data"
   ]
  },
  {
   "cell_type": "code",
   "execution_count": 3,
   "id": "8379a47a-ca21-45f9-b1da-b803c82b4cee",
   "metadata": {},
   "outputs": [
    {
     "data": {
      "text/plain": [
       "(59688, 22)"
      ]
     },
     "execution_count": 3,
     "metadata": {},
     "output_type": "execute_result"
    }
   ],
   "source": [
    "d = pd.read_csv(file_path)\n",
    "d.shape"
   ]
  },
  {
   "cell_type": "markdown",
   "id": "e43a4bcb-0936-443e-aa9a-ae9a1072d002",
   "metadata": {},
   "source": [
    "## Clean Data"
   ]
  },
  {
   "cell_type": "markdown",
   "id": "70ee2822-abe2-48da-8ae5-6c00c6b782a1",
   "metadata": {},
   "source": [
    "During the cleaning components, we're not going to really aim for perfection as there's just too much data to parse through manually and too many individual edge cases which would act as outliers. We're aiming to clean the masses of the results that users have submitted. So the cleaning portion will most definetly not be perfect, but when dealing with a large volume of user submitted data without any options / restrictions in place for the submissions, it becomes almost impossible to have **perfectly** cleaned data. In this section we'll begin by renaming the columns to remove any fluf and wierd wording in them."
   ]
  },
  {
   "cell_type": "code",
   "execution_count": 4,
   "id": "d5f6c499-82b7-4c66-a3de-2a4f3b022ecf",
   "metadata": {},
   "outputs": [],
   "source": [
    "rename_cols = {\n",
    "    'Timestamp' : 'timestamp',\n",
    "    'Country' : 'country',\n",
    "    'Age Range' : 'age_range',\n",
    "    'Highest Level of Education Received' : 'max_edu',\n",
    "    'Company Name' : 'org',\n",
    "    'Years of Experience' : 'yoe',\n",
    "    'Closest Major City and State (e.g. Santa Clara, CA)' : 'loc_city',\n",
    "    'Annual Base Salary (if hourly, please convert to annual)' : 'annual_wage',\n",
    "    'How many vacation days are you given per year?' : 'vacation_days_yearly',\n",
    "    'How many sick days are you given per year?' : 'sick_days_yearly',\n",
    "    'Do you openly discuss salary with your colleagues?' : 'open_wage_discussions',\n",
    "    'How many months Maternity or Paternity does your company offer?' : 'maternity_leave_months',\n",
    "    'Diverse Identity (Optional)' : 'ethnicity',\n",
    "    'Currency (USD, CAD, etc)' : 'currency',\n",
    "    'Gender (optional)' : 'gender',\n",
    "    'Annual Bonus' : 'bonus',\n",
    "    'Annual Average of RSUs' : 'avg_rsu',\n",
    "    'Signing Bonus (if none, leave blank)' : 'signing_bonus',\n",
    "    'Job Title' : 'job_title',\n",
    "    'How many days per week are you required to work onsite/in the office?' : 'days_per_week_in_office'\n",
    "}\n",
    "\n",
    "d.rename(columns = rename_cols, inplace = True)\n",
    "d.drop(columns = ['Unnamed: 20'], inplace = True)"
   ]
  },
  {
   "cell_type": "code",
   "execution_count": 5,
   "id": "1d87618b-0fed-42cb-a2ed-8a8a3a120de7",
   "metadata": {},
   "outputs": [],
   "source": [
    "curr_dct = {\n",
    "    # I'm aware that dollars and $ can be across many different currencies, I'm making a generalized assumption\n",
    "    'usd' : ['us dollar', 'us dollars', 'usda', 'usdp', 'dollars', '$', 'usa', 'uds', 'ysd', 'uss'],  \n",
    "    'cad' : ['can', 'canadian', 'caf', 'canada'],\n",
    "    'eur' : ['euro', 'euros', 'eu',],\n",
    "    'gbp' : ['pound', 'pound sterling', 'pounds', 'british pounds', 'british pound', 'gbp £']\n",
    "}\n",
    "\n",
    "def clean_currency(cur, curr_dct = curr_dct):\n",
    "    '''\n",
    "    Will clean the currency column \n",
    "    '''\n",
    "    cur = str(cur).lstrip().rstrip().strip().lower()\n",
    "    for k,v in curr_dct.items():\n",
    "        if cur in v:\n",
    "            return k\n",
    "\n",
    "    if cur == 'nan' or cur == 'n/a' or cur == '-':\n",
    "        return np.nan\n",
    "    return cur"
   ]
  },
  {
   "cell_type": "code",
   "execution_count": 6,
   "id": "19c9f5be-1de1-4489-a509-0367a64ee366",
   "metadata": {},
   "outputs": [],
   "source": [
    "def clean_wage(wage):\n",
    "    '''\n",
    "    Will clean the user input wage to be an integer\n",
    "    '''\n",
    "    wage=str(wage).lower()\n",
    "    wage = wage.replace('$','').replace(' ', '').replace(',', '').replace('cad', '').replace('usd','').replace('()','').replace('k', '000')\n",
    "    try:\n",
    "        return int(wage)\n",
    "    except:\n",
    "        return np.nan"
   ]
  },
  {
   "cell_type": "code",
   "execution_count": 7,
   "id": "d84bab1e-d9e5-42bb-8c4e-e748476b1b45",
   "metadata": {},
   "outputs": [],
   "source": [
    "d['annual_wage'] = d['annual_wage'].apply(lambda x : clean_wage(x)).astype(float)"
   ]
  },
  {
   "cell_type": "code",
   "execution_count": 8,
   "id": "bb97dac3-f20d-418d-8da5-d6d3f4e6d6d7",
   "metadata": {},
   "outputs": [],
   "source": [
    "d['currency'] = d['currency'].apply(lambda x : clean_currency(x))"
   ]
  },
  {
   "cell_type": "code",
   "execution_count": 9,
   "id": "b1216888-83eb-4330-998e-0777b5d1d885",
   "metadata": {},
   "outputs": [
    {
     "data": {
      "text/plain": [
       "Bachelor's Degree                                             36936\n",
       "Master's Degree                                               10082\n",
       "Some College credit, no degree                                 4274\n",
       "Associate Degree                                               1939\n",
       "High School Graduate, Diploma or the equivalent (e.g. GED)     1786\n",
       "Doctorate Degree                                               1205\n",
       "Trade, Technical, Vocational Training                           737\n",
       "Professional Degree                                             731\n",
       "Some High School, No Diploma                                    207\n",
       "No Schooling Completed                                          126\n",
       "Name: max_edu, dtype: int64"
      ]
     },
     "execution_count": 9,
     "metadata": {},
     "output_type": "execute_result"
    }
   ],
   "source": [
    "d['max_edu'].value_counts()"
   ]
  },
  {
   "cell_type": "code",
   "execution_count": 10,
   "id": "4551304a-65e7-48b4-a67c-7b64295b8209",
   "metadata": {},
   "outputs": [],
   "source": [
    "def clean_org(org):\n",
    "    '''\n",
    "    This will clean the organization section. It will return np.nan if the user has not provided\n",
    "    their organization, otherwise it will return the lowered organization passed\n",
    "    '''\n",
    "    \n",
    "    na_list = ['prefer not to say', 'N/a', '-', 'nan', 'anon', 'anonymous', 'Prefer not to say']\n",
    "    if str(org).lower().lstrip().rstrip() in na_list:\n",
    "        return np.nan\n",
    "    return str(org).rstrip().lstrip().lower()\n",
    "\n",
    "d['org'] = d['org'].apply(clean_org)"
   ]
  },
  {
   "cell_type": "code",
   "execution_count": null,
   "id": "00eee080-e48c-4724-8057-cd1f062e73d4",
   "metadata": {},
   "outputs": [],
   "source": []
  },
  {
   "cell_type": "code",
   "execution_count": null,
   "id": "1de9e94c-cff7-457a-8484-d5a9d9e23f0a",
   "metadata": {},
   "outputs": [],
   "source": []
  },
  {
   "cell_type": "code",
   "execution_count": null,
   "id": "2e16d6b4-1055-444e-aab0-09f1c84fd5f1",
   "metadata": {},
   "outputs": [],
   "source": []
  },
  {
   "cell_type": "code",
   "execution_count": null,
   "id": "f91899e4-4046-4332-9ccc-c665c6dcd4ae",
   "metadata": {},
   "outputs": [],
   "source": []
  },
  {
   "cell_type": "code",
   "execution_count": 62,
   "id": "661cc427-e9fc-4f97-b710-627bfd0116bb",
   "metadata": {},
   "outputs": [],
   "source": [
    "def clean_loc_city(city):\n",
    "    city_dct = {\n",
    "        'nyc' : ['new york, ny', 'nyc', 'new york', 'new york city, ny', 'new york city', 'new york, new york', 'ny', 'ny ny', 'new york new york', 'new york ny'],\n",
    "        'la' : ['los angeles, ca', 'los angeles'],\n",
    "        np.nan : ['nan', 'none', '-', 'n/a'],\n",
    "        'toronto' : ['toronto', 'toronto, ontario', 'toronto, canada', 'toronto, on', 'toronto, ca'],\n",
    "        'sf' : ['san francisco ca', 'sf', 'sf ca', 'sf, ca', 'sf, california', 'san francisco, ca', 'sf', 'san fransisco', 'san francisco']\n",
    "    }\n",
    "    city = str(city).lower().lstrip().rstrip()\n",
    "    for k,v in city_dct.items():\n",
    "        if city in v:\n",
    "            return k\n",
    "    cleaned_city = str(city).split(',')[0]\n",
    "    return cleaned_city.lower().lstrip().rstrip()\n",
    "\n",
    "d['loc_city'] = d['loc_city'].apply(clean_loc_city)"
   ]
  },
  {
   "cell_type": "code",
   "execution_count": 63,
   "id": "3550d057-d03c-4bc2-b08c-bd80064bf77c",
   "metadata": {},
   "outputs": [
    {
     "data": {
      "text/plain": [
       "'nyc'"
      ]
     },
     "execution_count": 63,
     "metadata": {},
     "output_type": "execute_result"
    }
   ],
   "source": [
    "clean_loc_city('new york ny')"
   ]
  },
  {
   "cell_type": "code",
   "execution_count": 64,
   "id": "88f6f8e5-9472-4eb1-91ed-db9e1c15505b",
   "metadata": {},
   "outputs": [
    {
     "data": {
      "text/plain": [
       "(6347, 21)"
      ]
     },
     "execution_count": 64,
     "metadata": {},
     "output_type": "execute_result"
    }
   ],
   "source": [
    "d[(d['country'] == 'usa') & (d['loc_city'] == 'nyc')].shape"
   ]
  },
  {
   "cell_type": "code",
   "execution_count": 61,
   "id": "964f6313-8c6f-4557-baad-b4aa828965b2",
   "metadata": {},
   "outputs": [
    {
     "data": {
      "text/plain": [
       "85000.0"
      ]
     },
     "execution_count": 61,
     "metadata": {},
     "output_type": "execute_result"
    }
   ],
   "source": [
    "d[(d['country'] == 'usa') & (d['loc_city'] == 'nyc')].annual_wage.median()"
   ]
  },
  {
   "cell_type": "code",
   "execution_count": 60,
   "id": "f3a6f176-fd53-4cca-b15c-fda951f99537",
   "metadata": {},
   "outputs": [
    {
     "data": {
      "text/html": [
       "<div>\n",
       "<style scoped>\n",
       "    .dataframe tbody tr th:only-of-type {\n",
       "        vertical-align: middle;\n",
       "    }\n",
       "\n",
       "    .dataframe tbody tr th {\n",
       "        vertical-align: top;\n",
       "    }\n",
       "\n",
       "    .dataframe thead th {\n",
       "        text-align: right;\n",
       "    }\n",
       "</style>\n",
       "<table border=\"1\" class=\"dataframe\">\n",
       "  <thead>\n",
       "    <tr style=\"text-align: right;\">\n",
       "      <th></th>\n",
       "      <th>timestamp</th>\n",
       "      <th>age_range</th>\n",
       "      <th>yoe</th>\n",
       "      <th>Industry</th>\n",
       "      <th>job_title</th>\n",
       "      <th>org</th>\n",
       "      <th>max_edu</th>\n",
       "      <th>loc_city</th>\n",
       "      <th>country</th>\n",
       "      <th>annual_wage</th>\n",
       "      <th>...</th>\n",
       "      <th>avg_rsu</th>\n",
       "      <th>signing_bonus</th>\n",
       "      <th>currency</th>\n",
       "      <th>vacation_days_yearly</th>\n",
       "      <th>sick_days_yearly</th>\n",
       "      <th>days_per_week_in_office</th>\n",
       "      <th>open_wage_discussions</th>\n",
       "      <th>maternity_leave_months</th>\n",
       "      <th>gender</th>\n",
       "      <th>ethnicity</th>\n",
       "    </tr>\n",
       "  </thead>\n",
       "  <tbody>\n",
       "  </tbody>\n",
       "</table>\n",
       "<p>0 rows × 21 columns</p>\n",
       "</div>"
      ],
      "text/plain": [
       "Empty DataFrame\n",
       "Columns: [timestamp, age_range, yoe, Industry, job_title, org, max_edu, loc_city, country, annual_wage, bonus, avg_rsu, signing_bonus, currency, vacation_days_yearly, sick_days_yearly, days_per_week_in_office, open_wage_discussions, maternity_leave_months, gender, ethnicity]\n",
       "Index: []\n",
       "\n",
       "[0 rows x 21 columns]"
      ]
     },
     "execution_count": 60,
     "metadata": {},
     "output_type": "execute_result"
    }
   ],
   "source": [
    "d[(d['country'] == 'usa') & (d['loc_city'] == 'new york ny')]"
   ]
  },
  {
   "cell_type": "code",
   "execution_count": null,
   "id": "6eb8c1c9-6b15-48d6-8641-d781f7ed8def",
   "metadata": {},
   "outputs": [],
   "source": []
  },
  {
   "cell_type": "code",
   "execution_count": null,
   "id": "d68aa254-7ee9-4ce1-bbce-4bc34f9b7440",
   "metadata": {},
   "outputs": [],
   "source": []
  },
  {
   "cell_type": "code",
   "execution_count": null,
   "id": "24c4fffd-2ba5-4a83-a7c3-53bb9f090420",
   "metadata": {},
   "outputs": [],
   "source": []
  },
  {
   "cell_type": "code",
   "execution_count": null,
   "id": "5e30c53e-e268-47e8-abc2-49719d813e18",
   "metadata": {},
   "outputs": [],
   "source": []
  },
  {
   "cell_type": "code",
   "execution_count": null,
   "id": "ef8b8203-5e6d-41a4-8598-0906c2825732",
   "metadata": {},
   "outputs": [],
   "source": []
  },
  {
   "cell_type": "code",
   "execution_count": 12,
   "id": "d9b7e899-8402-4457-844b-8a10c66f6af9",
   "metadata": {},
   "outputs": [],
   "source": [
    "def clean_country(country):\n",
    "    country_dct = {\n",
    "        'usa' : [\n",
    "            'united stayes', 'united statea', 'united stares', 'united states', 'unites states', 'united state', \n",
    "            'california', 'new york', 'us', 'ny', 'united statws',  'usa', 'united states', 'united states of america',\n",
    "            'america', 'u.s.a.', 'u.s.a', 'u.s', 'u.s.', 'ny', 'united stated', 'los angeles', 'untied states',\n",
    "            'united statss', 'united sates', 'la', 'sacramento', 'ysa'\n",
    "        ],\n",
    "        'canada' : ['canada', 'ca', 'can'],\n",
    "        'united kingdom' : ['united kingdom', 'uk', ''],\n",
    "        np.nan : ['nan', 'n/a', 'none', '-']\n",
    "    }\n",
    "    country = str(country).lower().lstrip().rstrip()\n",
    "    for k,v in country_dct.items():\n",
    "        if country in v:\n",
    "            return k\n",
    "    return country\n",
    "d['country'] = d['country'].apply(clean_country)"
   ]
  },
  {
   "cell_type": "code",
   "execution_count": 13,
   "id": "21d0f5a5-baa9-4a9a-a1c7-8c9c7eb0d08e",
   "metadata": {},
   "outputs": [],
   "source": [
    "def clean_job(job):\n",
    "    job_dct = {\n",
    "        'swe' : ['swe', 'software engineer', ''],\n",
    "        'nurse' : ['rn', 'registered nurse', 'nurse'],\n",
    "        'data scientist' : ['data science', 'data scientist'],\n",
    "        np.nan : ['nan', '-', 'none']\n",
    "    }\n",
    "    job = str(job).lstrip().rstrip().lower()\n",
    "    for k,v in job_dct.items():\n",
    "        if job in v:\n",
    "            return k\n",
    "    return job\n",
    "d['job_title'] = d['job_title'].apply(clean_job)"
   ]
  },
  {
   "cell_type": "code",
   "execution_count": 14,
   "id": "1beba804-e970-4da0-b50f-272cf314fab6",
   "metadata": {},
   "outputs": [],
   "source": [
    "def clean_gender(gender):\n",
    "    gender_dct = {\n",
    "        'female' : ['female'],\n",
    "        'male' : ['male'],\n",
    "        np.nan : ['prefer not to say', 'n/a', '-', \"you shouldn't have included this free text field eh?\"],\n",
    "        'non-binary' : ['non-binary', 'non binary', 'nb', 'nonbinary'],\n",
    "        'trans' : ['trans', 'transgender fem', 'genderqueer, transmasculine', 'trans female', 'trans man', 'trans male']\n",
    "    }\n",
    "    gender = str(gender).lower().lstrip().rstrip()\n",
    "    for k,v in gender_dct.items():\n",
    "        if gender in v:\n",
    "            return k\n",
    "        if 'binary' in gender:\n",
    "            return 'non-binary'\n",
    "    return 'other'\n",
    "d['gender'] = d['gender'].apply(clean_gender)"
   ]
  },
  {
   "cell_type": "code",
   "execution_count": 15,
   "id": "89fa8fd9-6094-4d27-8f17-2788c3472bff",
   "metadata": {},
   "outputs": [],
   "source": [
    "def clean_yoe(yoe):\n",
    "    yoe = str(yoe).lstrip().rstrip()\n",
    "    if yoe == 'nan':\n",
    "        return np.nan\n",
    "    elif yoe == '20+':\n",
    "        return '20+'\n",
    "    else:\n",
    "        try:\n",
    "            return int(yoe)\n",
    "        except:\n",
    "            return yoe\n",
    "d['yoe'] = d['yoe'].apply(clean_yoe)"
   ]
  },
  {
   "cell_type": "code",
   "execution_count": 16,
   "id": "d977e209-135b-4dbe-a091-00167773dbbb",
   "metadata": {},
   "outputs": [],
   "source": [
    "d['signing_bonus'] = d['signing_bonus'].apply(clean_wage)\n",
    "d['bonus'] = d['bonus'].apply(clean_wage)"
   ]
  },
  {
   "cell_type": "code",
   "execution_count": 17,
   "id": "1ebb48b1-4d3f-4c4f-a4c3-288960684ed8",
   "metadata": {},
   "outputs": [],
   "source": [
    "def clean_sick_days(days):\n",
    "    sick_dct = {\n",
    "        'unlim' : ['as many as i want', 'as many as i need', 'infinite', 'unlimited', '🚩unlimited', 'no limit', 'pto', 'unlimited (kind of)', 'unlimited pto', '\"unlimited\"'],\n",
    "        np.nan : ['none', 'nan', 'n/a', '-', '?', 'na', 'idk', 'not sure', 'unsure'],\n",
    "        10 : ['2 weeks', '10 days', '14 days'],\n",
    "        5 : ['1 week', '5 days', '7 days', '40 hours'],\n",
    "        15 : ['3 weeks', '15 days', '21 days'],\n",
    "        20 : ['4 weeks', '20 days'],\n",
    "        25 : ['5 weeks', '25 days'],\n",
    "        30 : ['30 days', '6 weeks']\n",
    "    }\n",
    "    days = str(days).lower().lstrip().rstrip().replace('\"', '').replace('\"', '')\n",
    "    for k,v in sick_dct.items():\n",
    "        if days in v:\n",
    "            return k\n",
    "    try:\n",
    "        return int(days)\n",
    "    except:\n",
    "        return days\n",
    "    \n",
    "d['sick_days_yearly'] = d['sick_days_yearly'].apply(clean_sick_days)\n",
    "d['vacation_days_yearly'] = d['vacation_days_yearly'].apply(clean_sick_days)"
   ]
  },
  {
   "cell_type": "code",
   "execution_count": 18,
   "id": "6450ce30-0b7c-40fb-b93f-3fecc3414eec",
   "metadata": {},
   "outputs": [],
   "source": [
    "def clean_open_discussions(disc):\n",
    "    disc_dct = {\n",
    "        'yes' : ['yes', 'ya', 'yeah'],\n",
    "        'no'  : ['no', 'nope', 'never']\n",
    "    }\n",
    "    \n",
    "    disc = str(disc).lower().lstrip().rstrip()\n",
    "    for k,v in disc_dct.items():\n",
    "        for val in v:\n",
    "            if val in disc:\n",
    "                return k\n",
    "    return 'other'\n",
    "d['open_wage_discussions'] = d['open_wage_discussions'].apply(clean_open_discussions)"
   ]
  },
  {
   "cell_type": "code",
   "execution_count": 19,
   "id": "a6429916-2529-438f-a7c3-e1775c323279",
   "metadata": {},
   "outputs": [],
   "source": [
    "def clean_ethnicity(eth):\n",
    "    eth_dct = {\n",
    "        'caucasian' : ['white', 'caucasian', 'white female', 'white male'],\n",
    "        'african american' : ['black', 'african', 'black american', 'black/african american', 'african american', 'black woman', 'african-american', 'black male', 'black man', 'black female'],\n",
    "        'hispanic' : ['hispanic', 'latina', 'latino', 'latinx', 'mexican-american', 'latino/hispanic',  'mexican', 'mexico', 'mexican american', 'latin'],\n",
    "        'asian' : ['asian', 'asian american', 'south asian', 'asian-american', 'korean', 'indian american', 'vietnamese', 'east asian', 'asian indian', 'asian woman', 'filipino', 'filipina', 'indian', 'chinese'],\n",
    "        'middle eastern' : ['middle eastern', 'arab', 'pakistani'],\n",
    "        'native' : ['native american', 'native', 'indigenous']\n",
    "    }\n",
    "    eth = str(eth).lower().lstrip().rstrip()\n",
    "    \n",
    "    for k,v in eth_dct.items():\n",
    "        if eth in v:\n",
    "            return k\n",
    "    return 'unknown'\n",
    "\n",
    "d['ethnicity'] = d['ethnicity'].apply(clean_ethnicity)"
   ]
  },
  {
   "cell_type": "code",
   "execution_count": 20,
   "id": "4dfcb132-a074-41a3-98c5-0bd91001ca78",
   "metadata": {},
   "outputs": [],
   "source": [
    "d['avg_rsu'] = d['avg_rsu'].apply(clean_wage)"
   ]
  },
  {
   "cell_type": "code",
   "execution_count": 21,
   "id": "dcac0a1d-cd2a-4d73-b73c-96d5609138bd",
   "metadata": {},
   "outputs": [],
   "source": [
    "def clean_mat_leave(mat):\n",
    "    mat_dct = {\n",
    "        np.nan : ['none', 'not sure', 'unsure','no', 'no idea', '?', 'idk', 'unknown', 'n/a', '-', \"don't know\", '0'],\n",
    "        0.5 : ['2 weeks'],\n",
    "        1 : ['1', '1 month'],\n",
    "        1.5 : ['6 weeks', '1.5'],\n",
    "        2 : ['2', '2 months', '8 weeks'],\n",
    "        3 : ['3', '3 months', '12 weeks'],\n",
    "        4 : ['4', '4 months', '16 weeks'],\n",
    "        5 : ['5', '5 months', '20 weeks'],\n",
    "        6 : ['6', '6 months', '24 weeks'],\n",
    "        float('inf') : ['unlimited']\n",
    "    }\n",
    "    mat = str(mat).lower().lstrip().rstrip()\n",
    "    for k,v in mat_dct.items():\n",
    "        if mat in v:\n",
    "            return k\n",
    "    return 'unknown'\n",
    "\n",
    "d['maternity_leave_months'] = d['maternity_leave_months'].apply(clean_mat_leave)"
   ]
  },
  {
   "cell_type": "code",
   "execution_count": 22,
   "id": "1d4d2570-2ec8-471c-865b-3ea916b95735",
   "metadata": {},
   "outputs": [],
   "source": [
    "def clean_industry(ind):\n",
    "    ind_dct = {\n",
    "        'tech' : ['tech'],\n",
    "        'finance' : ['fin tech', 'finance', 'fintech', 'financial services'],\n",
    "        'heath care' : ['healthcare', 'health care', 'HospTechalTechy', 'healthcare tech'],\n",
    "        'non profit' : ['nonproftech', 'non proftech', 'non profit']\n",
    "    }\n",
    "    ind = str(ind).lower().lstrip().rstrip()\n",
    "    for k,v in ind_dct.items():\n",
    "        if ind in v:\n",
    "            return k\n",
    "    return ind\n",
    "\n",
    "d['Industry'] = d['Industry'].apply(clean_industry)"
   ]
  },
  {
   "cell_type": "markdown",
   "id": "f0d7980d-b6f7-4e7b-9256-b412d9c5f938",
   "metadata": {},
   "source": [
    "## Analysis / Visualization"
   ]
  },
  {
   "cell_type": "markdown",
   "id": "61725d07-eb59-4ae4-8713-3a9b21f81dc4",
   "metadata": {},
   "source": [
    "Now since the data is cleaned up, we can move forward to the analysis component. Below I've outlined a series of questions which I want to answer with the available data.  \n",
    "- convert wages, signing bonus, rsu to usd via currency  \n",
    "- which industries have the highest median salary -- done\n",
    "- which profession has the highest median salary -- done\n",
    "- median wages per ethnic groups  -- done\n",
    "- median wages per gender  -- done\n",
    "- What is the median income per years of experience  -- done\n",
    "- what is the median income per age group  -- done\n",
    "- which locations pay better for same positions  \n",
    "- which organizations pay the most -- done  \n",
    "- how much does level of education translate to income   -- done"
   ]
  },
  {
   "cell_type": "code",
   "execution_count": 40,
   "id": "1a3982d1-c82d-417e-a24d-032af13bae45",
   "metadata": {},
   "outputs": [],
   "source": [
    "us_df = d[d['currency'] == 'usd'].copy()"
   ]
  },
  {
   "cell_type": "code",
   "execution_count": 24,
   "id": "f8d6d331-e70b-4078-9e79-da4a97fdfe14",
   "metadata": {},
   "outputs": [],
   "source": [
    "def visualize_group(d, remove_vals, group_col, agg_col, title, th, n):\n",
    "    '''\n",
    "    Given a dataframe d, this function will filter the values and visualize the results\n",
    "    based on the group and aggregate columns.\n",
    "    \n",
    "    params:\n",
    "        d (DataFrame) : The dataframe with the data you're visualizing\n",
    "        remove_vals (List) : The list of values you want to filter out of the input df\n",
    "        group_col (String) : The column you want to group\n",
    "        agg_col (String) : The column you want to aggregate the result of\n",
    "        title (String) : The title of the plot\n",
    "        th (Integer) : The threshold of values each group must have\n",
    "        n (Integer) : The number of results you want to filter\n",
    "        \n",
    "    example:\n",
    "        visualize_group(\n",
    "            d = us_df,\n",
    "            remove_vals = None, \n",
    "            group_col = 'job_title',\n",
    "            agg_col = 'annual_wage',\n",
    "            title = 'Top 15 Professions by Median Annual Wage',\n",
    "            th = 3,\n",
    "            n = 15\n",
    "        )\n",
    "    '''\n",
    "    if remove_vals:\n",
    "        d = d[~d[agg_col].isin(remove_vals)]\n",
    "    \n",
    "    df = d.groupby([group_col])[agg_col].agg(['count', 'mean', 'median']).reset_index().rename(columns = {\n",
    "        'count' : group_col + '_count', 'mean' : 'avg_' + agg_col, 'median' : 'median_' + agg_col\n",
    "    }).copy()\n",
    "    \n",
    "    df = df[df[group_col + '_count'] > th].sort_values(by = 'median_' + agg_col, ascending = False).copy()\n",
    "    if n:\n",
    "        df = df.head(n)\n",
    "        \n",
    "    plt.clf()\n",
    "    plt.barh(y = df[group_col].values, width = df['median_' + agg_col])\n",
    "    plt.ylabel(group_col)\n",
    "    plt.xlabel(\"median_\" + agg_col)\n",
    "    plt.title(title)\n",
    "    plt.show()"
   ]
  },
  {
   "cell_type": "markdown",
   "id": "e0a53630-0b2f-46b0-8913-e5413710006d",
   "metadata": {},
   "source": [
    "## Jobs with the Highest Median Salary"
   ]
  },
  {
   "cell_type": "code",
   "execution_count": 25,
   "id": "3cc3ab84-8404-47ab-bcfd-3289cdf32b99",
   "metadata": {},
   "outputs": [
    {
     "data": {
      "image/png": "[encoded data removed]",
      "text/plain": [
       "<Figure size 432x288 with 1 Axes>"
      ]
     },
     "metadata": {},
     "output_type": "display_data"
    }
   ],
   "source": [
    "visualize_group(\n",
    "    d = us_df,\n",
    "    remove_vals = None, \n",
    "    group_col = 'job_title',\n",
    "    agg_col = 'annual_wage',\n",
    "    title = 'Top 15 Professions by Median Annual Wage',\n",
    "    th = 5,\n",
    "    n = 15\n",
    ")"
   ]
  },
  {
   "cell_type": "markdown",
   "id": "e1eeac6b-33ce-4448-890d-3f6869b0394b",
   "metadata": {},
   "source": [
    "## Industries with the Highest Median Salary"
   ]
  },
  {
   "cell_type": "code",
   "execution_count": 26,
   "id": "82deba0c-f973-4ce5-9984-0c1314bea723",
   "metadata": {},
   "outputs": [
    {
     "data": {
      "image/png": "[encoded data removed]",
      "text/plain": [
       "<Figure size 432x288 with 1 Axes>"
      ]
     },
     "metadata": {},
     "output_type": "display_data"
    }
   ],
   "source": [
    "visualize_group(\n",
    "    d = us_df,\n",
    "    remove_vals = None, \n",
    "    group_col = 'Industry',\n",
    "    agg_col = 'annual_wage',\n",
    "    title = 'Top 15 Industries by Median Annual Wage',\n",
    "    th = 5,\n",
    "    n = 15\n",
    ")"
   ]
  },
  {
   "cell_type": "markdown",
   "id": "001d99b9-1de9-4ad6-a851-edc24bc04446",
   "metadata": {},
   "source": [
    "## Average Income per YoE"
   ]
  },
  {
   "cell_type": "code",
   "execution_count": 36,
   "id": "24d0926c-eb16-46f7-ad9a-57a29034c607",
   "metadata": {},
   "outputs": [],
   "source": [
    "yoe_df = d.copy()\n",
    "yoe_df['yoe'] = yoe_df['yoe'].apply(lambda x : [20 if x == '20+' else x][0]).astype(float)"
   ]
  },
  {
   "cell_type": "code",
   "execution_count": 91,
   "id": "ef3d833b-3d69-46fd-80ca-fff96e53a0fb",
   "metadata": {},
   "outputs": [],
   "source": [
    "# visualize_group(\n",
    "#     d = yoe_df,\n",
    "#     remove_vals = None, \n",
    "#     group_col = 'yoe',\n",
    "#     agg_col = 'annual_wage',\n",
    "#     title = 'Median YoE per Year of Experience',\n",
    "#     th = 5,\n",
    "#     n = 20\n",
    "# )"
   ]
  },
  {
   "cell_type": "markdown",
   "id": "1d9839be-a92d-4f2f-ad47-561cb8b5ec0e",
   "metadata": {},
   "source": [
    "## Median Wages per Gender"
   ]
  },
  {
   "cell_type": "code",
   "execution_count": 28,
   "id": "e22d7e61-461a-4c24-b4c5-bee5d9ab3459",
   "metadata": {},
   "outputs": [
    {
     "data": {
      "image/png": "[encoded data removed]",
      "text/plain": [
       "<Figure size 432x288 with 1 Axes>"
      ]
     },
     "metadata": {},
     "output_type": "display_data"
    }
   ],
   "source": [
    "visualize_group(\n",
    "    d = yoe_df,\n",
    "    remove_vals = None, \n",
    "    group_col = 'gender',\n",
    "    agg_col = 'annual_wage',\n",
    "    title = 'Median Wage per Gender',\n",
    "    th = 5,\n",
    "    n = 20\n",
    ")"
   ]
  },
  {
   "cell_type": "markdown",
   "id": "062816d4-cbde-4a81-b033-ca7e8fc8647c",
   "metadata": {},
   "source": [
    "## Median Wages per Ethnic Group  "
   ]
  },
  {
   "cell_type": "code",
   "execution_count": 29,
   "id": "0b00232c-2b52-4e92-b50b-f9ad58cab134",
   "metadata": {},
   "outputs": [
    {
     "data": {
      "image/png": "[encoded data removed]",
      "text/plain": [
       "<Figure size 432x288 with 1 Axes>"
      ]
     },
     "metadata": {},
     "output_type": "display_data"
    }
   ],
   "source": [
    "visualize_group(\n",
    "    d = yoe_df,\n",
    "    remove_vals = None, \n",
    "    group_col = 'ethnicity',\n",
    "    agg_col = 'annual_wage',\n",
    "    title = 'Median Wage per Ethnicity',\n",
    "    th = 5,\n",
    "    n = 20\n",
    ")"
   ]
  },
  {
   "cell_type": "markdown",
   "id": "df5b5c5b-9c98-4d87-af87-26af2ef64b12",
   "metadata": {},
   "source": [
    "## Median Wages per Age Group"
   ]
  },
  {
   "cell_type": "code",
   "execution_count": 30,
   "id": "e076d45f-1728-4e4b-ae2c-dee19369e9df",
   "metadata": {},
   "outputs": [
    {
     "data": {
      "image/png": "[encoded data removed]",
      "text/plain": [
       "<Figure size 432x288 with 1 Axes>"
      ]
     },
     "metadata": {},
     "output_type": "display_data"
    }
   ],
   "source": [
    "visualize_group(\n",
    "    d = us_df,\n",
    "    remove_vals = None, \n",
    "    group_col = 'age_range',\n",
    "    agg_col = 'annual_wage',\n",
    "    title = 'Median Income per Age Group',\n",
    "    th = 5,\n",
    "    n = None\n",
    ")"
   ]
  },
  {
   "cell_type": "markdown",
   "id": "361c4622-6c40-4087-aec7-eeab92f82288",
   "metadata": {},
   "source": [
    "## Highest Paying Organizations"
   ]
  },
  {
   "cell_type": "code",
   "execution_count": 31,
   "id": "747c5d4e-1de4-4134-8d41-d503ead26038",
   "metadata": {},
   "outputs": [
    {
     "data": {
      "image/png": "[encoded data removed]",
      "text/plain": [
       "<Figure size 432x288 with 1 Axes>"
      ]
     },
     "metadata": {},
     "output_type": "display_data"
    }
   ],
   "source": [
    "visualize_group(\n",
    "    d = us_df,\n",
    "    remove_vals = None, \n",
    "    group_col = 'org',\n",
    "    agg_col = 'annual_wage',\n",
    "    title = 'Highest Paying Organizations',\n",
    "    th = 5,\n",
    "    n = 20\n",
    ")"
   ]
  },
  {
   "cell_type": "markdown",
   "id": "530c0177-a5f9-4d80-a576-bb9401c888b7",
   "metadata": {},
   "source": [
    "## Median Wages per Maximum Education Level"
   ]
  },
  {
   "cell_type": "code",
   "execution_count": 32,
   "id": "eac1c017-c2fe-4c24-ab44-0b2039ebe5e0",
   "metadata": {},
   "outputs": [
    {
     "data": {
      "image/png": "[encoded data removed]",
      "text/plain": [
       "<Figure size 432x288 with 1 Axes>"
      ]
     },
     "metadata": {},
     "output_type": "display_data"
    }
   ],
   "source": [
    "visualize_group(\n",
    "    d = us_df,\n",
    "    remove_vals = None, \n",
    "    group_col = 'max_edu',\n",
    "    agg_col = 'annual_wage',\n",
    "    title = 'Median Wages per Maximum Education Level',\n",
    "    th = 5,\n",
    "    n = None\n",
    ")"
   ]
  },
  {
   "cell_type": "markdown",
   "id": "83522105-6625-4b7a-8b88-2d807bd2f2f6",
   "metadata": {},
   "source": [
    "## Highest Paying Locations"
   ]
  },
  {
   "cell_type": "code",
   "execution_count": 65,
   "id": "8e3dc69a-351a-46a2-b695-3912c5253895",
   "metadata": {},
   "outputs": [
    {
     "data": {
      "image/png": "[encoded data removed]",
      "text/plain": [
       "<Figure size 432x288 with 1 Axes>"
      ]
     },
     "metadata": {},
     "output_type": "display_data"
    }
   ],
   "source": [
    "visualize_group(\n",
    "    d = d[d['country'] == 'usa'],\n",
    "    remove_vals = None, \n",
    "    group_col = 'loc_city',\n",
    "    agg_col = 'annual_wage',\n",
    "    title = 'Highest Paying Locations',\n",
    "    th = 5,\n",
    "    n = 20\n",
    ")"
   ]
  },
  {
   "cell_type": "code",
   "execution_count": 71,
   "id": "c5a58085-3e1f-44ce-874d-d2f6554cce8f",
   "metadata": {},
   "outputs": [],
   "source": [
    "res = d['loc_city'].apply(lambda x : [x if x in ['new', 'ny'] else np.nan][0])"
   ]
  },
  {
   "cell_type": "code",
   "execution_count": 74,
   "id": "b33b1c22-58c8-493b-ae4a-32842af8d461",
   "metadata": {},
   "outputs": [
    {
     "data": {
      "text/html": [
       "<div>\n",
       "<style scoped>\n",
       "    .dataframe tbody tr th:only-of-type {\n",
       "        vertical-align: middle;\n",
       "    }\n",
       "\n",
       "    .dataframe tbody tr th {\n",
       "        vertical-align: top;\n",
       "    }\n",
       "\n",
       "    .dataframe thead th {\n",
       "        text-align: right;\n",
       "    }\n",
       "</style>\n",
       "<table border=\"1\" class=\"dataframe\">\n",
       "  <thead>\n",
       "    <tr style=\"text-align: right;\">\n",
       "      <th></th>\n",
       "      <th>timestamp</th>\n",
       "      <th>age_range</th>\n",
       "      <th>yoe</th>\n",
       "      <th>Industry</th>\n",
       "      <th>job_title</th>\n",
       "      <th>org</th>\n",
       "      <th>max_edu</th>\n",
       "      <th>loc_city</th>\n",
       "      <th>country</th>\n",
       "      <th>annual_wage</th>\n",
       "      <th>...</th>\n",
       "      <th>avg_rsu</th>\n",
       "      <th>signing_bonus</th>\n",
       "      <th>currency</th>\n",
       "      <th>vacation_days_yearly</th>\n",
       "      <th>sick_days_yearly</th>\n",
       "      <th>days_per_week_in_office</th>\n",
       "      <th>open_wage_discussions</th>\n",
       "      <th>maternity_leave_months</th>\n",
       "      <th>gender</th>\n",
       "      <th>ethnicity</th>\n",
       "    </tr>\n",
       "  </thead>\n",
       "  <tbody>\n",
       "    <tr>\n",
       "      <th>4345</th>\n",
       "      <td>12/7/2021 4:13:36</td>\n",
       "      <td>26-29</td>\n",
       "      <td>2</td>\n",
       "      <td>tech engineering</td>\n",
       "      <td>swe</td>\n",
       "      <td>apple</td>\n",
       "      <td>Some College credit, no degree</td>\n",
       "      <td>cupertino</td>\n",
       "      <td>usa</td>\n",
       "      <td>130000.0</td>\n",
       "      <td>...</td>\n",
       "      <td>50000.0</td>\n",
       "      <td>13000.0</td>\n",
       "      <td>usd</td>\n",
       "      <td>NaN</td>\n",
       "      <td>NaN</td>\n",
       "      <td>3</td>\n",
       "      <td>other</td>\n",
       "      <td>unknown</td>\n",
       "      <td>female</td>\n",
       "      <td>unknown</td>\n",
       "    </tr>\n",
       "    <tr>\n",
       "      <th>7269</th>\n",
       "      <td>12/7/2021 9:57:49</td>\n",
       "      <td>26-29</td>\n",
       "      <td>4</td>\n",
       "      <td>tech</td>\n",
       "      <td>product development coordinator</td>\n",
       "      <td>apple</td>\n",
       "      <td>Bachelor's Degree</td>\n",
       "      <td>cupertino</td>\n",
       "      <td>usa</td>\n",
       "      <td>86500.0</td>\n",
       "      <td>...</td>\n",
       "      <td>3000.0</td>\n",
       "      <td>NaN</td>\n",
       "      <td>usd</td>\n",
       "      <td>14</td>\n",
       "      <td>14</td>\n",
       "      <td>None, I work fully remote</td>\n",
       "      <td>no</td>\n",
       "      <td>unknown</td>\n",
       "      <td>female</td>\n",
       "      <td>unknown</td>\n",
       "    </tr>\n",
       "    <tr>\n",
       "      <th>17859</th>\n",
       "      <td>12/7/2021 19:20:16</td>\n",
       "      <td>34-37</td>\n",
       "      <td>7</td>\n",
       "      <td>tech</td>\n",
       "      <td>software qa engineer</td>\n",
       "      <td>apple</td>\n",
       "      <td>Bachelor's Degree</td>\n",
       "      <td>cupertino</td>\n",
       "      <td>usa</td>\n",
       "      <td>122700.0</td>\n",
       "      <td>...</td>\n",
       "      <td>1660.0</td>\n",
       "      <td>NaN</td>\n",
       "      <td>usd</td>\n",
       "      <td>19 days</td>\n",
       "      <td>12</td>\n",
       "      <td>3</td>\n",
       "      <td>no</td>\n",
       "      <td>unknown</td>\n",
       "      <td>female</td>\n",
       "      <td>unknown</td>\n",
       "    </tr>\n",
       "    <tr>\n",
       "      <th>23553</th>\n",
       "      <td>12/7/2021 22:26:27</td>\n",
       "      <td>34-37</td>\n",
       "      <td>11</td>\n",
       "      <td>tech</td>\n",
       "      <td>swe</td>\n",
       "      <td>apple</td>\n",
       "      <td>Master's Degree</td>\n",
       "      <td>cupertino</td>\n",
       "      <td>usa</td>\n",
       "      <td>191000.0</td>\n",
       "      <td>...</td>\n",
       "      <td>110000.0</td>\n",
       "      <td>NaN</td>\n",
       "      <td>usd</td>\n",
       "      <td>20</td>\n",
       "      <td>NaN</td>\n",
       "      <td>3</td>\n",
       "      <td>other</td>\n",
       "      <td>3</td>\n",
       "      <td>female</td>\n",
       "      <td>unknown</td>\n",
       "    </tr>\n",
       "    <tr>\n",
       "      <th>31978</th>\n",
       "      <td>12/8/2021 2:27:44</td>\n",
       "      <td>22-25</td>\n",
       "      <td>1</td>\n",
       "      <td>tech</td>\n",
       "      <td>quality engineer</td>\n",
       "      <td>apple</td>\n",
       "      <td>Bachelor's Degree</td>\n",
       "      <td>cupertino</td>\n",
       "      <td>usa</td>\n",
       "      <td>120000.0</td>\n",
       "      <td>...</td>\n",
       "      <td>12000.0</td>\n",
       "      <td>20000.0</td>\n",
       "      <td>usd</td>\n",
       "      <td>NaN</td>\n",
       "      <td>NaN</td>\n",
       "      <td>NaN</td>\n",
       "      <td>yes</td>\n",
       "      <td>unknown</td>\n",
       "      <td>male</td>\n",
       "      <td>unknown</td>\n",
       "    </tr>\n",
       "    <tr>\n",
       "      <th>32575</th>\n",
       "      <td>12/8/2021 3:21:52</td>\n",
       "      <td>26-29</td>\n",
       "      <td>3</td>\n",
       "      <td>tech</td>\n",
       "      <td>research scientist/engineer</td>\n",
       "      <td>apple</td>\n",
       "      <td>Bachelor's Degree</td>\n",
       "      <td>cupertino</td>\n",
       "      <td>usa</td>\n",
       "      <td>137000.0</td>\n",
       "      <td>...</td>\n",
       "      <td>40000.0</td>\n",
       "      <td>5000.0</td>\n",
       "      <td>usd</td>\n",
       "      <td>15</td>\n",
       "      <td>15</td>\n",
       "      <td>None, I work fully remote</td>\n",
       "      <td>yes</td>\n",
       "      <td>unknown</td>\n",
       "      <td>female</td>\n",
       "      <td>unknown</td>\n",
       "    </tr>\n",
       "    <tr>\n",
       "      <th>35929</th>\n",
       "      <td>12/8/2021 10:01:12</td>\n",
       "      <td>22-25</td>\n",
       "      <td>1</td>\n",
       "      <td>e-commerce</td>\n",
       "      <td>fraud associate</td>\n",
       "      <td>poshmark</td>\n",
       "      <td>Bachelor's Degree</td>\n",
       "      <td>cupertino</td>\n",
       "      <td>usa</td>\n",
       "      <td>62000.0</td>\n",
       "      <td>...</td>\n",
       "      <td>2500.0</td>\n",
       "      <td>NaN</td>\n",
       "      <td>usd</td>\n",
       "      <td>15</td>\n",
       "      <td>5</td>\n",
       "      <td>None, I work fully remote</td>\n",
       "      <td>no</td>\n",
       "      <td>1</td>\n",
       "      <td>male</td>\n",
       "      <td>unknown</td>\n",
       "    </tr>\n",
       "    <tr>\n",
       "      <th>43223</th>\n",
       "      <td>12/9/2021 12:56:02</td>\n",
       "      <td>22-25</td>\n",
       "      <td>1</td>\n",
       "      <td>consumer electronics</td>\n",
       "      <td>product design engineer intern</td>\n",
       "      <td>apple</td>\n",
       "      <td>Bachelor's Degree</td>\n",
       "      <td>cupertino</td>\n",
       "      <td>usa</td>\n",
       "      <td>129000.0</td>\n",
       "      <td>...</td>\n",
       "      <td>NaN</td>\n",
       "      <td>NaN</td>\n",
       "      <td>usd</td>\n",
       "      <td>NaN</td>\n",
       "      <td>NaN</td>\n",
       "      <td>None, I work fully remote</td>\n",
       "      <td>no</td>\n",
       "      <td>unknown</td>\n",
       "      <td>male</td>\n",
       "      <td>unknown</td>\n",
       "    </tr>\n",
       "    <tr>\n",
       "      <th>44324</th>\n",
       "      <td>12/9/2021 16:13:37</td>\n",
       "      <td>34-37</td>\n",
       "      <td>10</td>\n",
       "      <td>corporate law</td>\n",
       "      <td>senior legal advisor</td>\n",
       "      <td>apple</td>\n",
       "      <td>Master's Degree</td>\n",
       "      <td>cupertino</td>\n",
       "      <td>usa</td>\n",
       "      <td>307000.0</td>\n",
       "      <td>...</td>\n",
       "      <td>22.0</td>\n",
       "      <td>NaN</td>\n",
       "      <td>usd</td>\n",
       "      <td>20</td>\n",
       "      <td>10</td>\n",
       "      <td>5</td>\n",
       "      <td>no</td>\n",
       "      <td>4</td>\n",
       "      <td>male</td>\n",
       "      <td>unknown</td>\n",
       "    </tr>\n",
       "    <tr>\n",
       "      <th>44673</th>\n",
       "      <td>12/9/2021 17:03:16</td>\n",
       "      <td>18-21</td>\n",
       "      <td>1</td>\n",
       "      <td>tech</td>\n",
       "      <td>software engineer intern</td>\n",
       "      <td>amazon</td>\n",
       "      <td>Some College credit, no degree</td>\n",
       "      <td>cupertino</td>\n",
       "      <td>usa</td>\n",
       "      <td>140000.0</td>\n",
       "      <td>...</td>\n",
       "      <td>NaN</td>\n",
       "      <td>NaN</td>\n",
       "      <td>usd</td>\n",
       "      <td>NaN</td>\n",
       "      <td>NaN</td>\n",
       "      <td>NaN</td>\n",
       "      <td>no</td>\n",
       "      <td>unknown</td>\n",
       "      <td>male</td>\n",
       "      <td>hispanic</td>\n",
       "    </tr>\n",
       "    <tr>\n",
       "      <th>47286</th>\n",
       "      <td>12/10/2021 6:05:09</td>\n",
       "      <td>22-25</td>\n",
       "      <td>4</td>\n",
       "      <td>tech / retail</td>\n",
       "      <td>resource operations analyst</td>\n",
       "      <td>apple inc</td>\n",
       "      <td>Bachelor's Degree</td>\n",
       "      <td>cupertino</td>\n",
       "      <td>usa</td>\n",
       "      <td>64480.0</td>\n",
       "      <td>...</td>\n",
       "      <td>NaN</td>\n",
       "      <td>NaN</td>\n",
       "      <td>usd</td>\n",
       "      <td>NaN</td>\n",
       "      <td>NaN</td>\n",
       "      <td>None, I work fully remote</td>\n",
       "      <td>no</td>\n",
       "      <td>unknown</td>\n",
       "      <td>male</td>\n",
       "      <td>unknown</td>\n",
       "    </tr>\n",
       "    <tr>\n",
       "      <th>52217</th>\n",
       "      <td>12/15/2021 0:19:21</td>\n",
       "      <td>30-33</td>\n",
       "      <td>11</td>\n",
       "      <td>tech</td>\n",
       "      <td>staff software engineer</td>\n",
       "      <td>apple</td>\n",
       "      <td>Bachelor's Degree</td>\n",
       "      <td>cupertino</td>\n",
       "      <td>usa</td>\n",
       "      <td>228000.0</td>\n",
       "      <td>...</td>\n",
       "      <td>260000.0</td>\n",
       "      <td>NaN</td>\n",
       "      <td>usd</td>\n",
       "      <td>15</td>\n",
       "      <td>15</td>\n",
       "      <td>None, I work fully remote</td>\n",
       "      <td>yes</td>\n",
       "      <td>2</td>\n",
       "      <td>male</td>\n",
       "      <td>unknown</td>\n",
       "    </tr>\n",
       "    <tr>\n",
       "      <th>58419</th>\n",
       "      <td>12/30/2021 12:57:03</td>\n",
       "      <td>18-21</td>\n",
       "      <td>6</td>\n",
       "      <td>retail banking</td>\n",
       "      <td>bank teller</td>\n",
       "      <td>chase</td>\n",
       "      <td>High School Graduate, Diploma or the equivalen...</td>\n",
       "      <td>cupertino</td>\n",
       "      <td>usa</td>\n",
       "      <td>50000.0</td>\n",
       "      <td>...</td>\n",
       "      <td>NaN</td>\n",
       "      <td>NaN</td>\n",
       "      <td>usd</td>\n",
       "      <td>NaN</td>\n",
       "      <td>NaN</td>\n",
       "      <td>5</td>\n",
       "      <td>no</td>\n",
       "      <td>unknown</td>\n",
       "      <td>female</td>\n",
       "      <td>unknown</td>\n",
       "    </tr>\n",
       "  </tbody>\n",
       "</table>\n",
       "<p>13 rows × 21 columns</p>\n",
       "</div>"
      ],
      "text/plain": [
       "                 timestamp age_range yoe              Industry  \\\n",
       "4345     12/7/2021 4:13:36     26-29   2      tech engineering   \n",
       "7269     12/7/2021 9:57:49     26-29   4                  tech   \n",
       "17859   12/7/2021 19:20:16     34-37   7                  tech   \n",
       "23553   12/7/2021 22:26:27     34-37  11                  tech   \n",
       "31978    12/8/2021 2:27:44     22-25   1                  tech   \n",
       "32575    12/8/2021 3:21:52     26-29   3                  tech   \n",
       "35929   12/8/2021 10:01:12     22-25   1            e-commerce   \n",
       "43223   12/9/2021 12:56:02     22-25   1  consumer electronics   \n",
       "44324   12/9/2021 16:13:37     34-37  10         corporate law   \n",
       "44673   12/9/2021 17:03:16     18-21   1                  tech   \n",
       "47286   12/10/2021 6:05:09     22-25   4         tech / retail   \n",
       "52217   12/15/2021 0:19:21     30-33  11                  tech   \n",
       "58419  12/30/2021 12:57:03     18-21   6        retail banking   \n",
       "\n",
       "                             job_title        org  \\\n",
       "4345                               swe      apple   \n",
       "7269   product development coordinator      apple   \n",
       "17859             software qa engineer      apple   \n",
       "23553                              swe      apple   \n",
       "31978                 quality engineer      apple   \n",
       "32575      research scientist/engineer      apple   \n",
       "35929                  fraud associate   poshmark   \n",
       "43223   product design engineer intern      apple   \n",
       "44324             senior legal advisor      apple   \n",
       "44673         software engineer intern     amazon   \n",
       "47286      resource operations analyst  apple inc   \n",
       "52217          staff software engineer      apple   \n",
       "58419                      bank teller      chase   \n",
       "\n",
       "                                                 max_edu   loc_city country  \\\n",
       "4345                      Some College credit, no degree  cupertino     usa   \n",
       "7269                                   Bachelor's Degree  cupertino     usa   \n",
       "17859                                  Bachelor's Degree  cupertino     usa   \n",
       "23553                                    Master's Degree  cupertino     usa   \n",
       "31978                                  Bachelor's Degree  cupertino     usa   \n",
       "32575                                  Bachelor's Degree  cupertino     usa   \n",
       "35929                                  Bachelor's Degree  cupertino     usa   \n",
       "43223                                  Bachelor's Degree  cupertino     usa   \n",
       "44324                                    Master's Degree  cupertino     usa   \n",
       "44673                     Some College credit, no degree  cupertino     usa   \n",
       "47286                                  Bachelor's Degree  cupertino     usa   \n",
       "52217                                  Bachelor's Degree  cupertino     usa   \n",
       "58419  High School Graduate, Diploma or the equivalen...  cupertino     usa   \n",
       "\n",
       "       annual_wage  ...   avg_rsu  signing_bonus  currency  \\\n",
       "4345      130000.0  ...   50000.0        13000.0       usd   \n",
       "7269       86500.0  ...    3000.0            NaN       usd   \n",
       "17859     122700.0  ...    1660.0            NaN       usd   \n",
       "23553     191000.0  ...  110000.0            NaN       usd   \n",
       "31978     120000.0  ...   12000.0        20000.0       usd   \n",
       "32575     137000.0  ...   40000.0         5000.0       usd   \n",
       "35929      62000.0  ...    2500.0            NaN       usd   \n",
       "43223     129000.0  ...       NaN            NaN       usd   \n",
       "44324     307000.0  ...      22.0            NaN       usd   \n",
       "44673     140000.0  ...       NaN            NaN       usd   \n",
       "47286      64480.0  ...       NaN            NaN       usd   \n",
       "52217     228000.0  ...  260000.0            NaN       usd   \n",
       "58419      50000.0  ...       NaN            NaN       usd   \n",
       "\n",
       "      vacation_days_yearly sick_days_yearly    days_per_week_in_office  \\\n",
       "4345                   NaN              NaN                          3   \n",
       "7269                    14               14  None, I work fully remote   \n",
       "17859              19 days               12                          3   \n",
       "23553                   20              NaN                          3   \n",
       "31978                  NaN              NaN                        NaN   \n",
       "32575                   15               15  None, I work fully remote   \n",
       "35929                   15                5  None, I work fully remote   \n",
       "43223                  NaN              NaN  None, I work fully remote   \n",
       "44324                   20               10                          5   \n",
       "44673                  NaN              NaN                        NaN   \n",
       "47286                  NaN              NaN  None, I work fully remote   \n",
       "52217                   15               15  None, I work fully remote   \n",
       "58419                  NaN              NaN                          5   \n",
       "\n",
       "      open_wage_discussions maternity_leave_months  gender ethnicity  \n",
       "4345                  other                unknown  female   unknown  \n",
       "7269                     no                unknown  female   unknown  \n",
       "17859                    no                unknown  female   unknown  \n",
       "23553                 other                      3  female   unknown  \n",
       "31978                   yes                unknown    male   unknown  \n",
       "32575                   yes                unknown  female   unknown  \n",
       "35929                    no                      1    male   unknown  \n",
       "43223                    no                unknown    male   unknown  \n",
       "44324                    no                      4    male   unknown  \n",
       "44673                    no                unknown    male  hispanic  \n",
       "47286                    no                unknown    male   unknown  \n",
       "52217                   yes                      2    male   unknown  \n",
       "58419                    no                unknown  female   unknown  \n",
       "\n",
       "[13 rows x 21 columns]"
      ]
     },
     "execution_count": 74,
     "metadata": {},
     "output_type": "execute_result"
    }
   ],
   "source": [
    "d[d['loc_city'] == 'cupertino']"
   ]
  },
  {
   "cell_type": "code",
   "execution_count": null,
   "id": "bb967c27-45ac-4728-9a6c-637170a5fca5",
   "metadata": {},
   "outputs": [],
   "source": []
  },
  {
   "cell_type": "code",
   "execution_count": null,
   "id": "80a8c313-a09e-49ba-84a6-fb49f7cc6f5c",
   "metadata": {},
   "outputs": [],
   "source": []
  },
  {
   "cell_type": "code",
   "execution_count": 94,
   "id": "8f713258-26d6-49df-9382-96256a9e3060",
   "metadata": {},
   "outputs": [],
   "source": [
    "d2= d.copy()\n",
    "d2['is_ds'] = d2['job_title'].apply(lambda x : [True if str(x).lower() in ['data', 'science', 'data science', 'data scientist', 'research'] else False][0])"
   ]
  },
  {
   "cell_type": "code",
   "execution_count": 95,
   "id": "e20aa8b5-b817-455a-962d-13b2f5d90474",
   "metadata": {},
   "outputs": [
    {
     "data": {
      "text/plain": [
       "209000.0"
      ]
     },
     "execution_count": 95,
     "metadata": {},
     "output_type": "execute_result"
    }
   ],
   "source": [
    "d2[d2['is_ds']==True].annual_wage.max()"
   ]
  },
  {
   "cell_type": "code",
   "execution_count": 96,
   "id": "3dcad0ec-2c62-4bcc-81fd-e82055bf9f23",
   "metadata": {},
   "outputs": [
    {
     "data": {
      "text/html": [
       "<div>\n",
       "<style scoped>\n",
       "    .dataframe tbody tr th:only-of-type {\n",
       "        vertical-align: middle;\n",
       "    }\n",
       "\n",
       "    .dataframe tbody tr th {\n",
       "        vertical-align: top;\n",
       "    }\n",
       "\n",
       "    .dataframe thead th {\n",
       "        text-align: right;\n",
       "    }\n",
       "</style>\n",
       "<table border=\"1\" class=\"dataframe\">\n",
       "  <thead>\n",
       "    <tr style=\"text-align: right;\">\n",
       "      <th></th>\n",
       "      <th>timestamp</th>\n",
       "      <th>age_range</th>\n",
       "      <th>yoe</th>\n",
       "      <th>Industry</th>\n",
       "      <th>job_title</th>\n",
       "      <th>org</th>\n",
       "      <th>max_edu</th>\n",
       "      <th>loc_city</th>\n",
       "      <th>country</th>\n",
       "      <th>annual_wage</th>\n",
       "      <th>...</th>\n",
       "      <th>signing_bonus</th>\n",
       "      <th>currency</th>\n",
       "      <th>vacation_days_yearly</th>\n",
       "      <th>sick_days_yearly</th>\n",
       "      <th>days_per_week_in_office</th>\n",
       "      <th>open_wage_discussions</th>\n",
       "      <th>maternity_leave_months</th>\n",
       "      <th>gender</th>\n",
       "      <th>ethnicity</th>\n",
       "      <th>is_ds</th>\n",
       "    </tr>\n",
       "  </thead>\n",
       "  <tbody>\n",
       "    <tr>\n",
       "      <th>9879</th>\n",
       "      <td>12/7/2021 2:37:40</td>\n",
       "      <td>26-29</td>\n",
       "      <td>4</td>\n",
       "      <td>data science</td>\n",
       "      <td>data scientist</td>\n",
       "      <td>ibm</td>\n",
       "      <td>Master's Degree</td>\n",
       "      <td>sf</td>\n",
       "      <td>usa</td>\n",
       "      <td>209000.0</td>\n",
       "      <td>...</td>\n",
       "      <td>13000.0</td>\n",
       "      <td>usd</td>\n",
       "      <td>19</td>\n",
       "      <td>unlim</td>\n",
       "      <td>None, I work fully remote</td>\n",
       "      <td>yes</td>\n",
       "      <td>6</td>\n",
       "      <td>male</td>\n",
       "      <td>unknown</td>\n",
       "      <td>True</td>\n",
       "    </tr>\n",
       "  </tbody>\n",
       "</table>\n",
       "<p>1 rows × 22 columns</p>\n",
       "</div>"
      ],
      "text/plain": [
       "              timestamp age_range yoe      Industry       job_title  org  \\\n",
       "9879  12/7/2021 2:37:40     26-29   4  data science  data scientist  ibm   \n",
       "\n",
       "              max_edu loc_city country  annual_wage  ...  signing_bonus  \\\n",
       "9879  Master's Degree       sf     usa     209000.0  ...        13000.0   \n",
       "\n",
       "      currency  vacation_days_yearly sick_days_yearly  \\\n",
       "9879       usd                    19            unlim   \n",
       "\n",
       "        days_per_week_in_office open_wage_discussions maternity_leave_months  \\\n",
       "9879  None, I work fully remote                   yes                      6   \n",
       "\n",
       "     gender ethnicity is_ds  \n",
       "9879   male   unknown  True  \n",
       "\n",
       "[1 rows x 22 columns]"
      ]
     },
     "execution_count": 96,
     "metadata": {},
     "output_type": "execute_result"
    }
   ],
   "source": [
    "d2[(d2['is_ds'] == True) & (d2['annual_wage'] == 209000) ]"
   ]
  },
  {
   "cell_type": "code",
   "execution_count": null,
   "id": "24f006c3-2254-48a2-a9c5-c82cc0825ec0",
   "metadata": {},
   "outputs": [],
   "source": []
  },
  {
   "cell_type": "code",
   "execution_count": null,
   "id": "f1e8c056-83df-4223-aae4-b3092fd7c056",
   "metadata": {},
   "outputs": [],
   "source": [
    "import pandas as pd\n",
    "import requests\n",
    "import numpy as np"
   ]
  },
  {
   "cell_type": "code",
   "execution_count": 75,
   "id": "091fd373-ce4b-4b22-955e-5b524e60e918",
   "metadata": {},
   "outputs": [],
   "source": [
    "levels_fyi_data = requests.get('https://www.levels.fyi/js/salaryData.json').json()\n",
    "levels_df = pd.DataFrame(levels_fyi_data)\n",
    "levels_df.shape"
   ]
  },
  {
   "cell_type": "code",
   "execution_count": 78,
   "id": "da0a2fb2-02f1-4677-8636-eb0d872d4cd0",
   "metadata": {},
   "outputs": [],
   "source": [
    "levels_df = levels_df.drop(['cityid', 'dmaid','rowNumber'], axis=1)\n",
    "levels_df = levels_df.replace(\"\", np.nan)"
   ]
  },
  {
   "cell_type": "code",
   "execution_count": 81,
   "id": "bd2eca19-00fe-408c-baa9-2273ebb78c29",
   "metadata": {},
   "outputs": [],
   "source": [
    "levels_df['timestamp'] = pd.to_datetime(levels_df['timestamp'])\n",
    "levels_df[\n",
    "    ['yearsofexperience','basesalary','bonus','stockgrantvalue','totalyearlycompensation','yearsatcompany']\n",
    "] = levels_df[\n",
    "    ['yearsofexperience','basesalary','bonus','stockgrantvalue','totalyearlycompensation','yearsatcompany']\n",
    "].apply(pd.to_numeric)"
   ]
  },
  {
   "cell_type": "code",
   "execution_count": 82,
   "id": "9cb30531-2cd0-45d6-a990-3099c07a117d",
   "metadata": {},
   "outputs": [
    {
     "data": {
      "text/html": [
       "<div>\n",
       "<style scoped>\n",
       "    .dataframe tbody tr th:only-of-type {\n",
       "        vertical-align: middle;\n",
       "    }\n",
       "\n",
       "    .dataframe tbody tr th {\n",
       "        vertical-align: top;\n",
       "    }\n",
       "\n",
       "    .dataframe thead th {\n",
       "        text-align: right;\n",
       "    }\n",
       "</style>\n",
       "<table border=\"1\" class=\"dataframe\">\n",
       "  <thead>\n",
       "    <tr style=\"text-align: right;\">\n",
       "      <th></th>\n",
       "      <th>timestamp</th>\n",
       "      <th>company</th>\n",
       "      <th>level</th>\n",
       "      <th>title</th>\n",
       "      <th>totalyearlycompensation</th>\n",
       "      <th>location</th>\n",
       "      <th>yearsofexperience</th>\n",
       "      <th>yearsatcompany</th>\n",
       "      <th>tag</th>\n",
       "      <th>basesalary</th>\n",
       "      <th>stockgrantvalue</th>\n",
       "      <th>bonus</th>\n",
       "      <th>gender</th>\n",
       "      <th>otherdetails</th>\n",
       "    </tr>\n",
       "  </thead>\n",
       "  <tbody>\n",
       "    <tr>\n",
       "      <th>0</th>\n",
       "      <td>2017-06-07 11:33:27</td>\n",
       "      <td>Oracle</td>\n",
       "      <td>L3</td>\n",
       "      <td>Product Manager</td>\n",
       "      <td>127.0</td>\n",
       "      <td>Redwood City, CA</td>\n",
       "      <td>1.5</td>\n",
       "      <td>1.5</td>\n",
       "      <td>NaN</td>\n",
       "      <td>107.0</td>\n",
       "      <td>20.0</td>\n",
       "      <td>10.0</td>\n",
       "      <td>NaN</td>\n",
       "      <td>NaN</td>\n",
       "    </tr>\n",
       "    <tr>\n",
       "      <th>1</th>\n",
       "      <td>2017-06-10 17:11:29</td>\n",
       "      <td>eBay</td>\n",
       "      <td>SE 2</td>\n",
       "      <td>Software Engineer</td>\n",
       "      <td>100.0</td>\n",
       "      <td>San Francisco, CA</td>\n",
       "      <td>5.0</td>\n",
       "      <td>3.0</td>\n",
       "      <td>NaN</td>\n",
       "      <td>NaN</td>\n",
       "      <td>NaN</td>\n",
       "      <td>NaN</td>\n",
       "      <td>NaN</td>\n",
       "      <td>NaN</td>\n",
       "    </tr>\n",
       "    <tr>\n",
       "      <th>2</th>\n",
       "      <td>2017-06-11 14:53:57</td>\n",
       "      <td>Amazon</td>\n",
       "      <td>L7</td>\n",
       "      <td>Product Manager</td>\n",
       "      <td>310.0</td>\n",
       "      <td>Seattle, WA</td>\n",
       "      <td>8.0</td>\n",
       "      <td>0.0</td>\n",
       "      <td>NaN</td>\n",
       "      <td>155.0</td>\n",
       "      <td>NaN</td>\n",
       "      <td>NaN</td>\n",
       "      <td>NaN</td>\n",
       "      <td>NaN</td>\n",
       "    </tr>\n",
       "    <tr>\n",
       "      <th>3</th>\n",
       "      <td>2017-06-14 21:22:25</td>\n",
       "      <td>Microsoft</td>\n",
       "      <td>64</td>\n",
       "      <td>Software Engineering Manager</td>\n",
       "      <td>200.0</td>\n",
       "      <td>Redmond, WA</td>\n",
       "      <td>9.0</td>\n",
       "      <td>9.0</td>\n",
       "      <td>NaN</td>\n",
       "      <td>169000.0</td>\n",
       "      <td>100000.0</td>\n",
       "      <td>30000.0</td>\n",
       "      <td>NaN</td>\n",
       "      <td>NaN</td>\n",
       "    </tr>\n",
       "    <tr>\n",
       "      <th>4</th>\n",
       "      <td>2017-06-16 10:44:01</td>\n",
       "      <td>Amazon</td>\n",
       "      <td>L5</td>\n",
       "      <td>Software Engineer</td>\n",
       "      <td>173.0</td>\n",
       "      <td>Vancouver, BC, Canada</td>\n",
       "      <td>11.0</td>\n",
       "      <td>1.0</td>\n",
       "      <td>NaN</td>\n",
       "      <td>120000.0</td>\n",
       "      <td>0.0</td>\n",
       "      <td>53000.0</td>\n",
       "      <td>NaN</td>\n",
       "      <td>NaN</td>\n",
       "    </tr>\n",
       "    <tr>\n",
       "      <th>...</th>\n",
       "      <td>...</td>\n",
       "      <td>...</td>\n",
       "      <td>...</td>\n",
       "      <td>...</td>\n",
       "      <td>...</td>\n",
       "      <td>...</td>\n",
       "      <td>...</td>\n",
       "      <td>...</td>\n",
       "      <td>...</td>\n",
       "      <td>...</td>\n",
       "      <td>...</td>\n",
       "      <td>...</td>\n",
       "      <td>...</td>\n",
       "      <td>...</td>\n",
       "    </tr>\n",
       "    <tr>\n",
       "      <th>62637</th>\n",
       "      <td>2021-08-17 08:16:36</td>\n",
       "      <td>Amazon</td>\n",
       "      <td>L6</td>\n",
       "      <td>Product Manager</td>\n",
       "      <td>241.0</td>\n",
       "      <td>Seattle, WA</td>\n",
       "      <td>9.0</td>\n",
       "      <td>0.0</td>\n",
       "      <td>Analytic</td>\n",
       "      <td>150.0</td>\n",
       "      <td>46.0</td>\n",
       "      <td>45.0</td>\n",
       "      <td>Female</td>\n",
       "      <td>Title: Senior Product Manager, Race: Asian, Ac...</td>\n",
       "    </tr>\n",
       "    <tr>\n",
       "      <th>62638</th>\n",
       "      <td>2021-08-17 08:22:17</td>\n",
       "      <td>Fidelity Investments</td>\n",
       "      <td>L3</td>\n",
       "      <td>Software Engineer</td>\n",
       "      <td>98.0</td>\n",
       "      <td>Durham, NC</td>\n",
       "      <td>0.0</td>\n",
       "      <td>0.0</td>\n",
       "      <td>Full Stack</td>\n",
       "      <td>85.0</td>\n",
       "      <td>0.0</td>\n",
       "      <td>13.0</td>\n",
       "      <td>Male</td>\n",
       "      <td>10% profit share into 401k and 7% 401k match, ...</td>\n",
       "    </tr>\n",
       "    <tr>\n",
       "      <th>62639</th>\n",
       "      <td>2021-08-17 08:24:56</td>\n",
       "      <td>Cisco</td>\n",
       "      <td>Grade 8</td>\n",
       "      <td>Software Engineer</td>\n",
       "      <td>154.0</td>\n",
       "      <td>San Jose, CA</td>\n",
       "      <td>5.0</td>\n",
       "      <td>5.0</td>\n",
       "      <td>Networking</td>\n",
       "      <td>129.0</td>\n",
       "      <td>10.0</td>\n",
       "      <td>15.0</td>\n",
       "      <td>Male</td>\n",
       "      <td>Title: Software Engineer 3, Race: Asian</td>\n",
       "    </tr>\n",
       "    <tr>\n",
       "      <th>62640</th>\n",
       "      <td>2021-08-17 08:26:21</td>\n",
       "      <td>HSBC</td>\n",
       "      <td>GCB5</td>\n",
       "      <td>Software Engineer</td>\n",
       "      <td>159.0</td>\n",
       "      <td>New York, NY</td>\n",
       "      <td>12.0</td>\n",
       "      <td>5.0</td>\n",
       "      <td>Full Stack</td>\n",
       "      <td>139.0</td>\n",
       "      <td>0.0</td>\n",
       "      <td>20.0</td>\n",
       "      <td>NaN</td>\n",
       "      <td>Title: Senior Software Engineer</td>\n",
       "    </tr>\n",
       "    <tr>\n",
       "      <th>62641</th>\n",
       "      <td>2021-08-17 08:28:57</td>\n",
       "      <td>Adobe</td>\n",
       "      <td>Software Engineer 5</td>\n",
       "      <td>Product Designer</td>\n",
       "      <td>300.0</td>\n",
       "      <td>San Francisco, CA</td>\n",
       "      <td>5.0</td>\n",
       "      <td>0.0</td>\n",
       "      <td>User Experience (UX)</td>\n",
       "      <td>180.0</td>\n",
       "      <td>100.0</td>\n",
       "      <td>20.0</td>\n",
       "      <td>Male</td>\n",
       "      <td>Title: Ux Designer, Race: Asian, Academic Leve...</td>\n",
       "    </tr>\n",
       "  </tbody>\n",
       "</table>\n",
       "<p>62642 rows × 14 columns</p>\n",
       "</div>"
      ],
      "text/plain": [
       "                timestamp               company                level  \\\n",
       "0     2017-06-07 11:33:27                Oracle                   L3   \n",
       "1     2017-06-10 17:11:29                  eBay                 SE 2   \n",
       "2     2017-06-11 14:53:57                Amazon                   L7   \n",
       "3     2017-06-14 21:22:25             Microsoft                   64   \n",
       "4     2017-06-16 10:44:01                Amazon                   L5   \n",
       "...                   ...                   ...                  ...   \n",
       "62637 2021-08-17 08:16:36                Amazon                   L6   \n",
       "62638 2021-08-17 08:22:17  Fidelity Investments                   L3   \n",
       "62639 2021-08-17 08:24:56                 Cisco              Grade 8   \n",
       "62640 2021-08-17 08:26:21                  HSBC                 GCB5   \n",
       "62641 2021-08-17 08:28:57                 Adobe  Software Engineer 5   \n",
       "\n",
       "                              title  totalyearlycompensation  \\\n",
       "0                   Product Manager                    127.0   \n",
       "1                 Software Engineer                    100.0   \n",
       "2                   Product Manager                    310.0   \n",
       "3      Software Engineering Manager                    200.0   \n",
       "4                 Software Engineer                    173.0   \n",
       "...                             ...                      ...   \n",
       "62637               Product Manager                    241.0   \n",
       "62638             Software Engineer                     98.0   \n",
       "62639             Software Engineer                    154.0   \n",
       "62640             Software Engineer                    159.0   \n",
       "62641              Product Designer                    300.0   \n",
       "\n",
       "                    location  yearsofexperience  yearsatcompany  \\\n",
       "0           Redwood City, CA                1.5             1.5   \n",
       "1          San Francisco, CA                5.0             3.0   \n",
       "2                Seattle, WA                8.0             0.0   \n",
       "3                Redmond, WA                9.0             9.0   \n",
       "4      Vancouver, BC, Canada               11.0             1.0   \n",
       "...                      ...                ...             ...   \n",
       "62637            Seattle, WA                9.0             0.0   \n",
       "62638             Durham, NC                0.0             0.0   \n",
       "62639           San Jose, CA                5.0             5.0   \n",
       "62640           New York, NY               12.0             5.0   \n",
       "62641      San Francisco, CA                5.0             0.0   \n",
       "\n",
       "                        tag  basesalary  stockgrantvalue    bonus  gender  \\\n",
       "0                       NaN       107.0             20.0     10.0     NaN   \n",
       "1                       NaN         NaN              NaN      NaN     NaN   \n",
       "2                       NaN       155.0              NaN      NaN     NaN   \n",
       "3                       NaN    169000.0         100000.0  30000.0     NaN   \n",
       "4                       NaN    120000.0              0.0  53000.0     NaN   \n",
       "...                     ...         ...              ...      ...     ...   \n",
       "62637              Analytic       150.0             46.0     45.0  Female   \n",
       "62638            Full Stack        85.0              0.0     13.0    Male   \n",
       "62639            Networking       129.0             10.0     15.0    Male   \n",
       "62640            Full Stack       139.0              0.0     20.0     NaN   \n",
       "62641  User Experience (UX)       180.0            100.0     20.0    Male   \n",
       "\n",
       "                                            otherdetails  \n",
       "0                                                    NaN  \n",
       "1                                                    NaN  \n",
       "2                                                    NaN  \n",
       "3                                                    NaN  \n",
       "4                                                    NaN  \n",
       "...                                                  ...  \n",
       "62637  Title: Senior Product Manager, Race: Asian, Ac...  \n",
       "62638  10% profit share into 401k and 7% 401k match, ...  \n",
       "62639            Title: Software Engineer 3, Race: Asian  \n",
       "62640                    Title: Senior Software Engineer  \n",
       "62641  Title: Ux Designer, Race: Asian, Academic Leve...  \n",
       "\n",
       "[62642 rows x 14 columns]"
      ]
     },
     "execution_count": 82,
     "metadata": {},
     "output_type": "execute_result"
    }
   ],
   "source": [
    "levels_df"
   ]
  },
  {
   "cell_type": "code",
   "execution_count": null,
   "id": "9b56953c-b37b-4649-a55c-ca260c7f53b4",
   "metadata": {},
   "outputs": [],
   "source": []
  },
  {
   "cell_type": "code",
   "execution_count": null,
   "id": "e3f1d4cd-bffc-4886-bab4-2f0062a2cdf6",
   "metadata": {},
   "outputs": [],
   "source": []
  },
  {
   "cell_type": "code",
   "execution_count": null,
   "id": "46a68c06-f4c7-475e-9d2e-5acccbb93492",
   "metadata": {},
   "outputs": [],
   "source": []
  }
 ],
 "metadata": {
  "kernelspec": {
   "display_name": "Python 3",
   "language": "python",
   "name": "python3"
  },
  "language_info": {
   "codemirror_mode": {
    "name": "ipython",
    "version": 3
   },
   "file_extension": ".py",
   "mimetype": "text/x-python",
   "name": "python",
   "nbconvert_exporter": "python",
   "pygments_lexer": "ipython3",
   "version": "3.8.8"
  }
 },
 "nbformat": 4,
 "nbformat_minor": 5
}
