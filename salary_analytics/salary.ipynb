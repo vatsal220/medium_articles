{
 "cells": [
  {
   "cell_type": "markdown",
   "id": "5bcbc81a-7ce1-4eb9-a60f-b306b8bf7689",
   "metadata": {},
   "source": [
    "# Salary Analytics"
   ]
  },
  {
   "cell_type": "markdown",
   "id": "171ad39c-1070-494d-8af8-9f5ca5e45231",
   "metadata": {},
   "source": [
    "This repository consists of conducting analysis on publicaly submitted salaries. The data was gathered and inspired by [Christen Nino De Guzman](https://www.linkedin.com/in/christenndg/) on her linkedin post about wage transparency. You can find the post [here](https://www.linkedin.com/feed/update/urn:li:activity:6883141659610234880/) and the associated csv [here](https://docs.google.com/spreadsheets/d/19h0WT9Xjf9ncNmJDWpd8fzz7YnB37nemDnxKSO0EE8o/edit#gid=1664289965). She advocated this on her linkedin community and it gained a lot of traction, nearly 60,000 people have anonomously submitted their total compensation breakdown, gender, age range, etc. The purpose of this article is to strictly do an analysis on the data retried. The article will consist of a few different segments as outlined below:\n",
    "\n",
    "**Table of Contents**\n",
    "- Data Retrieval\n",
    "- Data Cleaning\n",
    "- Analysis & Visualization\n",
    "- Modelling\n",
    "- Concluding Remarks\n",
    "- Resources"
   ]
  },
  {
   "cell_type": "code",
   "execution_count": 1,
   "id": "e71cfec5-776f-4214-9b38-cbca22cc8398",
   "metadata": {},
   "outputs": [],
   "source": [
    "import pandas as pd\n",
    "import numpy as np\n",
    "import seaborn as sns\n",
    "import matplotlib.pyplot as plt\n",
    "import plotly as pt\n",
    "\n",
    "sns.set()"
   ]
  },
  {
   "cell_type": "code",
   "execution_count": 2,
   "id": "65e9a920-b591-47a0-bc5f-644f8d87ee71",
   "metadata": {},
   "outputs": [],
   "source": [
    "# constants\n",
    "# source = https://docs.google.com/spreadsheets/d/19h0WT9Xjf9ncNmJDWpd8fzz7YnB37nemDnxKSO0EE8o/edit#gid=1664289965\n",
    "file_path = './data/anon_salary.csv'"
   ]
  },
  {
   "cell_type": "markdown",
   "id": "3608f447-0344-4d58-bac6-2738e43dbbb7",
   "metadata": {},
   "source": [
    "## Import Data"
   ]
  },
  {
   "cell_type": "code",
   "execution_count": 3,
   "id": "8379a47a-ca21-45f9-b1da-b803c82b4cee",
   "metadata": {},
   "outputs": [
    {
     "data": {
      "text/plain": [
       "(59688, 22)"
      ]
     },
     "execution_count": 3,
     "metadata": {},
     "output_type": "execute_result"
    }
   ],
   "source": [
    "d = pd.read_csv(file_path)\n",
    "d.shape"
   ]
  },
  {
   "cell_type": "markdown",
   "id": "e43a4bcb-0936-443e-aa9a-ae9a1072d002",
   "metadata": {},
   "source": [
    "## Clean Data"
   ]
  },
  {
   "cell_type": "markdown",
   "id": "70ee2822-abe2-48da-8ae5-6c00c6b782a1",
   "metadata": {},
   "source": [
    "During the cleaning components, we're not going to really aim for perfection as there's just too much data to parse through manually and too many individual edge cases which would act as outliers. We're aiming to clean the masses of the results that users have submitted. So the cleaning portion will most definetly not be perfect, but when dealing with a large volume of user submitted data without any options / restrictions in place for the submissions, it becomes almost impossible to have **perfectly** cleaned data. In this section we'll begin by renaming the columns to remove any fluf and wierd wording in them."
   ]
  },
  {
   "cell_type": "code",
   "execution_count": 4,
   "id": "d5f6c499-82b7-4c66-a3de-2a4f3b022ecf",
   "metadata": {},
   "outputs": [],
   "source": [
    "rename_cols = {\n",
    "    'Timestamp' : 'timestamp',\n",
    "    'Country' : 'country',\n",
    "    'Age Range' : 'age_range',\n",
    "    'Highest Level of Education Received' : 'max_edu',\n",
    "    'Company Name' : 'org',\n",
    "    'Years of Experience' : 'yoe',\n",
    "    'Closest Major City and State (e.g. Santa Clara, CA)' : 'loc_city',\n",
    "    'Annual Base Salary (if hourly, please convert to annual)' : 'annual_wage',\n",
    "    'How many vacation days are you given per year?' : 'vacation_days_yearly',\n",
    "    'How many sick days are you given per year?' : 'sick_days_yearly',\n",
    "    'Do you openly discuss salary with your colleagues?' : 'open_wage_discussions',\n",
    "    'How many months Maternity or Paternity does your company offer?' : 'maternity_leave_months',\n",
    "    'Diverse Identity (Optional)' : 'ethnicity',\n",
    "    'Currency (USD, CAD, etc)' : 'currency',\n",
    "    'Gender (optional)' : 'gender',\n",
    "    'Annual Bonus' : 'bonus',\n",
    "    'Annual Average of RSUs' : 'avg_rsu',\n",
    "    'Signing Bonus (if none, leave blank)' : 'signing_bonus',\n",
    "    'Job Title' : 'job_title',\n",
    "    'How many days per week are you required to work onsite/in the office?' : 'days_per_week_in_office'\n",
    "}\n",
    "\n",
    "d.rename(columns = rename_cols, inplace = True)\n",
    "d.drop(columns = ['Unnamed: 20'], inplace = True)"
   ]
  },
  {
   "cell_type": "code",
   "execution_count": 5,
   "id": "1d87618b-0fed-42cb-a2ed-8a8a3a120de7",
   "metadata": {},
   "outputs": [],
   "source": [
    "curr_dct = {\n",
    "    # I'm aware that dollars and $ can be across many different currencies, I'm making a generalized assumption\n",
    "    'usd' : ['us dollar', 'us dollars', 'usda', 'usdp', 'dollars', '$', 'usa', 'uds', 'ysd', 'uss'],  \n",
    "    'cad' : ['can', 'canadian', 'caf', 'canada'],\n",
    "    'eur' : ['euro', 'euros', 'eu',],\n",
    "    'gbp' : ['pound', 'pound sterling', 'pounds', 'british pounds', 'british pound', 'gbp £']\n",
    "}\n",
    "\n",
    "def clean_currency(cur, curr_dct = curr_dct):\n",
    "    '''\n",
    "    Will clean the currency column \n",
    "    '''\n",
    "    cur = str(cur).lstrip().rstrip().strip().lower()\n",
    "    for k,v in curr_dct.items():\n",
    "        if cur in v:\n",
    "            return k\n",
    "\n",
    "    if cur == 'nan' or cur == 'n/a' or cur == '-':\n",
    "        return np.nan\n",
    "    return cur"
   ]
  },
  {
   "cell_type": "code",
   "execution_count": 6,
   "id": "19c9f5be-1de1-4489-a509-0367a64ee366",
   "metadata": {},
   "outputs": [],
   "source": [
    "def clean_wage(wage):\n",
    "    '''\n",
    "    Will clean the user input wage to be an integer\n",
    "    '''\n",
    "    wage=str(wage).lower()\n",
    "    wage = wage.replace('$','').replace(' ', '').replace(',', '').replace('cad', '').replace('usd','').replace('()','').replace('k', '000')\n",
    "    try:\n",
    "        return int(wage)\n",
    "    except:\n",
    "        return np.nan"
   ]
  },
  {
   "cell_type": "code",
   "execution_count": 7,
   "id": "d84bab1e-d9e5-42bb-8c4e-e748476b1b45",
   "metadata": {},
   "outputs": [],
   "source": [
    "d['annual_wage'] = d['annual_wage'].apply(lambda x : clean_wage(x))"
   ]
  },
  {
   "cell_type": "code",
   "execution_count": 8,
   "id": "bb97dac3-f20d-418d-8da5-d6d3f4e6d6d7",
   "metadata": {},
   "outputs": [],
   "source": [
    "d['currency'] = d['currency'].apply(lambda x : clean_currency(x))"
   ]
  },
  {
   "cell_type": "code",
   "execution_count": 9,
   "id": "b1216888-83eb-4330-998e-0777b5d1d885",
   "metadata": {},
   "outputs": [
    {
     "data": {
      "text/plain": [
       "Bachelor's Degree                                             36936\n",
       "Master's Degree                                               10082\n",
       "Some College credit, no degree                                 4274\n",
       "Associate Degree                                               1939\n",
       "High School Graduate, Diploma or the equivalent (e.g. GED)     1786\n",
       "Doctorate Degree                                               1205\n",
       "Trade, Technical, Vocational Training                           737\n",
       "Professional Degree                                             731\n",
       "Some High School, No Diploma                                    207\n",
       "No Schooling Completed                                          126\n",
       "Name: max_edu, dtype: int64"
      ]
     },
     "execution_count": 9,
     "metadata": {},
     "output_type": "execute_result"
    }
   ],
   "source": [
    "d['max_edu'].value_counts()"
   ]
  },
  {
   "cell_type": "code",
   "execution_count": 10,
   "id": "4551304a-65e7-48b4-a67c-7b64295b8209",
   "metadata": {},
   "outputs": [],
   "source": [
    "def clean_org(org):\n",
    "    '''\n",
    "    This will clean the organization section. It will return np.nan if the user has not provided\n",
    "    their organization, otherwise it will return the lowered organization passed\n",
    "    '''\n",
    "    \n",
    "    na_list = ['prefer not to say', 'N/a', '-', 'nan', 'anon', 'anonymous', 'Prefer not to say']\n",
    "    if str(org).lower().lstrip().rstrip() in na_list:\n",
    "        return np.nan\n",
    "    return str(org).rstrip().lstrip().lower()\n",
    "\n",
    "d['org'] = d['org'].apply(clean_org)"
   ]
  },
  {
   "cell_type": "code",
   "execution_count": 11,
   "id": "661cc427-e9fc-4f97-b710-627bfd0116bb",
   "metadata": {},
   "outputs": [],
   "source": [
    "def clean_loc_city(city):\n",
    "    city_dct = {\n",
    "        'nyc' : ['new york, ny', 'nyc', 'new york', 'new york city, ny', 'new york city', 'new york, new york', 'ny'],\n",
    "        'la' : ['los angeles, ca', 'los angeles'],\n",
    "        np.nan : ['nan', 'none', '-', 'n/a'],\n",
    "        'toronto' : ['toronto', 'toronto, ontario', 'toronto, canada', 'toronto, on', 'toronto, ca']\n",
    "    }\n",
    "    for k,v in city_dct.items():\n",
    "        if str(city).lower().lstrip().rstrip() in v:\n",
    "            return k\n",
    "    cleaned_city = str(city).split(',')[0]\n",
    "    return cleaned_city.lower().lstrip().rstrip()\n",
    "\n",
    "d['loc_city'] = d['loc_city'].apply(clean_loc_city)"
   ]
  },
  {
   "cell_type": "code",
   "execution_count": 12,
   "id": "d9b7e899-8402-4457-844b-8a10c66f6af9",
   "metadata": {},
   "outputs": [],
   "source": [
    "def clean_country(country):\n",
    "    country_dct = {\n",
    "        'usa' : [\n",
    "            'united stayes', 'united statea', 'united stares', 'united states', 'unites states', 'united state', \n",
    "            'california', 'new york', 'us', 'ny', 'united statws',  'usa', 'united states', 'united states of america',\n",
    "            'america', 'u.s.a.', 'u.s.a', 'u.s', 'u.s.', 'ny', 'united stated', 'los angeles', 'untied states',\n",
    "            'united statss', 'united sates', 'la', 'sacramento', 'ysa'\n",
    "        ],\n",
    "        'canada' : ['canada', 'ca', 'can'],\n",
    "        'united kingdom' : ['united kingdom', 'uk', ''],\n",
    "        np.nan : ['nan', 'n/a', 'none', '-']\n",
    "    }\n",
    "    country = str(country).lower().lstrip().rstrip()\n",
    "    for k,v in country_dct.items():\n",
    "        if country in v:\n",
    "            return k\n",
    "    return country\n",
    "d['country'] = d['country'].apply(clean_country)"
   ]
  },
  {
   "cell_type": "code",
   "execution_count": 13,
   "id": "21d0f5a5-baa9-4a9a-a1c7-8c9c7eb0d08e",
   "metadata": {},
   "outputs": [],
   "source": [
    "def clean_job(job):\n",
    "    job_dct = {\n",
    "        'swe' : ['swe', 'software engineer', ''],\n",
    "        'nurse' : ['rn', 'registered nurse', 'nurse'],\n",
    "        'data scientist' : ['data science', 'data scientist'],\n",
    "        np.nan : ['nan', '-', 'none']\n",
    "    }\n",
    "    job = str(job).lstrip().rstrip().lower()\n",
    "    for k,v in job_dct.items():\n",
    "        if job in v:\n",
    "            return k\n",
    "    return job\n",
    "d['job_title'] = d['job_title'].apply(clean_job)"
   ]
  },
  {
   "cell_type": "code",
   "execution_count": 14,
   "id": "1beba804-e970-4da0-b50f-272cf314fab6",
   "metadata": {},
   "outputs": [],
   "source": [
    "def clean_gender(gender):\n",
    "    gender_dct = {\n",
    "        'female' : ['female'],\n",
    "        'male' : ['male'],\n",
    "        np.nan : ['prefer not to say', 'n/a', '-', \"you shouldn't have included this free text field eh?\"],\n",
    "        'non-binary' : ['non-binary', 'non binary', 'nb', 'nonbinary'],\n",
    "        'trans' : ['trans', 'transgender fem', 'genderqueer, transmasculine', 'trans female', 'trans man', 'trans male']\n",
    "    }\n",
    "    gender = str(gender).lower().lstrip().rstrip()\n",
    "    for k,v in gender_dct.items():\n",
    "        if gender in v:\n",
    "            return k\n",
    "        if 'binary' in gender:\n",
    "            return 'non-binary'\n",
    "    return 'other'\n",
    "d['gender'] = d['gender'].apply(clean_gender)"
   ]
  },
  {
   "cell_type": "code",
   "execution_count": 15,
   "id": "89fa8fd9-6094-4d27-8f17-2788c3472bff",
   "metadata": {},
   "outputs": [],
   "source": [
    "def clean_yoe(yoe):\n",
    "    yoe = str(yoe).lstrip().rstrip()\n",
    "    if yoe == 'nan':\n",
    "        return np.nan\n",
    "    elif yoe == '20+':\n",
    "        return '20+'\n",
    "    else:\n",
    "        try:\n",
    "            return int(yoe)\n",
    "        except:\n",
    "            return yoe\n",
    "d['yoe'] = d['yoe'].apply(clean_yoe)"
   ]
  },
  {
   "cell_type": "code",
   "execution_count": 16,
   "id": "d977e209-135b-4dbe-a091-00167773dbbb",
   "metadata": {},
   "outputs": [],
   "source": [
    "d['signing_bonus'] = d['signing_bonus'].apply(clean_wage)\n",
    "d['bonus'] = d['bonus'].apply(clean_wage)"
   ]
  },
  {
   "cell_type": "code",
   "execution_count": 17,
   "id": "1ebb48b1-4d3f-4c4f-a4c3-288960684ed8",
   "metadata": {},
   "outputs": [],
   "source": [
    "def clean_sick_days(days):\n",
    "    sick_dct = {\n",
    "        'unlim' : ['as many as i want', 'as many as i need', 'infinite', 'unlimited', '🚩unlimited', 'no limit', 'pto', 'unlimited (kind of)', 'unlimited pto', '\"unlimited\"'],\n",
    "        np.nan : ['none', 'nan', 'n/a', '-', '?', 'na', 'idk', 'not sure', 'unsure'],\n",
    "        10 : ['2 weeks', '10 days', '14 days'],\n",
    "        5 : ['1 week', '5 days', '7 days', '40 hours'],\n",
    "        15 : ['3 weeks', '15 days', '21 days'],\n",
    "        20 : ['4 weeks', '20 days'],\n",
    "        25 : ['5 weeks', '25 days'],\n",
    "        30 : ['30 days', '6 weeks']\n",
    "    }\n",
    "    days = str(days).lower().lstrip().rstrip().replace('\"', '').replace('\"', '')\n",
    "    for k,v in sick_dct.items():\n",
    "        if days in v:\n",
    "            return k\n",
    "    try:\n",
    "        return int(days)\n",
    "    except:\n",
    "        return days\n",
    "    \n",
    "d['sick_days_yearly'] = d['sick_days_yearly'].apply(clean_sick_days)\n",
    "d['vacation_days_yearly'] = d['vacation_days_yearly'].apply(clean_sick_days)"
   ]
  },
  {
   "cell_type": "code",
   "execution_count": 18,
   "id": "6450ce30-0b7c-40fb-b93f-3fecc3414eec",
   "metadata": {},
   "outputs": [],
   "source": [
    "def clean_open_discussions(disc):\n",
    "    disc_dct = {\n",
    "        'yes' : ['yes', 'ya', 'yeah'],\n",
    "        'no'  : ['no', 'nope', 'never']\n",
    "    }\n",
    "    \n",
    "    disc = str(disc).lower().lstrip().rstrip()\n",
    "    for k,v in disc_dct.items():\n",
    "        for val in v:\n",
    "            if val in disc:\n",
    "                return k\n",
    "    return 'other'\n",
    "d['open_wage_discussions'] = d['open_wage_discussions'].apply(clean_open_discussions)"
   ]
  },
  {
   "cell_type": "code",
   "execution_count": 19,
   "id": "a6429916-2529-438f-a7c3-e1775c323279",
   "metadata": {},
   "outputs": [],
   "source": [
    "def clean_ethnicity(eth):\n",
    "    eth_dct = {\n",
    "        'caucasian' : ['white', 'caucasian', 'white female', 'white male'],\n",
    "        'african american' : ['black', 'african', 'black american', 'black/african american', 'african american', 'black woman', 'african-american', 'black male', 'black man', 'black female'],\n",
    "        'hispanic' : ['hispanic', 'latina', 'latino', 'latinx', 'mexican-american', 'latino/hispanic',  'mexican', 'mexico', 'mexican american', 'latin'],\n",
    "        'asian' : ['asian', 'asian american', 'south asian', 'asian-american', 'korean', 'indian american', 'vietnamese', 'east asian', 'asian indian', 'asian woman', 'filipino', 'filipina', 'indian', 'chinese'],\n",
    "        'middle eastern' : ['middle eastern', 'arab', 'pakistani'],\n",
    "        'native' : ['native american', 'native', 'indigenous']\n",
    "    }\n",
    "    eth = str(eth).lower().lstrip().rstrip()\n",
    "    \n",
    "    for k,v in eth_dct.items():\n",
    "        if eth in v:\n",
    "            return k\n",
    "    return 'unknown'\n",
    "\n",
    "d['ethnicity'] = d['ethnicity'].apply(clean_ethnicity)"
   ]
  },
  {
   "cell_type": "code",
   "execution_count": 20,
   "id": "4dfcb132-a074-41a3-98c5-0bd91001ca78",
   "metadata": {},
   "outputs": [],
   "source": [
    "d['avg_rsu'] = d['avg_rsu'].apply(clean_wage)"
   ]
  },
  {
   "cell_type": "code",
   "execution_count": 21,
   "id": "dcac0a1d-cd2a-4d73-b73c-96d5609138bd",
   "metadata": {},
   "outputs": [],
   "source": [
    "def clean_mat_leave(mat):\n",
    "    mat_dct = {\n",
    "        np.nan : ['none', 'not sure', 'unsure','no', 'no idea', '?', 'idk', 'unknown', 'n/a', '-', \"don't know\", '0'],\n",
    "        0.5 : ['2 weeks'],\n",
    "        1 : ['1', '1 month'],\n",
    "        1.5 : ['6 weeks', '1.5'],\n",
    "        2 : ['2', '2 months', '8 weeks'],\n",
    "        3 : ['3', '3 months', '12 weeks'],\n",
    "        4 : ['4', '4 months', '16 weeks'],\n",
    "        5 : ['5', '5 months', '20 weeks'],\n",
    "        6 : ['6', '6 months', '24 weeks'],\n",
    "        float('inf') : ['unlimited']\n",
    "    }\n",
    "    mat = str(mat).lower().lstrip().rstrip()\n",
    "    for k,v in mat_dct.items():\n",
    "        if mat in v:\n",
    "            return k\n",
    "    return 'unknown'\n",
    "\n",
    "d['maternity_leave_months'] = d['maternity_leave_months'].apply(clean_mat_leave)"
   ]
  },
  {
   "cell_type": "code",
   "execution_count": 22,
   "id": "1d4d2570-2ec8-471c-865b-3ea916b95735",
   "metadata": {},
   "outputs": [],
   "source": [
    "def clean_industry(ind):\n",
    "    ind_dct = {\n",
    "        'tech' : ['tech'],\n",
    "        'finance' : ['fin tech', 'finance', 'fintech', 'financial services'],\n",
    "        'heath care' : ['healthcare', 'health care', 'HospTechalTechy', 'healthcare tech'],\n",
    "        'non profit' : ['nonproftech', 'non proftech', 'non profit']\n",
    "    }\n",
    "    ind = str(ind).lower().lstrip().rstrip()\n",
    "    for k,v in ind_dct.items():\n",
    "        if ind in v:\n",
    "            return k\n",
    "    return ind\n",
    "\n",
    "d['Industry'] = d['Industry'].apply(clean_industry)"
   ]
  },
  {
   "cell_type": "markdown",
   "id": "f0d7980d-b6f7-4e7b-9256-b412d9c5f938",
   "metadata": {},
   "source": [
    "## Analysis / Visualization"
   ]
  },
  {
   "cell_type": "markdown",
   "id": "61725d07-eb59-4ae4-8713-3a9b21f81dc4",
   "metadata": {},
   "source": [
    "Questions to answer: \n",
    "- convert wages, signing bonus, rsu to usd via currency\n",
    "- average wages per ethnic groups\n",
    "- average wages per gender\n",
    "- What is the average income per years of experience\n",
    "- what is the average income per age group\n",
    "- which industries have the highest average salary per yoe\n",
    "- which locations pay better for same positions\n",
    "- which organizations pay the most\n",
    "- how much does level of education translate to income, "
   ]
  },
  {
   "cell_type": "code",
   "execution_count": 48,
   "id": "69a0a9bc-b9e6-4ec6-80f3-4e059218c47a",
   "metadata": {},
   "outputs": [
    {
     "data": {
      "text/plain": [
       "Index(['timestamp', 'age_range', 'yoe', 'Industry', 'job_title', 'org',\n",
       "       'max_edu', 'loc_city', 'country', 'annual_wage', 'bonus', 'avg_rsu',\n",
       "       'signing_bonus', 'currency', 'vacation_days_yearly', 'sick_days_yearly',\n",
       "       'days_per_week_in_office', 'open_wage_discussions',\n",
       "       'maternity_leave_months', 'gender', 'ethnicity'],\n",
       "      dtype='object')"
      ]
     },
     "execution_count": 48,
     "metadata": {},
     "output_type": "execute_result"
    }
   ],
   "source": [
    "d.columns"
   ]
  },
  {
   "cell_type": "code",
   "execution_count": 53,
   "id": "d81703ba-a34b-44d9-93e4-a963d41f7fe0",
   "metadata": {},
   "outputs": [
    {
     "data": {
      "text/plain": [
       "2"
      ]
     },
     "execution_count": 53,
     "metadata": {},
     "output_type": "execute_result"
    }
   ],
   "source": [
    "len(str(22))"
   ]
  },
  {
   "cell_type": "code",
   "execution_count": 54,
   "id": "5d7b2284-c479-45aa-bcab-28635446a1a5",
   "metadata": {},
   "outputs": [
    {
     "data": {
      "text/plain": [
       "1"
      ]
     },
     "execution_count": 54,
     "metadata": {},
     "output_type": "execute_result"
    }
   ],
   "source": [
    "len(set(str(22)))"
   ]
  },
  {
   "cell_type": "code",
   "execution_count": null,
   "id": "a96de663-4d0f-4a8b-a4f8-019a142fc728",
   "metadata": {},
   "outputs": [],
   "source": []
  },
  {
   "cell_type": "code",
   "execution_count": null,
   "id": "d4ec940d-b7a6-4ca2-831e-7c5820e5082b",
   "metadata": {},
   "outputs": [],
   "source": []
  },
  {
   "cell_type": "code",
   "execution_count": 47,
   "id": "2339aa78-cf50-453a-9a32-9a77fef9baf7",
   "metadata": {},
   "outputs": [
    {
     "data": {
      "text/html": [
       "<div>\n",
       "<style scoped>\n",
       "    .dataframe tbody tr th:only-of-type {\n",
       "        vertical-align: middle;\n",
       "    }\n",
       "\n",
       "    .dataframe tbody tr th {\n",
       "        vertical-align: top;\n",
       "    }\n",
       "\n",
       "    .dataframe thead th {\n",
       "        text-align: right;\n",
       "    }\n",
       "</style>\n",
       "<table border=\"1\" class=\"dataframe\">\n",
       "  <thead>\n",
       "    <tr style=\"text-align: right;\">\n",
       "      <th></th>\n",
       "      <th>timestamp</th>\n",
       "      <th>age_range</th>\n",
       "      <th>yoe</th>\n",
       "      <th>Industry</th>\n",
       "      <th>job_title</th>\n",
       "      <th>org</th>\n",
       "      <th>max_edu</th>\n",
       "      <th>loc_city</th>\n",
       "      <th>country</th>\n",
       "      <th>annual_wage</th>\n",
       "      <th>...</th>\n",
       "      <th>avg_rsu</th>\n",
       "      <th>signing_bonus</th>\n",
       "      <th>currency</th>\n",
       "      <th>vacation_days_yearly</th>\n",
       "      <th>sick_days_yearly</th>\n",
       "      <th>days_per_week_in_office</th>\n",
       "      <th>open_wage_discussions</th>\n",
       "      <th>maternity_leave_months</th>\n",
       "      <th>gender</th>\n",
       "      <th>ethnicity</th>\n",
       "    </tr>\n",
       "  </thead>\n",
       "  <tbody>\n",
       "    <tr>\n",
       "      <th>0</th>\n",
       "      <td>12/5/2021 11:57:44</td>\n",
       "      <td>26-29</td>\n",
       "      <td>6</td>\n",
       "      <td>heath care</td>\n",
       "      <td>nurse</td>\n",
       "      <td>penn medicine</td>\n",
       "      <td>Bachelor's Degree</td>\n",
       "      <td>philadelphia</td>\n",
       "      <td>usa</td>\n",
       "      <td>85000</td>\n",
       "      <td>...</td>\n",
       "      <td>0.0</td>\n",
       "      <td>NaN</td>\n",
       "      <td>usd</td>\n",
       "      <td>10</td>\n",
       "      <td>4</td>\n",
       "      <td>3</td>\n",
       "      <td>yes</td>\n",
       "      <td>1</td>\n",
       "      <td>female</td>\n",
       "      <td>unknown</td>\n",
       "    </tr>\n",
       "    <tr>\n",
       "      <th>1</th>\n",
       "      <td>12/6/2021 19:31:12</td>\n",
       "      <td>30-33</td>\n",
       "      <td>13</td>\n",
       "      <td>retail banking</td>\n",
       "      <td>financial center manager</td>\n",
       "      <td>bank of america</td>\n",
       "      <td>Some College credit, no degree</td>\n",
       "      <td>san diego</td>\n",
       "      <td>usa</td>\n",
       "      <td>71000</td>\n",
       "      <td>...</td>\n",
       "      <td>NaN</td>\n",
       "      <td>NaN</td>\n",
       "      <td>usd</td>\n",
       "      <td>15</td>\n",
       "      <td>10</td>\n",
       "      <td>None, I work fully remote</td>\n",
       "      <td>no</td>\n",
       "      <td>1.5</td>\n",
       "      <td>female</td>\n",
       "      <td>unknown</td>\n",
       "    </tr>\n",
       "    <tr>\n",
       "      <th>2</th>\n",
       "      <td>12/6/2021 19:32:36</td>\n",
       "      <td>22-25</td>\n",
       "      <td>1</td>\n",
       "      <td>finance</td>\n",
       "      <td>sdr</td>\n",
       "      <td>NaN</td>\n",
       "      <td>Bachelor's Degree</td>\n",
       "      <td>san francisco california</td>\n",
       "      <td>usa</td>\n",
       "      <td>97000</td>\n",
       "      <td>...</td>\n",
       "      <td>10000.0</td>\n",
       "      <td>NaN</td>\n",
       "      <td>usd</td>\n",
       "      <td>30</td>\n",
       "      <td>15</td>\n",
       "      <td>None, I work fully remote</td>\n",
       "      <td>yes</td>\n",
       "      <td>0.5</td>\n",
       "      <td>female</td>\n",
       "      <td>unknown</td>\n",
       "    </tr>\n",
       "    <tr>\n",
       "      <th>3</th>\n",
       "      <td>12/6/2021 19:34:44</td>\n",
       "      <td>22-25</td>\n",
       "      <td>2</td>\n",
       "      <td>marketing/data/business</td>\n",
       "      <td>associate business system analyst</td>\n",
       "      <td>epsilon</td>\n",
       "      <td>Bachelor's Degree</td>\n",
       "      <td>dallas</td>\n",
       "      <td>usa</td>\n",
       "      <td>57000</td>\n",
       "      <td>...</td>\n",
       "      <td>NaN</td>\n",
       "      <td>NaN</td>\n",
       "      <td>usd</td>\n",
       "      <td>21</td>\n",
       "      <td>14</td>\n",
       "      <td>None, I work fully remote</td>\n",
       "      <td>yes</td>\n",
       "      <td>unknown</td>\n",
       "      <td>female</td>\n",
       "      <td>unknown</td>\n",
       "    </tr>\n",
       "    <tr>\n",
       "      <th>4</th>\n",
       "      <td>12/6/2021 19:39:18</td>\n",
       "      <td>22-25</td>\n",
       "      <td>1</td>\n",
       "      <td>retail</td>\n",
       "      <td>swe</td>\n",
       "      <td>target</td>\n",
       "      <td>Bachelor's Degree</td>\n",
       "      <td>minneapolis</td>\n",
       "      <td>usa</td>\n",
       "      <td>80000</td>\n",
       "      <td>...</td>\n",
       "      <td>NaN</td>\n",
       "      <td>NaN</td>\n",
       "      <td>usd</td>\n",
       "      <td>15</td>\n",
       "      <td>unlim</td>\n",
       "      <td>None, I work fully remote</td>\n",
       "      <td>yes</td>\n",
       "      <td>unknown</td>\n",
       "      <td>female</td>\n",
       "      <td>unknown</td>\n",
       "    </tr>\n",
       "  </tbody>\n",
       "</table>\n",
       "<p>5 rows × 21 columns</p>\n",
       "</div>"
      ],
      "text/plain": [
       "            timestamp age_range yoe                 Industry  \\\n",
       "0  12/5/2021 11:57:44     26-29   6               heath care   \n",
       "1  12/6/2021 19:31:12     30-33  13           retail banking   \n",
       "2  12/6/2021 19:32:36     22-25   1                  finance   \n",
       "3  12/6/2021 19:34:44     22-25   2  marketing/data/business   \n",
       "4  12/6/2021 19:39:18     22-25   1                   retail   \n",
       "\n",
       "                           job_title              org  \\\n",
       "0                              nurse    penn medicine   \n",
       "1           financial center manager  bank of america   \n",
       "2                                sdr              NaN   \n",
       "3  associate business system analyst          epsilon   \n",
       "4                                swe           target   \n",
       "\n",
       "                          max_edu                  loc_city country  \\\n",
       "0               Bachelor's Degree              philadelphia     usa   \n",
       "1  Some College credit, no degree                 san diego     usa   \n",
       "2               Bachelor's Degree  san francisco california     usa   \n",
       "3               Bachelor's Degree                    dallas     usa   \n",
       "4               Bachelor's Degree               minneapolis     usa   \n",
       "\n",
       "  annual_wage  ...  avg_rsu  signing_bonus  currency vacation_days_yearly  \\\n",
       "0       85000  ...      0.0            NaN       usd                   10   \n",
       "1       71000  ...      NaN            NaN       usd                   15   \n",
       "2       97000  ...  10000.0            NaN       usd                   30   \n",
       "3       57000  ...      NaN            NaN       usd                   21   \n",
       "4       80000  ...      NaN            NaN       usd                   15   \n",
       "\n",
       "  sick_days_yearly    days_per_week_in_office open_wage_discussions  \\\n",
       "0                4                          3                   yes   \n",
       "1               10  None, I work fully remote                    no   \n",
       "2               15  None, I work fully remote                   yes   \n",
       "3               14  None, I work fully remote                   yes   \n",
       "4            unlim  None, I work fully remote                   yes   \n",
       "\n",
       "  maternity_leave_months  gender ethnicity  \n",
       "0                      1  female   unknown  \n",
       "1                    1.5  female   unknown  \n",
       "2                    0.5  female   unknown  \n",
       "3                unknown  female   unknown  \n",
       "4                unknown  female   unknown  \n",
       "\n",
       "[5 rows x 21 columns]"
      ]
     },
     "execution_count": 47,
     "metadata": {},
     "output_type": "execute_result"
    }
   ],
   "source": [
    "d.head()"
   ]
  },
  {
   "cell_type": "code",
   "execution_count": null,
   "id": "3f97ab92-5e69-437f-840f-9f962d27c5bd",
   "metadata": {},
   "outputs": [],
   "source": []
  },
  {
   "cell_type": "code",
   "execution_count": 27,
   "id": "1a3982d1-c82d-417e-a24d-032af13bae45",
   "metadata": {},
   "outputs": [],
   "source": [
    "us_df = d[d['currency'] == 'usd'].copy()"
   ]
  },
  {
   "cell_type": "code",
   "execution_count": 25,
   "id": "f98fde04-9078-40df-a083-bdf48bf36eec",
   "metadata": {},
   "outputs": [],
   "source": [
    "def generate_hist():\n",
    "    pass"
   ]
  },
  {
   "cell_type": "code",
   "execution_count": 46,
   "id": "cf0d1cd6-dd21-4867-b012-817a5d7c1a15",
   "metadata": {},
   "outputs": [
    {
     "data": {
      "image/png": "[encoded data removed]",
      "text/plain": [
       "<Figure size 432x288 with 1 Axes>"
      ]
     },
     "metadata": {},
     "output_type": "display_data"
    }
   ],
   "source": [
    "us_df[['annual_wage']].dropna().annual_wage.value_counts().reset_index().plot(x = 'index', y = 'annual_wage', kind = 'line')\n",
    "plt.yscale('log')\n",
    "plt.xscale('log')"
   ]
  },
  {
   "cell_type": "code",
   "execution_count": null,
   "id": "04d307ca-9365-4adf-ae7a-a4a7d8eb0eae",
   "metadata": {},
   "outputs": [],
   "source": []
  },
  {
   "cell_type": "code",
   "execution_count": 68,
   "id": "7bf66e6c-3121-4f35-bab5-c52406f94349",
   "metadata": {},
   "outputs": [
    {
     "name": "stdout",
     "output_type": "stream",
     "text": [
      "58+ nan (52, 21)\n"
     ]
    }
   ],
   "source": [
    "for age, d in d.groupby('age_range'):\n",
    "    avg_wage = d['annual_wage'].values.mean()\n",
    "    print(age, avg_wage, d.shape)"
   ]
  },
  {
   "cell_type": "code",
   "execution_count": 71,
   "id": "7a1cc396-6c09-4986-9932-859f4a9ad8fd",
   "metadata": {},
   "outputs": [
    {
     "name": "stdout",
     "output_type": "stream",
     "text": [
      "1 400494160.0 (5, 21)\n",
      "2 nan (2, 21)\n",
      "3 nan (1, 21)\n",
      "5 81000.0 (1, 21)\n",
      "7 58000.0 (1, 21)\n",
      "10 nan (2, 21)\n",
      "13 20000.0 (1, 21)\n",
      "15 127000.0 (4, 21)\n",
      "16 95000.0 (2, 21)\n",
      "18 40000.0 (1, 21)\n",
      "20+ 172515.65625 (32, 21)\n"
     ]
    }
   ],
   "source": [
    "for age, d in d.groupby('yoe'):\n",
    "    avg_wage = d['annual_wage'].values.mean()\n",
    "    print(age, avg_wage, d.shape)"
   ]
  },
  {
   "cell_type": "code",
   "execution_count": null,
   "id": "4d17ba3b-c8a8-49de-bdd4-205ad11e0fb0",
   "metadata": {},
   "outputs": [],
   "source": []
  },
  {
   "cell_type": "code",
   "execution_count": 70,
   "id": "4ff3289e-48d7-4697-983f-2e95e3e431dd",
   "metadata": {},
   "outputs": [
    {
     "data": {
      "text/html": [
       "<div>\n",
       "<style scoped>\n",
       "    .dataframe tbody tr th:only-of-type {\n",
       "        vertical-align: middle;\n",
       "    }\n",
       "\n",
       "    .dataframe tbody tr th {\n",
       "        vertical-align: top;\n",
       "    }\n",
       "\n",
       "    .dataframe thead th {\n",
       "        text-align: right;\n",
       "    }\n",
       "</style>\n",
       "<table border=\"1\" class=\"dataframe\">\n",
       "  <thead>\n",
       "    <tr style=\"text-align: right;\">\n",
       "      <th></th>\n",
       "      <th>timestamp</th>\n",
       "      <th>age_range</th>\n",
       "      <th>yoe</th>\n",
       "      <th>Industry</th>\n",
       "      <th>job_title</th>\n",
       "      <th>org</th>\n",
       "      <th>max_edu</th>\n",
       "      <th>loc_city</th>\n",
       "      <th>country</th>\n",
       "      <th>annual_wage</th>\n",
       "      <th>...</th>\n",
       "      <th>avg_rsu</th>\n",
       "      <th>signing_bonus</th>\n",
       "      <th>currency</th>\n",
       "      <th>vacation_days_yearly</th>\n",
       "      <th>sick_days_yearly</th>\n",
       "      <th>days_per_week_in_office</th>\n",
       "      <th>open_wage_discussions</th>\n",
       "      <th>maternity_leave_months</th>\n",
       "      <th>gender</th>\n",
       "      <th>ethnicity</th>\n",
       "    </tr>\n",
       "  </thead>\n",
       "  <tbody>\n",
       "    <tr>\n",
       "      <th>209</th>\n",
       "      <td>12/6/2021 21:16:24</td>\n",
       "      <td>58+</td>\n",
       "      <td>20+</td>\n",
       "      <td>medical devices</td>\n",
       "      <td>biostatistician</td>\n",
       "      <td>johnson and johnson</td>\n",
       "      <td>Master's Degree</td>\n",
       "      <td>chicago</td>\n",
       "      <td>usa</td>\n",
       "      <td>196000</td>\n",
       "      <td>...</td>\n",
       "      <td>0.0</td>\n",
       "      <td>0.0</td>\n",
       "      <td>usd</td>\n",
       "      <td>15</td>\n",
       "      <td>NaN</td>\n",
       "      <td>5</td>\n",
       "      <td>no</td>\n",
       "      <td>NaN</td>\n",
       "      <td>female</td>\n",
       "      <td>unknown</td>\n",
       "    </tr>\n",
       "    <tr>\n",
       "      <th>319</th>\n",
       "      <td>12/6/2021 21:54:12</td>\n",
       "      <td>58+</td>\n",
       "      <td>20+</td>\n",
       "      <td>heath care</td>\n",
       "      <td>nurse</td>\n",
       "      <td>kaiser permanente</td>\n",
       "      <td>Associate Degree</td>\n",
       "      <td>oakland</td>\n",
       "      <td>usa</td>\n",
       "      <td>200000</td>\n",
       "      <td>...</td>\n",
       "      <td>NaN</td>\n",
       "      <td>NaN</td>\n",
       "      <td>NaN</td>\n",
       "      <td>25</td>\n",
       "      <td>12</td>\n",
       "      <td>5</td>\n",
       "      <td>no</td>\n",
       "      <td>3</td>\n",
       "      <td>female</td>\n",
       "      <td>unknown</td>\n",
       "    </tr>\n",
       "    <tr>\n",
       "      <th>549</th>\n",
       "      <td>12/6/2021 22:27:05</td>\n",
       "      <td>58+</td>\n",
       "      <td>15</td>\n",
       "      <td>education</td>\n",
       "      <td>public information officer</td>\n",
       "      <td>large school district in new jersey</td>\n",
       "      <td>Master's Degree</td>\n",
       "      <td>newark</td>\n",
       "      <td>usa</td>\n",
       "      <td>85000</td>\n",
       "      <td>...</td>\n",
       "      <td>NaN</td>\n",
       "      <td>NaN</td>\n",
       "      <td>usd</td>\n",
       "      <td>30</td>\n",
       "      <td>12</td>\n",
       "      <td>5</td>\n",
       "      <td>no</td>\n",
       "      <td>unknown</td>\n",
       "      <td>female</td>\n",
       "      <td>unknown</td>\n",
       "    </tr>\n",
       "    <tr>\n",
       "      <th>639</th>\n",
       "      <td>12/6/2021 22:36:15</td>\n",
       "      <td>58+</td>\n",
       "      <td>20+</td>\n",
       "      <td>hvac services</td>\n",
       "      <td>controller</td>\n",
       "      <td>NaN</td>\n",
       "      <td>Bachelor's Degree</td>\n",
       "      <td>milwaukee wi</td>\n",
       "      <td>usa</td>\n",
       "      <td>112000</td>\n",
       "      <td>...</td>\n",
       "      <td>NaN</td>\n",
       "      <td>NaN</td>\n",
       "      <td>usd</td>\n",
       "      <td>20</td>\n",
       "      <td>not tracked, whatever i need</td>\n",
       "      <td>5</td>\n",
       "      <td>no</td>\n",
       "      <td>unknown</td>\n",
       "      <td>female</td>\n",
       "      <td>unknown</td>\n",
       "    </tr>\n",
       "    <tr>\n",
       "      <th>1322</th>\n",
       "      <td>12/6/2021 23:30:06</td>\n",
       "      <td>58+</td>\n",
       "      <td>1</td>\n",
       "      <td>heath care</td>\n",
       "      <td>member service advisor</td>\n",
       "      <td>s</td>\n",
       "      <td>Bachelor's Degree</td>\n",
       "      <td>austin</td>\n",
       "      <td>usa</td>\n",
       "      <td>37000</td>\n",
       "      <td>...</td>\n",
       "      <td>NaN</td>\n",
       "      <td>0.0</td>\n",
       "      <td>usd</td>\n",
       "      <td>unlim</td>\n",
       "      <td>unlim</td>\n",
       "      <td>NaN</td>\n",
       "      <td>no</td>\n",
       "      <td>unknown</td>\n",
       "      <td>female</td>\n",
       "      <td>unknown</td>\n",
       "    </tr>\n",
       "  </tbody>\n",
       "</table>\n",
       "<p>5 rows × 21 columns</p>\n",
       "</div>"
      ],
      "text/plain": [
       "               timestamp age_range  yoe         Industry  \\\n",
       "209   12/6/2021 21:16:24       58+  20+  medical devices   \n",
       "319   12/6/2021 21:54:12       58+  20+       heath care   \n",
       "549   12/6/2021 22:27:05       58+   15        education   \n",
       "639   12/6/2021 22:36:15       58+  20+    hvac services   \n",
       "1322  12/6/2021 23:30:06       58+    1       heath care   \n",
       "\n",
       "                       job_title                                  org  \\\n",
       "209              biostatistician                  johnson and johnson   \n",
       "319                        nurse                    kaiser permanente   \n",
       "549   public information officer  large school district in new jersey   \n",
       "639                   controller                                  NaN   \n",
       "1322      member service advisor                                    s   \n",
       "\n",
       "                max_edu      loc_city country annual_wage  ...  avg_rsu  \\\n",
       "209     Master's Degree       chicago     usa      196000  ...      0.0   \n",
       "319    Associate Degree       oakland     usa      200000  ...      NaN   \n",
       "549     Master's Degree        newark     usa       85000  ...      NaN   \n",
       "639   Bachelor's Degree  milwaukee wi     usa      112000  ...      NaN   \n",
       "1322  Bachelor's Degree        austin     usa       37000  ...      NaN   \n",
       "\n",
       "      signing_bonus  currency vacation_days_yearly  \\\n",
       "209             0.0       usd                   15   \n",
       "319             NaN       NaN                   25   \n",
       "549             NaN       usd                   30   \n",
       "639             NaN       usd                   20   \n",
       "1322            0.0       usd                unlim   \n",
       "\n",
       "                  sick_days_yearly days_per_week_in_office  \\\n",
       "209                            NaN                       5   \n",
       "319                             12                       5   \n",
       "549                             12                       5   \n",
       "639   not tracked, whatever i need                       5   \n",
       "1322                         unlim                     NaN   \n",
       "\n",
       "     open_wage_discussions maternity_leave_months  gender ethnicity  \n",
       "209                     no                    NaN  female   unknown  \n",
       "319                     no                      3  female   unknown  \n",
       "549                     no                unknown  female   unknown  \n",
       "639                     no                unknown  female   unknown  \n",
       "1322                    no                unknown  female   unknown  \n",
       "\n",
       "[5 rows x 21 columns]"
      ]
     },
     "execution_count": 70,
     "metadata": {},
     "output_type": "execute_result"
    }
   ],
   "source": [
    "d.head()"
   ]
  },
  {
   "cell_type": "code",
   "execution_count": null,
   "id": "7e9ede17-e2cb-4506-bd8a-4ea5a9457d1d",
   "metadata": {},
   "outputs": [],
   "source": []
  },
  {
   "cell_type": "code",
   "execution_count": null,
   "id": "3012ac6e-06d4-4831-8fe6-452fb7019316",
   "metadata": {},
   "outputs": [],
   "source": []
  },
  {
   "cell_type": "code",
   "execution_count": null,
   "id": "14a61d38-6971-4507-a021-767701dbe94f",
   "metadata": {},
   "outputs": [],
   "source": []
  },
  {
   "cell_type": "code",
   "execution_count": null,
   "id": "63d6c99d-f05b-455d-9f80-a7a56ff87578",
   "metadata": {},
   "outputs": [],
   "source": []
  },
  {
   "cell_type": "code",
   "execution_count": null,
   "id": "48a7d5ac-dfb5-405c-a3aa-ee92d72e668a",
   "metadata": {},
   "outputs": [],
   "source": []
  },
  {
   "cell_type": "code",
   "execution_count": null,
   "id": "80a8c313-a09e-49ba-84a6-fb49f7cc6f5c",
   "metadata": {},
   "outputs": [],
   "source": []
  },
  {
   "cell_type": "code",
   "execution_count": 5,
   "id": "8f713258-26d6-49df-9382-96256a9e3060",
   "metadata": {},
   "outputs": [],
   "source": [
    "d['is_ds'] = d['job_title'].apply(lambda x : [True if str(x).lower() in ['data', 'science', 'scientist', 'research'] else False][0])"
   ]
  },
  {
   "cell_type": "code",
   "execution_count": 32,
   "id": "e20aa8b5-b817-455a-962d-13b2f5d90474",
   "metadata": {},
   "outputs": [
    {
     "data": {
      "text/plain": [
       "140000"
      ]
     },
     "execution_count": 32,
     "metadata": {},
     "output_type": "execute_result"
    }
   ],
   "source": [
    "d[d['is_ds']==True].parsed_annual_wage.max()"
   ]
  },
  {
   "cell_type": "code",
   "execution_count": null,
   "id": "24f006c3-2254-48a2-a9c5-c82cc0825ec0",
   "metadata": {},
   "outputs": [],
   "source": []
  },
  {
   "cell_type": "code",
   "execution_count": null,
   "id": "46a68c06-f4c7-475e-9d2e-5acccbb93492",
   "metadata": {},
   "outputs": [],
   "source": []
  }
 ],
 "metadata": {
  "kernelspec": {
   "display_name": "Python 3",
   "language": "python",
   "name": "python3"
  },
  "language_info": {
   "codemirror_mode": {
    "name": "ipython",
    "version": 3
   },
   "file_extension": ".py",
   "mimetype": "text/x-python",
   "name": "python",
   "nbconvert_exporter": "python",
   "pygments_lexer": "ipython3",
   "version": "3.8.8"
  }
 },
 "nbformat": 4,
 "nbformat_minor": 5
}
