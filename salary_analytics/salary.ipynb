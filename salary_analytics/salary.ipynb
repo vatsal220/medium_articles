{
 "cells": [
  {
   "cell_type": "markdown",
   "id": "5bcbc81a-7ce1-4eb9-a60f-b306b8bf7689",
   "metadata": {},
   "source": [
    "# Salary Analytics"
   ]
  },
  {
   "cell_type": "markdown",
   "id": "171ad39c-1070-494d-8af8-9f5ca5e45231",
   "metadata": {},
   "source": [
    "This repository consists of conducting analysis on publicaly submitted salaries. The data was gathered and inspired by [Christen Nino De Guzman](https://www.linkedin.com/in/christenndg/) on her linkedin post about wage transparency. You can find the post [here](https://www.linkedin.com/feed/update/urn:li:activity:6883141659610234880/) and the associated csv [here](https://docs.google.com/spreadsheets/d/19h0WT9Xjf9ncNmJDWpd8fzz7YnB37nemDnxKSO0EE8o/edit#gid=1664289965). She advocated this on her linkedin community and it gained a lot of traction, nearly 60,000 people have anonomously submitted their total compensation breakdown, gender, age range, etc. The purpose of this article is to strictly do an analysis on the data retried. The article will consist of a few different segments as outlined below:\n",
    "\n",
    "**Table of Contents**\n",
    "- Data Retrieval\n",
    "- Data Cleaning\n",
    "- Analysis & Visualization\n",
    "- Modelling\n",
    "- Concluding Remarks\n",
    "- Resources"
   ]
  },
  {
   "cell_type": "code",
   "execution_count": 1,
   "id": "e71cfec5-776f-4214-9b38-cbca22cc8398",
   "metadata": {},
   "outputs": [],
   "source": [
    "import pandas as pd\n",
    "import numpy as np\n",
    "import seaborn as sns\n",
    "import matplotlib.pyplot as plt\n",
    "import plotly as pt\n",
    "\n",
    "sns.set()"
   ]
  },
  {
   "cell_type": "code",
   "execution_count": 2,
   "id": "65e9a920-b591-47a0-bc5f-644f8d87ee71",
   "metadata": {},
   "outputs": [],
   "source": [
    "# constants\n",
    "# source = https://docs.google.com/spreadsheets/d/19h0WT9Xjf9ncNmJDWpd8fzz7YnB37nemDnxKSO0EE8o/edit#gid=1664289965\n",
    "file_path = './data/anon_salary.csv'"
   ]
  },
  {
   "cell_type": "markdown",
   "id": "3608f447-0344-4d58-bac6-2738e43dbbb7",
   "metadata": {},
   "source": [
    "## Import Data"
   ]
  },
  {
   "cell_type": "code",
   "execution_count": 3,
   "id": "8379a47a-ca21-45f9-b1da-b803c82b4cee",
   "metadata": {},
   "outputs": [
    {
     "data": {
      "text/plain": [
       "(59688, 22)"
      ]
     },
     "execution_count": 3,
     "metadata": {},
     "output_type": "execute_result"
    }
   ],
   "source": [
    "d = pd.read_csv(file_path)\n",
    "d.shape"
   ]
  },
  {
   "cell_type": "markdown",
   "id": "e43a4bcb-0936-443e-aa9a-ae9a1072d002",
   "metadata": {},
   "source": [
    "## Clean Data"
   ]
  },
  {
   "cell_type": "markdown",
   "id": "70ee2822-abe2-48da-8ae5-6c00c6b782a1",
   "metadata": {},
   "source": [
    "During the cleaning components, we're not going to really aim for perfection as there's just too much data to parse through manually and too many individual edge cases which would act as outliers. We're aiming to clean the masses of the results that users have submitted. So the cleaning portion will most definetly not be perfect, but when dealing with a large volume of user submitted data without any options / restrictions in place for the submissions, it becomes almost impossible to have **perfectly** cleaned data. In this section we'll begin by renaming the columns to remove any fluf and wierd wording in them."
   ]
  },
  {
   "cell_type": "code",
   "execution_count": 4,
   "id": "d5f6c499-82b7-4c66-a3de-2a4f3b022ecf",
   "metadata": {},
   "outputs": [],
   "source": [
    "rename_cols = {\n",
    "    'Timestamp' : 'timestamp',\n",
    "    'Country' : 'country',\n",
    "    'Age Range' : 'age_range',\n",
    "    'Highest Level of Education Received' : 'max_edu',\n",
    "    'Company Name' : 'org',\n",
    "    'Years of Experience' : 'yoe',\n",
    "    'Closest Major City and State (e.g. Santa Clara, CA)' : 'loc_city',\n",
    "    'Annual Base Salary (if hourly, please convert to annual)' : 'annual_wage',\n",
    "    'How many vacation days are you given per year?' : 'vacation_days_yearly',\n",
    "    'How many sick days are you given per year?' : 'sick_days_yearly',\n",
    "    'Do you openly discuss salary with your colleagues?' : 'open_wage_discussions',\n",
    "    'How many months Maternity or Paternity does your company offer?' : 'maternity_leave_months',\n",
    "    'Diverse Identity (Optional)' : 'ethnicity',\n",
    "    'Currency (USD, CAD, etc)' : 'currency',\n",
    "    'Gender (optional)' : 'gender',\n",
    "    'Annual Bonus' : 'bonus',\n",
    "    'Annual Average of RSUs' : 'avg_rsu',\n",
    "    'Signing Bonus (if none, leave blank)' : 'signing_bonus',\n",
    "    'Job Title' : 'job_title',\n",
    "    'How many days per week are you required to work onsite/in the office?' : 'days_per_week_in_office'\n",
    "}\n",
    "\n",
    "d.rename(columns = rename_cols, inplace = True)\n",
    "d.drop(columns = ['Unnamed: 20'], inplace = True)"
   ]
  },
  {
   "cell_type": "code",
   "execution_count": 5,
   "id": "1d87618b-0fed-42cb-a2ed-8a8a3a120de7",
   "metadata": {},
   "outputs": [],
   "source": [
    "curr_dct = {\n",
    "    # I'm aware that dollars and $ can be across many different currencies, I'm making a generalized assumption\n",
    "    'usd' : ['us dollar', 'us dollars', 'usda', 'usdp', 'dollars', '$', 'usa', 'uds', 'ysd', 'uss'],  \n",
    "    'cad' : ['can', 'canadian', 'caf', 'canada'],\n",
    "    'eur' : ['euro', 'euros', 'eu',],\n",
    "    'gbp' : ['pound', 'pound sterling', 'pounds', 'british pounds', 'british pound', 'gbp £']\n",
    "}\n",
    "\n",
    "def clean_currency(cur, curr_dct = curr_dct):\n",
    "    '''\n",
    "    Will clean the currency column \n",
    "    '''\n",
    "    cur = str(cur).lstrip().rstrip().strip().lower()\n",
    "    for k,v in curr_dct.items():\n",
    "        if cur in v:\n",
    "            return k\n",
    "\n",
    "    if cur == 'nan' or cur == 'n/a' or cur == '-':\n",
    "        return np.nan\n",
    "    return cur"
   ]
  },
  {
   "cell_type": "code",
   "execution_count": 6,
   "id": "19c9f5be-1de1-4489-a509-0367a64ee366",
   "metadata": {},
   "outputs": [],
   "source": [
    "def clean_wage(wage):\n",
    "    '''\n",
    "    Will clean the user input wage to be an integer\n",
    "    '''\n",
    "    wage=str(wage).lower()\n",
    "    wage = wage.replace('$','').replace(' ', '').replace(',', '').replace('cad', '').replace('usd','').replace('()','').replace('k', '000')\n",
    "    try:\n",
    "        return int(wage)\n",
    "    except:\n",
    "        return np.nan"
   ]
  },
  {
   "cell_type": "code",
   "execution_count": 7,
   "id": "d84bab1e-d9e5-42bb-8c4e-e748476b1b45",
   "metadata": {},
   "outputs": [],
   "source": [
    "d['annual_wage'] = d['annual_wage'].apply(lambda x : clean_wage(x)).astype(float)"
   ]
  },
  {
   "cell_type": "code",
   "execution_count": 8,
   "id": "bb97dac3-f20d-418d-8da5-d6d3f4e6d6d7",
   "metadata": {},
   "outputs": [],
   "source": [
    "d['currency'] = d['currency'].apply(lambda x : clean_currency(x))"
   ]
  },
  {
   "cell_type": "code",
   "execution_count": 9,
   "id": "b1216888-83eb-4330-998e-0777b5d1d885",
   "metadata": {},
   "outputs": [
    {
     "data": {
      "text/plain": [
       "Bachelor's Degree                                             36936\n",
       "Master's Degree                                               10082\n",
       "Some College credit, no degree                                 4274\n",
       "Associate Degree                                               1939\n",
       "High School Graduate, Diploma or the equivalent (e.g. GED)     1786\n",
       "Doctorate Degree                                               1205\n",
       "Trade, Technical, Vocational Training                           737\n",
       "Professional Degree                                             731\n",
       "Some High School, No Diploma                                    207\n",
       "No Schooling Completed                                          126\n",
       "Name: max_edu, dtype: int64"
      ]
     },
     "execution_count": 9,
     "metadata": {},
     "output_type": "execute_result"
    }
   ],
   "source": [
    "d['max_edu'].value_counts()"
   ]
  },
  {
   "cell_type": "code",
   "execution_count": 10,
   "id": "4551304a-65e7-48b4-a67c-7b64295b8209",
   "metadata": {},
   "outputs": [],
   "source": [
    "def clean_org(org):\n",
    "    '''\n",
    "    This will clean the organization section. It will return np.nan if the user has not provided\n",
    "    their organization, otherwise it will return the lowered organization passed\n",
    "    '''\n",
    "    \n",
    "    na_list = ['prefer not to say', 'N/a', '-', 'nan', 'anon', 'anonymous', 'Prefer not to say']\n",
    "    if str(org).lower().lstrip().rstrip() in na_list:\n",
    "        return np.nan\n",
    "    return str(org).rstrip().lstrip().lower()\n",
    "\n",
    "d['org'] = d['org'].apply(clean_org)"
   ]
  },
  {
   "cell_type": "code",
   "execution_count": 11,
   "id": "661cc427-e9fc-4f97-b710-627bfd0116bb",
   "metadata": {},
   "outputs": [],
   "source": [
    "def clean_loc_city(city):\n",
    "    city_dct = {\n",
    "        'nyc' : ['new york, ny', 'nyc', 'new york', 'new york city, ny', 'new york city', 'new york, new york', 'ny'],\n",
    "        'la' : ['los angeles, ca', 'los angeles'],\n",
    "        np.nan : ['nan', 'none', '-', 'n/a'],\n",
    "        'toronto' : ['toronto', 'toronto, ontario', 'toronto, canada', 'toronto, on', 'toronto, ca']\n",
    "    }\n",
    "    for k,v in city_dct.items():\n",
    "        if str(city).lower().lstrip().rstrip() in v:\n",
    "            return k\n",
    "    cleaned_city = str(city).split(',')[0]\n",
    "    return cleaned_city.lower().lstrip().rstrip()\n",
    "\n",
    "d['loc_city'] = d['loc_city'].apply(clean_loc_city)"
   ]
  },
  {
   "cell_type": "code",
   "execution_count": 12,
   "id": "d9b7e899-8402-4457-844b-8a10c66f6af9",
   "metadata": {},
   "outputs": [],
   "source": [
    "def clean_country(country):\n",
    "    country_dct = {\n",
    "        'usa' : [\n",
    "            'united stayes', 'united statea', 'united stares', 'united states', 'unites states', 'united state', \n",
    "            'california', 'new york', 'us', 'ny', 'united statws',  'usa', 'united states', 'united states of america',\n",
    "            'america', 'u.s.a.', 'u.s.a', 'u.s', 'u.s.', 'ny', 'united stated', 'los angeles', 'untied states',\n",
    "            'united statss', 'united sates', 'la', 'sacramento', 'ysa'\n",
    "        ],\n",
    "        'canada' : ['canada', 'ca', 'can'],\n",
    "        'united kingdom' : ['united kingdom', 'uk', ''],\n",
    "        np.nan : ['nan', 'n/a', 'none', '-']\n",
    "    }\n",
    "    country = str(country).lower().lstrip().rstrip()\n",
    "    for k,v in country_dct.items():\n",
    "        if country in v:\n",
    "            return k\n",
    "    return country\n",
    "d['country'] = d['country'].apply(clean_country)"
   ]
  },
  {
   "cell_type": "code",
   "execution_count": 13,
   "id": "21d0f5a5-baa9-4a9a-a1c7-8c9c7eb0d08e",
   "metadata": {},
   "outputs": [],
   "source": [
    "def clean_job(job):\n",
    "    job_dct = {\n",
    "        'swe' : ['swe', 'software engineer', ''],\n",
    "        'nurse' : ['rn', 'registered nurse', 'nurse'],\n",
    "        'data scientist' : ['data science', 'data scientist'],\n",
    "        np.nan : ['nan', '-', 'none']\n",
    "    }\n",
    "    job = str(job).lstrip().rstrip().lower()\n",
    "    for k,v in job_dct.items():\n",
    "        if job in v:\n",
    "            return k\n",
    "    return job\n",
    "d['job_title'] = d['job_title'].apply(clean_job)"
   ]
  },
  {
   "cell_type": "code",
   "execution_count": 14,
   "id": "1beba804-e970-4da0-b50f-272cf314fab6",
   "metadata": {},
   "outputs": [],
   "source": [
    "def clean_gender(gender):\n",
    "    gender_dct = {\n",
    "        'female' : ['female'],\n",
    "        'male' : ['male'],\n",
    "        np.nan : ['prefer not to say', 'n/a', '-', \"you shouldn't have included this free text field eh?\"],\n",
    "        'non-binary' : ['non-binary', 'non binary', 'nb', 'nonbinary'],\n",
    "        'trans' : ['trans', 'transgender fem', 'genderqueer, transmasculine', 'trans female', 'trans man', 'trans male']\n",
    "    }\n",
    "    gender = str(gender).lower().lstrip().rstrip()\n",
    "    for k,v in gender_dct.items():\n",
    "        if gender in v:\n",
    "            return k\n",
    "        if 'binary' in gender:\n",
    "            return 'non-binary'\n",
    "    return 'other'\n",
    "d['gender'] = d['gender'].apply(clean_gender)"
   ]
  },
  {
   "cell_type": "code",
   "execution_count": 15,
   "id": "89fa8fd9-6094-4d27-8f17-2788c3472bff",
   "metadata": {},
   "outputs": [],
   "source": [
    "def clean_yoe(yoe):\n",
    "    yoe = str(yoe).lstrip().rstrip()\n",
    "    if yoe == 'nan':\n",
    "        return np.nan\n",
    "    elif yoe == '20+':\n",
    "        return '20+'\n",
    "    else:\n",
    "        try:\n",
    "            return int(yoe)\n",
    "        except:\n",
    "            return yoe\n",
    "d['yoe'] = d['yoe'].apply(clean_yoe)"
   ]
  },
  {
   "cell_type": "code",
   "execution_count": 16,
   "id": "d977e209-135b-4dbe-a091-00167773dbbb",
   "metadata": {},
   "outputs": [],
   "source": [
    "d['signing_bonus'] = d['signing_bonus'].apply(clean_wage)\n",
    "d['bonus'] = d['bonus'].apply(clean_wage)"
   ]
  },
  {
   "cell_type": "code",
   "execution_count": 17,
   "id": "1ebb48b1-4d3f-4c4f-a4c3-288960684ed8",
   "metadata": {},
   "outputs": [],
   "source": [
    "def clean_sick_days(days):\n",
    "    sick_dct = {\n",
    "        'unlim' : ['as many as i want', 'as many as i need', 'infinite', 'unlimited', '🚩unlimited', 'no limit', 'pto', 'unlimited (kind of)', 'unlimited pto', '\"unlimited\"'],\n",
    "        np.nan : ['none', 'nan', 'n/a', '-', '?', 'na', 'idk', 'not sure', 'unsure'],\n",
    "        10 : ['2 weeks', '10 days', '14 days'],\n",
    "        5 : ['1 week', '5 days', '7 days', '40 hours'],\n",
    "        15 : ['3 weeks', '15 days', '21 days'],\n",
    "        20 : ['4 weeks', '20 days'],\n",
    "        25 : ['5 weeks', '25 days'],\n",
    "        30 : ['30 days', '6 weeks']\n",
    "    }\n",
    "    days = str(days).lower().lstrip().rstrip().replace('\"', '').replace('\"', '')\n",
    "    for k,v in sick_dct.items():\n",
    "        if days in v:\n",
    "            return k\n",
    "    try:\n",
    "        return int(days)\n",
    "    except:\n",
    "        return days\n",
    "    \n",
    "d['sick_days_yearly'] = d['sick_days_yearly'].apply(clean_sick_days)\n",
    "d['vacation_days_yearly'] = d['vacation_days_yearly'].apply(clean_sick_days)"
   ]
  },
  {
   "cell_type": "code",
   "execution_count": 18,
   "id": "6450ce30-0b7c-40fb-b93f-3fecc3414eec",
   "metadata": {},
   "outputs": [],
   "source": [
    "def clean_open_discussions(disc):\n",
    "    disc_dct = {\n",
    "        'yes' : ['yes', 'ya', 'yeah'],\n",
    "        'no'  : ['no', 'nope', 'never']\n",
    "    }\n",
    "    \n",
    "    disc = str(disc).lower().lstrip().rstrip()\n",
    "    for k,v in disc_dct.items():\n",
    "        for val in v:\n",
    "            if val in disc:\n",
    "                return k\n",
    "    return 'other'\n",
    "d['open_wage_discussions'] = d['open_wage_discussions'].apply(clean_open_discussions)"
   ]
  },
  {
   "cell_type": "code",
   "execution_count": 19,
   "id": "a6429916-2529-438f-a7c3-e1775c323279",
   "metadata": {},
   "outputs": [],
   "source": [
    "def clean_ethnicity(eth):\n",
    "    eth_dct = {\n",
    "        'caucasian' : ['white', 'caucasian', 'white female', 'white male'],\n",
    "        'african american' : ['black', 'african', 'black american', 'black/african american', 'african american', 'black woman', 'african-american', 'black male', 'black man', 'black female'],\n",
    "        'hispanic' : ['hispanic', 'latina', 'latino', 'latinx', 'mexican-american', 'latino/hispanic',  'mexican', 'mexico', 'mexican american', 'latin'],\n",
    "        'asian' : ['asian', 'asian american', 'south asian', 'asian-american', 'korean', 'indian american', 'vietnamese', 'east asian', 'asian indian', 'asian woman', 'filipino', 'filipina', 'indian', 'chinese'],\n",
    "        'middle eastern' : ['middle eastern', 'arab', 'pakistani'],\n",
    "        'native' : ['native american', 'native', 'indigenous']\n",
    "    }\n",
    "    eth = str(eth).lower().lstrip().rstrip()\n",
    "    \n",
    "    for k,v in eth_dct.items():\n",
    "        if eth in v:\n",
    "            return k\n",
    "    return 'unknown'\n",
    "\n",
    "d['ethnicity'] = d['ethnicity'].apply(clean_ethnicity)"
   ]
  },
  {
   "cell_type": "code",
   "execution_count": 20,
   "id": "4dfcb132-a074-41a3-98c5-0bd91001ca78",
   "metadata": {},
   "outputs": [],
   "source": [
    "d['avg_rsu'] = d['avg_rsu'].apply(clean_wage)"
   ]
  },
  {
   "cell_type": "code",
   "execution_count": 21,
   "id": "dcac0a1d-cd2a-4d73-b73c-96d5609138bd",
   "metadata": {},
   "outputs": [],
   "source": [
    "def clean_mat_leave(mat):\n",
    "    mat_dct = {\n",
    "        np.nan : ['none', 'not sure', 'unsure','no', 'no idea', '?', 'idk', 'unknown', 'n/a', '-', \"don't know\", '0'],\n",
    "        0.5 : ['2 weeks'],\n",
    "        1 : ['1', '1 month'],\n",
    "        1.5 : ['6 weeks', '1.5'],\n",
    "        2 : ['2', '2 months', '8 weeks'],\n",
    "        3 : ['3', '3 months', '12 weeks'],\n",
    "        4 : ['4', '4 months', '16 weeks'],\n",
    "        5 : ['5', '5 months', '20 weeks'],\n",
    "        6 : ['6', '6 months', '24 weeks'],\n",
    "        float('inf') : ['unlimited']\n",
    "    }\n",
    "    mat = str(mat).lower().lstrip().rstrip()\n",
    "    for k,v in mat_dct.items():\n",
    "        if mat in v:\n",
    "            return k\n",
    "    return 'unknown'\n",
    "\n",
    "d['maternity_leave_months'] = d['maternity_leave_months'].apply(clean_mat_leave)"
   ]
  },
  {
   "cell_type": "code",
   "execution_count": 22,
   "id": "1d4d2570-2ec8-471c-865b-3ea916b95735",
   "metadata": {},
   "outputs": [],
   "source": [
    "def clean_industry(ind):\n",
    "    ind_dct = {\n",
    "        'tech' : ['tech'],\n",
    "        'finance' : ['fin tech', 'finance', 'fintech', 'financial services'],\n",
    "        'heath care' : ['healthcare', 'health care', 'HospTechalTechy', 'healthcare tech'],\n",
    "        'non profit' : ['nonproftech', 'non proftech', 'non profit']\n",
    "    }\n",
    "    ind = str(ind).lower().lstrip().rstrip()\n",
    "    for k,v in ind_dct.items():\n",
    "        if ind in v:\n",
    "            return k\n",
    "    return ind\n",
    "\n",
    "d['Industry'] = d['Industry'].apply(clean_industry)"
   ]
  },
  {
   "cell_type": "markdown",
   "id": "f0d7980d-b6f7-4e7b-9256-b412d9c5f938",
   "metadata": {},
   "source": [
    "## Analysis / Visualization"
   ]
  },
  {
   "cell_type": "markdown",
   "id": "61725d07-eb59-4ae4-8713-3a9b21f81dc4",
   "metadata": {},
   "source": [
    "Now since the data is cleaned up, we can move forward to the analysis component. Below I've outlined a series of questions which I want to answer with the available data.  \n",
    "- convert wages, signing bonus, rsu to usd via currency  \n",
    "- which industries have the highest median salary -- done\n",
    "- which profession has the highest median salary -- done\n",
    "- average yoe per job title\n",
    "- average wages per ethnic groups  \n",
    "- average wages per gender  \n",
    "- What is the average income per years of experience  \n",
    "- what is the average income per age group  \n",
    "- which locations pay better for same positions  \n",
    "- which organizations pay the most  \n",
    "- how much does level of education translate to income   "
   ]
  },
  {
   "cell_type": "code",
   "execution_count": 23,
   "id": "69a0a9bc-b9e6-4ec6-80f3-4e059218c47a",
   "metadata": {},
   "outputs": [
    {
     "data": {
      "text/plain": [
       "Index(['timestamp', 'age_range', 'yoe', 'Industry', 'job_title', 'org',\n",
       "       'max_edu', 'loc_city', 'country', 'annual_wage', 'bonus', 'avg_rsu',\n",
       "       'signing_bonus', 'currency', 'vacation_days_yearly', 'sick_days_yearly',\n",
       "       'days_per_week_in_office', 'open_wage_discussions',\n",
       "       'maternity_leave_months', 'gender', 'ethnicity'],\n",
       "      dtype='object')"
      ]
     },
     "execution_count": 23,
     "metadata": {},
     "output_type": "execute_result"
    }
   ],
   "source": [
    "d.columns"
   ]
  },
  {
   "cell_type": "code",
   "execution_count": 24,
   "id": "1a3982d1-c82d-417e-a24d-032af13bae45",
   "metadata": {},
   "outputs": [],
   "source": [
    "us_df = d[d['currency'] == 'usd'].copy()"
   ]
  },
  {
   "cell_type": "code",
   "execution_count": 72,
   "id": "f8d6d331-e70b-4078-9e79-da4a97fdfe14",
   "metadata": {},
   "outputs": [],
   "source": [
    "def visualize_group(d, remove_vals, group_col, agg_col, title, th, n):\n",
    "    '''\n",
    "    Given a dataframe d, this function will filter the values and visualize the results\n",
    "    based on the group and aggregate columns.\n",
    "    \n",
    "    params:\n",
    "        d (DataFrame) : The dataframe with the data you're visualizing\n",
    "        remove_vals (List) : The list of values you want to filter out of the input df\n",
    "        group_col (String) : The column you want to group\n",
    "        agg_col (String) : The column you want to aggregate the result of\n",
    "        title (String) : The title of the plot\n",
    "        th (Integer) : The threshold of values each group must have\n",
    "        n (Integer) : The number of results you want to filter\n",
    "        \n",
    "    example:\n",
    "        visualize_group(\n",
    "            d = us_df,\n",
    "            remove_vals = None, \n",
    "            group_col = 'job_title',\n",
    "            agg_col = 'annual_wage',\n",
    "            title = 'Top 15 Professions by Median Annual Wage',\n",
    "            th = 3,\n",
    "            n = 15\n",
    "        )\n",
    "    '''\n",
    "    if remove_vals:\n",
    "        d = d[~d[agg_col].isin(remove_vals)]\n",
    "    \n",
    "    df = d.groupby([group_col])[agg_col].agg(['count', 'mean', 'median']).reset_index().rename(columns = {\n",
    "        'count' : group_col + '_count', 'mean' : 'avg_' + agg_col, 'median' : 'median_' + agg_col\n",
    "    }).copy()\n",
    "    \n",
    "    df = df[df[group_col + '_count'] > th].sort_values(by = 'median_' + agg_col, ascending = False).copy()\n",
    "    if n:\n",
    "        df = df.head(n)\n",
    "        \n",
    "    plt.clf()\n",
    "    plt.barh(y = df[group_col].values, width = df['median_' + agg_col])\n",
    "    plt.ylabel(group_col)\n",
    "    plt.xlabel(\"median_\" + agg_col)\n",
    "    plt.title(title)\n",
    "    plt.show()"
   ]
  },
  {
   "cell_type": "code",
   "execution_count": 73,
   "id": "3cc3ab84-8404-47ab-bcfd-3289cdf32b99",
   "metadata": {},
   "outputs": [
    {
     "data": {
      "image/png": "[encoded data removed]",
      "text/plain": [
       "<Figure size 432x288 with 1 Axes>"
      ]
     },
     "metadata": {},
     "output_type": "display_data"
    }
   ],
   "source": [
    "visualize_group(\n",
    "    d = us_df,\n",
    "    remove_vals = None, \n",
    "    group_col = 'job_title',\n",
    "    agg_col = 'annual_wage',\n",
    "    title = 'Top 15 Professions by Median Annual Wage',\n",
    "    th = 5,\n",
    "    n = 15\n",
    ")"
   ]
  },
  {
   "cell_type": "code",
   "execution_count": 74,
   "id": "82deba0c-f973-4ce5-9984-0c1314bea723",
   "metadata": {},
   "outputs": [
    {
     "data": {
      "image/png": "[encoded data removed]",
      "text/plain": [
       "<Figure size 432x288 with 1 Axes>"
      ]
     },
     "metadata": {},
     "output_type": "display_data"
    }
   ],
   "source": [
    "visualize_group(\n",
    "    d = us_df,\n",
    "    remove_vals = None, \n",
    "    group_col = 'Industry',\n",
    "    agg_col = 'annual_wage',\n",
    "    title = 'Top 15 Industries by Median Annual Wage',\n",
    "    th = 5,\n",
    "    n = 15\n",
    ")"
   ]
  },
  {
   "cell_type": "code",
   "execution_count": 75,
   "id": "1e404d30-7cdc-418d-b62e-3f571323ebbf",
   "metadata": {},
   "outputs": [],
   "source": [
    "yoe_df = d.copy()\n",
    "yoe_df['yoe'] = yoe_df['yoe'].apply(lambda x : [20 if x == '20+' else x][0]).astype(float)"
   ]
  },
  {
   "cell_type": "code",
   "execution_count": 76,
   "id": "7901ddf4-2881-4488-9e8f-e2549961b34d",
   "metadata": {},
   "outputs": [
    {
     "data": {
      "image/png": "[encoded data removed]",
      "text/plain": [
       "<Figure size 432x288 with 1 Axes>"
      ]
     },
     "metadata": {},
     "output_type": "display_data"
    }
   ],
   "source": [
    "visualize_group(\n",
    "    d = yoe_df,\n",
    "    remove_vals = None, \n",
    "    group_col = 'job_title',\n",
    "    agg_col = 'yoe',\n",
    "    title = 'Median YoE per Job Titles',\n",
    "    th = 5,\n",
    "    n = 15\n",
    ")"
   ]
  },
  {
   "cell_type": "code",
   "execution_count": null,
   "id": "5c1978f7-1e00-4101-8e9d-2dfcb41de96d",
   "metadata": {},
   "outputs": [],
   "source": []
  },
  {
   "cell_type": "code",
   "execution_count": null,
   "id": "afa62da2-d4f4-46e4-9315-2bd7103f26bc",
   "metadata": {},
   "outputs": [],
   "source": []
  },
  {
   "cell_type": "code",
   "execution_count": null,
   "id": "2cc45c50-fc66-4691-99d9-ab9d1f87a0da",
   "metadata": {},
   "outputs": [],
   "source": []
  },
  {
   "cell_type": "code",
   "execution_count": null,
   "id": "07c77315-d8ab-483f-aa05-f99880a42a21",
   "metadata": {},
   "outputs": [],
   "source": []
  },
  {
   "cell_type": "code",
   "execution_count": 27,
   "id": "f98fde04-9078-40df-a083-bdf48bf36eec",
   "metadata": {},
   "outputs": [],
   "source": [
    "def generate_hist():\n",
    "    pass"
   ]
  },
  {
   "cell_type": "code",
   "execution_count": null,
   "id": "04d307ca-9365-4adf-ae7a-a4a7d8eb0eae",
   "metadata": {},
   "outputs": [],
   "source": []
  },
  {
   "cell_type": "code",
   "execution_count": 29,
   "id": "7bf66e6c-3121-4f35-bab5-c52406f94349",
   "metadata": {},
   "outputs": [
    {
     "name": "stdout",
     "output_type": "stream",
     "text": [
      "18-21 nan (2858, 21)\n",
      "22-25 nan (21210, 21)\n",
      "26-29 nan (18330, 21)\n",
      "30-33 nan (8923, 21)\n",
      "34-37 nan (3805, 21)\n",
      "38-41 nan (1710, 21)\n",
      "42-45 nan (738, 21)\n",
      "46-49 nan (397, 21)\n",
      "50-53 nan (244, 21)\n",
      "54-57 164582.14117647058 (85, 21)\n",
      "58+ nan (52, 21)\n"
     ]
    }
   ],
   "source": [
    "for age, d in d.groupby('age_range'):\n",
    "    avg_wage = d['annual_wage'].values.mean()\n",
    "    print(age, avg_wage, d.shape)"
   ]
  },
  {
   "cell_type": "code",
   "execution_count": 30,
   "id": "7a1cc396-6c09-4986-9932-859f4a9ad8fd",
   "metadata": {},
   "outputs": [
    {
     "name": "stdout",
     "output_type": "stream",
     "text": [
      "1 400494160.0 (5, 21)\n",
      "2 nan (2, 21)\n",
      "3 nan (1, 21)\n",
      "5 81000.0 (1, 21)\n",
      "7 58000.0 (1, 21)\n",
      "10 nan (2, 21)\n",
      "13 20000.0 (1, 21)\n",
      "15 127000.0 (4, 21)\n",
      "16 95000.0 (2, 21)\n",
      "18 40000.0 (1, 21)\n",
      "20+ 172515.65625 (32, 21)\n"
     ]
    }
   ],
   "source": [
    "for age, d in d.groupby('yoe'):\n",
    "    avg_wage = d['annual_wage'].values.mean()\n",
    "    print(age, avg_wage, d.shape)"
   ]
  },
  {
   "cell_type": "code",
   "execution_count": null,
   "id": "4d17ba3b-c8a8-49de-bdd4-205ad11e0fb0",
   "metadata": {},
   "outputs": [],
   "source": []
  },
  {
   "cell_type": "code",
   "execution_count": 31,
   "id": "4ff3289e-48d7-4697-983f-2e95e3e431dd",
   "metadata": {},
   "outputs": [
    {
     "data": {
      "text/html": [
       "<div>\n",
       "<style scoped>\n",
       "    .dataframe tbody tr th:only-of-type {\n",
       "        vertical-align: middle;\n",
       "    }\n",
       "\n",
       "    .dataframe tbody tr th {\n",
       "        vertical-align: top;\n",
       "    }\n",
       "\n",
       "    .dataframe thead th {\n",
       "        text-align: right;\n",
       "    }\n",
       "</style>\n",
       "<table border=\"1\" class=\"dataframe\">\n",
       "  <thead>\n",
       "    <tr style=\"text-align: right;\">\n",
       "      <th></th>\n",
       "      <th>timestamp</th>\n",
       "      <th>age_range</th>\n",
       "      <th>yoe</th>\n",
       "      <th>Industry</th>\n",
       "      <th>job_title</th>\n",
       "      <th>org</th>\n",
       "      <th>max_edu</th>\n",
       "      <th>loc_city</th>\n",
       "      <th>country</th>\n",
       "      <th>annual_wage</th>\n",
       "      <th>...</th>\n",
       "      <th>avg_rsu</th>\n",
       "      <th>signing_bonus</th>\n",
       "      <th>currency</th>\n",
       "      <th>vacation_days_yearly</th>\n",
       "      <th>sick_days_yearly</th>\n",
       "      <th>days_per_week_in_office</th>\n",
       "      <th>open_wage_discussions</th>\n",
       "      <th>maternity_leave_months</th>\n",
       "      <th>gender</th>\n",
       "      <th>ethnicity</th>\n",
       "    </tr>\n",
       "  </thead>\n",
       "  <tbody>\n",
       "    <tr>\n",
       "      <th>209</th>\n",
       "      <td>12/6/2021 21:16:24</td>\n",
       "      <td>58+</td>\n",
       "      <td>20+</td>\n",
       "      <td>medical devices</td>\n",
       "      <td>biostatistician</td>\n",
       "      <td>johnson and johnson</td>\n",
       "      <td>Master's Degree</td>\n",
       "      <td>chicago</td>\n",
       "      <td>usa</td>\n",
       "      <td>196000</td>\n",
       "      <td>...</td>\n",
       "      <td>0.0</td>\n",
       "      <td>0.0</td>\n",
       "      <td>usd</td>\n",
       "      <td>15</td>\n",
       "      <td>NaN</td>\n",
       "      <td>5</td>\n",
       "      <td>no</td>\n",
       "      <td>NaN</td>\n",
       "      <td>female</td>\n",
       "      <td>unknown</td>\n",
       "    </tr>\n",
       "    <tr>\n",
       "      <th>319</th>\n",
       "      <td>12/6/2021 21:54:12</td>\n",
       "      <td>58+</td>\n",
       "      <td>20+</td>\n",
       "      <td>heath care</td>\n",
       "      <td>nurse</td>\n",
       "      <td>kaiser permanente</td>\n",
       "      <td>Associate Degree</td>\n",
       "      <td>oakland</td>\n",
       "      <td>usa</td>\n",
       "      <td>200000</td>\n",
       "      <td>...</td>\n",
       "      <td>NaN</td>\n",
       "      <td>NaN</td>\n",
       "      <td>NaN</td>\n",
       "      <td>25</td>\n",
       "      <td>12</td>\n",
       "      <td>5</td>\n",
       "      <td>no</td>\n",
       "      <td>3</td>\n",
       "      <td>female</td>\n",
       "      <td>unknown</td>\n",
       "    </tr>\n",
       "    <tr>\n",
       "      <th>639</th>\n",
       "      <td>12/6/2021 22:36:15</td>\n",
       "      <td>58+</td>\n",
       "      <td>20+</td>\n",
       "      <td>hvac services</td>\n",
       "      <td>controller</td>\n",
       "      <td>NaN</td>\n",
       "      <td>Bachelor's Degree</td>\n",
       "      <td>milwaukee wi</td>\n",
       "      <td>usa</td>\n",
       "      <td>112000</td>\n",
       "      <td>...</td>\n",
       "      <td>NaN</td>\n",
       "      <td>NaN</td>\n",
       "      <td>usd</td>\n",
       "      <td>20</td>\n",
       "      <td>not tracked, whatever i need</td>\n",
       "      <td>5</td>\n",
       "      <td>no</td>\n",
       "      <td>unknown</td>\n",
       "      <td>female</td>\n",
       "      <td>unknown</td>\n",
       "    </tr>\n",
       "    <tr>\n",
       "      <th>1523</th>\n",
       "      <td>12/6/2021 23:43:27</td>\n",
       "      <td>58+</td>\n",
       "      <td>20+</td>\n",
       "      <td>buying</td>\n",
       "      <td>senior buyer</td>\n",
       "      <td>amoc</td>\n",
       "      <td>Some College credit, no degree</td>\n",
       "      <td>columbus</td>\n",
       "      <td>usa</td>\n",
       "      <td>56000</td>\n",
       "      <td>...</td>\n",
       "      <td>NaN</td>\n",
       "      <td>NaN</td>\n",
       "      <td>usd</td>\n",
       "      <td>22</td>\n",
       "      <td>10</td>\n",
       "      <td>5</td>\n",
       "      <td>no</td>\n",
       "      <td>unknown</td>\n",
       "      <td>female</td>\n",
       "      <td>unknown</td>\n",
       "    </tr>\n",
       "    <tr>\n",
       "      <th>1692</th>\n",
       "      <td>12/6/2021 23:51:39</td>\n",
       "      <td>58+</td>\n",
       "      <td>20+</td>\n",
       "      <td>marketing</td>\n",
       "      <td>marketing officer</td>\n",
       "      <td>NaN</td>\n",
       "      <td>Bachelor's Degree</td>\n",
       "      <td>palo alto</td>\n",
       "      <td>usa</td>\n",
       "      <td>150000</td>\n",
       "      <td>...</td>\n",
       "      <td>NaN</td>\n",
       "      <td>NaN</td>\n",
       "      <td>usd</td>\n",
       "      <td>15</td>\n",
       "      <td>5</td>\n",
       "      <td>5</td>\n",
       "      <td>no</td>\n",
       "      <td>3</td>\n",
       "      <td>female</td>\n",
       "      <td>unknown</td>\n",
       "    </tr>\n",
       "  </tbody>\n",
       "</table>\n",
       "<p>5 rows × 21 columns</p>\n",
       "</div>"
      ],
      "text/plain": [
       "               timestamp age_range  yoe         Industry          job_title  \\\n",
       "209   12/6/2021 21:16:24       58+  20+  medical devices    biostatistician   \n",
       "319   12/6/2021 21:54:12       58+  20+       heath care              nurse   \n",
       "639   12/6/2021 22:36:15       58+  20+    hvac services         controller   \n",
       "1523  12/6/2021 23:43:27       58+  20+           buying       senior buyer   \n",
       "1692  12/6/2021 23:51:39       58+  20+        marketing  marketing officer   \n",
       "\n",
       "                      org                         max_edu      loc_city  \\\n",
       "209   johnson and johnson                 Master's Degree       chicago   \n",
       "319     kaiser permanente                Associate Degree       oakland   \n",
       "639                   NaN               Bachelor's Degree  milwaukee wi   \n",
       "1523                 amoc  Some College credit, no degree      columbus   \n",
       "1692                  NaN               Bachelor's Degree     palo alto   \n",
       "\n",
       "     country annual_wage  ...  avg_rsu  signing_bonus  currency  \\\n",
       "209      usa      196000  ...      0.0            0.0       usd   \n",
       "319      usa      200000  ...      NaN            NaN       NaN   \n",
       "639      usa      112000  ...      NaN            NaN       usd   \n",
       "1523     usa       56000  ...      NaN            NaN       usd   \n",
       "1692     usa      150000  ...      NaN            NaN       usd   \n",
       "\n",
       "     vacation_days_yearly              sick_days_yearly  \\\n",
       "209                    15                           NaN   \n",
       "319                    25                            12   \n",
       "639                    20  not tracked, whatever i need   \n",
       "1523                   22                            10   \n",
       "1692                   15                             5   \n",
       "\n",
       "     days_per_week_in_office open_wage_discussions maternity_leave_months  \\\n",
       "209                        5                    no                    NaN   \n",
       "319                        5                    no                      3   \n",
       "639                        5                    no                unknown   \n",
       "1523                       5                    no                unknown   \n",
       "1692                       5                    no                      3   \n",
       "\n",
       "      gender ethnicity  \n",
       "209   female   unknown  \n",
       "319   female   unknown  \n",
       "639   female   unknown  \n",
       "1523  female   unknown  \n",
       "1692  female   unknown  \n",
       "\n",
       "[5 rows x 21 columns]"
      ]
     },
     "execution_count": 31,
     "metadata": {},
     "output_type": "execute_result"
    }
   ],
   "source": [
    "d.head()"
   ]
  },
  {
   "cell_type": "code",
   "execution_count": null,
   "id": "7e9ede17-e2cb-4506-bd8a-4ea5a9457d1d",
   "metadata": {},
   "outputs": [],
   "source": []
  },
  {
   "cell_type": "code",
   "execution_count": null,
   "id": "3012ac6e-06d4-4831-8fe6-452fb7019316",
   "metadata": {},
   "outputs": [],
   "source": []
  },
  {
   "cell_type": "code",
   "execution_count": null,
   "id": "14a61d38-6971-4507-a021-767701dbe94f",
   "metadata": {},
   "outputs": [],
   "source": []
  },
  {
   "cell_type": "code",
   "execution_count": null,
   "id": "63d6c99d-f05b-455d-9f80-a7a56ff87578",
   "metadata": {},
   "outputs": [],
   "source": []
  },
  {
   "cell_type": "code",
   "execution_count": null,
   "id": "48a7d5ac-dfb5-405c-a3aa-ee92d72e668a",
   "metadata": {},
   "outputs": [],
   "source": []
  },
  {
   "cell_type": "code",
   "execution_count": null,
   "id": "80a8c313-a09e-49ba-84a6-fb49f7cc6f5c",
   "metadata": {},
   "outputs": [],
   "source": []
  },
  {
   "cell_type": "code",
   "execution_count": 32,
   "id": "8f713258-26d6-49df-9382-96256a9e3060",
   "metadata": {},
   "outputs": [],
   "source": [
    "d['is_ds'] = d['job_title'].apply(lambda x : [True if str(x).lower() in ['data', 'science', 'scientist', 'research'] else False][0])"
   ]
  },
  {
   "cell_type": "code",
   "execution_count": 33,
   "id": "e20aa8b5-b817-455a-962d-13b2f5d90474",
   "metadata": {},
   "outputs": [
    {
     "ename": "AttributeError",
     "evalue": "'DataFrame' object has no attribute 'parsed_annual_wage'",
     "output_type": "error",
     "traceback": [
      "\u001b[0;31m---------------------------------------------------------------------------\u001b[0m",
      "\u001b[0;31mAttributeError\u001b[0m                            Traceback (most recent call last)",
      "\u001b[0;32m<ipython-input-33-be644f33b8b6>\u001b[0m in \u001b[0;36m<module>\u001b[0;34m\u001b[0m\n\u001b[0;32m----> 1\u001b[0;31m \u001b[0md\u001b[0m\u001b[0;34m[\u001b[0m\u001b[0md\u001b[0m\u001b[0;34m[\u001b[0m\u001b[0;34m'is_ds'\u001b[0m\u001b[0;34m]\u001b[0m\u001b[0;34m==\u001b[0m\u001b[0;32mTrue\u001b[0m\u001b[0;34m]\u001b[0m\u001b[0;34m.\u001b[0m\u001b[0mparsed_annual_wage\u001b[0m\u001b[0;34m.\u001b[0m\u001b[0mmax\u001b[0m\u001b[0;34m(\u001b[0m\u001b[0;34m)\u001b[0m\u001b[0;34m\u001b[0m\u001b[0;34m\u001b[0m\u001b[0m\n\u001b[0m",
      "\u001b[0;32m~/anaconda3/lib/python3.8/site-packages/pandas/core/generic.py\u001b[0m in \u001b[0;36m__getattr__\u001b[0;34m(self, name)\u001b[0m\n\u001b[1;32m   5463\u001b[0m             \u001b[0;32mif\u001b[0m \u001b[0mself\u001b[0m\u001b[0;34m.\u001b[0m\u001b[0m_info_axis\u001b[0m\u001b[0;34m.\u001b[0m\u001b[0m_can_hold_identifiers_and_holds_name\u001b[0m\u001b[0;34m(\u001b[0m\u001b[0mname\u001b[0m\u001b[0;34m)\u001b[0m\u001b[0;34m:\u001b[0m\u001b[0;34m\u001b[0m\u001b[0;34m\u001b[0m\u001b[0m\n\u001b[1;32m   5464\u001b[0m                 \u001b[0;32mreturn\u001b[0m \u001b[0mself\u001b[0m\u001b[0;34m[\u001b[0m\u001b[0mname\u001b[0m\u001b[0;34m]\u001b[0m\u001b[0;34m\u001b[0m\u001b[0;34m\u001b[0m\u001b[0m\n\u001b[0;32m-> 5465\u001b[0;31m             \u001b[0;32mreturn\u001b[0m \u001b[0mobject\u001b[0m\u001b[0;34m.\u001b[0m\u001b[0m__getattribute__\u001b[0m\u001b[0;34m(\u001b[0m\u001b[0mself\u001b[0m\u001b[0;34m,\u001b[0m \u001b[0mname\u001b[0m\u001b[0;34m)\u001b[0m\u001b[0;34m\u001b[0m\u001b[0;34m\u001b[0m\u001b[0m\n\u001b[0m\u001b[1;32m   5466\u001b[0m \u001b[0;34m\u001b[0m\u001b[0m\n\u001b[1;32m   5467\u001b[0m     \u001b[0;32mdef\u001b[0m \u001b[0m__setattr__\u001b[0m\u001b[0;34m(\u001b[0m\u001b[0mself\u001b[0m\u001b[0;34m,\u001b[0m \u001b[0mname\u001b[0m\u001b[0;34m:\u001b[0m \u001b[0mstr\u001b[0m\u001b[0;34m,\u001b[0m \u001b[0mvalue\u001b[0m\u001b[0;34m)\u001b[0m \u001b[0;34m->\u001b[0m \u001b[0;32mNone\u001b[0m\u001b[0;34m:\u001b[0m\u001b[0;34m\u001b[0m\u001b[0;34m\u001b[0m\u001b[0m\n",
      "\u001b[0;31mAttributeError\u001b[0m: 'DataFrame' object has no attribute 'parsed_annual_wage'"
     ]
    }
   ],
   "source": [
    "d[d['is_ds']==True].parsed_annual_wage.max()"
   ]
  },
  {
   "cell_type": "code",
   "execution_count": null,
   "id": "24f006c3-2254-48a2-a9c5-c82cc0825ec0",
   "metadata": {},
   "outputs": [],
   "source": []
  },
  {
   "cell_type": "code",
   "execution_count": null,
   "id": "46a68c06-f4c7-475e-9d2e-5acccbb93492",
   "metadata": {},
   "outputs": [],
   "source": []
  }
 ],
 "metadata": {
  "kernelspec": {
   "display_name": "Python 3",
   "language": "python",
   "name": "python3"
  },
  "language_info": {
   "codemirror_mode": {
    "name": "ipython",
    "version": 3
   },
   "file_extension": ".py",
   "mimetype": "text/x-python",
   "name": "python",
   "nbconvert_exporter": "python",
   "pygments_lexer": "ipython3",
   "version": "3.8.8"
  }
 },
 "nbformat": 4,
 "nbformat_minor": 5
}
