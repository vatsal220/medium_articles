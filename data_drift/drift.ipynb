{
 "cells": [
  {
   "cell_type": "code",
   "execution_count": 1,
   "metadata": {},
   "outputs": [],
   "source": [
    "import uuid\n",
    "import random\n",
    "import pandas as pd\n",
    "import numpy as np\n",
    "from scipy.stats import entropy\n",
    "from matplotlib import pyplot as plt\n",
    "from sklearn.ensemble import RandomForestRegressor\n",
    "from sklearn.model_selection import train_test_split"
   ]
  },
  {
   "cell_type": "code",
   "execution_count": 2,
   "metadata": {},
   "outputs": [
    {
     "data": {
      "text/html": [
       "<div>\n",
       "<style scoped>\n",
       "    .dataframe tbody tr th:only-of-type {\n",
       "        vertical-align: middle;\n",
       "    }\n",
       "\n",
       "    .dataframe tbody tr th {\n",
       "        vertical-align: top;\n",
       "    }\n",
       "\n",
       "    .dataframe thead th {\n",
       "        text-align: right;\n",
       "    }\n",
       "</style>\n",
       "<table border=\"1\" class=\"dataframe\">\n",
       "  <thead>\n",
       "    <tr style=\"text-align: right;\">\n",
       "      <th></th>\n",
       "      <th>uuid</th>\n",
       "      <th>feature1</th>\n",
       "      <th>feature2</th>\n",
       "      <th>feature3</th>\n",
       "      <th>target</th>\n",
       "    </tr>\n",
       "  </thead>\n",
       "  <tbody>\n",
       "    <tr>\n",
       "      <th>0</th>\n",
       "      <td>47be8726-3373-4c5f-90e3-a0c985e8c2fa</td>\n",
       "      <td>0.940277</td>\n",
       "      <td>0.293241</td>\n",
       "      <td>0.887842</td>\n",
       "      <td>1.214733</td>\n",
       "    </tr>\n",
       "    <tr>\n",
       "      <th>1</th>\n",
       "      <td>05540521-19a9-463f-9997-d7c4f600ddba</td>\n",
       "      <td>0.755155</td>\n",
       "      <td>0.790025</td>\n",
       "      <td>0.207441</td>\n",
       "      <td>2.643144</td>\n",
       "    </tr>\n",
       "    <tr>\n",
       "      <th>2</th>\n",
       "      <td>88167dee-f562-470a-a41b-cc4625c938b7</td>\n",
       "      <td>0.770674</td>\n",
       "      <td>0.532005</td>\n",
       "      <td>0.013269</td>\n",
       "      <td>1.032481</td>\n",
       "    </tr>\n",
       "    <tr>\n",
       "      <th>3</th>\n",
       "      <td>1325d84c-6bae-454b-ab0a-fda307741d44</td>\n",
       "      <td>0.594305</td>\n",
       "      <td>0.480034</td>\n",
       "      <td>0.404041</td>\n",
       "      <td>1.685098</td>\n",
       "    </tr>\n",
       "    <tr>\n",
       "      <th>4</th>\n",
       "      <td>ed465004-5869-431b-bd3e-0c8b14974703</td>\n",
       "      <td>0.115499</td>\n",
       "      <td>0.111589</td>\n",
       "      <td>0.045613</td>\n",
       "      <td>1.463835</td>\n",
       "    </tr>\n",
       "  </tbody>\n",
       "</table>\n",
       "</div>"
      ],
      "text/plain": [
       "                                   uuid  feature1  feature2  feature3  \\\n",
       "0  47be8726-3373-4c5f-90e3-a0c985e8c2fa  0.940277  0.293241  0.887842   \n",
       "1  05540521-19a9-463f-9997-d7c4f600ddba  0.755155  0.790025  0.207441   \n",
       "2  88167dee-f562-470a-a41b-cc4625c938b7  0.770674  0.532005  0.013269   \n",
       "3  1325d84c-6bae-454b-ab0a-fda307741d44  0.594305  0.480034  0.404041   \n",
       "4  ed465004-5869-431b-bd3e-0c8b14974703  0.115499  0.111589  0.045613   \n",
       "\n",
       "     target  \n",
       "0  1.214733  \n",
       "1  2.643144  \n",
       "2  1.032481  \n",
       "3  1.685098  \n",
       "4  1.463835  "
      ]
     },
     "execution_count": 2,
     "metadata": {},
     "output_type": "execute_result"
    }
   ],
   "source": [
    "# generate data\n",
    "def generate_data(n):\n",
    "    \"\"\"\n",
    "    This function will generate n rows of sample data.\n",
    "    \n",
    "    params:\n",
    "        n (Int) : The number of rows you want to generate\n",
    "        \n",
    "    returns:\n",
    "        A pandas dataframe with n rows.\n",
    "    \"\"\"\n",
    "    data = {\n",
    "        'uuid' : [str(uuid.uuid4()) for _ in range(n)],\n",
    "        'feature1' : [random.random() for _ in range(n)],\n",
    "        'feature2' : [random.random() for _ in range(n)],\n",
    "        'feature3' : [random.random() for _ in range(n)],\n",
    "        'target' : [sum([random.random(), random.random(), random.random()]) for _ in range(n)]\n",
    "    }\n",
    "    return pd.DataFrame(data)\n",
    "\n",
    "sample_df = generate_data(1000)\n",
    "sample_df.head()"
   ]
  },
  {
   "cell_type": "code",
   "execution_count": 3,
   "metadata": {},
   "outputs": [],
   "source": [
    "# train model\n",
    "ft_cols = ['feature1', 'feature2', 'feature3']\n",
    "X = sample_df[ft_cols].values\n",
    "Y = sample_df['target'].values\n",
    "\n",
    "X_train, X_test, y_train, y_test = train_test_split(\n",
    "    X, Y, test_size=0.3\n",
    ")\n",
    "\n",
    "rfr = RandomForestRegressor().fit(X_train, y_train)"
   ]
  },
  {
   "cell_type": "code",
   "execution_count": 4,
   "metadata": {},
   "outputs": [],
   "source": [
    "# generate observations\n",
    "obs_df = generate_data(1500)\n",
    "obs_df.drop(columns = ['target'], inplace = True)"
   ]
  },
  {
   "cell_type": "code",
   "execution_count": 5,
   "metadata": {},
   "outputs": [],
   "source": [
    "obs_df['prediction'] = obs_df[ft_cols].apply(lambda x : rfr.predict([x])[0], axis = 1)"
   ]
  },
  {
   "cell_type": "code",
   "execution_count": 6,
   "metadata": {},
   "outputs": [],
   "source": [
    "obs_df = obs_df.rename(columns = {\n",
    "    'feature1' : 'obs_feature1',\n",
    "    'feature2' : 'obs_feature2',\n",
    "    'feature3' : 'obs_feature3'\n",
    "})"
   ]
  },
  {
   "cell_type": "code",
   "execution_count": 7,
   "metadata": {},
   "outputs": [
    {
     "data": {
      "image/png": "[encoded data removed]",
      "text/plain": [
       "<Figure size 432x288 with 1 Axes>"
      ]
     },
     "metadata": {
      "needs_background": "light"
     },
     "output_type": "display_data"
    }
   ],
   "source": [
    "plt.plot(sample_df['feature1'], alpha = 0.5, label = 'Ground Truth')\n",
    "plt.plot(obs_df['obs_feature1'], alpha = 0.5, label = 'Observation')\n",
    "plt.legend()\n",
    "plt.title(\"Visualization of Feature1 Training Data vs Observations\")\n",
    "plt.show()"
   ]
  },
  {
   "cell_type": "code",
   "execution_count": 8,
   "metadata": {},
   "outputs": [
    {
     "data": {
      "image/png": "[encoded data removed]",
      "text/plain": [
       "<Figure size 432x288 with 1 Axes>"
      ]
     },
     "metadata": {
      "needs_background": "light"
     },
     "output_type": "display_data"
    }
   ],
   "source": [
    "plt.hist(sample_df['feature1'], alpha = 0.5, label = 'Ground Truth', histtype = 'step')\n",
    "plt.hist(obs_df['obs_feature1'], alpha = 0.5, label = 'Observation', histtype = 'step')\n",
    "plt.legend()\n",
    "plt.title(\"Feature Distribution of Ground Truth Data and Observation Data\")\n",
    "plt.show()"
   ]
  },
  {
   "cell_type": "code",
   "execution_count": 9,
   "metadata": {},
   "outputs": [],
   "source": [
    "def data_length_normalizer(gt_data, obs_data, bins = 100):\n",
    "    \"\"\"\n",
    "    Data length normalizer will normalize a set of data points if they\n",
    "    are not the same length.\n",
    "    \n",
    "    params:\n",
    "        gt_data (List) : The list of values associated with the training data\n",
    "        obs_data (List) : The list of values associated with the observations\n",
    "        bins (Int) : The number of bins you want to use for the distributions\n",
    "        \n",
    "    returns:\n",
    "        The ground truth and observation data in the same length.\n",
    "    \"\"\"\n",
    "\n",
    "    if len(gt_data) == len(obs_data):\n",
    "        return gt_data, obs_data \n",
    "\n",
    "    # scale bins accordingly to data size\n",
    "    if (len(gt_data) > 20*bins) and (len(obs_data) > 20*bins):\n",
    "        bins = 10*bins \n",
    "\n",
    "    # convert into frequency based distributions\n",
    "    gt_hist = plt.hist(gt_data, bins = bins)[0]\n",
    "    obs_hist = plt.hist(obs_data, bins = bins)[0]\n",
    "    plt.close()  # prevents plot from showing\n",
    "    return gt_hist, obs_hist \n",
    "\n",
    "def softmax(vec):\n",
    "    \"\"\"\n",
    "    This function will calculate the softmax of an array, essentially it will\n",
    "    convert an array of values into an array of probabilities.\n",
    "    \n",
    "    params:\n",
    "        vec (List) : A list of values you want to calculate the softmax for\n",
    "        \n",
    "    returns:\n",
    "        A list of probabilities associated with the input vector\n",
    "    \"\"\"\n",
    "    return(np.exp(vec)/np.exp(vec).sum())\n",
    "\n",
    "def calc_cross_entropy(p, q):\n",
    "    \"\"\"\n",
    "    This function will calculate the cross entropy for a pair of \n",
    "    distributions.\n",
    "    \n",
    "    params:\n",
    "        p (List) : A discrete distribution of values\n",
    "        q (List) : Sequence against which the relative entropy is computed.\n",
    "        \n",
    "    returns:\n",
    "        The calculated entropy\n",
    "    \"\"\"\n",
    "    return entropy(p,q)"
   ]
  },
  {
   "cell_type": "code",
   "execution_count": 10,
   "metadata": {},
   "outputs": [],
   "source": [
    "def calc_drift(gt_data, obs_data, gt_col, obs_col):\n",
    "    \"\"\"\n",
    "    This function will calculate the drift of two distributions given\n",
    "    the drift type identifeid by the user.\n",
    "    \n",
    "    params:\n",
    "        gt_data (DataFrame) : The dataset which holds the training information\n",
    "        obs_data (DataFrame) : The dataset which holds the observed information\n",
    "        gt_col (String) : The training data column you want to compare\n",
    "        obs_col (String) : The observation column you want to compare\n",
    "        \n",
    "    returns:\n",
    "        A drift score\n",
    "    \"\"\"\n",
    "\n",
    "    gt_data = gt_data[gt_col].values\n",
    "    obs_data = obs_data[obs_col].values\n",
    "\n",
    "    # makes sure the data is same size\n",
    "    gt_data, obs_data = data_length_normalizer(\n",
    "        gt_data = gt_data,\n",
    "        obs_data = obs_data\n",
    "    )\n",
    "\n",
    "    # convert to probabilities\n",
    "    gt_data = softmax(gt_data)\n",
    "    obs_data = softmax(obs_data)\n",
    "\n",
    "    # run drift scores\n",
    "    drift_score = calc_cross_entropy(gt_data, obs_data)\n",
    "    return drift_score"
   ]
  },
  {
   "cell_type": "code",
   "execution_count": 11,
   "metadata": {},
   "outputs": [
    {
     "data": {
      "text/plain": [
       "7.942241086128684"
      ]
     },
     "execution_count": 11,
     "metadata": {},
     "output_type": "execute_result"
    }
   ],
   "source": [
    "calc_drift(\n",
    "    gt_data = sample_df, \n",
    "    obs_data = obs_df, \n",
    "    gt_col = 'feature1', \n",
    "    obs_col = 'obs_feature1'\n",
    ")"
   ]
  },
  {
   "cell_type": "code",
   "execution_count": 12,
   "metadata": {},
   "outputs": [],
   "source": [
    "drift_scores = {k:[] for k in ft_cols}\n",
    "days = 5\n",
    "for i in range(days):\n",
    "    # calculate drift for all features and store results\n",
    "    for i in ft_cols:\n",
    "        drift = calc_drift(\n",
    "            gt_data = sample_df, \n",
    "            obs_data = generate_data(1500), \n",
    "            gt_col = 'feature1', \n",
    "            obs_col = 'feature1'\n",
    "        )\n",
    "        drift_scores[i].append(drift)"
   ]
  },
  {
   "cell_type": "code",
   "execution_count": 13,
   "metadata": {},
   "outputs": [],
   "source": [
    "drift_df = pd.DataFrame(drift_scores)"
   ]
  },
  {
   "cell_type": "code",
   "execution_count": 14,
   "metadata": {},
   "outputs": [
    {
     "data": {
      "image/png": "[encoded data removed]",
      "text/plain": [
       "<Figure size 432x288 with 1 Axes>"
      ]
     },
     "metadata": {
      "needs_background": "light"
     },
     "output_type": "display_data"
    }
   ],
   "source": [
    "drift_df.plot(kind = 'line')\n",
    "plt.title(\"Drift Scores Over Time for Each Feature\")\n",
    "plt.ylabel(\"Drift Score\")\n",
    "plt.xlabel(\"Times Model Was Used\")\n",
    "plt.show()"
   ]
  },
  {
   "cell_type": "code",
   "execution_count": null,
   "metadata": {},
   "outputs": [],
   "source": []
  }
 ],
 "metadata": {
  "kernelspec": {
   "display_name": "Python 3.9.12 ('test_env')",
   "language": "python",
   "name": "python3"
  },
  "language_info": {
   "codemirror_mode": {
    "name": "ipython",
    "version": 3
   },
   "file_extension": ".py",
   "mimetype": "text/x-python",
   "name": "python",
   "nbconvert_exporter": "python",
   "pygments_lexer": "ipython3",
   "version": "3.9.12"
  },
  "orig_nbformat": 4,
  "vscode": {
   "interpreter": {
    "hash": "c0642de05bfc0f35b2cf482ba2654480e6173de5df7eeb4b7544d6358866e8bc"
   }
  }
 },
 "nbformat": 4,
 "nbformat_minor": 2
}
