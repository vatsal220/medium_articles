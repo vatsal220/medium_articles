{
 "cells": [
  {
   "cell_type": "markdown",
   "id": "d9bc8317-c9e3-4e03-876a-13469681f52e",
   "metadata": {},
   "source": [
    "# Document Similarity w/ Word2Vec"
   ]
  },
  {
   "cell_type": "code",
   "execution_count": null,
   "id": "e46b7702-5e17-4ae4-bc76-d4f410252d84",
   "metadata": {},
   "outputs": [],
   "source": []
  },
  {
   "cell_type": "code",
   "execution_count": null,
   "id": "d6bb24dd-d52c-479c-b09a-90e7964934cd",
   "metadata": {},
   "outputs": [],
   "source": []
  },
  {
   "cell_type": "code",
   "execution_count": null,
   "id": "e4f69d59-c05e-4cb7-8110-ddccc57ded44",
   "metadata": {},
   "outputs": [],
   "source": []
  },
  {
   "cell_type": "code",
   "execution_count": null,
   "id": "8e7a16d4-d92b-46a6-87a7-ca1fed9c58fc",
   "metadata": {},
   "outputs": [],
   "source": []
  },
  {
   "cell_type": "markdown",
   "id": "3a372586-917c-49b8-ae30-6ffe31dc9a38",
   "metadata": {},
   "source": [
    "## Document Similarity"
   ]
  },
  {
   "cell_type": "markdown",
   "id": "67331563-148e-4240-8f0b-454438b5ee62",
   "metadata": {},
   "source": [
    "https://stackoverflow.com/questions/45869881/finding-similarity-between-2-sentences-using-word2vec-of-sentence-with-python"
   ]
  },
  {
   "cell_type": "markdown",
   "id": "3fb2fbed-5c22-4067-8b2b-796cd315faa2",
   "metadata": {},
   "source": [
    "https://stackoverflow.com/questions/41623174/using-word2vec-to-calculate-sentence-similarity"
   ]
  },
  {
   "cell_type": "markdown",
   "id": "14a09867-6cbe-4ab0-842a-4c579d7f6f67",
   "metadata": {},
   "source": [
    "https://stackoverflow.com/questions/65852710/text-similarity-using-word2vec"
   ]
  },
  {
   "cell_type": "markdown",
   "id": "a7325070-6a0e-46e6-8923-0b078c6a549b",
   "metadata": {},
   "source": [
    "https://towardsdatascience.com/how-to-compute-sentence-similarity-using-bert-and-word2vec-ab0663a5d64"
   ]
  },
  {
   "cell_type": "markdown",
   "id": "bfa06a21-dc34-4d52-b398-dbeb55ba43e1",
   "metadata": {},
   "source": [
    "https://stackoverflow.com/questions/22129943/how-to-calculate-the-sentence-similarity-using-word2vec-model-of-gensim-with-pyt"
   ]
  }
 ],
 "metadata": {
  "kernelspec": {
   "display_name": "Python 3",
   "language": "python",
   "name": "python3"
  },
  "language_info": {
   "codemirror_mode": {
    "name": "ipython",
    "version": 3
   },
   "file_extension": ".py",
   "mimetype": "text/x-python",
   "name": "python",
   "nbconvert_exporter": "python",
   "pygments_lexer": "ipython3",
   "version": "3.8.8"
  }
 },
 "nbformat": 4,
 "nbformat_minor": 5
}
