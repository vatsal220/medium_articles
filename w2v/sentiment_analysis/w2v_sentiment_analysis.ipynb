{
 "cells": [
  {
   "cell_type": "markdown",
   "id": "527c221a-9657-49c2-8de2-9dea3281e79a",
   "metadata": {},
   "source": [
    "# Sentiment Analysis w/ Word2Vec"
   ]
  },
  {
   "cell_type": "code",
   "execution_count": null,
   "id": "c1d835a4-39b0-4cb2-9a67-4dd9147dbc57",
   "metadata": {},
   "outputs": [],
   "source": []
  },
  {
   "cell_type": "code",
   "execution_count": null,
   "id": "b104aba2-b56d-4f90-9cfe-6e2f8939d73d",
   "metadata": {},
   "outputs": [],
   "source": []
  },
  {
   "cell_type": "code",
   "execution_count": null,
   "id": "48f4e6de-b26a-4b51-9ec4-a1fdd4110f0d",
   "metadata": {},
   "outputs": [],
   "source": []
  },
  {
   "cell_type": "markdown",
   "id": "c7421f92-0506-4942-92be-06757803abea",
   "metadata": {},
   "source": [
    "## Sentiment Analysis"
   ]
  },
  {
   "cell_type": "markdown",
   "id": "db2a1348-80f0-41a5-beef-d293274c47f4",
   "metadata": {},
   "source": [
    "https://medium.com/swlh/sentiment-classification-using-word-embeddings-word2vec-aedf28fbb8ca"
   ]
  },
  {
   "cell_type": "code",
   "execution_count": null,
   "id": "bc65723c-37da-4e19-b29a-d70ad444b71d",
   "metadata": {},
   "outputs": [],
   "source": []
  }
 ],
 "metadata": {
  "kernelspec": {
   "display_name": "Python 3",
   "language": "python",
   "name": "python3"
  },
  "language_info": {
   "codemirror_mode": {
    "name": "ipython",
    "version": 3
   },
   "file_extension": ".py",
   "mimetype": "text/x-python",
   "name": "python",
   "nbconvert_exporter": "python",
   "pygments_lexer": "ipython3",
   "version": "3.8.8"
  }
 },
 "nbformat": 4,
 "nbformat_minor": 5
}
