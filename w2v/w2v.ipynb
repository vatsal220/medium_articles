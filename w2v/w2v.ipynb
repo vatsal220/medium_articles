{
 "cells": [
  {
   "cell_type": "markdown",
   "id": "d2ae1ec4-90c8-4784-9db4-a1a84fc5ab72",
   "metadata": {},
   "source": [
    "# Word2Vec Implementation"
   ]
  },
  {
   "cell_type": "code",
   "execution_count": 1,
   "id": "f66dd140-80f3-49a7-9099-3ba6ec11cfc2",
   "metadata": {},
   "outputs": [],
   "source": [
    "import pandas as pd\n",
    "import numpy as np\n",
    "import nltk\n",
    "import string\n",
    "\n",
    "from nltk.corpus import stopwords\n",
    "from gensim.models import Word2Vec"
   ]
  },
  {
   "cell_type": "code",
   "execution_count": 2,
   "id": "6e31c509-6029-44d6-80d7-24224784967d",
   "metadata": {},
   "outputs": [],
   "source": [
    "# constants\n",
    "PATH = 'data/shakespeare.txt'\n",
    "sw = stopwords.words('english')"
   ]
  },
  {
   "cell_type": "markdown",
   "id": "5ab0b85c-e610-4f09-a47a-2894b066ebde",
   "metadata": {},
   "source": [
    "## Import Data"
   ]
  },
  {
   "cell_type": "code",
   "execution_count": 3,
   "id": "6a99a535-b628-4d93-ae16-6d1c49ae3a85",
   "metadata": {},
   "outputs": [
    {
     "name": "stdout",
     "output_type": "stream",
     "text": [
      "CPU times: user 36.9 ms, sys: 9.79 ms, total: 46.6 ms\n",
      "Wall time: 47.6 ms\n"
     ]
    }
   ],
   "source": [
    "%%time\n",
    "lines = []\n",
    "with open(PATH, 'r') as f:\n",
    "    for l in f:\n",
    "        lines.append(l)"
   ]
  },
  {
   "cell_type": "markdown",
   "id": "a7e68fe5-6ef0-4446-8376-af84a4c5dc22",
   "metadata": {},
   "source": [
    "## Preprocessing"
   ]
  },
  {
   "cell_type": "code",
   "execution_count": 4,
   "id": "2f9258fe-02b7-431b-9a3b-d9861de8f6ee",
   "metadata": {},
   "outputs": [],
   "source": [
    "# remove new lines\n",
    "lines = [line.rstrip('\\n') for line in lines]\n",
    "\n",
    "# make all characters lower\n",
    "lines = [line.lower() for line in lines]\n",
    "\n",
    "# remove punctuations from each line\n",
    "lines = [line.translate(str.maketrans('', '', string.punctuation)) for line in lines]"
   ]
  },
  {
   "cell_type": "code",
   "execution_count": null,
   "id": "6952eb1e-cb2f-4e7f-a6b3-d1d5864eadc1",
   "metadata": {},
   "outputs": [],
   "source": []
  },
  {
   "cell_type": "code",
   "execution_count": null,
   "id": "cc83c045-0e9a-4bb0-bbba-41caccef420b",
   "metadata": {},
   "outputs": [],
   "source": []
  },
  {
   "cell_type": "code",
   "execution_count": null,
   "id": "dec47f99-83d0-438f-8ec9-10d787bcd21e",
   "metadata": {},
   "outputs": [],
   "source": []
  },
  {
   "cell_type": "markdown",
   "id": "60651c80-0038-4aa6-a729-bb9460f0c362",
   "metadata": {},
   "source": [
    "https://towardsdatascience.com/a-word2vec-implementation-using-numpy-and-python-d256cf0e5f28"
   ]
  },
  {
   "cell_type": "markdown",
   "id": "79651cf6-5760-4f94-b74d-211ae0ae98f8",
   "metadata": {},
   "source": [
    "## Document Similarity"
   ]
  },
  {
   "cell_type": "markdown",
   "id": "1d541be2-2d7a-4e63-aa5f-6bf61f562b91",
   "metadata": {},
   "source": [
    "https://stackoverflow.com/questions/45869881/finding-similarity-between-2-sentences-using-word2vec-of-sentence-with-python"
   ]
  },
  {
   "cell_type": "markdown",
   "id": "dd0ea6b0-d374-4eec-a539-bf2717b7f5ea",
   "metadata": {},
   "source": [
    "https://stackoverflow.com/questions/41623174/using-word2vec-to-calculate-sentence-similarity"
   ]
  },
  {
   "cell_type": "markdown",
   "id": "73ebb674-cd74-4d44-aeb1-88d0ac6fce61",
   "metadata": {},
   "source": [
    "https://stackoverflow.com/questions/65852710/text-similarity-using-word2vec"
   ]
  },
  {
   "cell_type": "markdown",
   "id": "01c9929a-170f-433b-b2da-293c07f38338",
   "metadata": {},
   "source": [
    "https://towardsdatascience.com/how-to-compute-sentence-similarity-using-bert-and-word2vec-ab0663a5d64"
   ]
  },
  {
   "cell_type": "markdown",
   "id": "04416e0d-cf07-4b06-8ad9-888bcc1da10b",
   "metadata": {},
   "source": [
    "https://stackoverflow.com/questions/22129943/how-to-calculate-the-sentence-similarity-using-word2vec-model-of-gensim-with-pyt"
   ]
  },
  {
   "cell_type": "markdown",
   "id": "7d357cc6-4dfe-4e69-8379-973b199bb9a4",
   "metadata": {},
   "source": [
    "## Sentiment Analysis"
   ]
  },
  {
   "cell_type": "markdown",
   "id": "8dedb618-9f34-4b60-9c0c-c99d75f30407",
   "metadata": {},
   "source": [
    "https://medium.com/swlh/sentiment-classification-using-word-embeddings-word2vec-aedf28fbb8ca"
   ]
  },
  {
   "cell_type": "code",
   "execution_count": null,
   "id": "fd00882c-5e59-4d23-8b61-ac4481b9bb8e",
   "metadata": {},
   "outputs": [],
   "source": []
  },
  {
   "cell_type": "markdown",
   "id": "7c3d7127-d1be-4052-8851-2e42282c829f",
   "metadata": {},
   "source": [
    "## Topic Modelling"
   ]
  },
  {
   "cell_type": "code",
   "execution_count": null,
   "id": "c754c4b5-f95a-4b4a-bf50-705ad24584a7",
   "metadata": {},
   "outputs": [],
   "source": []
  },
  {
   "cell_type": "code",
   "execution_count": null,
   "id": "6285d40b-1bc1-414f-bbaa-a1573247a8af",
   "metadata": {},
   "outputs": [],
   "source": []
  }
 ],
 "metadata": {
  "kernelspec": {
   "display_name": "Python 3",
   "language": "python",
   "name": "python3"
  },
  "language_info": {
   "codemirror_mode": {
    "name": "ipython",
    "version": 3
   },
   "file_extension": ".py",
   "mimetype": "text/x-python",
   "name": "python",
   "nbconvert_exporter": "python",
   "pygments_lexer": "ipython3",
   "version": "3.8.8"
  }
 },
 "nbformat": 4,
 "nbformat_minor": 5
}
