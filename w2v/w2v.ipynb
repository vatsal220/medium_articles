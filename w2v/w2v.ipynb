{
 "cells": [
  {
   "cell_type": "markdown",
   "id": "d2ae1ec4-90c8-4784-9db4-a1a84fc5ab72",
   "metadata": {},
   "source": [
    "# Word2Vec Implementation"
   ]
  },
  {
   "cell_type": "code",
   "execution_count": 1,
   "id": "f66dd140-80f3-49a7-9099-3ba6ec11cfc2",
   "metadata": {},
   "outputs": [],
   "source": [
    "import pandas as pd\n",
    "import numpy as np\n",
    "import nltk\n",
    "import string\n",
    "import matplotlib.pyplot as plt\n",
    "\n",
    "from nltk.corpus import stopwords\n",
    "from nltk import word_tokenize\n",
    "from gensim.models import Word2Vec as w2v\n",
    "from sklearn.decomposition import PCA"
   ]
  },
  {
   "cell_type": "code",
   "execution_count": 2,
   "id": "6e31c509-6029-44d6-80d7-24224784967d",
   "metadata": {},
   "outputs": [],
   "source": [
    "# constants\n",
    "PATH = 'data/shakespeare.txt'\n",
    "sw = stopwords.words('english')\n",
    "plt.style.use('ggplot')\n",
    "# nltk.download('punkt')"
   ]
  },
  {
   "cell_type": "markdown",
   "id": "5ab0b85c-e610-4f09-a47a-2894b066ebde",
   "metadata": {},
   "source": [
    "## Import Data"
   ]
  },
  {
   "cell_type": "code",
   "execution_count": 3,
   "id": "6a99a535-b628-4d93-ae16-6d1c49ae3a85",
   "metadata": {},
   "outputs": [
    {
     "name": "stdout",
     "output_type": "stream",
     "text": [
      "CPU times: user 19.5 ms, sys: 4.54 ms, total: 24 ms\n",
      "Wall time: 25.3 ms\n"
     ]
    }
   ],
   "source": [
    "%%time\n",
    "lines = []\n",
    "with open(PATH, 'r') as f:\n",
    "    for l in f:\n",
    "        lines.append(l)"
   ]
  },
  {
   "cell_type": "markdown",
   "id": "a7e68fe5-6ef0-4446-8376-af84a4c5dc22",
   "metadata": {},
   "source": [
    "## Preprocessing"
   ]
  },
  {
   "cell_type": "code",
   "execution_count": 4,
   "id": "2f9258fe-02b7-431b-9a3b-d9861de8f6ee",
   "metadata": {},
   "outputs": [],
   "source": [
    "# remove new lines\n",
    "lines = [line.rstrip('\\n') for line in lines]\n",
    "\n",
    "# make all characters lower\n",
    "lines = [line.lower() for line in lines]\n",
    "\n",
    "# remove punctuations from each line\n",
    "lines = [line.translate(str.maketrans('', '', string.punctuation)) for line in lines]"
   ]
  },
  {
   "cell_type": "markdown",
   "id": "f140c260-83a2-48e0-bfc8-199f0f570330",
   "metadata": {},
   "source": [
    "Source : https://stackoverflow.com/questions/54929726/word2vec-vocab-results-in-just-letters-and-symbols  \n",
    "\n",
    "As the tutorial and the documentation for Word2Vec class suggests the constructor of the class requires list of lists of words as the first parameter (or iterator of iterators of words in general):\n",
    "\n",
    "sentences (iterable of iterables, optional) – The sentences iterable can be simply a list of lists of tokens, but for larger corpora,...\n",
    "\n",
    "I believe before feeding in sentences into Word2Vec you need to use words_tokenize on each of the sentences changing the crucial line to:\n",
    "\n",
    "sentences = [nltk.word_tokenize(sent) for sent in nltk.sent_tokenize(text)]\n",
    "TL;DR\n",
    "\n",
    "You get letters as your \"words\" because Word2Vec treats strings corresponding to sentences as iterables containing words. Iterating over strings results in the sequence of letters. These letters are used as the basis for the model learning (instead of intended words).\n",
    "\n",
    "As the ancient saying goes: trash in - trash out."
   ]
  },
  {
   "cell_type": "code",
   "execution_count": 5,
   "id": "e581937e-8683-4572-9057-f4508da5708c",
   "metadata": {},
   "outputs": [
    {
     "name": "stdout",
     "output_type": "stream",
     "text": [
      "CPU times: user 6.6 s, sys: 36.5 ms, total: 6.64 s\n",
      "Wall time: 6.64 s\n"
     ]
    }
   ],
   "source": [
    "%time lines = [nltk.word_tokenize(sent) for sent in lines]"
   ]
  },
  {
   "cell_type": "markdown",
   "id": "1dd1e6cf-5c3a-44bb-bb95-cb2b9a50e428",
   "metadata": {},
   "source": [
    "**Note**  \n",
    "\n",
    "Be aware that the stopwords removed from these lines are of modern vocabulary. The application & data has a high importance to the type of preprocessing tactics necessary for cleaning of words.   \n",
    "\n",
    "In our scenario, words like \"you\" or \"yourself\" would be present in the stopwords and eliminated from the lines, however since this is shakesperes text data, these types of words would not be used. Instead \"thou\" or \"thyself\" might be useful to remove. Stay keen to these types of minature changes because they make a drastic difference in the performance of a good model versus a poor one.   \n",
    "\n",
    "For the purposes of this example, I won't be going into extreme details in identifying stopwords from a different centuary, but be aware that you should. "
   ]
  },
  {
   "cell_type": "code",
   "execution_count": 6,
   "id": "04f71412-8933-4e00-a095-5d7d05ebdbfe",
   "metadata": {},
   "outputs": [],
   "source": [
    "def remove_stopwords(lines, sw = sw):\n",
    "    '''\n",
    "    The purpose of this function is to remove stopwords from a given array of \n",
    "    lines.\n",
    "    \n",
    "    params:\n",
    "        lines (Array / List) : The list of lines you want to remove the stopwords from\n",
    "        sw (Set) : The set of stopwords you want to remove\n",
    "        \n",
    "    example:\n",
    "        lines = remove_stopwords(lines = lines, sw = sw)\n",
    "    '''\n",
    "    \n",
    "    pass\n",
    "    "
   ]
  },
  {
   "cell_type": "code",
   "execution_count": 7,
   "id": "cc83c045-0e9a-4bb0-bbba-41caccef420b",
   "metadata": {},
   "outputs": [
    {
     "name": "stdout",
     "output_type": "stream",
     "text": [
      "CPU times: user 12.9 s, sys: 52.4 ms, total: 12.9 s\n",
      "Wall time: 4.63 s\n"
     ]
    }
   ],
   "source": [
    "%%time\n",
    "w = w2v(\n",
    "    lines,\n",
    "    min_count=3,   # Ignore words that appear less than this\n",
    "    sg = 1,        # skipgrams\n",
    "    window=7       # Context window for words during training\n",
    ")       "
   ]
  },
  {
   "cell_type": "code",
   "execution_count": 8,
   "id": "e3f38f02-7d2d-48aa-9dd5-9757ec9e5ebf",
   "metadata": {},
   "outputs": [
    {
     "data": {
      "text/plain": [
       "[('thyself', 0.7617937326431274),\n",
       " ('dost', 0.7033066153526306),\n",
       " ('art', 0.7012175917625427),\n",
       " ('wert', 0.6756544709205627),\n",
       " ('wilt', 0.6744774580001831),\n",
       " ('wouldst', 0.6668638586997986),\n",
       " ('didst', 0.6648744940757751),\n",
       " ('darest', 0.64003986120224),\n",
       " ('canst', 0.6358746886253357),\n",
       " ('damned', 0.6250371336936951)]"
      ]
     },
     "execution_count": 8,
     "metadata": {},
     "output_type": "execute_result"
    }
   ],
   "source": [
    "w.wv.most_similar('thou')"
   ]
  },
  {
   "cell_type": "code",
   "execution_count": 9,
   "id": "1f83cafe-d0d0-446c-9d65-22fc9160c321",
   "metadata": {},
   "outputs": [
    {
     "name": "stdout",
     "output_type": "stream",
     "text": [
      "CPU times: user 1.03 s, sys: 262 ms, total: 1.29 s\n",
      "Wall time: 224 ms\n"
     ]
    }
   ],
   "source": [
    "%%time\n",
    "emb_df = (\n",
    "    pd.DataFrame(\n",
    "        [w.wv.get_vector(str(n)) for n in w.wv.key_to_index],\n",
    "        index = w.wv.key_to_index\n",
    "    )\n",
    ")"
   ]
  },
  {
   "cell_type": "code",
   "execution_count": 10,
   "id": "d79eed53-e034-45e8-962f-d9b5b778589c",
   "metadata": {},
   "outputs": [
    {
     "data": {
      "text/plain": [
       "(11676, 100)"
      ]
     },
     "execution_count": 10,
     "metadata": {},
     "output_type": "execute_result"
    }
   ],
   "source": [
    "emb_df.shape"
   ]
  },
  {
   "cell_type": "code",
   "execution_count": 11,
   "id": "8ee8f11c-b3d5-44f4-8ba3-8dee72e20e0a",
   "metadata": {},
   "outputs": [
    {
     "data": {
      "text/html": [
       "<div>\n",
       "<style scoped>\n",
       "    .dataframe tbody tr th:only-of-type {\n",
       "        vertical-align: middle;\n",
       "    }\n",
       "\n",
       "    .dataframe tbody tr th {\n",
       "        vertical-align: top;\n",
       "    }\n",
       "\n",
       "    .dataframe thead th {\n",
       "        text-align: right;\n",
       "    }\n",
       "</style>\n",
       "<table border=\"1\" class=\"dataframe\">\n",
       "  <thead>\n",
       "    <tr style=\"text-align: right;\">\n",
       "      <th></th>\n",
       "      <th>0</th>\n",
       "      <th>1</th>\n",
       "      <th>2</th>\n",
       "      <th>3</th>\n",
       "      <th>4</th>\n",
       "      <th>5</th>\n",
       "      <th>6</th>\n",
       "      <th>7</th>\n",
       "      <th>8</th>\n",
       "      <th>9</th>\n",
       "      <th>...</th>\n",
       "      <th>90</th>\n",
       "      <th>91</th>\n",
       "      <th>92</th>\n",
       "      <th>93</th>\n",
       "      <th>94</th>\n",
       "      <th>95</th>\n",
       "      <th>96</th>\n",
       "      <th>97</th>\n",
       "      <th>98</th>\n",
       "      <th>99</th>\n",
       "    </tr>\n",
       "  </thead>\n",
       "  <tbody>\n",
       "    <tr>\n",
       "      <th>the</th>\n",
       "      <td>0.039708</td>\n",
       "      <td>0.308472</td>\n",
       "      <td>0.108888</td>\n",
       "      <td>0.089284</td>\n",
       "      <td>-0.122598</td>\n",
       "      <td>-0.347391</td>\n",
       "      <td>0.121267</td>\n",
       "      <td>0.299398</td>\n",
       "      <td>0.073887</td>\n",
       "      <td>0.280679</td>\n",
       "      <td>...</td>\n",
       "      <td>0.349533</td>\n",
       "      <td>-0.211728</td>\n",
       "      <td>0.003442</td>\n",
       "      <td>-0.004177</td>\n",
       "      <td>0.195464</td>\n",
       "      <td>0.245974</td>\n",
       "      <td>0.006582</td>\n",
       "      <td>-0.056966</td>\n",
       "      <td>-0.011677</td>\n",
       "      <td>0.363435</td>\n",
       "    </tr>\n",
       "    <tr>\n",
       "      <th>and</th>\n",
       "      <td>-0.249777</td>\n",
       "      <td>0.110457</td>\n",
       "      <td>0.493427</td>\n",
       "      <td>-0.099348</td>\n",
       "      <td>0.073896</td>\n",
       "      <td>-0.203526</td>\n",
       "      <td>-0.149162</td>\n",
       "      <td>0.558275</td>\n",
       "      <td>-0.163340</td>\n",
       "      <td>-0.184379</td>\n",
       "      <td>...</td>\n",
       "      <td>0.138404</td>\n",
       "      <td>-0.167079</td>\n",
       "      <td>0.232005</td>\n",
       "      <td>-0.115370</td>\n",
       "      <td>0.144197</td>\n",
       "      <td>0.117723</td>\n",
       "      <td>0.162362</td>\n",
       "      <td>-0.045052</td>\n",
       "      <td>0.024747</td>\n",
       "      <td>0.187778</td>\n",
       "    </tr>\n",
       "    <tr>\n",
       "      <th>i</th>\n",
       "      <td>-0.143954</td>\n",
       "      <td>-0.129488</td>\n",
       "      <td>-0.276822</td>\n",
       "      <td>-0.156139</td>\n",
       "      <td>-0.033278</td>\n",
       "      <td>-0.150638</td>\n",
       "      <td>0.056731</td>\n",
       "      <td>0.241154</td>\n",
       "      <td>-0.485063</td>\n",
       "      <td>-0.168646</td>\n",
       "      <td>...</td>\n",
       "      <td>-0.050791</td>\n",
       "      <td>0.285182</td>\n",
       "      <td>0.279047</td>\n",
       "      <td>-0.335270</td>\n",
       "      <td>0.262314</td>\n",
       "      <td>0.413425</td>\n",
       "      <td>-0.029052</td>\n",
       "      <td>0.092678</td>\n",
       "      <td>0.002152</td>\n",
       "      <td>-0.292311</td>\n",
       "    </tr>\n",
       "    <tr>\n",
       "      <th>to</th>\n",
       "      <td>-0.399736</td>\n",
       "      <td>0.128378</td>\n",
       "      <td>-0.087687</td>\n",
       "      <td>-0.364472</td>\n",
       "      <td>0.144386</td>\n",
       "      <td>-0.241506</td>\n",
       "      <td>-0.207709</td>\n",
       "      <td>0.390173</td>\n",
       "      <td>-0.298764</td>\n",
       "      <td>-0.290757</td>\n",
       "      <td>...</td>\n",
       "      <td>0.084989</td>\n",
       "      <td>-0.026750</td>\n",
       "      <td>0.046694</td>\n",
       "      <td>-0.047401</td>\n",
       "      <td>0.450213</td>\n",
       "      <td>0.095497</td>\n",
       "      <td>0.257514</td>\n",
       "      <td>0.055931</td>\n",
       "      <td>0.243648</td>\n",
       "      <td>-0.112939</td>\n",
       "    </tr>\n",
       "    <tr>\n",
       "      <th>of</th>\n",
       "      <td>-0.332002</td>\n",
       "      <td>0.221795</td>\n",
       "      <td>0.170236</td>\n",
       "      <td>0.104492</td>\n",
       "      <td>0.122140</td>\n",
       "      <td>-0.235512</td>\n",
       "      <td>0.228309</td>\n",
       "      <td>0.260999</td>\n",
       "      <td>0.033888</td>\n",
       "      <td>0.039970</td>\n",
       "      <td>...</td>\n",
       "      <td>0.272590</td>\n",
       "      <td>-0.126502</td>\n",
       "      <td>0.133243</td>\n",
       "      <td>-0.300976</td>\n",
       "      <td>0.440163</td>\n",
       "      <td>-0.364416</td>\n",
       "      <td>0.276871</td>\n",
       "      <td>-0.074051</td>\n",
       "      <td>0.171385</td>\n",
       "      <td>-0.282454</td>\n",
       "    </tr>\n",
       "  </tbody>\n",
       "</table>\n",
       "<p>5 rows × 100 columns</p>\n",
       "</div>"
      ],
      "text/plain": [
       "           0         1         2         3         4         5         6   \\\n",
       "the  0.039708  0.308472  0.108888  0.089284 -0.122598 -0.347391  0.121267   \n",
       "and -0.249777  0.110457  0.493427 -0.099348  0.073896 -0.203526 -0.149162   \n",
       "i   -0.143954 -0.129488 -0.276822 -0.156139 -0.033278 -0.150638  0.056731   \n",
       "to  -0.399736  0.128378 -0.087687 -0.364472  0.144386 -0.241506 -0.207709   \n",
       "of  -0.332002  0.221795  0.170236  0.104492  0.122140 -0.235512  0.228309   \n",
       "\n",
       "           7         8         9   ...        90        91        92  \\\n",
       "the  0.299398  0.073887  0.280679  ...  0.349533 -0.211728  0.003442   \n",
       "and  0.558275 -0.163340 -0.184379  ...  0.138404 -0.167079  0.232005   \n",
       "i    0.241154 -0.485063 -0.168646  ... -0.050791  0.285182  0.279047   \n",
       "to   0.390173 -0.298764 -0.290757  ...  0.084989 -0.026750  0.046694   \n",
       "of   0.260999  0.033888  0.039970  ...  0.272590 -0.126502  0.133243   \n",
       "\n",
       "           93        94        95        96        97        98        99  \n",
       "the -0.004177  0.195464  0.245974  0.006582 -0.056966 -0.011677  0.363435  \n",
       "and -0.115370  0.144197  0.117723  0.162362 -0.045052  0.024747  0.187778  \n",
       "i   -0.335270  0.262314  0.413425 -0.029052  0.092678  0.002152 -0.292311  \n",
       "to  -0.047401  0.450213  0.095497  0.257514  0.055931  0.243648 -0.112939  \n",
       "of  -0.300976  0.440163 -0.364416  0.276871 -0.074051  0.171385 -0.282454  \n",
       "\n",
       "[5 rows x 100 columns]"
      ]
     },
     "execution_count": 11,
     "metadata": {},
     "output_type": "execute_result"
    }
   ],
   "source": [
    "emb_df.head()"
   ]
  },
  {
   "cell_type": "markdown",
   "id": "ae3a27bd-74d0-4ca3-b506-a2643327a0ed",
   "metadata": {},
   "source": [
    "### Visualize Embedding"
   ]
  },
  {
   "cell_type": "code",
   "execution_count": 21,
   "id": "f16412d5-4936-46e2-8a98-673482663b62",
   "metadata": {},
   "outputs": [
    {
     "data": {
      "text/plain": [
       "<Figure size 432x288 with 0 Axes>"
      ]
     },
     "metadata": {},
     "output_type": "display_data"
    },
    {
     "data": {
      "image/png": "[encoded data removed]",
      "text/plain": [
       "<Figure size 432x288 with 1 Axes>"
      ]
     },
     "metadata": {},
     "output_type": "display_data"
    }
   ],
   "source": [
    "plt.clf()\n",
    "fig=plt.figure(figsize=(6,4))\n",
    "plt.scatter(\n",
    "    x = emb_df.iloc[:,0],\n",
    "    y = emb_df.iloc[:,1],\n",
    "    s = 0.2,\n",
    "    color = 'maroon',\n",
    "    alpha = 0.5\n",
    ")\n",
    "plt.show()\n"
   ]
  },
  {
   "cell_type": "markdown",
   "id": "f66a1163-436e-440c-b4b3-4eb058d100bf",
   "metadata": {},
   "source": [
    "### PCA"
   ]
  },
  {
   "cell_type": "code",
   "execution_count": 15,
   "id": "38bd14ea-3fd3-485d-aaee-71bae440746e",
   "metadata": {},
   "outputs": [],
   "source": [
    "pca = PCA(n_components=2, random_state=7)\n",
    "pca_mdl = pca.fit_transform(emb_df)"
   ]
  },
  {
   "cell_type": "code",
   "execution_count": 16,
   "id": "7e331921-f558-4880-93d7-85bce5f4e1b6",
   "metadata": {},
   "outputs": [],
   "source": [
    "emb_df_PCA = (\n",
    "    pd.DataFrame(\n",
    "        pca_mdl,\n",
    "        columns=['x','y'],\n",
    "        index = emb_df.index\n",
    "    )\n",
    ")"
   ]
  },
  {
   "cell_type": "code",
   "execution_count": 20,
   "id": "b6ecea79-dbe1-4a6b-a978-806d4ceeb857",
   "metadata": {},
   "outputs": [
    {
     "data": {
      "text/plain": [
       "[]"
      ]
     },
     "execution_count": 20,
     "metadata": {},
     "output_type": "execute_result"
    },
    {
     "data": {
      "text/plain": [
       "<Figure size 432x288 with 0 Axes>"
      ]
     },
     "metadata": {},
     "output_type": "display_data"
    },
    {
     "data": {
      "image/png": "[encoded data removed]",
      "text/plain": [
       "<Figure size 432x288 with 1 Axes>"
      ]
     },
     "metadata": {},
     "output_type": "display_data"
    }
   ],
   "source": [
    "plt.clf()\n",
    "fig = plt.figure(figsize=(6,4))\n",
    "\n",
    "plt.scatter(\n",
    "    x = emb_df_PCA['x'],\n",
    "    y = emb_df_PCA['y'],\n",
    "    s = 0.2,\n",
    "    color = 'maroon',\n",
    "    alpha = 0.5\n",
    ")\n",
    "\n",
    "plt.xlabel('PCA-1')\n",
    "plt.ylabel('PCA-2')\n",
    "plt.plot()\n"
   ]
  },
  {
   "cell_type": "code",
   "execution_count": null,
   "id": "dab0823f-9b41-4549-b294-76957e645e06",
   "metadata": {},
   "outputs": [],
   "source": []
  },
  {
   "cell_type": "code",
   "execution_count": null,
   "id": "dec47f99-83d0-438f-8ec9-10d787bcd21e",
   "metadata": {},
   "outputs": [],
   "source": []
  },
  {
   "cell_type": "markdown",
   "id": "60651c80-0038-4aa6-a729-bb9460f0c362",
   "metadata": {},
   "source": [
    "https://towardsdatascience.com/a-word2vec-implementation-using-numpy-and-python-d256cf0e5f28"
   ]
  },
  {
   "cell_type": "markdown",
   "id": "79651cf6-5760-4f94-b74d-211ae0ae98f8",
   "metadata": {},
   "source": [
    "## Document Similarity"
   ]
  },
  {
   "cell_type": "markdown",
   "id": "1d541be2-2d7a-4e63-aa5f-6bf61f562b91",
   "metadata": {},
   "source": [
    "https://stackoverflow.com/questions/45869881/finding-similarity-between-2-sentences-using-word2vec-of-sentence-with-python"
   ]
  },
  {
   "cell_type": "markdown",
   "id": "dd0ea6b0-d374-4eec-a539-bf2717b7f5ea",
   "metadata": {},
   "source": [
    "https://stackoverflow.com/questions/41623174/using-word2vec-to-calculate-sentence-similarity"
   ]
  },
  {
   "cell_type": "markdown",
   "id": "73ebb674-cd74-4d44-aeb1-88d0ac6fce61",
   "metadata": {},
   "source": [
    "https://stackoverflow.com/questions/65852710/text-similarity-using-word2vec"
   ]
  },
  {
   "cell_type": "markdown",
   "id": "01c9929a-170f-433b-b2da-293c07f38338",
   "metadata": {},
   "source": [
    "https://towardsdatascience.com/how-to-compute-sentence-similarity-using-bert-and-word2vec-ab0663a5d64"
   ]
  },
  {
   "cell_type": "markdown",
   "id": "04416e0d-cf07-4b06-8ad9-888bcc1da10b",
   "metadata": {},
   "source": [
    "https://stackoverflow.com/questions/22129943/how-to-calculate-the-sentence-similarity-using-word2vec-model-of-gensim-with-pyt"
   ]
  },
  {
   "cell_type": "markdown",
   "id": "7d357cc6-4dfe-4e69-8379-973b199bb9a4",
   "metadata": {},
   "source": [
    "## Sentiment Analysis"
   ]
  },
  {
   "cell_type": "markdown",
   "id": "8dedb618-9f34-4b60-9c0c-c99d75f30407",
   "metadata": {},
   "source": [
    "https://medium.com/swlh/sentiment-classification-using-word-embeddings-word2vec-aedf28fbb8ca"
   ]
  },
  {
   "cell_type": "code",
   "execution_count": null,
   "id": "fd00882c-5e59-4d23-8b61-ac4481b9bb8e",
   "metadata": {},
   "outputs": [],
   "source": []
  },
  {
   "cell_type": "markdown",
   "id": "7c3d7127-d1be-4052-8851-2e42282c829f",
   "metadata": {},
   "source": [
    "## Topic Modelling"
   ]
  },
  {
   "cell_type": "code",
   "execution_count": null,
   "id": "c754c4b5-f95a-4b4a-bf50-705ad24584a7",
   "metadata": {},
   "outputs": [],
   "source": []
  },
  {
   "cell_type": "code",
   "execution_count": null,
   "id": "6285d40b-1bc1-414f-bbaa-a1573247a8af",
   "metadata": {},
   "outputs": [],
   "source": []
  }
 ],
 "metadata": {
  "kernelspec": {
   "display_name": "Python 3",
   "language": "python",
   "name": "python3"
  },
  "language_info": {
   "codemirror_mode": {
    "name": "ipython",
    "version": 3
   },
   "file_extension": ".py",
   "mimetype": "text/x-python",
   "name": "python",
   "nbconvert_exporter": "python",
   "pygments_lexer": "ipython3",
   "version": "3.8.8"
  }
 },
 "nbformat": 4,
 "nbformat_minor": 5
}
