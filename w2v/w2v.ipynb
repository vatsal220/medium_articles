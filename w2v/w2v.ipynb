{
 "cells": [
  {
   "cell_type": "markdown",
   "id": "d2ae1ec4-90c8-4784-9db4-a1a84fc5ab72",
   "metadata": {},
   "source": [
    "# Word2Vec Implementation"
   ]
  },
  {
   "cell_type": "code",
   "execution_count": 1,
   "id": "f66dd140-80f3-49a7-9099-3ba6ec11cfc2",
   "metadata": {},
   "outputs": [],
   "source": [
    "import pandas as pd\n",
    "import nltk\n",
    "import string\n",
    "import matplotlib.pyplot as plt\n",
    "\n",
    "from nltk.corpus import stopwords\n",
    "from nltk import word_tokenize\n",
    "from gensim.models import Word2Vec as w2v\n",
    "from sklearn.decomposition import PCA"
   ]
  },
  {
   "cell_type": "code",
   "execution_count": 2,
   "id": "6e31c509-6029-44d6-80d7-24224784967d",
   "metadata": {},
   "outputs": [],
   "source": [
    "# constants\n",
    "PATH = 'data/shakespeare.txt'\n",
    "sw = stopwords.words('english')\n",
    "plt.style.use('ggplot')\n",
    "# nltk.download('punkt')\n",
    "# nltk.download('stopwords')"
   ]
  },
  {
   "cell_type": "markdown",
   "id": "5ab0b85c-e610-4f09-a47a-2894b066ebde",
   "metadata": {},
   "source": [
    "## Import Data"
   ]
  },
  {
   "cell_type": "code",
   "execution_count": 3,
   "id": "6a99a535-b628-4d93-ae16-6d1c49ae3a85",
   "metadata": {},
   "outputs": [
    {
     "name": "stdout",
     "output_type": "stream",
     "text": [
      "CPU times: user 22.7 ms, sys: 4.71 ms, total: 27.4 ms\n",
      "Wall time: 26.8 ms\n"
     ]
    }
   ],
   "source": [
    "%%time\n",
    "lines = []\n",
    "with open(PATH, 'r') as f:\n",
    "    for l in f:\n",
    "        lines.append(l)"
   ]
  },
  {
   "cell_type": "markdown",
   "id": "a7e68fe5-6ef0-4446-8376-af84a4c5dc22",
   "metadata": {},
   "source": [
    "## Preprocessing"
   ]
  },
  {
   "cell_type": "code",
   "execution_count": 4,
   "id": "2f9258fe-02b7-431b-9a3b-d9861de8f6ee",
   "metadata": {},
   "outputs": [],
   "source": [
    "# remove new lines\n",
    "lines = [line.rstrip('\\n') for line in lines]\n",
    "\n",
    "# make all characters lower\n",
    "lines = [line.lower() for line in lines]\n",
    "\n",
    "# remove punctuations from each line\n",
    "lines = [line.translate(str.maketrans('', '', string.punctuation)) for line in lines]"
   ]
  },
  {
   "cell_type": "markdown",
   "id": "f140c260-83a2-48e0-bfc8-199f0f570330",
   "metadata": {},
   "source": [
    "Source : https://stackoverflow.com/questions/54929726/word2vec-vocab-results-in-just-letters-and-symbols  \n",
    "\n",
    "As the tutorial and the documentation for Word2Vec class suggests the constructor of the class requires list of lists of words as the first parameter (or iterator of iterators of words in general):\n",
    "\n",
    "sentences (iterable of iterables, optional) – The sentences iterable can be simply a list of lists of tokens, but for larger corpora,...\n",
    "\n",
    "I believe before feeding in sentences into Word2Vec you need to use words_tokenize on each of the sentences changing the crucial line to:\n",
    "\n",
    "sentences = [nltk.word_tokenize(sent) for sent in nltk.sent_tokenize(text)]\n",
    "TL;DR\n",
    "\n",
    "You get letters as your \"words\" because Word2Vec treats strings corresponding to sentences as iterables containing words. Iterating over strings results in the sequence of letters. These letters are used as the basis for the model learning (instead of intended words).\n",
    "\n",
    "As the ancient saying goes: trash in - trash out."
   ]
  },
  {
   "cell_type": "code",
   "execution_count": 5,
   "id": "e581937e-8683-4572-9057-f4508da5708c",
   "metadata": {},
   "outputs": [
    {
     "name": "stdout",
     "output_type": "stream",
     "text": [
      "CPU times: user 6.63 s, sys: 49.3 ms, total: 6.68 s\n",
      "Wall time: 6.7 s\n"
     ]
    }
   ],
   "source": [
    "%time lines = [word_tokenize(line) for line in lines]"
   ]
  },
  {
   "cell_type": "markdown",
   "id": "1dd1e6cf-5c3a-44bb-bb95-cb2b9a50e428",
   "metadata": {},
   "source": [
    "**Note**  \n",
    "\n",
    "Be aware that the stopwords removed from these lines are of modern vocabulary. The application & data has a high importance to the type of preprocessing tactics necessary for cleaning of words.   \n",
    "\n",
    "In our scenario, words like \"you\" or \"yourself\" would be present in the stopwords and eliminated from the lines, however since this is Shakespeare text data, these types of words would not be used. Instead \"thou\" or \"thyself\" might be useful to remove. Stay keen to these types of miniature changes because they make a drastic difference in the performance of a good model versus a poor one.   \n",
    "\n",
    "For the purposes of this example, I won't be going into extreme details in identifying stopwords from a different centuary, but be aware that you should. "
   ]
  },
  {
   "cell_type": "code",
   "execution_count": 6,
   "id": "04f71412-8933-4e00-a095-5d7d05ebdbfe",
   "metadata": {},
   "outputs": [],
   "source": [
    "def remove_stopwords(lines, sw = sw):\n",
    "    '''\n",
    "    The purpose of this function is to remove stopwords from a given array of \n",
    "    lines.\n",
    "    \n",
    "    params:\n",
    "        lines (Array / List) : The list of lines you want to remove the stopwords from\n",
    "        sw (Set) : The set of stopwords you want to remove\n",
    "        \n",
    "    example:\n",
    "        lines = remove_stopwords(lines = lines, sw = sw)\n",
    "    '''\n",
    "    \n",
    "    res = []\n",
    "    for line in lines:\n",
    "        original = line\n",
    "        line = [w for w in line if w not in sw]\n",
    "        if len(line) < 1:\n",
    "            line = original\n",
    "        res.append(line)\n",
    "    return res\n",
    "    "
   ]
  },
  {
   "cell_type": "code",
   "execution_count": 7,
   "id": "610d2a24-a18d-4761-af50-1b489f3a3ef5",
   "metadata": {},
   "outputs": [
    {
     "name": "stdout",
     "output_type": "stream",
     "text": [
      "CPU times: user 1.17 s, sys: 6.9 ms, total: 1.17 s\n",
      "Wall time: 1.17 s\n"
     ]
    }
   ],
   "source": [
    "%time filtered_lines = remove_stopwords(lines = lines, sw = sw)"
   ]
  },
  {
   "cell_type": "markdown",
   "id": "30d521b3-a596-43f6-a085-f143969c73aa",
   "metadata": {},
   "source": [
    "## Word2Vec"
   ]
  },
  {
   "cell_type": "code",
   "execution_count": 8,
   "id": "cc83c045-0e9a-4bb0-bbba-41caccef420b",
   "metadata": {},
   "outputs": [
    {
     "name": "stdout",
     "output_type": "stream",
     "text": [
      "CPU times: user 5.75 s, sys: 46.2 ms, total: 5.8 s\n",
      "Wall time: 2.19 s\n"
     ]
    }
   ],
   "source": [
    "%%time\n",
    "w = w2v(\n",
    "    filtered_lines,\n",
    "    min_count=3,  \n",
    "    sg = 1,       \n",
    "    window=7      \n",
    ")       "
   ]
  },
  {
   "cell_type": "code",
   "execution_count": 9,
   "id": "e3f38f02-7d2d-48aa-9dd5-9757ec9e5ebf",
   "metadata": {},
   "outputs": [
    {
     "data": {
      "text/plain": [
       "[('art', 0.8135842680931091),\n",
       " ('thyself', 0.8109593391418457),\n",
       " ('villain', 0.7695742249488831),\n",
       " ('dost', 0.765337347984314),\n",
       " ('wherefore', 0.7053741216659546),\n",
       " ('wilt', 0.6975802779197693),\n",
       " ('traitor', 0.6887860894203186),\n",
       " ('didst', 0.6853086948394775),\n",
       " ('kill', 0.6819393038749695),\n",
       " ('canst', 0.6708817481994629)]"
      ]
     },
     "execution_count": 9,
     "metadata": {},
     "output_type": "execute_result"
    }
   ],
   "source": [
    "w.wv.most_similar('thou')"
   ]
  },
  {
   "cell_type": "code",
   "execution_count": 10,
   "id": "1f83cafe-d0d0-446c-9d65-22fc9160c321",
   "metadata": {},
   "outputs": [
    {
     "name": "stdout",
     "output_type": "stream",
     "text": [
      "CPU times: user 967 ms, sys: 255 ms, total: 1.22 s\n",
      "Wall time: 277 ms\n"
     ]
    }
   ],
   "source": [
    "%%time\n",
    "emb_df = (\n",
    "    pd.DataFrame(\n",
    "        [w.wv.get_vector(str(n)) for n in w.wv.key_to_index],\n",
    "        index = w.wv.key_to_index\n",
    "    )\n",
    ")"
   ]
  },
  {
   "cell_type": "code",
   "execution_count": 11,
   "id": "d79eed53-e034-45e8-962f-d9b5b778589c",
   "metadata": {},
   "outputs": [
    {
     "data": {
      "text/plain": [
       "(11628, 100)"
      ]
     },
     "execution_count": 11,
     "metadata": {},
     "output_type": "execute_result"
    }
   ],
   "source": [
    "emb_df.shape"
   ]
  },
  {
   "cell_type": "code",
   "execution_count": 12,
   "id": "8ee8f11c-b3d5-44f4-8ba3-8dee72e20e0a",
   "metadata": {},
   "outputs": [
    {
     "data": {
      "text/html": [
       "<div>\n",
       "<style scoped>\n",
       "    .dataframe tbody tr th:only-of-type {\n",
       "        vertical-align: middle;\n",
       "    }\n",
       "\n",
       "    .dataframe tbody tr th {\n",
       "        vertical-align: top;\n",
       "    }\n",
       "\n",
       "    .dataframe thead th {\n",
       "        text-align: right;\n",
       "    }\n",
       "</style>\n",
       "<table border=\"1\" class=\"dataframe\">\n",
       "  <thead>\n",
       "    <tr style=\"text-align: right;\">\n",
       "      <th></th>\n",
       "      <th>0</th>\n",
       "      <th>1</th>\n",
       "      <th>2</th>\n",
       "      <th>3</th>\n",
       "      <th>4</th>\n",
       "      <th>5</th>\n",
       "      <th>6</th>\n",
       "      <th>7</th>\n",
       "      <th>8</th>\n",
       "      <th>9</th>\n",
       "      <th>...</th>\n",
       "      <th>90</th>\n",
       "      <th>91</th>\n",
       "      <th>92</th>\n",
       "      <th>93</th>\n",
       "      <th>94</th>\n",
       "      <th>95</th>\n",
       "      <th>96</th>\n",
       "      <th>97</th>\n",
       "      <th>98</th>\n",
       "      <th>99</th>\n",
       "    </tr>\n",
       "  </thead>\n",
       "  <tbody>\n",
       "    <tr>\n",
       "      <th>thou</th>\n",
       "      <td>0.071765</td>\n",
       "      <td>-0.262208</td>\n",
       "      <td>0.580821</td>\n",
       "      <td>0.613069</td>\n",
       "      <td>-0.152032</td>\n",
       "      <td>-0.574483</td>\n",
       "      <td>0.477529</td>\n",
       "      <td>0.461267</td>\n",
       "      <td>-0.391983</td>\n",
       "      <td>-0.325628</td>\n",
       "      <td>...</td>\n",
       "      <td>0.126213</td>\n",
       "      <td>0.039415</td>\n",
       "      <td>0.471128</td>\n",
       "      <td>0.040318</td>\n",
       "      <td>0.948505</td>\n",
       "      <td>0.661767</td>\n",
       "      <td>-0.507984</td>\n",
       "      <td>-0.454711</td>\n",
       "      <td>0.159548</td>\n",
       "      <td>0.414686</td>\n",
       "    </tr>\n",
       "    <tr>\n",
       "      <th>thy</th>\n",
       "      <td>-0.287280</td>\n",
       "      <td>0.223920</td>\n",
       "      <td>0.499497</td>\n",
       "      <td>0.379303</td>\n",
       "      <td>0.099628</td>\n",
       "      <td>-0.255213</td>\n",
       "      <td>0.323067</td>\n",
       "      <td>0.629277</td>\n",
       "      <td>-0.060799</td>\n",
       "      <td>-0.191472</td>\n",
       "      <td>...</td>\n",
       "      <td>0.144934</td>\n",
       "      <td>-0.124090</td>\n",
       "      <td>0.508260</td>\n",
       "      <td>-0.330313</td>\n",
       "      <td>0.382919</td>\n",
       "      <td>0.334298</td>\n",
       "      <td>-0.227580</td>\n",
       "      <td>-0.288052</td>\n",
       "      <td>0.090127</td>\n",
       "      <td>0.216141</td>\n",
       "    </tr>\n",
       "    <tr>\n",
       "      <th>shall</th>\n",
       "      <td>0.133631</td>\n",
       "      <td>0.074724</td>\n",
       "      <td>0.137027</td>\n",
       "      <td>-0.033206</td>\n",
       "      <td>0.507911</td>\n",
       "      <td>-0.167195</td>\n",
       "      <td>0.096453</td>\n",
       "      <td>0.343159</td>\n",
       "      <td>-0.306767</td>\n",
       "      <td>0.031387</td>\n",
       "      <td>...</td>\n",
       "      <td>0.355946</td>\n",
       "      <td>0.071251</td>\n",
       "      <td>0.011355</td>\n",
       "      <td>-0.096995</td>\n",
       "      <td>0.607929</td>\n",
       "      <td>0.213092</td>\n",
       "      <td>0.240384</td>\n",
       "      <td>0.014421</td>\n",
       "      <td>0.396242</td>\n",
       "      <td>0.146480</td>\n",
       "    </tr>\n",
       "    <tr>\n",
       "      <th>thee</th>\n",
       "      <td>-0.439464</td>\n",
       "      <td>0.071471</td>\n",
       "      <td>0.430792</td>\n",
       "      <td>0.369461</td>\n",
       "      <td>0.105415</td>\n",
       "      <td>-0.234900</td>\n",
       "      <td>0.241062</td>\n",
       "      <td>0.605452</td>\n",
       "      <td>-0.206801</td>\n",
       "      <td>-0.356856</td>\n",
       "      <td>...</td>\n",
       "      <td>0.216933</td>\n",
       "      <td>-0.059680</td>\n",
       "      <td>0.165637</td>\n",
       "      <td>0.039254</td>\n",
       "      <td>0.635743</td>\n",
       "      <td>0.453360</td>\n",
       "      <td>0.093936</td>\n",
       "      <td>-0.017395</td>\n",
       "      <td>0.346983</td>\n",
       "      <td>0.203495</td>\n",
       "    </tr>\n",
       "    <tr>\n",
       "      <th>good</th>\n",
       "      <td>0.169427</td>\n",
       "      <td>0.220067</td>\n",
       "      <td>0.143300</td>\n",
       "      <td>-0.128408</td>\n",
       "      <td>0.040213</td>\n",
       "      <td>0.102019</td>\n",
       "      <td>0.299314</td>\n",
       "      <td>0.703772</td>\n",
       "      <td>-0.361499</td>\n",
       "      <td>-0.028506</td>\n",
       "      <td>...</td>\n",
       "      <td>0.476623</td>\n",
       "      <td>-0.028752</td>\n",
       "      <td>0.452947</td>\n",
       "      <td>-0.149620</td>\n",
       "      <td>0.587448</td>\n",
       "      <td>-0.082644</td>\n",
       "      <td>0.372992</td>\n",
       "      <td>0.005763</td>\n",
       "      <td>0.435973</td>\n",
       "      <td>-0.056964</td>\n",
       "    </tr>\n",
       "  </tbody>\n",
       "</table>\n",
       "<p>5 rows × 100 columns</p>\n",
       "</div>"
      ],
      "text/plain": [
       "             0         1         2         3         4         5         6   \\\n",
       "thou   0.071765 -0.262208  0.580821  0.613069 -0.152032 -0.574483  0.477529   \n",
       "thy   -0.287280  0.223920  0.499497  0.379303  0.099628 -0.255213  0.323067   \n",
       "shall  0.133631  0.074724  0.137027 -0.033206  0.507911 -0.167195  0.096453   \n",
       "thee  -0.439464  0.071471  0.430792  0.369461  0.105415 -0.234900  0.241062   \n",
       "good   0.169427  0.220067  0.143300 -0.128408  0.040213  0.102019  0.299314   \n",
       "\n",
       "             7         8         9   ...        90        91        92  \\\n",
       "thou   0.461267 -0.391983 -0.325628  ...  0.126213  0.039415  0.471128   \n",
       "thy    0.629277 -0.060799 -0.191472  ...  0.144934 -0.124090  0.508260   \n",
       "shall  0.343159 -0.306767  0.031387  ...  0.355946  0.071251  0.011355   \n",
       "thee   0.605452 -0.206801 -0.356856  ...  0.216933 -0.059680  0.165637   \n",
       "good   0.703772 -0.361499 -0.028506  ...  0.476623 -0.028752  0.452947   \n",
       "\n",
       "             93        94        95        96        97        98        99  \n",
       "thou   0.040318  0.948505  0.661767 -0.507984 -0.454711  0.159548  0.414686  \n",
       "thy   -0.330313  0.382919  0.334298 -0.227580 -0.288052  0.090127  0.216141  \n",
       "shall -0.096995  0.607929  0.213092  0.240384  0.014421  0.396242  0.146480  \n",
       "thee   0.039254  0.635743  0.453360  0.093936 -0.017395  0.346983  0.203495  \n",
       "good  -0.149620  0.587448 -0.082644  0.372992  0.005763  0.435973 -0.056964  \n",
       "\n",
       "[5 rows x 100 columns]"
      ]
     },
     "execution_count": 12,
     "metadata": {},
     "output_type": "execute_result"
    }
   ],
   "source": [
    "emb_df.head()"
   ]
  },
  {
   "cell_type": "markdown",
   "id": "ae3a27bd-74d0-4ca3-b506-a2643327a0ed",
   "metadata": {},
   "source": [
    "### Visualize Embedding"
   ]
  },
  {
   "cell_type": "code",
   "execution_count": 13,
   "id": "f16412d5-4936-46e2-8a98-673482663b62",
   "metadata": {},
   "outputs": [
    {
     "data": {
      "text/plain": [
       "<Figure size 432x288 with 0 Axes>"
      ]
     },
     "metadata": {},
     "output_type": "display_data"
    },
    {
     "data": {
      "image/png": "[encoded data removed]",
      "text/plain": [
       "<Figure size 432x288 with 1 Axes>"
      ]
     },
     "metadata": {},
     "output_type": "display_data"
    }
   ],
   "source": [
    "plt.clf()\n",
    "fig=plt.figure(figsize=(6,4))\n",
    "plt.scatter(\n",
    "    x = emb_df.iloc[:,0],\n",
    "    y = emb_df.iloc[:,1],\n",
    "    s = 0.2,\n",
    "    color = 'maroon',\n",
    "    alpha = 0.5\n",
    ")\n",
    "plt.title('Embedding Visualizations')\n",
    "plt.show()\n"
   ]
  },
  {
   "cell_type": "markdown",
   "id": "f66a1163-436e-440c-b4b3-4eb058d100bf",
   "metadata": {},
   "source": [
    "### PCA"
   ]
  },
  {
   "cell_type": "code",
   "execution_count": 14,
   "id": "38bd14ea-3fd3-485d-aaee-71bae440746e",
   "metadata": {},
   "outputs": [],
   "source": [
    "pca = PCA(n_components=2, random_state=7)\n",
    "pca_mdl = pca.fit_transform(emb_df)"
   ]
  },
  {
   "cell_type": "code",
   "execution_count": 15,
   "id": "7e331921-f558-4880-93d7-85bce5f4e1b6",
   "metadata": {},
   "outputs": [],
   "source": [
    "emb_df_PCA = (\n",
    "    pd.DataFrame(\n",
    "        pca_mdl,\n",
    "        columns=['x','y'],\n",
    "        index = emb_df.index\n",
    "    )\n",
    ")"
   ]
  },
  {
   "cell_type": "code",
   "execution_count": 16,
   "id": "b6ecea79-dbe1-4a6b-a978-806d4ceeb857",
   "metadata": {},
   "outputs": [
    {
     "data": {
      "text/plain": [
       "<Figure size 432x288 with 0 Axes>"
      ]
     },
     "metadata": {},
     "output_type": "display_data"
    },
    {
     "data": {
      "image/png": "[encoded data removed]",
      "text/plain": [
       "<Figure size 432x288 with 1 Axes>"
      ]
     },
     "metadata": {},
     "output_type": "display_data"
    }
   ],
   "source": [
    "plt.clf()\n",
    "fig = plt.figure(figsize=(6,4))\n",
    "\n",
    "plt.scatter(\n",
    "    x = emb_df_PCA['x'],\n",
    "    y = emb_df_PCA['y'],\n",
    "    s = 0.4,\n",
    "    color = 'maroon',\n",
    "    alpha = 0.5\n",
    ")\n",
    "\n",
    "plt.xlabel('PCA-1')\n",
    "plt.ylabel('PCA-2')\n",
    "plt.title('PCA Visualization')\n",
    "plt.plot()\n",
    "plt.show()"
   ]
  },
  {
   "cell_type": "code",
   "execution_count": null,
   "id": "dec47f99-83d0-438f-8ec9-10d787bcd21e",
   "metadata": {},
   "outputs": [],
   "source": []
  }
 ],
 "metadata": {
  "kernelspec": {
   "display_name": "Python 3",
   "language": "python",
   "name": "python3"
  },
  "language_info": {
   "codemirror_mode": {
    "name": "ipython",
    "version": 3
   },
   "file_extension": ".py",
   "mimetype": "text/x-python",
   "name": "python",
   "nbconvert_exporter": "python",
   "pygments_lexer": "ipython3",
   "version": "3.8.8"
  }
 },
 "nbformat": 4,
 "nbformat_minor": 5
}
