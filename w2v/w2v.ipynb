{
 "cells": [
  {
   "cell_type": "markdown",
   "id": "d2ae1ec4-90c8-4784-9db4-a1a84fc5ab72",
   "metadata": {},
   "source": [
    "# Word2Vec Implementation"
   ]
  },
  {
   "cell_type": "code",
   "execution_count": 1,
   "id": "f66dd140-80f3-49a7-9099-3ba6ec11cfc2",
   "metadata": {},
   "outputs": [],
   "source": [
    "import pandas as pd\n",
    "import numpy as np\n",
    "import nltk\n",
    "import string\n",
    "import matplotlib.pyplot as plt\n",
    "\n",
    "from nltk.corpus import stopwords\n",
    "from nltk import word_tokenize\n",
    "from gensim.models import Word2Vec as w2v\n",
    "from sklearn.decomposition import PCA"
   ]
  },
  {
   "cell_type": "code",
   "execution_count": 2,
   "id": "6e31c509-6029-44d6-80d7-24224784967d",
   "metadata": {},
   "outputs": [],
   "source": [
    "# constants\n",
    "PATH = 'data/shakespeare.txt'\n",
    "sw = stopwords.words('english')\n",
    "plt.style.use('ggplot')\n",
    "# nltk.download('punkt')\n",
    "# nltk.download('stopwords')"
   ]
  },
  {
   "cell_type": "markdown",
   "id": "5ab0b85c-e610-4f09-a47a-2894b066ebde",
   "metadata": {},
   "source": [
    "## Import Data"
   ]
  },
  {
   "cell_type": "code",
   "execution_count": 3,
   "id": "6a99a535-b628-4d93-ae16-6d1c49ae3a85",
   "metadata": {},
   "outputs": [
    {
     "name": "stdout",
     "output_type": "stream",
     "text": [
      "CPU times: user 15.4 ms, sys: 4.48 ms, total: 19.9 ms\n",
      "Wall time: 21.7 ms\n"
     ]
    }
   ],
   "source": [
    "%%time\n",
    "lines = []\n",
    "with open(PATH, 'r') as f:\n",
    "    for l in f:\n",
    "        lines.append(l)"
   ]
  },
  {
   "cell_type": "markdown",
   "id": "a7e68fe5-6ef0-4446-8376-af84a4c5dc22",
   "metadata": {},
   "source": [
    "## Preprocessing"
   ]
  },
  {
   "cell_type": "code",
   "execution_count": 4,
   "id": "2f9258fe-02b7-431b-9a3b-d9861de8f6ee",
   "metadata": {},
   "outputs": [],
   "source": [
    "# remove new lines\n",
    "lines = [line.rstrip('\\n') for line in lines]\n",
    "\n",
    "# make all characters lower\n",
    "lines = [line.lower() for line in lines]\n",
    "\n",
    "# remove punctuations from each line\n",
    "lines = [line.translate(str.maketrans('', '', string.punctuation)) for line in lines]"
   ]
  },
  {
   "cell_type": "markdown",
   "id": "f140c260-83a2-48e0-bfc8-199f0f570330",
   "metadata": {},
   "source": [
    "Source : https://stackoverflow.com/questions/54929726/word2vec-vocab-results-in-just-letters-and-symbols  \n",
    "\n",
    "As the tutorial and the documentation for Word2Vec class suggests the constructor of the class requires list of lists of words as the first parameter (or iterator of iterators of words in general):\n",
    "\n",
    "sentences (iterable of iterables, optional) – The sentences iterable can be simply a list of lists of tokens, but for larger corpora,...\n",
    "\n",
    "I believe before feeding in sentences into Word2Vec you need to use words_tokenize on each of the sentences changing the crucial line to:\n",
    "\n",
    "sentences = [nltk.word_tokenize(sent) for sent in nltk.sent_tokenize(text)]\n",
    "TL;DR\n",
    "\n",
    "You get letters as your \"words\" because Word2Vec treats strings corresponding to sentences as iterables containing words. Iterating over strings results in the sequence of letters. These letters are used as the basis for the model learning (instead of intended words).\n",
    "\n",
    "As the ancient saying goes: trash in - trash out."
   ]
  },
  {
   "cell_type": "code",
   "execution_count": 5,
   "id": "e581937e-8683-4572-9057-f4508da5708c",
   "metadata": {},
   "outputs": [
    {
     "name": "stdout",
     "output_type": "stream",
     "text": [
      "CPU times: user 6.62 s, sys: 32 ms, total: 6.65 s\n",
      "Wall time: 6.65 s\n"
     ]
    }
   ],
   "source": [
    "%time lines = [nltk.word_tokenize(sent) for sent in lines]"
   ]
  },
  {
   "cell_type": "markdown",
   "id": "1dd1e6cf-5c3a-44bb-bb95-cb2b9a50e428",
   "metadata": {},
   "source": [
    "**Note**  \n",
    "\n",
    "Be aware that the stopwords removed from these lines are of modern vocabulary. The application & data has a high importance to the type of preprocessing tactics necessary for cleaning of words.   \n",
    "\n",
    "In our scenario, words like \"you\" or \"yourself\" would be present in the stopwords and eliminated from the lines, however since this is shakesperes text data, these types of words would not be used. Instead \"thou\" or \"thyself\" might be useful to remove. Stay keen to these types of minature changes because they make a drastic difference in the performance of a good model versus a poor one.   \n",
    "\n",
    "For the purposes of this example, I won't be going into extreme details in identifying stopwords from a different centuary, but be aware that you should. "
   ]
  },
  {
   "cell_type": "code",
   "execution_count": 6,
   "id": "04f71412-8933-4e00-a095-5d7d05ebdbfe",
   "metadata": {},
   "outputs": [],
   "source": [
    "def remove_stopwords(lines, sw = sw):\n",
    "    '''\n",
    "    The purpose of this function is to remove stopwords from a given array of \n",
    "    lines.\n",
    "    \n",
    "    params:\n",
    "        lines (Array / List) : The list of lines you want to remove the stopwords from\n",
    "        sw (Set) : The set of stopwords you want to remove\n",
    "        \n",
    "    example:\n",
    "        lines = remove_stopwords(lines = lines, sw = sw)\n",
    "    '''\n",
    "    \n",
    "    res = []\n",
    "    for line in lines:\n",
    "        original = line\n",
    "        line = [w for w in line if w not in sw]\n",
    "        if len(line) < 1:\n",
    "            line = original\n",
    "        res.append(line)\n",
    "    return res\n",
    "    "
   ]
  },
  {
   "cell_type": "code",
   "execution_count": 7,
   "id": "610d2a24-a18d-4761-af50-1b489f3a3ef5",
   "metadata": {},
   "outputs": [
    {
     "name": "stdout",
     "output_type": "stream",
     "text": [
      "CPU times: user 1.18 s, sys: 6.53 ms, total: 1.18 s\n",
      "Wall time: 1.18 s\n"
     ]
    }
   ],
   "source": [
    "%time filtered_lines = remove_stopwords(lines = lines, sw = sw)"
   ]
  },
  {
   "cell_type": "markdown",
   "id": "30d521b3-a596-43f6-a085-f143969c73aa",
   "metadata": {},
   "source": [
    "## Word2Vec"
   ]
  },
  {
   "cell_type": "code",
   "execution_count": 8,
   "id": "cc83c045-0e9a-4bb0-bbba-41caccef420b",
   "metadata": {},
   "outputs": [
    {
     "name": "stdout",
     "output_type": "stream",
     "text": [
      "CPU times: user 12.9 s, sys: 52.6 ms, total: 13 s\n",
      "Wall time: 4.64 s\n"
     ]
    }
   ],
   "source": [
    "%%time\n",
    "w = w2v(\n",
    "    lines,\n",
    "    min_count=3,   # Ignore words that appear less than this\n",
    "    sg = 1,        # skipgrams\n",
    "    window=7       # Context window for words during training\n",
    ")       "
   ]
  },
  {
   "cell_type": "code",
   "execution_count": 9,
   "id": "e3f38f02-7d2d-48aa-9dd5-9757ec9e5ebf",
   "metadata": {},
   "outputs": [
    {
     "data": {
      "text/plain": [
       "[('thyself', 0.7645957469940186),\n",
       " ('art', 0.707123875617981),\n",
       " ('dost', 0.6897317171096802),\n",
       " ('wouldst', 0.6642480492591858),\n",
       " ('wilt', 0.6552817225456238),\n",
       " ('villain', 0.651666522026062),\n",
       " ('didst', 0.6509525775909424),\n",
       " ('shalt', 0.6448981165885925),\n",
       " ('canst', 0.6428443789482117),\n",
       " ('damned', 0.6254445314407349)]"
      ]
     },
     "execution_count": 9,
     "metadata": {},
     "output_type": "execute_result"
    }
   ],
   "source": [
    "w.wv.most_similar('thou')"
   ]
  },
  {
   "cell_type": "code",
   "execution_count": 10,
   "id": "1f83cafe-d0d0-446c-9d65-22fc9160c321",
   "metadata": {},
   "outputs": [
    {
     "name": "stdout",
     "output_type": "stream",
     "text": [
      "CPU times: user 1.18 s, sys: 244 ms, total: 1.43 s\n",
      "Wall time: 250 ms\n"
     ]
    }
   ],
   "source": [
    "%%time\n",
    "emb_df = (\n",
    "    pd.DataFrame(\n",
    "        [w.wv.get_vector(str(n)) for n in w.wv.key_to_index],\n",
    "        index = w.wv.key_to_index\n",
    "    )\n",
    ")"
   ]
  },
  {
   "cell_type": "code",
   "execution_count": 11,
   "id": "d79eed53-e034-45e8-962f-d9b5b778589c",
   "metadata": {},
   "outputs": [
    {
     "data": {
      "text/plain": [
       "(11676, 100)"
      ]
     },
     "execution_count": 11,
     "metadata": {},
     "output_type": "execute_result"
    }
   ],
   "source": [
    "emb_df.shape"
   ]
  },
  {
   "cell_type": "code",
   "execution_count": 12,
   "id": "8ee8f11c-b3d5-44f4-8ba3-8dee72e20e0a",
   "metadata": {},
   "outputs": [
    {
     "data": {
      "text/html": [
       "<div>\n",
       "<style scoped>\n",
       "    .dataframe tbody tr th:only-of-type {\n",
       "        vertical-align: middle;\n",
       "    }\n",
       "\n",
       "    .dataframe tbody tr th {\n",
       "        vertical-align: top;\n",
       "    }\n",
       "\n",
       "    .dataframe thead th {\n",
       "        text-align: right;\n",
       "    }\n",
       "</style>\n",
       "<table border=\"1\" class=\"dataframe\">\n",
       "  <thead>\n",
       "    <tr style=\"text-align: right;\">\n",
       "      <th></th>\n",
       "      <th>0</th>\n",
       "      <th>1</th>\n",
       "      <th>2</th>\n",
       "      <th>3</th>\n",
       "      <th>4</th>\n",
       "      <th>5</th>\n",
       "      <th>6</th>\n",
       "      <th>7</th>\n",
       "      <th>8</th>\n",
       "      <th>9</th>\n",
       "      <th>...</th>\n",
       "      <th>90</th>\n",
       "      <th>91</th>\n",
       "      <th>92</th>\n",
       "      <th>93</th>\n",
       "      <th>94</th>\n",
       "      <th>95</th>\n",
       "      <th>96</th>\n",
       "      <th>97</th>\n",
       "      <th>98</th>\n",
       "      <th>99</th>\n",
       "    </tr>\n",
       "  </thead>\n",
       "  <tbody>\n",
       "    <tr>\n",
       "      <th>the</th>\n",
       "      <td>0.052167</td>\n",
       "      <td>0.360179</td>\n",
       "      <td>0.251422</td>\n",
       "      <td>0.088310</td>\n",
       "      <td>0.007917</td>\n",
       "      <td>-0.391403</td>\n",
       "      <td>0.167161</td>\n",
       "      <td>0.353071</td>\n",
       "      <td>0.035659</td>\n",
       "      <td>0.307231</td>\n",
       "      <td>...</td>\n",
       "      <td>0.286352</td>\n",
       "      <td>-0.106132</td>\n",
       "      <td>0.027149</td>\n",
       "      <td>0.040260</td>\n",
       "      <td>0.306436</td>\n",
       "      <td>0.119667</td>\n",
       "      <td>0.053033</td>\n",
       "      <td>-0.028715</td>\n",
       "      <td>0.081309</td>\n",
       "      <td>0.316534</td>\n",
       "    </tr>\n",
       "    <tr>\n",
       "      <th>and</th>\n",
       "      <td>-0.106972</td>\n",
       "      <td>0.224614</td>\n",
       "      <td>0.366498</td>\n",
       "      <td>-0.109355</td>\n",
       "      <td>0.058367</td>\n",
       "      <td>-0.345540</td>\n",
       "      <td>-0.177559</td>\n",
       "      <td>0.474959</td>\n",
       "      <td>-0.180183</td>\n",
       "      <td>-0.060948</td>\n",
       "      <td>...</td>\n",
       "      <td>0.457157</td>\n",
       "      <td>-0.168714</td>\n",
       "      <td>0.422513</td>\n",
       "      <td>-0.284481</td>\n",
       "      <td>0.416731</td>\n",
       "      <td>0.196803</td>\n",
       "      <td>0.176352</td>\n",
       "      <td>-0.251699</td>\n",
       "      <td>-0.124210</td>\n",
       "      <td>0.052072</td>\n",
       "    </tr>\n",
       "    <tr>\n",
       "      <th>i</th>\n",
       "      <td>-0.219191</td>\n",
       "      <td>-0.083908</td>\n",
       "      <td>-0.122480</td>\n",
       "      <td>-0.024484</td>\n",
       "      <td>-0.082866</td>\n",
       "      <td>-0.074146</td>\n",
       "      <td>0.068647</td>\n",
       "      <td>0.249081</td>\n",
       "      <td>-0.552616</td>\n",
       "      <td>-0.142015</td>\n",
       "      <td>...</td>\n",
       "      <td>-0.056736</td>\n",
       "      <td>0.315569</td>\n",
       "      <td>0.291890</td>\n",
       "      <td>-0.402557</td>\n",
       "      <td>0.307429</td>\n",
       "      <td>0.560778</td>\n",
       "      <td>-0.039935</td>\n",
       "      <td>0.080511</td>\n",
       "      <td>0.172005</td>\n",
       "      <td>-0.205800</td>\n",
       "    </tr>\n",
       "    <tr>\n",
       "      <th>to</th>\n",
       "      <td>-0.306866</td>\n",
       "      <td>-0.038027</td>\n",
       "      <td>0.101534</td>\n",
       "      <td>-0.328933</td>\n",
       "      <td>0.246991</td>\n",
       "      <td>-0.279042</td>\n",
       "      <td>-0.169662</td>\n",
       "      <td>0.556220</td>\n",
       "      <td>-0.267376</td>\n",
       "      <td>-0.142015</td>\n",
       "      <td>...</td>\n",
       "      <td>0.134588</td>\n",
       "      <td>0.094954</td>\n",
       "      <td>0.135004</td>\n",
       "      <td>0.044490</td>\n",
       "      <td>0.338002</td>\n",
       "      <td>0.067672</td>\n",
       "      <td>0.292339</td>\n",
       "      <td>-0.027994</td>\n",
       "      <td>0.276851</td>\n",
       "      <td>-0.083303</td>\n",
       "    </tr>\n",
       "    <tr>\n",
       "      <th>of</th>\n",
       "      <td>-0.337473</td>\n",
       "      <td>0.150470</td>\n",
       "      <td>0.202975</td>\n",
       "      <td>-0.009964</td>\n",
       "      <td>0.149471</td>\n",
       "      <td>-0.243055</td>\n",
       "      <td>0.247682</td>\n",
       "      <td>0.350076</td>\n",
       "      <td>-0.037486</td>\n",
       "      <td>0.208371</td>\n",
       "      <td>...</td>\n",
       "      <td>0.192981</td>\n",
       "      <td>-0.071674</td>\n",
       "      <td>0.005496</td>\n",
       "      <td>-0.351363</td>\n",
       "      <td>0.400210</td>\n",
       "      <td>-0.245767</td>\n",
       "      <td>0.172492</td>\n",
       "      <td>-0.156913</td>\n",
       "      <td>0.124116</td>\n",
       "      <td>-0.247358</td>\n",
       "    </tr>\n",
       "  </tbody>\n",
       "</table>\n",
       "<p>5 rows × 100 columns</p>\n",
       "</div>"
      ],
      "text/plain": [
       "           0         1         2         3         4         5         6   \\\n",
       "the  0.052167  0.360179  0.251422  0.088310  0.007917 -0.391403  0.167161   \n",
       "and -0.106972  0.224614  0.366498 -0.109355  0.058367 -0.345540 -0.177559   \n",
       "i   -0.219191 -0.083908 -0.122480 -0.024484 -0.082866 -0.074146  0.068647   \n",
       "to  -0.306866 -0.038027  0.101534 -0.328933  0.246991 -0.279042 -0.169662   \n",
       "of  -0.337473  0.150470  0.202975 -0.009964  0.149471 -0.243055  0.247682   \n",
       "\n",
       "           7         8         9   ...        90        91        92  \\\n",
       "the  0.353071  0.035659  0.307231  ...  0.286352 -0.106132  0.027149   \n",
       "and  0.474959 -0.180183 -0.060948  ...  0.457157 -0.168714  0.422513   \n",
       "i    0.249081 -0.552616 -0.142015  ... -0.056736  0.315569  0.291890   \n",
       "to   0.556220 -0.267376 -0.142015  ...  0.134588  0.094954  0.135004   \n",
       "of   0.350076 -0.037486  0.208371  ...  0.192981 -0.071674  0.005496   \n",
       "\n",
       "           93        94        95        96        97        98        99  \n",
       "the  0.040260  0.306436  0.119667  0.053033 -0.028715  0.081309  0.316534  \n",
       "and -0.284481  0.416731  0.196803  0.176352 -0.251699 -0.124210  0.052072  \n",
       "i   -0.402557  0.307429  0.560778 -0.039935  0.080511  0.172005 -0.205800  \n",
       "to   0.044490  0.338002  0.067672  0.292339 -0.027994  0.276851 -0.083303  \n",
       "of  -0.351363  0.400210 -0.245767  0.172492 -0.156913  0.124116 -0.247358  \n",
       "\n",
       "[5 rows x 100 columns]"
      ]
     },
     "execution_count": 12,
     "metadata": {},
     "output_type": "execute_result"
    }
   ],
   "source": [
    "emb_df.head()"
   ]
  },
  {
   "cell_type": "markdown",
   "id": "ae3a27bd-74d0-4ca3-b506-a2643327a0ed",
   "metadata": {},
   "source": [
    "### Visualize Embedding"
   ]
  },
  {
   "cell_type": "code",
   "execution_count": 13,
   "id": "f16412d5-4936-46e2-8a98-673482663b62",
   "metadata": {},
   "outputs": [
    {
     "data": {
      "text/plain": [
       "<Figure size 432x288 with 0 Axes>"
      ]
     },
     "metadata": {},
     "output_type": "display_data"
    },
    {
     "data": {
      "image/png": "[encoded data removed]",
      "text/plain": [
       "<Figure size 432x288 with 1 Axes>"
      ]
     },
     "metadata": {},
     "output_type": "display_data"
    }
   ],
   "source": [
    "plt.clf()\n",
    "fig=plt.figure(figsize=(6,4))\n",
    "plt.scatter(\n",
    "    x = emb_df.iloc[:,0],\n",
    "    y = emb_df.iloc[:,1],\n",
    "    s = 0.2,\n",
    "    color = 'maroon',\n",
    "    alpha = 0.5\n",
    ")\n",
    "plt.show()\n"
   ]
  },
  {
   "cell_type": "markdown",
   "id": "f66a1163-436e-440c-b4b3-4eb058d100bf",
   "metadata": {},
   "source": [
    "### PCA"
   ]
  },
  {
   "cell_type": "code",
   "execution_count": 14,
   "id": "38bd14ea-3fd3-485d-aaee-71bae440746e",
   "metadata": {},
   "outputs": [],
   "source": [
    "pca = PCA(n_components=2, random_state=7)\n",
    "pca_mdl = pca.fit_transform(emb_df)"
   ]
  },
  {
   "cell_type": "code",
   "execution_count": 15,
   "id": "7e331921-f558-4880-93d7-85bce5f4e1b6",
   "metadata": {},
   "outputs": [],
   "source": [
    "emb_df_PCA = (\n",
    "    pd.DataFrame(\n",
    "        pca_mdl,\n",
    "        columns=['x','y'],\n",
    "        index = emb_df.index\n",
    "    )\n",
    ")"
   ]
  },
  {
   "cell_type": "code",
   "execution_count": 16,
   "id": "b6ecea79-dbe1-4a6b-a978-806d4ceeb857",
   "metadata": {},
   "outputs": [
    {
     "data": {
      "text/plain": [
       "[]"
      ]
     },
     "execution_count": 16,
     "metadata": {},
     "output_type": "execute_result"
    },
    {
     "data": {
      "text/plain": [
       "<Figure size 432x288 with 0 Axes>"
      ]
     },
     "metadata": {},
     "output_type": "display_data"
    },
    {
     "data": {
      "image/png": "[encoded data removed]",
      "text/plain": [
       "<Figure size 432x288 with 1 Axes>"
      ]
     },
     "metadata": {},
     "output_type": "display_data"
    }
   ],
   "source": [
    "plt.clf()\n",
    "fig = plt.figure(figsize=(6,4))\n",
    "\n",
    "plt.scatter(\n",
    "    x = emb_df_PCA['x'],\n",
    "    y = emb_df_PCA['y'],\n",
    "    s = 0.2,\n",
    "    color = 'maroon',\n",
    "    alpha = 0.5\n",
    ")\n",
    "\n",
    "plt.xlabel('PCA-1')\n",
    "plt.ylabel('PCA-2')\n",
    "plt.plot()\n"
   ]
  },
  {
   "cell_type": "code",
   "execution_count": null,
   "id": "dec47f99-83d0-438f-8ec9-10d787bcd21e",
   "metadata": {},
   "outputs": [],
   "source": []
  }
 ],
 "metadata": {
  "kernelspec": {
   "display_name": "Python 3",
   "language": "python",
   "name": "python3"
  },
  "language_info": {
   "codemirror_mode": {
    "name": "ipython",
    "version": 3
   },
   "file_extension": ".py",
   "mimetype": "text/x-python",
   "name": "python",
   "nbconvert_exporter": "python",
   "pygments_lexer": "ipython3",
   "version": "3.8.8"
  }
 },
 "nbformat": 4,
 "nbformat_minor": 5
}
