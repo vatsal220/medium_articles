{
 "cells": [
  {
   "cell_type": "markdown",
   "id": "2f651678-f6cb-4507-8ebb-e9faeae86348",
   "metadata": {},
   "source": [
    "# SVD - Matrix Factorization"
   ]
  },
  {
   "cell_type": "code",
   "execution_count": 3,
   "id": "314dda0b-acc1-4e56-b8f2-b384bbef7841",
   "metadata": {},
   "outputs": [],
   "source": [
    "import pandas as pd\n",
    "import numpy as np\n",
    "from random import randint\n",
    "from scipy.spatial.distance import cosine"
   ]
  },
  {
   "cell_type": "markdown",
   "id": "763434c3-9172-4e42-b2e9-8a33f3254357",
   "metadata": {},
   "source": [
    "## Generate Data"
   ]
  },
  {
   "cell_type": "code",
   "execution_count": 10,
   "id": "d3c78638-14fe-4369-8cc5-49bca6f12da6",
   "metadata": {},
   "outputs": [],
   "source": [
    "def generate_data(n_songs = 3000, n_genres = 10, n_artists = 450, n_users = 30000, n_listens = 15, dataset_size = 100000):\n",
    "    '''\n",
    "    This function will generate a dataset with features associated to\n",
    "    song data set. The dataset will have the following columns : \n",
    "        - song_id (String) : Unique identified for the song\n",
    "        - user_id (String) : Unique identifier for the user\n",
    "        - song_genre (Integer) : An integer representing a genre for the song, \n",
    "                                 value is between 1 and 15, indicating that \n",
    "                                 there are 15 unique genres. Each song can only\n",
    "                                 have 1 genre\n",
    "        - artist_id (String) : Unique identifier for the author of the song\n",
    "        - n_listen (Integer) : The number of times this user has heard the song\n",
    "        - publish_year (Integer) : The year of song publishing\n",
    "        \n",
    "    params:\n",
    "        n_songs (Integer) : The number of songs you want the dataset to have\n",
    "        n_genres (Integer) : Number of genres to be chosen from\n",
    "        n_artists (Integer) : Number of authors to be generated\n",
    "        n_users (Integer) : Number of readers for the dataset\n",
    "        n_listens (Integer) : Range of number of times a song has been heard\n",
    "        dataset_size (Integer) : The number of rows to be generated \n",
    "        \n",
    "    example:\n",
    "        data = generate_data()\n",
    "    '''\n",
    "    \n",
    "    d = pd.DataFrame(\n",
    "        {\n",
    "            'song_id' : [randint(1, n_songs) for _ in range(dataset_size)],\n",
    "            'artist_id' : [randint(1, n_artists) for _ in range(dataset_size)],\n",
    "            'song_genre' : [randint(1, n_genres) for _ in range(dataset_size)],\n",
    "            'user_id' : [randint(1, n_users) for _ in range(dataset_size)],\n",
    "            'n_listen' : [randint(1, n_listens) for _ in range(dataset_size)],\n",
    "            'publish_year' : [randint(2000, 2021) for _ in range(dataset_size)]\n",
    "        }\n",
    "    ).drop_duplicates()\n",
    "    return d\n",
    "  \n",
    "d = generate_data(dataset_size = 100000).drop_duplicates()\n",
    "d.to_csv('data.csv', index = False)"
   ]
  },
  {
   "cell_type": "code",
   "execution_count": 12,
   "id": "36ad5ce5-7306-4ad5-9ba6-959085a4bf6c",
   "metadata": {},
   "outputs": [
    {
     "data": {
      "text/html": [
       "<div>\n",
       "<style scoped>\n",
       "    .dataframe tbody tr th:only-of-type {\n",
       "        vertical-align: middle;\n",
       "    }\n",
       "\n",
       "    .dataframe tbody tr th {\n",
       "        vertical-align: top;\n",
       "    }\n",
       "\n",
       "    .dataframe thead th {\n",
       "        text-align: right;\n",
       "    }\n",
       "</style>\n",
       "<table border=\"1\" class=\"dataframe\">\n",
       "  <thead>\n",
       "    <tr style=\"text-align: right;\">\n",
       "      <th></th>\n",
       "      <th>song_id</th>\n",
       "      <th>artist_id</th>\n",
       "      <th>song_genre</th>\n",
       "      <th>user_id</th>\n",
       "      <th>n_listen</th>\n",
       "      <th>publish_year</th>\n",
       "    </tr>\n",
       "  </thead>\n",
       "  <tbody>\n",
       "    <tr>\n",
       "      <th>0</th>\n",
       "      <td>1567</td>\n",
       "      <td>169</td>\n",
       "      <td>4</td>\n",
       "      <td>19060</td>\n",
       "      <td>8</td>\n",
       "      <td>2002</td>\n",
       "    </tr>\n",
       "    <tr>\n",
       "      <th>1</th>\n",
       "      <td>1964</td>\n",
       "      <td>381</td>\n",
       "      <td>2</td>\n",
       "      <td>28706</td>\n",
       "      <td>4</td>\n",
       "      <td>2013</td>\n",
       "    </tr>\n",
       "    <tr>\n",
       "      <th>2</th>\n",
       "      <td>714</td>\n",
       "      <td>84</td>\n",
       "      <td>2</td>\n",
       "      <td>27262</td>\n",
       "      <td>3</td>\n",
       "      <td>2010</td>\n",
       "    </tr>\n",
       "    <tr>\n",
       "      <th>3</th>\n",
       "      <td>2190</td>\n",
       "      <td>217</td>\n",
       "      <td>3</td>\n",
       "      <td>2036</td>\n",
       "      <td>10</td>\n",
       "      <td>2020</td>\n",
       "    </tr>\n",
       "    <tr>\n",
       "      <th>4</th>\n",
       "      <td>2483</td>\n",
       "      <td>230</td>\n",
       "      <td>4</td>\n",
       "      <td>27202</td>\n",
       "      <td>5</td>\n",
       "      <td>2012</td>\n",
       "    </tr>\n",
       "  </tbody>\n",
       "</table>\n",
       "</div>"
      ],
      "text/plain": [
       "   song_id  artist_id  song_genre  user_id  n_listen  publish_year\n",
       "0     1567        169           4    19060         8          2002\n",
       "1     1964        381           2    28706         4          2013\n",
       "2      714         84           2    27262         3          2010\n",
       "3     2190        217           3     2036        10          2020\n",
       "4     2483        230           4    27202         5          2012"
      ]
     },
     "execution_count": 12,
     "metadata": {},
     "output_type": "execute_result"
    }
   ],
   "source": [
    "d.head()"
   ]
  },
  {
   "cell_type": "code",
   "execution_count": null,
   "id": "6fa29d34-0e0d-4de9-9fd1-0c518191bf88",
   "metadata": {},
   "outputs": [],
   "source": []
  },
  {
   "cell_type": "code",
   "execution_count": null,
   "id": "88014fc4-286e-43ad-b0cb-5dcb71bc4d95",
   "metadata": {},
   "outputs": [],
   "source": []
  },
  {
   "cell_type": "code",
   "execution_count": null,
   "id": "f8b08a50-f63a-4559-a47d-de309e465cb7",
   "metadata": {},
   "outputs": [],
   "source": []
  },
  {
   "cell_type": "code",
   "execution_count": 29,
   "id": "f226d1c9-c56e-4bb8-ade1-16e7f16da235",
   "metadata": {},
   "outputs": [
    {
     "data": {
      "text/latex": [
       "$\\displaystyle \n",
       "{\\displaystyle \\mathbf {M} =\\mathbf {U\\Sigma V^{T}} }\n",
       "    $"
      ],
      "text/plain": [
       "<IPython.core.display.Math object>"
      ]
     },
     "execution_count": 29,
     "metadata": {},
     "output_type": "execute_result"
    }
   ],
   "source": [
    "Math(\n",
    "    r'''\n",
    "{\\displaystyle \\mathbf {M} =\\mathbf {U\\Sigma V^{T}} }\n",
    "    '''\n",
    ")"
   ]
  },
  {
   "cell_type": "code",
   "execution_count": 2,
   "id": "197766f8-8179-4d2b-ba88-86738fcb5627",
   "metadata": {},
   "outputs": [],
   "source": [
    "from IPython.display import display, Math, Latex"
   ]
  },
  {
   "cell_type": "code",
   "execution_count": 3,
   "id": "12dd87e8-dd5f-4b88-940e-0faca2ad5ade",
   "metadata": {},
   "outputs": [
    {
     "data": {
      "text/latex": [
       "$\\displaystyle F(k) = \\int_{-\\infty}^{\\infty} f(x) e^{2\\pi i k} dx$"
      ],
      "text/plain": [
       "<IPython.core.display.Math object>"
      ]
     },
     "metadata": {},
     "output_type": "display_data"
    }
   ],
   "source": [
    "display(Math(r'F(k) = \\int_{-\\infty}^{\\infty} f(x) e^{2\\pi i k} dx'))"
   ]
  },
  {
   "cell_type": "code",
   "execution_count": 6,
   "id": "79fdaaca-0de7-4384-9b74-f7454422d0c3",
   "metadata": {},
   "outputs": [
    {
     "data": {
      "text/latex": [
       "$\\displaystyle \\begin{pmatrix}    3  & -10 & 2 \\\\    -1 &   7 & 4 \\\\    5  &   0 & 1\\end{pmatrix}\\begin{pmatrix}    x\\\\ y\\\\ z\\end{pmatrix}=\\begin{pmatrix}   3x-10y+2z \\\\   -x+7y+4z \\\\   5x+z\\end{pmatrix}$"
      ],
      "text/plain": [
       "<IPython.core.display.Math object>"
      ]
     },
     "metadata": {},
     "output_type": "display_data"
    }
   ],
   "source": [
    "display(Math(\n",
    "    r'$$\\begin{pmatrix}    3  & -10 & 2 \\\\    -1 &   7 & 4 \\\\    5  &   0 & 1\\end{pmatrix}\\begin{pmatrix}    x\\\\ y\\\\ z\\end{pmatrix}=\\begin{pmatrix}   3x-10y+2z \\\\   -x+7y+4z \\\\   5x+z\\end{pmatrix}$$'\n",
    "))"
   ]
  },
  {
   "cell_type": "code",
   "execution_count": 43,
   "id": "7c6f0fef-c295-41fd-8f76-a758ee36eb0c",
   "metadata": {},
   "outputs": [
    {
     "data": {
      "text/latex": [
       "        $$ M*M^{T} = \\begin {pmatrix}\n",
       "            0  & 1 & 1 \\\\\n",
       "            {\\sqrt 2} &   2 & 0 \\\\\n",
       "            0  & 1 & 1\n",
       "        \\end{pmatrix} * \\begin {pmatrix}\n",
       "        0 & {\\sqrt 2} & 0 \\\\\n",
       "        1 & 2 & 1 \\\\\n",
       "        1 & 0 & 1\n",
       "        \n",
       "        \\end {pmatrix} = \n",
       "        \\begin {pmatrix}\n",
       "        2 & 2 & 2 \\\\\n",
       "        2 & 6 & 2 \\\\\n",
       "        2 & 2 & 2 \\\\\n",
       "        \\end {pmatrix}\n",
       "        $$"
      ],
      "text/plain": [
       "<IPython.core.display.Latex object>"
      ]
     },
     "execution_count": 43,
     "metadata": {},
     "output_type": "execute_result"
    }
   ],
   "source": [
    "Latex(r'''        $$ M*M^{T} = \\begin {pmatrix}\n",
    "            0  & 1 & 1 \\\\\n",
    "            {\\sqrt 2} &   2 & 0 \\\\\n",
    "            0  & 1 & 1\n",
    "        \\end{pmatrix} * \\begin {pmatrix}\n",
    "        0 & {\\sqrt 2} & 0 \\\\\n",
    "        1 & 2 & 1 \\\\\n",
    "        1 & 0 & 1\n",
    "        \n",
    "        \\end {pmatrix} = \n",
    "        \\begin {pmatrix}\n",
    "        2 & 2 & 2 \\\\\n",
    "        2 & 6 & 2 \\\\\n",
    "        2 & 2 & 2 \\\\\n",
    "        \\end {pmatrix}\n",
    "        $$''')"
   ]
  },
  {
   "cell_type": "code",
   "execution_count": 85,
   "id": "41a0cfa1-b13f-4f5a-bfd1-3b150d35f679",
   "metadata": {},
   "outputs": [],
   "source": [
    "import numpy as np"
   ]
  },
  {
   "cell_type": "code",
   "execution_count": 97,
   "id": "69853166-9d70-46c8-9297-2aec67823c5c",
   "metadata": {},
   "outputs": [],
   "source": [
    "m = np.asarray([\n",
    "    [0, 1, 1],\n",
    "    [np.sqrt(2), 2, 0],\n",
    "    [0, 1, 1]\n",
    "])"
   ]
  },
  {
   "cell_type": "code",
   "execution_count": 98,
   "id": "0d111a57-964d-42f8-902f-2ba49cd53aa0",
   "metadata": {},
   "outputs": [],
   "source": [
    "sigma = np.asarray([\n",
    "    [2*np.sqrt(2), 0, 0],\n",
    "    [0, np.sqrt(2), 0],\n",
    "    [0, 0, 0]\n",
    "])"
   ]
  },
  {
   "cell_type": "code",
   "execution_count": 107,
   "id": "169adff9-10a6-4d70-a3c9-8f4fff923dac",
   "metadata": {},
   "outputs": [],
   "source": [
    "u = np.asarray([\n",
    "    [np.sqrt(6)/6, np.sqrt(3)/3, -np.sqrt(2)/2],\n",
    "    [np.sqrt(6)/3, -np.sqrt(3)/3, 0],\n",
    "    [np.sqrt(6)/6, np.sqrt(3)/3, np.sqrt(2)/2]\n",
    "])"
   ]
  },
  {
   "cell_type": "code",
   "execution_count": 100,
   "id": "5a12a345-6aee-48de-94b2-3832e4d01d08",
   "metadata": {},
   "outputs": [],
   "source": [
    "v = np.asarray([\n",
    "    [np.sqrt(6) / 6, -np.sqrt(3)/3, np.sqrt(2)/2],\n",
    "    [np.sqrt(3) / 2, 0, -1/2],\n",
    "    [np.sqrt(3) / 6, -np.sqrt(6)/3, 1/2]\n",
    "])"
   ]
  },
  {
   "cell_type": "code",
   "execution_count": 103,
   "id": "d5c66f02-5dcc-4476-901e-edbaff4d142c",
   "metadata": {},
   "outputs": [
    {
     "data": {
      "text/plain": [
       "array([[-1.11022302e-16,  1.00000000e+00, -3.33333333e-01],\n",
       "       [ 1.41421356e+00,  2.00000000e+00,  1.33333333e+00],\n",
       "       [-1.11022302e-16,  1.00000000e+00, -3.33333333e-01]])"
      ]
     },
     "execution_count": 103,
     "metadata": {},
     "output_type": "execute_result"
    }
   ],
   "source": [
    "u.dot(sigma).dot(v.T)"
   ]
  },
  {
   "cell_type": "code",
   "execution_count": 104,
   "id": "5e39dca6-3922-483e-b27a-20bfcea3e4bc",
   "metadata": {},
   "outputs": [
    {
     "data": {
      "text/plain": [
       "array([[ 0.47140452,  0.        , -0.        ],\n",
       "       [-0.        , -0.        , -0.        ],\n",
       "       [ 0.        , -0.        ,  0.        ]])"
      ]
     },
     "execution_count": 104,
     "metadata": {},
     "output_type": "execute_result"
    }
   ],
   "source": [
    "u * sigma * v.T"
   ]
  },
  {
   "cell_type": "code",
   "execution_count": 127,
   "id": "6ad143a5-4ee5-49df-9fb8-39ed8e3e9ffb",
   "metadata": {},
   "outputs": [],
   "source": [
    "from numpy.linalg import svd\n",
    "matrix = m\n",
    "matrix = [[4,0], [3, -5]]\n",
    "u2, s2, vh2 = svd(matrix, full_matrices=False)"
   ]
  },
  {
   "cell_type": "code",
   "execution_count": 140,
   "id": "3921d60a-cc7a-4238-a24d-cbf01dd91b57",
   "metadata": {},
   "outputs": [
    {
     "data": {
      "text/plain": [
       "array([[ 2.,  2.],\n",
       "       [-4., -1.]])"
      ]
     },
     "execution_count": 140,
     "metadata": {},
     "output_type": "execute_result"
    }
   ],
   "source": [
    "u2 * s2 * vh2.T"
   ]
  },
  {
   "cell_type": "code",
   "execution_count": 122,
   "id": "81c2f439-96ca-4155-8a9d-b8804aecbc62",
   "metadata": {},
   "outputs": [
    {
     "data": {
      "text/plain": [
       "array([[ 0.40824829,  0.57735027, -0.70710678],\n",
       "       [ 0.81649658, -0.57735027,  0.        ],\n",
       "       [ 0.40824829,  0.57735027,  0.70710678]])"
      ]
     },
     "execution_count": 122,
     "metadata": {},
     "output_type": "execute_result"
    }
   ],
   "source": [
    "u"
   ]
  },
  {
   "cell_type": "code",
   "execution_count": 123,
   "id": "c32f0404-7981-46b5-91aa-61a27351a0cd",
   "metadata": {},
   "outputs": [
    {
     "data": {
      "text/plain": [
       "array([[-0.4472136 , -0.89442719],\n",
       "       [-0.89442719,  0.4472136 ]])"
      ]
     },
     "execution_count": 123,
     "metadata": {},
     "output_type": "execute_result"
    }
   ],
   "source": [
    "u2"
   ]
  },
  {
   "cell_type": "code",
   "execution_count": 113,
   "id": "e332a675-3199-4147-8583-3b255cde7f50",
   "metadata": {},
   "outputs": [
    {
     "data": {
      "text/plain": [
       "array([[-4.08248290e-01, -8.66025404e-01, -2.88675135e-01],\n",
       "       [-5.77350269e-01, -5.55111512e-17,  8.16496581e-01],\n",
       "       [-7.07106781e-01,  5.00000000e-01, -5.00000000e-01]])"
      ]
     },
     "execution_count": 113,
     "metadata": {},
     "output_type": "execute_result"
    }
   ],
   "source": [
    "vh2"
   ]
  },
  {
   "cell_type": "code",
   "execution_count": 114,
   "id": "1ba03835-fa28-4267-9199-05a722f20793",
   "metadata": {},
   "outputs": [
    {
     "data": {
      "text/plain": [
       "array([[ 0.40824829, -0.57735027,  0.70710678],\n",
       "       [ 0.8660254 ,  0.        , -0.5       ],\n",
       "       [ 0.28867513, -0.81649658,  0.5       ]])"
      ]
     },
     "execution_count": 114,
     "metadata": {},
     "output_type": "execute_result"
    }
   ],
   "source": [
    "v"
   ]
  },
  {
   "cell_type": "code",
   "execution_count": 116,
   "id": "5255292f-ee68-4058-9457-b3dcb98a0b66",
   "metadata": {},
   "outputs": [
    {
     "data": {
      "text/plain": [
       "array([[-0.00000000e+00, -1.22474487e+00,  0.00000000e+00],\n",
       "       [-2.30940108e+00, -1.57009246e-16, -0.00000000e+00],\n",
       "       [-0.00000000e+00,  7.07106781e-01,  0.00000000e+00]])"
      ]
     },
     "execution_count": 116,
     "metadata": {},
     "output_type": "execute_result"
    }
   ],
   "source": [
    "matrix * vh2 * s2.T"
   ]
  },
  {
   "cell_type": "code",
   "execution_count": null,
   "id": "3ab484f7-839c-45de-a7cd-6e6743e4aac3",
   "metadata": {},
   "outputs": [],
   "source": []
  },
  {
   "cell_type": "code",
   "execution_count": null,
   "id": "5d398bbf-fa42-4be3-be33-b05ce9714a32",
   "metadata": {},
   "outputs": [],
   "source": []
  },
  {
   "cell_type": "code",
   "execution_count": 142,
   "id": "f273cd2c-485d-4eda-ac23-76a82cf3baa2",
   "metadata": {},
   "outputs": [
    {
     "data": {
      "text/latex": [
       "        $$ \n",
       "M*M^{T} = \\begin {pmatrix}\n",
       "            0  & 1 & 1 \\\\\n",
       "            {\\sqrt 2} &   2 & 0 \\\\\n",
       "            0  & 1 & 1\n",
       "        \\end{pmatrix} * \\begin {pmatrix}\n",
       "        0 & {\\sqrt 2} & 0 \\\\\n",
       "        1 & 2 & 1 \\\\\n",
       "        1 & 0 & 1\n",
       "        \n",
       "        \\end {pmatrix} = \n",
       "        \\begin {pmatrix}\n",
       "        2 & 2 & 2 \\\\\n",
       "        2 & 6 & 2 \\\\\n",
       "        2 & 2 & 2 \\\\\n",
       "        \\end {pmatrix} \\\\\n",
       "\n",
       "Eignevalue = 8, Eigenvector = \\begin {pmatrix} 1 & 2 & 1 \\\\ \\end {pmatrix} \\\\\n",
       "Eignevalue = 2, Eigenvector = \\begin {pmatrix} 1 & -1 & 1 \\\\ \\end {pmatrix} \\\\\n",
       "Eignevalue = 0, Eigenvector = \\begin {pmatrix} -1 & 0 & 1 \\\\ \\end {pmatrix} \\\\ \n",
       "\\\\\n",
       "\n",
       "{\\sigma 1} = {\\sqrt 8} = 2{\\sqrt 2} \\\\\n",
       "{\\sigma 2} = {\\sqrt 2} \\\\\n",
       "\n",
       "{\\Sigma} =  \\begin {pmatrix}\n",
       "2{\\sqrt 2} & 0 & 0 \\\\\n",
       "0 & {\\sqrt 2} & 0 \\\\\n",
       "0 & 0 & 0\n",
       "\n",
       "\\end {pmatrix} \\\\\n",
       "\n",
       "u1 = \\begin {pmatrix} {\\sqrt 6} / 6  \\\\ {\\sqrt 6} / 3 \\\\ {\\sqrt 6} / 6 \\end {pmatrix} \\\\\n",
       "u2 = \\begin {pmatrix} {\\sqrt 3} / 3  \\\\ -{\\sqrt 3} / 3 \\\\  {\\sqrt 3} / 3 \\end {pmatrix} \\\\\n",
       "u3 = \\begin {pmatrix} -{\\sqrt 2} / 2  \\\\ 0 \\\\ {\\sqrt 2} / 2 \\end {pmatrix} \\\\\n",
       "\n",
       "U = \\begin {pmatrix}\n",
       "{\\sqrt 6} / 6 & {\\sqrt 3} / 3 & -{\\sqrt 2} / 2 \\\\\n",
       "{\\sqrt 6} / 3 & -{\\sqrt 3} / 3  & 0 \\\\\n",
       "{\\sqrt 6} / 6 & {\\sqrt 3} / 3 & {\\sqrt 2} / 2\n",
       "\\end {pmatrix} \\\\ \n",
       "\n",
       "V = \\begin {pmatrix}\n",
       "{\\sqrt 6} / 6 & -{\\sqrt 3} / 3 & {\\sqrt 2} / 2 \\\\\n",
       "{\\sqrt 3} / 2 & 0  & -1/2 \\\\\n",
       "{\\sqrt 3} / 6 & {\\sqrt 6} / 3 & 1/2\n",
       "\\end {pmatrix}\n",
       "        $$"
      ],
      "text/plain": [
       "<IPython.core.display.Latex object>"
      ]
     },
     "execution_count": 142,
     "metadata": {},
     "output_type": "execute_result"
    }
   ],
   "source": [
    "Latex(r'''        $$ \n",
    "M*M^{T} = \\begin {pmatrix}\n",
    "            0  & 1 & 1 \\\\\n",
    "            {\\sqrt 2} &   2 & 0 \\\\\n",
    "            0  & 1 & 1\n",
    "        \\end{pmatrix} * \\begin {pmatrix}\n",
    "        0 & {\\sqrt 2} & 0 \\\\\n",
    "        1 & 2 & 1 \\\\\n",
    "        1 & 0 & 1\n",
    "        \n",
    "        \\end {pmatrix} = \n",
    "        \\begin {pmatrix}\n",
    "        2 & 2 & 2 \\\\\n",
    "        2 & 6 & 2 \\\\\n",
    "        2 & 2 & 2 \\\\\n",
    "        \\end {pmatrix} \\\\\n",
    "\n",
    "Eignevalue = 8, Eigenvector = \\begin {pmatrix} 1 & 2 & 1 \\\\ \\end {pmatrix} \\\\\n",
    "Eignevalue = 2, Eigenvector = \\begin {pmatrix} 1 & -1 & 1 \\\\ \\end {pmatrix} \\\\\n",
    "Eignevalue = 0, Eigenvector = \\begin {pmatrix} -1 & 0 & 1 \\\\ \\end {pmatrix} \\\\ \n",
    "\\\\\n",
    "\n",
    "{\\sigma 1} = {\\sqrt 8} = 2{\\sqrt 2} \\\\\n",
    "{\\sigma 2} = {\\sqrt 2} \\\\\n",
    "\n",
    "{\\Sigma} =  \\begin {pmatrix}\n",
    "2{\\sqrt 2} & 0 & 0 \\\\\n",
    "0 & {\\sqrt 2} & 0 \\\\\n",
    "0 & 0 & 0\n",
    "\n",
    "\\end {pmatrix} \\\\\n",
    "\n",
    "u1 = \\begin {pmatrix} {\\sqrt 6} / 6  \\\\ {\\sqrt 6} / 3 \\\\ {\\sqrt 6} / 6 \\end {pmatrix} \\\\\n",
    "u2 = \\begin {pmatrix} {\\sqrt 3} / 3  \\\\ -{\\sqrt 3} / 3 \\\\  {\\sqrt 3} / 3 \\end {pmatrix} \\\\\n",
    "u3 = \\begin {pmatrix} -{\\sqrt 2} / 2  \\\\ 0 \\\\ {\\sqrt 2} / 2 \\end {pmatrix} \\\\\n",
    "\n",
    "U = \\begin {pmatrix}\n",
    "{\\sqrt 6} / 6 & {\\sqrt 3} / 3 & -{\\sqrt 2} / 2 \\\\\n",
    "{\\sqrt 6} / 3 & -{\\sqrt 3} / 3  & 0 \\\\\n",
    "{\\sqrt 6} / 6 & {\\sqrt 3} / 3 & {\\sqrt 2} / 2\n",
    "\\end {pmatrix} \\\\ \n",
    "\n",
    "V = \\begin {pmatrix}\n",
    "{\\sqrt 6} / 6 & -{\\sqrt 3} / 3 & {\\sqrt 2} / 2 \\\\\n",
    "{\\sqrt 3} / 2 & 0  & -1/2 \\\\\n",
    "{\\sqrt 3} / 6 & {\\sqrt 6} / 3 & 1/2\n",
    "\\end {pmatrix}\n",
    "        $$''')"
   ]
  },
  {
   "cell_type": "code",
   "execution_count": 150,
   "id": "c6ccde6e-ce2c-4f2c-847f-fd6fcb606bbf",
   "metadata": {},
   "outputs": [
    {
     "data": {
      "text/plain": [
       "{'a', 'aam', 'alms'}"
      ]
     },
     "execution_count": 150,
     "metadata": {},
     "output_type": "execute_result"
    }
   ],
   "source": [
    "lst = ['a', 'ama', 'lsma']\n",
    "{''.join(sorted(x)) for x in lst}"
   ]
  },
  {
   "cell_type": "code",
   "execution_count": null,
   "id": "2af8c31b-3273-4cf2-9691-49b143abd8be",
   "metadata": {},
   "outputs": [],
   "source": []
  },
  {
   "cell_type": "code",
   "execution_count": 36,
   "id": "0e171d7d-3ad7-44bb-a40e-315d7cbf31d9",
   "metadata": {},
   "outputs": [
    {
     "data": {
      "text/latex": [
       "        $$M = \\begin {pmatrix}\n",
       "            0  & 1 & 1 \\\\\n",
       "            {\\sqrt 2} &   2 & 0 \\\\\n",
       "            0  & 1 & 1\n",
       "        \\end{pmatrix}\n",
       "        \\begin{pmatrix}\n",
       "            x\\\\ y\\\\ z\n",
       "        \\end{pmatrix}\n",
       "        =\n",
       "        \\begin{pmatrix}\n",
       "           3x-10y+2z \\\\\n",
       "           -x+7y+4z \\\\\n",
       "           5x+z\n",
       "        \\end{pmatrix}$$"
      ],
      "text/plain": [
       "<IPython.core.display.Latex object>"
      ]
     },
     "execution_count": 36,
     "metadata": {},
     "output_type": "execute_result"
    }
   ],
   "source": [
    "Latex(r'''        $$M = \\begin {pmatrix}\n",
    "            0  & 1 & 1 \\\\\n",
    "            {\\sqrt 2} &   2 & 0 \\\\\n",
    "            0  & 1 & 1\n",
    "        \\end{pmatrix}\n",
    "        \\begin{pmatrix}\n",
    "            x\\\\ y\\\\ z\n",
    "        \\end{pmatrix}\n",
    "        =\n",
    "        \\begin{pmatrix}\n",
    "           3x-10y+2z \\\\\n",
    "           -x+7y+4z \\\\\n",
    "           5x+z\n",
    "        \\end{pmatrix}$$''')"
   ]
  },
  {
   "cell_type": "code",
   "execution_count": 12,
   "id": "67199f54-3095-4cd1-9929-ec16b6b97e31",
   "metadata": {},
   "outputs": [
    {
     "data": {
      "text/latex": [
       "$$\n",
       "Specifically, the singular value decomposition of an {\\displaystyle m\\times n}m\\times n complex matrix M is a factorization of the form {\\displaystyle \\mathbf {M} =\\mathbf {U\\Sigma V^{*}} }{\\displaystyle \\mathbf {M} =\\mathbf {U\\Sigma V^{*}} }, where U is an {\\displaystyle m\\times m}m\\times m complex unitary matrix, {\\displaystyle \\mathbf {\\Sigma } }\\mathbf{\\Sigma} is an {\\displaystyle m\\times n}m\\times n rectangular diagonal matrix with non-negative real numbers on the diagonal, and V is an {\\displaystyle n\\times n}n\\times n complex unitary matrix. If M is real, U and V can also be guaranteed to be real orthogonal matrices. In such contexts, the SVD is often denoted {\\displaystyle \\mathbf {U\\Sigma V^{T}} }{\\displaystyle \\mathbf {U\\Sigma V^{T}} }.\n",
       "$$"
      ],
      "text/plain": [
       "<IPython.core.display.Latex object>"
      ]
     },
     "execution_count": 12,
     "metadata": {},
     "output_type": "execute_result"
    }
   ],
   "source": [
    "Latex(r'''$$\n",
    "Specifically, the singular value decomposition of an {\\displaystyle m\\times n}m\\times n complex matrix M is a factorization of the form {\\displaystyle \\mathbf {M} =\\mathbf {U\\Sigma V^{*}} }{\\displaystyle \\mathbf {M} =\\mathbf {U\\Sigma V^{*}} }, where U is an {\\displaystyle m\\times m}m\\times m complex unitary matrix, {\\displaystyle \\mathbf {\\Sigma } }\\mathbf{\\Sigma} is an {\\displaystyle m\\times n}m\\times n rectangular diagonal matrix with non-negative real numbers on the diagonal, and V is an {\\displaystyle n\\times n}n\\times n complex unitary matrix. If M is real, U and V can also be guaranteed to be real orthogonal matrices. In such contexts, the SVD is often denoted {\\displaystyle \\mathbf {U\\Sigma V^{T}} }{\\displaystyle \\mathbf {U\\Sigma V^{T}} }.\n",
    "$$''')"
   ]
  },
  {
   "cell_type": "code",
   "execution_count": null,
   "id": "dd5a94c5-529a-418b-9b3d-56007751e4a8",
   "metadata": {},
   "outputs": [],
   "source": []
  }
 ],
 "metadata": {
  "kernelspec": {
   "display_name": "Python 3",
   "language": "python",
   "name": "python3"
  },
  "language_info": {
   "codemirror_mode": {
    "name": "ipython",
    "version": 3
   },
   "file_extension": ".py",
   "mimetype": "text/x-python",
   "name": "python",
   "nbconvert_exporter": "python",
   "pygments_lexer": "ipython3",
   "version": "3.8.8"
  }
 },
 "nbformat": 4,
 "nbformat_minor": 5
}
