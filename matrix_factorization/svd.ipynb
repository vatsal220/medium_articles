{
 "cells": [
  {
   "cell_type": "markdown",
   "id": "2f651678-f6cb-4507-8ebb-e9faeae86348",
   "metadata": {},
   "source": [
    "# SVD - Matrix Factorization"
   ]
  },
  {
   "cell_type": "code",
   "execution_count": 13,
   "id": "d9587fb2-18cf-4ec1-a896-c8b2cac9762d",
   "metadata": {},
   "outputs": [],
   "source": [
    "import surprise"
   ]
  },
  {
   "cell_type": "code",
   "execution_count": 16,
   "id": "0f22a265-2b31-4ce7-9f3e-aabd2a205c7e",
   "metadata": {},
   "outputs": [
    {
     "data": {
      "text/plain": [
       "['__class__',\n",
       " '__delattr__',\n",
       " '__dict__',\n",
       " '__dir__',\n",
       " '__doc__',\n",
       " '__eq__',\n",
       " '__format__',\n",
       " '__ge__',\n",
       " '__getattribute__',\n",
       " '__gt__',\n",
       " '__hash__',\n",
       " '__init__',\n",
       " '__init_subclass__',\n",
       " '__le__',\n",
       " '__lt__',\n",
       " '__module__',\n",
       " '__ne__',\n",
       " '__new__',\n",
       " '__reduce__',\n",
       " '__reduce_ex__',\n",
       " '__repr__',\n",
       " '__setattr__',\n",
       " '__sizeof__',\n",
       " '__str__',\n",
       " '__subclasshook__',\n",
       " '__weakref__',\n",
       " 'biased',\n",
       " 'bsl_options',\n",
       " 'compute_baselines',\n",
       " 'compute_similarities',\n",
       " 'default_prediction',\n",
       " 'estimate',\n",
       " 'fit',\n",
       " 'get_neighbors',\n",
       " 'init_mean',\n",
       " 'init_std_dev',\n",
       " 'lr_bi',\n",
       " 'lr_bu',\n",
       " 'lr_pu',\n",
       " 'lr_qi',\n",
       " 'n_epochs',\n",
       " 'n_factors',\n",
       " 'predict',\n",
       " 'random_state',\n",
       " 'reg_bi',\n",
       " 'reg_bu',\n",
       " 'reg_pu',\n",
       " 'reg_qi',\n",
       " 'sgd',\n",
       " 'sim_options',\n",
       " 'test',\n",
       " 'verbose']"
      ]
     },
     "execution_count": 16,
     "metadata": {},
     "output_type": "execute_result"
    }
   ],
   "source": [
    "dir(surprise.SVD())"
   ]
  },
  {
   "cell_type": "code",
   "execution_count": null,
   "id": "f6109c67-ec6f-4e53-901e-6a23b05c2c2f",
   "metadata": {},
   "outputs": [],
   "source": []
  },
  {
   "cell_type": "code",
   "execution_count": 29,
   "id": "f226d1c9-c56e-4bb8-ade1-16e7f16da235",
   "metadata": {},
   "outputs": [
    {
     "data": {
      "text/latex": [
       "$\\displaystyle \n",
       "{\\displaystyle \\mathbf {M} =\\mathbf {U\\Sigma V^{T}} }\n",
       "    $"
      ],
      "text/plain": [
       "<IPython.core.display.Math object>"
      ]
     },
     "execution_count": 29,
     "metadata": {},
     "output_type": "execute_result"
    }
   ],
   "source": [
    "Math(\n",
    "    r'''\n",
    "{\\displaystyle \\mathbf {M} =\\mathbf {U\\Sigma V^{T}} }\n",
    "    '''\n",
    ")"
   ]
  },
  {
   "cell_type": "code",
   "execution_count": 2,
   "id": "197766f8-8179-4d2b-ba88-86738fcb5627",
   "metadata": {},
   "outputs": [],
   "source": [
    "from IPython.display import display, Math, Latex"
   ]
  },
  {
   "cell_type": "code",
   "execution_count": 3,
   "id": "12dd87e8-dd5f-4b88-940e-0faca2ad5ade",
   "metadata": {},
   "outputs": [
    {
     "data": {
      "text/latex": [
       "$\\displaystyle F(k) = \\int_{-\\infty}^{\\infty} f(x) e^{2\\pi i k} dx$"
      ],
      "text/plain": [
       "<IPython.core.display.Math object>"
      ]
     },
     "metadata": {},
     "output_type": "display_data"
    }
   ],
   "source": [
    "display(Math(r'F(k) = \\int_{-\\infty}^{\\infty} f(x) e^{2\\pi i k} dx'))"
   ]
  },
  {
   "cell_type": "code",
   "execution_count": 6,
   "id": "79fdaaca-0de7-4384-9b74-f7454422d0c3",
   "metadata": {},
   "outputs": [
    {
     "data": {
      "text/latex": [
       "$\\displaystyle \\begin{pmatrix}    3  & -10 & 2 \\\\    -1 &   7 & 4 \\\\    5  &   0 & 1\\end{pmatrix}\\begin{pmatrix}    x\\\\ y\\\\ z\\end{pmatrix}=\\begin{pmatrix}   3x-10y+2z \\\\   -x+7y+4z \\\\   5x+z\\end{pmatrix}$"
      ],
      "text/plain": [
       "<IPython.core.display.Math object>"
      ]
     },
     "metadata": {},
     "output_type": "display_data"
    }
   ],
   "source": [
    "display(Math(\n",
    "    r'$$\\begin{pmatrix}    3  & -10 & 2 \\\\    -1 &   7 & 4 \\\\    5  &   0 & 1\\end{pmatrix}\\begin{pmatrix}    x\\\\ y\\\\ z\\end{pmatrix}=\\begin{pmatrix}   3x-10y+2z \\\\   -x+7y+4z \\\\   5x+z\\end{pmatrix}$$'\n",
    "))"
   ]
  },
  {
   "cell_type": "code",
   "execution_count": 10,
   "id": "0e171d7d-3ad7-44bb-a40e-315d7cbf31d9",
   "metadata": {},
   "outputs": [
    {
     "data": {
      "text/latex": [
       "        $$\\begin{pmatrix}\n",
       "            3  & -10 & 2 \\\\\n",
       "            -1 &   7 & 4 \\\\\n",
       "            5  &   0 & 1\n",
       "        \\end{pmatrix}\n",
       "        \\begin{pmatrix}\n",
       "            x\\\\ y\\\\ z\n",
       "        \\end{pmatrix}\n",
       "        =\n",
       "        \\begin{pmatrix}\n",
       "           3x-10y+2z \\\\\n",
       "           -x+7y+4z \\\\\n",
       "           5x+z\n",
       "        \\end{pmatrix}$$"
      ],
      "text/plain": [
       "<IPython.core.display.Latex object>"
      ]
     },
     "execution_count": 10,
     "metadata": {},
     "output_type": "execute_result"
    }
   ],
   "source": [
    "Latex(r'''        $$\\begin{pmatrix}\n",
    "            3  & -10 & 2 \\\\\n",
    "            -1 &   7 & 4 \\\\\n",
    "            5  &   0 & 1\n",
    "        \\end{pmatrix}\n",
    "        \\begin{pmatrix}\n",
    "            x\\\\ y\\\\ z\n",
    "        \\end{pmatrix}\n",
    "        =\n",
    "        \\begin{pmatrix}\n",
    "           3x-10y+2z \\\\\n",
    "           -x+7y+4z \\\\\n",
    "           5x+z\n",
    "        \\end{pmatrix}$$''')"
   ]
  },
  {
   "cell_type": "code",
   "execution_count": 12,
   "id": "67199f54-3095-4cd1-9929-ec16b6b97e31",
   "metadata": {},
   "outputs": [
    {
     "data": {
      "text/latex": [
       "$$\n",
       "Specifically, the singular value decomposition of an {\\displaystyle m\\times n}m\\times n complex matrix M is a factorization of the form {\\displaystyle \\mathbf {M} =\\mathbf {U\\Sigma V^{*}} }{\\displaystyle \\mathbf {M} =\\mathbf {U\\Sigma V^{*}} }, where U is an {\\displaystyle m\\times m}m\\times m complex unitary matrix, {\\displaystyle \\mathbf {\\Sigma } }\\mathbf{\\Sigma} is an {\\displaystyle m\\times n}m\\times n rectangular diagonal matrix with non-negative real numbers on the diagonal, and V is an {\\displaystyle n\\times n}n\\times n complex unitary matrix. If M is real, U and V can also be guaranteed to be real orthogonal matrices. In such contexts, the SVD is often denoted {\\displaystyle \\mathbf {U\\Sigma V^{T}} }{\\displaystyle \\mathbf {U\\Sigma V^{T}} }.\n",
       "$$"
      ],
      "text/plain": [
       "<IPython.core.display.Latex object>"
      ]
     },
     "execution_count": 12,
     "metadata": {},
     "output_type": "execute_result"
    }
   ],
   "source": [
    "Latex(r'''$$\n",
    "Specifically, the singular value decomposition of an {\\displaystyle m\\times n}m\\times n complex matrix M is a factorization of the form {\\displaystyle \\mathbf {M} =\\mathbf {U\\Sigma V^{*}} }{\\displaystyle \\mathbf {M} =\\mathbf {U\\Sigma V^{*}} }, where U is an {\\displaystyle m\\times m}m\\times m complex unitary matrix, {\\displaystyle \\mathbf {\\Sigma } }\\mathbf{\\Sigma} is an {\\displaystyle m\\times n}m\\times n rectangular diagonal matrix with non-negative real numbers on the diagonal, and V is an {\\displaystyle n\\times n}n\\times n complex unitary matrix. If M is real, U and V can also be guaranteed to be real orthogonal matrices. In such contexts, the SVD is often denoted {\\displaystyle \\mathbf {U\\Sigma V^{T}} }{\\displaystyle \\mathbf {U\\Sigma V^{T}} }.\n",
    "$$''')"
   ]
  },
  {
   "cell_type": "code",
   "execution_count": null,
   "id": "dd5a94c5-529a-418b-9b3d-56007751e4a8",
   "metadata": {},
   "outputs": [],
   "source": []
  }
 ],
 "metadata": {
  "kernelspec": {
   "display_name": "Python 3",
   "language": "python",
   "name": "python3"
  },
  "language_info": {
   "codemirror_mode": {
    "name": "ipython",
    "version": 3
   },
   "file_extension": ".py",
   "mimetype": "text/x-python",
   "name": "python",
   "nbconvert_exporter": "python",
   "pygments_lexer": "ipython3",
   "version": "3.8.8"
  }
 },
 "nbformat": 4,
 "nbformat_minor": 5
}
