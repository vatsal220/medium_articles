{
 "cells": [
  {
   "cell_type": "markdown",
   "id": "2f651678-f6cb-4507-8ebb-e9faeae86348",
   "metadata": {},
   "source": [
    "# SVD - Matrix Factorization"
   ]
  },
  {
   "cell_type": "code",
   "execution_count": 1,
   "id": "314dda0b-acc1-4e56-b8f2-b384bbef7841",
   "metadata": {},
   "outputs": [],
   "source": [
    "import pandas as pd\n",
    "import numpy as np\n",
    "from numpy.linalg import svd\n",
    "from random import randint"
   ]
  },
  {
   "cell_type": "markdown",
   "id": "763434c3-9172-4e42-b2e9-8a33f3254357",
   "metadata": {},
   "source": [
    "## Generate Data"
   ]
  },
  {
   "cell_type": "code",
   "execution_count": 2,
   "id": "d3c78638-14fe-4369-8cc5-49bca6f12da6",
   "metadata": {},
   "outputs": [],
   "source": [
    "def generate_data(n_songs = 1000, n_genres = 5, n_artists = 500, n_users = 3000, n_listens = 15, dataset_size = 100000):\n",
    "    '''\n",
    "    This function will generate a dataset with features associated to\n",
    "    song data set. The dataset will have the following columns : \n",
    "        - song_id (String) : Unique identified for the song\n",
    "        - user_id (String) : Unique identifier for the user\n",
    "        - song_genre (Integer) : An integer representing a genre for the song, \n",
    "                                 value is between 1 and 15, indicating that \n",
    "                                 there are 15 unique genres. Each song can only\n",
    "                                 have 1 genre\n",
    "        - artist_id (String) : Unique identifier for the author of the song\n",
    "        - n_listen (Integer) : The number of times this user has heard the song\n",
    "        - publish_year (Integer) : The year of song publishing\n",
    "        \n",
    "    params:\n",
    "        n_songs (Integer) : The number of songs you want the dataset to have\n",
    "        n_genres (Integer) : Number of genres to be chosen from\n",
    "        n_artists (Integer) : Number of authors to be generated\n",
    "        n_users (Integer) : Number of readers for the dataset\n",
    "        n_listens (Integer) : Range of number of times a song has been heard\n",
    "        dataset_size (Integer) : The number of rows to be generated \n",
    "        \n",
    "    example:\n",
    "        data = generate_data()\n",
    "    '''\n",
    "    \n",
    "    d = pd.DataFrame(\n",
    "        {\n",
    "            'song_id' : [randint(1, n_songs) for _ in range(dataset_size)],\n",
    "            'artist_id' : [randint(1, n_artists) for _ in range(dataset_size)],\n",
    "            'song_genre' : [randint(1, n_genres) for _ in range(dataset_size)],\n",
    "            'user_id' : [randint(1, n_users) for _ in range(dataset_size)],\n",
    "            'n_listen' : [randint(0, n_listens) for _ in range(dataset_size)],\n",
    "            'publish_year' : [randint(2000, 2021) for _ in range(dataset_size)]\n",
    "        }\n",
    "    ).drop_duplicates()\n",
    "    return d\n",
    "  \n",
    "d = generate_data(dataset_size = 100000).drop_duplicates()\n",
    "d.to_csv('data.csv', index = False)"
   ]
  },
  {
   "cell_type": "code",
   "execution_count": 3,
   "id": "36ad5ce5-7306-4ad5-9ba6-959085a4bf6c",
   "metadata": {},
   "outputs": [
    {
     "data": {
      "text/html": [
       "<div>\n",
       "<style scoped>\n",
       "    .dataframe tbody tr th:only-of-type {\n",
       "        vertical-align: middle;\n",
       "    }\n",
       "\n",
       "    .dataframe tbody tr th {\n",
       "        vertical-align: top;\n",
       "    }\n",
       "\n",
       "    .dataframe thead th {\n",
       "        text-align: right;\n",
       "    }\n",
       "</style>\n",
       "<table border=\"1\" class=\"dataframe\">\n",
       "  <thead>\n",
       "    <tr style=\"text-align: right;\">\n",
       "      <th></th>\n",
       "      <th>song_id</th>\n",
       "      <th>artist_id</th>\n",
       "      <th>song_genre</th>\n",
       "      <th>user_id</th>\n",
       "      <th>n_listen</th>\n",
       "      <th>publish_year</th>\n",
       "    </tr>\n",
       "  </thead>\n",
       "  <tbody>\n",
       "    <tr>\n",
       "      <th>0</th>\n",
       "      <td>551</td>\n",
       "      <td>288</td>\n",
       "      <td>2</td>\n",
       "      <td>1171</td>\n",
       "      <td>8</td>\n",
       "      <td>2019</td>\n",
       "    </tr>\n",
       "    <tr>\n",
       "      <th>1</th>\n",
       "      <td>462</td>\n",
       "      <td>348</td>\n",
       "      <td>4</td>\n",
       "      <td>280</td>\n",
       "      <td>0</td>\n",
       "      <td>2003</td>\n",
       "    </tr>\n",
       "    <tr>\n",
       "      <th>2</th>\n",
       "      <td>41</td>\n",
       "      <td>394</td>\n",
       "      <td>3</td>\n",
       "      <td>962</td>\n",
       "      <td>15</td>\n",
       "      <td>2013</td>\n",
       "    </tr>\n",
       "    <tr>\n",
       "      <th>3</th>\n",
       "      <td>24</td>\n",
       "      <td>467</td>\n",
       "      <td>2</td>\n",
       "      <td>1801</td>\n",
       "      <td>7</td>\n",
       "      <td>2013</td>\n",
       "    </tr>\n",
       "    <tr>\n",
       "      <th>4</th>\n",
       "      <td>963</td>\n",
       "      <td>50</td>\n",
       "      <td>2</td>\n",
       "      <td>1298</td>\n",
       "      <td>6</td>\n",
       "      <td>2003</td>\n",
       "    </tr>\n",
       "  </tbody>\n",
       "</table>\n",
       "</div>"
      ],
      "text/plain": [
       "   song_id  artist_id  song_genre  user_id  n_listen  publish_year\n",
       "0      551        288           2     1171         8          2019\n",
       "1      462        348           4      280         0          2003\n",
       "2       41        394           3      962        15          2013\n",
       "3       24        467           2     1801         7          2013\n",
       "4      963         50           2     1298         6          2003"
      ]
     },
     "execution_count": 3,
     "metadata": {},
     "output_type": "execute_result"
    }
   ],
   "source": [
    "d.head()"
   ]
  },
  {
   "cell_type": "markdown",
   "id": "63828415-18fe-4841-863a-74f01645c862",
   "metadata": {},
   "source": [
    "## User-Item Matrix"
   ]
  },
  {
   "cell_type": "code",
   "execution_count": 4,
   "id": "9c17e002-63e9-4399-9c08-344dc452a63a",
   "metadata": {},
   "outputs": [],
   "source": [
    "item_col = 'song_id'\n",
    "user_col = 'user_id'\n",
    "freq_col = 'n_listen'"
   ]
  },
  {
   "cell_type": "code",
   "execution_count": 5,
   "id": "88014fc4-286e-43ad-b0cb-5dcb71bc4d95",
   "metadata": {},
   "outputs": [],
   "source": [
    "mat = d.pivot_table(\n",
    "    index = user_col, \n",
    "    columns = item_col, \n",
    "    values = freq_col, \n",
    "    fill_value=0, \n",
    "    aggfunc = 'mean'\n",
    ")"
   ]
  },
  {
   "cell_type": "code",
   "execution_count": 6,
   "id": "a681ca45-ccbd-45fe-8e75-3233d08fe957",
   "metadata": {},
   "outputs": [
    {
     "data": {
      "text/plain": [
       "(3000, 1000)"
      ]
     },
     "execution_count": 6,
     "metadata": {},
     "output_type": "execute_result"
    }
   ],
   "source": [
    "mat.shape"
   ]
  },
  {
   "cell_type": "markdown",
   "id": "ac83ca8e-ae91-494f-abf3-2c7c1d7c598c",
   "metadata": {},
   "source": [
    "## Calculate SVD"
   ]
  },
  {
   "cell_type": "code",
   "execution_count": 7,
   "id": "2d5e0c77-ee6d-49ad-a285-c2108c275777",
   "metadata": {},
   "outputs": [
    {
     "name": "stdout",
     "output_type": "stream",
     "text": [
      "CPU times: user 8.22 s, sys: 1.02 s, total: 9.24 s\n",
      "Wall time: 1.51 s\n"
     ]
    }
   ],
   "source": [
    "%time u, sigma, v = svd(mat.values)"
   ]
  },
  {
   "cell_type": "markdown",
   "id": "ed6a3ec6-94ec-422c-ac70-369e0026c09c",
   "metadata": {},
   "source": [
    "## Generate Recommendations"
   ]
  },
  {
   "cell_type": "code",
   "execution_count": 8,
   "id": "10ef8637-1a0d-42ec-b838-6f4233956b93",
   "metadata": {},
   "outputs": [],
   "source": [
    "def cosine_similarity(a, b):\n",
    "    '''\n",
    "    This function will calculate the cosine similarity between two vectors\n",
    "    '''\n",
    "    return np.dot(a, b)/(np.linalg.norm(a)*np.linalg.norm(b))\n",
    "\n",
    "def get_similarities(mat, id_):\n",
    "    '''\n",
    "    This function will use the cosine similarity function to generate a similarity \n",
    "    dictionary assocaited to an id the user passes in. The similarity dictionary will\n",
    "    have the ids as the keys and the similarity in comparison to the user input id as\n",
    "    the values.\n",
    "    \n",
    "    params:\n",
    "        mat (List -> List) : A 2-D array assocaited to either the user / item matrix\n",
    "                             after SVD\n",
    "        id_ (Integer) : The id of the user / item you want to find similarities for.\n",
    "                        The id must be in the range of the input matrix shape.\n",
    "    \n",
    "    returns:\n",
    "        This function will return the similarity dictionary ordered by the values in \n",
    "        descending order.\n",
    "        \n",
    "    example:\n",
    "        mat = np.asarray([\n",
    "            [2,3,4],\n",
    "            [6,5,3],\n",
    "            [5,3,2]\n",
    "        ])\n",
    "        id_ = 2\n",
    "        get_similarities(mat, id_)\n",
    "    '''\n",
    "    # create similarity hashmap, keys are ids and values are similarities\n",
    "    sim_dct = {} \n",
    "    for col in range(0, mat.shape[1]):\n",
    "        sim = cosine_similarity(mat[:,id_], mat[:,col])\n",
    "        sim_dct[col] = sim\n",
    "    \n",
    "    # sort dictionary based on similarities \n",
    "    sim_dct = {k: v for k, v in sorted(sim_dct.items(), key=lambda item: item[1], reverse = True)}\n",
    "    return sim_dct\n",
    "\n",
    "def recommend(mat, id_, n_recs):\n",
    "    '''\n",
    "    This function will get the top n recommendations assocaited to an id.\n",
    "    \n",
    "    params:\n",
    "        mat (List -> List) : A 2-D array assocaited to either the user / item matrix\n",
    "                             after SVD\n",
    "        id_ (Integer) : The id of the user / item you want to find similarities for.\n",
    "                        The id must be in the range of the input matrix shape.\n",
    "        n_recs (Integer) : The number of recommendations you want.\n",
    "        \n",
    "    returns:\n",
    "        This function will return a list of ids most similar to the input id you passed.\n",
    "    '''\n",
    "    sim_dct = get_similarities(mat, id_)\n",
    "    similar_ids = list(sim_dct.keys())[1:n_recs+1]\n",
    "    return similar_ids"
   ]
  },
  {
   "cell_type": "code",
   "execution_count": 9,
   "id": "7cedfdf0-151e-49e2-ac99-5854e4b0a47c",
   "metadata": {},
   "outputs": [
    {
     "name": "stdout",
     "output_type": "stream",
     "text": [
      "[614, 25, 206, 115, 11, 741, 2, 331, 18, 748]\n"
     ]
    }
   ],
   "source": [
    "id_ = 8\n",
    "n_recs = 10\n",
    "print(recommend(u, id_, n_recs))"
   ]
  }
 ],
 "metadata": {
  "kernelspec": {
   "display_name": "Python 3",
   "language": "python",
   "name": "python3"
  },
  "language_info": {
   "codemirror_mode": {
    "name": "ipython",
    "version": 3
   },
   "file_extension": ".py",
   "mimetype": "text/x-python",
   "name": "python",
   "nbconvert_exporter": "python",
   "pygments_lexer": "ipython3",
   "version": "3.8.8"
  }
 },
 "nbformat": 4,
 "nbformat_minor": 5
}
