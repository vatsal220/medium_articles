{
 "cells": [
  {
   "cell_type": "markdown",
   "id": "39b01393-b3d5-45fb-9d78-7a5de09d261d",
   "metadata": {},
   "source": [
    "# Text Similarity - Levenshtein Distance"
   ]
  },
  {
   "cell_type": "markdown",
   "id": "02846d60-7071-4e0c-823f-1dcc8e7f7325",
   "metadata": {},
   "source": [
    "```console\n",
    "pip install python-Levenshtein\n",
    "```"
   ]
  },
  {
   "cell_type": "code",
   "execution_count": null,
   "id": "e6fafd7f-d70b-4d83-a60f-b21642f81302",
   "metadata": {},
   "outputs": [],
   "source": [
    "import re\n"
   ]
  },
  {
   "cell_type": "code",
   "execution_count": null,
   "id": "51f48227-cfb4-4562-9533-be65c0d773c0",
   "metadata": {},
   "outputs": [],
   "source": []
  },
  {
   "cell_type": "code",
   "execution_count": null,
   "id": "1b7f219f-848a-40ad-b4ea-38a1348f66f1",
   "metadata": {},
   "outputs": [],
   "source": []
  },
  {
   "cell_type": "code",
   "execution_count": null,
   "id": "02dbd1f9-ac63-460f-90f8-b1983eb72884",
   "metadata": {},
   "outputs": [],
   "source": []
  },
  {
   "cell_type": "code",
   "execution_count": null,
   "id": "04bfbb09-954c-4933-8d3b-3a53e903dc11",
   "metadata": {},
   "outputs": [],
   "source": []
  },
  {
   "cell_type": "code",
   "execution_count": null,
   "id": "6b3cade5-2deb-40a1-abbe-b3738681f6fe",
   "metadata": {},
   "outputs": [],
   "source": []
  },
  {
   "cell_type": "markdown",
   "id": "304f0779-9ace-4d44-840e-aa618b0984c7",
   "metadata": {},
   "source": [
    "## Resources\n",
    "- [1]\n",
    "- [2] https://pypi.org/project/python-Levenshtein/\n",
    "---"
   ]
  }
 ],
 "metadata": {
  "kernelspec": {
   "display_name": "Python 3",
   "language": "python",
   "name": "python3"
  },
  "language_info": {
   "codemirror_mode": {
    "name": "ipython",
    "version": 3
   },
   "file_extension": ".py",
   "mimetype": "text/x-python",
   "name": "python",
   "nbconvert_exporter": "python",
   "pygments_lexer": "ipython3",
   "version": "3.8.8"
  }
 },
 "nbformat": 4,
 "nbformat_minor": 5
}
