{
 "cells": [
  {
   "cell_type": "markdown",
   "id": "39b01393-b3d5-45fb-9d78-7a5de09d261d",
   "metadata": {},
   "source": [
    "# Text Similarity - Levenshtein Distance"
   ]
  },
  {
   "cell_type": "code",
   "execution_count": null,
   "id": "e6fafd7f-d70b-4d83-a60f-b21642f81302",
   "metadata": {},
   "outputs": [],
   "source": []
  },
  {
   "cell_type": "code",
   "execution_count": null,
   "id": "51f48227-cfb4-4562-9533-be65c0d773c0",
   "metadata": {},
   "outputs": [],
   "source": []
  },
  {
   "cell_type": "code",
   "execution_count": null,
   "id": "1b7f219f-848a-40ad-b4ea-38a1348f66f1",
   "metadata": {},
   "outputs": [],
   "source": []
  },
  {
   "cell_type": "markdown",
   "id": "304f0779-9ace-4d44-840e-aa618b0984c7",
   "metadata": {},
   "source": [
    "## Resources\n",
    "\n",
    "---"
   ]
  }
 ],
 "metadata": {
  "kernelspec": {
   "display_name": "Python 3",
   "language": "python",
   "name": "python3"
  },
  "language_info": {
   "codemirror_mode": {
    "name": "ipython",
    "version": 3
   },
   "file_extension": ".py",
   "mimetype": "text/x-python",
   "name": "python",
   "nbconvert_exporter": "python",
   "pygments_lexer": "ipython3",
   "version": "3.8.8"
  }
 },
 "nbformat": 4,
 "nbformat_minor": 5
}
