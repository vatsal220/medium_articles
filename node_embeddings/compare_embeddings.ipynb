{
 "cells": [
  {
   "cell_type": "markdown",
   "id": "05bb1ce0-d1ae-4759-9d0b-b0a9cdf16580",
   "metadata": {},
   "source": [
    "# Compare Node Embedding Techniques"
   ]
  },
  {
   "cell_type": "code",
   "execution_count": 1,
   "id": "d9319949-83ef-40c9-acdc-caa6f9c23f0b",
   "metadata": {},
   "outputs": [],
   "source": [
    "import numpy as np\n",
    "import pandas as pd\n",
    "import networkx as nx"
   ]
  },
  {
   "cell_type": "code",
   "execution_count": null,
   "id": "fc3b2d56-eae9-4272-8990-4d5ee3600dfe",
   "metadata": {},
   "outputs": [],
   "source": []
  },
  {
   "cell_type": "markdown",
   "id": "8b06b2e9-f322-495c-b398-c43f216ac7a8",
   "metadata": {},
   "source": [
    "## Load Data"
   ]
  },
  {
   "cell_type": "code",
   "execution_count": null,
   "id": "ea65d63e-dd6a-419a-bd44-02de63729e6a",
   "metadata": {},
   "outputs": [],
   "source": []
  },
  {
   "cell_type": "code",
   "execution_count": null,
   "id": "47b457bc-8ad3-4faf-aae8-81ba7fdc6112",
   "metadata": {},
   "outputs": [],
   "source": []
  },
  {
   "cell_type": "markdown",
   "id": "daeb7e04-a4c9-421b-a312-7971e32d7681",
   "metadata": {},
   "source": [
    "## Generate Network"
   ]
  },
  {
   "cell_type": "code",
   "execution_count": null,
   "id": "fc336a25-ab86-4180-ab72-070368e41100",
   "metadata": {},
   "outputs": [],
   "source": []
  },
  {
   "cell_type": "code",
   "execution_count": null,
   "id": "2f062354-05b5-45de-87b6-569114303576",
   "metadata": {},
   "outputs": [],
   "source": []
  },
  {
   "cell_type": "markdown",
   "id": "74bacbdc-1604-4232-98ce-a4900bdb3ef4",
   "metadata": {},
   "source": [
    "## Node2Vec"
   ]
  },
  {
   "cell_type": "code",
   "execution_count": null,
   "id": "004e83a1-5007-4be8-8a31-d25b33929dbd",
   "metadata": {},
   "outputs": [],
   "source": []
  },
  {
   "cell_type": "code",
   "execution_count": null,
   "id": "76f12e6e-783e-4bbd-b894-5ece00746d3b",
   "metadata": {},
   "outputs": [],
   "source": []
  },
  {
   "cell_type": "markdown",
   "id": "c2a2d130-3c3f-4677-a050-8575949a4d07",
   "metadata": {},
   "source": [
    "## DeepWalk"
   ]
  },
  {
   "cell_type": "code",
   "execution_count": null,
   "id": "02e3fd27-a551-497a-8278-717b128b399d",
   "metadata": {},
   "outputs": [],
   "source": []
  },
  {
   "cell_type": "code",
   "execution_count": null,
   "id": "e4145f19-6bb5-4b44-8230-c269503d3067",
   "metadata": {},
   "outputs": [],
   "source": []
  },
  {
   "cell_type": "markdown",
   "id": "e2bde23d-088b-4ea2-a601-a92afedf088e",
   "metadata": {},
   "source": [
    "## Random Walks w/ Restart"
   ]
  },
  {
   "cell_type": "code",
   "execution_count": null,
   "id": "0bd7acbf-031c-47ca-9415-1b3c8372cd31",
   "metadata": {},
   "outputs": [],
   "source": []
  },
  {
   "cell_type": "code",
   "execution_count": null,
   "id": "639d9817-41c1-4934-8935-a4282b989722",
   "metadata": {},
   "outputs": [],
   "source": []
  },
  {
   "cell_type": "markdown",
   "id": "9e576c47-26e4-4ecc-8c6d-3ab6b0cee80e",
   "metadata": {},
   "source": [
    "## Compare Performance"
   ]
  },
  {
   "cell_type": "code",
   "execution_count": null,
   "id": "fc2df73c-85e5-4f42-9ff0-2d10e0f75bc1",
   "metadata": {},
   "outputs": [],
   "source": []
  },
  {
   "cell_type": "code",
   "execution_count": null,
   "id": "fec0c175-2eaa-44a7-8814-eafadf689bc5",
   "metadata": {},
   "outputs": [],
   "source": []
  },
  {
   "cell_type": "markdown",
   "id": "acafaeb0-f79c-4e54-b118-1406b915ab90",
   "metadata": {},
   "source": [
    "---"
   ]
  }
 ],
 "metadata": {
  "kernelspec": {
   "display_name": "Python 3 (ipykernel)",
   "language": "python",
   "name": "python3"
  },
  "language_info": {
   "codemirror_mode": {
    "name": "ipython",
    "version": 3
   },
   "file_extension": ".py",
   "mimetype": "text/x-python",
   "name": "python",
   "nbconvert_exporter": "python",
   "pygments_lexer": "ipython3",
   "version": "3.10.0"
  }
 },
 "nbformat": 4,
 "nbformat_minor": 5
}
