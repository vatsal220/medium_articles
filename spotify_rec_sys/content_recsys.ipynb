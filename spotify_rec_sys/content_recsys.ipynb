{
 "cells": [
  {
   "cell_type": "markdown",
   "id": "141925dd-b99c-4a61-8edb-7f2619d1b983",
   "metadata": {},
   "source": [
    "# Content Based Recommender System"
   ]
  },
  {
   "cell_type": "code",
   "execution_count": 1,
   "id": "500c513e-c382-4cb9-88e2-d4b33a700104",
   "metadata": {},
   "outputs": [],
   "source": [
    "import pandas as pd\n",
    "import numpy as np\n",
    "import re\n",
    "import os\n",
    "\n",
    "from numpy import dot\n",
    "from numpy.linalg import norm\n",
    "\n",
    "import warnings\n",
    "warnings.filterwarnings(\"ignore\")"
   ]
  },
  {
   "cell_type": "code",
   "execution_count": 2,
   "id": "d9731d9e-4433-4d3f-afaf-3d48cf314940",
   "metadata": {},
   "outputs": [],
   "source": [
    "# constants\n",
    "tracks_PATH = '../data/tracks.csv'\n",
    "genre_PATH = '../data/data_by_genres_o.csv'\n",
    "d_PATH = '../data/data_o.csv'"
   ]
  },
  {
   "cell_type": "markdown",
   "id": "1140e446-c283-4e04-b984-d2941c5b46dc",
   "metadata": {},
   "source": [
    "## Import Data"
   ]
  },
  {
   "cell_type": "code",
   "execution_count": 3,
   "id": "31f112aa-47f8-4d31-895a-65352baf2b61",
   "metadata": {},
   "outputs": [
    {
     "name": "stdout",
     "output_type": "stream",
     "text": [
      "(586672, 20) (2973, 14) (170653, 19)\n"
     ]
    }
   ],
   "source": [
    "tracks_df = pd.read_csv(tracks_PATH, converters = {'artists' : eval, 'id_artists' : eval})\n",
    "genre_df = pd.read_csv(genre_PATH)\n",
    "df = pd.read_csv(d_PATH)\n",
    "print(tracks_df.shape, genre_df.shape, df.shape)"
   ]
  },
  {
   "cell_type": "code",
   "execution_count": null,
   "id": "a1d401a1-5029-4519-b1a7-adcc2ccafd11",
   "metadata": {},
   "outputs": [],
   "source": [
    "# d = pd.read_csv(\"https://raw.githubusercontent.com/vatsal220/reference_data/main/data_by_artist_o.csv\")"
   ]
  },
  {
   "cell_type": "code",
   "execution_count": 5,
   "id": "ed509388-58ed-4fba-9f18-6dd57207b1b0",
   "metadata": {},
   "outputs": [],
   "source": [
    "df['release_date']= pd.to_datetime(df['release_date'])\n",
    "df['year'] = df['release_date'].dt.year"
   ]
  },
  {
   "cell_type": "code",
   "execution_count": 6,
   "id": "33a9fbdd-09ba-4ee4-9d0d-e7c67a859ba2",
   "metadata": {},
   "outputs": [
    {
     "name": "stdout",
     "output_type": "stream",
     "text": [
      "valence 0.0 1.0\n",
      "acousticness 0.0 0.996\n",
      "danceability 0.0 0.988\n",
      "energy 0.0 1.0\n",
      "liveness 0.0 1.0\n",
      "loudness -60.0 3.855\n",
      "tempo 0.0 243.507\n",
      "speechiness 0.0 0.97\n"
     ]
    }
   ],
   "source": [
    "cols = [\n",
    "    'valence', 'acousticness', 'danceability', 'energy', 'liveness', 'loudness', 'tempo', 'speechiness'\n",
    "]\n",
    "for c in cols:\n",
    "    print(c, df[c].describe()['min'], df[c].describe()['max'])\n",
    "\n",
    "# normalize tempo & loudness"
   ]
  },
  {
   "cell_type": "code",
   "execution_count": 9,
   "id": "84c235be-490c-40f7-884a-d6afdc1b5f52",
   "metadata": {},
   "outputs": [],
   "source": [
    "def normalize_col(data_points):\n",
    "    '''\n",
    "    This function will normalize a column to be between 0 and 1\n",
    "    '''\n",
    "    min_val = min(data_points)\n",
    "    if min_val < 0:\n",
    "        data_points = [x + abs(min_val) for x in data_points]\n",
    "        \n",
    "    max_val = max(data_points)\n",
    "    data_points = [x/max_val for x in data_points]\n",
    "    return data_points\n",
    "        "
   ]
  },
  {
   "cell_type": "code",
   "execution_count": 10,
   "id": "73ded335-957f-4c27-9385-18df82ad14a9",
   "metadata": {},
   "outputs": [],
   "source": [
    "df['norm_tempo'] = normalize_col(df['tempo'].values)\n",
    "df['norm_loudness'] = normalize_col(df['loudness'].values)"
   ]
  },
  {
   "cell_type": "code",
   "execution_count": 11,
   "id": "dc721a59-7b22-456c-b0eb-d1815e448cdf",
   "metadata": {},
   "outputs": [],
   "source": [
    "#simple function to create OHE features\n",
    "#this gets passed later on\n",
    "def ohe_prep(df, column, new_name): \n",
    "    \"\"\" \n",
    "    Create One Hot Encoded features of a specific column\n",
    "\n",
    "    Parameters: \n",
    "        df (pandas dataframe): Spotify Dataframe\n",
    "        column (str): Column to be processed\n",
    "        new_name (str): new column name to be used\n",
    "        \n",
    "    Returns: \n",
    "        tf_df: One hot encoded features \n",
    "    \"\"\"\n",
    "    \n",
    "    tf_df = pd.get_dummies(df[column])\n",
    "    feature_names = tf_df.columns\n",
    "    tf_df.columns = [new_name + \"_\" + str(i) for i in feature_names]\n",
    "    tf_df.reset_index(drop = True, inplace = True)    \n",
    "    return tf_df"
   ]
  },
  {
   "cell_type": "code",
   "execution_count": 12,
   "id": "ca29300b-c956-4563-a41a-be2b746846b3",
   "metadata": {},
   "outputs": [],
   "source": [
    "keep_cols = [\n",
    "    'year', 'liveness', 'speechiness', 'tempo', 'norm_tempo', 'norm_loudness', 'valence', 'acousticness', \n",
    "    'danceability', 'instrumentalness', 'id' #, 'artists'\n",
    "]"
   ]
  },
  {
   "cell_type": "code",
   "execution_count": 13,
   "id": "4df268b8-a396-4a29-8a25-749e5f8e6032",
   "metadata": {},
   "outputs": [],
   "source": [
    "fin_df = df[keep_cols]"
   ]
  },
  {
   "cell_type": "code",
   "execution_count": 14,
   "id": "e5904c4a-7bbe-41cc-8532-c097d56f35d3",
   "metadata": {},
   "outputs": [],
   "source": [
    "rec_df = pd.concat([ohe_prep(fin_df, 'year', 'year'), fin_df], axis = 1)"
   ]
  },
  {
   "cell_type": "code",
   "execution_count": 15,
   "id": "1509ace4-5cd5-4f94-b31c-ff2766761d66",
   "metadata": {},
   "outputs": [],
   "source": [
    "rec_df = rec_df.set_index(['id'])"
   ]
  },
  {
   "cell_type": "code",
   "execution_count": 16,
   "id": "6bd0b119-b7a2-4f26-9f8e-10d38691bdb7",
   "metadata": {},
   "outputs": [],
   "source": [
    "def get_cosine_sim(vec1,vec2):\n",
    "    return dot(vec1,vec2) / (norm(vec1) * norm(vec2))"
   ]
  },
  {
   "cell_type": "code",
   "execution_count": 18,
   "id": "c9533af2-0d5f-41a9-9546-b1f24870a63b",
   "metadata": {},
   "outputs": [],
   "source": [
    "def recommender(df, song_id, n_rec):\n",
    "    '''\n",
    "    This function will calculate the consine similarity of one song with respect to all other songs in the dataset and return\n",
    "    the top N songs most similar to it.\n",
    "    '''\n",
    "    \n",
    "    input_vector = df.loc[song_id].values\n",
    "    df['similarity'] = df.apply(lambda row: get_cosine_sim(input_vector, row.values), axis=1)\n",
    "    return df.nlargest(columns = 'similarity', n = n_rec)"
   ]
  },
  {
   "cell_type": "code",
   "execution_count": 24,
   "id": "ac1a341f-04b9-4779-8f6d-28bb01b1dd3c",
   "metadata": {},
   "outputs": [],
   "source": [
    "def id_to_song(df, ids):\n",
    "    '''\n",
    "    Given a list of song ids this function will convert them back into their song names\n",
    "    '''\n",
    "    songs = df[df.id.isin(ids)]\n",
    "    return songs.name.unique()"
   ]
  },
  {
   "cell_type": "code",
   "execution_count": 20,
   "id": "24da4227-0056-4aaf-b286-ba342c8aab2c",
   "metadata": {},
   "outputs": [
    {
     "name": "stdout",
     "output_type": "stream",
     "text": [
      "CPU times: user 1.95 s, sys: 67.4 ms, total: 2.02 s\n",
      "Wall time: 2.02 s\n"
     ]
    }
   ],
   "source": [
    "%time similar_songs = recommender(rec_df, song_id = '0KkIkfsLEJbrcIhYsCL7L5', n_rec = 5).index"
   ]
  },
  {
   "cell_type": "code",
   "execution_count": 25,
   "id": "e1beab99-1960-4c18-91c4-3ab2b04c3e00",
   "metadata": {},
   "outputs": [
    {
     "data": {
      "text/plain": [
       "array(['Telepathy', 'Stacy', 'Long Beach', 'Breathe Deeper', 'China'],\n",
       "      dtype=object)"
      ]
     },
     "execution_count": 25,
     "metadata": {},
     "output_type": "execute_result"
    }
   ],
   "source": [
    "id_to_song(df = df, ids = similar_songs)"
   ]
  },
  {
   "cell_type": "code",
   "execution_count": null,
   "id": "8e69960d-b369-4703-8bc5-4527dcf65590",
   "metadata": {},
   "outputs": [],
   "source": []
  },
  {
   "cell_type": "code",
   "execution_count": null,
   "id": "0429d9d0-d6cd-4d4a-8d18-580da0db33f8",
   "metadata": {},
   "outputs": [],
   "source": []
  },
  {
   "cell_type": "code",
   "execution_count": null,
   "id": "88d821c4-4c43-4b41-a656-0d6b38edbb77",
   "metadata": {},
   "outputs": [],
   "source": []
  },
  {
   "cell_type": "code",
   "execution_count": 13,
   "id": "ffd7b61f-3d71-46a0-9779-844b214202fe",
   "metadata": {},
   "outputs": [
    {
     "data": {
      "text/plain": [
       "'21st century classical'"
      ]
     },
     "execution_count": 13,
     "metadata": {},
     "output_type": "execute_result"
    }
   ],
   "source": [
    "genre_df['genres'].values[0]"
   ]
  },
  {
   "cell_type": "code",
   "execution_count": 8,
   "id": "99c16a79-b842-45e8-a48d-d8454e9bfe63",
   "metadata": {},
   "outputs": [],
   "source": [
    "# preprocessing year to be integer\n",
    "tracks_df['release_date']= pd.to_datetime(tracks_df['release_date'])\n",
    "tracks_df['year'] = tracks_df['release_date'].dt.year\n",
    "\n",
    "# "
   ]
  },
  {
   "cell_type": "code",
   "execution_count": 9,
   "id": "845816fc-e0cc-4354-be43-74c22a1f82fa",
   "metadata": {},
   "outputs": [
    {
     "data": {
      "text/html": [
       "<div>\n",
       "<style scoped>\n",
       "    .dataframe tbody tr th:only-of-type {\n",
       "        vertical-align: middle;\n",
       "    }\n",
       "\n",
       "    .dataframe tbody tr th {\n",
       "        vertical-align: top;\n",
       "    }\n",
       "\n",
       "    .dataframe thead th {\n",
       "        text-align: right;\n",
       "    }\n",
       "</style>\n",
       "<table border=\"1\" class=\"dataframe\">\n",
       "  <thead>\n",
       "    <tr style=\"text-align: right;\">\n",
       "      <th></th>\n",
       "      <th>id</th>\n",
       "      <th>name</th>\n",
       "      <th>popularity</th>\n",
       "      <th>duration_ms</th>\n",
       "      <th>explicit</th>\n",
       "      <th>artists</th>\n",
       "      <th>id_artists</th>\n",
       "      <th>release_date</th>\n",
       "      <th>danceability</th>\n",
       "      <th>energy</th>\n",
       "      <th>...</th>\n",
       "      <th>loudness</th>\n",
       "      <th>mode</th>\n",
       "      <th>speechiness</th>\n",
       "      <th>acousticness</th>\n",
       "      <th>instrumentalness</th>\n",
       "      <th>liveness</th>\n",
       "      <th>valence</th>\n",
       "      <th>tempo</th>\n",
       "      <th>time_signature</th>\n",
       "      <th>year</th>\n",
       "    </tr>\n",
       "  </thead>\n",
       "  <tbody>\n",
       "    <tr>\n",
       "      <th>0</th>\n",
       "      <td>35iwgR4jXetI318WEWsa1Q</td>\n",
       "      <td>Carve</td>\n",
       "      <td>6</td>\n",
       "      <td>126903</td>\n",
       "      <td>0</td>\n",
       "      <td>['Uli']</td>\n",
       "      <td>['45tIt06XoI0Iio4LBEVpls']</td>\n",
       "      <td>1922-02-22</td>\n",
       "      <td>0.645</td>\n",
       "      <td>0.4450</td>\n",
       "      <td>...</td>\n",
       "      <td>-13.338</td>\n",
       "      <td>1</td>\n",
       "      <td>0.4510</td>\n",
       "      <td>0.674</td>\n",
       "      <td>0.7440</td>\n",
       "      <td>0.151</td>\n",
       "      <td>0.127</td>\n",
       "      <td>104.851</td>\n",
       "      <td>3</td>\n",
       "      <td>1922</td>\n",
       "    </tr>\n",
       "    <tr>\n",
       "      <th>1</th>\n",
       "      <td>021ht4sdgPcrDgSk7JTbKY</td>\n",
       "      <td>Capítulo 2.16 - Banquero Anarquista</td>\n",
       "      <td>0</td>\n",
       "      <td>98200</td>\n",
       "      <td>0</td>\n",
       "      <td>['Fernando Pessoa']</td>\n",
       "      <td>['14jtPCOoNZwquk5wd9DxrY']</td>\n",
       "      <td>1922-06-01</td>\n",
       "      <td>0.695</td>\n",
       "      <td>0.2630</td>\n",
       "      <td>...</td>\n",
       "      <td>-22.136</td>\n",
       "      <td>1</td>\n",
       "      <td>0.9570</td>\n",
       "      <td>0.797</td>\n",
       "      <td>0.0000</td>\n",
       "      <td>0.148</td>\n",
       "      <td>0.655</td>\n",
       "      <td>102.009</td>\n",
       "      <td>1</td>\n",
       "      <td>1922</td>\n",
       "    </tr>\n",
       "    <tr>\n",
       "      <th>2</th>\n",
       "      <td>07A5yehtSnoedViJAZkNnc</td>\n",
       "      <td>Vivo para Quererte - Remasterizado</td>\n",
       "      <td>0</td>\n",
       "      <td>181640</td>\n",
       "      <td>0</td>\n",
       "      <td>['Ignacio Corsini']</td>\n",
       "      <td>['5LiOoJbxVSAMkBS2fUm3X2']</td>\n",
       "      <td>1922-03-21</td>\n",
       "      <td>0.434</td>\n",
       "      <td>0.1770</td>\n",
       "      <td>...</td>\n",
       "      <td>-21.180</td>\n",
       "      <td>1</td>\n",
       "      <td>0.0512</td>\n",
       "      <td>0.994</td>\n",
       "      <td>0.0218</td>\n",
       "      <td>0.212</td>\n",
       "      <td>0.457</td>\n",
       "      <td>130.418</td>\n",
       "      <td>5</td>\n",
       "      <td>1922</td>\n",
       "    </tr>\n",
       "    <tr>\n",
       "      <th>3</th>\n",
       "      <td>08FmqUhxtyLTn6pAh6bk45</td>\n",
       "      <td>El Prisionero - Remasterizado</td>\n",
       "      <td>0</td>\n",
       "      <td>176907</td>\n",
       "      <td>0</td>\n",
       "      <td>['Ignacio Corsini']</td>\n",
       "      <td>['5LiOoJbxVSAMkBS2fUm3X2']</td>\n",
       "      <td>1922-03-21</td>\n",
       "      <td>0.321</td>\n",
       "      <td>0.0946</td>\n",
       "      <td>...</td>\n",
       "      <td>-27.961</td>\n",
       "      <td>1</td>\n",
       "      <td>0.0504</td>\n",
       "      <td>0.995</td>\n",
       "      <td>0.9180</td>\n",
       "      <td>0.104</td>\n",
       "      <td>0.397</td>\n",
       "      <td>169.980</td>\n",
       "      <td>3</td>\n",
       "      <td>1922</td>\n",
       "    </tr>\n",
       "    <tr>\n",
       "      <th>4</th>\n",
       "      <td>08y9GfoqCWfOGsKdwojr5e</td>\n",
       "      <td>Lady of the Evening</td>\n",
       "      <td>0</td>\n",
       "      <td>163080</td>\n",
       "      <td>0</td>\n",
       "      <td>['Dick Haymes']</td>\n",
       "      <td>['3BiJGZsyX9sJchTqcSA7Su']</td>\n",
       "      <td>1922-01-01</td>\n",
       "      <td>0.402</td>\n",
       "      <td>0.1580</td>\n",
       "      <td>...</td>\n",
       "      <td>-16.900</td>\n",
       "      <td>0</td>\n",
       "      <td>0.0390</td>\n",
       "      <td>0.989</td>\n",
       "      <td>0.1300</td>\n",
       "      <td>0.311</td>\n",
       "      <td>0.196</td>\n",
       "      <td>103.220</td>\n",
       "      <td>4</td>\n",
       "      <td>1922</td>\n",
       "    </tr>\n",
       "  </tbody>\n",
       "</table>\n",
       "<p>5 rows × 21 columns</p>\n",
       "</div>"
      ],
      "text/plain": [
       "                       id                                 name  popularity  \\\n",
       "0  35iwgR4jXetI318WEWsa1Q                                Carve           6   \n",
       "1  021ht4sdgPcrDgSk7JTbKY  Capítulo 2.16 - Banquero Anarquista           0   \n",
       "2  07A5yehtSnoedViJAZkNnc   Vivo para Quererte - Remasterizado           0   \n",
       "3  08FmqUhxtyLTn6pAh6bk45        El Prisionero - Remasterizado           0   \n",
       "4  08y9GfoqCWfOGsKdwojr5e                  Lady of the Evening           0   \n",
       "\n",
       "   duration_ms  explicit              artists                  id_artists  \\\n",
       "0       126903         0              ['Uli']  ['45tIt06XoI0Iio4LBEVpls']   \n",
       "1        98200         0  ['Fernando Pessoa']  ['14jtPCOoNZwquk5wd9DxrY']   \n",
       "2       181640         0  ['Ignacio Corsini']  ['5LiOoJbxVSAMkBS2fUm3X2']   \n",
       "3       176907         0  ['Ignacio Corsini']  ['5LiOoJbxVSAMkBS2fUm3X2']   \n",
       "4       163080         0      ['Dick Haymes']  ['3BiJGZsyX9sJchTqcSA7Su']   \n",
       "\n",
       "  release_date  danceability  energy  ...  loudness  mode  speechiness  \\\n",
       "0   1922-02-22         0.645  0.4450  ...   -13.338     1       0.4510   \n",
       "1   1922-06-01         0.695  0.2630  ...   -22.136     1       0.9570   \n",
       "2   1922-03-21         0.434  0.1770  ...   -21.180     1       0.0512   \n",
       "3   1922-03-21         0.321  0.0946  ...   -27.961     1       0.0504   \n",
       "4   1922-01-01         0.402  0.1580  ...   -16.900     0       0.0390   \n",
       "\n",
       "   acousticness  instrumentalness  liveness  valence    tempo  time_signature  \\\n",
       "0         0.674            0.7440     0.151    0.127  104.851               3   \n",
       "1         0.797            0.0000     0.148    0.655  102.009               1   \n",
       "2         0.994            0.0218     0.212    0.457  130.418               5   \n",
       "3         0.995            0.9180     0.104    0.397  169.980               3   \n",
       "4         0.989            0.1300     0.311    0.196  103.220               4   \n",
       "\n",
       "   year  \n",
       "0  1922  \n",
       "1  1922  \n",
       "2  1922  \n",
       "3  1922  \n",
       "4  1922  \n",
       "\n",
       "[5 rows x 21 columns]"
      ]
     },
     "execution_count": 9,
     "metadata": {},
     "output_type": "execute_result"
    }
   ],
   "source": [
    "tracks_df.head()"
   ]
  },
  {
   "cell_type": "code",
   "execution_count": null,
   "id": "014fbd09-ce1f-4320-bd6a-213822f0daa1",
   "metadata": {},
   "outputs": [],
   "source": []
  }
 ],
 "metadata": {
  "kernelspec": {
   "display_name": "Python 3",
   "language": "python",
   "name": "python3"
  },
  "language_info": {
   "codemirror_mode": {
    "name": "ipython",
    "version": 3
   },
   "file_extension": ".py",
   "mimetype": "text/x-python",
   "name": "python",
   "nbconvert_exporter": "python",
   "pygments_lexer": "ipython3",
   "version": "3.8.8"
  }
 },
 "nbformat": 4,
 "nbformat_minor": 5
}
