{
 "cells": [
  {
   "cell_type": "markdown",
   "id": "141925dd-b99c-4a61-8edb-7f2619d1b983",
   "metadata": {},
   "source": [
    "# Content Based Recommender System"
   ]
  },
  {
   "cell_type": "code",
   "execution_count": 1,
   "id": "500c513e-c382-4cb9-88e2-d4b33a700104",
   "metadata": {},
   "outputs": [],
   "source": [
    "import pandas as pd\n",
    "import numpy as np\n",
    "import re\n",
    "import os\n",
    "\n",
    "from numpy import dot\n",
    "from numpy.linalg import norm\n",
    "\n",
    "import warnings\n",
    "warnings.filterwarnings(\"ignore\")"
   ]
  },
  {
   "cell_type": "code",
   "execution_count": 4,
   "id": "d9731d9e-4433-4d3f-afaf-3d48cf314940",
   "metadata": {},
   "outputs": [],
   "source": [
    "# constants\n",
    "d_PATH = './data/data_o.csv'"
   ]
  },
  {
   "cell_type": "markdown",
   "id": "1140e446-c283-4e04-b984-d2941c5b46dc",
   "metadata": {},
   "source": [
    "## Import Data"
   ]
  },
  {
   "cell_type": "code",
   "execution_count": 5,
   "id": "31f112aa-47f8-4d31-895a-65352baf2b61",
   "metadata": {},
   "outputs": [
    {
     "name": "stdout",
     "output_type": "stream",
     "text": [
      "(170653, 19)\n"
     ]
    }
   ],
   "source": [
    "df = pd.read_csv(d_PATH)\n",
    "print(df.shape)"
   ]
  },
  {
   "cell_type": "code",
   "execution_count": 6,
   "id": "ed509388-58ed-4fba-9f18-6dd57207b1b0",
   "metadata": {},
   "outputs": [],
   "source": [
    "df['release_date']= pd.to_datetime(df['release_date'])\n",
    "df['year'] = df['release_date'].dt.year"
   ]
  },
  {
   "cell_type": "code",
   "execution_count": 7,
   "id": "33a9fbdd-09ba-4ee4-9d0d-e7c67a859ba2",
   "metadata": {},
   "outputs": [
    {
     "name": "stdout",
     "output_type": "stream",
     "text": [
      "valence 0.0 1.0\n",
      "acousticness 0.0 0.996\n",
      "danceability 0.0 0.988\n",
      "energy 0.0 1.0\n",
      "liveness 0.0 1.0\n",
      "loudness -60.0 3.855\n",
      "tempo 0.0 243.507\n",
      "speechiness 0.0 0.97\n"
     ]
    }
   ],
   "source": [
    "cols = [\n",
    "    'valence', 'acousticness', 'danceability', 'energy', 'liveness', 'loudness', 'tempo', 'speechiness'\n",
    "]\n",
    "for c in cols:\n",
    "    print(c, df[c].describe()['min'], df[c].describe()['max'])\n",
    "\n",
    "# normalize tempo & loudness"
   ]
  },
  {
   "cell_type": "code",
   "execution_count": 8,
   "id": "84c235be-490c-40f7-884a-d6afdc1b5f52",
   "metadata": {},
   "outputs": [],
   "source": [
    "def normalize_col(data_points):\n",
    "    '''\n",
    "    This function will normalize a column to be between 0 and 1\n",
    "    '''\n",
    "    min_val = min(data_points)\n",
    "    if min_val < 0:\n",
    "        data_points = [x + abs(min_val) for x in data_points]\n",
    "        \n",
    "    max_val = max(data_points)\n",
    "    data_points = [x/max_val for x in data_points]\n",
    "    return data_points\n",
    "        "
   ]
  },
  {
   "cell_type": "code",
   "execution_count": 9,
   "id": "73ded335-957f-4c27-9385-18df82ad14a9",
   "metadata": {},
   "outputs": [],
   "source": [
    "df['norm_tempo'] = normalize_col(df['tempo'].values)\n",
    "df['norm_loudness'] = normalize_col(df['loudness'].values)"
   ]
  },
  {
   "cell_type": "code",
   "execution_count": 10,
   "id": "dc721a59-7b22-456c-b0eb-d1815e448cdf",
   "metadata": {},
   "outputs": [],
   "source": [
    "#simple function to create OHE features\n",
    "#this gets passed later on\n",
    "def ohe_prep(df, column, new_name): \n",
    "    \"\"\" \n",
    "    Create One Hot Encoded features of a specific column\n",
    "\n",
    "    Parameters: \n",
    "        df (pandas dataframe): Spotify Dataframe\n",
    "        column (str): Column to be processed\n",
    "        new_name (str): new column name to be used\n",
    "        \n",
    "    Returns: \n",
    "        tf_df: One hot encoded features \n",
    "    \"\"\"\n",
    "    \n",
    "    tf_df = pd.get_dummies(df[column])\n",
    "    feature_names = tf_df.columns\n",
    "    tf_df.columns = [new_name + \"_\" + str(i) for i in feature_names]\n",
    "    tf_df.reset_index(drop = True, inplace = True)    \n",
    "    return tf_df"
   ]
  },
  {
   "cell_type": "code",
   "execution_count": 11,
   "id": "ca29300b-c956-4563-a41a-be2b746846b3",
   "metadata": {},
   "outputs": [],
   "source": [
    "keep_cols = [\n",
    "    'year', 'liveness', 'speechiness', 'tempo', 'norm_tempo', 'norm_loudness', 'valence', 'acousticness', \n",
    "    'danceability', 'instrumentalness', 'id' #, 'artists'\n",
    "]"
   ]
  },
  {
   "cell_type": "code",
   "execution_count": 12,
   "id": "4df268b8-a396-4a29-8a25-749e5f8e6032",
   "metadata": {},
   "outputs": [],
   "source": [
    "fin_df = df[keep_cols]"
   ]
  },
  {
   "cell_type": "code",
   "execution_count": 13,
   "id": "e5904c4a-7bbe-41cc-8532-c097d56f35d3",
   "metadata": {},
   "outputs": [],
   "source": [
    "rec_df = pd.concat([ohe_prep(fin_df, 'year', 'year'), fin_df], axis = 1)"
   ]
  },
  {
   "cell_type": "code",
   "execution_count": 14,
   "id": "1509ace4-5cd5-4f94-b31c-ff2766761d66",
   "metadata": {},
   "outputs": [],
   "source": [
    "rec_df = rec_df.set_index(['id'])"
   ]
  },
  {
   "cell_type": "code",
   "execution_count": 15,
   "id": "6bd0b119-b7a2-4f26-9f8e-10d38691bdb7",
   "metadata": {},
   "outputs": [],
   "source": [
    "def get_cosine_sim(vec1,vec2):\n",
    "    return dot(vec1,vec2) / (norm(vec1) * norm(vec2))"
   ]
  },
  {
   "cell_type": "code",
   "execution_count": 16,
   "id": "c9533af2-0d5f-41a9-9546-b1f24870a63b",
   "metadata": {},
   "outputs": [],
   "source": [
    "def recommender(df, song_id, n_rec):\n",
    "    '''\n",
    "    This function will calculate the consine similarity of one song with respect to all other songs in the dataset and return\n",
    "    the top N songs most similar to it.\n",
    "    '''\n",
    "    \n",
    "    input_vector = df.loc[song_id].values\n",
    "    df['similarity'] = df.apply(lambda row: get_cosine_sim(input_vector, row.values), axis=1)\n",
    "    return df.nlargest(columns = 'similarity', n = n_rec)"
   ]
  },
  {
   "cell_type": "code",
   "execution_count": 17,
   "id": "ac1a341f-04b9-4779-8f6d-28bb01b1dd3c",
   "metadata": {},
   "outputs": [],
   "source": [
    "def id_to_song(df, ids):\n",
    "    '''\n",
    "    Given a list of song ids this function will convert them back into their song names\n",
    "    '''\n",
    "    songs = df[df.id.isin(ids)]\n",
    "    return songs.name.unique()"
   ]
  },
  {
   "cell_type": "code",
   "execution_count": 18,
   "id": "24da4227-0056-4aaf-b286-ba342c8aab2c",
   "metadata": {},
   "outputs": [
    {
     "name": "stdout",
     "output_type": "stream",
     "text": [
      "CPU times: user 2.01 s, sys: 137 ms, total: 2.15 s\n",
      "Wall time: 2.32 s\n"
     ]
    }
   ],
   "source": [
    "%time similar_songs = recommender(rec_df, song_id = '0KkIkfsLEJbrcIhYsCL7L5', n_rec = 5).index"
   ]
  },
  {
   "cell_type": "code",
   "execution_count": 19,
   "id": "e1beab99-1960-4c18-91c4-3ab2b04c3e00",
   "metadata": {},
   "outputs": [
    {
     "data": {
      "text/plain": [
       "array(['Telepathy', 'Stacy', 'Long Beach', 'Breathe Deeper', 'China'],\n",
       "      dtype=object)"
      ]
     },
     "execution_count": 19,
     "metadata": {},
     "output_type": "execute_result"
    }
   ],
   "source": [
    "id_to_song(df = df, ids = similar_songs)"
   ]
  },
  {
   "cell_type": "code",
   "execution_count": null,
   "id": "014fbd09-ce1f-4320-bd6a-213822f0daa1",
   "metadata": {},
   "outputs": [],
   "source": []
  }
 ],
 "metadata": {
  "kernelspec": {
   "display_name": "Python 3",
   "language": "python",
   "name": "python3"
  },
  "language_info": {
   "codemirror_mode": {
    "name": "ipython",
    "version": 3
   },
   "file_extension": ".py",
   "mimetype": "text/x-python",
   "name": "python",
   "nbconvert_exporter": "python",
   "pygments_lexer": "ipython3",
   "version": "3.8.8"
  }
 },
 "nbformat": 4,
 "nbformat_minor": 5
}
