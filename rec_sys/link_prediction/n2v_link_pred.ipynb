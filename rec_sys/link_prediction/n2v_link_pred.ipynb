{
 "cells": [
  {
   "cell_type": "markdown",
   "id": "443d1f01-9956-4651-a1c8-cc3f1a985263",
   "metadata": {},
   "source": [
    "# Link Prediction with Node2Vec"
   ]
  },
  {
   "cell_type": "code",
   "execution_count": null,
   "id": "9ee8e283-fc67-4b1e-83fa-d819d9542aeb",
   "metadata": {},
   "outputs": [],
   "source": []
  },
  {
   "cell_type": "code",
   "execution_count": null,
   "id": "753aa84a-f62c-423f-83e8-187e4c800927",
   "metadata": {},
   "outputs": [],
   "source": []
  },
  {
   "cell_type": "code",
   "execution_count": null,
   "id": "cc3851fa-178a-4ca1-be7c-ed0dc8c24168",
   "metadata": {},
   "outputs": [],
   "source": []
  },
  {
   "cell_type": "code",
   "execution_count": null,
   "id": "2dc54106-8951-4391-b41b-970d2e6e21b1",
   "metadata": {},
   "outputs": [],
   "source": []
  }
 ],
 "metadata": {
  "kernelspec": {
   "display_name": "Python 3",
   "language": "python",
   "name": "python3"
  },
  "language_info": {
   "codemirror_mode": {
    "name": "ipython",
    "version": 3
   },
   "file_extension": ".py",
   "mimetype": "text/x-python",
   "name": "python",
   "nbconvert_exporter": "python",
   "pygments_lexer": "ipython3",
   "version": "3.8.8"
  }
 },
 "nbformat": 4,
 "nbformat_minor": 5
}
