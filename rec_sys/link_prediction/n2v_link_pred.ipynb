{
 "cells": [
  {
   "cell_type": "markdown",
   "id": "443d1f01-9956-4651-a1c8-cc3f1a985263",
   "metadata": {},
   "source": [
    "# Link Prediction with Node2Vec"
   ]
  },
  {
   "cell_type": "code",
   "execution_count": 1,
   "id": "9ee8e283-fc67-4b1e-83fa-d819d9542aeb",
   "metadata": {},
   "outputs": [],
   "source": [
    "'''\n",
    "source : http://education.abcom.com/link-prediction-using-node2vec/\n",
    "'''\n",
    "\n",
    "import random\n",
    "from tqdm import tqdm\n",
    "import networkx as nx\n",
    "from zipfile import ZipFile\n",
    "import pandas as pd\n",
    "import numpy as np\n",
    "import matplotlib.pyplot as plt\n",
    "from warnings import simplefilter\n",
    "from sklearn.exceptions import ConvergenceWarning\n",
    "simplefilter(\"ignore\", category=ConvergenceWarning)\n",
    "\n",
    "import warnings\n",
    "warnings.filterwarnings(\"ignore\")"
   ]
  },
  {
   "cell_type": "markdown",
   "id": "691fe00b-9edc-4e67-bff8-312d7a83291a",
   "metadata": {},
   "source": [
    "## Import Data"
   ]
  },
  {
   "cell_type": "code",
   "execution_count": 2,
   "id": "753aa84a-f62c-423f-83e8-187e4c800927",
   "metadata": {},
   "outputs": [],
   "source": [
    "# !wget https://github.com/abcom-mltutorials/Facebook-Social-Network-Analysis/archive/master.zip -P \"/content\"\n",
    "# ZipFile(\"/content/master.zip\").extractall(\"/content/\")\n",
    " \n",
    "# graph\n",
    "G = nx.read_gpickle('data/fb_repo/Graph.pickle')\n",
    "# fb dataframe\n",
    "fb = pd.read_csv('data/fb_repo/fb.csv', index_col=[0])"
   ]
  },
  {
   "cell_type": "code",
   "execution_count": 3,
   "id": "cc3851fa-178a-4ca1-be7c-ed0dc8c24168",
   "metadata": {},
   "outputs": [
    {
     "name": "stdout",
     "output_type": "stream",
     "text": [
      "Name: \n",
      "Type: Graph\n",
      "Number of nodes: 1295\n",
      "Number of edges: 18321\n",
      "Average degree:  28.2950\n"
     ]
    }
   ],
   "source": [
    "print(nx.info(G))"
   ]
  },
  {
   "cell_type": "code",
   "execution_count": 4,
   "id": "2dc54106-8951-4391-b41b-970d2e6e21b1",
   "metadata": {},
   "outputs": [
    {
     "data": {
      "text/html": [
       "<div>\n",
       "<style scoped>\n",
       "    .dataframe tbody tr th:only-of-type {\n",
       "        vertical-align: middle;\n",
       "    }\n",
       "\n",
       "    .dataframe tbody tr th {\n",
       "        vertical-align: top;\n",
       "    }\n",
       "\n",
       "    .dataframe thead th {\n",
       "        text-align: right;\n",
       "    }\n",
       "</style>\n",
       "<table border=\"1\" class=\"dataframe\">\n",
       "  <thead>\n",
       "    <tr style=\"text-align: right;\">\n",
       "      <th></th>\n",
       "      <th>Node 1</th>\n",
       "      <th>Node 2</th>\n",
       "    </tr>\n",
       "  </thead>\n",
       "  <tbody>\n",
       "    <tr>\n",
       "      <th>0</th>\n",
       "      <td>2</td>\n",
       "      <td>116</td>\n",
       "    </tr>\n",
       "    <tr>\n",
       "      <th>1</th>\n",
       "      <td>2</td>\n",
       "      <td>226</td>\n",
       "    </tr>\n",
       "    <tr>\n",
       "      <th>2</th>\n",
       "      <td>2</td>\n",
       "      <td>326</td>\n",
       "    </tr>\n",
       "    <tr>\n",
       "      <th>3</th>\n",
       "      <td>3</td>\n",
       "      <td>25</td>\n",
       "    </tr>\n",
       "    <tr>\n",
       "      <th>4</th>\n",
       "      <td>3</td>\n",
       "      <td>67</td>\n",
       "    </tr>\n",
       "  </tbody>\n",
       "</table>\n",
       "</div>"
      ],
      "text/plain": [
       "   Node 1  Node 2\n",
       "0       2     116\n",
       "1       2     226\n",
       "2       2     326\n",
       "3       3      25\n",
       "4       3      67"
      ]
     },
     "execution_count": 4,
     "metadata": {},
     "output_type": "execute_result"
    }
   ],
   "source": [
    "fb.head()"
   ]
  },
  {
   "cell_type": "code",
   "execution_count": 5,
   "id": "0cfde4a5-98f2-4445-ac2f-19db85f6aef2",
   "metadata": {},
   "outputs": [
    {
     "name": "stdout",
     "output_type": "stream",
     "text": [
      "(1295, 1295)\n",
      "\n"
     ]
    },
    {
     "data": {
      "text/plain": [
       "matrix([[0., 0., 0., ..., 0., 0., 0.],\n",
       "        [0., 0., 0., ..., 0., 0., 0.],\n",
       "        [0., 0., 0., ..., 0., 0., 0.],\n",
       "        ...,\n",
       "        [0., 0., 0., ..., 0., 0., 0.],\n",
       "        [0., 0., 0., ..., 0., 0., 0.],\n",
       "        [0., 0., 0., ..., 0., 0., 0.]])"
      ]
     },
     "execution_count": 5,
     "metadata": {},
     "output_type": "execute_result"
    }
   ],
   "source": [
    "# create adj matrix\n",
    "# get a list of nodes in our graph\n",
    "l = list(G.nodes())\n",
    " \n",
    "# create adjacency matrix\n",
    "adj_G = nx.to_numpy_matrix(G, nodelist = l)\n",
    " \n",
    "print(str(adj_G.shape)+'\\n')\n",
    "adj_G"
   ]
  },
  {
   "cell_type": "code",
   "execution_count": 6,
   "id": "f5d43c38-93fb-4121-a96a-d9c3232c890c",
   "metadata": {},
   "outputs": [
    {
     "name": "stderr",
     "output_type": "stream",
     "text": [
      "100%|██████████| 1295/1295 [00:00<00:00, 1768.19it/s]\n"
     ]
    }
   ],
   "source": [
    "# find disconnected nodes\n",
    "# get all node pairs which don't have an edge\n",
    "non_existing_edges = []\n",
    " \n",
    "# traverse adjacency matrix\n",
    "offset = 0\n",
    "for i in tqdm(range(adj_G.shape[0])):\n",
    "    for j in range(offset,adj_G.shape[1]):\n",
    "        if i != j:\n",
    "            if adj_G[i,j] == 0:\n",
    "                non_existing_edges.extend([(l[i],l[j])])\n",
    " \n",
    "    offset = offset + 1"
   ]
  },
  {
   "cell_type": "code",
   "execution_count": 7,
   "id": "5318970e-4c27-472c-b8a5-9800cdbccc37",
   "metadata": {},
   "outputs": [
    {
     "data": {
      "text/plain": [
       "819544"
      ]
     },
     "execution_count": 7,
     "metadata": {},
     "output_type": "execute_result"
    }
   ],
   "source": [
    "len(non_existing_edges)"
   ]
  },
  {
   "cell_type": "code",
   "execution_count": 8,
   "id": "2ada536e-d3a5-4b25-abd5-694455bbe625",
   "metadata": {},
   "outputs": [],
   "source": [
    "# get subset of isloated nodes \n",
    "nodes_4000 = sorted(random.sample(non_existing_edges, k=40000))"
   ]
  },
  {
   "cell_type": "code",
   "execution_count": 9,
   "id": "f10068af-7b0e-4d5d-9940-fd5960a4e8c8",
   "metadata": {},
   "outputs": [
    {
     "name": "stderr",
     "output_type": "stream",
     "text": [
      "100%|██████████| 40000/40000 [00:18<00:00, 2191.46it/s]\n"
     ]
    }
   ],
   "source": [
    "# Finding Connected Nodes\n",
    "non_existing_edges = [(i[0],i[1]) for i in tqdm(nodes_4000) if nx.has_path(G, i[0], i[1])]"
   ]
  },
  {
   "cell_type": "code",
   "execution_count": 10,
   "id": "0153be57-c45e-4bf3-b85d-76b180a8f560",
   "metadata": {},
   "outputs": [
    {
     "data": {
      "text/plain": [
       "[(2, 29), (2, 45), (2, 55), (2, 65), (2, 101)]"
      ]
     },
     "execution_count": 10,
     "metadata": {},
     "output_type": "execute_result"
    }
   ],
   "source": [
    "non_existing_edges[:5]"
   ]
  },
  {
   "cell_type": "code",
   "execution_count": 11,
   "id": "294fa8c6-7d14-4325-8d33-1c071b186364",
   "metadata": {},
   "outputs": [
    {
     "data": {
      "text/html": [
       "<div>\n",
       "<style scoped>\n",
       "    .dataframe tbody tr th:only-of-type {\n",
       "        vertical-align: middle;\n",
       "    }\n",
       "\n",
       "    .dataframe tbody tr th {\n",
       "        vertical-align: top;\n",
       "    }\n",
       "\n",
       "    .dataframe thead th {\n",
       "        text-align: right;\n",
       "    }\n",
       "</style>\n",
       "<table border=\"1\" class=\"dataframe\">\n",
       "  <thead>\n",
       "    <tr style=\"text-align: right;\">\n",
       "      <th></th>\n",
       "      <th>Node 1</th>\n",
       "      <th>Node 2</th>\n",
       "      <th>Connection</th>\n",
       "    </tr>\n",
       "  </thead>\n",
       "  <tbody>\n",
       "    <tr>\n",
       "      <th>0</th>\n",
       "      <td>2</td>\n",
       "      <td>29</td>\n",
       "      <td>0</td>\n",
       "    </tr>\n",
       "    <tr>\n",
       "      <th>1</th>\n",
       "      <td>2</td>\n",
       "      <td>45</td>\n",
       "      <td>0</td>\n",
       "    </tr>\n",
       "    <tr>\n",
       "      <th>2</th>\n",
       "      <td>2</td>\n",
       "      <td>55</td>\n",
       "      <td>0</td>\n",
       "    </tr>\n",
       "    <tr>\n",
       "      <th>3</th>\n",
       "      <td>2</td>\n",
       "      <td>65</td>\n",
       "      <td>0</td>\n",
       "    </tr>\n",
       "    <tr>\n",
       "      <th>4</th>\n",
       "      <td>2</td>\n",
       "      <td>101</td>\n",
       "      <td>0</td>\n",
       "    </tr>\n",
       "  </tbody>\n",
       "</table>\n",
       "</div>"
      ],
      "text/plain": [
       "   Node 1  Node 2  Connection\n",
       "0       2      29           0\n",
       "1       2      45           0\n",
       "2       2      55           0\n",
       "3       2      65           0\n",
       "4       2     101           0"
      ]
     },
     "execution_count": 11,
     "metadata": {},
     "output_type": "execute_result"
    }
   ],
   "source": [
    "# create df of non existing edges\n",
    "df1 = pd.DataFrame(data = non_existing_edges, columns =['Node 1', 'Node 2'])\n",
    " \n",
    "# create a column 'Connection' with default 0 (no-connection)\n",
    "df1['Connection'] = 0\n",
    " \n",
    "df1.head()"
   ]
  },
  {
   "cell_type": "code",
   "execution_count": 12,
   "id": "0af66c5c-0ca4-4610-be76-d69c45f7a9b7",
   "metadata": {},
   "outputs": [
    {
     "name": "stderr",
     "output_type": "stream",
     "text": [
      "100%|██████████| 18321/18321 [03:53<00:00, 78.32it/s]  \n"
     ]
    }
   ],
   "source": [
    "# get removable edges\n",
    "# Create a list of all indices of the node pairs in the fb dataframe,\n",
    "# which when removed won’t change the structure of our graph\n",
    " \n",
    "# create a copy\n",
    "fb_temp = fb.copy()\n",
    " \n",
    "# for storing removable edges\n",
    "removable_edges_indices = []\n",
    " \n",
    "# number of connected components and nodes of G\n",
    "ncc = nx.number_connected_components(G)\n",
    "number_of_nodes = len(G.nodes)\n",
    " \n",
    "# for each node pair we will be removing a node pair and creating a new graph,\n",
    "# and check if the number of connected components and the number of nodes\n",
    "# are the same as the original graph\n",
    "for i in tqdm(fb.index.values):\n",
    "  \n",
    "    # remove a node pair and build a new graph\n",
    "    G1 = nx.from_pandas_edgelist(\n",
    "        fb_temp.drop(index= i), \"Node 1\", \"Node 2\", create_using=nx.Graph()\n",
    "    )\n",
    "  \n",
    "    # If the number of connected components remain same as the original\n",
    "    # graph we won't remove the edge\n",
    "    if (nx.number_connected_components(G1) == ncc) and (len(G1.nodes) == number_of_nodes):\n",
    "        removable_edges_indices.append(i)\n",
    " \n",
    "    # drop the edge, so that for the next iteration the next G1\n",
    "    # is created without this edge\n",
    "    fb_temp = fb_temp.drop(index = i)"
   ]
  },
  {
   "cell_type": "code",
   "execution_count": 13,
   "id": "439b4456-3773-4940-8635-e7992f839fb1",
   "metadata": {},
   "outputs": [
    {
     "data": {
      "text/plain": [
       "[0, 1]"
      ]
     },
     "execution_count": 13,
     "metadata": {},
     "output_type": "execute_result"
    }
   ],
   "source": [
    "removable_edges_indices[:5]"
   ]
  },
  {
   "cell_type": "code",
   "execution_count": 14,
   "id": "555884bd-f326-445c-b097-08478b7ca332",
   "metadata": {},
   "outputs": [
    {
     "data": {
      "text/html": [
       "<div>\n",
       "<style scoped>\n",
       "    .dataframe tbody tr th:only-of-type {\n",
       "        vertical-align: middle;\n",
       "    }\n",
       "\n",
       "    .dataframe tbody tr th {\n",
       "        vertical-align: top;\n",
       "    }\n",
       "\n",
       "    .dataframe thead th {\n",
       "        text-align: right;\n",
       "    }\n",
       "</style>\n",
       "<table border=\"1\" class=\"dataframe\">\n",
       "  <thead>\n",
       "    <tr style=\"text-align: right;\">\n",
       "      <th></th>\n",
       "      <th>Node 1</th>\n",
       "      <th>Node 2</th>\n",
       "      <th>Connection</th>\n",
       "    </tr>\n",
       "  </thead>\n",
       "  <tbody>\n",
       "    <tr>\n",
       "      <th>0</th>\n",
       "      <td>2</td>\n",
       "      <td>116</td>\n",
       "      <td>1</td>\n",
       "    </tr>\n",
       "    <tr>\n",
       "      <th>1</th>\n",
       "      <td>2</td>\n",
       "      <td>226</td>\n",
       "      <td>1</td>\n",
       "    </tr>\n",
       "  </tbody>\n",
       "</table>\n",
       "</div>"
      ],
      "text/plain": [
       "   Node 1  Node 2  Connection\n",
       "0       2     116           1\n",
       "1       2     226           1"
      ]
     },
     "execution_count": 14,
     "metadata": {},
     "output_type": "execute_result"
    }
   ],
   "source": [
    "# Creating Dataframe of Removable Edges\n",
    "# get node pairs in fb dataframe with indices in removable_edges_indices\n",
    "df2 = fb.loc[removable_edges_indices]\n",
    " \n",
    "# create a column 'Connection' and assign default value of 1 (connected nodes)\n",
    "df2['Connection'] = 1\n",
    " \n",
    "df2.head()"
   ]
  },
  {
   "cell_type": "code",
   "execution_count": 15,
   "id": "251b9984-f1e1-4dee-89ac-7bd6f84681cc",
   "metadata": {},
   "outputs": [],
   "source": [
    "# Creating Subgraph\n",
    "df1 = df1.append(df2[['Node 1', 'Node 2', 'Connection']], ignore_index=True)"
   ]
  },
  {
   "cell_type": "code",
   "execution_count": 16,
   "id": "38e52402-3bb7-4736-aecd-6476f124c550",
   "metadata": {},
   "outputs": [
    {
     "data": {
      "text/html": [
       "<div>\n",
       "<style scoped>\n",
       "    .dataframe tbody tr th:only-of-type {\n",
       "        vertical-align: middle;\n",
       "    }\n",
       "\n",
       "    .dataframe tbody tr th {\n",
       "        vertical-align: top;\n",
       "    }\n",
       "\n",
       "    .dataframe thead th {\n",
       "        text-align: right;\n",
       "    }\n",
       "</style>\n",
       "<table border=\"1\" class=\"dataframe\">\n",
       "  <thead>\n",
       "    <tr style=\"text-align: right;\">\n",
       "      <th></th>\n",
       "      <th>Node 1</th>\n",
       "      <th>Node 2</th>\n",
       "      <th>Connection</th>\n",
       "    </tr>\n",
       "  </thead>\n",
       "  <tbody>\n",
       "    <tr>\n",
       "      <th>0</th>\n",
       "      <td>2</td>\n",
       "      <td>29</td>\n",
       "      <td>0</td>\n",
       "    </tr>\n",
       "    <tr>\n",
       "      <th>1</th>\n",
       "      <td>2</td>\n",
       "      <td>45</td>\n",
       "      <td>0</td>\n",
       "    </tr>\n",
       "    <tr>\n",
       "      <th>2</th>\n",
       "      <td>2</td>\n",
       "      <td>55</td>\n",
       "      <td>0</td>\n",
       "    </tr>\n",
       "    <tr>\n",
       "      <th>3</th>\n",
       "      <td>2</td>\n",
       "      <td>65</td>\n",
       "      <td>0</td>\n",
       "    </tr>\n",
       "    <tr>\n",
       "      <th>4</th>\n",
       "      <td>2</td>\n",
       "      <td>101</td>\n",
       "      <td>0</td>\n",
       "    </tr>\n",
       "  </tbody>\n",
       "</table>\n",
       "</div>"
      ],
      "text/plain": [
       "   Node 1  Node 2  Connection\n",
       "0       2      29           0\n",
       "1       2      45           0\n",
       "2       2      55           0\n",
       "3       2      65           0\n",
       "4       2     101           0"
      ]
     },
     "execution_count": 16,
     "metadata": {},
     "output_type": "execute_result"
    }
   ],
   "source": [
    "df1.head()"
   ]
  },
  {
   "cell_type": "code",
   "execution_count": 17,
   "id": "de0ef696-f576-4b3c-8195-3514bef55b18",
   "metadata": {},
   "outputs": [],
   "source": [
    "df3 = fb.drop(index=df2.index.values)\n"
   ]
  },
  {
   "cell_type": "code",
   "execution_count": 18,
   "id": "18de0683-fb5e-4150-9df6-74273aa5a6cd",
   "metadata": {},
   "outputs": [
    {
     "data": {
      "text/html": [
       "<div>\n",
       "<style scoped>\n",
       "    .dataframe tbody tr th:only-of-type {\n",
       "        vertical-align: middle;\n",
       "    }\n",
       "\n",
       "    .dataframe tbody tr th {\n",
       "        vertical-align: top;\n",
       "    }\n",
       "\n",
       "    .dataframe thead th {\n",
       "        text-align: right;\n",
       "    }\n",
       "</style>\n",
       "<table border=\"1\" class=\"dataframe\">\n",
       "  <thead>\n",
       "    <tr style=\"text-align: right;\">\n",
       "      <th></th>\n",
       "      <th>Node 1</th>\n",
       "      <th>Node 2</th>\n",
       "    </tr>\n",
       "  </thead>\n",
       "  <tbody>\n",
       "    <tr>\n",
       "      <th>2</th>\n",
       "      <td>2</td>\n",
       "      <td>326</td>\n",
       "    </tr>\n",
       "    <tr>\n",
       "      <th>3</th>\n",
       "      <td>3</td>\n",
       "      <td>25</td>\n",
       "    </tr>\n",
       "    <tr>\n",
       "      <th>4</th>\n",
       "      <td>3</td>\n",
       "      <td>67</td>\n",
       "    </tr>\n",
       "    <tr>\n",
       "      <th>5</th>\n",
       "      <td>3</td>\n",
       "      <td>142</td>\n",
       "    </tr>\n",
       "    <tr>\n",
       "      <th>6</th>\n",
       "      <td>3</td>\n",
       "      <td>170</td>\n",
       "    </tr>\n",
       "  </tbody>\n",
       "</table>\n",
       "</div>"
      ],
      "text/plain": [
       "   Node 1  Node 2\n",
       "2       2     326\n",
       "3       3      25\n",
       "4       3      67\n",
       "5       3     142\n",
       "6       3     170"
      ]
     },
     "execution_count": 18,
     "metadata": {},
     "output_type": "execute_result"
    }
   ],
   "source": [
    "df3.head()\n"
   ]
  },
  {
   "cell_type": "code",
   "execution_count": 19,
   "id": "ea561945-7b12-4303-9a10-6fb3b3ba16a7",
   "metadata": {},
   "outputs": [
    {
     "name": "stdout",
     "output_type": "stream",
     "text": [
      "Name: \n",
      "Type: Graph\n",
      "Number of nodes: 1295\n",
      "Number of edges: 18319\n",
      "Average degree:  28.2919\n"
     ]
    }
   ],
   "source": [
    "G_new = nx.from_pandas_edgelist(df3, \"Node 1\", \"Node 2\", create_using=nx.Graph())\n",
    "\n",
    "print(nx.info(G_new))"
   ]
  },
  {
   "cell_type": "markdown",
   "id": "212fe9be-8fc4-45f8-9d0a-3802e911ce2d",
   "metadata": {},
   "source": [
    "## Apply Node2Vec"
   ]
  },
  {
   "cell_type": "code",
   "execution_count": 20,
   "id": "826ec9fd-3edd-4755-829a-28d4684a68f3",
   "metadata": {},
   "outputs": [
    {
     "data": {
      "application/vnd.jupyter.widget-view+json": {
       "model_id": "2fedfb03f94e485fa81b4b7e5deaf1fa",
       "version_major": 2,
       "version_minor": 0
      },
      "text/plain": [
       "Computing transition probabilities:   0%|          | 0/1295 [00:00<?, ?it/s]"
      ]
     },
     "metadata": {},
     "output_type": "display_data"
    },
    {
     "name": "stderr",
     "output_type": "stream",
     "text": [
      "Generating walks (CPU: 1): 100%|██████████| 50/50 [00:23<00:00,  2.14it/s]\n"
     ]
    }
   ],
   "source": [
    "from node2vec import Node2Vec\n",
    " \n",
    "# Generating walks\n",
    "node2vec = Node2Vec(G_new, dimensions=100, walk_length=16, num_walks=50)\n",
    " \n",
    "# training the node2vec model\n",
    "n2v_model = node2vec.fit(window=7, min_count=1)"
   ]
  },
  {
   "cell_type": "code",
   "execution_count": 21,
   "id": "a341b91b-45fc-457d-846d-d24fc4b440d4",
   "metadata": {},
   "outputs": [],
   "source": [
    "edge_features = [(n2v_model.wv[str(i)]+n2v_model.wv[str(j)]) for i,j in zip(df1['Node 1'], df1['Node 2'])]"
   ]
  },
  {
   "cell_type": "markdown",
   "id": "2cb07802-c8cb-437d-a4da-c4f2bdfa949b",
   "metadata": {},
   "source": [
    "## Modelling"
   ]
  },
  {
   "cell_type": "code",
   "execution_count": 22,
   "id": "18566628-a712-4d33-8aa6-7a9dbf709e27",
   "metadata": {},
   "outputs": [],
   "source": [
    "from sklearn.ensemble import RandomForestClassifier\n",
    "from sklearn.ensemble import GradientBoostingClassifier\n",
    "from sklearn.neural_network import MLPClassifier\n",
    "from sklearn.model_selection import train_test_split\n",
    "from sklearn.model_selection import GridSearchCV\n",
    "from sklearn.metrics import accuracy_score, precision_score, recall_score\n",
    "from sklearn.metrics import f1_score, auc, roc_curve, roc_auc_score,confusion_matrix\n"
   ]
  },
  {
   "cell_type": "code",
   "execution_count": 23,
   "id": "d57ab0d2-74d3-406e-8a48-ce550f69c1ea",
   "metadata": {},
   "outputs": [],
   "source": [
    "# creating dataset\n",
    "X = np.array(edge_features)  \n",
    "y = df1['Connection']"
   ]
  },
  {
   "cell_type": "code",
   "execution_count": 24,
   "id": "e12a817b-89e4-4e72-9c0f-6f2fdce216e9",
   "metadata": {},
   "outputs": [],
   "source": [
    "# train test split\n",
    "X_train, X_test, y_train, y_test = train_test_split(X, y, random_state = 0)"
   ]
  },
  {
   "cell_type": "markdown",
   "id": "288fcc85-9a4b-44e2-85cc-c63a880c7d06",
   "metadata": {},
   "source": [
    "## Grid Search CV"
   ]
  },
  {
   "cell_type": "markdown",
   "id": "b71db8d8-df5a-4a50-839b-898c39f31ce3",
   "metadata": {},
   "source": [
    "### Random Forest"
   ]
  },
  {
   "cell_type": "code",
   "execution_count": 25,
   "id": "cc790977-759a-47d2-9def-2f6013dc6ac6",
   "metadata": {},
   "outputs": [
    {
     "name": "stdout",
     "output_type": "stream",
     "text": [
      "Grid best parameter (max. accuracy):  {'max_depth': 5, 'n_estimators': 10}\n",
      "Grid best score (accuracy):  0.9999601434834595\n",
      "Test set AUC:  1.0\n",
      "Grid best parameter (max. AUC):  {'max_depth': 5, 'n_estimators': 10}\n",
      "Grid best score (AUC):  nan\n"
     ]
    }
   ],
   "source": [
    "#classifier\n",
    "clf1 = RandomForestClassifier()\n",
    " \n",
    "# parameters\n",
    "param = {'n_estimators' : [10,50,100], 'max_depth' : [5,10,15]}\n",
    " \n",
    "# model\n",
    "grid_clf_acc1 = GridSearchCV(clf1, param_grid = param)\n",
    " \n",
    "# train the model\n",
    "grid_clf_acc1.fit(X_train, y_train)\n",
    " \n",
    "print('Grid best parameter (max. accuracy): ', grid_clf_acc1.best_params_)\n",
    "print('Grid best score (accuracy): ', grid_clf_acc1.best_score_)\n",
    " \n",
    "# alternative metric to optimize over grid parameters: AUC\n",
    "grid_clf_auc1 = GridSearchCV(clf1, param_grid = param, scoring = 'roc_auc')\n",
    "grid_clf_auc1.fit(X_train, y_train)\n",
    "predict_proba = grid_clf_auc1.predict_proba(X_test)[:,1]\n",
    " \n",
    "print('Test set AUC: ', roc_auc_score(y_test, predict_proba))\n",
    "print('Grid best parameter (max. AUC): ', grid_clf_auc1.best_params_)\n",
    "print('Grid best score (AUC): ', grid_clf_auc1.best_score_)"
   ]
  },
  {
   "cell_type": "markdown",
   "id": "704c1a39-4706-4312-bbf7-1454aeb71dd0",
   "metadata": {},
   "source": [
    "### Gradient Boost"
   ]
  },
  {
   "cell_type": "code",
   "execution_count": 26,
   "id": "1e7ed2e7-00ec-4537-a5d5-79ad89c901a1",
   "metadata": {},
   "outputs": [
    {
     "name": "stdout",
     "output_type": "stream",
     "text": [
      "Grid best parameter (max. accuracy):  {'learning_rate': 0.05}\n",
      "Grid best score (accuracy):  nan\n",
      "Test set AUC:  1.0\n",
      "Grid best parameter (max. AUC):  {'learning_rate': 0.05}\n",
      "Grid best score (AUC):  nan\n"
     ]
    }
   ],
   "source": [
    "# classifier\n",
    "clf2 = GradientBoostingClassifier()\n",
    " \n",
    "# parameters\n",
    "param = {'learning_rate' : [.05,.1]}\n",
    " \n",
    "# model\n",
    "grid_clf_acc2 = GridSearchCV(clf2, param_grid = param)\n",
    " \n",
    "# train the model\n",
    "grid_clf_acc2.fit(X_train, y_train)\n",
    " \n",
    "print('Grid best parameter (max. accuracy): ', grid_clf_acc2.best_params_)\n",
    "print('Grid best score (accuracy): ', grid_clf_acc2.best_score_)\n",
    " \n",
    "# alternative metric to optimize over grid parameters: AUC\n",
    "grid_clf_auc2 = GridSearchCV(clf2, param_grid = param, scoring = 'roc_auc')\n",
    "grid_clf_auc2.fit(X_train, y_train)\n",
    "predict_proba = grid_clf_auc2.predict_proba(X_test)[:,1]\n",
    " \n",
    "print('Test set AUC: ', roc_auc_score(y_test, predict_proba))\n",
    "print('Grid best parameter (max. AUC): ', grid_clf_auc2.best_params_)\n",
    "print('Grid best score (AUC): ', grid_clf_auc2.best_score_)"
   ]
  },
  {
   "cell_type": "markdown",
   "id": "03e05e33-0dc1-4935-a8e0-1a449896a90b",
   "metadata": {},
   "source": [
    "### MLP Classifier (A Neural Network Classifier)"
   ]
  },
  {
   "cell_type": "code",
   "execution_count": 27,
   "id": "2605c0a7-7db2-4100-a6e1-c799638b353d",
   "metadata": {},
   "outputs": [
    {
     "name": "stdout",
     "output_type": "stream",
     "text": [
      "Grid best parameter (max. accuracy):  {'activation': 'tanh', 'hidden_layer_sizes': 10, 'solver': 'adam'}\n",
      "Grid best score (accuracy):  0.9999601434834595\n",
      "Test set AUC:  0.014591556033967223\n",
      "Grid best parameter (max. AUC):  {'activation': 'tanh', 'hidden_layer_sizes': 10, 'solver': 'adam'}\n",
      "Grid best score (AUC):  nan\n"
     ]
    }
   ],
   "source": [
    "# classifier\n",
    "clf3 = MLPClassifier(max_iter=1000)\n",
    " \n",
    "# scaling training and test sets\n",
    "from sklearn.preprocessing import MinMaxScaler\n",
    "scaler = MinMaxScaler()\n",
    "X_train_scaled = scaler.fit_transform(X_train)\n",
    "X_test_scaled = scaler.transform(X_test)\n",
    " \n",
    "# parameters\n",
    "param = {'hidden_layer_sizes' : [10,100,[10,10]], 'activation' : ['tanh','relu'], 'solver' : ['adam','lbfgs']}\n",
    " \n",
    "# model\n",
    "grid_clf_acc3 = GridSearchCV(clf3, param_grid = param)\n",
    " \n",
    "# train the model\n",
    "grid_clf_acc3.fit(X_train_scaled, y_train)\n",
    " \n",
    "print('Grid best parameter (max. accuracy): ', grid_clf_acc3.best_params_)\n",
    "print('Grid best score (accuracy): ', grid_clf_acc3.best_score_)\n",
    " \n",
    "# alternative metric to optimize over grid parameters: AUC\n",
    "grid_clf_auc3 = GridSearchCV(clf3, param_grid = param, scoring = 'roc_auc')\n",
    "grid_clf_auc3.fit(X_train_scaled, y_train)\n",
    "predict_proba = grid_clf_auc3.predict_proba(X_test_scaled)[:,1]\n",
    " \n",
    "print('Test set AUC: ', roc_auc_score(y_test, predict_proba))\n",
    "print('Grid best parameter (max. AUC): ', grid_clf_auc3.best_params_)\n",
    "print('Grid best score (AUC): ', grid_clf_auc3.best_score_)"
   ]
  },
  {
   "cell_type": "code",
   "execution_count": 28,
   "id": "388894dc-5029-4d61-9e2d-210be8fff230",
   "metadata": {},
   "outputs": [
    {
     "data": {
      "text/plain": [
       "array([0, 0, 0, 0, 0])"
      ]
     },
     "execution_count": 28,
     "metadata": {},
     "output_type": "execute_result"
    }
   ],
   "source": [
    "# Inference\n",
    "pred = grid_clf_auc3.predict(X_test_scaled)\n",
    "pred[:5]\n"
   ]
  },
  {
   "cell_type": "code",
   "execution_count": 29,
   "id": "696ae01e-9855-455d-9a4f-ef8e1c1beabc",
   "metadata": {},
   "outputs": [
    {
     "data": {
      "text/plain": [
       "0.9998804113848362"
      ]
     },
     "execution_count": 29,
     "metadata": {},
     "output_type": "execute_result"
    }
   ],
   "source": [
    "# Accuracy Score\n",
    "accuracy_score(pred,y_test)"
   ]
  },
  {
   "cell_type": "code",
   "execution_count": 30,
   "id": "ddbf210d-195d-489f-a18e-eda1b7eaefd1",
   "metadata": {},
   "outputs": [
    {
     "data": {
      "text/plain": [
       "array([[8361,    1],\n",
       "       [   0,    0]])"
      ]
     },
     "execution_count": 30,
     "metadata": {},
     "output_type": "execute_result"
    }
   ],
   "source": [
    "# Confusion Matrix\n",
    "confusion_matrix(pred,y_test)\n"
   ]
  },
  {
   "cell_type": "code",
   "execution_count": 31,
   "id": "dbe3f409-fd32-4816-89c5-241f9c56195c",
   "metadata": {},
   "outputs": [],
   "source": [
    "# The ROC_AUC Score and ROC Curve\n",
    "predict_proba = grid_clf_auc3.predict_proba(X_test_scaled)[:,1]\n",
    " \n",
    "false_positive_rate,true_positive_rate,_ = roc_curve(y_test, predict_proba)\n",
    "roc_auc_score = auc(false_positive_rate,true_positive_rate)"
   ]
  },
  {
   "cell_type": "code",
   "execution_count": 32,
   "id": "e74e6bb4-e881-4086-8fde-aa2d9c1b211f",
   "metadata": {},
   "outputs": [
    {
     "data": {
      "text/plain": [
       "Text(0, 0.5, 'True Positive Rate')"
      ]
     },
     "execution_count": 32,
     "metadata": {},
     "output_type": "execute_result"
    },
    {
     "data": {
      "image/png": "[encoded data removed]",
      "text/plain": [
       "<Figure size 432x288 with 1 Axes>"
      ]
     },
     "metadata": {
      "needs_background": "light"
     },
     "output_type": "display_data"
    }
   ],
   "source": [
    "plt.plot(false_positive_rate,true_positive_rate)\n",
    "plt.title(f'ROC Curve \\n ROC AUC Score : {roc_auc_score}')\n",
    "plt.xlabel('False Positive Rate')\n",
    "plt.ylabel('True Positive Rate')"
   ]
  },
  {
   "cell_type": "markdown",
   "id": "f866c8b8-9a11-4eba-a609-4517c468e86d",
   "metadata": {},
   "source": [
    "## Demonstration"
   ]
  },
  {
   "cell_type": "code",
   "execution_count": 33,
   "id": "c807e4ff-375c-4c53-a5b2-a14e6d0c0015",
   "metadata": {},
   "outputs": [
    {
     "data": {
      "text/html": [
       "<div>\n",
       "<style scoped>\n",
       "    .dataframe tbody tr th:only-of-type {\n",
       "        vertical-align: middle;\n",
       "    }\n",
       "\n",
       "    .dataframe tbody tr th {\n",
       "        vertical-align: top;\n",
       "    }\n",
       "\n",
       "    .dataframe thead th {\n",
       "        text-align: right;\n",
       "    }\n",
       "</style>\n",
       "<table border=\"1\" class=\"dataframe\">\n",
       "  <thead>\n",
       "    <tr style=\"text-align: right;\">\n",
       "      <th></th>\n",
       "      <th>Node 1</th>\n",
       "      <th>Node 2</th>\n",
       "      <th>Connection</th>\n",
       "    </tr>\n",
       "  </thead>\n",
       "  <tbody>\n",
       "    <tr>\n",
       "      <th>0</th>\n",
       "      <td>2</td>\n",
       "      <td>29</td>\n",
       "      <td>0</td>\n",
       "    </tr>\n",
       "    <tr>\n",
       "      <th>1</th>\n",
       "      <td>2</td>\n",
       "      <td>45</td>\n",
       "      <td>0</td>\n",
       "    </tr>\n",
       "    <tr>\n",
       "      <th>2</th>\n",
       "      <td>2</td>\n",
       "      <td>55</td>\n",
       "      <td>0</td>\n",
       "    </tr>\n",
       "    <tr>\n",
       "      <th>3</th>\n",
       "      <td>2</td>\n",
       "      <td>65</td>\n",
       "      <td>0</td>\n",
       "    </tr>\n",
       "    <tr>\n",
       "      <th>4</th>\n",
       "      <td>2</td>\n",
       "      <td>101</td>\n",
       "      <td>0</td>\n",
       "    </tr>\n",
       "  </tbody>\n",
       "</table>\n",
       "</div>"
      ],
      "text/plain": [
       "   Node 1  Node 2  Connection\n",
       "0       2      29           0\n",
       "1       2      45           0\n",
       "2       2      55           0\n",
       "3       2      65           0\n",
       "4       2     101           0"
      ]
     },
     "execution_count": 33,
     "metadata": {},
     "output_type": "execute_result"
    }
   ],
   "source": [
    "df1.head()\n"
   ]
  },
  {
   "cell_type": "code",
   "execution_count": 34,
   "id": "af152144-1b7d-4ed9-bed4-3469238f2f57",
   "metadata": {},
   "outputs": [
    {
     "name": "stdout",
     "output_type": "stream",
     "text": [
      " (2,101) node pair features : [-0.7674666   1.3457725   1.0491103   0.27405986 -0.29816723 -0.8041369\n",
      " -0.04937111  0.5476244   0.44762075  1.2813972   0.27891624 -1.0355995\n",
      "  0.33194026  0.18202142 -0.46156418 -0.05700569  0.32990643 -1.1798482\n",
      " -0.476142    0.17035276  1.3334757   1.0028739   0.5485195   0.1650109\n",
      " -0.39757916  0.56784856 -1.6782901  -0.02200484 -0.52582633  0.02400509\n",
      "  0.7076404  -0.22959585  0.03609795  1.2384543  -1.2464812   0.2521426\n",
      " -0.5306414  -0.5780925   1.0171802  -0.6116117  -0.10433644 -0.71655536\n",
      "  0.05684356  0.15698346  0.4194678   0.25071633 -1.2348742   0.82659364\n",
      "  0.42952633 -0.7425573   0.8238494  -0.74748814  0.1782543   0.3376378\n",
      " -0.251293   -0.316595    0.55764306  0.01676691  0.20783888 -0.3224166\n",
      " -0.22592616 -0.16078565 -0.02986461  0.15137595 -1.8215892  -0.3426879\n",
      "  0.52364373  0.5141468  -0.43747967  0.4686327  -0.8638551  -0.69419456\n",
      "  0.2541243  -0.0606684   0.20838937  0.6177887  -1.1000614   0.9122839\n",
      "  0.0221095  -0.1008268  -1.0322394  -0.64547586 -0.7305167   1.6257863\n",
      "  0.80147153  1.0935366  -1.1602131   0.01912025  0.1090917   0.36303285\n",
      "  0.34464103  0.04461569  0.01168641 -0.9938717   1.1279197   1.415722\n",
      "  0.01770017 -0.30257922  1.0164505  -0.63731265]\n"
     ]
    },
    {
     "ename": "IndexError",
     "evalue": "index 1 is out of bounds for axis 0 with size 0",
     "output_type": "error",
     "traceback": [
      "\u001b[0;31m---------------------------------------------------------------------------\u001b[0m",
      "\u001b[0;31mIndexError\u001b[0m                                Traceback (most recent call last)",
      "\u001b[0;32m<ipython-input-34-47f01d21a465>\u001b[0m in \u001b[0;36m<module>\u001b[0;34m\u001b[0m\n\u001b[1;32m      2\u001b[0m \u001b[0;34m\u001b[0m\u001b[0m\n\u001b[1;32m      3\u001b[0m \u001b[0;31m# its position in X_train\u001b[0m\u001b[0;34m\u001b[0m\u001b[0;34m\u001b[0m\u001b[0;34m\u001b[0m\u001b[0m\n\u001b[0;32m----> 4\u001b[0;31m \u001b[0mprint\u001b[0m\u001b[0;34m(\u001b[0m\u001b[0;34mf'Index of ({df1.iloc[4,0]},{df1.iloc[4,1]}) node pair in X_train : {np.where(X_train == X[4])[0][1]}'\u001b[0m\u001b[0;34m)\u001b[0m\u001b[0;34m\u001b[0m\u001b[0;34m\u001b[0m\u001b[0m\n\u001b[0m",
      "\u001b[0;31mIndexError\u001b[0m: index 1 is out of bounds for axis 0 with size 0"
     ]
    }
   ],
   "source": [
    "print(f' ({df1.iloc[4,0]},{df1.iloc[4,1]}) node pair features : {X[4]}')\n",
    "\n",
    "# its position in X_train\n",
    "print(f'Index of ({df1.iloc[4,0]},{df1.iloc[4,1]}) node pair in X_train : {np.where(X_train == X[4])[0][1]}')"
   ]
  },
  {
   "cell_type": "code",
   "execution_count": 35,
   "id": "1ffdef43-d560-4c99-a4db-10381510a1b7",
   "metadata": {},
   "outputs": [
    {
     "ename": "IndexError",
     "evalue": "index 1 is out of bounds for axis 0 with size 0",
     "output_type": "error",
     "traceback": [
      "\u001b[0;31m---------------------------------------------------------------------------\u001b[0m",
      "\u001b[0;31mIndexError\u001b[0m                                Traceback (most recent call last)",
      "\u001b[0;32m<ipython-input-35-521d66b7b7dd>\u001b[0m in \u001b[0;36m<module>\u001b[0;34m\u001b[0m\n\u001b[0;32m----> 1\u001b[0;31m \u001b[0mpredict_proba\u001b[0m \u001b[0;34m=\u001b[0m \u001b[0mgrid_clf_auc3\u001b[0m\u001b[0;34m.\u001b[0m\u001b[0mpredict_proba\u001b[0m\u001b[0;34m(\u001b[0m\u001b[0mX_train_scaled\u001b[0m\u001b[0;34m[\u001b[0m\u001b[0mnp\u001b[0m\u001b[0;34m.\u001b[0m\u001b[0mwhere\u001b[0m\u001b[0;34m(\u001b[0m\u001b[0mX_train\u001b[0m \u001b[0;34m==\u001b[0m \u001b[0mX\u001b[0m\u001b[0;34m[\u001b[0m\u001b[0;36m4\u001b[0m\u001b[0;34m]\u001b[0m\u001b[0;34m)\u001b[0m\u001b[0;34m[\u001b[0m\u001b[0;36m0\u001b[0m\u001b[0;34m]\u001b[0m\u001b[0;34m[\u001b[0m\u001b[0;36m1\u001b[0m\u001b[0;34m]\u001b[0m\u001b[0;34m]\u001b[0m\u001b[0;34m.\u001b[0m\u001b[0mreshape\u001b[0m\u001b[0;34m(\u001b[0m\u001b[0;36m1\u001b[0m\u001b[0;34m,\u001b[0m\u001b[0;34m-\u001b[0m\u001b[0;36m1\u001b[0m\u001b[0;34m)\u001b[0m\u001b[0;34m)\u001b[0m\u001b[0;34m[\u001b[0m\u001b[0;34m:\u001b[0m\u001b[0;34m,\u001b[0m\u001b[0;36m1\u001b[0m\u001b[0;34m]\u001b[0m\u001b[0;34m\u001b[0m\u001b[0;34m\u001b[0m\u001b[0m\n\u001b[0m\u001b[1;32m      2\u001b[0m \u001b[0;34m\u001b[0m\u001b[0m\n\u001b[1;32m      3\u001b[0m \u001b[0mprint\u001b[0m\u001b[0;34m(\u001b[0m\u001b[0;34mf'Probability of nodes {df1.iloc[4,0]} and {df1.iloc[4,1]} to form a link is : {float(predict_proba)*100 : .2f}%'\u001b[0m\u001b[0;34m)\u001b[0m\u001b[0;34m\u001b[0m\u001b[0;34m\u001b[0m\u001b[0m\n",
      "\u001b[0;31mIndexError\u001b[0m: index 1 is out of bounds for axis 0 with size 0"
     ]
    }
   ],
   "source": [
    "predict_proba = grid_clf_auc3.predict_proba(X_train_scaled[np.where(X_train == X[4])[0][1]].reshape(1,-1))[:,1]\n",
    " \n",
    "print(f'Probability of nodes {df1.iloc[4,0]} and {df1.iloc[4,1]} to form a link is : {float(predict_proba)*100 : .2f}%')"
   ]
  },
  {
   "cell_type": "code",
   "execution_count": null,
   "id": "853ac599-3cde-4029-b61b-0d9347e85d09",
   "metadata": {},
   "outputs": [],
   "source": []
  },
  {
   "cell_type": "code",
   "execution_count": null,
   "id": "c91ce34f-caf2-45cc-b29a-30b022030274",
   "metadata": {},
   "outputs": [],
   "source": []
  }
 ],
 "metadata": {
  "kernelspec": {
   "display_name": "Python 3",
   "language": "python",
   "name": "python3"
  },
  "language_info": {
   "codemirror_mode": {
    "name": "ipython",
    "version": 3
   },
   "file_extension": ".py",
   "mimetype": "text/x-python",
   "name": "python",
   "nbconvert_exporter": "python",
   "pygments_lexer": "ipython3",
   "version": "3.8.8"
  }
 },
 "nbformat": 4,
 "nbformat_minor": 5
}
