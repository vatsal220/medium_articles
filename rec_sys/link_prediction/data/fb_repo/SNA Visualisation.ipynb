{
  "nbformat": 4,
  "nbformat_minor": 0,
  "metadata": {
    "colab": {
      "name": "Production Pre-final - SNA_Project Part 1 - Final Visualisation.ipynb",
      "provenance": [],
      "collapsed_sections": []
    },
    "kernelspec": {
      "name": "python3",
      "display_name": "Python 3"
    },
    "accelerator": "GPU"
  },
  "cells": [
    {
      "cell_type": "markdown",
      "metadata": {
        "id": "40CfQXcTgsKw"
      },
      "source": [
        "# **An In-depth Guide to Social Network Analysis**"
      ]
    },
    {
      "cell_type": "markdown",
      "metadata": {
        "id": "2NU2ZeUyz77s"
      },
      "source": [
        "Copyright @ 2020 **ABCOM Information Systems Pvt. Ltd.** All Rights Reserved.\n",
        "\n",
        "Licensed under the Apache License, Version 2.0 (the \"License\"); you may not use this file except in compliance with the License. You may obtain a copy of the License at\n",
        "\n",
        "http://www.apache.org/licenses/LICENSE-2.0\n",
        "\n",
        "Unless required by applicable law or agreed to in writing, software distributed under the License is distributed on an \"AS IS\" BASIS, WITHOUT WARRANTIES OR CONDITIONS OF ANY KIND, either express or implied.\n",
        "\n",
        "See the License for the specific language governing permissions and limitations under the License."
      ]
    },
    {
      "cell_type": "code",
      "metadata": {
        "id": "m-n-VvSaWVaG"
      },
      "source": [
        "import random\n",
        "from tqdm import tqdm\n",
        "import networkx as nx\n",
        "import pandas as pd\n",
        "import numpy as np\n",
        "import matplotlib.pyplot as plt\n",
        "import seaborn as sns\n",
        "%matplotlib inline\n",
        "\n",
        "from zipfile import ZipFile"
      ],
      "execution_count": null,
      "outputs": []
    },
    {
      "cell_type": "markdown",
      "metadata": {
        "id": "sAqI1Ll3IFds"
      },
      "source": [
        "# Loading data"
      ]
    },
    {
      "cell_type": "code",
      "metadata": {
        "id": "AoXSXPBNILiH"
      },
      "source": [
        "!wget https://github.com/abcom-mltutorials/Facebook-Social-Network-Analysis/archive/master.zip -P \"/content\"\n",
        "ZipFile(\"/content/master.zip\").extractall(\"/content/\")"
      ],
      "execution_count": null,
      "outputs": []
    },
    {
      "cell_type": "markdown",
      "metadata": {
        "id": "5sj_qJTgg04-"
      },
      "source": [
        "# Creating dataframe from 'fb_combined.txt'"
      ]
    },
    {
      "cell_type": "code",
      "metadata": {
        "id": "HCmxhShaLbQn"
      },
      "source": [
        "#this file contains information of all the existing edges\n",
        "fb = pd.read_csv('/content/Facebook-Social-Network-Analysis-master/facebook_combined.txt', delim_whitespace=True, names=['Source', 'Destination'])\n",
        "fb"
      ],
      "execution_count": null,
      "outputs": []
    },
    {
      "cell_type": "markdown",
      "metadata": {
        "id": "S8I1MJKk78Wa"
      },
      "source": [
        "# Features extraction\n",
        "\n",
        "The feature names are stored in the files with extension '.featnames'. For example '0.featnames', '107.featnames' and so on."
      ]
    },
    {
      "cell_type": "code",
      "metadata": {
        "id": "nevPCBEV79Ay"
      },
      "source": [
        "#contents of one such file, namely '0.featnames'\n",
        "with open('/content/Facebook-Social-Network-Analysis-master/facebook/0.featnames', 'r') as f:\n",
        "        feature_names = f.readlines()\n",
        "feature_names_df = pd.read_csv('/content/Facebook-Social-Network-Analysis-master/facebook/0.featnames', names=['Feature Names'])\n",
        "# format of the values in the file : \n",
        "# 'feature number' + ' ' + 'feature name' + ';' + 'feature type'\n",
        "# feature type always starts with 'anonymized feature' \n",
        "feature_names_df"
      ],
      "execution_count": null,
      "outputs": []
    },
    {
      "cell_type": "code",
      "metadata": {
        "id": "QI9Qp9HMhaZp"
      },
      "source": [
        "# printing list of unique features in the '0.featnames'\n",
        "unique_features = []\n",
        "\n",
        "for i in range(len(feature_names)):\n",
        "  feature_names[i] = feature_names[i].split(' ', 1)[1]\n",
        "  feature_names[i] = feature_names[i].rsplit(';' , 1)[0]\n",
        "  unique_features.append(feature_names[i])\n",
        "\n",
        "list(set(unique_features))"
      ],
      "execution_count": null,
      "outputs": []
    },
    {
      "cell_type": "markdown",
      "metadata": {
        "id": "XmCK5mcbLfJc"
      },
      "source": [
        "## Function for extracting feature names"
      ]
    },
    {
      "cell_type": "code",
      "metadata": {
        "id": "YgDhxfliL3i5"
      },
      "source": [
        "def ExtractFeatureNames(path):\n",
        "    with open(path, 'r') as f:\n",
        "        feature_names = f.readlines()\n",
        "\n",
        "    for i in range(len(feature_names)):\n",
        "        feature_names[i] = feature_names[i].split(' ', 1)[1]\n",
        "        feature_names[i] = feature_names[i].rsplit('\\n' , 1)[0]\n",
        "        feature_names[i] = feature_names[i].rsplit(';' , 1)\n",
        "        feature_names[i][1] = feature_names[i][1].rsplit(' ' , 1)[1]\n",
        "        \n",
        "    return feature_names"
      ],
      "execution_count": null,
      "outputs": []
    },
    {
      "cell_type": "markdown",
      "metadata": {
        "id": "hJ4AMBuxL7Hd"
      },
      "source": [
        "## Creating a consolidated list of features"
      ]
    },
    {
      "cell_type": "code",
      "metadata": {
        "id": "u15W5iMYyQaH"
      },
      "source": [
        "#storing all the numbers of different files in a list\n",
        "l = ['0','107','348','414','686','698','1684','1912','3437','3980']\n",
        "\n",
        "node_features = []\n",
        "\n",
        "# extracting features - 'location;id' and 'education;school;id'\n",
        "for i in l:\n",
        "    df = pd.read_csv('/content/Facebook-Social-Network-Analysis-master/facebook/'+i +'.feat', \n",
        "                     delim_whitespace=True, names=pd.MultiIndex.from_tuples(ExtractFeatureNames('/content/Facebook-Social-Network-Analysis-master/facebook/'+i +'.featnames'))).T\n",
        "    node_features.append(df.loc[['location;id','education;school;id']])"
      ],
      "execution_count": null,
      "outputs": []
    },
    {
      "cell_type": "markdown",
      "metadata": {
        "id": "JlW9RgE9MgSK"
      },
      "source": [
        "## Creating a nested dictionary of all the nodes along with its features (attributes)"
      ]
    },
    {
      "cell_type": "code",
      "metadata": {
        "id": "DCMwoIFqP5cA"
      },
      "source": [
        "node_attributes = {}\n",
        "for i in node_features:\n",
        "    a = {j : i[i[j] == 1][j].index.tolist()[:2] for j in i.columns if len(i[i[j] == 1][j].index.tolist())>1 and \n",
        "                                                                 i[i[j] == 1][j].index.tolist()[0][0] == 'location;id'}\n",
        "    node_attributes.update(a)\n",
        "\n",
        "#creating the nested dictionary\n",
        "for k,v in node_attributes.items():\n",
        "    node_attributes[k] = {i[0] : i[1] for i in node_attributes[k]}\n",
        "    \n",
        "#sorting the dictionary\n",
        "node_attributes = {i[0]: i[1] for i in sorted(node_attributes.items())}"
      ],
      "execution_count": null,
      "outputs": []
    },
    {
      "cell_type": "code",
      "metadata": {
        "id": "LdWbBfYvHkjv"
      },
      "source": [
        "list(node_attributes.items())[:10]"
      ],
      "execution_count": null,
      "outputs": []
    },
    {
      "cell_type": "markdown",
      "metadata": {
        "id": "a3ez6dSPP8a9"
      },
      "source": [
        "## Dropping unwanted nodes from fb dataframe"
      ]
    },
    {
      "cell_type": "code",
      "metadata": {
        "id": "WJrwYDc5RMfw"
      },
      "source": [
        "#dropping the extra nodes from 'fb' that are not in 'node_attributes' \n",
        "no_att_source = list(set([i for i in fb.Source]) - set(node_attributes.keys()))\n",
        "no_att_dest = list(set([i for i in fb.Destination]) - set(node_attributes.keys()))\n",
        "\n",
        "#finding indices of the above nodes in fb and dropping them\n",
        "idx = []\n",
        "for i in no_att_source:\n",
        "    idx.extend(fb.index[fb.Source == i].tolist())\n",
        "    \n",
        "fb.drop(list(set(idx)), axis=0, inplace=True)\n",
        "    \n",
        "idx = []    \n",
        "for i in no_att_dest:    \n",
        "    idx.extend(fb.index[fb.Destination == i].tolist())\n",
        "    \n",
        "fb.drop(list(set(idx)), axis=0, inplace=True)"
      ],
      "execution_count": null,
      "outputs": []
    },
    {
      "cell_type": "markdown",
      "metadata": {
        "id": "aFymqMNmRy5-"
      },
      "source": [
        "##Creating a list of all existing edges"
      ]
    },
    {
      "cell_type": "code",
      "metadata": {
        "id": "6ktDJ-kgSKJa"
      },
      "source": [
        "#creating a list of node pair tuples from the 'fb' dataframe\n",
        "existing_edges = [(fb.iloc[i,0],fb.iloc[i,1]) for i in range(fb.shape[0])]\n",
        "\n",
        "#printing first 20 existing edges/node pairs\n",
        "existing_edges[:5]"
      ],
      "execution_count": null,
      "outputs": []
    },
    {
      "cell_type": "markdown",
      "metadata": {
        "id": "ThqIAYELSMx9"
      },
      "source": [
        "Ok, so the processing part is complete. Now let's start creating the graph."
      ]
    },
    {
      "cell_type": "markdown",
      "metadata": {
        "id": "jwv2IlNqAru9"
      },
      "source": [
        "# Creating graph"
      ]
    },
    {
      "cell_type": "code",
      "metadata": {
        "id": "roSfuWwOSnfu"
      },
      "source": [
        "G = nx.Graph()"
      ],
      "execution_count": null,
      "outputs": []
    },
    {
      "cell_type": "markdown",
      "metadata": {
        "id": "G0ns4pNHSrCf"
      },
      "source": [
        "###Adding nodes"
      ]
    },
    {
      "cell_type": "code",
      "metadata": {
        "id": "GrT8rqH6SxmD"
      },
      "source": [
        "for i in node_attributes.keys():\n",
        "    G.add_node(i)"
      ],
      "execution_count": null,
      "outputs": []
    },
    {
      "cell_type": "markdown",
      "metadata": {
        "id": "OqMR9OHvS1_G"
      },
      "source": [
        "## Adding edges"
      ]
    },
    {
      "cell_type": "code",
      "metadata": {
        "id": "eGdcCe15S5oH"
      },
      "source": [
        "G.add_edges_from(existing_edges)"
      ],
      "execution_count": null,
      "outputs": []
    },
    {
      "cell_type": "markdown",
      "metadata": {
        "id": "4ep3LyLaS84X"
      },
      "source": [
        "##Adding attributes/features"
      ]
    },
    {
      "cell_type": "code",
      "metadata": {
        "id": "YDk8Xi--TCOz"
      },
      "source": [
        "nx.set_node_attributes(G, node_attributes)"
      ],
      "execution_count": null,
      "outputs": []
    },
    {
      "cell_type": "markdown",
      "metadata": {
        "id": "nYnYTFZ3TDS5"
      },
      "source": [
        "## Printing graph info"
      ]
    },
    {
      "cell_type": "code",
      "metadata": {
        "id": "bTUwgiDvTVAT"
      },
      "source": [
        "print(nx.info(G))"
      ],
      "execution_count": null,
      "outputs": []
    },
    {
      "cell_type": "markdown",
      "metadata": {
        "id": "h9bXsHmmTXxv"
      },
      "source": [
        "## Dropping nodes with low degree"
      ]
    },
    {
      "cell_type": "code",
      "metadata": {
        "id": "zxMctPXMUp7p"
      },
      "source": [
        "# this removes the isolated nodes\n",
        "deg = [i for i in G if G.degree(i) <3]\n",
        "G.remove_nodes_from(deg)\n",
        "print(nx.info(G))"
      ],
      "execution_count": null,
      "outputs": []
    },
    {
      "cell_type": "markdown",
      "metadata": {
        "id": "XMg9_907VQKr"
      },
      "source": [
        "## Creating a new dataframe"
      ]
    },
    {
      "cell_type": "code",
      "metadata": {
        "id": "lMSvX0deV1mx"
      },
      "source": [
        "fb = pd.DataFrame(data=list(G.edges()), columns=['Node 1', 'Node 2'])\n",
        "fb.head()"
      ],
      "execution_count": null,
      "outputs": []
    },
    {
      "cell_type": "markdown",
      "metadata": {
        "id": "MjYC_eomWxo2"
      },
      "source": [
        "# Visualizations"
      ]
    },
    {
      "cell_type": "markdown",
      "metadata": {
        "id": "pRAf25nhXEYa"
      },
      "source": [
        "## Circular layout"
      ]
    },
    {
      "cell_type": "code",
      "metadata": {
        "id": "GmqkzI-uWbtd"
      },
      "source": [
        "#the circular layout helps us understand how different nodes are connected to each other, \n",
        "#when the nodes are placed in a circular manner\n",
        "\n",
        "plt.figure(figsize=(10,10))\n",
        "pos = nx.circular_layout(G)\n",
        "nx.draw_networkx(G, pos, with_labels=False, edge_color='.4')\n",
        "\n",
        "plt.axis('off')\n",
        "plt.tight_layout();"
      ],
      "execution_count": null,
      "outputs": []
    },
    {
      "cell_type": "markdown",
      "metadata": {
        "id": "OlgDwJpBXLYd"
      },
      "source": [
        "## Random layout"
      ]
    },
    {
      "cell_type": "code",
      "metadata": {
        "id": "kuonr8UkXqg5"
      },
      "source": [
        "plt.figure(figsize=(50,50))\n",
        "pos = nx.random_layout(G)\n",
        "nx.draw_networkx(G, pos, with_labels=False)\n",
        "plt.axis('off')\n",
        "plt.tight_layout();"
      ],
      "execution_count": null,
      "outputs": []
    },
    {
      "cell_type": "markdown",
      "metadata": {
        "id": "AnXXAoYAXt97"
      },
      "source": [
        "## Spring layout"
      ]
    },
    {
      "cell_type": "code",
      "metadata": {
        "id": "hWI1XJ7ZYK0t"
      },
      "source": [
        "plt.figure(figsize=(10,10))\n",
        "nx.draw_networkx(G, alpha=0.7, with_labels=False)\n",
        "plt.axis('off')\n",
        "plt.tight_layout();"
      ],
      "execution_count": null,
      "outputs": []
    },
    {
      "cell_type": "markdown",
      "metadata": {
        "id": "GensXq7bYOA2"
      },
      "source": [
        "## Custom layout"
      ]
    },
    {
      "cell_type": "code",
      "metadata": {
        "id": "eS0ILvqTgRDt"
      },
      "source": [
        "G.nodes(2)"
      ],
      "execution_count": null,
      "outputs": []
    },
    {
      "cell_type": "code",
      "metadata": {
        "id": "JNF6_CpyaS2V"
      },
      "source": [
        "plt.figure(figsize=(30,30))\n",
        "\n",
        "# node size is based on the degree of the node\n",
        "node_size = [80*G.degree(v) for v in G]\n",
        "\n",
        "# node color is based on the node attribute/feature value\n",
        "node_color = [int(nx.get_node_attributes(G, 'location;id')[v]) for v in G]\n",
        "\n",
        "colors=range(max(node_color))\n",
        "cmap=plt.cm.Blues\n",
        "vmin = min(colors)\n",
        "vmax = max(colors)\n",
        "\n",
        "# drawing graph with custom node size and color \n",
        "# using spring layout\n",
        "pos = nx.spring_layout(G)\n",
        "nx.draw_networkx(G, pos, node_size=node_size, \n",
        "                 node_color=node_color, alpha=0.7, \n",
        "                 with_labels=False, \n",
        "                 edge_color='.4', cmap=cmap)\n",
        "\n",
        "# getting the values according to attributes \n",
        "# for the colorbar\n",
        "sm = plt.cm.ScalarMappable(cmap=cmap, \n",
        "                           norm=plt.Normalize(\n",
        "                               vmin = vmin, vmax=vmax)) \n",
        "sm._A = []\n",
        "\n",
        "plt.title('Size of a node depends on degree of the node \\n Color of a node depends on the location attribute of a  the node', fontsize=40)\n",
        "plt.axis('off')\n",
        "plt.colorbar(sm)\n",
        "\n",
        "#plotting annotations for different nodes\n",
        "ax = plt.gca()\n",
        "ax.annotate(\"Node 1\", xy=pos.get(17), xytext=(0, 60), \n",
        "            textcoords='offset points',\n",
        "            arrowprops=dict(facecolor='black'))\n",
        "\n",
        "ax1 = plt.gca()\n",
        "ax1.annotate(\"Node 2\", xy=pos.get(3280), xytext=(0, 60), \n",
        "             textcoords='offset points',\n",
        "             arrowprops=dict(facecolor='black'))\n",
        "\n",
        "ax2 = plt.gca()\n",
        "ax2.annotate(\"Node 3\", xy=pos.get(1078), xytext=(0, 60), textcoords='offset points',\n",
        "             arrowprops=dict(facecolor='black'))\n",
        "\n",
        "plt.suptitle('\\n\\nDegree of Node 1 (4) < Degree of Node 2 (31) < Degree of Node 3 (97)', fontsize=30)\n",
        "\n",
        "plt.tight_layout();"
      ],
      "execution_count": null,
      "outputs": []
    },
    {
      "cell_type": "code",
      "metadata": {
        "id": "eNB3YEcSgp_n"
      },
      "source": [
        "#saving the graph\n",
        "nx.write_gpickle(G,'/content/Facebook-Social-Network-Analysis-master/Graph.pickle')\n",
        "\n",
        "#saving the dataframe\n",
        "fb.to_csv('/content/Facebook-Social-Network-Analysis-master/fb.csv', index=False)"
      ],
      "execution_count": null,
      "outputs": []
    }
  ]
}