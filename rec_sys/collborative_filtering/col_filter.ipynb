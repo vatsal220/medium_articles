{
 "cells": [
  {
   "cell_type": "markdown",
   "id": "5a5e9de8-cea6-4d2e-ab1b-b2f92123de09",
   "metadata": {},
   "source": [
    "# Collaborative Filtering System"
   ]
  },
  {
   "cell_type": "code",
   "execution_count": 1,
   "id": "a23e86d1-d029-47ee-9a1a-2029ab8aad7d",
   "metadata": {},
   "outputs": [],
   "source": [
    "import pandas as pd\n",
    "import numpy as np\n",
    "\n",
    "from sklearn.metrics.pairwise import cosine_similarity\n",
    "from scipy.sparse import csr_matrix\n",
    "from scipy.sparse.linalg import svds\n",
    "\n",
    "from surprise import KNNWithMeans, Dataset, accuracy, Reader\n",
    "from surprise.model_selection import train_test_split"
   ]
  },
  {
   "cell_type": "code",
   "execution_count": 2,
   "id": "5531872b-9526-435a-8d95-ad28f7865fca",
   "metadata": {},
   "outputs": [],
   "source": [
    "# constants\n",
    "PATH = '../data/data.csv'"
   ]
  },
  {
   "cell_type": "markdown",
   "id": "fc0ac9bd-3983-412f-be64-d57b169faffe",
   "metadata": {},
   "source": [
    "## Import Data"
   ]
  },
  {
   "cell_type": "code",
   "execution_count": 3,
   "id": "70fb465c-d768-4854-aac6-065541a99ca3",
   "metadata": {},
   "outputs": [
    {
     "data": {
      "text/plain": [
       "(100000, 10)"
      ]
     },
     "execution_count": 3,
     "metadata": {},
     "output_type": "execute_result"
    }
   ],
   "source": [
    "df = pd.read_csv(PATH)\n",
    "df.shape"
   ]
  },
  {
   "cell_type": "code",
   "execution_count": 4,
   "id": "821815b1-0332-41f7-9243-386e2ad0f5c7",
   "metadata": {},
   "outputs": [
    {
     "data": {
      "text/html": [
       "<div>\n",
       "<style scoped>\n",
       "    .dataframe tbody tr th:only-of-type {\n",
       "        vertical-align: middle;\n",
       "    }\n",
       "\n",
       "    .dataframe tbody tr th {\n",
       "        vertical-align: top;\n",
       "    }\n",
       "\n",
       "    .dataframe thead th {\n",
       "        text-align: right;\n",
       "    }\n",
       "</style>\n",
       "<table border=\"1\" class=\"dataframe\">\n",
       "  <thead>\n",
       "    <tr style=\"text-align: right;\">\n",
       "      <th></th>\n",
       "      <th>book_id</th>\n",
       "      <th>author_id</th>\n",
       "      <th>book_genre</th>\n",
       "      <th>reader_id</th>\n",
       "      <th>num_pages</th>\n",
       "      <th>book_rating</th>\n",
       "      <th>publisher_id</th>\n",
       "      <th>publish_year</th>\n",
       "      <th>book_price</th>\n",
       "      <th>text_lang</th>\n",
       "    </tr>\n",
       "  </thead>\n",
       "  <tbody>\n",
       "    <tr>\n",
       "      <th>0</th>\n",
       "      <td>655</td>\n",
       "      <td>52</td>\n",
       "      <td>4</td>\n",
       "      <td>11482</td>\n",
       "      <td>300</td>\n",
       "      <td>4</td>\n",
       "      <td>8</td>\n",
       "      <td>2012</td>\n",
       "      <td>94</td>\n",
       "      <td>7</td>\n",
       "    </tr>\n",
       "    <tr>\n",
       "      <th>1</th>\n",
       "      <td>2713</td>\n",
       "      <td>90</td>\n",
       "      <td>3</td>\n",
       "      <td>6479</td>\n",
       "      <td>469</td>\n",
       "      <td>1</td>\n",
       "      <td>8</td>\n",
       "      <td>2012</td>\n",
       "      <td>33</td>\n",
       "      <td>5</td>\n",
       "    </tr>\n",
       "    <tr>\n",
       "      <th>2</th>\n",
       "      <td>409</td>\n",
       "      <td>17</td>\n",
       "      <td>2</td>\n",
       "      <td>25472</td>\n",
       "      <td>435</td>\n",
       "      <td>1</td>\n",
       "      <td>12</td>\n",
       "      <td>2001</td>\n",
       "      <td>196</td>\n",
       "      <td>4</td>\n",
       "    </tr>\n",
       "    <tr>\n",
       "      <th>3</th>\n",
       "      <td>1150</td>\n",
       "      <td>234</td>\n",
       "      <td>10</td>\n",
       "      <td>23950</td>\n",
       "      <td>529</td>\n",
       "      <td>2</td>\n",
       "      <td>23</td>\n",
       "      <td>2019</td>\n",
       "      <td>79</td>\n",
       "      <td>2</td>\n",
       "    </tr>\n",
       "    <tr>\n",
       "      <th>4</th>\n",
       "      <td>2424</td>\n",
       "      <td>390</td>\n",
       "      <td>5</td>\n",
       "      <td>13046</td>\n",
       "      <td>395</td>\n",
       "      <td>2</td>\n",
       "      <td>20</td>\n",
       "      <td>2010</td>\n",
       "      <td>200</td>\n",
       "      <td>4</td>\n",
       "    </tr>\n",
       "  </tbody>\n",
       "</table>\n",
       "</div>"
      ],
      "text/plain": [
       "   book_id  author_id  book_genre  reader_id  num_pages  book_rating  \\\n",
       "0      655         52           4      11482        300            4   \n",
       "1     2713         90           3       6479        469            1   \n",
       "2      409         17           2      25472        435            1   \n",
       "3     1150        234          10      23950        529            2   \n",
       "4     2424        390           5      13046        395            2   \n",
       "\n",
       "   publisher_id  publish_year  book_price  text_lang  \n",
       "0             8          2012          94          7  \n",
       "1             8          2012          33          5  \n",
       "2            12          2001         196          4  \n",
       "3            23          2019          79          2  \n",
       "4            20          2010         200          4  "
      ]
     },
     "execution_count": 4,
     "metadata": {},
     "output_type": "execute_result"
    }
   ],
   "source": [
    "df.head()"
   ]
  },
  {
   "cell_type": "markdown",
   "id": "0389156b-c213-46f0-8b7c-3dad523ace0c",
   "metadata": {},
   "source": [
    "## Method 1"
   ]
  },
  {
   "cell_type": "code",
   "execution_count": 5,
   "id": "37b04b9d-f918-4dee-b6ac-3f76e9b2669d",
   "metadata": {},
   "outputs": [],
   "source": [
    "# generate a pivot table with readers on the index and books on the column and values being the ratings\n",
    "pt_df = df.pivot_table(\n",
    "    columns = 'book_id',\n",
    "    index = 'reader_id',\n",
    "    values = 'book_rating'\n",
    ").fillna(0)\n",
    "\n",
    "# convert to a csr matrix\n",
    "mat = pt_df.values\n",
    "mat = csr_matrix(mat)"
   ]
  },
  {
   "cell_type": "code",
   "execution_count": 6,
   "id": "c985c9f6-ddc4-4938-90c2-f20b20f145bf",
   "metadata": {},
   "outputs": [],
   "source": [
    "def normalize(pred_ratings):\n",
    "    '''\n",
    "    This function will normalize the input pred_ratings\n",
    "    \n",
    "    params:\n",
    "        pred_ratings (List -> List) : The prediction ratings \n",
    "    '''\n",
    "    return (pred_ratings - pred_ratings.min()) / (pred_ratings.max() - pred_ratings.min())"
   ]
  },
  {
   "cell_type": "code",
   "execution_count": 7,
   "id": "37cf3fd5-48fb-4f05-b723-e208fcf46380",
   "metadata": {},
   "outputs": [],
   "source": [
    "def generate_prediction_df(mat, pt_df, n_factors):\n",
    "    '''\n",
    "    This function will calculate the single value decomposition of the input matrix\n",
    "    given n_factors. It will then generate and normalize the user rating predictions.\n",
    "    \n",
    "    params:\n",
    "        mat (CSR Matrix) : scipy csr matrix corresponding to the pivot table (pt_df)\n",
    "        pt_df (DataFrame) : pandas dataframe which is a pivot table\n",
    "        n_factors (Integer) : Number of singular values and vectors to compute. \n",
    "                              Must be 1 <= n_factors < min(mat.shape). \n",
    "    '''\n",
    "    \n",
    "    if not 1 <= n_factors < min(mat.shape):\n",
    "        raise ValueError(\"Must be 1 <= n_factors < min(mat.shape)\")\n",
    "        \n",
    "    # matrix factorization\n",
    "    u, s, v = svds(mat, k = n_factors)\n",
    "    s = np.diag(s)\n",
    "\n",
    "    # calculate pred ratings\n",
    "    pred_ratings = np.dot(np.dot(u, s), v) \n",
    "    pred_ratings = normalize(pred_ratings)\n",
    "    \n",
    "    # convert to df\n",
    "    pred_df = pd.DataFrame(\n",
    "        pred_ratings,\n",
    "        columns = pt_df.columns,\n",
    "        index = list(pt_df.index)\n",
    "    ).transpose()\n",
    "    return pred_df"
   ]
  },
  {
   "cell_type": "code",
   "execution_count": 8,
   "id": "0c1ed435-3c9e-4b31-9595-39b0c2884c43",
   "metadata": {},
   "outputs": [
    {
     "name": "stdout",
     "output_type": "stream",
     "text": [
      "CPU times: user 4min 24s, sys: 21.6 s, total: 4min 45s\n",
      "Wall time: 40 s\n"
     ]
    }
   ],
   "source": [
    "%time pred_df = generate_prediction_df(mat, pt_df, 10)"
   ]
  },
  {
   "cell_type": "code",
   "execution_count": 9,
   "id": "624d5c74-62e5-4003-abbc-627b89a1aa09",
   "metadata": {},
   "outputs": [],
   "source": [
    "def recommend_items(pred_df, usr_id, n_recs):\n",
    "    '''\n",
    "    Given a usr_id and pred_df this function will recommend\n",
    "    items to the user.\n",
    "    \n",
    "    params:\n",
    "        pred_df (DataFrame) : generated from `generate_prediction_df` function\n",
    "        usr_id (Integer) : The user you wish to get item recommendations for\n",
    "        n_recs (Integer) : The number of recommendations you want for this user\n",
    "    '''\n",
    "    \n",
    "    usr_pred = pred_df[usr_id].sort_values(ascending = False).reset_index().rename(columns = {usr_id : 'sim'})\n",
    "    rec_df = usr_pred.sort_values(by = 'sim', ascending = False).head(n_recs)\n",
    "    return rec_df"
   ]
  },
  {
   "cell_type": "code",
   "execution_count": 10,
   "id": "40d848d8-83c9-4f70-b92d-fdd57db1ba03",
   "metadata": {},
   "outputs": [
    {
     "data": {
      "text/html": [
       "<div>\n",
       "<style scoped>\n",
       "    .dataframe tbody tr th:only-of-type {\n",
       "        vertical-align: middle;\n",
       "    }\n",
       "\n",
       "    .dataframe tbody tr th {\n",
       "        vertical-align: top;\n",
       "    }\n",
       "\n",
       "    .dataframe thead th {\n",
       "        text-align: right;\n",
       "    }\n",
       "</style>\n",
       "<table border=\"1\" class=\"dataframe\">\n",
       "  <thead>\n",
       "    <tr style=\"text-align: right;\">\n",
       "      <th></th>\n",
       "      <th>book_id</th>\n",
       "      <th>sim</th>\n",
       "    </tr>\n",
       "  </thead>\n",
       "  <tbody>\n",
       "    <tr>\n",
       "      <th>0</th>\n",
       "      <td>2994</td>\n",
       "      <td>0.680722</td>\n",
       "    </tr>\n",
       "    <tr>\n",
       "      <th>1</th>\n",
       "      <td>1083</td>\n",
       "      <td>0.114266</td>\n",
       "    </tr>\n",
       "    <tr>\n",
       "      <th>2</th>\n",
       "      <td>2577</td>\n",
       "      <td>0.114266</td>\n",
       "    </tr>\n",
       "    <tr>\n",
       "      <th>3</th>\n",
       "      <td>937</td>\n",
       "      <td>0.019964</td>\n",
       "    </tr>\n",
       "    <tr>\n",
       "      <th>4</th>\n",
       "      <td>1710</td>\n",
       "      <td>0.019859</td>\n",
       "    </tr>\n",
       "  </tbody>\n",
       "</table>\n",
       "</div>"
      ],
      "text/plain": [
       "   book_id       sim\n",
       "0     2994  0.680722\n",
       "1     1083  0.114266\n",
       "2     2577  0.114266\n",
       "3      937  0.019964\n",
       "4     1710  0.019859"
      ]
     },
     "execution_count": 10,
     "metadata": {},
     "output_type": "execute_result"
    }
   ],
   "source": [
    "recommend_items(pred_df, 5, 5)"
   ]
  },
  {
   "cell_type": "markdown",
   "id": "6503244d-9200-452e-b3a4-33972e44c7c7",
   "metadata": {},
   "source": [
    "## Method 2"
   ]
  },
  {
   "cell_type": "code",
   "execution_count": 11,
   "id": "445f0c34-530d-491b-8289-18c92564e8ed",
   "metadata": {},
   "outputs": [],
   "source": [
    "pt_df = df.pivot_table(\n",
    "    columns = 'book_id', \n",
    "    index = 'author_id', \n",
    "    values = 'book_rating'\n",
    ").fillna(0)"
   ]
  },
  {
   "cell_type": "code",
   "execution_count": 12,
   "id": "c1ab16bd-eefa-4211-a08d-f251e4853260",
   "metadata": {},
   "outputs": [],
   "source": [
    "def find_similar_readers(pt_df, reader_id, n_recs):\n",
    "    '''\n",
    "    This function will find similar readers to the user specified reader_id\n",
    "    '''\n",
    "    \n",
    "    # separate reader of interest & all other readers \n",
    "    reader = pt_df[pt_df.index == reader_id]\n",
    "    other_readers = pt_df[pt_df.index != reader_id]\n",
    "\n",
    "    # get similarity of current reader and all other readers\n",
    "    sim = cosine_similarity(reader, other_readers)[0].tolist()\n",
    "    idx = other_readers.index.tolist()\n",
    "\n",
    "    # create a similarity dictionary for this user w.r.t all other users\n",
    "    idx_sim = dict(zip(idx, sim))\n",
    "    idx_sim = sorted(idx_sim.items(), key=lambda x: x[1], reverse=True)\n",
    "\n",
    "    similar_readers = idx_sim[:n_recs]\n",
    "    readers = [rdr[0] for rdr in similar_readers]\n",
    "\n",
    "    return readers"
   ]
  },
  {
   "cell_type": "code",
   "execution_count": 13,
   "id": "5924cffa-c0e6-47c1-88fd-a22f5fe56d3e",
   "metadata": {},
   "outputs": [
    {
     "data": {
      "text/plain": [
       "[319, 191, 145, 162, 212]"
      ]
     },
     "execution_count": 13,
     "metadata": {},
     "output_type": "execute_result"
    }
   ],
   "source": [
    "find_similar_readers(pt_df = pt_df, reader_id = 226, n_recs = 5)"
   ]
  },
  {
   "cell_type": "markdown",
   "id": "96da7763-c379-4670-a148-2f4ae5dd1cc1",
   "metadata": {},
   "source": [
    "## Method 3"
   ]
  },
  {
   "cell_type": "code",
   "execution_count": 14,
   "id": "e575a3f4-3ad2-4c1f-a89d-4954731e9021",
   "metadata": {},
   "outputs": [],
   "source": [
    "rdf = df[['reader_id', 'book_id', 'book_rating']]"
   ]
  },
  {
   "cell_type": "code",
   "execution_count": 15,
   "id": "88d78589-1234-4641-a732-3ecaee215d0c",
   "metadata": {},
   "outputs": [],
   "source": [
    "#Reading the dataset\n",
    "reader = Reader(rating_scale=(1, 5))\n",
    "data = Dataset.load_from_df(rdf, reader)"
   ]
  },
  {
   "cell_type": "code",
   "execution_count": 16,
   "id": "3c7ccee5-89f3-4703-ba81-f5eb4d321923",
   "metadata": {},
   "outputs": [],
   "source": [
    "#Splitting the dataset\n",
    "trainset, testset = train_test_split(data, test_size=0.3,random_state=10)\n"
   ]
  },
  {
   "cell_type": "code",
   "execution_count": 17,
   "id": "9f2fd4f5-52ff-42db-a45b-0626edbcdba2",
   "metadata": {},
   "outputs": [
    {
     "name": "stdout",
     "output_type": "stream",
     "text": [
      "Estimating biases using als...\n",
      "Computing the pearson_baseline similarity matrix...\n",
      "Done computing similarity matrix.\n"
     ]
    },
    {
     "data": {
      "text/plain": [
       "<surprise.prediction_algorithms.knns.KNNWithMeans at 0x7fdb43561310>"
      ]
     },
     "execution_count": 17,
     "metadata": {},
     "output_type": "execute_result"
    }
   ],
   "source": [
    "# Use user_based true/false to switch between user-based or item-based collaborative filtering\n",
    "algo = KNNWithMeans(k=5, sim_options={'name': 'pearson_baseline', 'user_based': False})\n",
    "algo.fit(trainset)"
   ]
  },
  {
   "cell_type": "code",
   "execution_count": 18,
   "id": "40cd7612-a50e-4c55-9fa2-a2f5f5c6b11e",
   "metadata": {},
   "outputs": [],
   "source": [
    "# run the trained model against the testset\n",
    "test_pred = algo.test(testset)"
   ]
  },
  {
   "cell_type": "code",
   "execution_count": 19,
   "id": "2479aa84-4b26-435c-aa7a-327499536aed",
   "metadata": {},
   "outputs": [
    {
     "name": "stdout",
     "output_type": "stream",
     "text": [
      "RMSE: 2.9306\n"
     ]
    },
    {
     "data": {
      "text/plain": [
       "2.9306185721359865"
      ]
     },
     "execution_count": 19,
     "metadata": {},
     "output_type": "execute_result"
    }
   ],
   "source": [
    "# get RMSE\n",
    "accuracy.rmse(test_pred, verbose=True)"
   ]
  },
  {
   "cell_type": "code",
   "execution_count": 20,
   "id": "3d7f3e53-18ea-41b7-8418-2d841671e48e",
   "metadata": {},
   "outputs": [
    {
     "data": {
      "text/plain": [
       "Prediction(uid=10, iid=43, r_ui=None, est=5, details={'actual_k': 0, 'was_impossible': False})"
      ]
     },
     "execution_count": 20,
     "metadata": {},
     "output_type": "execute_result"
    }
   ],
   "source": [
    "algo.predict(uid = 10, iid = 43)"
   ]
  },
  {
   "cell_type": "code",
   "execution_count": null,
   "id": "021fdb43-1afa-4351-8477-98979211fd37",
   "metadata": {},
   "outputs": [],
   "source": []
  }
 ],
 "metadata": {
  "kernelspec": {
   "display_name": "Python 3",
   "language": "python",
   "name": "python3"
  },
  "language_info": {
   "codemirror_mode": {
    "name": "ipython",
    "version": 3
   },
   "file_extension": ".py",
   "mimetype": "text/x-python",
   "name": "python",
   "nbconvert_exporter": "python",
   "pygments_lexer": "ipython3",
   "version": "3.8.8"
  }
 },
 "nbformat": 4,
 "nbformat_minor": 5
}
