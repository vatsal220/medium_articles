{
 "cells": [
  {
   "cell_type": "markdown",
   "id": "5a5e9de8-cea6-4d2e-ab1b-b2f92123de09",
   "metadata": {},
   "source": [
    "# Collaborative Filtering System"
   ]
  },
  {
   "cell_type": "code",
   "execution_count": 1,
   "id": "a23e86d1-d029-47ee-9a1a-2029ab8aad7d",
   "metadata": {},
   "outputs": [],
   "source": [
    "import pandas as pd\n",
    "import numpy as np\n",
    "\n",
    "from sklearn.model_selection import train_test_split\n",
    "from sklearn.metrics import mean_squared_error\n",
    "from scipy.stats import pearsonr"
   ]
  },
  {
   "cell_type": "code",
   "execution_count": 2,
   "id": "5531872b-9526-435a-8d95-ad28f7865fca",
   "metadata": {},
   "outputs": [],
   "source": [
    "# constants\n",
    "PATH = '../data/data.csv'"
   ]
  },
  {
   "cell_type": "markdown",
   "id": "fc0ac9bd-3983-412f-be64-d57b169faffe",
   "metadata": {},
   "source": [
    "## Import Data"
   ]
  },
  {
   "cell_type": "code",
   "execution_count": 3,
   "id": "70fb465c-d768-4854-aac6-065541a99ca3",
   "metadata": {},
   "outputs": [
    {
     "data": {
      "text/plain": [
       "(100000, 10)"
      ]
     },
     "execution_count": 3,
     "metadata": {},
     "output_type": "execute_result"
    }
   ],
   "source": [
    "df = pd.read_csv(PATH)\n",
    "df.shape"
   ]
  },
  {
   "cell_type": "code",
   "execution_count": 4,
   "id": "821815b1-0332-41f7-9243-386e2ad0f5c7",
   "metadata": {},
   "outputs": [
    {
     "data": {
      "text/html": [
       "<div>\n",
       "<style scoped>\n",
       "    .dataframe tbody tr th:only-of-type {\n",
       "        vertical-align: middle;\n",
       "    }\n",
       "\n",
       "    .dataframe tbody tr th {\n",
       "        vertical-align: top;\n",
       "    }\n",
       "\n",
       "    .dataframe thead th {\n",
       "        text-align: right;\n",
       "    }\n",
       "</style>\n",
       "<table border=\"1\" class=\"dataframe\">\n",
       "  <thead>\n",
       "    <tr style=\"text-align: right;\">\n",
       "      <th></th>\n",
       "      <th>book_id</th>\n",
       "      <th>author_id</th>\n",
       "      <th>book_genre</th>\n",
       "      <th>reader_id</th>\n",
       "      <th>num_pages</th>\n",
       "      <th>book_rating</th>\n",
       "      <th>publisher_id</th>\n",
       "      <th>publish_year</th>\n",
       "      <th>book_price</th>\n",
       "      <th>text_lang</th>\n",
       "    </tr>\n",
       "  </thead>\n",
       "  <tbody>\n",
       "    <tr>\n",
       "      <th>0</th>\n",
       "      <td>655</td>\n",
       "      <td>52</td>\n",
       "      <td>4</td>\n",
       "      <td>11482</td>\n",
       "      <td>300</td>\n",
       "      <td>4</td>\n",
       "      <td>8</td>\n",
       "      <td>2012</td>\n",
       "      <td>94</td>\n",
       "      <td>7</td>\n",
       "    </tr>\n",
       "    <tr>\n",
       "      <th>1</th>\n",
       "      <td>2713</td>\n",
       "      <td>90</td>\n",
       "      <td>3</td>\n",
       "      <td>6479</td>\n",
       "      <td>469</td>\n",
       "      <td>1</td>\n",
       "      <td>8</td>\n",
       "      <td>2012</td>\n",
       "      <td>33</td>\n",
       "      <td>5</td>\n",
       "    </tr>\n",
       "    <tr>\n",
       "      <th>2</th>\n",
       "      <td>409</td>\n",
       "      <td>17</td>\n",
       "      <td>2</td>\n",
       "      <td>25472</td>\n",
       "      <td>435</td>\n",
       "      <td>1</td>\n",
       "      <td>12</td>\n",
       "      <td>2001</td>\n",
       "      <td>196</td>\n",
       "      <td>4</td>\n",
       "    </tr>\n",
       "    <tr>\n",
       "      <th>3</th>\n",
       "      <td>1150</td>\n",
       "      <td>234</td>\n",
       "      <td>10</td>\n",
       "      <td>23950</td>\n",
       "      <td>529</td>\n",
       "      <td>2</td>\n",
       "      <td>23</td>\n",
       "      <td>2019</td>\n",
       "      <td>79</td>\n",
       "      <td>2</td>\n",
       "    </tr>\n",
       "    <tr>\n",
       "      <th>4</th>\n",
       "      <td>2424</td>\n",
       "      <td>390</td>\n",
       "      <td>5</td>\n",
       "      <td>13046</td>\n",
       "      <td>395</td>\n",
       "      <td>2</td>\n",
       "      <td>20</td>\n",
       "      <td>2010</td>\n",
       "      <td>200</td>\n",
       "      <td>4</td>\n",
       "    </tr>\n",
       "  </tbody>\n",
       "</table>\n",
       "</div>"
      ],
      "text/plain": [
       "   book_id  author_id  book_genre  reader_id  num_pages  book_rating  \\\n",
       "0      655         52           4      11482        300            4   \n",
       "1     2713         90           3       6479        469            1   \n",
       "2      409         17           2      25472        435            1   \n",
       "3     1150        234          10      23950        529            2   \n",
       "4     2424        390           5      13046        395            2   \n",
       "\n",
       "   publisher_id  publish_year  book_price  text_lang  \n",
       "0             8          2012          94          7  \n",
       "1             8          2012          33          5  \n",
       "2            12          2001         196          4  \n",
       "3            23          2019          79          2  \n",
       "4            20          2010         200          4  "
      ]
     },
     "execution_count": 4,
     "metadata": {},
     "output_type": "execute_result"
    }
   ],
   "source": [
    "df.head()"
   ]
  },
  {
   "cell_type": "markdown",
   "id": "048df7df-420d-4d71-8ec5-a95b18c82862",
   "metadata": {},
   "source": [
    "We will try to build a system which will predict the users rating of books."
   ]
  },
  {
   "cell_type": "code",
   "execution_count": 5,
   "id": "534ba0f8-1067-405a-84bf-824fe0f65893",
   "metadata": {},
   "outputs": [],
   "source": [
    "ratings_df = df[['reader_id', 'book_id', 'book_rating']].copy()"
   ]
  },
  {
   "cell_type": "code",
   "execution_count": 6,
   "id": "c72ec3cf-141d-43f6-80fe-fce6aea45063",
   "metadata": {},
   "outputs": [],
   "source": [
    "#Assign X as the original ratings dataframe and y as the user_id column of ratings.\n",
    "X = ratings_df.copy()\n",
    "y = ratings_df['reader_id']\n",
    "\n",
    "#Split into training and test datasets, stratified along user_id\n",
    "X_train, X_test, y_train, y_test = train_test_split(X, y, test_size = 0.3)"
   ]
  },
  {
   "cell_type": "code",
   "execution_count": 7,
   "id": "dcebd152-5164-47bd-b7ae-de4669ae872a",
   "metadata": {},
   "outputs": [],
   "source": [
    "#Function that computes the root mean squared error (or RMSE)\n",
    "def rmse(y_true, y_pred):\n",
    "    return np.sqrt(mean_squared_error(y_true, y_pred))"
   ]
  },
  {
   "cell_type": "code",
   "execution_count": 8,
   "id": "2c90d6bf-bb06-47bb-8c96-15fda62d45b7",
   "metadata": {},
   "outputs": [],
   "source": [
    "#Define the baseline model to always return 6.\n",
    "def baseline(reader_id, book_id):\n",
    "    return 6.0"
   ]
  },
  {
   "cell_type": "code",
   "execution_count": 9,
   "id": "29ca06f2-2ae8-46ee-963a-c522ce3e29ca",
   "metadata": {},
   "outputs": [],
   "source": [
    "#Function to compute the RMSE score obtained on the testing set by a model\n",
    "def score(cf_model):\n",
    "    \n",
    "    #Construct a list of user-movie tuples from the testing dataset\n",
    "    id_pairs = zip(X_test['reader_id'], X_test['book_id'])\n",
    "    \n",
    "    #Predict the rating for every user-movie tuple\n",
    "    y_pred = np.array([cf_model(user, movie) for (user, movie) in id_pairs])\n",
    "    \n",
    "    #Extract the actual ratings given by the users in the test data\n",
    "    y_true = np.array(X_test['book_rating'])\n",
    "    \n",
    "    #Return the final RMSE score\n",
    "    return rmse(y_true, y_pred)"
   ]
  },
  {
   "cell_type": "code",
   "execution_count": 10,
   "id": "52fe04bd-d7fb-4353-8116-a50a8f271619",
   "metadata": {},
   "outputs": [
    {
     "data": {
      "text/plain": [
       "2.913154075339419"
      ]
     },
     "execution_count": 10,
     "metadata": {},
     "output_type": "execute_result"
    }
   ],
   "source": [
    "score(baseline)"
   ]
  },
  {
   "cell_type": "markdown",
   "id": "0389156b-c213-46f0-8b7c-3dad523ace0c",
   "metadata": {},
   "source": [
    "## User - User Based"
   ]
  },
  {
   "cell_type": "code",
   "execution_count": 11,
   "id": "69886a6f-89b1-4c41-b96f-d8e55b77f2d5",
   "metadata": {},
   "outputs": [
    {
     "data": {
      "text/html": [
       "<div>\n",
       "<style scoped>\n",
       "    .dataframe tbody tr th:only-of-type {\n",
       "        vertical-align: middle;\n",
       "    }\n",
       "\n",
       "    .dataframe tbody tr th {\n",
       "        vertical-align: top;\n",
       "    }\n",
       "\n",
       "    .dataframe thead th {\n",
       "        text-align: right;\n",
       "    }\n",
       "</style>\n",
       "<table border=\"1\" class=\"dataframe\">\n",
       "  <thead>\n",
       "    <tr style=\"text-align: right;\">\n",
       "      <th>book_id</th>\n",
       "      <th>1</th>\n",
       "      <th>2</th>\n",
       "      <th>3</th>\n",
       "      <th>4</th>\n",
       "      <th>5</th>\n",
       "      <th>6</th>\n",
       "      <th>7</th>\n",
       "      <th>8</th>\n",
       "      <th>9</th>\n",
       "      <th>10</th>\n",
       "      <th>...</th>\n",
       "      <th>2991</th>\n",
       "      <th>2992</th>\n",
       "      <th>2993</th>\n",
       "      <th>2994</th>\n",
       "      <th>2995</th>\n",
       "      <th>2996</th>\n",
       "      <th>2997</th>\n",
       "      <th>2998</th>\n",
       "      <th>2999</th>\n",
       "      <th>3000</th>\n",
       "    </tr>\n",
       "    <tr>\n",
       "      <th>reader_id</th>\n",
       "      <th></th>\n",
       "      <th></th>\n",
       "      <th></th>\n",
       "      <th></th>\n",
       "      <th></th>\n",
       "      <th></th>\n",
       "      <th></th>\n",
       "      <th></th>\n",
       "      <th></th>\n",
       "      <th></th>\n",
       "      <th></th>\n",
       "      <th></th>\n",
       "      <th></th>\n",
       "      <th></th>\n",
       "      <th></th>\n",
       "      <th></th>\n",
       "      <th></th>\n",
       "      <th></th>\n",
       "      <th></th>\n",
       "      <th></th>\n",
       "      <th></th>\n",
       "    </tr>\n",
       "  </thead>\n",
       "  <tbody>\n",
       "    <tr>\n",
       "      <th>1</th>\n",
       "      <td>NaN</td>\n",
       "      <td>NaN</td>\n",
       "      <td>NaN</td>\n",
       "      <td>NaN</td>\n",
       "      <td>NaN</td>\n",
       "      <td>NaN</td>\n",
       "      <td>NaN</td>\n",
       "      <td>NaN</td>\n",
       "      <td>NaN</td>\n",
       "      <td>NaN</td>\n",
       "      <td>...</td>\n",
       "      <td>NaN</td>\n",
       "      <td>NaN</td>\n",
       "      <td>NaN</td>\n",
       "      <td>NaN</td>\n",
       "      <td>NaN</td>\n",
       "      <td>NaN</td>\n",
       "      <td>NaN</td>\n",
       "      <td>NaN</td>\n",
       "      <td>NaN</td>\n",
       "      <td>NaN</td>\n",
       "    </tr>\n",
       "    <tr>\n",
       "      <th>3</th>\n",
       "      <td>NaN</td>\n",
       "      <td>NaN</td>\n",
       "      <td>NaN</td>\n",
       "      <td>NaN</td>\n",
       "      <td>NaN</td>\n",
       "      <td>NaN</td>\n",
       "      <td>NaN</td>\n",
       "      <td>NaN</td>\n",
       "      <td>NaN</td>\n",
       "      <td>NaN</td>\n",
       "      <td>...</td>\n",
       "      <td>NaN</td>\n",
       "      <td>NaN</td>\n",
       "      <td>NaN</td>\n",
       "      <td>NaN</td>\n",
       "      <td>NaN</td>\n",
       "      <td>NaN</td>\n",
       "      <td>NaN</td>\n",
       "      <td>NaN</td>\n",
       "      <td>NaN</td>\n",
       "      <td>NaN</td>\n",
       "    </tr>\n",
       "    <tr>\n",
       "      <th>4</th>\n",
       "      <td>NaN</td>\n",
       "      <td>NaN</td>\n",
       "      <td>NaN</td>\n",
       "      <td>NaN</td>\n",
       "      <td>NaN</td>\n",
       "      <td>NaN</td>\n",
       "      <td>NaN</td>\n",
       "      <td>NaN</td>\n",
       "      <td>NaN</td>\n",
       "      <td>NaN</td>\n",
       "      <td>...</td>\n",
       "      <td>NaN</td>\n",
       "      <td>NaN</td>\n",
       "      <td>NaN</td>\n",
       "      <td>NaN</td>\n",
       "      <td>NaN</td>\n",
       "      <td>NaN</td>\n",
       "      <td>NaN</td>\n",
       "      <td>NaN</td>\n",
       "      <td>NaN</td>\n",
       "      <td>NaN</td>\n",
       "    </tr>\n",
       "    <tr>\n",
       "      <th>5</th>\n",
       "      <td>NaN</td>\n",
       "      <td>NaN</td>\n",
       "      <td>NaN</td>\n",
       "      <td>NaN</td>\n",
       "      <td>NaN</td>\n",
       "      <td>NaN</td>\n",
       "      <td>NaN</td>\n",
       "      <td>NaN</td>\n",
       "      <td>NaN</td>\n",
       "      <td>NaN</td>\n",
       "      <td>...</td>\n",
       "      <td>NaN</td>\n",
       "      <td>NaN</td>\n",
       "      <td>NaN</td>\n",
       "      <td>NaN</td>\n",
       "      <td>NaN</td>\n",
       "      <td>NaN</td>\n",
       "      <td>NaN</td>\n",
       "      <td>NaN</td>\n",
       "      <td>NaN</td>\n",
       "      <td>NaN</td>\n",
       "    </tr>\n",
       "    <tr>\n",
       "      <th>6</th>\n",
       "      <td>NaN</td>\n",
       "      <td>NaN</td>\n",
       "      <td>NaN</td>\n",
       "      <td>NaN</td>\n",
       "      <td>NaN</td>\n",
       "      <td>NaN</td>\n",
       "      <td>NaN</td>\n",
       "      <td>NaN</td>\n",
       "      <td>NaN</td>\n",
       "      <td>NaN</td>\n",
       "      <td>...</td>\n",
       "      <td>NaN</td>\n",
       "      <td>NaN</td>\n",
       "      <td>NaN</td>\n",
       "      <td>NaN</td>\n",
       "      <td>NaN</td>\n",
       "      <td>NaN</td>\n",
       "      <td>NaN</td>\n",
       "      <td>NaN</td>\n",
       "      <td>NaN</td>\n",
       "      <td>NaN</td>\n",
       "    </tr>\n",
       "  </tbody>\n",
       "</table>\n",
       "<p>5 rows × 3000 columns</p>\n",
       "</div>"
      ],
      "text/plain": [
       "book_id    1     2     3     4     5     6     7     8     9     10    ...  \\\n",
       "reader_id                                                              ...   \n",
       "1           NaN   NaN   NaN   NaN   NaN   NaN   NaN   NaN   NaN   NaN  ...   \n",
       "3           NaN   NaN   NaN   NaN   NaN   NaN   NaN   NaN   NaN   NaN  ...   \n",
       "4           NaN   NaN   NaN   NaN   NaN   NaN   NaN   NaN   NaN   NaN  ...   \n",
       "5           NaN   NaN   NaN   NaN   NaN   NaN   NaN   NaN   NaN   NaN  ...   \n",
       "6           NaN   NaN   NaN   NaN   NaN   NaN   NaN   NaN   NaN   NaN  ...   \n",
       "\n",
       "book_id    2991  2992  2993  2994  2995  2996  2997  2998  2999  3000  \n",
       "reader_id                                                              \n",
       "1           NaN   NaN   NaN   NaN   NaN   NaN   NaN   NaN   NaN   NaN  \n",
       "3           NaN   NaN   NaN   NaN   NaN   NaN   NaN   NaN   NaN   NaN  \n",
       "4           NaN   NaN   NaN   NaN   NaN   NaN   NaN   NaN   NaN   NaN  \n",
       "5           NaN   NaN   NaN   NaN   NaN   NaN   NaN   NaN   NaN   NaN  \n",
       "6           NaN   NaN   NaN   NaN   NaN   NaN   NaN   NaN   NaN   NaN  \n",
       "\n",
       "[5 rows x 3000 columns]"
      ]
     },
     "execution_count": 11,
     "metadata": {},
     "output_type": "execute_result"
    }
   ],
   "source": [
    "#Build the ratings matrix using pivot_table function\n",
    "r_matrix = X_train.pivot_table(values='book_rating', index='reader_id', columns='book_id')\n",
    "\n",
    "r_matrix.head()"
   ]
  },
  {
   "cell_type": "markdown",
   "id": "09058977-409e-4c0c-ae66-9bf610abfac9",
   "metadata": {},
   "source": [
    "### Mean"
   ]
  },
  {
   "cell_type": "code",
   "execution_count": 12,
   "id": "932e6138-db47-4bb7-81ab-39cbcac01a2f",
   "metadata": {},
   "outputs": [],
   "source": [
    "#User Based Collaborative Filter using Mean Ratings\n",
    "def cf_user_mean(reader_id, book_id):\n",
    "    \n",
    "    #Check if movie_id exists in r_matrix\n",
    "    if book_id in r_matrix:\n",
    "        #Compute the mean of all the ratings given to the movie\n",
    "        mean_rating = r_matrix[book_id].mean()\n",
    "    \n",
    "    else:\n",
    "        #Default to a rating of 6.0 in the absence of any information\n",
    "        mean_rating = 6.0\n",
    "    \n",
    "    return mean_rating"
   ]
  },
  {
   "cell_type": "code",
   "execution_count": 13,
   "id": "e09f4cdd-0d61-4787-ad56-250fac3afb09",
   "metadata": {},
   "outputs": [
    {
     "data": {
      "text/plain": [
       "2.9400202223375866"
      ]
     },
     "execution_count": 13,
     "metadata": {},
     "output_type": "execute_result"
    }
   ],
   "source": [
    "#Compute RMSE for the Mean model\n",
    "score(cf_user_mean)"
   ]
  },
  {
   "cell_type": "markdown",
   "id": "51b9ec08-40f9-4a23-a213-1ed96dc052dd",
   "metadata": {},
   "source": [
    "### Weighted Mean"
   ]
  },
  {
   "cell_type": "code",
   "execution_count": 14,
   "id": "fc851343-3937-49ea-8f7b-990bfc5b22dc",
   "metadata": {},
   "outputs": [],
   "source": [
    "#Create a dummy ratings matrix with all null values imputed to 0\n",
    "r_matrix_dummy = r_matrix.copy().fillna(0)"
   ]
  },
  {
   "cell_type": "code",
   "execution_count": 15,
   "id": "d4910a87-e152-4200-989b-02ecd6477cd1",
   "metadata": {},
   "outputs": [],
   "source": [
    "# Import cosine_score \n",
    "from sklearn.metrics.pairwise import cosine_similarity\n",
    "\n",
    "#Compute the cosine similarity matrix using the dummy ratings matrix\n",
    "cosine_sim = cosine_similarity(r_matrix_dummy, r_matrix_dummy)"
   ]
  },
  {
   "cell_type": "code",
   "execution_count": 16,
   "id": "cb9bf6aa-67b1-4ef2-9518-dc06113138a5",
   "metadata": {},
   "outputs": [
    {
     "data": {
      "text/html": [
       "<div>\n",
       "<style scoped>\n",
       "    .dataframe tbody tr th:only-of-type {\n",
       "        vertical-align: middle;\n",
       "    }\n",
       "\n",
       "    .dataframe tbody tr th {\n",
       "        vertical-align: top;\n",
       "    }\n",
       "\n",
       "    .dataframe thead th {\n",
       "        text-align: right;\n",
       "    }\n",
       "</style>\n",
       "<table border=\"1\" class=\"dataframe\">\n",
       "  <thead>\n",
       "    <tr style=\"text-align: right;\">\n",
       "      <th>reader_id</th>\n",
       "      <th>1</th>\n",
       "      <th>3</th>\n",
       "      <th>4</th>\n",
       "      <th>5</th>\n",
       "      <th>6</th>\n",
       "      <th>7</th>\n",
       "      <th>8</th>\n",
       "      <th>9</th>\n",
       "      <th>10</th>\n",
       "      <th>11</th>\n",
       "      <th>...</th>\n",
       "      <th>29990</th>\n",
       "      <th>29991</th>\n",
       "      <th>29992</th>\n",
       "      <th>29993</th>\n",
       "      <th>29994</th>\n",
       "      <th>29995</th>\n",
       "      <th>29996</th>\n",
       "      <th>29997</th>\n",
       "      <th>29998</th>\n",
       "      <th>29999</th>\n",
       "    </tr>\n",
       "    <tr>\n",
       "      <th>reader_id</th>\n",
       "      <th></th>\n",
       "      <th></th>\n",
       "      <th></th>\n",
       "      <th></th>\n",
       "      <th></th>\n",
       "      <th></th>\n",
       "      <th></th>\n",
       "      <th></th>\n",
       "      <th></th>\n",
       "      <th></th>\n",
       "      <th></th>\n",
       "      <th></th>\n",
       "      <th></th>\n",
       "      <th></th>\n",
       "      <th></th>\n",
       "      <th></th>\n",
       "      <th></th>\n",
       "      <th></th>\n",
       "      <th></th>\n",
       "      <th></th>\n",
       "      <th></th>\n",
       "    </tr>\n",
       "  </thead>\n",
       "  <tbody>\n",
       "    <tr>\n",
       "      <th>1</th>\n",
       "      <td>1.0</td>\n",
       "      <td>0.0</td>\n",
       "      <td>0.0</td>\n",
       "      <td>0.0</td>\n",
       "      <td>0.0</td>\n",
       "      <td>0.0</td>\n",
       "      <td>0.0</td>\n",
       "      <td>0.0</td>\n",
       "      <td>0.000000</td>\n",
       "      <td>0.000000</td>\n",
       "      <td>...</td>\n",
       "      <td>0.0</td>\n",
       "      <td>0.0</td>\n",
       "      <td>0.0</td>\n",
       "      <td>0.0</td>\n",
       "      <td>0.0</td>\n",
       "      <td>0.0</td>\n",
       "      <td>0.0</td>\n",
       "      <td>0.0</td>\n",
       "      <td>0.0</td>\n",
       "      <td>0.0</td>\n",
       "    </tr>\n",
       "    <tr>\n",
       "      <th>3</th>\n",
       "      <td>0.0</td>\n",
       "      <td>1.0</td>\n",
       "      <td>0.0</td>\n",
       "      <td>0.0</td>\n",
       "      <td>0.0</td>\n",
       "      <td>0.0</td>\n",
       "      <td>0.0</td>\n",
       "      <td>0.0</td>\n",
       "      <td>0.000000</td>\n",
       "      <td>0.000000</td>\n",
       "      <td>...</td>\n",
       "      <td>0.0</td>\n",
       "      <td>0.0</td>\n",
       "      <td>0.0</td>\n",
       "      <td>0.0</td>\n",
       "      <td>0.0</td>\n",
       "      <td>0.0</td>\n",
       "      <td>0.0</td>\n",
       "      <td>0.0</td>\n",
       "      <td>0.0</td>\n",
       "      <td>0.0</td>\n",
       "    </tr>\n",
       "    <tr>\n",
       "      <th>4</th>\n",
       "      <td>0.0</td>\n",
       "      <td>0.0</td>\n",
       "      <td>1.0</td>\n",
       "      <td>0.0</td>\n",
       "      <td>0.0</td>\n",
       "      <td>0.0</td>\n",
       "      <td>0.0</td>\n",
       "      <td>0.0</td>\n",
       "      <td>0.000000</td>\n",
       "      <td>0.000000</td>\n",
       "      <td>...</td>\n",
       "      <td>0.0</td>\n",
       "      <td>0.0</td>\n",
       "      <td>0.0</td>\n",
       "      <td>0.0</td>\n",
       "      <td>0.0</td>\n",
       "      <td>0.0</td>\n",
       "      <td>0.0</td>\n",
       "      <td>0.0</td>\n",
       "      <td>0.0</td>\n",
       "      <td>0.0</td>\n",
       "    </tr>\n",
       "    <tr>\n",
       "      <th>5</th>\n",
       "      <td>0.0</td>\n",
       "      <td>0.0</td>\n",
       "      <td>0.0</td>\n",
       "      <td>1.0</td>\n",
       "      <td>0.0</td>\n",
       "      <td>0.0</td>\n",
       "      <td>0.0</td>\n",
       "      <td>0.0</td>\n",
       "      <td>0.000000</td>\n",
       "      <td>0.000000</td>\n",
       "      <td>...</td>\n",
       "      <td>0.0</td>\n",
       "      <td>0.0</td>\n",
       "      <td>0.0</td>\n",
       "      <td>0.0</td>\n",
       "      <td>0.0</td>\n",
       "      <td>0.0</td>\n",
       "      <td>0.0</td>\n",
       "      <td>0.0</td>\n",
       "      <td>0.0</td>\n",
       "      <td>0.0</td>\n",
       "    </tr>\n",
       "    <tr>\n",
       "      <th>6</th>\n",
       "      <td>0.0</td>\n",
       "      <td>0.0</td>\n",
       "      <td>0.0</td>\n",
       "      <td>0.0</td>\n",
       "      <td>1.0</td>\n",
       "      <td>0.0</td>\n",
       "      <td>0.0</td>\n",
       "      <td>0.0</td>\n",
       "      <td>0.000000</td>\n",
       "      <td>0.000000</td>\n",
       "      <td>...</td>\n",
       "      <td>0.0</td>\n",
       "      <td>0.0</td>\n",
       "      <td>0.0</td>\n",
       "      <td>0.0</td>\n",
       "      <td>0.0</td>\n",
       "      <td>0.0</td>\n",
       "      <td>0.0</td>\n",
       "      <td>0.0</td>\n",
       "      <td>0.0</td>\n",
       "      <td>0.0</td>\n",
       "    </tr>\n",
       "    <tr>\n",
       "      <th>7</th>\n",
       "      <td>0.0</td>\n",
       "      <td>0.0</td>\n",
       "      <td>0.0</td>\n",
       "      <td>0.0</td>\n",
       "      <td>0.0</td>\n",
       "      <td>1.0</td>\n",
       "      <td>0.0</td>\n",
       "      <td>0.0</td>\n",
       "      <td>0.000000</td>\n",
       "      <td>0.000000</td>\n",
       "      <td>...</td>\n",
       "      <td>0.0</td>\n",
       "      <td>0.0</td>\n",
       "      <td>0.0</td>\n",
       "      <td>0.0</td>\n",
       "      <td>0.0</td>\n",
       "      <td>0.0</td>\n",
       "      <td>0.0</td>\n",
       "      <td>0.0</td>\n",
       "      <td>0.0</td>\n",
       "      <td>0.0</td>\n",
       "    </tr>\n",
       "    <tr>\n",
       "      <th>8</th>\n",
       "      <td>0.0</td>\n",
       "      <td>0.0</td>\n",
       "      <td>0.0</td>\n",
       "      <td>0.0</td>\n",
       "      <td>0.0</td>\n",
       "      <td>0.0</td>\n",
       "      <td>1.0</td>\n",
       "      <td>0.0</td>\n",
       "      <td>0.000000</td>\n",
       "      <td>0.000000</td>\n",
       "      <td>...</td>\n",
       "      <td>0.0</td>\n",
       "      <td>0.0</td>\n",
       "      <td>0.0</td>\n",
       "      <td>0.0</td>\n",
       "      <td>0.0</td>\n",
       "      <td>0.0</td>\n",
       "      <td>0.0</td>\n",
       "      <td>0.0</td>\n",
       "      <td>0.0</td>\n",
       "      <td>0.0</td>\n",
       "    </tr>\n",
       "    <tr>\n",
       "      <th>9</th>\n",
       "      <td>0.0</td>\n",
       "      <td>0.0</td>\n",
       "      <td>0.0</td>\n",
       "      <td>0.0</td>\n",
       "      <td>0.0</td>\n",
       "      <td>0.0</td>\n",
       "      <td>0.0</td>\n",
       "      <td>1.0</td>\n",
       "      <td>0.000000</td>\n",
       "      <td>0.000000</td>\n",
       "      <td>...</td>\n",
       "      <td>0.0</td>\n",
       "      <td>0.0</td>\n",
       "      <td>0.0</td>\n",
       "      <td>0.0</td>\n",
       "      <td>0.0</td>\n",
       "      <td>0.0</td>\n",
       "      <td>0.0</td>\n",
       "      <td>0.0</td>\n",
       "      <td>0.0</td>\n",
       "      <td>0.0</td>\n",
       "    </tr>\n",
       "    <tr>\n",
       "      <th>10</th>\n",
       "      <td>0.0</td>\n",
       "      <td>0.0</td>\n",
       "      <td>0.0</td>\n",
       "      <td>0.0</td>\n",
       "      <td>0.0</td>\n",
       "      <td>0.0</td>\n",
       "      <td>0.0</td>\n",
       "      <td>0.0</td>\n",
       "      <td>1.000000</td>\n",
       "      <td>0.328266</td>\n",
       "      <td>...</td>\n",
       "      <td>0.0</td>\n",
       "      <td>0.0</td>\n",
       "      <td>0.0</td>\n",
       "      <td>0.0</td>\n",
       "      <td>0.0</td>\n",
       "      <td>0.0</td>\n",
       "      <td>0.0</td>\n",
       "      <td>0.0</td>\n",
       "      <td>0.0</td>\n",
       "      <td>0.0</td>\n",
       "    </tr>\n",
       "    <tr>\n",
       "      <th>11</th>\n",
       "      <td>0.0</td>\n",
       "      <td>0.0</td>\n",
       "      <td>0.0</td>\n",
       "      <td>0.0</td>\n",
       "      <td>0.0</td>\n",
       "      <td>0.0</td>\n",
       "      <td>0.0</td>\n",
       "      <td>0.0</td>\n",
       "      <td>0.328266</td>\n",
       "      <td>1.000000</td>\n",
       "      <td>...</td>\n",
       "      <td>0.0</td>\n",
       "      <td>0.0</td>\n",
       "      <td>0.0</td>\n",
       "      <td>0.0</td>\n",
       "      <td>0.0</td>\n",
       "      <td>0.0</td>\n",
       "      <td>0.0</td>\n",
       "      <td>0.0</td>\n",
       "      <td>0.0</td>\n",
       "      <td>0.0</td>\n",
       "    </tr>\n",
       "  </tbody>\n",
       "</table>\n",
       "<p>10 rows × 27027 columns</p>\n",
       "</div>"
      ],
      "text/plain": [
       "reader_id  1      3      4      5      6      7      8      9         10     \\\n",
       "reader_id                                                                     \n",
       "1            1.0    0.0    0.0    0.0    0.0    0.0    0.0    0.0  0.000000   \n",
       "3            0.0    1.0    0.0    0.0    0.0    0.0    0.0    0.0  0.000000   \n",
       "4            0.0    0.0    1.0    0.0    0.0    0.0    0.0    0.0  0.000000   \n",
       "5            0.0    0.0    0.0    1.0    0.0    0.0    0.0    0.0  0.000000   \n",
       "6            0.0    0.0    0.0    0.0    1.0    0.0    0.0    0.0  0.000000   \n",
       "7            0.0    0.0    0.0    0.0    0.0    1.0    0.0    0.0  0.000000   \n",
       "8            0.0    0.0    0.0    0.0    0.0    0.0    1.0    0.0  0.000000   \n",
       "9            0.0    0.0    0.0    0.0    0.0    0.0    0.0    1.0  0.000000   \n",
       "10           0.0    0.0    0.0    0.0    0.0    0.0    0.0    0.0  1.000000   \n",
       "11           0.0    0.0    0.0    0.0    0.0    0.0    0.0    0.0  0.328266   \n",
       "\n",
       "reader_id     11     ...  29990  29991  29992  29993  29994  29995  29996  \\\n",
       "reader_id            ...                                                    \n",
       "1          0.000000  ...    0.0    0.0    0.0    0.0    0.0    0.0    0.0   \n",
       "3          0.000000  ...    0.0    0.0    0.0    0.0    0.0    0.0    0.0   \n",
       "4          0.000000  ...    0.0    0.0    0.0    0.0    0.0    0.0    0.0   \n",
       "5          0.000000  ...    0.0    0.0    0.0    0.0    0.0    0.0    0.0   \n",
       "6          0.000000  ...    0.0    0.0    0.0    0.0    0.0    0.0    0.0   \n",
       "7          0.000000  ...    0.0    0.0    0.0    0.0    0.0    0.0    0.0   \n",
       "8          0.000000  ...    0.0    0.0    0.0    0.0    0.0    0.0    0.0   \n",
       "9          0.000000  ...    0.0    0.0    0.0    0.0    0.0    0.0    0.0   \n",
       "10         0.328266  ...    0.0    0.0    0.0    0.0    0.0    0.0    0.0   \n",
       "11         1.000000  ...    0.0    0.0    0.0    0.0    0.0    0.0    0.0   \n",
       "\n",
       "reader_id  29997  29998  29999  \n",
       "reader_id                       \n",
       "1            0.0    0.0    0.0  \n",
       "3            0.0    0.0    0.0  \n",
       "4            0.0    0.0    0.0  \n",
       "5            0.0    0.0    0.0  \n",
       "6            0.0    0.0    0.0  \n",
       "7            0.0    0.0    0.0  \n",
       "8            0.0    0.0    0.0  \n",
       "9            0.0    0.0    0.0  \n",
       "10           0.0    0.0    0.0  \n",
       "11           0.0    0.0    0.0  \n",
       "\n",
       "[10 rows x 27027 columns]"
      ]
     },
     "execution_count": 16,
     "metadata": {},
     "output_type": "execute_result"
    }
   ],
   "source": [
    "#Convert into pandas dataframe \n",
    "cosine_sim = pd.DataFrame(cosine_sim, index=r_matrix.index, columns=r_matrix.index)\n",
    "\n",
    "cosine_sim.head(10)"
   ]
  },
  {
   "cell_type": "code",
   "execution_count": 17,
   "id": "8bb9853b-d2b4-45f5-aad6-fbcb126b016b",
   "metadata": {},
   "outputs": [
    {
     "data": {
      "text/plain": [
       "(27027, 27027)"
      ]
     },
     "execution_count": 17,
     "metadata": {},
     "output_type": "execute_result"
    }
   ],
   "source": [
    "cosine_sim.shape"
   ]
  },
  {
   "cell_type": "code",
   "execution_count": 18,
   "id": "78cb6c68-168e-4c62-b160-cbc64adfc8d3",
   "metadata": {},
   "outputs": [],
   "source": [
    "#User Based Collaborative Filter using Weighted Mean Ratings\n",
    "def cf_user_wmean(reader_id, book_id):\n",
    "    \n",
    "    #Check if movie_id exists in r_matrix\n",
    "    if book_id in r_matrix:\n",
    "        \n",
    "        #Get the similarity scores for the user in question with every other user\n",
    "        sim_scores = cosine_sim[reader_id]\n",
    "        \n",
    "        #Get the user ratings for the movie in question\n",
    "        m_ratings = r_matrix[book_id]\n",
    "        \n",
    "        #Extract the indices containing NaN in the m_ratings series\n",
    "        idx = m_ratings[m_ratings.isnull()].index\n",
    "        \n",
    "        #Drop the NaN values from the m_ratings Series\n",
    "        m_ratings = m_ratings.dropna()\n",
    "        \n",
    "        #Drop the corresponding cosine scores from the sim_scores series\n",
    "        sim_scores = sim_scores.drop(idx)\n",
    "        \n",
    "        #Compute the final weighted mean\n",
    "        wmean_rating = np.dot(sim_scores, m_ratings)/ sim_scores.sum()\n",
    "    \n",
    "    else:\n",
    "        #Default to a rating of 6.0 in the absence of any information\n",
    "        wmean_rating = 6.0\n",
    "    \n",
    "    return wmean_rating"
   ]
  },
  {
   "cell_type": "code",
   "execution_count": 19,
   "id": "aac7b275-ee12-46d6-8fd7-113849547f7f",
   "metadata": {},
   "outputs": [],
   "source": [
    "# score(cf_user_wmean)"
   ]
  },
  {
   "cell_type": "code",
   "execution_count": null,
   "id": "95993188-689b-4e0d-9701-9dc58f8454f5",
   "metadata": {},
   "outputs": [],
   "source": []
  },
  {
   "cell_type": "code",
   "execution_count": null,
   "id": "8bcc31d2-a8b4-42d8-8c25-893f9a64986a",
   "metadata": {},
   "outputs": [],
   "source": []
  },
  {
   "cell_type": "markdown",
   "id": "84a9310e-c948-4467-8ab2-51c1f4a297a1",
   "metadata": {},
   "source": [
    "## Preprocess Data"
   ]
  },
  {
   "cell_type": "code",
   "execution_count": 14,
   "id": "afeb88e2-8e2c-4422-95ac-c36a5bf6a971",
   "metadata": {},
   "outputs": [],
   "source": [
    "import numpy as np\n",
    "import scipy\n",
    "import pandas as pd\n",
    "import math\n",
    "import random\n",
    "import sklearn\n",
    "from nltk.corpus import stopwords\n",
    "from scipy.sparse import csr_matrix\n",
    "from sklearn.model_selection import train_test_split\n",
    "from sklearn.feature_extraction.text import TfidfVectorizer\n",
    "from sklearn.metrics.pairwise import cosine_similarity\n",
    "from scipy.sparse.linalg import svds\n",
    "from sklearn.preprocessing import MinMaxScaler\n",
    "import matplotlib.pyplot as plt"
   ]
  },
  {
   "cell_type": "markdown",
   "id": "73b887e7-78e3-477f-b137-cd59a20e5098",
   "metadata": {},
   "source": [
    "### Approach 2"
   ]
  },
  {
   "cell_type": "code",
   "execution_count": 15,
   "id": "b6d4fa6a-36c1-4bf5-b76f-947609af3d88",
   "metadata": {},
   "outputs": [],
   "source": [
    "# we will pivot the dataset such that the readers are on the rows and the columns will be the books\n",
    "# each value in the pivot table will consist of the rating that user has provided for that book\n",
    "pt_df = df.pivot_table(\n",
    "    columns = 'book_id', \n",
    "    index = 'author_id', \n",
    "    values = 'book_rating'\n",
    ").fillna(0)"
   ]
  },
  {
   "cell_type": "code",
   "execution_count": 16,
   "id": "08f27386-8b83-46c8-b029-73c6d412b5c0",
   "metadata": {},
   "outputs": [],
   "source": [
    "mat = pt_df.values"
   ]
  },
  {
   "cell_type": "code",
   "execution_count": 17,
   "id": "bda32e9e-4fb8-4cfc-8529-8e7052798909",
   "metadata": {},
   "outputs": [],
   "source": [
    "mat = csr_matrix(mat)"
   ]
  },
  {
   "cell_type": "code",
   "execution_count": 18,
   "id": "b130aeec-d01b-40bc-8610-7a4a76e82ed1",
   "metadata": {},
   "outputs": [
    {
     "data": {
      "text/plain": [
       "[1, 2, 3, 4, 5, 6, 7, 8, 9, 10]"
      ]
     },
     "execution_count": 18,
     "metadata": {},
     "output_type": "execute_result"
    }
   ],
   "source": [
    "users_ids = list(pt_df.index)\n",
    "users_ids[:10]"
   ]
  },
  {
   "cell_type": "code",
   "execution_count": 19,
   "id": "eed6f606-205d-4300-8672-1456f542e97d",
   "metadata": {},
   "outputs": [],
   "source": [
    "#The number of factors to factor the user-item matrix.\n",
    "NUMBER_OF_FACTORS_MF = 15\n",
    "#Performs matrix factorization of the original user item matrix\n",
    "U, sigma, Vt = svds(mat, k = NUMBER_OF_FACTORS_MF)"
   ]
  },
  {
   "cell_type": "code",
   "execution_count": 20,
   "id": "8d66882a-79e4-4ffc-866c-e121e222d45f",
   "metadata": {},
   "outputs": [
    {
     "data": {
      "text/plain": [
       "(450, 15)"
      ]
     },
     "execution_count": 20,
     "metadata": {},
     "output_type": "execute_result"
    }
   ],
   "source": [
    "U.shape"
   ]
  },
  {
   "cell_type": "code",
   "execution_count": 21,
   "id": "3b854d54-5072-4952-8b1a-c06fba246db4",
   "metadata": {},
   "outputs": [
    {
     "data": {
      "text/plain": [
       "(15, 15)"
      ]
     },
     "execution_count": 21,
     "metadata": {},
     "output_type": "execute_result"
    }
   ],
   "source": [
    "sigma = np.diag(sigma)\n",
    "sigma.shape"
   ]
  },
  {
   "cell_type": "code",
   "execution_count": 22,
   "id": "f3111aff-827d-42e0-9341-390cbce487be",
   "metadata": {},
   "outputs": [
    {
     "data": {
      "text/plain": [
       "(15, 3000)"
      ]
     },
     "execution_count": 22,
     "metadata": {},
     "output_type": "execute_result"
    }
   ],
   "source": [
    "Vt.shape"
   ]
  },
  {
   "cell_type": "code",
   "execution_count": 23,
   "id": "14dd466e-6fc6-4b1f-a261-f50f5f8d4a04",
   "metadata": {},
   "outputs": [
    {
     "data": {
      "text/plain": [
       "array([[ 6.43742092e-01, -7.54639768e-02,  7.38403163e-02, ...,\n",
       "         2.11190768e-01,  6.58350934e-01,  3.99074880e-01],\n",
       "       [ 6.79534929e-01,  4.71032402e-01,  1.89129106e-01, ...,\n",
       "         7.33608225e-01,  2.29125244e-01,  5.22129066e-01],\n",
       "       [ 1.67325863e-01,  2.46421761e-01,  8.70571741e-01, ...,\n",
       "         6.32495512e-01,  6.21927457e-01,  5.55995590e-01],\n",
       "       ...,\n",
       "       [ 4.86659935e-01, -3.73243117e-02, -6.69284325e-01, ...,\n",
       "         5.30717906e-04,  1.49756732e+00,  4.22877184e-01],\n",
       "       [ 6.87560573e-01,  9.10996433e-03,  1.80066892e-01, ...,\n",
       "         2.85722805e-01,  3.03105142e-01,  3.18669987e-01],\n",
       "       [ 8.27202375e-01,  8.39761622e-01,  5.52377780e-01, ...,\n",
       "         2.52764945e-01, -1.26726447e-01,  4.86223771e-01]])"
      ]
     },
     "execution_count": 23,
     "metadata": {},
     "output_type": "execute_result"
    }
   ],
   "source": [
    "all_user_predicted_ratings = np.dot(np.dot(U, sigma), Vt) \n",
    "all_user_predicted_ratings"
   ]
  },
  {
   "cell_type": "code",
   "execution_count": 24,
   "id": "df298002-775e-4adf-a415-d1c70c2de81e",
   "metadata": {},
   "outputs": [],
   "source": [
    "usr_ratings_norm = (all_user_predicted_ratings - all_user_predicted_ratings.min()) / (all_user_predicted_ratings.max() - all_user_predicted_ratings.min())"
   ]
  },
  {
   "cell_type": "code",
   "execution_count": 25,
   "id": "eb257b32-de27-426c-8a14-a99e26aa976c",
   "metadata": {},
   "outputs": [],
   "source": [
    "#Converting the reconstructed matrix back to a Pandas dataframe\n",
    "cf_preds_df = pd.DataFrame(usr_ratings_norm, columns = pt_df.columns, index=users_ids).transpose()\n",
    "# cf_preds_df.head(10)"
   ]
  },
  {
   "cell_type": "code",
   "execution_count": 26,
   "id": "06149cf9-af99-4d3f-94e8-33c04ab97433",
   "metadata": {},
   "outputs": [],
   "source": [
    "class CFRecommender:\n",
    "    \n",
    "    MODEL_NAME = 'Collaborative Filtering'\n",
    "    \n",
    "    def __init__(self, cf_predictions_df, items_df=None):\n",
    "        self.cf_predictions_df = cf_predictions_df\n",
    "        self.items_df = items_df\n",
    "        \n",
    "    def get_model_name(self):\n",
    "        return self.MODEL_NAME\n",
    "        \n",
    "    def recommend_items(self, user_id, items_to_ignore=[], topn=10, verbose=False):\n",
    "        # Get and sort the user's predictions\n",
    "        sorted_user_predictions = self.cf_predictions_df[user_id].sort_values(ascending=False) \\\n",
    "                                    .reset_index().rename(columns={user_id: 'recStrength'})\n",
    "\n",
    "        # Recommend the highest predicted rating movies that the user hasn't seen yet.\n",
    "        recommendations_df = sorted_user_predictions[~sorted_user_predictions['book_id'].isin(items_to_ignore)] \\\n",
    "                               .sort_values('recStrength', ascending = False) \\\n",
    "                               .head(topn)\n",
    "\n",
    "        if verbose:\n",
    "            if self.items_df is None:\n",
    "                raise Exception('\"items_df\" is required in verbose mode')\n",
    "\n",
    "            recommendations_df = recommendations_df.merge(self.items_df, how = 'left', \n",
    "                                                          left_on = 'book_id', \n",
    "                                                          right_on = 'book_id')[['recStrength', 'book_id']]\n",
    "\n",
    "\n",
    "        return recommendations_df\n",
    "    \n",
    "cf_recommender_model = CFRecommender(cf_preds_df, df)\n"
   ]
  },
  {
   "cell_type": "code",
   "execution_count": 27,
   "id": "40d848d8-83c9-4f70-b92d-fdd57db1ba03",
   "metadata": {},
   "outputs": [
    {
     "data": {
      "text/html": [
       "<div>\n",
       "<style scoped>\n",
       "    .dataframe tbody tr th:only-of-type {\n",
       "        vertical-align: middle;\n",
       "    }\n",
       "\n",
       "    .dataframe tbody tr th {\n",
       "        vertical-align: top;\n",
       "    }\n",
       "\n",
       "    .dataframe thead th {\n",
       "        text-align: right;\n",
       "    }\n",
       "</style>\n",
       "<table border=\"1\" class=\"dataframe\">\n",
       "  <thead>\n",
       "    <tr style=\"text-align: right;\">\n",
       "      <th></th>\n",
       "      <th>book_id</th>\n",
       "      <th>recStrength</th>\n",
       "    </tr>\n",
       "  </thead>\n",
       "  <tbody>\n",
       "    <tr>\n",
       "      <th>0</th>\n",
       "      <td>2887</td>\n",
       "      <td>0.558143</td>\n",
       "    </tr>\n",
       "    <tr>\n",
       "      <th>1</th>\n",
       "      <td>809</td>\n",
       "      <td>0.515350</td>\n",
       "    </tr>\n",
       "    <tr>\n",
       "      <th>2</th>\n",
       "      <td>1516</td>\n",
       "      <td>0.504145</td>\n",
       "    </tr>\n",
       "    <tr>\n",
       "      <th>3</th>\n",
       "      <td>490</td>\n",
       "      <td>0.498952</td>\n",
       "    </tr>\n",
       "    <tr>\n",
       "      <th>4</th>\n",
       "      <td>360</td>\n",
       "      <td>0.497970</td>\n",
       "    </tr>\n",
       "    <tr>\n",
       "      <th>5</th>\n",
       "      <td>1107</td>\n",
       "      <td>0.495817</td>\n",
       "    </tr>\n",
       "    <tr>\n",
       "      <th>6</th>\n",
       "      <td>2254</td>\n",
       "      <td>0.488178</td>\n",
       "    </tr>\n",
       "    <tr>\n",
       "      <th>7</th>\n",
       "      <td>794</td>\n",
       "      <td>0.479507</td>\n",
       "    </tr>\n",
       "    <tr>\n",
       "      <th>8</th>\n",
       "      <td>1322</td>\n",
       "      <td>0.475991</td>\n",
       "    </tr>\n",
       "    <tr>\n",
       "      <th>9</th>\n",
       "      <td>415</td>\n",
       "      <td>0.475401</td>\n",
       "    </tr>\n",
       "  </tbody>\n",
       "</table>\n",
       "</div>"
      ],
      "text/plain": [
       "   book_id  recStrength\n",
       "0     2887     0.558143\n",
       "1      809     0.515350\n",
       "2     1516     0.504145\n",
       "3      490     0.498952\n",
       "4      360     0.497970\n",
       "5     1107     0.495817\n",
       "6     2254     0.488178\n",
       "7      794     0.479507\n",
       "8     1322     0.475991\n",
       "9      415     0.475401"
      ]
     },
     "execution_count": 27,
     "metadata": {},
     "output_type": "execute_result"
    }
   ],
   "source": [
    "cf_recommender_model.recommend_items(1)"
   ]
  },
  {
   "cell_type": "markdown",
   "id": "6503244d-9200-452e-b3a4-33972e44c7c7",
   "metadata": {},
   "source": [
    "## Recommend"
   ]
  },
  {
   "cell_type": "markdown",
   "id": "b2d0d8fc-984a-482e-aa1a-1e441d7630ed",
   "metadata": {},
   "source": [
    "### Approach 3"
   ]
  },
  {
   "cell_type": "code",
   "execution_count": 28,
   "id": "f6a6bb3c-b0c5-4317-9734-fcb9441acfd8",
   "metadata": {},
   "outputs": [],
   "source": [
    "from sklearn.metrics.pairwise import cosine_similarity"
   ]
  },
  {
   "cell_type": "code",
   "execution_count": null,
   "id": "445f0c34-530d-491b-8289-18c92564e8ed",
   "metadata": {},
   "outputs": [],
   "source": [
    "pt_df = df.pivot_table(\n",
    "    columns = 'book_id', \n",
    "    index = 'author_id', \n",
    "    values = 'book_rating'\n",
    ").fillna(0)"
   ]
  },
  {
   "cell_type": "code",
   "execution_count": 35,
   "id": "c1ab16bd-eefa-4211-a08d-f251e4853260",
   "metadata": {},
   "outputs": [],
   "source": [
    "def find_similar_readers(pt_df, reader_id, n_recs):\n",
    "    '''\n",
    "    This function will find similar readers to the user specified reader_id\n",
    "    '''\n",
    "    \n",
    "    # separate reader of interest & all other readers \n",
    "    reader = pt_df[pt_df.index == reader_id]\n",
    "    other_readers = pt_df[pt_df.index != reader_id]\n",
    "\n",
    "    # get similarity of current reader and all other readers\n",
    "    sim = cosine_similarity(reader, other_readers)[0].tolist()\n",
    "    idx = other_readers.index.tolist()\n",
    "\n",
    "    # create a similarity dictionary for this user w.r.t all other users\n",
    "    idx_sim = dict(zip(idx, sim))\n",
    "    idx_sim = sorted(idx_sim.items(), key=lambda x: x[1], reverse=True)\n",
    "\n",
    "    similar_readers = idx_sim[:k]\n",
    "    readers = [rdr[0] for rdr in similar_readers]\n",
    "\n",
    "    return readers"
   ]
  },
  {
   "cell_type": "code",
   "execution_count": 37,
   "id": "5924cffa-c0e6-47c1-88fd-a22f5fe56d3e",
   "metadata": {},
   "outputs": [
    {
     "data": {
      "text/plain": [
       "[319, 191, 145, 162, 212]"
      ]
     },
     "execution_count": 37,
     "metadata": {},
     "output_type": "execute_result"
    }
   ],
   "source": [
    "find_similar_readers(pt_df = pt_df, reader_id = 226, n_recs = 5)"
   ]
  },
  {
   "cell_type": "code",
   "execution_count": null,
   "id": "3f5b0697-ae48-4f59-ac92-5724d645a385",
   "metadata": {},
   "outputs": [],
   "source": []
  },
  {
   "cell_type": "code",
   "execution_count": null,
   "id": "901f82c6-576f-4430-a3f4-c40dd0f3f9cf",
   "metadata": {},
   "outputs": [],
   "source": []
  },
  {
   "cell_type": "code",
   "execution_count": null,
   "id": "8f936436-e442-442d-87c2-fe7c6e17e44e",
   "metadata": {},
   "outputs": [],
   "source": []
  },
  {
   "cell_type": "code",
   "execution_count": 38,
   "id": "1da176c2-2879-4579-aee2-416677e90441",
   "metadata": {},
   "outputs": [
    {
     "ename": "NameError",
     "evalue": "name 'similar_user_indices' is not defined",
     "output_type": "error",
     "traceback": [
      "\u001b[0;31m---------------------------------------------------------------------------\u001b[0m",
      "\u001b[0;31mNameError\u001b[0m                                 Traceback (most recent call last)",
      "\u001b[0;32m<ipython-input-38-6e883b718afd>\u001b[0m in \u001b[0;36m<module>\u001b[0;34m\u001b[0m\n\u001b[1;32m     32\u001b[0m     \u001b[0;32mreturn\u001b[0m \u001b[0manime_information\u001b[0m \u001b[0;31m#items\u001b[0m\u001b[0;34m\u001b[0m\u001b[0;34m\u001b[0m\u001b[0m\n\u001b[1;32m     33\u001b[0m \u001b[0;31m# try it out\u001b[0m\u001b[0;34m\u001b[0m\u001b[0;34m\u001b[0m\u001b[0;34m\u001b[0m\u001b[0m\n\u001b[0;32m---> 34\u001b[0;31m \u001b[0mrecommend_item\u001b[0m\u001b[0;34m(\u001b[0m\u001b[0;36m206\u001b[0m\u001b[0;34m,\u001b[0m \u001b[0msimilar_user_indices\u001b[0m\u001b[0;34m,\u001b[0m \u001b[0mpt_df\u001b[0m\u001b[0;34m)\u001b[0m\u001b[0;34m\u001b[0m\u001b[0;34m\u001b[0m\u001b[0m\n\u001b[0m",
      "\u001b[0;31mNameError\u001b[0m: name 'similar_user_indices' is not defined"
     ]
    }
   ],
   "source": [
    "def recommend_item(user_index, similar_user_indices, matrix, items=5):\n",
    "    \n",
    "    # load vectors for similar users\n",
    "    similar_users = matrix[matrix.index.isin(similar_user_indices)]\n",
    "    # calc avg ratings across the 3 similar users\n",
    "    similar_users = similar_users.mean(axis=0)\n",
    "    # convert to dataframe so its easy to sort and filter\n",
    "    similar_users_df = pd.DataFrame(similar_users, columns=['mean'])\n",
    "    \n",
    "    \n",
    "    # load vector for the current user\n",
    "    user_df = matrix[matrix.index == user_index]\n",
    "    # transpose it so its easier to filter\n",
    "    user_df_transposed = user_df.transpose()\n",
    "    # rename the column as 'rating'\n",
    "    user_df_transposed.columns = ['rating']\n",
    "    # remove any rows without a 0 value. Anime not watched yet\n",
    "    user_df_transposed = user_df_transposed[user_df_transposed['rating']==0]\n",
    "    # generate a list of animes the user has not seen\n",
    "    animes_unseen = user_df_transposed.index.tolist()\n",
    "    \n",
    "    # filter avg ratings of similar users for only anime the current user has not seen\n",
    "    similar_users_df_filtered = similar_users_df[similar_users_df.index.isin(animes_unseen)]\n",
    "    # order the dataframe\n",
    "    similar_users_df_ordered = similar_users_df.sort_values(by=['mean'], ascending=False)\n",
    "    # grab the top n anime   \n",
    "    top_n_anime = similar_users_df_ordered.head(items)\n",
    "    top_n_anime_indices = top_n_anime.index.tolist()\n",
    "    # lookup these anime in the other dataframe to find names\n",
    "    anime_information = df[df['book_id'].isin(top_n_anime_indices)]\n",
    "    \n",
    "    return anime_information #items\n",
    "# try it out\n",
    "recommend_item(206, similar_user_indices, pt_df)"
   ]
  },
  {
   "cell_type": "code",
   "execution_count": null,
   "id": "34b6b755-6059-4859-8245-ef3bc1155820",
   "metadata": {},
   "outputs": [],
   "source": []
  },
  {
   "cell_type": "code",
   "execution_count": null,
   "id": "7b6eecbf-91cd-414f-818b-54aef4c9e6b8",
   "metadata": {},
   "outputs": [],
   "source": []
  },
  {
   "cell_type": "code",
   "execution_count": null,
   "id": "c07ce956-d3a4-4ef4-a868-cdf0bda4be77",
   "metadata": {},
   "outputs": [],
   "source": []
  },
  {
   "cell_type": "code",
   "execution_count": null,
   "id": "88d78589-1234-4641-a732-3ecaee215d0c",
   "metadata": {},
   "outputs": [],
   "source": []
  },
  {
   "cell_type": "code",
   "execution_count": null,
   "id": "d739a27f-21ae-4f70-9a55-2fe135099414",
   "metadata": {},
   "outputs": [],
   "source": []
  }
 ],
 "metadata": {
  "kernelspec": {
   "display_name": "Python 3",
   "language": "python",
   "name": "python3"
  },
  "language_info": {
   "codemirror_mode": {
    "name": "ipython",
    "version": 3
   },
   "file_extension": ".py",
   "mimetype": "text/x-python",
   "name": "python",
   "nbconvert_exporter": "python",
   "pygments_lexer": "ipython3",
   "version": "3.8.8"
  }
 },
 "nbformat": 4,
 "nbformat_minor": 5
}
