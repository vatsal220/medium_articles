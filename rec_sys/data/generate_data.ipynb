{
 "cells": [
  {
   "cell_type": "markdown",
   "id": "fd1d2b64-5112-478e-a5a9-4d3383de8112",
   "metadata": {},
   "source": [
    "# Generate Data"
   ]
  },
  {
   "cell_type": "code",
   "execution_count": 1,
   "id": "ebac792f-0825-4226-b4ce-b4d87ebfec89",
   "metadata": {},
   "outputs": [],
   "source": [
    "import pandas as pd\n",
    "import numpy as np\n",
    "import random"
   ]
  },
  {
   "cell_type": "code",
   "execution_count": null,
   "id": "b440b32c-93c1-41df-8a93-9208549fed9b",
   "metadata": {},
   "outputs": [],
   "source": [
    "def generate_data():\n",
    "    '''\n",
    "    This function will generate a dataset with features associated to\n",
    "    book data set. The dataset will have the following columns : \n",
    "        - book_uuid (String) : Unique identified for the book\n",
    "        - book_rating (Integer) : A value between 0 and 10, can be NaN for situations when \n",
    "                                  empty users do not rate a book\n",
    "        - reader_uuid (String) : Unique identifier for the user\n",
    "        - book_genre (Integer) : An integer representing a genre for the book, value is between\n",
    "                                 1 and 15, indicating that there are 15 unique genres. Each book\n",
    "                                 can only have 1 genre\n",
    "        - author_uuid (String) : Unique identifier for the author of the book\n",
    "        - num_pages (Integer) : Random value between 70 and 500\n",
    "        - publisher_uuid (String) : A unique identifier for the publisher of the book\n",
    "        - publish_year (Integer) : The year of book publishing\n",
    "        \n",
    "    example:\n",
    "        data = generate_data()\n",
    "    '''\n",
    "    \n",
    "    \n",
    "    return"
   ]
  },
  {
   "cell_type": "code",
   "execution_count": null,
   "id": "1c762ab8-2d56-4eb5-96b0-047a6234538b",
   "metadata": {},
   "outputs": [],
   "source": [
    "def sample_events():\n",
    "    event_types = ['A', 'B', 'C', 'D']\n",
    "    n = 100\n",
    "    d = pd.DataFrame(\n",
    "        {\n",
    "            'artist_id' : [randint(1, 100) for _ in range(n)],\n",
    "            'institution_id' : [randint(101, 110) for _ in range(n)],\n",
    "            'event_year' : [randint(2000, 2020) for _ in range(n)],\n",
    "            'event_type' : [choice(event_types) for _ in range(n)]\n",
    "        }\n",
    "    ).drop_duplicates()\n",
    "    return d"
   ]
  },
  {
   "cell_type": "code",
   "execution_count": null,
   "id": "cd871733-bd23-459e-9a88-14a505086f5a",
   "metadata": {},
   "outputs": [],
   "source": []
  }
 ],
 "metadata": {
  "kernelspec": {
   "display_name": "Python 3",
   "language": "python",
   "name": "python3"
  },
  "language_info": {
   "codemirror_mode": {
    "name": "ipython",
    "version": 3
   },
   "file_extension": ".py",
   "mimetype": "text/x-python",
   "name": "python",
   "nbconvert_exporter": "python",
   "pygments_lexer": "ipython3",
   "version": "3.8.8"
  }
 },
 "nbformat": 4,
 "nbformat_minor": 5
}
