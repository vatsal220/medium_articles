{
 "cells": [
  {
   "cell_type": "markdown",
   "id": "5bbaa6a1-b519-4cd7-afa5-ca1aeceee2d2",
   "metadata": {},
   "source": [
    "# CoFrequency"
   ]
  },
  {
   "cell_type": "code",
   "execution_count": 1,
   "id": "b04a2848-6ac7-4e81-bfeb-b01c50f692c7",
   "metadata": {},
   "outputs": [],
   "source": [
    "import pandas as pd\n",
    "import numpy as np"
   ]
  },
  {
   "cell_type": "code",
   "execution_count": 2,
   "id": "2ec84de8-3d5b-43ff-ae99-dec5680c1f4b",
   "metadata": {},
   "outputs": [],
   "source": [
    "# constants\n",
    "PATH = '../data/data.csv'"
   ]
  },
  {
   "cell_type": "markdown",
   "id": "3720a950-1a03-4c51-a6e7-1d337ee8aa50",
   "metadata": {},
   "source": [
    "## Import Data"
   ]
  },
  {
   "cell_type": "code",
   "execution_count": 4,
   "id": "d5c209fc-2093-40e9-ae51-ea8211b30ab9",
   "metadata": {},
   "outputs": [
    {
     "data": {
      "text/plain": [
       "(300000, 8)"
      ]
     },
     "execution_count": 4,
     "metadata": {},
     "output_type": "execute_result"
    }
   ],
   "source": [
    "df = pd.read_csv(PATH)\n",
    "df.shape"
   ]
  },
  {
   "cell_type": "code",
   "execution_count": 6,
   "id": "98557b94-68f0-4100-a2d0-0e23151bab9e",
   "metadata": {},
   "outputs": [
    {
     "data": {
      "text/html": [
       "<div>\n",
       "<style scoped>\n",
       "    .dataframe tbody tr th:only-of-type {\n",
       "        vertical-align: middle;\n",
       "    }\n",
       "\n",
       "    .dataframe tbody tr th {\n",
       "        vertical-align: top;\n",
       "    }\n",
       "\n",
       "    .dataframe thead th {\n",
       "        text-align: right;\n",
       "    }\n",
       "</style>\n",
       "<table border=\"1\" class=\"dataframe\">\n",
       "  <thead>\n",
       "    <tr style=\"text-align: right;\">\n",
       "      <th></th>\n",
       "      <th>book_id</th>\n",
       "      <th>author_id</th>\n",
       "      <th>book_genre</th>\n",
       "      <th>reader_id</th>\n",
       "      <th>num_pages</th>\n",
       "      <th>book_rating</th>\n",
       "      <th>publisher_id</th>\n",
       "      <th>publish_year</th>\n",
       "    </tr>\n",
       "  </thead>\n",
       "  <tbody>\n",
       "    <tr>\n",
       "      <th>0</th>\n",
       "      <td>1081</td>\n",
       "      <td>35</td>\n",
       "      <td>5</td>\n",
       "      <td>25566</td>\n",
       "      <td>590</td>\n",
       "      <td>8</td>\n",
       "      <td>37</td>\n",
       "      <td>2000</td>\n",
       "    </tr>\n",
       "    <tr>\n",
       "      <th>1</th>\n",
       "      <td>632</td>\n",
       "      <td>66</td>\n",
       "      <td>7</td>\n",
       "      <td>27930</td>\n",
       "      <td>207</td>\n",
       "      <td>2</td>\n",
       "      <td>47</td>\n",
       "      <td>2009</td>\n",
       "    </tr>\n",
       "    <tr>\n",
       "      <th>2</th>\n",
       "      <td>2037</td>\n",
       "      <td>56</td>\n",
       "      <td>6</td>\n",
       "      <td>12930</td>\n",
       "      <td>84</td>\n",
       "      <td>6</td>\n",
       "      <td>39</td>\n",
       "      <td>2003</td>\n",
       "    </tr>\n",
       "    <tr>\n",
       "      <th>3</th>\n",
       "      <td>1771</td>\n",
       "      <td>331</td>\n",
       "      <td>2</td>\n",
       "      <td>23323</td>\n",
       "      <td>382</td>\n",
       "      <td>3</td>\n",
       "      <td>16</td>\n",
       "      <td>2010</td>\n",
       "    </tr>\n",
       "    <tr>\n",
       "      <th>4</th>\n",
       "      <td>960</td>\n",
       "      <td>411</td>\n",
       "      <td>6</td>\n",
       "      <td>25357</td>\n",
       "      <td>274</td>\n",
       "      <td>10</td>\n",
       "      <td>33</td>\n",
       "      <td>2005</td>\n",
       "    </tr>\n",
       "  </tbody>\n",
       "</table>\n",
       "</div>"
      ],
      "text/plain": [
       "   book_id  author_id  book_genre  reader_id  num_pages  book_rating  \\\n",
       "0     1081         35           5      25566        590            8   \n",
       "1      632         66           7      27930        207            2   \n",
       "2     2037         56           6      12930         84            6   \n",
       "3     1771        331           2      23323        382            3   \n",
       "4      960        411           6      25357        274           10   \n",
       "\n",
       "   publisher_id  publish_year  \n",
       "0            37          2000  \n",
       "1            47          2009  \n",
       "2            39          2003  \n",
       "3            16          2010  \n",
       "4            33          2005  "
      ]
     },
     "execution_count": 6,
     "metadata": {},
     "output_type": "execute_result"
    }
   ],
   "source": [
    "df.head()"
   ]
  },
  {
   "cell_type": "markdown",
   "id": "5a8b0999-ef7e-44bc-b709-a695080631a9",
   "metadata": {},
   "source": [
    "## Book Recommendation"
   ]
  },
  {
   "cell_type": "code",
   "execution_count": null,
   "id": "8862f123-3a52-4d77-90fe-7658061cab34",
   "metadata": {},
   "outputs": [],
   "source": [
    "# build a recommendation of a book based on the cofrequency of ratings of other books\n",
    "book = 1081"
   ]
  },
  {
   "cell_type": "code",
   "execution_count": null,
   "id": "fa7a3f12-df95-49e1-930a-e2f82987d130",
   "metadata": {},
   "outputs": [],
   "source": []
  },
  {
   "cell_type": "code",
   "execution_count": null,
   "id": "c3e02986-e3f0-42aa-bde2-a099a02cced8",
   "metadata": {},
   "outputs": [],
   "source": [
    "class Recommender():\n",
    "    def __init__(self, df, book_col):\n",
    "        self.df = df\n",
    "        self.col = book_col\n",
    "        \n",
    "    def normalize(self, dp):\n",
    "        \"\"\"\n",
    "        parameters: dp (list)\n",
    "        normalize datapoints to a certain bound\n",
    "        \"\"\"\n",
    "        min_val=min(dp)\n",
    "        if min_val < 0:\n",
    "            dp = [x + abs(min_val) for x in dp]\n",
    "        max_val = max(dp)\n",
    "        return [x/max_val for x in dp]\n",
    "    \n",
    "    def ohe(self, df, col, new_name):\n",
    "        \"\"\"\n",
    "        One Hot encoding: \n",
    "        Will convert a column in a dataset to multiple columns where each value in the new columns \n",
    "        will be binary correspoding to the dataset    \n",
    "        \"\"\"\n",
    "        ohe_df= pd.get_dummies(df[col])\n",
    "        feature_names = ohe_df.columns\n",
    "        ohe_df.columns= [new_name+'_'+str(x) for x in feature_names]\n",
    "        ohe_df.reset_index(drop=True, inplace=True)\n",
    "        return ohe_df\n",
    "\n",
    "    def cosine_sim(self, v1,v2):\n",
    "        return dot(v1,v2)/(norm(v1)*norm(v2))\n",
    "\n",
    "    def rec(self, df, song_id, n_rec):\n",
    "        \"\"\"\n",
    "        df (dataframe): The dataframe\n",
    "        song_id (string): Representing the song name\n",
    "        n_rec (int): amount of rec user wants\n",
    "        \"\"\"\n",
    "        inputVec = df.loc[song_id].values\n",
    "        df['sim']= df.apply(lambda x: cosine_sim(inputVec,x.values), axis=1)\n",
    "        return df.nlargest(columns='sim',n=n_rec)\n",
    "    "
   ]
  },
  {
   "cell_type": "code",
   "execution_count": null,
   "id": "7762dffe-c4ad-454c-a21f-3a5eb52ef46f",
   "metadata": {},
   "outputs": [],
   "source": []
  },
  {
   "cell_type": "code",
   "execution_count": null,
   "id": "29f547a0-d1d8-432a-a904-197a4a732b8b",
   "metadata": {},
   "outputs": [],
   "source": []
  }
 ],
 "metadata": {
  "kernelspec": {
   "display_name": "Python 3",
   "language": "python",
   "name": "python3"
  },
  "language_info": {
   "codemirror_mode": {
    "name": "ipython",
    "version": 3
   },
   "file_extension": ".py",
   "mimetype": "text/x-python",
   "name": "python",
   "nbconvert_exporter": "python",
   "pygments_lexer": "ipython3",
   "version": "3.8.8"
  }
 },
 "nbformat": 4,
 "nbformat_minor": 5
}
