{
 "cells": [
  {
   "cell_type": "markdown",
   "id": "a92715d1-2ee8-4673-b2ff-339db4c1c3ea",
   "metadata": {},
   "source": [
    "# Hybrid System"
   ]
  },
  {
   "cell_type": "code",
   "execution_count": 67,
   "id": "dd29a8a2-8369-4d73-bded-ccf8f8b9a29b",
   "metadata": {},
   "outputs": [],
   "source": [
    "import pandas as pd\n",
    "import numpy as np\n",
    "\n",
    "from sklearn.metrics.pairwise import cosine_similarity\n",
    "from surprise import SVD, Reader, Dataset, accuracy\n",
    "from surprise.model_selection import train_test_split"
   ]
  },
  {
   "cell_type": "code",
   "execution_count": 2,
   "id": "21c5c24a-65f2-47b8-9de0-9e46296d4f16",
   "metadata": {},
   "outputs": [],
   "source": [
    "# constants\n",
    "PATH = '../data/data.csv'"
   ]
  },
  {
   "cell_type": "markdown",
   "id": "60ae085d-ba1a-4e8b-962e-9ef10ba29d31",
   "metadata": {},
   "source": [
    "## Import Data"
   ]
  },
  {
   "cell_type": "code",
   "execution_count": 3,
   "id": "f8f4e973-a592-4f6a-9e2d-95469fb192bc",
   "metadata": {},
   "outputs": [
    {
     "data": {
      "text/plain": [
       "(100000, 10)"
      ]
     },
     "execution_count": 3,
     "metadata": {},
     "output_type": "execute_result"
    }
   ],
   "source": [
    "df = pd.read_csv(PATH)\n",
    "df.shape"
   ]
  },
  {
   "cell_type": "code",
   "execution_count": 4,
   "id": "d9dce8bc-bc9c-42e6-bb16-6d39be3b0e75",
   "metadata": {},
   "outputs": [
    {
     "data": {
      "text/html": [
       "<div>\n",
       "<style scoped>\n",
       "    .dataframe tbody tr th:only-of-type {\n",
       "        vertical-align: middle;\n",
       "    }\n",
       "\n",
       "    .dataframe tbody tr th {\n",
       "        vertical-align: top;\n",
       "    }\n",
       "\n",
       "    .dataframe thead th {\n",
       "        text-align: right;\n",
       "    }\n",
       "</style>\n",
       "<table border=\"1\" class=\"dataframe\">\n",
       "  <thead>\n",
       "    <tr style=\"text-align: right;\">\n",
       "      <th></th>\n",
       "      <th>book_id</th>\n",
       "      <th>author_id</th>\n",
       "      <th>book_genre</th>\n",
       "      <th>reader_id</th>\n",
       "      <th>num_pages</th>\n",
       "      <th>book_rating</th>\n",
       "      <th>publisher_id</th>\n",
       "      <th>publish_year</th>\n",
       "      <th>book_price</th>\n",
       "      <th>text_lang</th>\n",
       "    </tr>\n",
       "  </thead>\n",
       "  <tbody>\n",
       "    <tr>\n",
       "      <th>0</th>\n",
       "      <td>655</td>\n",
       "      <td>52</td>\n",
       "      <td>4</td>\n",
       "      <td>11482</td>\n",
       "      <td>300</td>\n",
       "      <td>4</td>\n",
       "      <td>8</td>\n",
       "      <td>2012</td>\n",
       "      <td>94</td>\n",
       "      <td>7</td>\n",
       "    </tr>\n",
       "    <tr>\n",
       "      <th>1</th>\n",
       "      <td>2713</td>\n",
       "      <td>90</td>\n",
       "      <td>3</td>\n",
       "      <td>6479</td>\n",
       "      <td>469</td>\n",
       "      <td>1</td>\n",
       "      <td>8</td>\n",
       "      <td>2012</td>\n",
       "      <td>33</td>\n",
       "      <td>5</td>\n",
       "    </tr>\n",
       "    <tr>\n",
       "      <th>2</th>\n",
       "      <td>409</td>\n",
       "      <td>17</td>\n",
       "      <td>2</td>\n",
       "      <td>25472</td>\n",
       "      <td>435</td>\n",
       "      <td>1</td>\n",
       "      <td>12</td>\n",
       "      <td>2001</td>\n",
       "      <td>196</td>\n",
       "      <td>4</td>\n",
       "    </tr>\n",
       "    <tr>\n",
       "      <th>3</th>\n",
       "      <td>1150</td>\n",
       "      <td>234</td>\n",
       "      <td>10</td>\n",
       "      <td>23950</td>\n",
       "      <td>529</td>\n",
       "      <td>2</td>\n",
       "      <td>23</td>\n",
       "      <td>2019</td>\n",
       "      <td>79</td>\n",
       "      <td>2</td>\n",
       "    </tr>\n",
       "    <tr>\n",
       "      <th>4</th>\n",
       "      <td>2424</td>\n",
       "      <td>390</td>\n",
       "      <td>5</td>\n",
       "      <td>13046</td>\n",
       "      <td>395</td>\n",
       "      <td>2</td>\n",
       "      <td>20</td>\n",
       "      <td>2010</td>\n",
       "      <td>200</td>\n",
       "      <td>4</td>\n",
       "    </tr>\n",
       "  </tbody>\n",
       "</table>\n",
       "</div>"
      ],
      "text/plain": [
       "   book_id  author_id  book_genre  reader_id  num_pages  book_rating  \\\n",
       "0      655         52           4      11482        300            4   \n",
       "1     2713         90           3       6479        469            1   \n",
       "2      409         17           2      25472        435            1   \n",
       "3     1150        234          10      23950        529            2   \n",
       "4     2424        390           5      13046        395            2   \n",
       "\n",
       "   publisher_id  publish_year  book_price  text_lang  \n",
       "0             8          2012          94          7  \n",
       "1             8          2012          33          5  \n",
       "2            12          2001         196          4  \n",
       "3            23          2019          79          2  \n",
       "4            20          2010         200          4  "
      ]
     },
     "execution_count": 4,
     "metadata": {},
     "output_type": "execute_result"
    }
   ],
   "source": [
    "df.head()"
   ]
  },
  {
   "cell_type": "markdown",
   "id": "2aa30427-7793-44bc-af2c-20c78fdab629",
   "metadata": {},
   "source": [
    "## Content Based"
   ]
  },
  {
   "cell_type": "code",
   "execution_count": 5,
   "id": "ac72927d-b1ab-42f1-9730-7652b5c10cdf",
   "metadata": {},
   "outputs": [],
   "source": [
    "rmat = df.pivot_table(\n",
    "    columns = 'book_id',\n",
    "    index = 'reader_id',\n",
    "    values = 'book_rating'\n",
    ").fillna(0)"
   ]
  },
  {
   "cell_type": "code",
   "execution_count": 6,
   "id": "1ae986af-9331-4ab1-bd9a-e4fc9aea4492",
   "metadata": {},
   "outputs": [
    {
     "name": "stdout",
     "output_type": "stream",
     "text": [
      "CPU times: user 6min 12s, sys: 1min 38s, total: 7min 50s\n",
      "Wall time: 1min 36s\n"
     ]
    }
   ],
   "source": [
    "%%time\n",
    "#Compute the cosine similarity matrix \n",
    "cosine_sim = cosine_similarity(rmat, rmat)\n",
    "cosine_sim = pd.DataFrame(cosine_sim, index=rmat.index, columns=rmat.index)"
   ]
  },
  {
   "cell_type": "markdown",
   "id": "53695272-f22b-4d38-be4b-ebe83109676d",
   "metadata": {},
   "source": [
    "## Collaborative Filtering"
   ]
  },
  {
   "cell_type": "code",
   "execution_count": 8,
   "id": "09f01d35-3555-4b07-96fe-d7eae0076700",
   "metadata": {},
   "outputs": [],
   "source": [
    "reader = Reader()\n",
    "data = Dataset.load_from_df(df[['reader_id', 'book_id', 'book_rating']], reader)"
   ]
  },
  {
   "cell_type": "code",
   "execution_count": 9,
   "id": "6b26da98-8d0c-47c6-9522-2c288fa3a11f",
   "metadata": {},
   "outputs": [],
   "source": [
    "# split data into train test\n",
    "trainset, testset = train_test_split(data, test_size=0.3,random_state=10)"
   ]
  },
  {
   "cell_type": "code",
   "execution_count": 10,
   "id": "953c2da7-cc57-48d9-9e32-ce25f4386de3",
   "metadata": {},
   "outputs": [
    {
     "data": {
      "text/plain": [
       "<surprise.prediction_algorithms.matrix_factorization.SVD at 0x7fae082a17f0>"
      ]
     },
     "execution_count": 10,
     "metadata": {},
     "output_type": "execute_result"
    }
   ],
   "source": [
    "# train\n",
    "svd = SVD()\n",
    "svd.fit(trainset)"
   ]
  },
  {
   "cell_type": "code",
   "execution_count": 65,
   "id": "b65fc7b6-3cdd-495c-a90c-6dafd6b7efee",
   "metadata": {},
   "outputs": [],
   "source": [
    "# run the trained model against the testset\n",
    "test_pred = svd.test(testset)"
   ]
  },
  {
   "cell_type": "code",
   "execution_count": 68,
   "id": "8d0a48d1-c03f-4520-ac29-9edf60c33fbf",
   "metadata": {},
   "outputs": [
    {
     "name": "stdout",
     "output_type": "stream",
     "text": [
      "RMSE: 2.9300\n"
     ]
    },
    {
     "data": {
      "text/plain": [
       "2.9299770991365213"
      ]
     },
     "execution_count": 68,
     "metadata": {},
     "output_type": "execute_result"
    }
   ],
   "source": [
    "# get RMSE\n",
    "accuracy.rmse(test_pred, verbose=True)"
   ]
  },
  {
   "cell_type": "markdown",
   "id": "678850e8-51cd-4e9d-bbb8-bd74184da8e0",
   "metadata": {},
   "source": [
    "## Hybrid"
   ]
  },
  {
   "cell_type": "code",
   "execution_count": 56,
   "id": "108e3c98-4b33-4c6d-a50b-387ed41929f6",
   "metadata": {},
   "outputs": [],
   "source": [
    "def hybrid(reader_id, book_id, n_recs, df, cosine_sim, svd_model = svd):\n",
    "    '''\n",
    "    This function represents a hybrid recommendation system, it will have the following flow:\n",
    "        1. Use a content-based model (cosine_similarity) to compute the 50 most similar books\n",
    "        2. Compute the predicted ratings that the user might give these 50 books using a collaborative\n",
    "           filtering model (SVD)\n",
    "        3. Return the top n books with the highest predicted rating\n",
    "        \n",
    "    params:\n",
    "        reader_id (Integer) : The reader_id \n",
    "        book_id (Integer) : The book_id \n",
    "        n_recs (Integer) : The number of recommendations you want\n",
    "        df (DataFrame) : Original dataframe with all book information \n",
    "        cosine_sim (DataFrame) : The cosine similarity dataframe\n",
    "        svd_model (Model) : SVD model\n",
    "    '''\n",
    "    \n",
    "    # sort similarity values in decreasing order and take top 50 results\n",
    "    sim = list(enumerate(cosine_sim[int(book_id)]))\n",
    "    sim = sorted(sim, key=lambda x: x[1], reverse=True)\n",
    "    sim = sim[1:50]\n",
    "    \n",
    "    # get book metadata\n",
    "    book_idx = [i[0] for i in sim]\n",
    "    books = df.iloc[book_idx][['book_id', 'book_rating', 'num_pages', 'publish_year', 'book_price', 'reader_id']]\n",
    "    \n",
    "    # predict using the svd_model\n",
    "    books['est'] = books.apply(lambda x: svd_model.predict(reader_id, x['book_id'], x['book_rating']).est, axis = 1)\n",
    "    \n",
    "    # sort predictions in decreasing order and return top n_recs\n",
    "    books = books.sort_values('est', ascending=False)\n",
    "    return books.head(n_recs)"
   ]
  },
  {
   "cell_type": "code",
   "execution_count": 72,
   "id": "fb8939c8-ce0a-404a-8298-623f249705ac",
   "metadata": {},
   "outputs": [
    {
     "data": {
      "text/html": [
       "<div>\n",
       "<style scoped>\n",
       "    .dataframe tbody tr th:only-of-type {\n",
       "        vertical-align: middle;\n",
       "    }\n",
       "\n",
       "    .dataframe tbody tr th {\n",
       "        vertical-align: top;\n",
       "    }\n",
       "\n",
       "    .dataframe thead th {\n",
       "        text-align: right;\n",
       "    }\n",
       "</style>\n",
       "<table border=\"1\" class=\"dataframe\">\n",
       "  <thead>\n",
       "    <tr style=\"text-align: right;\">\n",
       "      <th></th>\n",
       "      <th>book_id</th>\n",
       "      <th>book_rating</th>\n",
       "      <th>num_pages</th>\n",
       "      <th>publish_year</th>\n",
       "      <th>book_price</th>\n",
       "      <th>reader_id</th>\n",
       "      <th>est</th>\n",
       "    </tr>\n",
       "  </thead>\n",
       "  <tbody>\n",
       "    <tr>\n",
       "      <th>24451</th>\n",
       "      <td>2306</td>\n",
       "      <td>5</td>\n",
       "      <td>276</td>\n",
       "      <td>2011</td>\n",
       "      <td>67</td>\n",
       "      <td>8187</td>\n",
       "      <td>5.0</td>\n",
       "    </tr>\n",
       "    <tr>\n",
       "      <th>28108</th>\n",
       "      <td>2419</td>\n",
       "      <td>2</td>\n",
       "      <td>548</td>\n",
       "      <td>2011</td>\n",
       "      <td>126</td>\n",
       "      <td>5865</td>\n",
       "      <td>5.0</td>\n",
       "    </tr>\n",
       "    <tr>\n",
       "      <th>10646</th>\n",
       "      <td>2328</td>\n",
       "      <td>8</td>\n",
       "      <td>594</td>\n",
       "      <td>2002</td>\n",
       "      <td>12</td>\n",
       "      <td>22890</td>\n",
       "      <td>5.0</td>\n",
       "    </tr>\n",
       "    <tr>\n",
       "      <th>13206</th>\n",
       "      <td>829</td>\n",
       "      <td>3</td>\n",
       "      <td>96</td>\n",
       "      <td>2004</td>\n",
       "      <td>195</td>\n",
       "      <td>8629</td>\n",
       "      <td>5.0</td>\n",
       "    </tr>\n",
       "    <tr>\n",
       "      <th>20887</th>\n",
       "      <td>2880</td>\n",
       "      <td>8</td>\n",
       "      <td>83</td>\n",
       "      <td>2013</td>\n",
       "      <td>82</td>\n",
       "      <td>28214</td>\n",
       "      <td>5.0</td>\n",
       "    </tr>\n",
       "  </tbody>\n",
       "</table>\n",
       "</div>"
      ],
      "text/plain": [
       "       book_id  book_rating  num_pages  publish_year  book_price  reader_id  \\\n",
       "24451     2306            5        276          2011          67       8187   \n",
       "28108     2419            2        548          2011         126       5865   \n",
       "10646     2328            8        594          2002          12      22890   \n",
       "13206      829            3         96          2004         195       8629   \n",
       "20887     2880            8         83          2013          82      28214   \n",
       "\n",
       "       est  \n",
       "24451  5.0  \n",
       "28108  5.0  \n",
       "10646  5.0  \n",
       "13206  5.0  \n",
       "20887  5.0  "
      ]
     },
     "execution_count": 72,
     "metadata": {},
     "output_type": "execute_result"
    }
   ],
   "source": [
    "hybrid(234,4539,5)"
   ]
  },
  {
   "cell_type": "code",
   "execution_count": null,
   "id": "ed05389f-dcf5-4ada-a8ec-6122f8c179b6",
   "metadata": {},
   "outputs": [],
   "source": []
  }
 ],
 "metadata": {
  "kernelspec": {
   "display_name": "Python 3",
   "language": "python",
   "name": "python3"
  },
  "language_info": {
   "codemirror_mode": {
    "name": "ipython",
    "version": 3
   },
   "file_extension": ".py",
   "mimetype": "text/x-python",
   "name": "python",
   "nbconvert_exporter": "python",
   "pygments_lexer": "ipython3",
   "version": "3.8.8"
  }
 },
 "nbformat": 4,
 "nbformat_minor": 5
}
