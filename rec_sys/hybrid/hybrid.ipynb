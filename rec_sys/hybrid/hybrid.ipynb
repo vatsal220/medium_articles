{
 "cells": [
  {
   "cell_type": "markdown",
   "id": "a92715d1-2ee8-4673-b2ff-339db4c1c3ea",
   "metadata": {},
   "source": [
    "# Hybrid System"
   ]
  },
  {
   "cell_type": "code",
   "execution_count": 1,
   "id": "dd29a8a2-8369-4d73-bded-ccf8f8b9a29b",
   "metadata": {},
   "outputs": [],
   "source": [
    "import pandas as pd\n",
    "import numpy as np\n",
    "# from numpy import dot\n",
    "# from numpy.linalg import norm "
   ]
  },
  {
   "cell_type": "code",
   "execution_count": 2,
   "id": "21c5c24a-65f2-47b8-9de0-9e46296d4f16",
   "metadata": {},
   "outputs": [],
   "source": [
    "# constants\n",
    "PATH = '../data/data.csv'"
   ]
  },
  {
   "cell_type": "markdown",
   "id": "60ae085d-ba1a-4e8b-962e-9ef10ba29d31",
   "metadata": {},
   "source": [
    "## Import Data"
   ]
  },
  {
   "cell_type": "code",
   "execution_count": 3,
   "id": "f8f4e973-a592-4f6a-9e2d-95469fb192bc",
   "metadata": {},
   "outputs": [
    {
     "data": {
      "text/plain": [
       "(300000, 9)"
      ]
     },
     "execution_count": 3,
     "metadata": {},
     "output_type": "execute_result"
    }
   ],
   "source": [
    "df = pd.read_csv(PATH)\n",
    "df.shape"
   ]
  },
  {
   "cell_type": "code",
   "execution_count": 4,
   "id": "d9dce8bc-bc9c-42e6-bb16-6d39be3b0e75",
   "metadata": {},
   "outputs": [
    {
     "data": {
      "text/html": [
       "<div>\n",
       "<style scoped>\n",
       "    .dataframe tbody tr th:only-of-type {\n",
       "        vertical-align: middle;\n",
       "    }\n",
       "\n",
       "    .dataframe tbody tr th {\n",
       "        vertical-align: top;\n",
       "    }\n",
       "\n",
       "    .dataframe thead th {\n",
       "        text-align: right;\n",
       "    }\n",
       "</style>\n",
       "<table border=\"1\" class=\"dataframe\">\n",
       "  <thead>\n",
       "    <tr style=\"text-align: right;\">\n",
       "      <th></th>\n",
       "      <th>book_id</th>\n",
       "      <th>author_id</th>\n",
       "      <th>book_genre</th>\n",
       "      <th>reader_id</th>\n",
       "      <th>num_pages</th>\n",
       "      <th>book_rating</th>\n",
       "      <th>publisher_id</th>\n",
       "      <th>publish_year</th>\n",
       "      <th>book_price</th>\n",
       "    </tr>\n",
       "  </thead>\n",
       "  <tbody>\n",
       "    <tr>\n",
       "      <th>0</th>\n",
       "      <td>45</td>\n",
       "      <td>446</td>\n",
       "      <td>2</td>\n",
       "      <td>2272</td>\n",
       "      <td>553</td>\n",
       "      <td>4</td>\n",
       "      <td>10</td>\n",
       "      <td>2004</td>\n",
       "      <td>23</td>\n",
       "    </tr>\n",
       "    <tr>\n",
       "      <th>1</th>\n",
       "      <td>2413</td>\n",
       "      <td>23</td>\n",
       "      <td>7</td>\n",
       "      <td>3515</td>\n",
       "      <td>318</td>\n",
       "      <td>2</td>\n",
       "      <td>38</td>\n",
       "      <td>2015</td>\n",
       "      <td>15</td>\n",
       "    </tr>\n",
       "    <tr>\n",
       "      <th>2</th>\n",
       "      <td>2095</td>\n",
       "      <td>431</td>\n",
       "      <td>8</td>\n",
       "      <td>18547</td>\n",
       "      <td>208</td>\n",
       "      <td>3</td>\n",
       "      <td>48</td>\n",
       "      <td>2000</td>\n",
       "      <td>23</td>\n",
       "    </tr>\n",
       "    <tr>\n",
       "      <th>3</th>\n",
       "      <td>2431</td>\n",
       "      <td>211</td>\n",
       "      <td>4</td>\n",
       "      <td>19675</td>\n",
       "      <td>340</td>\n",
       "      <td>10</td>\n",
       "      <td>34</td>\n",
       "      <td>2000</td>\n",
       "      <td>117</td>\n",
       "    </tr>\n",
       "    <tr>\n",
       "      <th>4</th>\n",
       "      <td>2871</td>\n",
       "      <td>78</td>\n",
       "      <td>3</td>\n",
       "      <td>23453</td>\n",
       "      <td>610</td>\n",
       "      <td>2</td>\n",
       "      <td>24</td>\n",
       "      <td>2012</td>\n",
       "      <td>111</td>\n",
       "    </tr>\n",
       "  </tbody>\n",
       "</table>\n",
       "</div>"
      ],
      "text/plain": [
       "   book_id  author_id  book_genre  reader_id  num_pages  book_rating  \\\n",
       "0       45        446           2       2272        553            4   \n",
       "1     2413         23           7       3515        318            2   \n",
       "2     2095        431           8      18547        208            3   \n",
       "3     2431        211           4      19675        340           10   \n",
       "4     2871         78           3      23453        610            2   \n",
       "\n",
       "   publisher_id  publish_year  book_price  \n",
       "0            10          2004          23  \n",
       "1            38          2015          15  \n",
       "2            48          2000          23  \n",
       "3            34          2000         117  \n",
       "4            24          2012         111  "
      ]
     },
     "execution_count": 4,
     "metadata": {},
     "output_type": "execute_result"
    }
   ],
   "source": [
    "df.head()"
   ]
  },
  {
   "cell_type": "code",
   "execution_count": null,
   "id": "083fb85c-d464-47d0-90f2-a4da97af79ed",
   "metadata": {},
   "outputs": [],
   "source": []
  },
  {
   "cell_type": "code",
   "execution_count": null,
   "id": "ac72927d-b1ab-42f1-9730-7652b5c10cdf",
   "metadata": {},
   "outputs": [],
   "source": []
  },
  {
   "cell_type": "code",
   "execution_count": null,
   "id": "1ae986af-9331-4ab1-bd9a-e4fc9aea4492",
   "metadata": {},
   "outputs": [],
   "source": []
  },
  {
   "cell_type": "code",
   "execution_count": null,
   "id": "e1b64468-f520-41ea-ae15-7f5923ffab51",
   "metadata": {},
   "outputs": [],
   "source": []
  },
  {
   "cell_type": "code",
   "execution_count": null,
   "id": "85c41fb1-f8b7-47aa-88b3-6919bfbb05cb",
   "metadata": {},
   "outputs": [],
   "source": []
  }
 ],
 "metadata": {
  "kernelspec": {
   "display_name": "Python 3",
   "language": "python",
   "name": "python3"
  },
  "language_info": {
   "codemirror_mode": {
    "name": "ipython",
    "version": 3
   },
   "file_extension": ".py",
   "mimetype": "text/x-python",
   "name": "python",
   "nbconvert_exporter": "python",
   "pygments_lexer": "ipython3",
   "version": "3.8.8"
  }
 },
 "nbformat": 4,
 "nbformat_minor": 5
}
