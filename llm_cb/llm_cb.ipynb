{
 "cells": [
  {
   "cell_type": "markdown",
   "id": "efdb1e13-a7b7-47c9-a55a-8466bfabec9d",
   "metadata": {},
   "source": [
    "# LLama LLM"
   ]
  },
  {
   "cell_type": "markdown",
   "id": "91841c29-797b-48de-b027-289e00c09c37",
   "metadata": {},
   "source": [
    "## Download Model\n",
    "[LLama2 - HuggingFace](https://huggingface.co/TheBloke/Llama-2-7B-Chat-GGML/blob/main/llama-2-7b-chat.ggmlv3.q4_0.bin)"
   ]
  },
  {
   "cell_type": "code",
   "execution_count": null,
   "id": "f82e15a8-b74e-4316-ae74-c251e5a1cb53",
   "metadata": {},
   "outputs": [],
   "source": []
  },
  {
   "cell_type": "code",
   "execution_count": null,
   "id": "48dbbe64-4291-43db-afc8-138388970d59",
   "metadata": {},
   "outputs": [],
   "source": []
  },
  {
   "cell_type": "code",
   "execution_count": null,
   "id": "f4b3dff6-eaeb-4913-b9eb-3685ed0e35e3",
   "metadata": {},
   "outputs": [],
   "source": []
  },
  {
   "cell_type": "markdown",
   "id": "6a94c1df-d830-4590-ba1d-e0604e7de0bb",
   "metadata": {},
   "source": [
    "## Load Model"
   ]
  },
  {
   "cell_type": "code",
   "execution_count": null,
   "id": "653bdfc0-fc45-4b42-984f-8f020dabce44",
   "metadata": {},
   "outputs": [],
   "source": []
  },
  {
   "cell_type": "code",
   "execution_count": null,
   "id": "f333cf7f-2316-409d-9704-36321cf20bf3",
   "metadata": {},
   "outputs": [],
   "source": []
  },
  {
   "cell_type": "markdown",
   "id": "0cdf25f7-2834-49a3-9955-98eb2b1c35ca",
   "metadata": {},
   "source": [
    "## Prompt Engineering"
   ]
  },
  {
   "cell_type": "code",
   "execution_count": null,
   "id": "11dc82ae-ac95-460f-9bd3-d8f20c58b52b",
   "metadata": {},
   "outputs": [],
   "source": []
  },
  {
   "cell_type": "code",
   "execution_count": null,
   "id": "74d01cfb-3a58-4943-8ceb-60cbef62c540",
   "metadata": {},
   "outputs": [],
   "source": []
  },
  {
   "cell_type": "code",
   "execution_count": null,
   "id": "5ee25d2d-f72e-416e-852b-48e144bee782",
   "metadata": {},
   "outputs": [],
   "source": []
  }
 ],
 "metadata": {
  "kernelspec": {
   "display_name": "Python 3 (ipykernel)",
   "language": "python",
   "name": "python3"
  },
  "language_info": {
   "codemirror_mode": {
    "name": "ipython",
    "version": 3
   },
   "file_extension": ".py",
   "mimetype": "text/x-python",
   "name": "python",
   "nbconvert_exporter": "python",
   "pygments_lexer": "ipython3",
   "version": "3.10.0"
  }
 },
 "nbformat": 4,
 "nbformat_minor": 5
}
