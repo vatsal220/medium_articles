{
 "cells": [
  {
   "cell_type": "markdown",
   "id": "1f38f295-486a-4984-99e0-4b8bba882256",
   "metadata": {},
   "source": [
    "# Graph Summarizer"
   ]
  },
  {
   "cell_type": "markdown",
   "id": "108d3b11-1de2-4743-b240-7d585bf384db",
   "metadata": {},
   "source": [
    "Install the Jaro package through the following command:  \n",
    "`!pip install jaro-winkler`  \n",
    "You can reference the installation documentation [here](https://pypi.org/project/jaro-winkler/)"
   ]
  },
  {
   "cell_type": "code",
   "execution_count": 1,
   "id": "0cc14edd-c3ce-41c9-b482-caa85d1c2155",
   "metadata": {},
   "outputs": [],
   "source": [
    "import networkx as nx\n",
    "import numpy as np\n",
    "import nltk\n",
    "import jaro\n",
    "\n",
    "try:\n",
    "    from nltk.corpus import stopwords\n",
    "except:\n",
    "    import nltk\n",
    "    nltk.download('stopwords')\n",
    "finally:\n",
    "    from nltk.corpus import stopwords"
   ]
  },
  {
   "cell_type": "code",
   "execution_count": 25,
   "id": "19531579-4001-4663-8442-a056cb0b6bc4",
   "metadata": {},
   "outputs": [],
   "source": [
    "# constants\n",
    "sw = list(set(stopwords.words('english')))\n",
    "punct = [\n",
    "    '!','#','$','%','&','(',')','*',\n",
    "    '+',',','-','/',':',';','<','=','>','@',\n",
    "    '[','\\\\',']','^','_','`','{','|','}','~'\n",
    "]"
   ]
  },
  {
   "cell_type": "markdown",
   "id": "1e0b0c21-6222-4c3d-a7da-afbf14200931",
   "metadata": {},
   "source": [
    "## Load Text"
   ]
  },
  {
   "cell_type": "markdown",
   "id": "2ba91386-65e0-4cb4-a8c3-d69c8251a919",
   "metadata": {},
   "source": [
    "I've set up this tutorial in a manner that any body of text can be input to the pipeline. Continue on with this tutorial with the text I've selected or use your own. Below are a set of books you can easily download through the NLTK library and Gutenberg project. All of these books are free to use as they are a part of the public domain."
   ]
  },
  {
   "cell_type": "code",
   "execution_count": 3,
   "id": "e06e000c-4f64-48d2-8a12-2ed1d3dccd4f",
   "metadata": {},
   "outputs": [],
   "source": [
    "# free to use books in the public domain which can be fetched by NTLK and project gutenberg\n",
    "book_choices = [\n",
    "    'austen-emma.txt', 'austen-persuasion.txt', 'austen-sense.txt', 'bible-kjv.txt',\n",
    "    'blake-poems.txt', 'bryant-stories.txt', 'burgess-busterbrown.txt',\n",
    "    'carroll-alice.txt', 'chesterton-ball.txt', 'chesterton-brown.txt',\n",
    "    'chesterton-thursday.txt', 'edgeworth-parents.txt', 'melville-moby_dick.txt',\n",
    "    'milton-paradise.txt', 'shakespeare-caesar.txt', 'shakespeare-hamlet.txt',\n",
    "    'shakespeare-macbeth.txt', 'whitman-leaves.txt'\n",
    "]"
   ]
  },
  {
   "cell_type": "markdown",
   "id": "abd76f5f-98ed-49c4-ada5-927b35ff34b3",
   "metadata": {},
   "source": [
    "For the purposes of this tutorial, I will be using Shakespeare's play on Julius Caesar. Do note that this and all other bodies of text written by William Shakespeare is in the [public domain](https://en.wikipedia.org/wiki/Public_domain), as the bodies of text were created prior to the existence of any copyright restrictions [2]. "
   ]
  },
  {
   "cell_type": "code",
   "execution_count": 4,
   "id": "b791148e-c174-4300-8809-409de62c6d99",
   "metadata": {},
   "outputs": [],
   "source": [
    "try:\n",
    "    book = nltk.corpus.gutenberg.raw('shakespeare-caesar.txt')\n",
    "except:\n",
    "    nltk.download('gutenberg')\n",
    "finally:\n",
    "    book = nltk.corpus.gutenberg.raw('shakespeare-caesar.txt')"
   ]
  },
  {
   "cell_type": "code",
   "execution_count": 28,
   "id": "8a21348b-181d-4042-af20-eb18ffc363ea",
   "metadata": {},
   "outputs": [
    {
     "data": {
      "text/plain": [
       "\"[The Tragedie of Julius Caesar by William Shakespeare 1599]\\n\\n\\nActus Primus. Scoena Prima.\\n\\nEnter Flauius, Murellus, and certaine Commoners ouer the Stage.\\n\\n  Flauius. Hence: home you idle Creatures, get you home:\\nIs this a Holiday? What, know you not\\n(Being Mechanicall) you ought not walke\\nVpon a labouring day, without the signe\\nOf your Profession? Speake, what Trade art thou?\\n  Car. Why Sir, a Carpenter\\n\\n   Mur. Where is thy Leather Apron, and thy Rule?\\nWhat dost thou with thy best Apparrell on?\\nYou sir, what Trade are you?\\n  Cobl. Truely Sir, in respect of a fine Workman, I am\\nbut as you would say, a Cobler\\n\\n   Mur. But what Trade art thou? Answer me directly\\n\\n   Cob. A Trade Sir, that I hope I may vse, with a safe\\nConscience, which is indeed Sir, a Mender of bad soules\\n\\n   Fla. What Trade thou knaue? Thou naughty knaue,\\nwhat Trade?\\n  Cobl. Nay I beseech you Sir, be not out with me: yet\\nif you be out Sir, I can mend you\\n\\n   Mur. What mean'st thou by that? Mend mee, thou\\nsawcy Fellow?\\n  Cob. Why sir, Cobble you\\n\\n   Fla. Thou art a Cobler, art thou?\\n  Cob. Truly sir, all that I liue by, is with the Aule: I\\nmeddle with no Tradesmans matters, nor womens matters;\\nbut withal I am indeed Sir, a Surgeon to old shooes:\\nwhen they are in great danger, I recouer them. As proper\\nmen as euer trod vpon Neats Leather, haue gone vpon\\nmy handy-worke\\n\\n   Fla. But wherefore art not in thy Shop to day?\\nWhy do'st thou leade these men about the streets?\\n  Cob. Truly sir, to weare out their shooes, to get my\\nselfe into more worke. But indeede sir, we make Holyday\\nto see Caesar, and to reioyce in his Triumph\\n\\n   Mur. Wherefore reioyce?\\nWhat Conquest brings he home?\\nWhat Tributaries follow him to Rome,\\nTo grace in Captiue bonds his Chariot Wheeles?\\nYou Blockes, you stones, you worse then senslesse things:\\nO you hard hearts, you cruell men of Rome,\\nKnew you not Pompey many a time and oft?\\nHaue you climb'd vp to Walles and Battlements,\\nTo Towres and Windowes? Yea, to Chimney tops,\\nYour Infan\""
      ]
     },
     "execution_count": 28,
     "metadata": {},
     "output_type": "execute_result"
    }
   ],
   "source": [
    "book[0:2000]"
   ]
  },
  {
   "cell_type": "markdown",
   "id": "97fef574-7477-4f99-8628-9380d20bbdcf",
   "metadata": {},
   "source": [
    "## Clean Text"
   ]
  },
  {
   "cell_type": "code",
   "execution_count": 6,
   "id": "9a8c1082-c1ab-4f2c-89bc-18d8958dd491",
   "metadata": {},
   "outputs": [],
   "source": [
    "def clean_text(text, sw = sw, punct = punct):\n",
    "    '''\n",
    "    This function will clean the input text by lowering, removing certain punctuations, stopwords and \n",
    "    new line tags.\n",
    "    \n",
    "    params:\n",
    "        text (String) : The body of text you want to clean\n",
    "        sw (List) : The list of stopwords you wish to removed from the input text\n",
    "        punct (List) : The slist of punctuations you wish to remove from the input text\n",
    "        \n",
    "    returns:\n",
    "        This function will return the input text after it's cleaned (the output will be a string)\n",
    "    '''\n",
    "    text = text.lower()\n",
    "    article = text.split(' ')\n",
    "    # clean stopwords\n",
    "    article = [x.lstrip().rstrip() for x in article if x not in sw]\n",
    "    article = [x for x in article if x]\n",
    "    article = ' '.join(article)\n",
    "    \n",
    "    # clean punctuations\n",
    "    for pun in punct:\n",
    "        article = article.replace(pun, '')\n",
    "    \n",
    "    article = article.replace(\"[^a-zA-Z]\", \" \").replace('\\r\\n', ' ').replace('\\n', ' ')\n",
    "    return article"
   ]
  },
  {
   "cell_type": "code",
   "execution_count": 7,
   "id": "6898acff-e5c1-4db5-9bd2-618040634957",
   "metadata": {},
   "outputs": [
    {
     "name": "stdout",
     "output_type": "stream",
     "text": [
      "CPU times: user 63.4 ms, sys: 2.07 ms, total: 65.5 ms\n",
      "Wall time: 64.4 ms\n"
     ]
    }
   ],
   "source": [
    "%time cleaned_book = clean_text(book)"
   ]
  },
  {
   "cell_type": "code",
   "execution_count": 8,
   "id": "03741196-f770-40cb-9d26-0bd3d8bbb89e",
   "metadata": {},
   "outputs": [],
   "source": [
    "# get sentences\n",
    "sentences = [x for x in cleaned_book.split('. ') if x not in ['', ' ', '..', '.', '...']]"
   ]
  },
  {
   "cell_type": "code",
   "execution_count": 9,
   "id": "717fae57-06a9-49d6-bad3-eda3343f8262",
   "metadata": {},
   "outputs": [
    {
     "data": {
      "text/plain": [
       "1289"
      ]
     },
     "execution_count": 9,
     "metadata": {},
     "output_type": "execute_result"
    }
   ],
   "source": [
    "len(sentences)"
   ]
  },
  {
   "cell_type": "markdown",
   "id": "1bb73b86-4641-439e-aeee-d1aa8a56e528",
   "metadata": {},
   "source": [
    "## Create Network"
   ]
  },
  {
   "cell_type": "markdown",
   "id": "29ce79bc-455a-40a1-926d-0a10dc073e60",
   "metadata": {},
   "source": [
    "In this section we will create an adjacency matrix through the similarity of various sentences. This adjacency matrix will then allow us to create a weighted network (through NetworkX). Please keep in mind the size of your input body of text, since the similarity matrix needs to assign a score for each pair of sentences it will be an extensive and exhausting process for your computer if your body of text is very large (> 2000 sentences).\n",
    "\n",
    "In the created network, the nodes will be indices associated to the sentences in the book and the edges connecting the sentences will be weighted based on the similarity of a pair of sentences. We can then run the page rank algorithm on that weighted network to identify nodes with a large rank associated to them. \n",
    "\n",
    "At very high level, the intuition behind the page rank algorithm is to identify highly popular nodes through the use of [random walks](https://towardsdatascience.com/random-walks-with-restart-explained-77c3fe216bca). It's a very popular network based algorithm Larry Page and was famously used by Google to rank their web pages in their search enginer results [1]. In the context of our example, page rank will tell us highly influential sentences in the network. We can then take the top N most influential sentences, join them together and return them back to the user in the form of a summary of the original body of text. "
   ]
  },
  {
   "cell_type": "code",
   "execution_count": 10,
   "id": "1c1d1ebb-6fbc-4dae-a540-091f0f5c6e88",
   "metadata": {},
   "outputs": [],
   "source": [
    "def create_similarity_matrix(sentences):\n",
    "    '''\n",
    "    The purpose of this function will be to create an N x N similarity matrix.\n",
    "    N represents the number of sentences and the similarity of a pair of sentences\n",
    "    will be determined through the Jaro-Winkler Score.\n",
    "    \n",
    "    params:\n",
    "        sentences (List -> String) : This is a list of strings you want to create\n",
    "                                     the similarity matrix with.\n",
    "     \n",
    "    returns:\n",
    "        This function will return a square numpy matrix\n",
    "    '''\n",
    "    \n",
    "    # identify sentence similarity matrix with Jaro Winkler score\n",
    "    sentence_length = len(sentences)\n",
    "    sim_mat = np.zeros((sentence_length, sentence_length))\n",
    "\n",
    "    for i in range(sentence_length):\n",
    "        for j in range(sentence_length):\n",
    "            if i != j:\n",
    "                similarity = jaro.jaro_winkler_metric(sentences[i], sentences[j])\n",
    "                sim_mat[i][j] = similarity\n",
    "    return sim_mat"
   ]
  },
  {
   "cell_type": "code",
   "execution_count": 11,
   "id": "e4fff8fe-c678-402f-b4df-2a404257b131",
   "metadata": {},
   "outputs": [
    {
     "name": "stdout",
     "output_type": "stream",
     "text": [
      "CPU times: user 2min 16s, sys: 335 ms, total: 2min 16s\n",
      "Wall time: 2min 16s\n"
     ]
    }
   ],
   "source": [
    "%time sim_mat = create_similarity_matrix(sentences)"
   ]
  },
  {
   "cell_type": "code",
   "execution_count": 12,
   "id": "f97b1946-3825-4939-bae2-d1f072749e4b",
   "metadata": {},
   "outputs": [
    {
     "name": "stdout",
     "output_type": "stream",
     "text": [
      "CPU times: user 2.35 s, sys: 190 ms, total: 2.54 s\n",
      "Wall time: 2.69 s\n"
     ]
    }
   ],
   "source": [
    "%%time \n",
    "# create network\n",
    "G = nx.from_numpy_matrix(sim_mat)"
   ]
  },
  {
   "cell_type": "code",
   "execution_count": 13,
   "id": "609c9cc5-c698-44c9-ac16-502b825eae75",
   "metadata": {},
   "outputs": [
    {
     "name": "stdout",
     "output_type": "stream",
     "text": [
      "Name: \n",
      "Type: Graph\n",
      "Number of nodes: 1289\n",
      "Number of edges: 820222\n",
      "Average degree: 1272.6486\n"
     ]
    }
   ],
   "source": [
    "print(nx.info(G))"
   ]
  },
  {
   "cell_type": "code",
   "execution_count": 14,
   "id": "e62684d3-6dd2-4d2f-8725-50e72fa3ad7f",
   "metadata": {},
   "outputs": [
    {
     "name": "stdout",
     "output_type": "stream",
     "text": [
      "CPU times: user 10.1 s, sys: 955 ms, total: 11.1 s\n",
      "Wall time: 11.8 s\n"
     ]
    }
   ],
   "source": [
    "%%time \n",
    "# calculate page rank scores\n",
    "pr_sentence_similarity = nx.pagerank(G)"
   ]
  },
  {
   "cell_type": "markdown",
   "id": "2961bf55-88c8-49d0-9d6d-e205b8d7673d",
   "metadata": {},
   "source": [
    "The built in page rank function will output a dictionary where the keys are the nodes and the values are the associated page rank score to that node."
   ]
  },
  {
   "cell_type": "code",
   "execution_count": 16,
   "id": "cdabb3ec-467b-435b-ae65-e12a7547b7e3",
   "metadata": {},
   "outputs": [],
   "source": [
    "ranked_sentences = [\n",
    "    (sentences[sent], rank) for sent,rank in sorted(pr_sentence_similarity.items(), key=lambda item: item[1], reverse = True)\n",
    "]"
   ]
  },
  {
   "cell_type": "code",
   "execution_count": 18,
   "id": "56789e21-29b1-4196-b780-5dce5adab828",
   "metadata": {},
   "outputs": [
    {
     "data": {
      "text/plain": [
       "('decius well vrgd thinke meet marke antony well beloud caesar should outliue caesar shall finde him a shrewd contriuer',\n",
       " 0.0008514421863851916)"
      ]
     },
     "execution_count": 18,
     "metadata": {},
     "output_type": "execute_result"
    }
   ],
   "source": [
    "ranked_sentences[0]"
   ]
  },
  {
   "cell_type": "markdown",
   "id": "dcb3aaeb-3843-4c31-8a38-bdf855ebb53e",
   "metadata": {},
   "source": [
    "## Generate Summary"
   ]
  },
  {
   "cell_type": "code",
   "execution_count": 22,
   "id": "c6091b8e-b5c9-4cf3-8c76-1c98bb40ab63",
   "metadata": {},
   "outputs": [],
   "source": [
    "def generate_summary(ranked_sentences, N):\n",
    "    '''\n",
    "    This function will generate the summary given a list of ranked sentences and the\n",
    "    number of sentences the user wants in their summary.\n",
    "    \n",
    "    params:\n",
    "        ranked_sentences (List -> Tuples) : The list of ranked sentences where each\n",
    "                                            element is a tuple, the first value in the\n",
    "                                            tuple is the sentence, the second value is\n",
    "                                            the rank\n",
    "        N (Integer) : The number of sentences the user wants in the summary\n",
    "        \n",
    "    returns:\n",
    "        This function will return a string associated to the summarized ranked_sentences\n",
    "        of a book\n",
    "    '''\n",
    "    summary = '. '.join([sent[0] for sent in ranked_sentences[0:N]])\n",
    "    return summary"
   ]
  },
  {
   "cell_type": "code",
   "execution_count": 36,
   "id": "4c6f66fe-d0d5-4ed4-b1ac-3da7a0fe5252",
   "metadata": {},
   "outputs": [
    {
     "name": "stdout",
     "output_type": "stream",
     "text": [
      "CPU times: user 22 µs, sys: 69 µs, total: 91 µs\n",
      "Wall time: 94.9 µs\n"
     ]
    }
   ],
   "source": [
    "%%time\n",
    "N = 25\n",
    "summary = generate_summary(ranked_sentences, N)"
   ]
  },
  {
   "cell_type": "code",
   "execution_count": 37,
   "id": "35438318-c8d1-418f-afe4-2ab777ae12b0",
   "metadata": {},
   "outputs": [
    {
     "data": {
      "text/plain": [
       "'decius well vrgd thinke meet marke antony well beloud caesar should outliue caesar shall finde him a shrewd contriuer. taper burneth closet sir searching window flint found this paper thus seald vp sure it lye went bed. these as sure do beare fire enough to kindle cowards steele valour the melting spirits women. but compact meane haue vs will prickd number friends or shall on depend you ant. man doth bestride narrow world like colossus petty men walke vnder huge legges peepe about to finde selues dishonourable graues. deepe night crept vpon talke and nature must obey necessitie which niggard little rest there say cassi. noble brutus hath told caesar ambitious if so greeuous fault and greeuously hath caesar answerd it. forget speed antonio to touch calphurnia elders say the barren touched holy chace shake sterrile curse ant. i itching palme you know brutus speakes this or gods speech else last bru. o cassius yoaked lambe that carries anger flint beares fire who much inforced shewes hastie sparke and straite cold agen cassi. receiue letters comming and bid say word mouth o caesar ant. so fare well once brutus tongue hath almost ended liues history night hangs vpon mine eyes bones would rest that haue labourd attaine houre. titinius enclosed round about with horsemen make spurre yet spurres on. this day breathed first time come round and begin shall end my life run compasse. courtesie respect enough but familiar instances nor free friendly conference as hath vsd old bru. haue wrongd me doth appear this you haue condemnd noted lucius pella for taking bribes heere sardians wherein letters praying side because knew man slighted off bru. no sir hats pluckt eares and halfe faces buried cloakes that meanes may discouer them by marke fauour brut. must death part i know personall cause spurne him but generall. matter let images be hung caesars trophees ile about and driue away vulgar streets so too perceiue thicke. if then friend demand brutus rose caesar this answer loud caesar lesse but that loud rome more. common slaue know well sight held vp left hand flame burne like twentie torches ioynd yet hand not sensible fire remaind vnscorchd. gamesom lacke part of quicke spirit antony let hinder cassius desires ile leaue you cassi. there tide affayres men which taken flood leades fortune omitted voyage life is bound shallowes miseries. come therefore tharsus send body his funerals shall campe least discomfort vs. passe by plucke caska sleeue and after sowre fashion tell you what hath proceeded worthy note day bru'"
      ]
     },
     "execution_count": 37,
     "metadata": {},
     "output_type": "execute_result"
    }
   ],
   "source": [
    "summary"
   ]
  },
  {
   "cell_type": "markdown",
   "id": "5ae02116-5898-42c8-92e1-19c560471829",
   "metadata": {},
   "source": [
    "## Resources\n",
    "- [1] https://en.wikipedia.org/wiki/PageRank\n",
    "- [2] https://en.wikipedia.org/wiki/Public_domain"
   ]
  },
  {
   "cell_type": "markdown",
   "id": "af0ede8b-7446-4184-9051-c409601d53fa",
   "metadata": {},
   "source": [
    "---"
   ]
  }
 ],
 "metadata": {
  "kernelspec": {
   "display_name": "Python 3",
   "language": "python",
   "name": "python3"
  },
  "language_info": {
   "codemirror_mode": {
    "name": "ipython",
    "version": 3
   },
   "file_extension": ".py",
   "mimetype": "text/x-python",
   "name": "python",
   "nbconvert_exporter": "python",
   "pygments_lexer": "ipython3",
   "version": "3.8.8"
  }
 },
 "nbformat": 4,
 "nbformat_minor": 5
}
