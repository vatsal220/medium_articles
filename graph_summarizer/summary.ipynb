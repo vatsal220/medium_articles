{
 "cells": [
  {
   "cell_type": "markdown",
   "id": "1f38f295-486a-4984-99e0-4b8bba882256",
   "metadata": {},
   "source": [
    "# Graph Summarizer"
   ]
  },
  {
   "cell_type": "code",
   "execution_count": 1,
   "id": "0cc14edd-c3ce-41c9-b482-caa85d1c2155",
   "metadata": {},
   "outputs": [],
   "source": [
    "import networkx as nx\n",
    "import random\n",
    "import numpy as np\n",
    "import nltk\n",
    "from nltk.cluster.util import cosine_distance\n",
    "\n",
    "try:\n",
    "    from nltk.corpus import stopwords\n",
    "except:\n",
    "    import nltk\n",
    "    nltk.download('stopwords')\n",
    "finally:\n",
    "    from nltk.corpus import stopwords"
   ]
  },
  {
   "cell_type": "markdown",
   "id": "1e0b0c21-6222-4c3d-a7da-afbf14200931",
   "metadata": {},
   "source": [
    "## Load Text"
   ]
  },
  {
   "cell_type": "code",
   "execution_count": 2,
   "id": "b791148e-c174-4300-8809-409de62c6d99",
   "metadata": {},
   "outputs": [],
   "source": [
    "try:\n",
    "    book = nltk.corpus.gutenberg.raw('melville-moby_dick.txt')\n",
    "except:\n",
    "    nltk.download('gutenberg')\n",
    "finally:\n",
    "    book = nltk.corpus.gutenberg.raw('melville-moby_dick.txt')"
   ]
  },
  {
   "cell_type": "markdown",
   "id": "97fef574-7477-4f99-8628-9380d20bbdcf",
   "metadata": {},
   "source": [
    "## Clean Text"
   ]
  },
  {
   "cell_type": "code",
   "execution_count": 3,
   "id": "9a8c1082-c1ab-4f2c-89bc-18d8958dd491",
   "metadata": {},
   "outputs": [],
   "source": [
    "def read_article(data):\n",
    "    article = data.split('. ')\n",
    "    sentences = []\n",
    "    for sentence in article:\n",
    "        sentences.append(sentence.replace(\"[^a-zA-Z]\", \" \").split(\" \"))\n",
    "    sentences.pop()\n",
    "    return sentences"
   ]
  },
  {
   "cell_type": "markdown",
   "id": "99cbd73e-02f9-4878-9ae5-42b3d26e3f19",
   "metadata": {},
   "source": [
    "## Create Network"
   ]
  },
  {
   "cell_type": "code",
   "execution_count": 4,
   "id": "54dbaa13-cecc-4ed5-98d7-45fcde2e7c7a",
   "metadata": {},
   "outputs": [],
   "source": [
    "def sentence_similarity(sent1, sent2, stopwords=None):\n",
    "    if stopwords is None:\n",
    "        stopwords = []\n",
    "\n",
    "    sent1 = [w.lower() for w in sent1]\n",
    "    sent2 = [w.lower() for w in sent2]\n",
    "\n",
    "    all_words = list(set(sent1 + sent2))\n",
    "\n",
    "    vector1 = [0] * len(all_words)\n",
    "    vector2 = [0] * len(all_words)\n",
    "\n",
    "    # build the vector for the first sentence\n",
    "    for w in sent1:\n",
    "        if w in stopwords:\n",
    "            continue\n",
    "        vector1[all_words.index(w)] += 1\n",
    "\n",
    "    # build the vector for the second sentence\n",
    "    for w in sent2:\n",
    "        if w in stopwords:\n",
    "            continue\n",
    "        vector2[all_words.index(w)] += 1\n",
    "\n",
    "    return 1 - cosine_distance(vector1, vector2)\n",
    "\n",
    "def build_similarity_matrix(sentences, stop_words):\n",
    "    # Create an empty similarity matrix\n",
    "    similarity_matrix = np.zeros((len(sentences), len(sentences)))\n",
    "\n",
    "    for idx1 in range(len(sentences)):\n",
    "        for idx2 in range(len(sentences)):\n",
    "            if idx1 == idx2: #ignore if both are same sentences\n",
    "                continue\n",
    "            similarity_matrix[idx1][idx2] = sentence_similarity(sentences[idx1], sentences[idx2], stop_words)\n",
    "\n",
    "    return similarity_matrix"
   ]
  },
  {
   "cell_type": "markdown",
   "id": "c2c2a246-ded4-4810-bcd5-1e107a79fd63",
   "metadata": {},
   "source": [
    "## Summarize"
   ]
  },
  {
   "cell_type": "code",
   "execution_count": null,
   "id": "add10172-9ce5-4603-90ef-0c9cd0c1429d",
   "metadata": {},
   "outputs": [
    {
     "name": "stdout",
     "output_type": "stream",
     "text": [
      "Step 1\n",
      "Step 2\n"
     ]
    }
   ],
   "source": [
    "%%time\n",
    "data = book\n",
    "stop_words = stopwords.words('english')\n",
    "summarize_text = []\n",
    "\n",
    "# Step 1 - Read text anc split it\n",
    "print(\"Step 1\")\n",
    "sentences =  read_article(data)\n",
    "\n",
    "# Step 2 - Generate Similary Martix across sentences\n",
    "print(\"Step 2\")\n",
    "sentence_similarity_martix = build_similarity_matrix(sentences, stop_words)\n",
    "\n",
    "# Step 3 - Rank sentences in similarity martix\n",
    "print(\"Step 3\")\n",
    "sentence_similarity_graph = nx.from_numpy_array(sentence_similarity_martix)"
   ]
  },
  {
   "cell_type": "code",
   "execution_count": null,
   "id": "1c2ee153-4266-4dcf-9db5-8003f02a3e4a",
   "metadata": {},
   "outputs": [],
   "source": [
    "print(nx.info(sentence_similarity_graph))"
   ]
  },
  {
   "cell_type": "code",
   "execution_count": null,
   "id": "dab11188-ec1c-436a-9b97-d4d3693171ff",
   "metadata": {},
   "outputs": [],
   "source": []
  },
  {
   "cell_type": "code",
   "execution_count": null,
   "id": "101b9021-2d4e-4b68-ac76-1f75a49f5cf4",
   "metadata": {},
   "outputs": [],
   "source": []
  },
  {
   "cell_type": "code",
   "execution_count": 5,
   "id": "690d6116-2e28-4cfb-a0a7-0279931989ed",
   "metadata": {},
   "outputs": [],
   "source": [
    "def generate_summary(data, top_n=5):\n",
    "    stop_words = stopwords.words('english')\n",
    "    summarize_text = []\n",
    "\n",
    "    # Step 1 - Read text anc split it\n",
    "    print(\"Step 1\")\n",
    "    sentences =  read_article(data)\n",
    "\n",
    "    # Step 2 - Generate Similary Martix across sentences\n",
    "    print(\"Step 2\")\n",
    "    sentence_similarity_martix = build_similarity_matrix(sentences, stop_words)\n",
    "\n",
    "    # Step 3 - Rank sentences in similarity martix\n",
    "    print(\"Step 3\")\n",
    "    sentence_similarity_graph = nx.from_numpy_array(sentence_similarity_martix)\n",
    "    scores = nx.pagerank(sentence_similarity_graph)\n",
    "\n",
    "    # Step 4 - Sort the rank and pick top sentences\n",
    "    print(\"Step 4\")\n",
    "    ranked_sentence = sorted(((scores[i],s) for i,s in enumerate(sentences)), reverse=True)\n",
    "#     print(\"Indexes of top ranked_sentence order are \", ranked_sentence)\n",
    "\n",
    "    for i in range(top_n):\n",
    "        summarize_text.append(\" \".join(ranked_sentence[i][1]))\n",
    "\n",
    "    # Step 5 - Offcourse, output the summarize texr\n",
    "    print(\"Step 5\")\n",
    "    return \". \".join(summarize_text)"
   ]
  },
  {
   "cell_type": "code",
   "execution_count": 6,
   "id": "39b9e8cb-751a-4712-a825-6380077b62ef",
   "metadata": {},
   "outputs": [
    {
     "ename": "KeyboardInterrupt",
     "evalue": "",
     "output_type": "error",
     "traceback": [
      "\u001b[0;31m---------------------------------------------------------------------------\u001b[0m",
      "\u001b[0;31mKeyboardInterrupt\u001b[0m                         Traceback (most recent call last)",
      "\u001b[0;32m<timed eval>\u001b[0m in \u001b[0;36m<module>\u001b[0;34m\u001b[0m\n",
      "\u001b[0;32m<ipython-input-5-5bff1139774b>\u001b[0m in \u001b[0;36mgenerate_summary\u001b[0;34m(data, top_n)\u001b[0m\n\u001b[1;32m      7\u001b[0m \u001b[0;34m\u001b[0m\u001b[0m\n\u001b[1;32m      8\u001b[0m     \u001b[0;31m# Step 2 - Generate Similary Martix across sentences\u001b[0m\u001b[0;34m\u001b[0m\u001b[0;34m\u001b[0m\u001b[0;34m\u001b[0m\u001b[0m\n\u001b[0;32m----> 9\u001b[0;31m     \u001b[0msentence_similarity_martix\u001b[0m \u001b[0;34m=\u001b[0m \u001b[0mbuild_similarity_matrix\u001b[0m\u001b[0;34m(\u001b[0m\u001b[0msentences\u001b[0m\u001b[0;34m,\u001b[0m \u001b[0mstop_words\u001b[0m\u001b[0;34m)\u001b[0m\u001b[0;34m\u001b[0m\u001b[0;34m\u001b[0m\u001b[0m\n\u001b[0m\u001b[1;32m     10\u001b[0m \u001b[0;34m\u001b[0m\u001b[0m\n\u001b[1;32m     11\u001b[0m     \u001b[0;31m# Step 3 - Rank sentences in similarity martix\u001b[0m\u001b[0;34m\u001b[0m\u001b[0;34m\u001b[0m\u001b[0;34m\u001b[0m\u001b[0m\n",
      "\u001b[0;32m<ipython-input-4-f6052c7a8355>\u001b[0m in \u001b[0;36mbuild_similarity_matrix\u001b[0;34m(sentences, stop_words)\u001b[0m\n\u001b[1;32m     33\u001b[0m             \u001b[0;32mif\u001b[0m \u001b[0midx1\u001b[0m \u001b[0;34m==\u001b[0m \u001b[0midx2\u001b[0m\u001b[0;34m:\u001b[0m \u001b[0;31m#ignore if both are same sentences\u001b[0m\u001b[0;34m\u001b[0m\u001b[0;34m\u001b[0m\u001b[0m\n\u001b[1;32m     34\u001b[0m                 \u001b[0;32mcontinue\u001b[0m\u001b[0;34m\u001b[0m\u001b[0;34m\u001b[0m\u001b[0m\n\u001b[0;32m---> 35\u001b[0;31m             \u001b[0msimilarity_matrix\u001b[0m\u001b[0;34m[\u001b[0m\u001b[0midx1\u001b[0m\u001b[0;34m]\u001b[0m\u001b[0;34m[\u001b[0m\u001b[0midx2\u001b[0m\u001b[0;34m]\u001b[0m \u001b[0;34m=\u001b[0m \u001b[0msentence_similarity\u001b[0m\u001b[0;34m(\u001b[0m\u001b[0msentences\u001b[0m\u001b[0;34m[\u001b[0m\u001b[0midx1\u001b[0m\u001b[0;34m]\u001b[0m\u001b[0;34m,\u001b[0m \u001b[0msentences\u001b[0m\u001b[0;34m[\u001b[0m\u001b[0midx2\u001b[0m\u001b[0;34m]\u001b[0m\u001b[0;34m,\u001b[0m \u001b[0mstop_words\u001b[0m\u001b[0;34m)\u001b[0m\u001b[0;34m\u001b[0m\u001b[0;34m\u001b[0m\u001b[0m\n\u001b[0m\u001b[1;32m     36\u001b[0m \u001b[0;34m\u001b[0m\u001b[0m\n\u001b[1;32m     37\u001b[0m     \u001b[0;32mreturn\u001b[0m \u001b[0msimilarity_matrix\u001b[0m\u001b[0;34m\u001b[0m\u001b[0;34m\u001b[0m\u001b[0m\n",
      "\u001b[0;32m<ipython-input-4-f6052c7a8355>\u001b[0m in \u001b[0;36msentence_similarity\u001b[0;34m(sent1, sent2, stopwords)\u001b[0m\n\u001b[1;32m     13\u001b[0m     \u001b[0;31m# build the vector for the first sentence\u001b[0m\u001b[0;34m\u001b[0m\u001b[0;34m\u001b[0m\u001b[0;34m\u001b[0m\u001b[0m\n\u001b[1;32m     14\u001b[0m     \u001b[0;32mfor\u001b[0m \u001b[0mw\u001b[0m \u001b[0;32min\u001b[0m \u001b[0msent1\u001b[0m\u001b[0;34m:\u001b[0m\u001b[0;34m\u001b[0m\u001b[0;34m\u001b[0m\u001b[0m\n\u001b[0;32m---> 15\u001b[0;31m         \u001b[0;32mif\u001b[0m \u001b[0mw\u001b[0m \u001b[0;32min\u001b[0m \u001b[0mstopwords\u001b[0m\u001b[0;34m:\u001b[0m\u001b[0;34m\u001b[0m\u001b[0;34m\u001b[0m\u001b[0m\n\u001b[0m\u001b[1;32m     16\u001b[0m             \u001b[0;32mcontinue\u001b[0m\u001b[0;34m\u001b[0m\u001b[0;34m\u001b[0m\u001b[0m\n\u001b[1;32m     17\u001b[0m         \u001b[0mvector1\u001b[0m\u001b[0;34m[\u001b[0m\u001b[0mall_words\u001b[0m\u001b[0;34m.\u001b[0m\u001b[0mindex\u001b[0m\u001b[0;34m(\u001b[0m\u001b[0mw\u001b[0m\u001b[0;34m)\u001b[0m\u001b[0;34m]\u001b[0m \u001b[0;34m+=\u001b[0m \u001b[0;36m1\u001b[0m\u001b[0;34m\u001b[0m\u001b[0;34m\u001b[0m\u001b[0m\n",
      "\u001b[0;31mKeyboardInterrupt\u001b[0m: "
     ]
    }
   ],
   "source": [
    "%time generate_summary(book, top_n=5)"
   ]
  },
  {
   "cell_type": "markdown",
   "id": "af0ede8b-7446-4184-9051-c409601d53fa",
   "metadata": {},
   "source": [
    "---"
   ]
  }
 ],
 "metadata": {
  "kernelspec": {
   "display_name": "Python 3",
   "language": "python",
   "name": "python3"
  },
  "language_info": {
   "codemirror_mode": {
    "name": "ipython",
    "version": 3
   },
   "file_extension": ".py",
   "mimetype": "text/x-python",
   "name": "python",
   "nbconvert_exporter": "python",
   "pygments_lexer": "ipython3",
   "version": "3.8.8"
  }
 },
 "nbformat": 4,
 "nbformat_minor": 5
}
