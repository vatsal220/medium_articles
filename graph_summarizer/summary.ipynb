{
 "cells": [
  {
   "cell_type": "markdown",
   "id": "1f38f295-486a-4984-99e0-4b8bba882256",
   "metadata": {},
   "source": [
    "# Graph Summarizer"
   ]
  },
  {
   "cell_type": "markdown",
   "id": "108d3b11-1de2-4743-b240-7d585bf384db",
   "metadata": {},
   "source": [
    "Install the Jaro package through the following command:  \n",
    "`!pip install jaro-winkler`  \n",
    "You can reference the installation documentation [here](https://pypi.org/project/jaro-winkler/)"
   ]
  },
  {
   "cell_type": "code",
   "execution_count": 1,
   "id": "0cc14edd-c3ce-41c9-b482-caa85d1c2155",
   "metadata": {},
   "outputs": [],
   "source": [
    "import networkx as nx\n",
    "import numpy as np\n",
    "import nltk\n",
    "import jaro\n",
    "\n",
    "try:\n",
    "    from nltk.corpus import stopwords\n",
    "except:\n",
    "    import nltk\n",
    "    nltk.download('stopwords')\n",
    "finally:\n",
    "    from nltk.corpus import stopwords"
   ]
  },
  {
   "cell_type": "code",
   "execution_count": 25,
   "id": "19531579-4001-4663-8442-a056cb0b6bc4",
   "metadata": {},
   "outputs": [],
   "source": [
    "# constants\n",
    "sw = list(set(stopwords.words('english')))\n",
    "punct = [\n",
    "    '!','#','$','%','&','(',')','*',\n",
    "    '+',',','-','/',':',';','<','=','>','@',\n",
    "    '[','\\\\',']','^','_','`','{','|','}','~'\n",
    "]"
   ]
  },
  {
   "cell_type": "markdown",
   "id": "1e0b0c21-6222-4c3d-a7da-afbf14200931",
   "metadata": {},
   "source": [
    "## Load Text"
   ]
  },
  {
   "cell_type": "markdown",
   "id": "2ba91386-65e0-4cb4-a8c3-d69c8251a919",
   "metadata": {},
   "source": [
    "I've set up this tutorial in a manner that any body of text can be input to the pipeline. Continue on with this tutorial with the text I've selected or use your own. Below are a set of books you can easily download through the NLTK library and Gutenberg project. All of these books are free to use as they are a part of the public domain."
   ]
  },
  {
   "cell_type": "code",
   "execution_count": 3,
   "id": "e06e000c-4f64-48d2-8a12-2ed1d3dccd4f",
   "metadata": {},
   "outputs": [],
   "source": [
    "# free to use books in the public domain which can be fetched by NTLK and project gutenberg\n",
    "book_choices = [\n",
    "    'austen-emma.txt', 'austen-persuasion.txt', 'austen-sense.txt', 'bible-kjv.txt',\n",
    "    'blake-poems.txt', 'bryant-stories.txt', 'burgess-busterbrown.txt',\n",
    "    'carroll-alice.txt', 'chesterton-ball.txt', 'chesterton-brown.txt',\n",
    "    'chesterton-thursday.txt', 'edgeworth-parents.txt', 'melville-moby_dick.txt',\n",
    "    'milton-paradise.txt', 'shakespeare-caesar.txt', 'shakespeare-hamlet.txt',\n",
    "    'shakespeare-macbeth.txt', 'whitman-leaves.txt'\n",
    "]"
   ]
  },
  {
   "cell_type": "markdown",
   "id": "abd76f5f-98ed-49c4-ada5-927b35ff34b3",
   "metadata": {},
   "source": [
    "For the purposes of this tutorial, I will be using Shakespeare's play on Julius Caesar. Do note that this and all other bodies of text written by William Shakespeare is in the [public domain](https://en.wikipedia.org/wiki/Public_domain), as the bodies of text were created prior to the existence of any copyright restrictions [2]. "
   ]
  },
  {
   "cell_type": "code",
   "execution_count": 4,
   "id": "b791148e-c174-4300-8809-409de62c6d99",
   "metadata": {},
   "outputs": [],
   "source": [
    "try:\n",
    "    book = nltk.corpus.gutenberg.raw('shakespeare-caesar.txt')\n",
    "except:\n",
    "    nltk.download('gutenberg')\n",
    "finally:\n",
    "    book = nltk.corpus.gutenberg.raw('shakespeare-caesar.txt')"
   ]
  },
  {
   "cell_type": "code",
   "execution_count": 5,
   "id": "8a21348b-181d-4042-af20-eb18ffc363ea",
   "metadata": {},
   "outputs": [
    {
     "data": {
      "text/plain": [
       "\"[The Tragedie of Julius Caesar by William Shakespeare 1599]\\n\\n\\nActus Primus. Scoena Prima.\\n\\nEnter Flauius, Murellus, and certaine Commoners ouer the Stage.\\n\\n  Flauius. Hence: home you idle Creatures, get you home:\\nIs this a Holiday? What, know you not\\n(Being Mechanicall) you ought not walke\\nVpon a labouring day, without the signe\\nOf your Profession? Speake, what Trade art thou?\\n  Car. Why Sir, a Carpenter\\n\\n   Mur. Where is thy Leather Apron, and thy Rule?\\nWhat dost thou with thy best Apparrell on?\\nYou sir, what Trade are you?\\n  Cobl. Truely Sir, in respect of a fine Workman, I am\\nbut as you would say, a Cobler\\n\\n   Mur. But what Trade art thou? Answer me directly\\n\\n   Cob. A Trade Sir, that I hope I may vse, with a safe\\nConscience, which is indeed Sir, a Mender of bad soules\\n\\n   Fla. What Trade thou knaue? Thou naughty knaue,\\nwhat Trade?\\n  Cobl. Nay I beseech you Sir, be not out with me: yet\\nif you be out Sir, I can mend you\\n\\n   Mur. What mean'st thou by that? Mend mee, thou\\nsawcy Fellow?\""
      ]
     },
     "execution_count": 5,
     "metadata": {},
     "output_type": "execute_result"
    }
   ],
   "source": [
    "book[0:1000]"
   ]
  },
  {
   "cell_type": "markdown",
   "id": "97fef574-7477-4f99-8628-9380d20bbdcf",
   "metadata": {},
   "source": [
    "## Clean Text"
   ]
  },
  {
   "cell_type": "code",
   "execution_count": 6,
   "id": "9a8c1082-c1ab-4f2c-89bc-18d8958dd491",
   "metadata": {},
   "outputs": [],
   "source": [
    "def clean_text(text, sw = sw, punct = punct):\n",
    "    '''\n",
    "    This function will clean the input text by lowering, removing certain punctuations, stopwords and \n",
    "    new line tags.\n",
    "    \n",
    "    params:\n",
    "        text (String) : The body of text you want to clean\n",
    "        sw (List) : The list of stopwords you wish to removed from the input text\n",
    "        punct (List) : The slist of punctuations you wish to remove from the input text\n",
    "        \n",
    "    returns:\n",
    "        This function will return the input text after it's cleaned (the output will be a string)\n",
    "    '''\n",
    "    text = text.lower()\n",
    "    article = text.split(' ')\n",
    "    # clean stopwords\n",
    "    article = [x.lstrip().rstrip() for x in article if x not in sw]\n",
    "    article = [x for x in article if x]\n",
    "    article = ' '.join(article)\n",
    "    \n",
    "    # clean punctuations\n",
    "    for pun in punct:\n",
    "        article = article.replace(pun, '')\n",
    "    \n",
    "    article = article.replace(\"[^a-zA-Z]\", \" \").replace('\\r\\n', ' ').replace('\\n', ' ')\n",
    "    return article"
   ]
  },
  {
   "cell_type": "code",
   "execution_count": 7,
   "id": "6898acff-e5c1-4db5-9bd2-618040634957",
   "metadata": {},
   "outputs": [
    {
     "name": "stdout",
     "output_type": "stream",
     "text": [
      "CPU times: user 63.4 ms, sys: 2.07 ms, total: 65.5 ms\n",
      "Wall time: 64.4 ms\n"
     ]
    }
   ],
   "source": [
    "%time cleaned_book = clean_text(book)"
   ]
  },
  {
   "cell_type": "code",
   "execution_count": 8,
   "id": "03741196-f770-40cb-9d26-0bd3d8bbb89e",
   "metadata": {},
   "outputs": [],
   "source": [
    "# get sentences\n",
    "sentences = [x for x in cleaned_book.split('. ') if x not in ['', ' ', '..', '.', '...']]"
   ]
  },
  {
   "cell_type": "code",
   "execution_count": 9,
   "id": "717fae57-06a9-49d6-bad3-eda3343f8262",
   "metadata": {},
   "outputs": [
    {
     "data": {
      "text/plain": [
       "1289"
      ]
     },
     "execution_count": 9,
     "metadata": {},
     "output_type": "execute_result"
    }
   ],
   "source": [
    "len(sentences)"
   ]
  },
  {
   "cell_type": "markdown",
   "id": "1bb73b86-4641-439e-aeee-d1aa8a56e528",
   "metadata": {},
   "source": [
    "## Create Network"
   ]
  },
  {
   "cell_type": "markdown",
   "id": "29ce79bc-455a-40a1-926d-0a10dc073e60",
   "metadata": {},
   "source": [
    "In this section we will create an adjacency matrix through the similarity of various sentences. This adjacency matrix will then allow us to create a weighted network (through NetworkX). Please keep in mind the size of your input body of text, since the similarity matrix needs to assign a score for each pair of sentences it will be an extensive and exhausting process for your computer if your body of text is very large (> 2000 sentences).\n",
    "\n",
    "In the created network, the nodes will be indices associated to the sentences in the book and the edges connecting the sentences will be weighted based on the similarity of a pair of sentences. We can then run the page rank algorithm on that weighted network to identify nodes with a large rank associated to them. \n",
    "\n",
    "At very high level, the intuition behind the page rank algorithm is to identify highly popular nodes through the use of [random walks](https://towardsdatascience.com/random-walks-with-restart-explained-77c3fe216bca). It's a very popular network based algorithm Larry Page and was famously used by Google to rank their web pages in their search enginer results [1]. In the context of our example, page rank will tell us highly influential sentences in the network. We can then take the top N most influential sentences, join them together and return them back to the user in the form of a summary of the original body of text. "
   ]
  },
  {
   "cell_type": "code",
   "execution_count": 10,
   "id": "1c1d1ebb-6fbc-4dae-a540-091f0f5c6e88",
   "metadata": {},
   "outputs": [],
   "source": [
    "def create_similarity_matrix(sentences):\n",
    "    '''\n",
    "    The purpose of this function will be to create an N x N similarity matrix.\n",
    "    N represents the number of sentences and the similarity of a pair of sentences\n",
    "    will be determined through the Jaro-Winkler Score.\n",
    "    \n",
    "    params:\n",
    "        sentences (List -> String) : This is a list of strings you want to create\n",
    "                                     the similarity matrix with.\n",
    "     \n",
    "    returns:\n",
    "        This function will return a square numpy matrix\n",
    "    '''\n",
    "    \n",
    "    # identify sentence similarity matrix with Jaro Winkler score\n",
    "    sentence_length = len(sentences)\n",
    "    sim_mat = np.zeros((sentence_length, sentence_length))\n",
    "\n",
    "    for i in range(sentence_length):\n",
    "        for j in range(sentence_length):\n",
    "            if i != j:\n",
    "                similarity = jaro.jaro_winkler_metric(sentences[i], sentences[j])\n",
    "                sim_mat[i][j] = similarity\n",
    "    return sim_mat"
   ]
  },
  {
   "cell_type": "code",
   "execution_count": 11,
   "id": "e4fff8fe-c678-402f-b4df-2a404257b131",
   "metadata": {},
   "outputs": [
    {
     "name": "stdout",
     "output_type": "stream",
     "text": [
      "CPU times: user 2min 16s, sys: 335 ms, total: 2min 16s\n",
      "Wall time: 2min 16s\n"
     ]
    }
   ],
   "source": [
    "%time sim_mat = create_similarity_matrix(sentences)"
   ]
  },
  {
   "cell_type": "code",
   "execution_count": 12,
   "id": "f97b1946-3825-4939-bae2-d1f072749e4b",
   "metadata": {},
   "outputs": [
    {
     "name": "stdout",
     "output_type": "stream",
     "text": [
      "CPU times: user 2.35 s, sys: 190 ms, total: 2.54 s\n",
      "Wall time: 2.69 s\n"
     ]
    }
   ],
   "source": [
    "%%time \n",
    "# create network\n",
    "G = nx.from_numpy_matrix(sim_mat)"
   ]
  },
  {
   "cell_type": "code",
   "execution_count": 13,
   "id": "609c9cc5-c698-44c9-ac16-502b825eae75",
   "metadata": {},
   "outputs": [
    {
     "name": "stdout",
     "output_type": "stream",
     "text": [
      "Name: \n",
      "Type: Graph\n",
      "Number of nodes: 1289\n",
      "Number of edges: 820222\n",
      "Average degree: 1272.6486\n"
     ]
    }
   ],
   "source": [
    "print(nx.info(G))"
   ]
  },
  {
   "cell_type": "code",
   "execution_count": 14,
   "id": "e62684d3-6dd2-4d2f-8725-50e72fa3ad7f",
   "metadata": {},
   "outputs": [
    {
     "name": "stdout",
     "output_type": "stream",
     "text": [
      "CPU times: user 10.1 s, sys: 955 ms, total: 11.1 s\n",
      "Wall time: 11.8 s\n"
     ]
    }
   ],
   "source": [
    "%%time \n",
    "# calculate page rank scores\n",
    "pr_sentence_similarity = nx.pagerank(G)"
   ]
  },
  {
   "cell_type": "markdown",
   "id": "2961bf55-88c8-49d0-9d6d-e205b8d7673d",
   "metadata": {},
   "source": [
    "The built in page rank function will output a dictionary where the keys are the nodes and the values are the associated page rank score to that node."
   ]
  },
  {
   "cell_type": "code",
   "execution_count": 15,
   "id": "61388b42-ea36-4f63-aa0b-efe9600aad01",
   "metadata": {},
   "outputs": [],
   "source": [
    "# pr_sentence_similarity"
   ]
  },
  {
   "cell_type": "code",
   "execution_count": 16,
   "id": "cdabb3ec-467b-435b-ae65-e12a7547b7e3",
   "metadata": {},
   "outputs": [],
   "source": [
    "ranked_sentences = [\n",
    "    (sentences[sent], rank) for sent,rank in sorted(pr_sentence_similarity.items(), key=lambda item: item[1], reverse = True)\n",
    "]"
   ]
  },
  {
   "cell_type": "code",
   "execution_count": 18,
   "id": "56789e21-29b1-4196-b780-5dce5adab828",
   "metadata": {},
   "outputs": [
    {
     "data": {
      "text/plain": [
       "('decius well vrgd thinke meet marke antony well beloud caesar should outliue caesar shall finde him a shrewd contriuer',\n",
       " 0.0008514421863851916)"
      ]
     },
     "execution_count": 18,
     "metadata": {},
     "output_type": "execute_result"
    }
   ],
   "source": [
    "ranked_sentences[0]"
   ]
  },
  {
   "cell_type": "markdown",
   "id": "dcb3aaeb-3843-4c31-8a38-bdf855ebb53e",
   "metadata": {},
   "source": [
    "## Generate Summary"
   ]
  },
  {
   "cell_type": "code",
   "execution_count": 22,
   "id": "c6091b8e-b5c9-4cf3-8c76-1c98bb40ab63",
   "metadata": {},
   "outputs": [],
   "source": [
    "def generate_summary(ranked_sentences, N):\n",
    "    '''\n",
    "    This function will generate the summary given a list of ranked sentences and the\n",
    "    number of sentences the user wants in their summary.\n",
    "    \n",
    "    params:\n",
    "        ranked_sentences (List -> Tuples) : The list of ranked sentences where each\n",
    "                                            element is a tuple, the first value in the\n",
    "                                            tuple is the sentence, the second value is\n",
    "                                            the rank\n",
    "        N (Integer) : The number of sentences the user wants in the summary\n",
    "        \n",
    "    returns:\n",
    "        This function will return a string associated to the summarized ranked_sentences\n",
    "        of a book\n",
    "    '''\n",
    "    summary = '. '.join([sent[0] for sent in ranked_sentences[0:N]])\n",
    "    return summary"
   ]
  },
  {
   "cell_type": "code",
   "execution_count": 26,
   "id": "4c6f66fe-d0d5-4ed4-b1ac-3da7a0fe5252",
   "metadata": {},
   "outputs": [
    {
     "name": "stdout",
     "output_type": "stream",
     "text": [
      "CPU times: user 19 µs, sys: 39 µs, total: 58 µs\n",
      "Wall time: 63.9 µs\n"
     ]
    }
   ],
   "source": [
    "%%time\n",
    "N = 10\n",
    "summary = generate_summary(ranked_sentences, N)"
   ]
  },
  {
   "cell_type": "code",
   "execution_count": 27,
   "id": "35438318-c8d1-418f-afe4-2ab777ae12b0",
   "metadata": {},
   "outputs": [
    {
     "data": {
      "text/plain": [
       "'decius well vrgd thinke meet marke antony well beloud caesar should outliue caesar shall finde him a shrewd contriuer. taper burneth closet sir searching window flint found this paper thus seald vp sure it lye went bed. these as sure do beare fire enough to kindle cowards steele valour the melting spirits women. but compact meane haue vs will prickd number friends or shall on depend you ant. man doth bestride narrow world like colossus petty men walke vnder huge legges peepe about to finde selues dishonourable graues. deepe night crept vpon talke and nature must obey necessitie which niggard little rest there say cassi. noble brutus hath told caesar ambitious if so greeuous fault and greeuously hath caesar answerd it. forget speed antonio to touch calphurnia elders say the barren touched holy chace shake sterrile curse ant. i itching palme you know brutus speakes this or gods speech else last bru. o cassius yoaked lambe that carries anger flint beares fire who much inforced shewes hastie sparke and straite cold agen cassi'"
      ]
     },
     "execution_count": 27,
     "metadata": {},
     "output_type": "execute_result"
    }
   ],
   "source": [
    "summary"
   ]
  },
  {
   "cell_type": "markdown",
   "id": "5ae02116-5898-42c8-92e1-19c560471829",
   "metadata": {},
   "source": [
    "## Resources\n",
    "- [1] https://en.wikipedia.org/wiki/PageRank\n",
    "- [2] https://en.wikipedia.org/wiki/Public_domain"
   ]
  },
  {
   "cell_type": "markdown",
   "id": "af0ede8b-7446-4184-9051-c409601d53fa",
   "metadata": {},
   "source": [
    "---"
   ]
  },
  {
   "cell_type": "code",
   "execution_count": 3,
   "id": "6c317e56-c0c2-4a40-a123-c7d623236fce",
   "metadata": {},
   "outputs": [],
   "source": [
    "import pandas as pd\n",
    "import requests\n",
    "import numpy as np"
   ]
  },
  {
   "cell_type": "code",
   "execution_count": 5,
   "id": "d87bd511-538f-4019-b81f-a72afcd8a8f9",
   "metadata": {},
   "outputs": [],
   "source": [
    "req = requests.get('http://ufcstats.com/event-details/335ad945324c3a2e')"
   ]
  },
  {
   "cell_type": "code",
   "execution_count": 12,
   "id": "538ee66e-f599-45a3-aa8a-eb908481766c",
   "metadata": {},
   "outputs": [],
   "source": [
    "df = pd.read_html('http://ufcstats.com/event-details/335ad945324c3a2e')[0]"
   ]
  },
  {
   "cell_type": "code",
   "execution_count": 13,
   "id": "16b1aeb0-46f8-4fc6-9642-82fe13ebae28",
   "metadata": {},
   "outputs": [
    {
     "data": {
      "text/html": [
       "<div>\n",
       "<style scoped>\n",
       "    .dataframe tbody tr th:only-of-type {\n",
       "        vertical-align: middle;\n",
       "    }\n",
       "\n",
       "    .dataframe tbody tr th {\n",
       "        vertical-align: top;\n",
       "    }\n",
       "\n",
       "    .dataframe thead th {\n",
       "        text-align: right;\n",
       "    }\n",
       "</style>\n",
       "<table border=\"1\" class=\"dataframe\">\n",
       "  <thead>\n",
       "    <tr style=\"text-align: right;\">\n",
       "      <th></th>\n",
       "      <th>W/L</th>\n",
       "      <th>Fighter</th>\n",
       "      <th>Kd</th>\n",
       "      <th>Str</th>\n",
       "      <th>Td</th>\n",
       "      <th>Sub</th>\n",
       "      <th>Weight class</th>\n",
       "      <th>Method</th>\n",
       "      <th>Round</th>\n",
       "      <th>Time</th>\n",
       "    </tr>\n",
       "  </thead>\n",
       "  <tbody>\n",
       "    <tr>\n",
       "      <th>0</th>\n",
       "      <td>win</td>\n",
       "      <td>Francis Ngannou  Ciryl Gane</td>\n",
       "      <td>0  0</td>\n",
       "      <td>43  63</td>\n",
       "      <td>4  1</td>\n",
       "      <td>0  3</td>\n",
       "      <td>Heavyweight</td>\n",
       "      <td>U-DEC</td>\n",
       "      <td>5</td>\n",
       "      <td>5:00</td>\n",
       "    </tr>\n",
       "    <tr>\n",
       "      <th>1</th>\n",
       "      <td>win</td>\n",
       "      <td>Deiveson Figueiredo  Brandon Moreno</td>\n",
       "      <td>3  0</td>\n",
       "      <td>86  105</td>\n",
       "      <td>2  1</td>\n",
       "      <td>0  0</td>\n",
       "      <td>Flyweight</td>\n",
       "      <td>U-DEC</td>\n",
       "      <td>5</td>\n",
       "      <td>5:00</td>\n",
       "    </tr>\n",
       "    <tr>\n",
       "      <th>2</th>\n",
       "      <td>win</td>\n",
       "      <td>Michel Pereira  Andre Fialho</td>\n",
       "      <td>0  0</td>\n",
       "      <td>107  45</td>\n",
       "      <td>1  0</td>\n",
       "      <td>0  0</td>\n",
       "      <td>Welterweight</td>\n",
       "      <td>U-DEC</td>\n",
       "      <td>3</td>\n",
       "      <td>5:00</td>\n",
       "    </tr>\n",
       "    <tr>\n",
       "      <th>3</th>\n",
       "      <td>win</td>\n",
       "      <td>Said Nurmagomedov  Cody Stamann</td>\n",
       "      <td>0  0</td>\n",
       "      <td>7  1</td>\n",
       "      <td>0  0</td>\n",
       "      <td>1  0</td>\n",
       "      <td>Bantamweight</td>\n",
       "      <td>SUB  Guillotine Choke</td>\n",
       "      <td>1</td>\n",
       "      <td>0:47</td>\n",
       "    </tr>\n",
       "    <tr>\n",
       "      <th>4</th>\n",
       "      <td>win</td>\n",
       "      <td>Michael Morales  Trevin Giles</td>\n",
       "      <td>1  0</td>\n",
       "      <td>26  8</td>\n",
       "      <td>0  1</td>\n",
       "      <td>0  1</td>\n",
       "      <td>Welterweight</td>\n",
       "      <td>KO/TKO  Punches</td>\n",
       "      <td>1</td>\n",
       "      <td>4:06</td>\n",
       "    </tr>\n",
       "    <tr>\n",
       "      <th>5</th>\n",
       "      <td>win</td>\n",
       "      <td>Victor Henry  Raoni Barcelos</td>\n",
       "      <td>0  0</td>\n",
       "      <td>181  134</td>\n",
       "      <td>0  1</td>\n",
       "      <td>0  0</td>\n",
       "      <td>Bantamweight</td>\n",
       "      <td>U-DEC</td>\n",
       "      <td>3</td>\n",
       "      <td>5:00</td>\n",
       "    </tr>\n",
       "    <tr>\n",
       "      <th>6</th>\n",
       "      <td>win</td>\n",
       "      <td>Jack Della Maddalena  Pete Rodriguez</td>\n",
       "      <td>1  0</td>\n",
       "      <td>43  25</td>\n",
       "      <td>0  0</td>\n",
       "      <td>0  0</td>\n",
       "      <td>Welterweight</td>\n",
       "      <td>KO/TKO  Punch</td>\n",
       "      <td>1</td>\n",
       "      <td>2:59</td>\n",
       "    </tr>\n",
       "    <tr>\n",
       "      <th>7</th>\n",
       "      <td>win</td>\n",
       "      <td>Tony Gravely  Saimon Oliveira</td>\n",
       "      <td>0  0</td>\n",
       "      <td>46  35</td>\n",
       "      <td>11  0</td>\n",
       "      <td>0  4</td>\n",
       "      <td>Bantamweight</td>\n",
       "      <td>U-DEC</td>\n",
       "      <td>3</td>\n",
       "      <td>5:00</td>\n",
       "    </tr>\n",
       "    <tr>\n",
       "      <th>8</th>\n",
       "      <td>win</td>\n",
       "      <td>Matt Frevola  Genaro Valdez</td>\n",
       "      <td>4  0</td>\n",
       "      <td>60  10</td>\n",
       "      <td>0  0</td>\n",
       "      <td>0  0</td>\n",
       "      <td>Lightweight</td>\n",
       "      <td>KO/TKO  Punches</td>\n",
       "      <td>1</td>\n",
       "      <td>3:15</td>\n",
       "    </tr>\n",
       "    <tr>\n",
       "      <th>9</th>\n",
       "      <td>win</td>\n",
       "      <td>Vanessa Demopoulos  Silvana Gomez Juarez</td>\n",
       "      <td>0  1</td>\n",
       "      <td>4  10</td>\n",
       "      <td>0  0</td>\n",
       "      <td>2  0</td>\n",
       "      <td>Women's Strawweight</td>\n",
       "      <td>SUB  Armbar</td>\n",
       "      <td>1</td>\n",
       "      <td>2:25</td>\n",
       "    </tr>\n",
       "    <tr>\n",
       "      <th>10</th>\n",
       "      <td>win</td>\n",
       "      <td>Jasmine Jasudavicius  Kay Hansen</td>\n",
       "      <td>0  0</td>\n",
       "      <td>50  44</td>\n",
       "      <td>2  1</td>\n",
       "      <td>0  0</td>\n",
       "      <td>Women's Flyweight</td>\n",
       "      <td>U-DEC</td>\n",
       "      <td>3</td>\n",
       "      <td>5:00</td>\n",
       "    </tr>\n",
       "  </tbody>\n",
       "</table>\n",
       "</div>"
      ],
      "text/plain": [
       "    W/L                                   Fighter    Kd       Str     Td  \\\n",
       "0   win               Francis Ngannou  Ciryl Gane  0  0    43  63   4  1   \n",
       "1   win       Deiveson Figueiredo  Brandon Moreno  3  0   86  105   2  1   \n",
       "2   win              Michel Pereira  Andre Fialho  0  0   107  45   1  0   \n",
       "3   win           Said Nurmagomedov  Cody Stamann  0  0      7  1   0  0   \n",
       "4   win             Michael Morales  Trevin Giles  1  0     26  8   0  1   \n",
       "5   win              Victor Henry  Raoni Barcelos  0  0  181  134   0  1   \n",
       "6   win      Jack Della Maddalena  Pete Rodriguez  1  0    43  25   0  0   \n",
       "7   win             Tony Gravely  Saimon Oliveira  0  0    46  35  11  0   \n",
       "8   win               Matt Frevola  Genaro Valdez  4  0    60  10   0  0   \n",
       "9   win  Vanessa Demopoulos  Silvana Gomez Juarez  0  1     4  10   0  0   \n",
       "10  win          Jasmine Jasudavicius  Kay Hansen  0  0    50  44   2  1   \n",
       "\n",
       "     Sub         Weight class                 Method  Round  Time  \n",
       "0   0  3          Heavyweight                  U-DEC      5  5:00  \n",
       "1   0  0            Flyweight                  U-DEC      5  5:00  \n",
       "2   0  0         Welterweight                  U-DEC      3  5:00  \n",
       "3   1  0         Bantamweight  SUB  Guillotine Choke      1  0:47  \n",
       "4   0  1         Welterweight        KO/TKO  Punches      1  4:06  \n",
       "5   0  0         Bantamweight                  U-DEC      3  5:00  \n",
       "6   0  0         Welterweight          KO/TKO  Punch      1  2:59  \n",
       "7   0  4         Bantamweight                  U-DEC      3  5:00  \n",
       "8   0  0          Lightweight        KO/TKO  Punches      1  3:15  \n",
       "9   2  0  Women's Strawweight            SUB  Armbar      1  2:25  \n",
       "10  0  0    Women's Flyweight                  U-DEC      3  5:00  "
      ]
     },
     "execution_count": 13,
     "metadata": {},
     "output_type": "execute_result"
    }
   ],
   "source": [
    "df"
   ]
  },
  {
   "cell_type": "code",
   "execution_count": null,
   "id": "fd1f3423-ff34-4775-a1a9-2b740ba3607a",
   "metadata": {},
   "outputs": [],
   "source": []
  },
  {
   "cell_type": "code",
   "execution_count": 2,
   "id": "7a2fa786-91a4-4670-9ba9-fd02e7937b15",
   "metadata": {},
   "outputs": [
    {
     "data": {
      "text/plain": [
       "(62642, 17)"
      ]
     },
     "execution_count": 2,
     "metadata": {},
     "output_type": "execute_result"
    }
   ],
   "source": [
    "levels_fyi_data = requests.get('https://www.levels.fyi/js/salaryData.json').json()\n",
    "levels_df = pd.DataFrame(levels_fyi_data)\n",
    "levels_df.shape"
   ]
  },
  {
   "cell_type": "code",
   "execution_count": 3,
   "id": "44d36701-6e75-4498-8ecc-86b922a79dc1",
   "metadata": {},
   "outputs": [],
   "source": [
    "levels_df = levels_df.drop(['cityid', 'dmaid','rowNumber'], axis=1)\n",
    "levels_df = levels_df.replace(\"\", np.nan)"
   ]
  },
  {
   "cell_type": "code",
   "execution_count": 4,
   "id": "08a5b7b5-94c2-4ddf-a72e-fd628a9c5c4d",
   "metadata": {},
   "outputs": [],
   "source": [
    "levels_df['timestamp'] = pd.to_datetime(levels_df['timestamp'])\n",
    "levels_df[\n",
    "    ['yearsofexperience','basesalary','bonus','stockgrantvalue','totalyearlycompensation','yearsatcompany']\n",
    "] = levels_df[\n",
    "    ['yearsofexperience','basesalary','bonus','stockgrantvalue','totalyearlycompensation','yearsatcompany']\n",
    "].apply(pd.to_numeric)"
   ]
  },
  {
   "cell_type": "code",
   "execution_count": 11,
   "id": "69ae766e-25e7-4963-9087-a93e52cf49b2",
   "metadata": {},
   "outputs": [
    {
     "data": {
      "text/html": [
       "<div>\n",
       "<style scoped>\n",
       "    .dataframe tbody tr th:only-of-type {\n",
       "        vertical-align: middle;\n",
       "    }\n",
       "\n",
       "    .dataframe tbody tr th {\n",
       "        vertical-align: top;\n",
       "    }\n",
       "\n",
       "    .dataframe thead th {\n",
       "        text-align: right;\n",
       "    }\n",
       "</style>\n",
       "<table border=\"1\" class=\"dataframe\">\n",
       "  <thead>\n",
       "    <tr style=\"text-align: right;\">\n",
       "      <th></th>\n",
       "      <th>timestamp</th>\n",
       "      <th>company</th>\n",
       "      <th>level</th>\n",
       "      <th>title</th>\n",
       "      <th>totalyearlycompensation</th>\n",
       "      <th>location</th>\n",
       "      <th>yearsofexperience</th>\n",
       "      <th>yearsatcompany</th>\n",
       "      <th>tag</th>\n",
       "      <th>basesalary</th>\n",
       "      <th>stockgrantvalue</th>\n",
       "      <th>bonus</th>\n",
       "      <th>gender</th>\n",
       "      <th>otherdetails</th>\n",
       "    </tr>\n",
       "  </thead>\n",
       "  <tbody>\n",
       "    <tr>\n",
       "      <th>0</th>\n",
       "      <td>2017-06-07 11:33:27</td>\n",
       "      <td>Oracle</td>\n",
       "      <td>L3</td>\n",
       "      <td>Product Manager</td>\n",
       "      <td>186</td>\n",
       "      <td>Redwood City, CA</td>\n",
       "      <td>1</td>\n",
       "      <td>1</td>\n",
       "      <td>NaN</td>\n",
       "      <td>160</td>\n",
       "      <td>17</td>\n",
       "      <td>9</td>\n",
       "      <td>NaN</td>\n",
       "      <td>NaN</td>\n",
       "    </tr>\n",
       "    <tr>\n",
       "      <th>1</th>\n",
       "      <td>2017-06-10 17:11:29</td>\n",
       "      <td>eBay</td>\n",
       "      <td>SE 2</td>\n",
       "      <td>Software Engineer</td>\n",
       "      <td>0</td>\n",
       "      <td>San Francisco, CA</td>\n",
       "      <td>3</td>\n",
       "      <td>4</td>\n",
       "      <td>NaN</td>\n",
       "      <td>0</td>\n",
       "      <td>0</td>\n",
       "      <td>0</td>\n",
       "      <td>NaN</td>\n",
       "      <td>NaN</td>\n",
       "    </tr>\n",
       "    <tr>\n",
       "      <th>2</th>\n",
       "      <td>2017-06-11 14:53:57</td>\n",
       "      <td>Amazon</td>\n",
       "      <td>L7</td>\n",
       "      <td>Product Manager</td>\n",
       "      <td>126</td>\n",
       "      <td>Seattle, WA</td>\n",
       "      <td>10</td>\n",
       "      <td>0</td>\n",
       "      <td>NaN</td>\n",
       "      <td>126</td>\n",
       "      <td>0</td>\n",
       "      <td>0</td>\n",
       "      <td>NaN</td>\n",
       "      <td>NaN</td>\n",
       "    </tr>\n",
       "    <tr>\n",
       "      <th>3</th>\n",
       "      <td>2017-06-14 21:22:25</td>\n",
       "      <td>Microsoft</td>\n",
       "      <td>64</td>\n",
       "      <td>Software Engineering Manager</td>\n",
       "      <td>171348</td>\n",
       "      <td>Redmond, WA</td>\n",
       "      <td>13</td>\n",
       "      <td>13</td>\n",
       "      <td>NaN</td>\n",
       "      <td>92799</td>\n",
       "      <td>55371</td>\n",
       "      <td>23178</td>\n",
       "      <td>NaN</td>\n",
       "      <td>NaN</td>\n",
       "    </tr>\n",
       "    <tr>\n",
       "      <th>4</th>\n",
       "      <td>2017-06-16 10:44:01</td>\n",
       "      <td>Amazon</td>\n",
       "      <td>L5</td>\n",
       "      <td>Software Engineer</td>\n",
       "      <td>214175</td>\n",
       "      <td>Vancouver, BC, Canada</td>\n",
       "      <td>13</td>\n",
       "      <td>1</td>\n",
       "      <td>NaN</td>\n",
       "      <td>156335</td>\n",
       "      <td>0</td>\n",
       "      <td>57840</td>\n",
       "      <td>NaN</td>\n",
       "      <td>NaN</td>\n",
       "    </tr>\n",
       "  </tbody>\n",
       "</table>\n",
       "</div>"
      ],
      "text/plain": [
       "            timestamp    company level                         title  \\\n",
       "0 2017-06-07 11:33:27     Oracle    L3               Product Manager   \n",
       "1 2017-06-10 17:11:29       eBay  SE 2             Software Engineer   \n",
       "2 2017-06-11 14:53:57     Amazon    L7               Product Manager   \n",
       "3 2017-06-14 21:22:25  Microsoft    64  Software Engineering Manager   \n",
       "4 2017-06-16 10:44:01     Amazon    L5             Software Engineer   \n",
       "\n",
       "   totalyearlycompensation               location  yearsofexperience  \\\n",
       "0                      186       Redwood City, CA                  1   \n",
       "1                        0      San Francisco, CA                  3   \n",
       "2                      126            Seattle, WA                 10   \n",
       "3                   171348            Redmond, WA                 13   \n",
       "4                   214175  Vancouver, BC, Canada                 13   \n",
       "\n",
       "   yearsatcompany  tag  basesalary  stockgrantvalue  bonus gender otherdetails  \n",
       "0               1  NaN         160               17      9    NaN          NaN  \n",
       "1               4  NaN           0                0      0    NaN          NaN  \n",
       "2               0  NaN         126                0      0    NaN          NaN  \n",
       "3              13  NaN       92799            55371  23178    NaN          NaN  \n",
       "4               1  NaN      156335                0  57840    NaN          NaN  "
      ]
     },
     "execution_count": 11,
     "metadata": {},
     "output_type": "execute_result"
    }
   ],
   "source": [
    "levels_df.head()"
   ]
  },
  {
   "cell_type": "code",
   "execution_count": 12,
   "id": "64eaba1f-8ad8-4930-b40b-e701496f4b04",
   "metadata": {},
   "outputs": [],
   "source": [
    "fb = levels_df[levels_df['company'].isin(['Facebook', 'Meta'])]"
   ]
  },
  {
   "cell_type": "code",
   "execution_count": 31,
   "id": "6e63f974-5c02-4e8a-9b7f-6ffdea578572",
   "metadata": {},
   "outputs": [
    {
     "data": {
      "text/html": [
       "<div>\n",
       "<style scoped>\n",
       "    .dataframe tbody tr th:only-of-type {\n",
       "        vertical-align: middle;\n",
       "    }\n",
       "\n",
       "    .dataframe tbody tr th {\n",
       "        vertical-align: top;\n",
       "    }\n",
       "\n",
       "    .dataframe thead th {\n",
       "        text-align: right;\n",
       "    }\n",
       "</style>\n",
       "<table border=\"1\" class=\"dataframe\">\n",
       "  <thead>\n",
       "    <tr style=\"text-align: right;\">\n",
       "      <th></th>\n",
       "      <th>yearsofexperience</th>\n",
       "      <th>basesalary</th>\n",
       "      <th>count</th>\n",
       "    </tr>\n",
       "  </thead>\n",
       "  <tbody>\n",
       "    <tr>\n",
       "      <th>90</th>\n",
       "      <td>3</td>\n",
       "      <td>63</td>\n",
       "      <td>1</td>\n",
       "    </tr>\n",
       "    <tr>\n",
       "      <th>124</th>\n",
       "      <td>1</td>\n",
       "      <td>72</td>\n",
       "      <td>1</td>\n",
       "    </tr>\n",
       "    <tr>\n",
       "      <th>46</th>\n",
       "      <td>0</td>\n",
       "      <td>78</td>\n",
       "      <td>1</td>\n",
       "    </tr>\n",
       "    <tr>\n",
       "      <th>0</th>\n",
       "      <td>3</td>\n",
       "      <td>78</td>\n",
       "      <td>2</td>\n",
       "    </tr>\n",
       "    <tr>\n",
       "      <th>147</th>\n",
       "      <td>0</td>\n",
       "      <td>80</td>\n",
       "      <td>1</td>\n",
       "    </tr>\n",
       "    <tr>\n",
       "      <th>...</th>\n",
       "      <td>...</td>\n",
       "      <td>...</td>\n",
       "      <td>...</td>\n",
       "    </tr>\n",
       "    <tr>\n",
       "      <th>48</th>\n",
       "      <td>10</td>\n",
       "      <td>280</td>\n",
       "      <td>1</td>\n",
       "    </tr>\n",
       "    <tr>\n",
       "      <th>83</th>\n",
       "      <td>9</td>\n",
       "      <td>288</td>\n",
       "      <td>1</td>\n",
       "    </tr>\n",
       "    <tr>\n",
       "      <th>63</th>\n",
       "      <td>14</td>\n",
       "      <td>294</td>\n",
       "      <td>1</td>\n",
       "    </tr>\n",
       "    <tr>\n",
       "      <th>21</th>\n",
       "      <td>7</td>\n",
       "      <td>303</td>\n",
       "      <td>1</td>\n",
       "    </tr>\n",
       "    <tr>\n",
       "      <th>72</th>\n",
       "      <td>8</td>\n",
       "      <td>305</td>\n",
       "      <td>1</td>\n",
       "    </tr>\n",
       "  </tbody>\n",
       "</table>\n",
       "<p>170 rows × 3 columns</p>\n",
       "</div>"
      ],
      "text/plain": [
       "     yearsofexperience  basesalary  count\n",
       "90                   3          63      1\n",
       "124                  1          72      1\n",
       "46                   0          78      1\n",
       "0                    3          78      2\n",
       "147                  0          80      1\n",
       "..                 ...         ...    ...\n",
       "48                  10         280      1\n",
       "83                   9         288      1\n",
       "63                  14         294      1\n",
       "21                   7         303      1\n",
       "72                   8         305      1\n",
       "\n",
       "[170 rows x 3 columns]"
      ]
     },
     "execution_count": 31,
     "metadata": {},
     "output_type": "execute_result"
    }
   ],
   "source": [
    "fb[(fb['title'] == 'Data Scientist') & (fb['basesalary'] != 0)][\n",
    "    ['yearsofexperience', 'basesalary']\n",
    "].value_counts().reset_index().rename(columns = {0 : 'count'}).sort_values(by = 'basesalary')"
   ]
  },
  {
   "cell_type": "code",
   "execution_count": 21,
   "id": "f34c9baf-f94f-43ff-b1b5-857f6021d1c8",
   "metadata": {},
   "outputs": [
    {
     "data": {
      "text/plain": [
       "<AxesSubplot:>"
      ]
     },
     "execution_count": 21,
     "metadata": {},
     "output_type": "execute_result"
    },
    {
     "data": {
      "image/png": "[encoded data removed]",
      "text/plain": [
       "<Figure size 432x288 with 1 Axes>"
      ]
     },
     "metadata": {
      "needs_background": "light"
     },
     "output_type": "display_data"
    }
   ],
   "source": [
    "fb[(fb['title'] == 'Data Scientist') & (fb['basesalary'] != 0)].sort_values(by = 'basesalary')['basesalary'].hist()"
   ]
  },
  {
   "cell_type": "code",
   "execution_count": 22,
   "id": "10f0e658-7728-40ae-a690-133c2f5d2ebc",
   "metadata": {},
   "outputs": [
    {
     "data": {
      "text/plain": [
       "<AxesSubplot:>"
      ]
     },
     "execution_count": 22,
     "metadata": {},
     "output_type": "execute_result"
    },
    {
     "data": {
      "image/png": "[encoded data removed]",
      "text/plain": [
       "<Figure size 432x288 with 1 Axes>"
      ]
     },
     "metadata": {
      "needs_background": "light"
     },
     "output_type": "display_data"
    }
   ],
   "source": [
    "fb[(fb['title'] == 'Software Engineer') & (fb['basesalary'] != 0)].sort_values(by = 'basesalary')['basesalary'].hist()"
   ]
  },
  {
   "cell_type": "code",
   "execution_count": 23,
   "id": "45369e71-585f-48b1-86ed-3664fdd0c208",
   "metadata": {},
   "outputs": [
    {
     "data": {
      "text/html": [
       "<div>\n",
       "<style scoped>\n",
       "    .dataframe tbody tr th:only-of-type {\n",
       "        vertical-align: middle;\n",
       "    }\n",
       "\n",
       "    .dataframe tbody tr th {\n",
       "        vertical-align: top;\n",
       "    }\n",
       "\n",
       "    .dataframe thead th {\n",
       "        text-align: right;\n",
       "    }\n",
       "</style>\n",
       "<table border=\"1\" class=\"dataframe\">\n",
       "  <thead>\n",
       "    <tr style=\"text-align: right;\">\n",
       "      <th></th>\n",
       "      <th>timestamp</th>\n",
       "      <th>company</th>\n",
       "      <th>level</th>\n",
       "      <th>title</th>\n",
       "      <th>totalyearlycompensation</th>\n",
       "      <th>location</th>\n",
       "      <th>yearsofexperience</th>\n",
       "      <th>yearsatcompany</th>\n",
       "      <th>tag</th>\n",
       "      <th>basesalary</th>\n",
       "      <th>stockgrantvalue</th>\n",
       "      <th>bonus</th>\n",
       "      <th>gender</th>\n",
       "      <th>otherdetails</th>\n",
       "    </tr>\n",
       "  </thead>\n",
       "  <tbody>\n",
       "    <tr>\n",
       "      <th>23</th>\n",
       "      <td>2017-07-21 15:34:53</td>\n",
       "      <td>Facebook</td>\n",
       "      <td>E6</td>\n",
       "      <td>Software Engineer</td>\n",
       "      <td>485280</td>\n",
       "      <td>San Francisco, CA</td>\n",
       "      <td>5</td>\n",
       "      <td>7</td>\n",
       "      <td>NaN</td>\n",
       "      <td>175950</td>\n",
       "      <td>267130</td>\n",
       "      <td>42200</td>\n",
       "      <td>NaN</td>\n",
       "      <td>NaN</td>\n",
       "    </tr>\n",
       "    <tr>\n",
       "      <th>71</th>\n",
       "      <td>2017-09-04 14:17:07</td>\n",
       "      <td>Facebook</td>\n",
       "      <td>E4</td>\n",
       "      <td>Software Engineer</td>\n",
       "      <td>282</td>\n",
       "      <td>Menlo Park, CA</td>\n",
       "      <td>1</td>\n",
       "      <td>1</td>\n",
       "      <td>NaN</td>\n",
       "      <td>189</td>\n",
       "      <td>79</td>\n",
       "      <td>14</td>\n",
       "      <td>NaN</td>\n",
       "      <td>NaN</td>\n",
       "    </tr>\n",
       "    <tr>\n",
       "      <th>116</th>\n",
       "      <td>2017-10-17 22:57:39</td>\n",
       "      <td>Facebook</td>\n",
       "      <td>E6</td>\n",
       "      <td>Software Engineer</td>\n",
       "      <td>3386013</td>\n",
       "      <td>Seattle, WA</td>\n",
       "      <td>11</td>\n",
       "      <td>5</td>\n",
       "      <td>NaN</td>\n",
       "      <td>208032</td>\n",
       "      <td>3140803</td>\n",
       "      <td>37178</td>\n",
       "      <td>NaN</td>\n",
       "      <td>schloub kliafy waitz mccreaucs snooks swuew ca...</td>\n",
       "    </tr>\n",
       "    <tr>\n",
       "      <th>117</th>\n",
       "      <td>2017-10-19 01:31:35</td>\n",
       "      <td>Facebook</td>\n",
       "      <td>E6</td>\n",
       "      <td>Software Engineer</td>\n",
       "      <td>1661</td>\n",
       "      <td>Menlo Park, CA</td>\n",
       "      <td>12</td>\n",
       "      <td>1</td>\n",
       "      <td>NaN</td>\n",
       "      <td>305</td>\n",
       "      <td>1320</td>\n",
       "      <td>36</td>\n",
       "      <td>NaN</td>\n",
       "      <td>NaN</td>\n",
       "    </tr>\n",
       "    <tr>\n",
       "      <th>121</th>\n",
       "      <td>2017-10-21 13:13:16</td>\n",
       "      <td>Facebook</td>\n",
       "      <td>E3</td>\n",
       "      <td>Software Engineer</td>\n",
       "      <td>149665</td>\n",
       "      <td>San Francisco, CA</td>\n",
       "      <td>0</td>\n",
       "      <td>0</td>\n",
       "      <td>NaN</td>\n",
       "      <td>78123</td>\n",
       "      <td>47530</td>\n",
       "      <td>24012</td>\n",
       "      <td>NaN</td>\n",
       "      <td>NaN</td>\n",
       "    </tr>\n",
       "    <tr>\n",
       "      <th>...</th>\n",
       "      <td>...</td>\n",
       "      <td>...</td>\n",
       "      <td>...</td>\n",
       "      <td>...</td>\n",
       "      <td>...</td>\n",
       "      <td>...</td>\n",
       "      <td>...</td>\n",
       "      <td>...</td>\n",
       "      <td>...</td>\n",
       "      <td>...</td>\n",
       "      <td>...</td>\n",
       "      <td>...</td>\n",
       "      <td>...</td>\n",
       "      <td>...</td>\n",
       "    </tr>\n",
       "    <tr>\n",
       "      <th>62491</th>\n",
       "      <td>2021-08-15 22:17:26</td>\n",
       "      <td>Facebook</td>\n",
       "      <td>IC4</td>\n",
       "      <td>Software Engineer</td>\n",
       "      <td>262</td>\n",
       "      <td>Menlo Park, CA</td>\n",
       "      <td>7</td>\n",
       "      <td>4</td>\n",
       "      <td>Web Development (Front-End)</td>\n",
       "      <td>185</td>\n",
       "      <td>49</td>\n",
       "      <td>28</td>\n",
       "      <td>NaN</td>\n",
       "      <td>ceosts knaop</td>\n",
       "    </tr>\n",
       "    <tr>\n",
       "      <th>62492</th>\n",
       "      <td>2021-08-15 22:20:26</td>\n",
       "      <td>Facebook</td>\n",
       "      <td>E5</td>\n",
       "      <td>Software Engineer</td>\n",
       "      <td>502</td>\n",
       "      <td>Seattle, WA</td>\n",
       "      <td>7</td>\n",
       "      <td>0</td>\n",
       "      <td>Full Stack</td>\n",
       "      <td>293</td>\n",
       "      <td>183</td>\n",
       "      <td>26</td>\n",
       "      <td>Male</td>\n",
       "      <td>thaab spaagy gnuirn yioupp juasly draasly</td>\n",
       "    </tr>\n",
       "    <tr>\n",
       "      <th>62523</th>\n",
       "      <td>2021-08-16 09:20:58</td>\n",
       "      <td>Facebook</td>\n",
       "      <td>E5</td>\n",
       "      <td>Software Engineer</td>\n",
       "      <td>464</td>\n",
       "      <td>Seattle, WA</td>\n",
       "      <td>7</td>\n",
       "      <td>0</td>\n",
       "      <td>Distributed Systems (Back-End)</td>\n",
       "      <td>284</td>\n",
       "      <td>146</td>\n",
       "      <td>34</td>\n",
       "      <td>Male</td>\n",
       "      <td>mcmeucs mcleatch riocy twauv schmiengly yienn</td>\n",
       "    </tr>\n",
       "    <tr>\n",
       "      <th>62586</th>\n",
       "      <td>2021-08-16 19:14:27</td>\n",
       "      <td>Facebook</td>\n",
       "      <td>E4</td>\n",
       "      <td>Software Engineer</td>\n",
       "      <td>326</td>\n",
       "      <td>New York, NY</td>\n",
       "      <td>3</td>\n",
       "      <td>2</td>\n",
       "      <td>Distributed Systems (Back-End)</td>\n",
       "      <td>221</td>\n",
       "      <td>92</td>\n",
       "      <td>13</td>\n",
       "      <td>Male</td>\n",
       "      <td>rhoish schroub physaently shieg plaesp wiom sh...</td>\n",
       "    </tr>\n",
       "    <tr>\n",
       "      <th>62603</th>\n",
       "      <td>2021-08-16 21:21:24</td>\n",
       "      <td>Facebook</td>\n",
       "      <td>E3</td>\n",
       "      <td>Software Engineer</td>\n",
       "      <td>167</td>\n",
       "      <td>San Francisco, CA</td>\n",
       "      <td>1</td>\n",
       "      <td>1</td>\n",
       "      <td>Product Infra</td>\n",
       "      <td>148</td>\n",
       "      <td>19</td>\n",
       "      <td>0</td>\n",
       "      <td>Female</td>\n",
       "      <td>theiarts streaut phoacs mccaan smauw hyeiath t...</td>\n",
       "    </tr>\n",
       "  </tbody>\n",
       "</table>\n",
       "<p>1868 rows × 14 columns</p>\n",
       "</div>"
      ],
      "text/plain": [
       "                timestamp   company level              title  \\\n",
       "23    2017-07-21 15:34:53  Facebook    E6  Software Engineer   \n",
       "71    2017-09-04 14:17:07  Facebook    E4  Software Engineer   \n",
       "116   2017-10-17 22:57:39  Facebook    E6  Software Engineer   \n",
       "117   2017-10-19 01:31:35  Facebook    E6  Software Engineer   \n",
       "121   2017-10-21 13:13:16  Facebook    E3  Software Engineer   \n",
       "...                   ...       ...   ...                ...   \n",
       "62491 2021-08-15 22:17:26  Facebook   IC4  Software Engineer   \n",
       "62492 2021-08-15 22:20:26  Facebook    E5  Software Engineer   \n",
       "62523 2021-08-16 09:20:58  Facebook    E5  Software Engineer   \n",
       "62586 2021-08-16 19:14:27  Facebook    E4  Software Engineer   \n",
       "62603 2021-08-16 21:21:24  Facebook    E3  Software Engineer   \n",
       "\n",
       "       totalyearlycompensation           location  yearsofexperience  \\\n",
       "23                      485280  San Francisco, CA                  5   \n",
       "71                         282     Menlo Park, CA                  1   \n",
       "116                    3386013        Seattle, WA                 11   \n",
       "117                       1661     Menlo Park, CA                 12   \n",
       "121                     149665  San Francisco, CA                  0   \n",
       "...                        ...                ...                ...   \n",
       "62491                      262     Menlo Park, CA                  7   \n",
       "62492                      502        Seattle, WA                  7   \n",
       "62523                      464        Seattle, WA                  7   \n",
       "62586                      326       New York, NY                  3   \n",
       "62603                      167  San Francisco, CA                  1   \n",
       "\n",
       "       yearsatcompany                             tag  basesalary  \\\n",
       "23                  7                             NaN      175950   \n",
       "71                  1                             NaN         189   \n",
       "116                 5                             NaN      208032   \n",
       "117                 1                             NaN         305   \n",
       "121                 0                             NaN       78123   \n",
       "...               ...                             ...         ...   \n",
       "62491               4     Web Development (Front-End)         185   \n",
       "62492               0                      Full Stack         293   \n",
       "62523               0  Distributed Systems (Back-End)         284   \n",
       "62586               2  Distributed Systems (Back-End)         221   \n",
       "62603               1                   Product Infra         148   \n",
       "\n",
       "       stockgrantvalue  bonus  gender  \\\n",
       "23              267130  42200     NaN   \n",
       "71                  79     14     NaN   \n",
       "116            3140803  37178     NaN   \n",
       "117               1320     36     NaN   \n",
       "121              47530  24012     NaN   \n",
       "...                ...    ...     ...   \n",
       "62491               49     28     NaN   \n",
       "62492              183     26    Male   \n",
       "62523              146     34    Male   \n",
       "62586               92     13    Male   \n",
       "62603               19      0  Female   \n",
       "\n",
       "                                            otherdetails  \n",
       "23                                                   NaN  \n",
       "71                                                   NaN  \n",
       "116    schloub kliafy waitz mccreaucs snooks swuew ca...  \n",
       "117                                                  NaN  \n",
       "121                                                  NaN  \n",
       "...                                                  ...  \n",
       "62491                                       ceosts knaop  \n",
       "62492          thaab spaagy gnuirn yioupp juasly draasly  \n",
       "62523      mcmeucs mcleatch riocy twauv schmiengly yienn  \n",
       "62586  rhoish schroub physaently shieg plaesp wiom sh...  \n",
       "62603  theiarts streaut phoacs mccaan smauw hyeiath t...  \n",
       "\n",
       "[1868 rows x 14 columns]"
      ]
     },
     "execution_count": 23,
     "metadata": {},
     "output_type": "execute_result"
    }
   ],
   "source": [
    "fb[(fb['title'] == 'Software Engineer') & (fb['basesalary'] != 0)]"
   ]
  },
  {
   "cell_type": "code",
   "execution_count": 34,
   "id": "7552f379-fb77-44c1-927d-ddb6e5e144e1",
   "metadata": {},
   "outputs": [
    {
     "data": {
      "text/plain": [
       "array(['Solution Architect', 'Software Engineer',\n",
       "       'Software Engineering Manager', 'Technical Program Manager',\n",
       "       'Marketing'], dtype=object)"
      ]
     },
     "execution_count": 34,
     "metadata": {},
     "output_type": "execute_result"
    }
   ],
   "source": [
    "levels_df[levels_df['company'] == 'Databricks'].title.unique()"
   ]
  }
 ],
 "metadata": {
  "kernelspec": {
   "display_name": "Python 3",
   "language": "python",
   "name": "python3"
  },
  "language_info": {
   "codemirror_mode": {
    "name": "ipython",
    "version": 3
   },
   "file_extension": ".py",
   "mimetype": "text/x-python",
   "name": "python",
   "nbconvert_exporter": "python",
   "pygments_lexer": "ipython3",
   "version": "3.8.8"
  }
 },
 "nbformat": 4,
 "nbformat_minor": 5
}
