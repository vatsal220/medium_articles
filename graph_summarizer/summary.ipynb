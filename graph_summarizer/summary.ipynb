{
 "cells": [
  {
   "cell_type": "markdown",
   "id": "1f38f295-486a-4984-99e0-4b8bba882256",
   "metadata": {},
   "source": [
    "# Graph Summarizer"
   ]
  },
  {
   "cell_type": "code",
   "execution_count": 1,
   "id": "0cc14edd-c3ce-41c9-b482-caa85d1c2155",
   "metadata": {},
   "outputs": [],
   "source": [
    "import networkx as nx\n",
    "import random\n",
    "import numpy as np\n",
    "import nltk\n",
    "\n",
    "try:\n",
    "    from nltk.corpus import stopwords\n",
    "except:\n",
    "    import nltk\n",
    "    nltk.download('stopwords')\n",
    "finally:\n",
    "    from nltk.corpus import stopwords"
   ]
  },
  {
   "cell_type": "markdown",
   "id": "1e0b0c21-6222-4c3d-a7da-afbf14200931",
   "metadata": {},
   "source": [
    "## Load Text"
   ]
  },
  {
   "cell_type": "code",
   "execution_count": 2,
   "id": "b791148e-c174-4300-8809-409de62c6d99",
   "metadata": {},
   "outputs": [],
   "source": [
    "try:\n",
    "    book = nltk.corpus.gutenberg.raw('melville-moby_dick.txt')\n",
    "except:\n",
    "    nltk.download('gutenberg')\n",
    "finally:\n",
    "    book = nltk.corpus.gutenberg.raw('melville-moby_dick.txt')"
   ]
  },
  {
   "cell_type": "markdown",
   "id": "97fef574-7477-4f99-8628-9380d20bbdcf",
   "metadata": {},
   "source": [
    "## Clean Text"
   ]
  },
  {
   "cell_type": "code",
   "execution_count": null,
   "id": "305e8a80-7bde-4708-b820-6de14f578b8e",
   "metadata": {},
   "outputs": [],
   "source": [
    "def remove_stopwords():\n",
    "    pass"
   ]
  },
  {
   "cell_type": "markdown",
   "id": "99cbd73e-02f9-4878-9ae5-42b3d26e3f19",
   "metadata": {},
   "source": [
    "## Create Network"
   ]
  },
  {
   "cell_type": "code",
   "execution_count": null,
   "id": "54dbaa13-cecc-4ed5-98d7-45fcde2e7c7a",
   "metadata": {},
   "outputs": [],
   "source": []
  },
  {
   "cell_type": "markdown",
   "id": "c2c2a246-ded4-4810-bcd5-1e107a79fd63",
   "metadata": {},
   "source": [
    "## Summarize"
   ]
  },
  {
   "cell_type": "code",
   "execution_count": null,
   "id": "690d6116-2e28-4cfb-a0a7-0279931989ed",
   "metadata": {},
   "outputs": [],
   "source": []
  },
  {
   "cell_type": "markdown",
   "id": "af0ede8b-7446-4184-9051-c409601d53fa",
   "metadata": {},
   "source": [
    "---"
   ]
  }
 ],
 "metadata": {
  "kernelspec": {
   "display_name": "Python 3",
   "language": "python",
   "name": "python3"
  },
  "language_info": {
   "codemirror_mode": {
    "name": "ipython",
    "version": 3
   },
   "file_extension": ".py",
   "mimetype": "text/x-python",
   "name": "python",
   "nbconvert_exporter": "python",
   "pygments_lexer": "ipython3",
   "version": "3.8.8"
  }
 },
 "nbformat": 4,
 "nbformat_minor": 5
}
