{
 "cells": [
  {
   "cell_type": "markdown",
   "id": "1f38f295-486a-4984-99e0-4b8bba882256",
   "metadata": {},
   "source": [
    "# Graph Summarizer"
   ]
  },
  {
   "cell_type": "markdown",
   "id": "108d3b11-1de2-4743-b240-7d585bf384db",
   "metadata": {},
   "source": [
    "Install the Jaro package through the following command:  \n",
    "`!pip install jaro-winkler`  \n",
    "You can reference the installation documentation [here](https://pypi.org/project/jaro-winkler/)"
   ]
  },
  {
   "cell_type": "code",
   "execution_count": 1,
   "id": "0cc14edd-c3ce-41c9-b482-caa85d1c2155",
   "metadata": {},
   "outputs": [],
   "source": [
    "import networkx as nx\n",
    "import numpy as np\n",
    "import nltk\n",
    "import jaro\n",
    "\n",
    "try:\n",
    "    from nltk.corpus import stopwords\n",
    "except:\n",
    "    import nltk\n",
    "    nltk.download('stopwords')\n",
    "finally:\n",
    "    from nltk.corpus import stopwords"
   ]
  },
  {
   "cell_type": "code",
   "execution_count": 2,
   "id": "19531579-4001-4663-8442-a056cb0b6bc4",
   "metadata": {},
   "outputs": [],
   "source": [
    "# constants\n",
    "sw = list(set(stopwords.words('english')))\n",
    "punct = [\n",
    "    '!','#','$','%','&','(',')','*',\n",
    "    '+',',','-','/',':',';','<','=','>','@',\n",
    "    '[','\\\\',']','^','_','`','{','|','}','~'\n",
    "]"
   ]
  },
  {
   "cell_type": "markdown",
   "id": "1e0b0c21-6222-4c3d-a7da-afbf14200931",
   "metadata": {},
   "source": [
    "## Load Text"
   ]
  },
  {
   "cell_type": "markdown",
   "id": "2ba91386-65e0-4cb4-a8c3-d69c8251a919",
   "metadata": {},
   "source": [
    "I've set up this tutorial in a manner that any body of text can be input to the pipeline. Continue on with this tutorial with the text I've selected or use your own. Below are a set of books you can easily download through the NLTK library and Gutenberg project. All of these books are free to use as they are a part of the public domain."
   ]
  },
  {
   "cell_type": "code",
   "execution_count": 3,
   "id": "e06e000c-4f64-48d2-8a12-2ed1d3dccd4f",
   "metadata": {},
   "outputs": [],
   "source": [
    "# free to use books in the public domain which can be fetched by NTLK and project gutenberg\n",
    "book_choices = [\n",
    "    'austen-emma.txt', 'austen-persuasion.txt', 'austen-sense.txt', 'bible-kjv.txt',\n",
    "    'blake-poems.txt', 'bryant-stories.txt', 'burgess-busterbrown.txt',\n",
    "    'carroll-alice.txt', 'chesterton-ball.txt', 'chesterton-brown.txt',\n",
    "    'chesterton-thursday.txt', 'edgeworth-parents.txt', 'melville-moby_dick.txt',\n",
    "    'milton-paradise.txt', 'shakespeare-caesar.txt', 'shakespeare-hamlet.txt',\n",
    "    'shakespeare-macbeth.txt', 'whitman-leaves.txt'\n",
    "]"
   ]
  },
  {
   "cell_type": "markdown",
   "id": "abd76f5f-98ed-49c4-ada5-927b35ff34b3",
   "metadata": {},
   "source": [
    "For the purposes of this tutorial, I will be using Shakespeare's play on Julius Caesar. Do note that this and all other bodies of text written by William Shakespeare is in the [public domain](https://en.wikipedia.org/wiki/Public_domain), as the bodies of text were created prior to the existence of any copyright restrictions [2]. "
   ]
  },
  {
   "cell_type": "code",
   "execution_count": 4,
   "id": "b791148e-c174-4300-8809-409de62c6d99",
   "metadata": {},
   "outputs": [],
   "source": [
    "try:\n",
    "    book = nltk.corpus.gutenberg.raw('shakespeare-caesar.txt')\n",
    "except:\n",
    "    nltk.download('gutenberg')\n",
    "finally:\n",
    "    book = nltk.corpus.gutenberg.raw('shakespeare-caesar.txt')"
   ]
  },
  {
   "cell_type": "code",
   "execution_count": 5,
   "id": "8a21348b-181d-4042-af20-eb18ffc363ea",
   "metadata": {},
   "outputs": [
    {
     "data": {
      "text/plain": [
       "\"[The Tragedie of Julius Caesar by William Shakespeare 1599]\\n\\n\\nActus Primus. Scoena Prima.\\n\\nEnter Flauius, Murellus, and certaine Commoners ouer the Stage.\\n\\n  Flauius. Hence: home you idle Creatures, get you home:\\nIs this a Holiday? What, know you not\\n(Being Mechanicall) you ought not walke\\nVpon a labouring day, without the signe\\nOf your Profession? Speake, what Trade art thou?\\n  Car. Why Sir, a Carpenter\\n\\n   Mur. Where is thy Leather Apron, and thy Rule?\\nWhat dost thou with thy best Apparrell on?\\nYou sir, what Trade are you?\\n  Cobl. Truely Sir, in respect of a fine Workman, I am\\nbut as you would say, a Cobler\\n\\n   Mur. But what Trade art thou? Answer me directly\\n\\n   Cob. A Trade Sir, that I hope I may vse, with a safe\\nConscience, which is indeed Sir, a Mender of bad soules\\n\\n   Fla. What Trade thou knaue? Thou naughty knaue,\\nwhat Trade?\\n  Cobl. Nay I beseech you Sir, be not out with me: yet\\nif you be out Sir, I can mend you\\n\\n   Mur. What mean'st thou by that? Mend mee, thou\\nsawcy Fellow?\\n  Cob. Why sir, Cobble you\\n\\n   Fla. Thou art a Cobler, art thou?\\n  Cob. Truly sir, all that I liue by, is with the Aule: I\\nmeddle with no Tradesmans matters, nor womens matters;\\nbut withal I am indeed Sir, a Surgeon to old shooes:\\nwhen they are in great danger, I recouer them. As proper\\nmen as euer trod vpon Neats Leather, haue gone vpon\\nmy handy-worke\\n\\n   Fla. But wherefore art not in thy Shop to day?\\nWhy do'st thou leade these men about the streets?\\n  Cob. Truly sir, to weare out their shooes, to get my\\nselfe into more worke. But indeede sir, we make Holyday\\nto see Caesar, and to reioyce in his Triumph\\n\\n   Mur. Wherefore reioyce?\\nWhat Conquest brings he home?\\nWhat Tributaries follow him to Rome,\\nTo grace in Captiue bonds his Chariot Wheeles?\\nYou Blockes, you stones, you worse then senslesse things:\\nO you hard hearts, you cruell men of Rome,\\nKnew you not Pompey many a time and oft?\\nHaue you climb'd vp to Walles and Battlements,\\nTo Towres and Windowes? Yea, to Chimney tops,\\nYour Infan\""
      ]
     },
     "execution_count": 5,
     "metadata": {},
     "output_type": "execute_result"
    }
   ],
   "source": [
    "book[0:2000]"
   ]
  },
  {
   "cell_type": "markdown",
   "id": "97fef574-7477-4f99-8628-9380d20bbdcf",
   "metadata": {},
   "source": [
    "## Clean Text"
   ]
  },
  {
   "cell_type": "code",
   "execution_count": 6,
   "id": "9a8c1082-c1ab-4f2c-89bc-18d8958dd491",
   "metadata": {},
   "outputs": [],
   "source": [
    "def clean_text(text, sw = sw, punct = punct):\n",
    "    '''\n",
    "    This function will clean the input text by lowering, removing certain punctuations, stopwords and \n",
    "    new line tags.\n",
    "    \n",
    "    params:\n",
    "        text (String) : The body of text you want to clean\n",
    "        sw (List) : The list of stopwords you wish to removed from the input text\n",
    "        punct (List) : The slist of punctuations you wish to remove from the input text\n",
    "        \n",
    "    returns:\n",
    "        This function will return the input text after it's cleaned (the output will be a string) and \n",
    "        a dictionary mapping of the original sentences with its index\n",
    "    '''\n",
    "    article = text.lower()\n",
    "    \n",
    "    # clean punctuations\n",
    "    for pun in punct:\n",
    "        article = article.replace(pun, '')\n",
    "    \n",
    "    article = article.replace(\"[^a-zA-Z]\", \" \").replace('\\r\\n', ' ').replace('\\n', ' ')\n",
    "    original_text_mapping = {k:v for k,v in enumerate(article.split('. '))}\n",
    "    \n",
    "    article = article.split(' ')\n",
    "    \n",
    "    # clean stopwords\n",
    "    article = [x.lstrip().rstrip() for x in article if x not in sw]\n",
    "    article = [x for x in article if x]\n",
    "    article = ' '.join(article)\n",
    "\n",
    "    return original_text_mapping, article"
   ]
  },
  {
   "cell_type": "code",
   "execution_count": 7,
   "id": "6898acff-e5c1-4db5-9bd2-618040634957",
   "metadata": {},
   "outputs": [
    {
     "name": "stdout",
     "output_type": "stream",
     "text": [
      "CPU times: user 41.7 ms, sys: 1.03 ms, total: 42.7 ms\n",
      "Wall time: 42.4 ms\n"
     ]
    }
   ],
   "source": [
    "%time original_text_mapping, cleaned_book = clean_text(book)"
   ]
  },
  {
   "cell_type": "code",
   "execution_count": 8,
   "id": "03741196-f770-40cb-9d26-0bd3d8bbb89e",
   "metadata": {},
   "outputs": [],
   "source": [
    "# get sentences\n",
    "sentences = [x for x in cleaned_book.split('. ') if x not in ['', ' ', '..', '.', '...']]"
   ]
  },
  {
   "cell_type": "code",
   "execution_count": 9,
   "id": "717fae57-06a9-49d6-bad3-eda3343f8262",
   "metadata": {},
   "outputs": [
    {
     "data": {
      "text/plain": [
       "1289"
      ]
     },
     "execution_count": 9,
     "metadata": {},
     "output_type": "execute_result"
    }
   ],
   "source": [
    "len(sentences)"
   ]
  },
  {
   "cell_type": "markdown",
   "id": "1bb73b86-4641-439e-aeee-d1aa8a56e528",
   "metadata": {},
   "source": [
    "## Create Network"
   ]
  },
  {
   "cell_type": "markdown",
   "id": "29ce79bc-455a-40a1-926d-0a10dc073e60",
   "metadata": {},
   "source": [
    "In this section we will create an adjacency matrix through the similarity of various sentences. This adjacency matrix will then allow us to create a weighted network (through NetworkX). Please keep in mind the size of your input body of text, since the similarity matrix needs to assign a score for each pair of sentences it will be an extensive and exhausting process for your computer if your body of text is very large (> 2000 sentences).\n",
    "\n",
    "In the created network, the nodes will be indices associated to the sentences in the book and the edges connecting the sentences will be weighted based on the similarity of a pair of sentences. We can then run the page rank algorithm on that weighted network to identify nodes with a large rank associated to them. \n",
    "\n",
    "At very high level, the intuition behind the page rank algorithm is to identify highly popular nodes through the use of [random walks](https://towardsdatascience.com/random-walks-with-restart-explained-77c3fe216bca). It's a very popular network based algorithm Larry Page and was famously used by Google to rank their web pages in their search enginer results [1]. In the context of our example, page rank will tell us highly influential sentences in the network. We can then take the top N most influential sentences, join them together and return them back to the user in the form of a summary of the original body of text. "
   ]
  },
  {
   "cell_type": "code",
   "execution_count": 10,
   "id": "1c1d1ebb-6fbc-4dae-a540-091f0f5c6e88",
   "metadata": {},
   "outputs": [],
   "source": [
    "def create_similarity_matrix(sentences):\n",
    "    '''\n",
    "    The purpose of this function will be to create an N x N similarity matrix.\n",
    "    N represents the number of sentences and the similarity of a pair of sentences\n",
    "    will be determined through the Jaro-Winkler Score.\n",
    "    \n",
    "    params:\n",
    "        sentences (List -> String) : This is a list of strings you want to create\n",
    "                                     the similarity matrix with.\n",
    "     \n",
    "    returns:\n",
    "        This function will return a square numpy matrix\n",
    "    '''\n",
    "    \n",
    "    # identify sentence similarity matrix with Jaro Winkler score\n",
    "    sentence_length = len(sentences)\n",
    "    sim_mat = np.zeros((sentence_length, sentence_length))\n",
    "\n",
    "    for i in range(sentence_length):\n",
    "        for j in range(sentence_length):\n",
    "            if i != j:\n",
    "                similarity = jaro.jaro_winkler_metric(sentences[i], sentences[j])\n",
    "                sim_mat[i][j] = similarity\n",
    "    return sim_mat"
   ]
  },
  {
   "cell_type": "code",
   "execution_count": 11,
   "id": "e4fff8fe-c678-402f-b4df-2a404257b131",
   "metadata": {},
   "outputs": [
    {
     "name": "stdout",
     "output_type": "stream",
     "text": [
      "CPU times: user 2min, sys: 295 ms, total: 2min\n",
      "Wall time: 2min\n"
     ]
    }
   ],
   "source": [
    "%time sim_mat = create_similarity_matrix(sentences)"
   ]
  },
  {
   "cell_type": "code",
   "execution_count": 12,
   "id": "f97b1946-3825-4939-bae2-d1f072749e4b",
   "metadata": {},
   "outputs": [
    {
     "name": "stdout",
     "output_type": "stream",
     "text": [
      "CPU times: user 2.42 s, sys: 170 ms, total: 2.59 s\n",
      "Wall time: 2.75 s\n"
     ]
    }
   ],
   "source": [
    "%%time \n",
    "# create network\n",
    "G = nx.from_numpy_matrix(sim_mat)"
   ]
  },
  {
   "cell_type": "code",
   "execution_count": 13,
   "id": "609c9cc5-c698-44c9-ac16-502b825eae75",
   "metadata": {},
   "outputs": [
    {
     "name": "stdout",
     "output_type": "stream",
     "text": [
      "Name: \n",
      "Type: Graph\n",
      "Number of nodes: 1289\n",
      "Number of edges: 818195\n",
      "Average degree: 1269.5035\n"
     ]
    }
   ],
   "source": [
    "print(nx.info(G))"
   ]
  },
  {
   "cell_type": "code",
   "execution_count": 14,
   "id": "e62684d3-6dd2-4d2f-8725-50e72fa3ad7f",
   "metadata": {},
   "outputs": [
    {
     "name": "stdout",
     "output_type": "stream",
     "text": [
      "CPU times: user 10.2 s, sys: 899 ms, total: 11.1 s\n",
      "Wall time: 11.9 s\n"
     ]
    }
   ],
   "source": [
    "%%time \n",
    "# calculate page rank scores\n",
    "pr_sentence_similarity = nx.pagerank(G)"
   ]
  },
  {
   "cell_type": "markdown",
   "id": "2961bf55-88c8-49d0-9d6d-e205b8d7673d",
   "metadata": {},
   "source": [
    "The built in page rank function will output a dictionary where the keys are the nodes and the values are the associated page rank score to that node."
   ]
  },
  {
   "cell_type": "code",
   "execution_count": 15,
   "id": "cdabb3ec-467b-435b-ae65-e12a7547b7e3",
   "metadata": {},
   "outputs": [],
   "source": [
    "ranked_sentences = [\n",
    "    (original_text_mapping[sent], rank) for sent,rank in sorted(pr_sentence_similarity.items(), key=lambda item: item[1], reverse = True)\n",
    "]"
   ]
  },
  {
   "cell_type": "code",
   "execution_count": 20,
   "id": "56789e21-29b1-4196-b780-5dce5adab828",
   "metadata": {},
   "outputs": [
    {
     "data": {
      "text/plain": [
       "\"the taper burneth in your closet sir searching the window for a flint i found this paper thus seal'd vp and i am sure it did not lye there when i went to bed\""
      ]
     },
     "execution_count": 20,
     "metadata": {},
     "output_type": "execute_result"
    }
   ],
   "source": [
    "ranked_sentences[0][0]"
   ]
  },
  {
   "cell_type": "markdown",
   "id": "dcb3aaeb-3843-4c31-8a38-bdf855ebb53e",
   "metadata": {},
   "source": [
    "## Generate Summary"
   ]
  },
  {
   "cell_type": "code",
   "execution_count": 17,
   "id": "c6091b8e-b5c9-4cf3-8c76-1c98bb40ab63",
   "metadata": {},
   "outputs": [],
   "source": [
    "def generate_summary(ranked_sentences, N):\n",
    "    '''\n",
    "    This function will generate the summary given a list of ranked sentences and the\n",
    "    number of sentences the user wants in their summary.\n",
    "    \n",
    "    params:\n",
    "        ranked_sentences (List -> Tuples) : The list of ranked sentences where each\n",
    "                                            element is a tuple, the first value in the\n",
    "                                            tuple is the sentence, the second value is\n",
    "                                            the rank\n",
    "        N (Integer) : The number of sentences the user wants in the summary\n",
    "        \n",
    "    returns:\n",
    "        This function will return a string associated to the summarized ranked_sentences\n",
    "        of a book\n",
    "    '''\n",
    "    summary = '. '.join([sent[0] for sent in ranked_sentences[0:N]])\n",
    "    return summary"
   ]
  },
  {
   "cell_type": "code",
   "execution_count": 18,
   "id": "4c6f66fe-d0d5-4ed4-b1ac-3da7a0fe5252",
   "metadata": {},
   "outputs": [
    {
     "name": "stdout",
     "output_type": "stream",
     "text": [
      "CPU times: user 8 µs, sys: 0 ns, total: 8 µs\n",
      "Wall time: 8.82 µs\n"
     ]
    }
   ],
   "source": [
    "%%time\n",
    "N = 25\n",
    "summary = generate_summary(ranked_sentences, N)"
   ]
  },
  {
   "cell_type": "code",
   "execution_count": 19,
   "id": "35438318-c8d1-418f-afe4-2ab777ae12b0",
   "metadata": {},
   "outputs": [
    {
     "data": {
      "text/plain": [
       "\"the taper burneth in your closet sir searching the window for a flint i found this paper thus seal'd vp and i am sure it did not lye there when i went to bed. forget not in your speed antonio to touch calphurnia for our elders say the barren touched in this holy chace shake off their sterrile curse     ant. decius well vrg'd i thinke it is not meet marke antony so well belou'd of caesar should outliue caesar we shall finde of him a shrew'd contriuer. this day i breathed first time is come round and where i did begin there shall i end my life is run his compasse. post backe with speede and tell him what hath chanc'd heere is a mourning rome a dangerous rome no rome of safety for octauius yet hie hence and tell him so. publius good cheere there is no harme intended to your person nor to no roman else so tell them publius     cassi. these growing feathers pluckt from caesars wing will make him flye an ordinary pitch who else would soare aboue the view of men and keepe vs all in seruile fearefulnesse. why man he doth bestride the narrow world like a colossus and we petty men walke vnder his huge legges and peepe about to finde our selues dishonourable graues. gentlemen all alas what shall i say my credit now stands on such slippery ground that one of two bad wayes you must conceit me either a coward or a flatterer. but if these as i am sure they do beare fire enough to kindle cowards and to steele with valour the melting spirits of women. i an itching palme? you know that you are brutus that speakes this or by the gods this speech were else your last     bru. the deepe of night is crept vpon our talke and nature must obey necessitie which we will niggard with a little rest there is no more to say     cassi. the noble brutus hath told you caesar was ambitious if it were so it was a greeuous fault and greeuously hath caesar answer'd it. i am not gamesom i do lacke some part of that quicke spirit that is in antony let me not hinder cassius your desires ile leaue you     cassi. there is but one minde in all these men and it is bent against caesar if thou beest not immortall looke about you security giues way to conspiracie. come therefore and to tharsus send his body his funerals shall not be in our campe least it discomfort vs. in your bad strokes brutus you giue good words witnesse the hole you made in caesars heart crying long liue haile caesar     cassi. what priuate greefes they haue alas i know not that made them do it they are wise and honourable and will no doubt with reasons answer you. that you haue wrong'd me doth appear in this you haue condemn'd and noted lucius pella for taking bribes heere of the sardians wherein my letters praying on his side because i knew the man was slighted off     bru. but wherefore did you so much tempt the heauens? it is the part of men to feare and tremble when the most mightie gods by tokens send such dreadfull heraulds to astonish vs     cassi. he did receiue his letters and is comming and bid me say to you by word of mouth o caesar   ant. tut i am in their bosomes and i know wherefore they do it they could be content to visit other places and come downe with fearefull brauery thinking by this face to fasten in our thoughts that they haue courage but 'tis not so. caius ligarius doth beare caesar hard who rated him for speaking well of pompey i wonder none of you haue thought of him     bru. what watchfull cares doe interpose themselues betwixt your eyes and night?   cass. prythee listen well i heard a bussling rumor like a fray and the winde brings it from the capitoll     luc\""
      ]
     },
     "execution_count": 19,
     "metadata": {},
     "output_type": "execute_result"
    }
   ],
   "source": [
    "summary"
   ]
  },
  {
   "cell_type": "markdown",
   "id": "5ae02116-5898-42c8-92e1-19c560471829",
   "metadata": {},
   "source": [
    "## Resources\n",
    "- [1] https://en.wikipedia.org/wiki/PageRank\n",
    "- [2] https://en.wikipedia.org/wiki/Public_domain"
   ]
  },
  {
   "cell_type": "markdown",
   "id": "af0ede8b-7446-4184-9051-c409601d53fa",
   "metadata": {},
   "source": [
    "---"
   ]
  }
 ],
 "metadata": {
  "kernelspec": {
   "display_name": "Python 3",
   "language": "python",
   "name": "python3"
  },
  "language_info": {
   "codemirror_mode": {
    "name": "ipython",
    "version": 3
   },
   "file_extension": ".py",
   "mimetype": "text/x-python",
   "name": "python",
   "nbconvert_exporter": "python",
   "pygments_lexer": "ipython3",
   "version": "3.8.8"
  }
 },
 "nbformat": 4,
 "nbformat_minor": 5
}
