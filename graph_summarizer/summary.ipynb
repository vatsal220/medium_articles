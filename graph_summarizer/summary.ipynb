{
 "cells": [
  {
   "cell_type": "markdown",
   "id": "1f38f295-486a-4984-99e0-4b8bba882256",
   "metadata": {},
   "source": [
    "# Graph Summarizer"
   ]
  },
  {
   "cell_type": "code",
   "execution_count": 3,
   "id": "0cc14edd-c3ce-41c9-b482-caa85d1c2155",
   "metadata": {},
   "outputs": [],
   "source": [
    "import networkx as nx\n",
    "import random\n",
    "import numpy as np\n",
    "import nltk\n",
    "\n",
    "try:\n",
    "    from nltk.corpus import stopwords\n",
    "except:\n",
    "    import nltk\n",
    "    nltk.download('stopwords')\n",
    "finally:\n",
    "    from nltk.corpus import stopwords\n",
    "    \n",
    "try:\n",
    "    from nltk.corpus import stopwords\n",
    "except:\n",
    "    import nltk\n",
    "    nltk.download('stopwords')\n",
    "finally:\n",
    "    from nltk.corpus import stopwords"
   ]
  },
  {
   "cell_type": "markdown",
   "id": "1e0b0c21-6222-4c3d-a7da-afbf14200931",
   "metadata": {},
   "source": [
    "## Load Text"
   ]
  },
  {
   "cell_type": "code",
   "execution_count": 6,
   "id": "42d9fc23-fdf6-49ab-8c63-bfca3216e53c",
   "metadata": {},
   "outputs": [],
   "source": [
    "a = np.array([1,2,3])\n",
    "b = np.array([4,5,6])"
   ]
  },
  {
   "cell_type": "code",
   "execution_count": 8,
   "id": "77453e93-d1ec-4dae-9cf5-a1a3e56cb89c",
   "metadata": {},
   "outputs": [
    {
     "data": {
      "text/plain": [
       "array([[1, 2, 3],\n",
       "       [4, 5, 6]])"
      ]
     },
     "execution_count": 8,
     "metadata": {},
     "output_type": "execute_result"
    }
   ],
   "source": [
    "np.vstack([a,b])"
   ]
  },
  {
   "cell_type": "code",
   "execution_count": 2,
   "id": "b791148e-c174-4300-8809-409de62c6d99",
   "metadata": {},
   "outputs": [],
   "source": [
    "try:\n",
    "    book = [nltk.corpus.gutenberg.raw('carroll-alice.txt')]\n",
    "except:\n",
    "    nltk.download('gutenberg')\n",
    "finally:\n",
    "    book = [nltk.corpus.gutenberg.raw('carroll-alice.txt')]\n",
    "\n",
    "    \n",
    "\n",
    "\n",
    "\n",
    "text = '''\n",
    "Lorem ipsum dolor sit amet, consectetur adipiscing elit. In ut justo eget velit ullamcorper dignissim. Nullam lacinia pretium sapien, ut malesuada turpis vehicula eget. Sed venenatis, lectus a hendrerit bibendum, est nunc consequat ante, sit amet cursus risus ex eu augue. Phasellus tincidunt tempus tortor nec placerat. Proin faucibus, ante sed ornare semper, massa nibh ultricies mauris, non facilisis leo odio id felis. Vestibulum ante ipsum primis in faucibus orci luctus et ultrices posuere cubilia curae; Mauris tortor nibh, sagittis sed consequat eget, bibendum sed eros. Donec imperdiet neque et pretium commodo. Pellentesque vel consequat lorem. Nam eget dui nec odio semper dignissim.\n",
    "\n",
    "Maecenas vel leo eget risus molestie tincidunt ut non orci. Vestibulum luctus sit amet dui non maximus. Aliquam porttitor nibh ut nisl porttitor, vel ullamcorper quam ornare. Sed at lacus eros. Sed quam tortor, feugiat facilisis erat eu, lacinia ultricies tortor. Ut tincidunt diam non arcu condimentum tempus. Etiam ornare vitae odio porta fermentum. Aliquam vitae iaculis odio. Nulla vitae egestas diam, vel facilisis felis.\n",
    "\n",
    "Integer sagittis lorem libero. Praesent egestas, arcu sed tempor ultrices, ipsum sapien commodo sapien, in blandit neque orci at elit. Nullam venenatis eros sit amet mauris ultricies feugiat. Vestibulum in vehicula arcu, ut ornare dui. Mauris commodo placerat nisl, sit amet aliquet lorem tristique sed. Etiam ullamcorper vitae tortor at molestie. Phasellus euismod neque ut dui consectetur lacinia. Integer euismod sed tortor non facilisis. Praesent semper consequat sapien in condimentum. Nunc blandit hendrerit mollis.\n",
    "\n",
    "Donec quis commodo est, et tempus ante. Suspendisse vitae nisl dapibus, pulvinar eros at, varius nunc. Maecenas vitae metus eros. Proin at velit dolor. Cras velit orci, tristique quis lacus a, auctor viverra lectus. Etiam volutpat risus quis urna facilisis, ut scelerisque nisi auctor. Curabitur id libero vel tellus luctus finibus ut in tellus. Curabitur rutrum imperdiet metus, nec blandit justo rutrum vitae. Nam nec congue nisi, quis mattis mi. Praesent metus lacus, consequat placerat risus vitae, molestie consequat sem. Nam faucibus mauris ante, vel aliquet tortor commodo rhoncus. Donec quis odio faucibus, blandit ligula eu, pellentesque arcu. Ut scelerisque non neque eu auctor. Morbi non quam massa. Pellentesque habitant morbi tristique senectus et netus et malesuada fames ac turpis egestas. Donec ultrices nunc ante, sed consequat urna dictum vitae.\n",
    "\n",
    "Aliquam nec tellus purus. Integer tincidunt non mauris varius bibendum. Vestibulum sit amet varius libero, et pretium est. Curabitur lobortis tempor venenatis. In hac habitasse platea dictumst. Aenean consectetur hendrerit feugiat. Nulla facilisi. Mauris et velit neque. Pellentesque at suscipit est, vel varius purus. Donec vel sapien ac tellus vulputate pellentesque quis eu est. Curabitur maximus ante eu pharetra rutrum. Nulla efficitur orci dapibus sem hendrerit interdum.\n",
    "'''"
   ]
  },
  {
   "cell_type": "markdown",
   "id": "97fef574-7477-4f99-8628-9380d20bbdcf",
   "metadata": {},
   "source": [
    "## Clean Text"
   ]
  },
  {
   "cell_type": "code",
   "execution_count": null,
   "id": "305e8a80-7bde-4708-b820-6de14f578b8e",
   "metadata": {},
   "outputs": [],
   "source": [
    "def remove_stopwords()"
   ]
  },
  {
   "cell_type": "markdown",
   "id": "99cbd73e-02f9-4878-9ae5-42b3d26e3f19",
   "metadata": {},
   "source": [
    "## Create Network"
   ]
  },
  {
   "cell_type": "code",
   "execution_count": null,
   "id": "54dbaa13-cecc-4ed5-98d7-45fcde2e7c7a",
   "metadata": {},
   "outputs": [],
   "source": []
  },
  {
   "cell_type": "markdown",
   "id": "c2c2a246-ded4-4810-bcd5-1e107a79fd63",
   "metadata": {},
   "source": [
    "## Summarize"
   ]
  },
  {
   "cell_type": "code",
   "execution_count": null,
   "id": "690d6116-2e28-4cfb-a0a7-0279931989ed",
   "metadata": {},
   "outputs": [],
   "source": []
  },
  {
   "cell_type": "markdown",
   "id": "af0ede8b-7446-4184-9051-c409601d53fa",
   "metadata": {},
   "source": [
    "---"
   ]
  }
 ],
 "metadata": {
  "kernelspec": {
   "display_name": "Python 3",
   "language": "python",
   "name": "python3"
  },
  "language_info": {
   "codemirror_mode": {
    "name": "ipython",
    "version": 3
   },
   "file_extension": ".py",
   "mimetype": "text/x-python",
   "name": "python",
   "nbconvert_exporter": "python",
   "pygments_lexer": "ipython3",
   "version": "3.8.8"
  }
 },
 "nbformat": 4,
 "nbformat_minor": 5
}
