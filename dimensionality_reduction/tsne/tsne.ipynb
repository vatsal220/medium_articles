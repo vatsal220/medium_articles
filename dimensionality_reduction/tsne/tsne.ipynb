{
 "cells": [
  {
   "cell_type": "markdown",
   "id": "6d539ac9-8b09-4bab-a815-50599ef56e64",
   "metadata": {},
   "source": [
    "# t-Distributed Stochastic Neighbor Embedding (TSNE)"
   ]
  },
  {
   "cell_type": "code",
   "execution_count": 1,
   "id": "0576aad0-7889-4966-bd5c-c7d6e8d294b4",
   "metadata": {},
   "outputs": [],
   "source": [
    "import pandas as pd\n",
    "import numpy as np\n",
    "import matplotlib.pyplot as plt\n",
    "\n",
    "from sklearn.manifold import TSNE"
   ]
  },
  {
   "cell_type": "code",
   "execution_count": null,
   "id": "26aeb8e5-e177-41dd-ad0a-05dc4094560f",
   "metadata": {},
   "outputs": [],
   "source": [
    "# constants\n",
    "PATH = '../data/csv/'"
   ]
  },
  {
   "cell_type": "markdown",
   "id": "cafca6d5-7ebb-4cdd-bac9-c65fa86fe490",
   "metadata": {},
   "source": [
    "## Import Data"
   ]
  },
  {
   "cell_type": "code",
   "execution_count": null,
   "id": "0abf473b-0f86-4af8-a813-d843abfa91bf",
   "metadata": {},
   "outputs": [],
   "source": []
  },
  {
   "cell_type": "code",
   "execution_count": null,
   "id": "667af077-8d88-474d-aab3-f410ad6e14cc",
   "metadata": {},
   "outputs": [],
   "source": []
  },
  {
   "cell_type": "markdown",
   "id": "c37baefb-1eac-4578-b90f-822f988c5358",
   "metadata": {},
   "source": [
    "## Preprocess Data"
   ]
  },
  {
   "cell_type": "code",
   "execution_count": null,
   "id": "03e00b46-bc58-42dd-8a5e-a670fc45c87d",
   "metadata": {},
   "outputs": [],
   "source": []
  },
  {
   "cell_type": "code",
   "execution_count": null,
   "id": "df9f70db-7805-4d65-aaa0-d4c25ee28d97",
   "metadata": {},
   "outputs": [],
   "source": []
  },
  {
   "cell_type": "markdown",
   "id": "bf38248f-12d6-4c59-b87b-d14de1278e0d",
   "metadata": {},
   "source": [
    "## Dimensionality Reduction"
   ]
  },
  {
   "cell_type": "code",
   "execution_count": null,
   "id": "0b4d8768-df2e-41cb-9875-acbac83409ed",
   "metadata": {},
   "outputs": [],
   "source": []
  },
  {
   "cell_type": "code",
   "execution_count": null,
   "id": "d4da19ba-5190-4709-9db5-2a8ca1538bfe",
   "metadata": {},
   "outputs": [],
   "source": []
  },
  {
   "cell_type": "markdown",
   "id": "087134c5-3faf-4b9a-857d-ad757edaf037",
   "metadata": {},
   "source": [
    "## Visualize"
   ]
  },
  {
   "cell_type": "code",
   "execution_count": null,
   "id": "6823fda2-d954-44bc-98c3-e18650edf74f",
   "metadata": {},
   "outputs": [],
   "source": []
  }
 ],
 "metadata": {
  "kernelspec": {
   "display_name": "Python 3",
   "language": "python",
   "name": "python3"
  },
  "language_info": {
   "codemirror_mode": {
    "name": "ipython",
    "version": 3
   },
   "file_extension": ".py",
   "mimetype": "text/x-python",
   "name": "python",
   "nbconvert_exporter": "python",
   "pygments_lexer": "ipython3",
   "version": "3.8.8"
  }
 },
 "nbformat": 4,
 "nbformat_minor": 5
}
