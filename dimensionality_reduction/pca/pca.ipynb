{
 "cells": [
  {
   "cell_type": "markdown",
   "id": "ad618f11-1c6a-4170-9142-3ab079692fca",
   "metadata": {},
   "source": [
    "# Principle Component Analysis (PCA)"
   ]
  },
  {
   "cell_type": "code",
   "execution_count": 1,
   "id": "834080af-7322-4039-867f-2af9974ae212",
   "metadata": {},
   "outputs": [],
   "source": [
    "import pandas as pd\n",
    "import numpy as np\n",
    "import matplotlib.pyplot as plt\n",
    "\n",
    "from sklearn.decomposition import PCA"
   ]
  },
  {
   "cell_type": "code",
   "execution_count": null,
   "id": "0fa32934-a6b4-4d62-95f4-7825aea63479",
   "metadata": {},
   "outputs": [],
   "source": [
    "# constants\n",
    "PATH = '../data/csv/'"
   ]
  },
  {
   "cell_type": "markdown",
   "id": "3e09bcfe-99ee-4cb2-b7ce-0895d364e907",
   "metadata": {},
   "source": [
    "## Import Data"
   ]
  },
  {
   "cell_type": "code",
   "execution_count": null,
   "id": "c007266c-3ca5-464e-9f0c-87347d5f8492",
   "metadata": {},
   "outputs": [],
   "source": []
  },
  {
   "cell_type": "code",
   "execution_count": null,
   "id": "de79380e-e06e-42c2-bd32-1e144373c616",
   "metadata": {},
   "outputs": [],
   "source": []
  },
  {
   "cell_type": "markdown",
   "id": "bf63d7b1-002a-428f-8fe6-efc41d6f6102",
   "metadata": {},
   "source": [
    "## Preprocess Data"
   ]
  },
  {
   "cell_type": "code",
   "execution_count": null,
   "id": "476a7fce-0a2b-4dd8-9c49-6d7ecc583d44",
   "metadata": {},
   "outputs": [],
   "source": []
  },
  {
   "cell_type": "code",
   "execution_count": null,
   "id": "ba5241fa-ec2c-4bd2-a102-1bc51ba62f0f",
   "metadata": {},
   "outputs": [],
   "source": []
  },
  {
   "cell_type": "markdown",
   "id": "611ebba6-501d-4718-a373-674a05dbc0d9",
   "metadata": {},
   "source": [
    "## Dimensionality Reduction"
   ]
  },
  {
   "cell_type": "code",
   "execution_count": null,
   "id": "0d4fd69e-7617-4205-adea-714caad21860",
   "metadata": {},
   "outputs": [],
   "source": []
  },
  {
   "cell_type": "code",
   "execution_count": null,
   "id": "5bbea5cb-5c89-48f1-bd33-e05d2ff21f04",
   "metadata": {},
   "outputs": [],
   "source": []
  },
  {
   "cell_type": "markdown",
   "id": "1733a582-e1d8-4b87-a68d-39bbb4e6e1cf",
   "metadata": {},
   "source": [
    "## Visualize"
   ]
  },
  {
   "cell_type": "code",
   "execution_count": null,
   "id": "b52a5c56-1fe0-47a1-bef1-be69d022b5a9",
   "metadata": {},
   "outputs": [],
   "source": []
  }
 ],
 "metadata": {
  "kernelspec": {
   "display_name": "Python 3",
   "language": "python",
   "name": "python3"
  },
  "language_info": {
   "codemirror_mode": {
    "name": "ipython",
    "version": 3
   },
   "file_extension": ".py",
   "mimetype": "text/x-python",
   "name": "python",
   "nbconvert_exporter": "python",
   "pygments_lexer": "ipython3",
   "version": "3.8.8"
  }
 },
 "nbformat": 4,
 "nbformat_minor": 5
}
